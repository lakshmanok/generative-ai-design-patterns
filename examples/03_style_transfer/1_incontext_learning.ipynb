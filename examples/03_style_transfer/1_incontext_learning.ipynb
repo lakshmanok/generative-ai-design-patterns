{
 "cells": [
  {
   "cell_type": "markdown",
   "metadata": {},
   "source": [
    "## In-context Learning Examples"
   ]
  },
  {
   "cell_type": "code",
   "execution_count": 1,
   "metadata": {},
   "outputs": [],
   "source": [
    "# pip install --upgrade --quiet  openai python-dotenv"
   ]
  },
  {
   "cell_type": "code",
   "execution_count": 2,
   "metadata": {},
   "outputs": [],
   "source": [
    "import os\n",
    "from dotenv import load_dotenv\n",
    "from openai import OpenAI\n",
    "\n",
    "\n",
    "load_dotenv(\"../keys.env\")\n",
    "\n",
    "assert os.environ[\"OPENAI_API_KEY\"][:2] == \"sk\", \"Please sign up for access to the OpenAI API and provide access token in keys.env file\"\n",
    "\n",
    "# Initialize the OpenAI client\n",
    "client = OpenAI(\n",
    "    api_key=os.environ[\"OPENAI_API_KEY\"]\n",
    ")"
   ]
  },
  {
   "cell_type": "markdown",
   "metadata": {},
   "source": [
    "## Example: In-context Learning with Few-shot Examples for Styling Text"
   ]
  },
  {
   "cell_type": "code",
   "execution_count": 3,
   "metadata": {},
   "outputs": [
    {
     "name": "stdout",
     "output_type": "stream",
     "text": [
      "Social Media Style Examples:\n",
      "Input: The sunset was beautiful this evening.\n",
      "Styled output: That sunset tho 😍🌅 Pure magic in the sky tonight! #naturelover #sunsetvibes\n",
      "--------------------------------------------------\n",
      "Input: I just finished reading a great book.\n",
      "Styled output: Just finished this book and WOW 📚🤯 Literally couldn't put it down, highly recommend! #bookworm #readingislife\n",
      "--------------------------------------------------\n",
      "Input: Our team won the championship game yesterday.\n",
      "Styled output: We killed it in the championship game! 🏆🔥 So proud of the squad, we're unstoppable! #winning #teamwork\n",
      "--------------------------------------------------\n",
      "Input: The waiter was rude but the food was amazing.\n",
      "Styled output: Ugh, the waiter was a mood killer but the food? To die for! 🤤🍴Definitely coming back for more #foodie #yum\n",
      "--------------------------------------------------\n"
     ]
    }
   ],
   "source": [
    "# Example of in-context learning\n",
    "def generate_styled_text(input_text: str) -> str:\n",
    "    SOCIAL_MEDIA_EXAMPLES = [\n",
    "    {\n",
    "        'input_text': \"The movie was fantastic!\",\n",
    "        \"output\": \"OMG the camera work was everything! The lighting was so mood, I can't even 😍\",\n",
    "    },\n",
    "    {\n",
    "        'input_text': \"I enjoyed the concert last night.\",\n",
    "        \"output\": \"Last night's concert was FIRE 🔥🔥 Totally vibing to those beats! #blessed #musicislife\",\n",
    "    },\n",
    "    {\n",
    "        'input_text': \"The new restaurant has great food.\",\n",
    "        \"output\": \"This new spot is GOALS 😋 The food? I'm obsessed! Straight up food porn for your feed #foodie #noms\",\n",
    "    },\n",
    "    {\n",
    "        'input_text': \"The hiking trail was beautiful and peaceful.\",\n",
    "        \"output\": \"Just crushed this epic trail! 🏞️ Views for dayssss! Nature therapy is SO underrated #adventure #nofilter\",\n",
    "    }\n",
    "    ]\n",
    "\n",
    "    # Format examples into a prompt\n",
    "    prompt = \"Convert the following text into social media styled text:\\n\\n\"\n",
    "\n",
    "    for in_context_example in SOCIAL_MEDIA_EXAMPLES:\n",
    "        prompt += f\"\"\"\n",
    "        Input: {in_context_example['input_text']}\n",
    "        Output: {in_context_example['output']}\n",
    "        \"\"\"\n",
    "\n",
    "    # Add the new text to convert\n",
    "    prompt += f\"\"\"\n",
    "    Input: {input_text}\n",
    "    Output:\"\"\"\n",
    "\n",
    "    # Make API call\n",
    "    response = client.chat.completions.create(\n",
    "        model=\"gpt-3.5-turbo\",\n",
    "        messages=[\n",
    "            {\"role\": \"user\", \"content\": prompt}\n",
    "        ],\n",
    "        temperature=0.7\n",
    "    )\n",
    "\n",
    "    return response.choices[0].message.content\n",
    "\n",
    "# Example usage with a negative style\n",
    "examples = [\n",
    "    \"The sunset was beautiful this evening.\",\n",
    "    \"I just finished reading a great book.\",\n",
    "    \"Our team won the championship game yesterday.\",\n",
    "    \"The waiter was rude but the food was amazing.\"\n",
    "]\n",
    "\n",
    "print(\"Social Media Style Examples:\")\n",
    "for example in examples:\n",
    "    result = generate_styled_text(example)\n",
    "    print(f\"Input: {example}\")\n",
    "    print(f\"Styled output: {result}\")\n",
    "    print(\"-\" * 50)"
   ]
  }
 ],
 "metadata": {
  "kernelspec": {
   "display_name": ".venv",
   "language": "python",
   "name": "python3"
  },
  "language_info": {
   "codemirror_mode": {
    "name": "ipython",
    "version": 3
   },
   "file_extension": ".py",
   "mimetype": "text/x-python",
   "name": "python",
   "nbconvert_exporter": "python",
   "pygments_lexer": "ipython3",
   "version": "3.10.16"
  }
 },
 "nbformat": 4,
 "nbformat_minor": 2
}
