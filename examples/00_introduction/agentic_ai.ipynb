{
 "cells": [
  {
   "cell_type": "markdown",
   "id": "00a2db13-fb78-453a-b9e6-75e3c568e453",
   "metadata": {},
   "source": [
    "# Agentic AI\n",
    "\n",
    "code snippets from this section"
   ]
  },
  {
   "cell_type": "code",
   "execution_count": 2,
   "id": "0264c136-dd55-457e-96a2-6df0c26f7a08",
   "metadata": {
    "tags": []
   },
   "outputs": [
    {
     "name": "stdout",
     "output_type": "stream",
     "text": [
      "Note: you may need to restart the kernel to use updated packages.\n"
     ]
    }
   ],
   "source": [
    "#%pip install --upgrade --quiet pydantic-ai-slim[anthropic] anthropic"
   ]
  },
  {
   "cell_type": "code",
   "execution_count": 1,
   "id": "28fb9619-572b-4c6e-8f64-3c0252075834",
   "metadata": {
    "tags": []
   },
   "outputs": [],
   "source": [
    "import os\n",
    "from dotenv import load_dotenv\n",
    "load_dotenv(\"../keys.env\")\n",
    "\n",
    "MODEL_ID=\"claude-3-7-sonnet-latest\"\n",
    "assert os.environ[\"ANTHROPIC_API_KEY\"][:2] == \"sk\",\\\n",
    "       \"Please specify the ANTHROPIC_API_KEY access token in keys.env file\""
   ]
  },
  {
   "cell_type": "code",
   "execution_count": 2,
   "id": "e2e332a8-4286-46e1-aa81-5aea7d9fc584",
   "metadata": {
    "tags": []
   },
   "outputs": [],
   "source": [
    "# Needed in Jupyter environment See: https://ai.pydantic.dev/troubleshooting/ \n",
    "import nest_asyncio\n",
    "nest_asyncio.apply()"
   ]
  },
  {
   "cell_type": "markdown",
   "id": "7877e492-cafa-44df-9ea6-3f3ae0a942e7",
   "metadata": {
    "tags": []
   },
   "source": [
    "## PydanticAI"
   ]
  },
  {
   "cell_type": "code",
   "execution_count": 4,
   "id": "8dbf0300-98b5-4781-aaca-74968f3d99c4",
   "metadata": {
    "tags": []
   },
   "outputs": [],
   "source": [
    "from dataclasses import dataclass\n",
    "\n",
    "@dataclass\n",
    "class InventoryItem:\n",
    "    name: str\n",
    "    quantity_on_hand: int\n",
    "    weekly_quantity_sold_past_n_weeks: [int]\n",
    "    weeks_to_deliver: int\n",
    "\n",
    "@dataclass\n",
    "class Reorder:\n",
    "    name: str\n",
    "    quantity_to_order: int\n",
    "    reason_to_reorder: str\n",
    "\n",
    "items = [\n",
    "    InventoryItem(\"itemA\", 300, [50, 70, 80, 100], 2),\n",
    "    InventoryItem(\"itemB\", 100, [70, 80, 90, 70], 2),\n",
    "    InventoryItem(\"itemC\", 200, [80, 70, 90, 80], 1)\n",
    "]"
   ]
  },
  {
   "cell_type": "code",
   "execution_count": 9,
   "id": "bc258cb2-4660-4e63-aa43-0ffb30c6d3a5",
   "metadata": {
    "tags": []
   },
   "outputs": [
    {
     "name": "stdout",
     "output_type": "stream",
     "text": [
      "[Reorder(name='itemB', quantity_to_order=300, reason_to_reorder='Current stock (100) is insufficient to cover projected demand over delivery time. Based on recent weekly sales (70-90 units), we need to order enough to cover the 2-week delivery period plus maintain safety stock.'), Reorder(name='itemC', quantity_to_order=100, reason_to_reorder='Current stock (200) is adequate for immediate needs, but with 1-week delivery time and recent weekly sales of 70-90 units, we should place a moderate order to maintain optimal inventory levels.')]\n"
     ]
    }
   ],
   "source": [
    "from pydantic_ai import Agent\n",
    "\n",
    "agent = Agent(f\"anthropic:{MODEL_ID}\",\n",
    "              system_prompt=\"You are an inventory manager who orders just in time.\",\n",
    "             result_type=list[Reorder])\n",
    "\n",
    "result = agent.run_sync(f\"\"\"\n",
    "Identify which of these items need to be reordered this week.\n",
    "\n",
    "**Items**\n",
    "{items}\n",
    "\"\"\")\n",
    "print(result.data)"
   ]
  },
  {
   "cell_type": "markdown",
   "id": "18d05fb0-2020-49b3-808b-3d771ef4b8c9",
   "metadata": {},
   "source": []
  }
 ],
 "metadata": {
  "environment": {
   "kernel": "conda-base-py",
   "name": "workbench-notebooks.m126",
   "type": "gcloud",
   "uri": "us-docker.pkg.dev/deeplearning-platform-release/gcr.io/workbench-notebooks:m126"
  },
  "kernelspec": {
   "display_name": "Python 3 (ipykernel) (Local)",
   "language": "python",
   "name": "conda-base-py"
  },
  "language_info": {
   "codemirror_mode": {
    "name": "ipython",
    "version": 3
   },
   "file_extension": ".py",
   "mimetype": "text/x-python",
   "name": "python",
   "nbconvert_exporter": "python",
   "pygments_lexer": "ipython3",
   "version": "3.10.15"
  }
 },
 "nbformat": 4,
 "nbformat_minor": 5
}
