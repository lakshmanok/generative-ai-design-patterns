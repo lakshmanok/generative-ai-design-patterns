{
 "cells": [
  {
   "cell_type": "markdown",
   "id": "00a2db13-fb78-453a-b9e6-75e3c568e453",
   "metadata": {},
   "source": [
    "# Prompt Engineering\n",
    "\n",
    "code snippets from this section"
   ]
  },
  {
   "cell_type": "code",
   "execution_count": 1,
   "id": "0264c136-dd55-457e-96a2-6df0c26f7a08",
   "metadata": {
    "tags": []
   },
   "outputs": [],
   "source": [
    "#%pip install --upgrade --quiet pydantic-ai-slim\n",
    "#%pip install google-genai"
   ]
  },
  {
   "cell_type": "code",
   "execution_count": null,
   "id": "28fb9619-572b-4c6e-8f64-3c0252075834",
   "metadata": {
    "tags": []
   },
   "outputs": [],
   "source": [
    "MODEL_ID=\"gemini-2.0-flash\"\n",
    "\n",
    "import os\n",
    "from dotenv import load_dotenv\n",
    "load_dotenv(\"../keys.env\")\n",
    "assert os.environ[\"GEMINI_API_KEY\"][:2] == \"AI\",\\\n",
    "       \"Please specify the GEMINI_API_KEY access token in keys.env file\""
   ]
  },
  {
   "cell_type": "code",
   "execution_count": 3,
   "id": "3ef18244-ec11-4c74-a42c-ff1f07d6ff83",
   "metadata": {
    "tags": []
   },
   "outputs": [],
   "source": [
    "# Needed in Jupyter environment See: https://ai.pydantic.dev/troubleshooting/\n",
    "import nest_asyncio\n",
    "nest_asyncio.apply()"
   ]
  },
  {
   "cell_type": "markdown",
   "id": "aeff092c-2f0f-4ff7-9e09-4adf4df257ae",
   "metadata": {},
   "source": [
    "## zero-shot"
   ]
  },
  {
   "cell_type": "code",
   "execution_count": 4,
   "id": "6bc0a05f-9f4b-4736-a6c9-c7b1d4aa8d60",
   "metadata": {
    "tags": []
   },
   "outputs": [
    {
     "name": "stdout",
     "output_type": "stream",
     "text": [
      "In \"Impression, Sunrise,\" Monet uses light to capture the fleeting moment of dawn, prioritizing the *impression* of light and atmosphere over precise details. The hazy, indistinct forms and vibrant reflections on the water showcase the Impressionist focus on the subjective experience of light and color, rather than a realistic depiction of the scene. This emphasis on capturing the ephemeral qualities of light became a hallmark of the Impressionist movement.\n",
      "\n"
     ]
    }
   ],
   "source": [
    "from pydantic_ai import Agent\n",
    "\n",
    "agent = Agent(MODEL_ID,\n",
    "              system_prompt=\"You are an expert on art history. Respond in 1-3 sentences.\")\n",
    "\n",
    "result = agent.run_sync(\"\"\"\n",
    "Analyze the use of light in Claude Monet's \"Impression, Sunrise\" and explain how it exemplifies impressionist techniques.\n",
    "\"\"\")\n",
    "print(result.output)"
   ]
  },
  {
   "cell_type": "markdown",
   "id": "e18e5579-8162-4132-b168-34aadd128707",
   "metadata": {},
   "source": [
    "## few-shot"
   ]
  },
  {
   "cell_type": "code",
   "execution_count": 5,
   "id": "bed11b2d-19c5-4321-862e-1410f9af9498",
   "metadata": {
    "tags": []
   },
   "outputs": [
    {
     "name": "stdout",
     "output_type": "stream",
     "text": [
      "```\n",
      "Painting: Luncheon of the Boating Party\n",
      "Artist: Pierre-Auguste Renoir\n",
      "Year: 1881\n",
      "Significance: Captures a joyful social gathering of Renoir's friends at the Maison Fournaise restaurant in Chatou, France; exemplifies Impressionism through its vibrant colors, depiction of light and atmosphere, and focus on leisure and modern life.\n",
      "```\n",
      "\n"
     ]
    }
   ],
   "source": [
    "agent = Agent(MODEL_ID,\n",
    "              system_prompt=\"You are an expert on art history. I will describe a painting. You should identify it\")\n",
    "\n",
    "result = agent.run_sync(\"\"\"\n",
    "Example:\n",
    "```\n",
    "Description: shows two small rowboats in the foreground and a red Sun.\n",
    "Answer:\n",
    "   Painting: Impression, Sunrise\n",
    "   Artist: Claude Monet\n",
    "   Year: 1872\n",
    "   Significance: Gave the Impressionist movement its name; captured the fleeting effects of light and atmosphere, with loose brushstrokes.\n",
    "```\n",
    "\n",
    "Description: The painting shows a group of people eating at a table under an outside tent. The men are wearing boating hats.\n",
    "\"\"\")\n",
    "print(result.output)"
   ]
  },
  {
   "cell_type": "code",
   "execution_count": null,
   "id": "042eb45e-05e4-47c5-a5b1-dd5f5ddef733",
   "metadata": {},
   "outputs": [],
   "source": []
  }
 ],
 "metadata": {
  "environment": {
   "kernel": "conda-base-py",
   "name": "workbench-notebooks.m126",
   "type": "gcloud",
   "uri": "us-docker.pkg.dev/deeplearning-platform-release/gcr.io/workbench-notebooks:m126"
  },
  "kernelspec": {
   "display_name": ".venv",
   "language": "python",
   "name": "python3"
  },
  "language_info": {
   "codemirror_mode": {
    "name": "ipython",
    "version": 3
   },
   "file_extension": ".py",
   "mimetype": "text/x-python",
   "name": "python",
   "nbconvert_exporter": "python",
   "pygments_lexer": "ipython3",
   "version": "3.10.16"
  }
 },
 "nbformat": 4,
 "nbformat_minor": 5
}
