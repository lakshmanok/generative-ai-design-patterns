{
 "cells": [
  {
   "cell_type": "markdown",
   "id": "19f4b00e-59c2-4496-a0e5-cd10dff0f0eb",
   "metadata": {},
   "source": [
    "## Using structured outputs\n",
    "\n",
    "Gemnini supports pydantic."
   ]
  },
  {
   "cell_type": "code",
   "execution_count": 1,
   "id": "41664a72-3e67-4e57-9e6d-2a01ed7ed8bb",
   "metadata": {},
   "outputs": [],
   "source": [
    "#%pip install --upgrade --quiet pydantic-ai"
   ]
  },
  {
   "cell_type": "code",
   "execution_count": 2,
   "id": "c7f1dd82-e54b-4ce4-aeba-37ac0d0a91ec",
   "metadata": {
    "tags": []
   },
   "outputs": [],
   "source": [
    "# Needed in Jupyter environment See: https://ai.pydantic.dev/troubleshooting/ \n",
    "import nest_asyncio\n",
    "\n",
    "nest_asyncio.apply()"
   ]
  },
  {
   "cell_type": "code",
   "execution_count": 3,
   "id": "b078983c-cda3-46d0-8438-d284bc017b3c",
   "metadata": {
    "tags": []
   },
   "outputs": [],
   "source": [
    "MODEL_ID = \"gemini-1.5-flash\"\n",
    "\n",
    "import os\n",
    "from dotenv import load_dotenv\n",
    "load_dotenv(\"../keys.env\")\n",
    "assert os.environ[\"GEMINI_API_KEY\"][:2] == \"AI\",\\\n",
    "       \"Please specify the GEMINI_API_KEY access token in keys.env file\""
   ]
  },
  {
   "cell_type": "code",
   "execution_count": 4,
   "id": "3fe3f67b-bee2-4e41-95ef-56a6c353a48c",
   "metadata": {
    "tags": []
   },
   "outputs": [],
   "source": [
    "import pydantic_ai\n",
    "from pydantic_ai.models.gemini import GeminiModel\n",
    "\n",
    "model = GeminiModel(MODEL_ID, api_key=os.getenv('GEMINI_API_KEY'))"
   ]
  },
  {
   "cell_type": "markdown",
   "id": "c7717ded-01ba-4fa2-b1c4-44b342cc0ab6",
   "metadata": {},
   "source": [
    "## Structured data generation\n",
    "\n",
    "Specifying the structure of the data we want"
   ]
  },
  {
   "cell_type": "code",
   "execution_count": 5,
   "id": "2791b58d-259f-4e09-9d50-816b7213def3",
   "metadata": {
    "tags": []
   },
   "outputs": [],
   "source": [
    "from dataclasses import dataclass\n",
    "from enum import Enum\n",
    "\n",
    "class CurrencyEnum(str, Enum):\n",
    "    USD = 'USD'\n",
    "    UKP = 'UKP'\n",
    "    INR = 'INR'\n",
    "    EUR = 'EUR'\n",
    "\n",
    "@dataclass\n",
    "class Invoice:\n",
    "    purpose: str\n",
    "    amount: float\n",
    "    currency: CurrencyEnum = CurrencyEnum.USD"
   ]
  },
  {
   "cell_type": "code",
   "execution_count": 6,
   "id": "b99c70f1-9468-440a-a6be-7910edd9ad41",
   "metadata": {},
   "outputs": [
    {
     "name": "stdout",
     "output_type": "stream",
     "text": [
      "Invoice(purpose='taxi-ride to airport', amount=32.3, currency=<CurrencyEnum.USD: 'USD'>)\n"
     ]
    }
   ],
   "source": [
    "from pydantic_ai import Agent\n",
    "\n",
    "def parse_invoice_info(paragraph: str) -> str:\n",
    "    system_prompt = \"\"\"\n",
    "    You will be given a short snippet from an email that represents an invoice.\n",
    "    Extract the purpose and amount of the invoice.\n",
    "    \"\"\"\n",
    "    \n",
    "    agent = Agent(model,\n",
    "                  result_type=Invoice,\n",
    "                  system_prompt=system_prompt)\n",
    "\n",
    "    response = agent.run_sync(paragraph)\n",
    "    return response.data\n",
    "\n",
    "result = parse_invoice_info(\"\"\"\n",
    "Requesting reimbursement for taxi-ride to airport. I paid $32.30.\n",
    "\"\"\")\n",
    "print(result)"
   ]
  },
  {
   "cell_type": "code",
   "execution_count": 7,
   "id": "c5c44151-f150-403d-92d2-d71b65231b64",
   "metadata": {
    "tags": []
   },
   "outputs": [
    {
     "name": "stdout",
     "output_type": "stream",
     "text": [
      "Invoice(purpose='entertaining French clients', amount=43.0, currency=<CurrencyEnum.EUR: 'EUR'>)\n"
     ]
    }
   ],
   "source": [
    "result = parse_invoice_info(\"\"\"\n",
    "I spent €43 entertaining our French clients.\n",
    "\"\"\")\n",
    "print(result)"
   ]
  },
  {
   "cell_type": "code",
   "execution_count": 8,
   "id": "f34f73e1-a6f3-4e08-9aae-e43fdb00366c",
   "metadata": {
    "tags": []
   },
   "outputs": [
    {
     "name": "stdout",
     "output_type": "stream",
     "text": [
      "Invoice(purpose='Dinner at the airport', amount=820.0, currency=<CurrencyEnum.INR: 'INR'>)\n"
     ]
    }
   ],
   "source": [
    "result = parse_invoice_info(\"\"\"\n",
    "My dinner at the airport cost ₹820\n",
    "\"\"\")\n",
    "print(result)"
   ]
  },
  {
   "cell_type": "code",
   "execution_count": null,
   "id": "a28fef20-b4c3-4948-88fa-62c62b6557e6",
   "metadata": {},
   "outputs": [],
   "source": []
  }
 ],
 "metadata": {
  "environment": {
   "kernel": "conda-base-py",
   "name": "workbench-notebooks.m126",
   "type": "gcloud",
   "uri": "us-docker.pkg.dev/deeplearning-platform-release/gcr.io/workbench-notebooks:m126"
  },
  "kernelspec": {
   "display_name": "Python 3 (ipykernel) (Local)",
   "language": "python",
   "name": "conda-base-py"
  },
  "language_info": {
   "codemirror_mode": {
    "name": "ipython",
    "version": 3
   },
   "file_extension": ".py",
   "mimetype": "text/x-python",
   "name": "python",
   "nbconvert_exporter": "python",
   "pygments_lexer": "ipython3",
   "version": "3.10.15"
  }
 },
 "nbformat": 4,
 "nbformat_minor": 5
}
