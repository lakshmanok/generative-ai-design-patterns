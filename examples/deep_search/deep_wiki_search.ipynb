{
  "nbformat": 4,
  "nbformat_minor": 0,
  "metadata": {
    "colab": {
      "provenance": []
    },
    "kernelspec": {
      "name": "python3",
      "display_name": "Python 3"
    },
    "language_info": {
      "name": "python"
    }
  },
  "cells": [
    {
      "cell_type": "markdown",
      "source": [
        "# Deep Search of Wikipedia\n",
        "\n",
        "Given a query, this notebook shows how to carry out deep search of Wikipedia"
      ],
      "metadata": {
        "id": "nR65zZcluP8u"
      }
    },
    {
      "cell_type": "code",
      "source": [
        "#!pip install --quiet pydantic_ai wikipedia"
      ],
      "metadata": {
        "id": "sm50KRA2VtZA"
      },
      "execution_count": 2,
      "outputs": []
    },
    {
      "cell_type": "code",
      "execution_count": 1,
      "metadata": {
        "id": "wT7YYnlCT9ww"
      },
      "outputs": [],
      "source": [
        "import os\n",
        "MODEL_ID = \"gemini-2.0-flash\"\n",
        "import os\n",
        "from dotenv import load_dotenv\n",
        "load_dotenv(\"../keys.env\")\n",
        "assert os.environ[\"GEMINI_API_KEY\"][:2] == \"AI\",\\\n",
        "       \"Please specify the GEMINI_API_KEY access token in keys.env file\""
      ]
    },
    {
      "cell_type": "code",
      "source": [
        "from pydantic_ai import Agent"
      ],
      "metadata": {
        "id": "Bsriin-jVoG3"
      },
      "execution_count": 3,
      "outputs": []
    },
    {
      "cell_type": "code",
      "source": [
        "from dataclasses import dataclass\n",
        "@dataclass\n",
        "class WikipediaPage:\n",
        "  title: str\n",
        "  url: str\n",
        "  relevant_text: str = None"
      ],
      "metadata": {
        "id": "wJOpVzjdUVij"
      },
      "execution_count": 4,
      "outputs": []
    },
    {
      "cell_type": "code",
      "source": [
        "# prompt: write code to search wikipedia for a topic and return titles and urls of the pages found\n",
        "def search_wikipedia(query: str):\n",
        "  import wikipedia\n",
        "  wikipedia.set_lang(\"en\")\n",
        "  results = wikipedia.search(query)\n",
        "  pages = []\n",
        "  for title in results:\n",
        "    try:\n",
        "      page = wikipedia.page(title)\n",
        "      pages.append(WikipediaPage(title=page.title,\n",
        "                                 url=page.url))\n",
        "    except wikipedia.exceptions.DisambiguationError as e:\n",
        "      print(f\"Disambiguation error for '{title}': {e}\")\n",
        "      # Handle disambiguation, e.g., choose the first option or skip\n",
        "      # Here, we're skipping the disambiguation pages\n",
        "      continue\n",
        "    except wikipedia.exceptions.PageError:\n",
        "      print(f\"Page not found for '{title}'\")\n",
        "      continue\n",
        "  return pages\n",
        "\n",
        "# Example usage\n",
        "query = \"What were the causes of the Liberian civil war?\"\n",
        "pages = search_wikipedia(query)\n",
        "pages\n"
      ],
      "metadata": {
        "colab": {
          "base_uri": "https://localhost:8080/"
        },
        "id": "j4K0wF2fU059",
        "outputId": "575fdf96-aba2-4361-ae2a-508cd82029c6"
      },
      "execution_count": 5,
      "outputs": [
        {
          "output_type": "stream",
          "name": "stdout",
          "text": [
            "Page not found for 'Burundian Civil War'\n"
          ]
        },
        {
          "output_type": "execute_result",
          "data": {
            "text/plain": [
              "[WikipediaPage(title='First Liberian Civil War', url='https://en.wikipedia.org/wiki/First_Liberian_Civil_War', relevant_text=None),\n",
              " WikipediaPage(title='Liberians United for Reconciliation and Democracy', url='https://en.wikipedia.org/wiki/Liberians_United_for_Reconciliation_and_Democracy', relevant_text=None),\n",
              " WikipediaPage(title='Americo-Liberian people', url='https://en.wikipedia.org/wiki/Americo-Liberian_people', relevant_text=None),\n",
              " WikipediaPage(title='History of Liberia', url='https://en.wikipedia.org/wiki/History_of_Liberia', relevant_text=None),\n",
              " WikipediaPage(title='List of war crimes', url='https://en.wikipedia.org/wiki/List_of_war_crimes', relevant_text=None),\n",
              " WikipediaPage(title='Timeline of events leading to the American Civil War', url='https://en.wikipedia.org/wiki/Timeline_of_events_leading_to_the_American_Civil_War', relevant_text=None),\n",
              " WikipediaPage(title='World War I', url='https://en.wikipedia.org/wiki/World_War_I', relevant_text=None),\n",
              " WikipediaPage(title='Krahn people', url='https://en.wikipedia.org/wiki/Krahn_people', relevant_text=None),\n",
              " WikipediaPage(title='Causes of World War I', url='https://en.wikipedia.org/wiki/Causes_of_World_War_I', relevant_text=None)]"
            ]
          },
          "metadata": {},
          "execution_count": 5
        }
      ]
    },
    {
      "cell_type": "code",
      "source": [
        "import nest_asyncio\n",
        "nest_asyncio.apply()\n",
        "\n",
        "def rank_pages(query: str, pages: list[WikipediaPage]) -> list[WikipediaPage]:\n",
        "  agent = Agent(model=MODEL_ID, result_type=list[WikipediaPage])\n",
        "  prompt = f\"\"\"Rank these Wikipedia pages by relevance to the query: \"{query}\".\n",
        "  Pages: {pages}\"\"\"\n",
        "  response = agent.run_sync(prompt)\n",
        "  return response.data\n",
        "\n",
        "# Example usage\n",
        "ranked_pages = rank_pages(query, pages)[:3] # top 3\n",
        "ranked_pages"
      ],
      "metadata": {
        "colab": {
          "base_uri": "https://localhost:8080/"
        },
        "id": "_XOJdbu3WcQ3",
        "outputId": "5f0f420b-4482-40d3-8f73-f2683f836729"
      },
      "execution_count": 6,
      "outputs": [
        {
          "output_type": "execute_result",
          "data": {
            "text/plain": [
              "[WikipediaPage(title='First Liberian Civil War', url='https://en.wikipedia.org/wiki/First_Liberian_Civil_War', relevant_text=None),\n",
              " WikipediaPage(title='History of Liberia', url='https://en.wikipedia.org/wiki/History_of_Liberia', relevant_text=None),\n",
              " WikipediaPage(title='Americo-Liberian people', url='https://en.wikipedia.org/wiki/Americo-Liberian_people', relevant_text=None)]"
            ]
          },
          "metadata": {},
          "execution_count": 6
        }
      ]
    },
    {
      "cell_type": "code",
      "source": [
        "def add_relevant_text(query: str, page: WikipediaPage):\n",
        "  agent = Agent(model=MODEL_ID, result_type=str)\n",
        "  prompt = f\"\"\"\n",
        "  Read {page.url} and extract the text relevant to the following query.\n",
        "  Return only the relevant text without any preamble.\n",
        "  {query}\n",
        "  \"\"\"\n",
        "  response = agent.run_sync(prompt)\n",
        "  page.relevant_text = response.data\n",
        "\n",
        "# Example usage\n",
        "for page in ranked_pages:\n",
        "  add_relevant_text(query, page)\n",
        "ranked_pages"
      ],
      "metadata": {
        "colab": {
          "base_uri": "https://localhost:8080/"
        },
        "id": "_ZwmtqKHZErh",
        "outputId": "1644f740-6c9d-4512-93d3-f7fd0c0e80ad"
      },
      "execution_count": 7,
      "outputs": [
        {
          "output_type": "execute_result",
          "data": {
            "text/plain": [
              "[WikipediaPage(title='First Liberian Civil War', url='https://en.wikipedia.org/wiki/First_Liberian_Civil_War', relevant_text=\"The causes of the First Liberian Civil War are complex and multi-faceted.\\n\\n**Historical Factors:**\\n\\n*   **Socio-economic disparities:** The Americo-Liberian elite, descendants of freed American slaves, had historically dominated the country's political and economic life, marginalizing the indigenous population. This created deep resentment and inequality.\\n*   **Political exclusion:** The True Whig Party held power for over a century, effectively creating a one-party state that suppressed dissent and limited political participation for non-Americo-Liberians.\\n*   **Samuel Doe's coup:** Samuel Doe, a member of the Krahn ethnic group, seized power in a 1980 coup, ending Americo-Liberian dominance. However, his regime became increasingly authoritarian and corrupt, favoring his own ethnic group and alienating others.\\n\\n**Immediate Triggers:**\\n\\n*   **Economic decline:** Liberia's economy suffered during the 1980s, exacerbating existing socio-economic tensions.\\n*   **Charles Taylor's rebellion:** Charles Taylor, a former government official, launched an armed rebellion in December 1989 with the aim of overthrowing Doe. Taylor's forces, the National Patriotic Front of Liberia (NPFL), attracted support from various groups who were dissatisfied with Doe's rule.\\n*   **Ethnic tensions:** Doe's regime's favoritism towards the Krahn ethnic group fueled ethnic tensions, which were exploited by various factions during the war. The conflict quickly devolved into ethnic violence, with different groups targeting each other.\\n\"),\n",
              " WikipediaPage(title='History of Liberia', url='https://en.wikipedia.org/wiki/History_of_Liberia', relevant_text=\"Multiple factors contributed to the Liberian Civil War:\\n\\n*   **Economic inequality:** The dominance of the Americo-Liberian elite and their control over the country's resources created deep resentment among the indigenous population.\\n\\n*   **Political repression:** The True Whig Party's long-standing monopoly on power, coupled with political repression and the suppression of dissent, fueled discontent.\\n\\n*   **Samuel Doe's coup and subsequent rule:** Doe's coup in 1980, while initially welcomed by some, eventually led to further ethnic tensions, corruption, and authoritarian rule. His government favored his Krahn ethnic group, leading to persecution of other groups.\\n\\n*   **Charles Taylor's invasion:** Charles Taylor's invasion from Côte d'Ivoire in 1989, backed by disgruntled Liberians and foreign mercenaries, ignited the conflict.\\n\\n*   **Regional instability:** Instability in the region, particularly in neighboring countries like Sierra Leone and Côte d'Ivoire, contributed to the conflict by providing arms and fighters.\\n\"),\n",
              " WikipediaPage(title='Americo-Liberian people', url='https://en.wikipedia.org/wiki/Americo-Liberian_people', relevant_text=\"The roots of the civil war include the marginalization of the native population by the Americo-Liberian elite and the corruption within the True Whig Party government. The 1980 coup d'état led by Samuel Doe, which overthrew and executed President William Tolbert and several members of his cabinet, marked a turning point. Doe's subsequent authoritarian rule and favoritism towards his Krahn ethnic group further exacerbated tensions. Charles Taylor's invasion in 1989, supported by various factions opposed to Doe, ignited the First Liberian Civil War.\\n\\nPolitical and economic inequalities, ethnic tensions, and the legacy of Americo-Liberian dominance contributed to the conflict.\\n\")]"
            ]
          },
          "metadata": {},
          "execution_count": 7
        }
      ]
    },
    {
      "cell_type": "code",
      "source": [
        "def synthesize_answer(query: str, pages: list[WikipediaPage]) -> str:\n",
        "  agent = Agent(model=MODEL_ID, result_type=str)\n",
        "  prompt = f\"\"\"\n",
        "  Answer the following query based on the given information.\n",
        "  Query:\n",
        "  {query}\n",
        "\n",
        "  Relevant information:\n",
        "  {[page.relevant_text for page in pages]}\n",
        "  \"\"\"\n",
        "  response = agent.run_sync(prompt)\n",
        "  return response.data\n",
        "\n",
        "# Example usage\n",
        "answer = synthesize_answer(query, ranked_pages)\n",
        "print(answer)"
      ],
      "metadata": {
        "colab": {
          "base_uri": "https://localhost:8080/"
        },
        "id": "pjernnPKbtUi",
        "outputId": "863d74e9-3370-4e90-fe17-f033fdbe5475"
      },
      "execution_count": 8,
      "outputs": [
        {
          "output_type": "stream",
          "name": "stdout",
          "text": [
            "The causes of the First Liberian Civil War are complex and multi-faceted, stemming from historical factors, immediate triggers, and regional instability. Key causes include:\n",
            "\n",
            "*   **Socio-economic disparities:** The Americo-Liberian elite historically dominated Liberia's political and economic life, marginalizing the indigenous population and creating deep resentment.\n",
            "*   **Political exclusion:** The True Whig Party's long-standing monopoly on power, coupled with political repression and the suppression of dissent, fueled discontent and limited political participation for non-Americo-Liberians.\n",
            "*   **Samuel Doe's coup and subsequent rule:** While initially welcomed by some, Doe's 1980 coup and subsequent authoritarian rule, favoritism towards his Krahn ethnic group, corruption, and persecution of other groups further exacerbated tensions.\n",
            "*   **Charles Taylor's rebellion/invasion:** Charles Taylor's armed rebellion/invasion in 1989, backed by disgruntled Liberians and foreign mercenaries, ignited the conflict. His forces attracted support from various groups dissatisfied with Doe's rule.\n",
            "*   **Ethnic tensions:** Doe's regime's favoritism towards the Krahn ethnic group fueled ethnic tensions, which were exploited by various factions during the war, leading to ethnic violence.\n",
            "*   **Economic decline:** Liberia's economy suffered during the 1980s, exacerbating existing socio-economic tensions.\n",
            "*   **Regional instability:** Instability in the region, particularly in neighboring countries like Sierra Leone and Côte d'Ivoire, contributed to the conflict by providing arms and fighters.\n",
            "\n"
          ]
        }
      ]
    },
    {
      "cell_type": "code",
      "source": [
        "def identify_gaps_and_followups(query: str, answer) -> list[str]:\n",
        "  agent = Agent(model=MODEL_ID, result_type=list[str])\n",
        "  prompt = f\"\"\"\n",
        "  You are provided a question and an answer.\n",
        "  Suggest 2-3 follow-on questions that could help flesh out the answer\n",
        "  or fill logical or information gaps in the answer.\n",
        "\n",
        "  Query:\n",
        "  {query}\n",
        "\n",
        "  Answer:\n",
        "  {answer}\n",
        "  \"\"\"\n",
        "  response = agent.run_sync(prompt)\n",
        "  follow_ups = response.data\n",
        "  # questions = [query + \" Focus your answer on: \" + f for f in follow_ups]\n",
        "  questions = follow_ups\n",
        "  return questions\n",
        "\n",
        "\n",
        "# Example usage\n",
        "follow_ups = identify_gaps_and_followups(query, answer)\n",
        "follow_ups"
      ],
      "metadata": {
        "colab": {
          "base_uri": "https://localhost:8080/"
        },
        "id": "wJCYuY45bF-G",
        "outputId": "e970f91f-ef78-4cb3-e2e0-59af2c1da013"
      },
      "execution_count": 9,
      "outputs": [
        {
          "output_type": "execute_result",
          "data": {
            "text/plain": [
              "['1. How did the socio-economic disparities specifically manifest in terms of access to resources, education, and opportunities for different ethnic groups?',\n",
              " \"2. In what specific ways did regional instability, particularly the conflicts in Sierra Leone and Côte d'Ivoire, contribute to the Liberian Civil War in terms of arms proliferation and fighter recruitment?\",\n",
              " \"3. Can you elaborate on the specific human rights abuses and acts of political repression committed by Samuel Doe's regime that fueled the rebellion?\"]"
            ]
          },
          "metadata": {},
          "execution_count": 9
        }
      ]
    },
    {
      "cell_type": "code",
      "source": [
        "@dataclass\n",
        "class Section:\n",
        "  query: str\n",
        "  answer: str\n",
        "  sections: list['Section']\n",
        "\n",
        "def create_section(query: str) -> Section:\n",
        "  pages = search_wikipedia(query)\n",
        "  ranked_pages = rank_pages(query, pages)[:3] # top 3\n",
        "  for page in ranked_pages:\n",
        "    add_relevant_text(query, page)\n",
        "  answer = synthesize_answer(query, ranked_pages)\n",
        "  section = Section(query=query, answer=answer, sections=list())\n",
        "  return section\n",
        "\n",
        "def add_subsections(parent: Section):\n",
        "  # second and subsequent iterations with a thinking stage\n",
        "  follow_ups = identify_gaps_and_followups(parent.query, parent.answer)\n",
        "  for follow_up in follow_ups:\n",
        "    section = create_section(follow_up)\n",
        "    parent.sections.append(section)\n",
        "\n",
        "def pretty_print(report, level=1):\n",
        "  print(f\"<h{level}>{report.query}<h{level}>\")\n",
        "  print(f\"{report.answer}\")\n",
        "  for section in report.sections:\n",
        "    pretty_print(section, level+1)\n",
        "\n",
        "def deep_search(query: str, depth: int, report=None) -> Section:\n",
        "  if report is None:\n",
        "    report = create_section(query)\n",
        "  add_subsections(report)\n",
        "  if depth > 1:\n",
        "    for section in report.sections:\n",
        "      deep_search(section.query, depth-1, section)\n",
        "  return report"
      ],
      "metadata": {
        "id": "q5xNKa9-fN_6"
      },
      "execution_count": 10,
      "outputs": []
    },
    {
      "cell_type": "code",
      "source": [
        "report = deep_search(query=\"What were some of the famous victories of Napoleon Bonaparte?\", depth=1)\n",
        "pretty_print(report)"
      ],
      "metadata": {
        "colab": {
          "base_uri": "https://localhost:8080/"
        },
        "id": "bsugddROiNMo",
        "outputId": "5dd16dba-6a27-4c56-a36d-9159409a1ef5"
      },
      "execution_count": 11,
      "outputs": [
        {
          "output_type": "stream",
          "name": "stdout",
          "text": [
            "Page not found for 'Napoleon III'\n",
            "Page not found for 'Napoleon (2023 film)'\n",
            "Page not found for 'War and Peace'\n",
            "Page not found for 'Russian Empire'\n"
          ]
        },
        {
          "output_type": "stream",
          "name": "stderr",
          "text": [
            "/usr/local/lib/python3.11/dist-packages/wikipedia/wikipedia.py:389: GuessedAtParserWarning: No parser was explicitly specified, so I'm using the best available HTML parser for this system (\"lxml\"). This usually isn't a problem, but if you run this code on another system, or in a different virtual environment, it may use a different parser and behave differently.\n",
            "\n",
            "The code that caused this warning is on line 389 of the file /usr/local/lib/python3.11/dist-packages/wikipedia/wikipedia.py. To get rid of this warning, pass the additional argument 'features=\"lxml\"' to the BeautifulSoup constructor.\n",
            "\n",
            "  lis = BeautifulSoup(html).find_all('li')\n"
          ]
        },
        {
          "output_type": "stream",
          "name": "stdout",
          "text": [
            "Disambiguation error for 'George B. McClellan': \"George McClellan (disambiguation)\" may refer to: \n",
            "George McClellan (physician)\n",
            "George McClellan (New York politician)\n",
            "George B. McClellan Jr.\n",
            "George McClellan (police officer)\n",
            "George McClellan (anatomy professor)\n",
            "George B. McClellan (fireboat)\n",
            "General George B. McClellan (Ellicott)\n",
            "All pages with titles containing George McClellan\n",
            "McClellan (disambiguation)\n",
            "Page not found for 'Louis XIV'\n",
            "<h1>What were some of the famous victories of Napoleon Bonaparte?<h1>\n",
            "Based on the provided information, some of Napoleon Bonaparte's famous victories include:\n",
            "\n",
            "*   Siege of Toulon (1793)\n",
            "*   13 Vendémiaire (1795)\n",
            "*   Battle of Montenotte (1796)\n",
            "*   Battle of Lodi (1796)\n",
            "*   Battle of Arcole (1796)\n",
            "*   Battle of Rivoli (1797)\n",
            "*   Battle of the Pyramids (1798)\n",
            "*   Battle of Marengo (1800)\n",
            "*   Battle of Ulm (1805)\n",
            "*   Battle of Austerlitz (1805)\n",
            "*   Battle of Jena–Auerstedt (1806)\n",
            "*   Battle of Friedland (1807)\n",
            "*   Battle of Wagram (1809)\n",
            "\n",
            "<h2>What was the significance of the Battle of Austerlitz, and why is it considered one of Napoleon's greatest victories?<h2>\n",
            "The Battle of Austerlitz was significant because it effectively destroyed the Third Coalition against the French Empire. It's considered one of Napoleon's greatest victories because the French Grande Armée decisively defeated a larger Russo-Austrian army. Following the French victory, Austria was forced to withdraw from the war and the Holy Roman Empire, and Russia was compelled to remove its forces from Central Europe. The battle is viewed as a turning point in the Napoleonic Wars.\n",
            "\n",
            "<h2>What were the key strategies or tactics that Napoleon employed in these battles to secure victory?<h2>\n",
            "Based on the provided information, Napoleon's key strategies and tactics to secure victory included:\n",
            "\n",
            "*   **Overwhelming enemy forces:** Using a combination of speed, deception, and concentrated firepower.\n",
            "*   **Rapid marching:** To achieve surprise and outflank opponents.\n",
            "*   **Attacking the enemy's weakest point:** To break their lines.\n",
            "*   **Exploiting breakthroughs:** Using cavalry and reserves.\n",
            "*   **Effective use of artillery:** To weaken enemy positions before infantry assaults.\n",
            "*   **Corps organization:** Organizing his army into self-sufficient units for independent action and maneuverability.\n",
            "*   **Emphasis on initiative:** Allowing subordinates autonomy in executing orders.\n",
            "\n",
            "<h2>What were the consequences of these victories in terms of Napoleon's power and the political landscape of Europe?<h2>\n",
            "Napoleon's victories led to a significant consolidation of his power, allowing him to become First Consul for life in 1802 and Emperor in 1804. Politically, he reorganized much of Europe, abolishing the Holy Roman Empire and creating entities like the Confederation of the Rhine, the Duchy of Warsaw, and kingdoms in Italy, Spain, and Westphalia. He often placed relatives or allies in positions of power within these newly formed or expanded kingdoms, effectively establishing French client states. These actions directly challenged the existing European order, the power of traditional monarchies, and resulted in him ruling nearly all of Continental Europe either directly or through proxies, marking the zenith of the Napoleonic Empire.\n",
            "\n"
          ]
        }
      ]
    },
    {
      "cell_type": "code",
      "source": [
        "report = deep_search(query=\"Why is Srinivasa Ramanujan considered one of the greatest mathematicians?\", depth=2)\n",
        "pretty_print(report)"
      ],
      "metadata": {
        "colab": {
          "base_uri": "https://localhost:8080/"
        },
        "id": "Pckn0GEVijLn",
        "outputId": "337f6f5e-90ab-4cf4-b6f2-047722d09fe6"
      },
      "execution_count": 13,
      "outputs": [
        {
          "output_type": "stream",
          "name": "stdout",
          "text": [
            "Page not found for 'History of India'\n",
            "Disambiguation error for 'India': \"indian\" may refer to: \n",
            "India\n",
            "Indian people\n",
            "Indian diaspora\n",
            "Languages of India\n",
            "Indian English\n",
            "Indian cuisine\n",
            "Indigenous peoples of the Americas\n",
            "First Nations in Canada\n",
            "Native Americans in the United States\n",
            "Indigenous peoples of the Caribbean\n",
            "Indigenous languages of the Americas\n",
            "Indian, West Virginia\n",
            "The Indians\n",
            "Indian (film series)\n",
            "Indian (1996 film)\n",
            "Indian (2001 film)\n",
            "Indians (musician)\n",
            "unreleased song by Basshunter\n",
            "\"Indian\" (song)\n",
            "\"Indians\" (song)\n",
            "The Link\n",
            "Indian (card game)\n",
            "Indian soap opera\n",
            "Indians (play)\n",
            "Indians (sculpture)\n",
            "Akwesasne Indians\n",
            "Cleveland Indians\n",
            "Frölunda HC\n",
            "Hannover Indians\n",
            "Indianapolis Indians\n",
            "Indios de Mayagüez\n",
            "Springfield Indians\n",
            "Indian Airlines\n",
            "Indian Motorcycle\n",
            "All pages with titles beginning with Indian\n",
            "All pages with titles containing Indian\n",
            "Hindustani (disambiguation)\n",
            "India (disambiguation)\n",
            "Indianism (disambiguation)\n",
            "Indien (disambiguation)\n",
            "Indo (disambiguation)\n",
            "Indio (disambiguation)\n",
            "Indus (disambiguation)\n",
            "Indies (disambiguation)\n",
            "Indiana (disambiguation)\n",
            "Indian Raj (disambiguation)\n",
            "Indian Creek (disambiguation)\n",
            "Indian Island (disambiguation)\n",
            "Indian Peak\n",
            "Indian Point (disambiguation)\n",
            "Indian River (disambiguation)\n",
            "Indian Run (disambiguation)\n",
            "Indian Ocean\n",
            "Indian subcontinent\n",
            "American Indians (disambiguation)\n",
            "Classification of the Indigenous peoples of the Americas\n",
            "Ethnic groups in South Asia\n",
            "Native American name controversy\n",
            "Page not found for 'Creativity'\n",
            "Page not found for 'Creativity'\n",
            "Disambiguation error for 'India': \"indian\" may refer to: \n",
            "India\n",
            "Indian people\n",
            "Indian diaspora\n",
            "Languages of India\n",
            "Indian English\n",
            "Indian cuisine\n",
            "Indigenous peoples of the Americas\n",
            "First Nations in Canada\n",
            "Native Americans in the United States\n",
            "Indigenous peoples of the Caribbean\n",
            "Indigenous languages of the Americas\n",
            "Indian, West Virginia\n",
            "The Indians\n",
            "Indian (film series)\n",
            "Indian (1996 film)\n",
            "Indian (2001 film)\n",
            "Indians (musician)\n",
            "unreleased song by Basshunter\n",
            "\"Indian\" (song)\n",
            "\"Indians\" (song)\n",
            "The Link\n",
            "Indian (card game)\n",
            "Indian soap opera\n",
            "Indians (play)\n",
            "Indians (sculpture)\n",
            "Akwesasne Indians\n",
            "Cleveland Indians\n",
            "Frölunda HC\n",
            "Hannover Indians\n",
            "Indianapolis Indians\n",
            "Indios de Mayagüez\n",
            "Springfield Indians\n",
            "Indian Airlines\n",
            "Indian Motorcycle\n",
            "All pages with titles beginning with Indian\n",
            "All pages with titles containing Indian\n",
            "Hindustani (disambiguation)\n",
            "India (disambiguation)\n",
            "Indianism (disambiguation)\n",
            "Indien (disambiguation)\n",
            "Indo (disambiguation)\n",
            "Indio (disambiguation)\n",
            "Indus (disambiguation)\n",
            "Indies (disambiguation)\n",
            "Indiana (disambiguation)\n",
            "Indian Raj (disambiguation)\n",
            "Indian Creek (disambiguation)\n",
            "Indian Island (disambiguation)\n",
            "Indian Peak\n",
            "Indian Point (disambiguation)\n",
            "Indian River (disambiguation)\n",
            "Indian Run (disambiguation)\n",
            "Indian Ocean\n",
            "Indian subcontinent\n",
            "American Indians (disambiguation)\n",
            "Classification of the Indigenous peoples of the Americas\n",
            "Ethnic groups in South Asia\n",
            "Native American name controversy\n",
            "<h1>Why is Srinivasa Ramanujan considered one of the greatest mathematicians?<h1>\n",
            "Srinivasa Ramanujan is considered one of the greatest mathematicians for the following reasons:\n",
            "\n",
            "*   **Extraordinary contributions:** Despite having almost no formal training in pure mathematics, he made extraordinary contributions to mathematical analysis, number theory, infinite series, and continued fractions.\n",
            "*   **Original and novel results:** He independently compiled nearly 3,900 results, mostly identities and equations, many of which were completely novel.\n",
            "*   **Impact on research:** His unconventional results, such as the Ramanujan prime, the Ramanujan theta function, partition formulae, and mock theta functions, have opened entire new areas of research and inspired a vast amount of further work.\n",
            "*   **Correct and ahead of his time:** Mathematicians have since shown that his work was both correct and ahead of its time.\n",
            "*   **Influence:** His discoveries continue to influence mathematics.\n",
            "*   **Groundbreaking theorems:** He produced groundbreaking new theorems that even baffled established mathematicians like G.H. Hardy.\n",
            "*   **Comparison to greats:** His highly original work led him to be compared to mathematicians such as Euler and Jacobi.\n",
            "<h2>Could you provide specific examples of Ramanujan's theorems that baffled mathematicians like G.H. Hardy?<h2>\n",
            "Since there is no relevant information provided, I cannot provide specific examples of Ramanujan's theorems that baffled mathematicians like G.H. Hardy.\n",
            "\n",
            "<h3>1. What kind of mathematical background would someone need to understand the theorems that baffled mathematicians like G.H. Hardy?<h3>\n",
            "Based on the empty information provided, it's impossible to answer the query with any specificity. To understand theorems that baffled mathematicians like G.H. Hardy, one would generally need a strong background in:\n",
            "\n",
            "*   **Analysis:** Real and complex analysis are crucial.\n",
            "*   **Number Theory:** Hardy was a number theorist.\n",
            "*   **Abstract Algebra:** Group theory, ring theory, and field theory may be relevant.\n",
            "*   **Topology:** Depending on the specific theorem, topology could be important.\n",
            "\n",
            "The specific mathematical areas required would depend entirely on the particular theorem in question. Without knowing which theorems are being referred to, it's impossible to provide a more precise answer.\n",
            "\n",
            "<h3>2. Are there any anecdotes or stories that illustrate the specific ways in which these theorems challenged existing mathematical understanding?<h3>\n",
            "Based on the provided information, the answer is: No, there are no anecdotes or stories mentioned that illustrate specific ways in which Euler's theorems challenged existing mathematical understanding.\n",
            "\n",
            "<h3>3. Could you suggest resources where I could find examples of Ramanujan's work and commentary on its reception by the mathematical community?<h3>\n",
            "Since no relevant information was provided, I cannot suggest any specific resources. I would need information about Ramanujan's work, the mathematical community, or available resources to answer your question.\n",
            "\n",
            "However, I can give some general suggestions:\n",
            "\n",
            "*   **Books:** Look for biographies of Ramanujan and books that compile his notebooks and published papers. These often include commentary.\n",
            "*   **Mathematical Journals:** Search online databases like JSTOR, MathSciNet, and zbMATH for articles about Ramanujan and his work.\n",
            "*   **University Libraries:** University libraries often have extensive collections of mathematical texts and journals.\n",
            "*   **Online Encyclopedias:** Wikipedia and other online encyclopedias can provide basic information and links to further resources.\n",
            "*   **Websites dedicated to mathematics:** Some websites are specifically dedicated to mathematics and may have sections on Ramanujan's work.\n",
            "\n",
            "<h2>Can you elaborate on the 'new areas of research' that Ramanujan's unconventional results opened up?<h2>\n",
            "Since there is no relevant information provided about Ramanujan or his research, I cannot elaborate on the \"new areas of research\" that his unconventional results opened up.\n",
            "\n",
            "<h3>1. Could you provide some context on Ramanujan's work and the specific unconventional results you are referring to?<h3>\n",
            "Since there is no relevant information provided, I cannot provide context on Ramanujan's work or specific unconventional results.\n",
            "\n",
            "<h3>2. What were some of the initial reactions to Ramanujan's work within the mathematics community?<h3>\n",
            "Initial reactions to Ramanujan's work were mixed because of its unconventional nature, but it quickly gained recognition after mathematicians G. H. Hardy and others recognized his talent.\n",
            "\n",
            "<h3>3. Are there any specific examples of mathematical fields that were directly influenced or created as a result of Ramanujan's discoveries?<h3>\n",
            "Based on the provided information, here's the answer to your query:\n",
            "\n",
            "Yes, there are specific examples of mathematical fields that were directly influenced or created as a result of Ramanujan's discoveries.\n",
            "\n",
            "*   **Mock theta functions:** Ramanujan's notebooks contained hints of a new class of functions, which were later formalized as mock theta functions. This area continues to be actively studied.\n",
            "*   **Theory of Maass forms:** Ramanujan's work on mock theta functions led to the creation of the theory of Maass forms by Atle Selberg.\n",
            "*   **Modular forms:** Ramanujan's work has also had a major impact on the theory of modular forms.\n",
            "\n",
            "<h2>In what specific ways do Ramanujan's discoveries continue to influence mathematics today?<h2>\n",
            "Ramanujan's discoveries continue to influence mathematics today in several specific ways:\n",
            "\n",
            "*   **Modular Equations:** His discovery of over 170 new modular equations provides an ongoing source of inspiration for researchers. These equations are subtle and surprising, with some requiring new mathematical approaches to prove.\n",
            "*   **Partition Functions:** His work on partition functions, particularly his discovery of congruences (e.g., p(5n + 4) divisible by 5), sparked significant research into the properties of partition functions.\n",
            "*   **Number Theory:** His conjectures about the distribution of prime numbers have led to new insights into the structure of prime numbers. His work on modular forms has also been highly influential, leading to new results in areas such as elliptic curves and cryptography.\n",
            "*   **Mathematical Style:** His intuitive and pattern-recognition-based approach to mathematics, characterized by beauty and elegance, has inspired other mathematicians and broadened the scope of acceptable mathematical practice.\n",
            "*   **Ongoing Research:** Ramanujan's notebooks continue to be studied, containing many relevant results that have not yet been proven.\n",
            "\n",
            "<h3>Can you give a specific example of a modular equation discovered by Ramanujan that is still being studied today, and what makes it particularly challenging or interesting?<h3>\n",
            "Since there is no relevant information provided in the context, I cannot give a specific example of a modular equation discovered by Ramanujan that is still being studied today, nor can I explain what makes it challenging or interesting. I need some information about Ramanujan's work to answer this question.\n",
            "\n",
            "<h3>Could you elaborate on how Ramanujan's work on partition functions and congruences has been applied in modern areas like cryptography or coding theory?<h3>\n",
            "Based on the provided information (which is an empty set \"[]\"), I cannot elaborate on how Ramanujan's work on partition functions and congruences has been applied in modern areas like cryptography or coding theory. I have no information on that topic.\n",
            "\n",
            "<h3>In what specific areas of number theory are Ramanujan's conjectures about the distribution of prime numbers still being actively researched, and what are some of the open questions related to his conjectures?<h3>\n",
            "Based on the provided text, I cannot answer your question about the specific areas of number theory where Ramanujan's conjectures about the distribution of prime numbers are actively researched, or the open questions related to these conjectures. The text simply states that it does not contain any information on that topic.\n",
            "\n"
          ]
        }
      ]
    },
    {
      "cell_type": "code",
      "source": [],
      "metadata": {
        "id": "EV9yok-olmdI"
      },
      "execution_count": null,
      "outputs": []
    }
  ]
}