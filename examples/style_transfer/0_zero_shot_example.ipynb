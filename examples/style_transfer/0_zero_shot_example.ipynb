{
 "cells": [
  {
   "cell_type": "markdown",
   "metadata": {},
   "source": [
    "## Zero-shot Learning Examples"
   ]
  },
  {
   "cell_type": "code",
   "execution_count": null,
   "metadata": {},
   "outputs": [],
   "source": [
    "# pip install --upgrade --quiet  openai python-dotenv"
   ]
  },
  {
   "cell_type": "code",
   "execution_count": 1,
   "metadata": {},
   "outputs": [],
   "source": [
    "import os\n",
    "from dotenv import load_dotenv\n",
    "from openai import OpenAI\n",
    "\n",
    "\n",
    "load_dotenv(\"../keys.env\")\n",
    "\n",
    "assert os.environ[\"OPENAI_API_KEY\"][:2] == \"sk\", \"Please sign up for access to the OpenAI API and provide access token in keys.env file\"\n",
    "\n",
    "# Initialize the OpenAI client\n",
    "client = OpenAI(\n",
    "    api_key=os.environ[\"OPENAI_API_KEY\"]\n",
    ")"
   ]
  },
  {
   "cell_type": "markdown",
   "metadata": {},
   "source": [
    "## Example: Zero Shot Example"
   ]
  },
  {
   "cell_type": "code",
   "execution_count": 2,
   "metadata": {},
   "outputs": [
    {
     "name": "stdout",
     "output_type": "stream",
     "text": [
      "Subject: Urgent: Meeting Minutes Needed for Stakeholder Presentation\n",
      "\n",
      "Dear [Recipient's Name],\n",
      "\n",
      "I hope this message finds you well. This is a gentle reminder that we require the meeting minutes for the stakeholder presentation scheduled for [date of presentation] by [deadline]. Your prompt assistance in preparing the minutes is highly appreciated.\n",
      "\n",
      "Please ensure that the meeting minutes are comprehensive and accurately reflect the discussions held during the meeting. Once the minutes are ready, kindly send them to me for review at your earliest convenience.\n",
      "\n",
      "Thank you for your attention to this matter. Should you have any questions or require further clarification, please do not hesitate to reach out.\n",
      "\n",
      "Best regards,\n",
      "\n",
      "[Your Name]\n",
      "[Your Position]\n",
      "[Your Contact Information]\n"
     ]
    }
   ],
   "source": [
    "messages = [{'role': 'system',\n",
    "             'content': 'You are a helpful assistant converting notes to professional emails.'},\n",
    "            {'role': 'user',\n",
    "             'content': \"\"\"\n",
    "urgent: need meeting minutes by {deadline}\n",
    "for stakeholder presentation \\ndetails:\n",
    "- This is needed for our upcoming presi to stakeholders.\n",
    "- will need ur help asap\n",
    "- send 2 me when rdy\"\"\"}]\n",
    "\n",
    "\n",
    "response = client.chat.completions.create(model=\"gpt-3.5-turbo\", messages=messages)\n",
    "print(response.choices[0].message.content)"
   ]
  }
 ],
 "metadata": {
  "kernelspec": {
   "display_name": ".venv",
   "language": "python",
   "name": "python3"
  },
  "language_info": {
   "codemirror_mode": {
    "name": "ipython",
    "version": 3
   },
   "file_extension": ".py",
   "mimetype": "text/x-python",
   "name": "python",
   "nbconvert_exporter": "python",
   "pygments_lexer": "ipython3",
   "version": "3.10.16"
  }
 },
 "nbformat": 4,
 "nbformat_minor": 2
}
