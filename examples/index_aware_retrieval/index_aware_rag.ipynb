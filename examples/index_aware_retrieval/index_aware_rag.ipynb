{
 "cells": [
  {
   "cell_type": "markdown",
   "id": "dbd295e0-a0b0-4071-9704-136901f29a2a",
   "metadata": {},
   "source": [
    "# Index-aware Retreival\n",
    "\n",
    "Consists of 3 optional components:\n",
    "* Hypothetical Document Embedding (HyDE)\n",
    "* Query Expansion\n",
    "* Graph RAG"
   ]
  },
  {
   "cell_type": "code",
   "execution_count": 1,
   "id": "41664a72-3e67-4e57-9e6d-2a01ed7ed8bb",
   "metadata": {},
   "outputs": [],
   "source": [
    "#%pip install --quiet llama-index llama-index-llms-gemini llama-index-embeddings-huggingface pydantic-ai "
   ]
  },
  {
   "cell_type": "code",
   "execution_count": 2,
   "id": "b078983c-cda3-46d0-8438-d284bc017b3c",
   "metadata": {
    "tags": []
   },
   "outputs": [],
   "source": [
    "MODEL_ID = \"gemini-2.0-flash\"\n",
    "EMBED_MODEL_ID = \"BAAI/bge-small-en-v1.5\"\n",
    "\n",
    "import os\n",
    "from dotenv import load_dotenv\n",
    "load_dotenv(\"../keys.env\")\n",
    "assert os.environ[\"GEMINI_API_KEY\"][:2] == \"AI\",\\\n",
    "       \"Please specify the GEMINI_API_KEY access token in keys.env file\"\n",
    "assert os.environ[\"HF_TOKEN\"][:2] == \"hf\",\\\n",
    "       \"Please specify the HF_TOKEN access token in keys.env file\""
   ]
  },
  {
   "cell_type": "code",
   "execution_count": 3,
   "id": "40dad339-d55a-4440-8ab4-367f0cb0ffc7",
   "metadata": {
    "tags": []
   },
   "outputs": [],
   "source": [
    "import sys\n",
    "sys.path.append('../basic_rag')\n",
    "import gutenberg_text_loader as gtl\n",
    "import logging\n",
    "logging.basicConfig(level=logging.INFO, format='%(asctime)s - %(levelname)s - %(message)s')\n",
    "logger = logging.getLogger(__name__)"
   ]
  },
  {
   "cell_type": "markdown",
   "id": "15a2e1d2-2682-4e82-8e55-7b5134ddf34a",
   "metadata": {},
   "source": [
    "The examples here on the book Anabasis of Alexander https://www.gutenberg.org/cache/epub/46976/pg46976.txt\n",
    "a 2nd century historical account of Alexander the Great"
   ]
  },
  {
   "cell_type": "markdown",
   "id": "acc0820e-3300-46f1-ac1b-5fc2208be423",
   "metadata": {},
   "source": [
    "## Plain Semantic Indexing to use as a comparison"
   ]
  },
  {
   "cell_type": "code",
   "execution_count": 4,
   "id": "3335ac11-8a74-4cb8-a92a-d5e3fef50640",
   "metadata": {
    "tags": []
   },
   "outputs": [],
   "source": [
    "#!rm -rf .cache vector_index   # uncomment to start afresh"
   ]
  },
  {
   "cell_type": "code",
   "execution_count": 5,
   "id": "2288ed7b-4783-4445-b179-3e21aa38799f",
   "metadata": {
    "tags": []
   },
   "outputs": [
    {
     "name": "stdout",
     "output_type": "stream",
     "text": [
      "./.cache:\n",
      "pg46976_1b16d8525c.txt\n",
      "\n",
      "vector_index:\n",
      "default__vector_store.json  graph_store.json\t      index_store.json\n",
      "docstore.json\t\t    image__vector_store.json\n"
     ]
    }
   ],
   "source": [
    "!ls ./.cache vector_index"
   ]
  },
  {
   "cell_type": "code",
   "execution_count": 6,
   "id": "ac3a0082-337e-438b-89c8-00b0145ee721",
   "metadata": {
    "tags": []
   },
   "outputs": [
    {
     "name": "stderr",
     "output_type": "stream",
     "text": [
      "2025-03-26 23:04:52,066 - INFO - PyTorch version 2.5.1 available.\n",
      "2025-03-26 23:04:53,381 - INFO - Load pretrained SentenceTransformer: BAAI/bge-small-en-v1.5\n",
      "2025-03-26 23:04:55,759 - INFO - 2 prompts are loaded, with the keys: ['query', 'text']\n"
     ]
    },
    {
     "name": "stdout",
     "output_type": "stream",
     "text": [
      "Loading in already created index\n"
     ]
    },
    {
     "name": "stderr",
     "output_type": "stream",
     "text": [
      "2025-03-26 23:04:58,654 - INFO - Loading all indices.\n"
     ]
    }
   ],
   "source": [
    "from llama_index.embeddings.huggingface import HuggingFaceEmbedding\n",
    "from llama_index.core import Settings\n",
    "from llama_index.core import VectorStoreIndex, SimpleDirectoryReader\n",
    "from llama_index.core import StorageContext, load_index_from_storage\n",
    "from llama_index.core import Document\n",
    "import os\n",
    "import pathlib\n",
    "\n",
    "INDEX_DIR=\"vector_index\"\n",
    "Settings.embed_model = HuggingFaceEmbedding(\n",
    "    model_name=EMBED_MODEL_ID\n",
    ")\n",
    "\n",
    "# these are the defaults in LlamaIndex\n",
    "Settings.chunk_size = 1024; Settings.chunk_overlap = 20; TOP_K=2\n",
    "#Settings.chunk_size = 100; Settings.chunk_overlap = 10; TOP_K=4\n",
    "\n",
    "if os.path.isdir(INDEX_DIR):\n",
    "    print(\"Loading in already created index\")\n",
    "    storage_context = StorageContext.from_defaults(persist_dir=INDEX_DIR)\n",
    "    index = load_index_from_storage(storage_context)\n",
    "else:\n",
    "    # downloads into .cache the first time\n",
    "    gs = gtl.GutenbergSource()\n",
    "    doc = gs.load_from_url(\"https://www.gutenberg.org/cache/epub/46976/pg46976.txt\")\n",
    "    # reads all files in .cache\n",
    "    documents = SimpleDirectoryReader(input_dir=\"./.cache\", required_exts=[\".txt\"], exclude_hidden=False).load_data()\n",
    "    # creates a vector db\n",
    "    index = VectorStoreIndex.from_documents(documents)\n",
    "    index.storage_context.persist(persist_dir=INDEX_DIR)"
   ]
  },
  {
   "cell_type": "code",
   "execution_count": 7,
   "id": "50285303-18c8-4b9d-a2f8-8a7d6ea3967c",
   "metadata": {
    "tags": []
   },
   "outputs": [
    {
     "name": "stderr",
     "output_type": "stream",
     "text": [
      "/var/tmp/ipykernel_114932/2963551961.py:4: DeprecationWarning: Call to deprecated class Gemini. (Should use `llama-index-llms-google-genai` instead, using Google's latest unified SDK. See: https://docs.llamaindex.ai/en/stable/examples/llm/google_genai/)\n",
      "  llm = Gemini(model=f\"models/{MODEL_ID}\", api_key=os.environ[\"GEMINI_API_KEY\"])\n"
     ]
    },
    {
     "data": {
      "application/vnd.jupyter.widget-view+json": {
       "model_id": "6e44a0c4feb64794864262c6c58da532",
       "version_major": 2,
       "version_minor": 0
      },
      "text/plain": [
       "Batches:   0%|          | 0/1 [00:00<?, ?it/s]"
      ]
     },
     "metadata": {},
     "output_type": "display_data"
    },
    {
     "name": "stdout",
     "output_type": "stream",
     "text": [
      "Alexander took Hyparna at first assault but allowed the Greeks to leave the citadel under a truce. He brought over the Telmissians by agreement. Cities including Pinara, Xanthus, and Patara surrendered to him. He ordered the Phaselites and Lycians to surrender their cities to those he sent to receive them, and they were all surrendered. He helped the men of Phaselis capture a fort constructed by the Pisidians. When the Thebans were defeated, their territory was distributed, and the women and children were sold into slavery, with exceptions made for priests, priestesses, those bound by hospitality to Philip or Alexander, and public agents of the Macedonians. However, Alexander preserved the house and descendants of Pindar the poet.\n",
      "\n",
      "Node ID: d2b4750d-8bb7-4b64-97e1-d9e1fd622239\n",
      "Text: He gave these  officers instructions to levy as many horse and\n",
      "foot soldiers as they  could from the country, when they returned to\n",
      "him and brought back the  men who had been sent away with them. By\n",
      "this act more than by any  other Alexander acquired popularity among\n",
      "the Macedonians. He also sent  Cleander, son of Polemocrates, to levy\n",
      "soldiers ...\n",
      "Score:  0.733\n",
      "\n",
      "Node ID: f9fcf4b7-183d-4cef-8449-9fb7c35fe1f3\n",
      "Text: They resolved to occupy the  Cadmea with a garrison; to raze the\n",
      "city to the ground; to distribute  among themselves all the territory,\n",
      "except what was dedicated to the  gods; and to sell into slavery the\n",
      "women and children, and as many of  the males as survived, except\n",
      "those who were priests or priestesses,  and those who were bound to\n",
      "Philip o...\n",
      "Score:  0.729\n",
      "\n"
     ]
    }
   ],
   "source": [
    "from llama_index.llms.gemini import Gemini\n",
    "from llama_index.core.query_engine import RetrieverQueryEngine\n",
    "\n",
    "llm = Gemini(model=f\"models/{MODEL_ID}\", api_key=os.environ[\"GEMINI_API_KEY\"])\n",
    "\n",
    "query_engine = RetrieverQueryEngine.from_args(\n",
    "    retriever=index.as_retriever(similarity_top_k=TOP_K), llm=llm,\n",
    ")\n",
    "\n",
    "def semantic_rag(question):\n",
    "    response = query_engine.query(question)\n",
    "    response = {\n",
    "        \"answer\": str(response),\n",
    "        \"source_nodes\": response.source_nodes\n",
    "    }\n",
    "    print(response['answer'])\n",
    "    for node in response['source_nodes']:\n",
    "        print(node)\n",
    "    return response\n",
    " \n",
    "semantic_rag(\"How did Alexander treat the people of the places he conquered?\");"
   ]
  },
  {
   "cell_type": "markdown",
   "id": "31511e08-3b80-4014-9095-f2bf4e865bed",
   "metadata": {},
   "source": [
    "Saved answer:\n",
    "<pre>\n",
    "Alexander took Hyparna at first assault but allowed the Greeks to leave the citadel under a truce. He brought over the Telmissians by agreement. Cities including Pinara, Xanthus, and Patara surrendered to him. He ordered the Phaselites and Lycians to surrender their cities to those he sent to receive them, and they were all surrendered. He helped the men of Phaselis capture a fort constructed by the Pisidians. When Thebes was razed, Alexander preserved the house and descendants of Pindar the poet. He gave a courteous reply to an Athenian embassy. He remitted his wrath against those the Athenians refused to surrender to him, but ordered Charidemus to go into banishment.\n",
    "</pre>"
   ]
  },
  {
   "cell_type": "code",
   "execution_count": 8,
   "id": "cbce5e25-962c-42d2-8ba7-aa1e008410fc",
   "metadata": {
    "tags": []
   },
   "outputs": [
    {
     "data": {
      "application/vnd.jupyter.widget-view+json": {
       "model_id": "10ac3f17b20845659d19f228cb6ccba2",
       "version_major": 2,
       "version_minor": 0
      },
      "text/plain": [
       "Batches:   0%|          | 0/1 [00:00<?, ?it/s]"
      ]
     },
     "metadata": {},
     "output_type": "display_data"
    },
    {
     "name": "stdout",
     "output_type": "stream",
     "text": [
      "The provided text does not contain information about where Alexander died.\n",
      "\n",
      "Node ID: 3ae51689-746d-46c7-8742-986d72fc9007\n",
      "Text: When  he received this news, he stopped the march towards\n",
      "Bactra, and taking  with him the Companion cavalry, the horse-lancers,\n",
      "the archers, the  Agrianians and the regiments of Amyntas and Coenus,\n",
      "and leaving the  rest of his forces there under the command of\n",
      "Craterus, he made a  forced march against Satibarzanes and the\n",
      "Areians; and having tr...\n",
      "Score:  0.699\n",
      "\n",
      "Node ID: 6089be70-704d-4546-89df-75c34ea6d0a7\n",
      "Text: Go back and  report at home that your king Alexander, the\n",
      "conqueror of the Persians,  Medes, Bactrians, and Sacians[875]; the\n",
      "man who has subjugated the  Uxians, Arachotians, and Drangians; who\n",
      "has also acquired the rule  of the Parthians, Chorasmians, and\n",
      "Hyrcanians, as far as the Caspian  Sea; who has marched over the\n",
      "Caucasus, through the Cas...\n",
      "Score:  0.695\n",
      "\n"
     ]
    }
   ],
   "source": [
    "semantic_rag(\"Where did Alexander die?\");"
   ]
  },
  {
   "cell_type": "markdown",
   "id": "197ff2a2-2e7c-4941-bc26-504f8671c388",
   "metadata": {},
   "source": [
    "Saved answer:\n",
    "<pre>\n",
    "The provided text does not contain information about where Alexander died.\n",
    "</pre>"
   ]
  },
  {
   "cell_type": "markdown",
   "id": "cc4e0786-a9bd-4a58-aadf-a96fd7e54a92",
   "metadata": {},
   "source": [
    "## Limitations of the Semantic Indexing\n",
    "\n",
    "It's unable to find small details because the details are lost in the larger chunk. This was not a problem for Basic RAG which is keyword-based because Diogenes is quite a rare word, but it is a problem for Semantic Indexing.\n",
    "\n",
    "See: https://docs.llamaindex.ai/en/stable/optimizing/basic_strategies/basic_strategies/\n",
    "\n",
    "A smaller chunk size means the embeddings are more precise, while a larger chunk size means that the embeddings may be more general, but can miss fine-grained details.\n",
    "\n",
    "Here we show the differences between a chunk size of 100 and 1024\n",
    "\n",
    "### Fine details\n",
    "For chunk size = 100:\n",
    "<pre>\n",
    "Alexander admired Diogenes' conduct. Diogenes requested that Alexander and his attendants move out of the sunlight.\n",
    "</pre>\n",
    "For chunk size = 1024:\n",
    "<pre>\n",
    "The provided text does not contain information about Diogenes.\n",
    "</pre>"
   ]
  },
  {
   "cell_type": "code",
   "execution_count": 9,
   "id": "16aaab66-54fc-4035-b6c3-75ad8c951bf9",
   "metadata": {
    "tags": []
   },
   "outputs": [
    {
     "data": {
      "application/vnd.jupyter.widget-view+json": {
       "model_id": "0b50075f368845b4840d20fd9017b1b6",
       "version_major": 2,
       "version_minor": 0
      },
      "text/plain": [
       "Batches:   0%|          | 0/1 [00:00<?, ?it/s]"
      ]
     },
     "metadata": {},
     "output_type": "display_data"
    },
    {
     "name": "stdout",
     "output_type": "stream",
     "text": [
      "The provided text does not contain information about the relationship between Alexander and Diogenes.\n",
      "\n",
      "Node ID: 6089be70-704d-4546-89df-75c34ea6d0a7\n",
      "Text: Go back and  report at home that your king Alexander, the\n",
      "conqueror of the Persians,  Medes, Bactrians, and Sacians[875]; the\n",
      "man who has subjugated the  Uxians, Arachotians, and Drangians; who\n",
      "has also acquired the rule  of the Parthians, Chorasmians, and\n",
      "Hyrcanians, as far as the Caspian  Sea; who has marched over the\n",
      "Caucasus, through the Cas...\n",
      "Score:  0.729\n",
      "\n",
      "Node ID: 64ea1229-b295-46c5-bcc3-70c8c2f1b017\n",
      "Text: They were also instructed to support this petition  by word of\n",
      "mouth. The letter pointed out to him that friendship and  alliance had\n",
      "subsisted between Philip and Artaxerxes;[284] and that  when Arses,\n",
      "son of Artaxerxes, ascended the throne, Philip was the  first to\n",
      "practise injustice towards him, though he had suffered no  injury from\n",
      "the Persi...\n",
      "Score:  0.723\n",
      "\n"
     ]
    }
   ],
   "source": [
    "semantic_rag(\"Describe the relationship between Alexander and Diogenes.\");"
   ]
  },
  {
   "cell_type": "markdown",
   "id": "6be6f2f3-df52-4aab-a5e7-339a8a44e80f",
   "metadata": {},
   "source": [
    "### Complex query\n",
    "\n",
    "This is a complex query that requires multiple supporting points pulled from the chunks. None of the chunks will discuss an overall strategy. Hence, the result here is of a tactic in a single battle.\n",
    "\n",
    "chunksize = 100\n",
    "<pre>\n",
    "Alexander led a quick charge with a wedge formation of Companion cavalry and part of the phalanx straight toward Darius. He also enumerated evidences of their superiority in the struggle and pointed out the great rewards they would win.\n",
    "</pre>\n",
    "\n",
    "chunk size = 1024\n",
    "<pre>\n",
    "Alexander was advised to advance against Darius and the Persians without delay. He marched his troops towards Darius, but a storm delayed him. Upon hearing that Darius was in his rear, Alexander sent a ship to Issus to confirm the report.\n",
    "</pre>"
   ]
  },
  {
   "cell_type": "code",
   "execution_count": 10,
   "id": "4d3b1e54-f24d-45c9-8fe3-d7adbdc64e78",
   "metadata": {
    "tags": []
   },
   "outputs": [
    {
     "data": {
      "application/vnd.jupyter.widget-view+json": {
       "model_id": "b9c863688e6f4656b56558e09bf54d4a",
       "version_major": 2,
       "version_minor": 0
      },
      "text/plain": [
       "Batches:   0%|          | 0/1 [00:00<?, ?it/s]"
      ]
     },
     "metadata": {},
     "output_type": "display_data"
    },
    {
     "name": "stdout",
     "output_type": "stream",
     "text": [
      "Upon learning that Darius was behind him, Alexander took steps to confirm the report. After confirmation, he rallied his generals, cavalry commanders, and Grecian leaders, reminding them of their past victories and asserting that Darius had made a mistake by moving his forces to a narrow location, negating his numerical advantage. He also pointed out the differences in strength, courage, and motivation between his troops and those of Darius.\n",
      "\n",
      "Node ID: d172a7db-ece4-4be3-a9a1-1306501103f2\n",
      "Text: ALEXANDER’S TACTICS.—HIS SPEECH TO THE OFFICERS.      When\n",
      "Alexander had received all this information from the Persian  scouts\n",
      "who had been captured, he remained four days in the place where  he\n",
      "had received the news; and gave his army rest after the march. He\n",
      "meanwhile fortified his camp with a ditch and stockade, as he intended\n",
      "to leave beh...\n",
      "Score:  0.766\n",
      "\n",
      "Node ID: fd256fc4-7d16-4f29-a53c-141e245fdcc0\n",
      "Text: So Darius remained. But as Alexander made a  long stay at Tarsus\n",
      "on account of his illness, and not a short one at  Soli, where he\n",
      "offered sacrifice and conducted his army in procession,  and moreover\n",
      "spent some time in marching against the Cilician  mountaineers, Darius\n",
      "was induced to swerve from his resolution. He  was also not unwilling\n",
      "to be...\n",
      "Score:  0.751\n",
      "\n"
     ]
    }
   ],
   "source": [
    "semantic_rag(\"What was Alexander's strategy against Darius III?\");"
   ]
  },
  {
   "cell_type": "markdown",
   "id": "9b68ca2d-2705-4107-ab88-a2e525c2ab92",
   "metadata": {},
   "source": [
    "## Hypothetical Document Embedding (HyDE)\n",
    "\n",
    "Here we show how building a hypothetical answer and then searching for it can help find details that are lost in the chunk, and in pulling data across multiple chunks."
   ]
  },
  {
   "cell_type": "code",
   "execution_count": 11,
   "id": "8113b9e9-e77f-45dd-ad85-28aca6181b09",
   "metadata": {
    "tags": []
   },
   "outputs": [],
   "source": [
    "from llama_index.core.llms import ChatMessage\n",
    "def create_hypothetical_answer(question):\n",
    "    messages = [\n",
    "        ChatMessage(role=\"system\", \n",
    "                    content=\"\"\"Answer the following question in 2-3 sentences.\n",
    "                    If you don't know the answer, make an educated guess.\"\"\"\n",
    "                   ),\n",
    "        ChatMessage(role=\"user\", content=question)\n",
    "    ]\n",
    "    answer = str(llm.chat(messages))\n",
    "    return answer\n",
    "\n",
    "def hyde_rag(question):\n",
    "    answer = create_hypothetical_answer(question)\n",
    "    print(\"Hypothetical answer: \", answer)\n",
    "    return semantic_rag(answer)"
   ]
  },
  {
   "cell_type": "code",
   "execution_count": 12,
   "id": "26f54ae8-16e3-41fb-a24d-c93b5c886f18",
   "metadata": {
    "tags": []
   },
   "outputs": [
    {
     "name": "stdout",
     "output_type": "stream",
     "text": [
      "Hypothetical answer:  assistant: Alexander's strategy against Darius III centered on forcing decisive battles to cripple the Persian army and seize key territories. He aimed to draw Darius into open conflict, exploiting his own superior tactics and the Macedonian phalanx to achieve overwhelming victories, rather than engaging in prolonged sieges or guerilla warfare.\n",
      "\n"
     ]
    },
    {
     "data": {
      "application/vnd.jupyter.widget-view+json": {
       "model_id": "90491be69fe04f8d999b06f529708c31",
       "version_major": 2,
       "version_minor": 0
      },
      "text/plain": [
       "Batches:   0%|          | 0/1 [00:00<?, ?it/s]"
      ]
     },
     "metadata": {},
     "output_type": "display_data"
    },
    {
     "name": "stdout",
     "output_type": "stream",
     "text": [
      "Alexander received information from captured Persian scouts and rested his army for four days, fortifying the camp. He planned to leave baggage and unfit soldiers behind, advancing with warriors and weapons. Marching at night, he aimed to engage the enemy at daybreak. Darius drew out his army upon learning of Alexander's approach, but hills obscured their view. Nearing the enemy, Alexander halted the phalanx and convened a council. Despite some urging immediate attack, Parmenio advised reconnaissance to check for obstacles and assess enemy tactics. Alexander scouted the area with light infantry and cavalry, then addressed his leaders, emphasizing their past valor and the high stakes of the upcoming battle for Asia. He stressed discipline, silent advancement, and a unified, loud battle cry, urging quick obedience and transmission of orders. After exhorting his officers and receiving their encouragement, Alexander ordered dinner and rest for the soldiers.\n",
      "\n",
      "Later, Alexander advanced towards a city, where the enemy met them after performing sacrifices. The enemy quickly retreated, abandoning their sacrifices. Alexander besieged the city, but the arrival of Glaucias with reinforcements altered his plans. He sent Philotas on a foraging expedition, but Glaucias threatened the foraging party. Alexander, with select troops, rushed to aid Philotas, while leaving the rest of his army to contain the city's inhabitants. Glaucias and Clitus saw an opportunity to trap Alexander, but the foraging party safely returned to camp.\n",
      "\n",
      "Facing a challenging terrain, Alexander arrayed his phalanx 120 men deep, with cavalry on each wing, emphasizing silence. He directed the infantry to maneuver their spears in unison, creating a wedge formation and advancing against the enemy. The enemy, surprised by the order and speed of these maneuvers, retreated. Alexander then commanded his troops to raise a battle cry and clash their spears on their shields, further alarming the enemy, who retreated to the city.\n",
      "\n",
      "Node ID: d172a7db-ece4-4be3-a9a1-1306501103f2\n",
      "Text: ALEXANDER’S TACTICS.—HIS SPEECH TO THE OFFICERS.      When\n",
      "Alexander had received all this information from the Persian  scouts\n",
      "who had been captured, he remained four days in the place where  he\n",
      "had received the news; and gave his army rest after the march. He\n",
      "meanwhile fortified his camp with a ditch and stockade, as he intended\n",
      "to leave beh...\n",
      "Score:  0.782\n",
      "\n",
      "Node ID: d14edfb3-6bcb-4ccd-b317-6f05491e3c36\n",
      "Text: Alexander, however,  led his forces towards the city; and the\n",
      "enemy, after sacrificing three  boys, an equal number of girls, and\n",
      "three black rams, sallied forth for  the purpose of receiving the\n",
      "Macedonians in a hand-to-hand conflict.  But as soon as they came to\n",
      "close quarters, they left the positions  which they had occupied,\n",
      "strong as they w...\n",
      "Score:  0.775\n",
      "\n"
     ]
    }
   ],
   "source": [
    "hyde_rag(\"What was Alexander's strategy against Darius III?\");"
   ]
  },
  {
   "cell_type": "markdown",
   "id": "84802c7c-650e-472c-821d-3f1c66df2e3d",
   "metadata": {
    "tags": []
   },
   "source": [
    "Answer for chunk size = 100:\n",
    "<pre>\n",
    "Hypothetical answer:  assistant: Alexander's strategy against Darius III centered on forcing decisive battles to cripple the Persian army and seize key territories. He aimed to draw Darius into open conflict, exploiting the Macedonian army's superior tactics and discipline to achieve victory and ultimately depose Darius from his throne.\n",
    "\n",
    "Batches: 100%\n",
    " 1/1 [00:00<00:00,  1.57it/s]\n",
    "Alexander commanded in the field against Darius, pointing out the great rewards to be won. When Darius began to set his whole phalanx in motion, Alexander ordered an attack.\n",
    "\n",
    "Node ID: c283ed80-e07e-4b79-9318-09a25b6976fa\n",
    "Text: In addition to all this,  Alexander was commanding in the field\n",
    "against Darius. These things  he enumerated as evidences of their\n",
    "superiority in the struggle; and  then he began to point out the great\n",
    "rewards they would win from the  danger to be incurred.\n",
    "Score:  0.798\n",
    "\n",
    "Node ID: 74b1f3d9-84d3-47e3-9597-793085c8e50f\n",
    "Text: DEFEAT OF THE PERSIANS AND PURSUIT OF DARIUS.      At this\n",
    "juncture, while the Macedonians were doubtful as to the result  of the\n",
    "battle, Parmenio sent a messenger to Alexander in haste, to  tell him\n",
    "that their side was in a critical position and that he  must send him\n",
    "aid.\n",
    "Score:  0.780\n",
    "\n",
    "Node ID: e8f0aa7c-a261-4b33-bffd-798af571a8b1\n",
    "Text: ix.). But Diodorus says that Alexander ordered  and arranged the\n",
    "assault, that the Thebans made a brave and desperate  resistance for a\n",
    "long time, and that not only the Boeotian allies, but  the Macedonians\n",
    "themselves committed great slaughter of the besieged  (_Diod.\n",
    "Score:  0.774\n",
    "\n",
    "Node ID: 9ba1d49c-dc7d-4c09-90a0-5bcc4f4b6fa7\n",
    "Text: BATTLE OF ARBELA.—FLIGHT OF DARIUS.      As soon as Darius began\n",
    "to set his whole phalanx in motion, Alexander  ordered Aretes to\n",
    "attack those who were riding completely round his  right wing; and up\n",
    "to that time he was himself leading his men in  column.\n",
    "Score:  0.768\n",
    "</pre>\n",
    "\n",
    "Answer for chunk size = 1024:\n",
    "<pre>\n",
    "Hypothetical answer:  assistant: Alexander's strategy against Darius III centered on forcing decisive battles to cripple the Persian army and seize key territories. He aimed to draw Darius into open combat, exploiting his own superior tactics and the Macedonian phalanx to achieve overwhelming victories, rather than relying on prolonged sieges or attrition.\n",
    "\n",
    "Batches: 100%\n",
    " 1/1 [00:00<00:00,  1.09it/s]\n",
    "Alexander's army was arranged with the cavalry Companions on the right wing, followed by the royal squadron and other squadrons. The phalanx of Macedonian infantry was positioned near the cavalry, with select corps of shield-bearing guards leading the way. Darius's army was set up with Bactrian cavalry, Daans, and Arachotians on the left wing, Persians, Susians, and Cadusians near them, and men from Coele-Syria and Mesopotamia on the right. Medes, Parthians, Sacians, Tapurians, Hyrcanians, Albanians, and Sacesinians were also positioned on the right. In the center, where Darius was, were his kinsmen, Persian guards, Indians, Carians, and Mardian archers. The Uxians, Babylonians, men from the Red Sea, and Sitacenians were also in the center. Scythian cavalry, Bactrians, and scythe-bearing chariots were posted on the left, while Armenian and Cappadocian cavalry with scythe-bearing chariots were on the right. Greek mercenaries were stationed near Darius, opposite the Macedonian phalanx.\n",
    "\n",
    "Node ID: 240ff12c-c7fd-4731-9750-b47b7b7c8707\n",
    "Text: And it turned out  just as Alexander had conjectured; for as\n",
    "soon as the battle became a  hand-to-hand one, the part of the Persian\n",
    "army stationed on the left  wing was put to rout; and here Alexander\n",
    "and his men won a brilliant  victory. But the Grecian mercenaries\n",
    "serving under Darius attacked  the Macedonians at the point where they\n",
    "saw their...\n",
    "Score:  0.791\n",
    "\n",
    "Node ID: 0be6d501-d59e-465f-8769-81180073c97d\n",
    "Text: Moreover, if  any unexpected defeat befell his army, the\n",
    "circumjacent country was  friendly to the enemy, and they were\n",
    "acquainted with the locality,  whereas the Macedonians[401] were\n",
    "unacquainted with it, and surrounded  by nothing but foes, of whom\n",
    "there were a great number prisoners.  These would be a great source of\n",
    "anxiety, as they would b...\n",
    "Score:  0.781\n",
    "</pre>"
   ]
  },
  {
   "cell_type": "code",
   "execution_count": 13,
   "id": "ff7e7248-86f4-4beb-aef8-33cfbd23835e",
   "metadata": {
    "tags": []
   },
   "outputs": [
    {
     "name": "stdout",
     "output_type": "stream",
     "text": [
      "Hypothetical answer:  assistant: Alexander the Great, known for his ambition and power, is said to have encountered the Cynic philosopher Diogenes, who lived in a large jar. Alexander, impressed by Diogenes's lack of material desires, reportedly offered him anything he wanted, to which Diogenes simply replied, \"Stand out of my sun.\" This anecdote highlights the contrast between worldly power and philosophical detachment.\n",
      "\n"
     ]
    },
    {
     "data": {
      "application/vnd.jupyter.widget-view+json": {
       "model_id": "aafc12ba92174dbe90921ca7c5b98fae",
       "version_major": 2,
       "version_minor": 0
      },
      "text/plain": [
       "Batches:   0%|          | 0/1 [00:00<?, ?it/s]"
      ]
     },
     "metadata": {},
     "output_type": "display_data"
    },
    {
     "name": "stdout",
     "output_type": "stream",
     "text": [
      "The text does not contain information about Alexander's encounter with Diogenes. However, it does mention Alexander's interactions with Indian philosophers, including Dandamis and Calanus.\n",
      "\n",
      "Node ID: 55632250-a239-415c-9f5c-e95ea278e072\n",
      "Text: Again, when he arrived at Taxila and saw  the naked sect of\n",
      "Indian philosophers, he was exceedingly desirous  that one of these\n",
      "men should live with him; because he admired their  power of\n",
      "endurance.[833] But the oldest of the philosophers, Dandamis  by name,\n",
      "of whom the others were disciples, refused to come himself  to\n",
      "Alexander, and would not...\n",
      "Score:  0.769\n",
      "\n",
      "Node ID: dca41577-7a0a-4b95-ab1e-0f770b855424\n",
      "Text: For this reason it seems to me that a hero totally unlike  any\n",
      "other human being could not have been born without the agency of  the\n",
      "deity. And this is said to have been revealed after Alexander’s  death\n",
      "by the oracular responses, by the visions which presented  themselves\n",
      "to various people, and by the dreams which were seen by  different\n",
      "indivi...\n",
      "Score:  0.742\n",
      "\n"
     ]
    }
   ],
   "source": [
    "hyde_rag(\"Describe the relationship between Alexander and Diogenes.\");"
   ]
  },
  {
   "cell_type": "markdown",
   "id": "b5ac2af8-d43b-4885-b037-63c7ca537724",
   "metadata": {},
   "source": [
    "Answer for chunk size = 100:\n",
    "<pre>\n",
    "Hypothetical answer:  assistant: Alexander the Great, known for his ambition and power, is said to have encountered the philosopher Diogenes, known for his simple and unconventional lifestyle. While accounts vary, the most famous anecdote describes Alexander asking Diogenes if he needed anything, to which Diogenes replied, \"Stand out of my sun.\" This highlights the contrast between worldly power and philosophical independence.\n",
    "\n",
    "Batches: 100%\n",
    " 1/1 [00:00<00:00,  1.21it/s]\n",
    "Diogenes wanted nothing other than for Alexander and his attendants to move out of the sunlight. Alexander is known to have expressed his admiration for Diogenes’s conduct. Despite this, Alexander was still a slave to his insatiable ambition.\n",
    "\n",
    "Node ID: 0f23358e-cc16-4532-8f17-535e66d5c650\n",
    "Text: But Diogenes said that he  wanted nothing else, except that he\n",
    "and his attendants would stand out  of the sunlight. Alexander is said\n",
    "to have expressed his admiration  of Diogenes’s conduct.\n",
    "Score:  0.844\n",
    "\n",
    "Node ID: 2f31f92a-280d-4de6-85ef-a42c58549182\n",
    "Text: Alexander is said to have expressed his admiration  of\n",
    "Diogenes’s conduct.[832] Thus it is evident that Alexander was  not\n",
    "entirely destitute of better feelings; but he was the slave of  his\n",
    "insatiable ambition.\n",
    "Score:  0.807\n",
    "\n",
    "Node ID: fc3db266-194a-4c2c-bc61-be3ddb8ace0d\n",
    "Text: Alexander refers to him and the Athenians. See Plutarch\n",
    "(_Alex._, 55).    [566] Cf. _Arrian_ (vii. 29).    [567] _Curtius_\n",
    "(viii.\n",
    "Score:  0.765\n",
    "\n",
    "Node ID: bf024ecd-0a39-48f3-8eac-adfb162a96b4\n",
    "Text: [882] Literally “with his own head,” an Homeric expression. We\n",
    "learn  from Plutarch (_Eumenes_, 6), that Craterus was a great\n",
    "favourite with  the Macedonians because he opposed Alexander’s Asiatic\n",
    "innovations.\n",
    "Score:  0.762\n",
    "</pre>\n",
    "\n",
    "Answer for chunk size = 1024:\n",
    "<pre>\n",
    "Hypothetical answer:  assistant: Alexander the Great, known for his ambition and power, is said to have encountered the Cynic philosopher Diogenes, who lived in a large jar. Alexander, impressed by Diogenes's lack of material desires, reportedly asked if he could grant him any wish, to which Diogenes replied, \"Stand out of my sun.\" This anecdote highlights the contrast between worldly power and philosophical detachment.\n",
    "\n",
    "Batches: 100%\n",
    " 1/1 [00:00<00:00,  1.03it/s]\n",
    "Alexander met Diogenes of Sinope in the Isthmus and asked if he wanted anything. Diogenes replied that he wanted nothing other than for Alexander and his attendants to stand out of the sunlight. Alexander is said to have expressed his admiration of Diogenes’s conduct.\n",
    "\n",
    "Node ID: 20e92215-fb3e-4978-bbb7-477daacd4b3b\n",
    "Text: But this I think I can confidently  affirm, that he meditated\n",
    "nothing small or mean; and that he would  never have remained\n",
    "satisfied with any of the acquisitions he had made,  even if he had\n",
    "added Europe to Asia, or the islands of the Britons to  Europe; but\n",
    "would still have gone on seeking for unknown lands beyond  those\n",
    "mentioned. I verily be...\n",
    "Score:  0.793\n",
    "\n",
    "Node ID: 9320067a-9eac-4a74-a111-90becb50e618\n",
    "Text: There is also a current  report that Alexander wished men to\n",
    "prostrate themselves before him as  to a god, entertaining the notion\n",
    "that Ammon was his father, rather  than Philip; and that he now showed\n",
    "his admiration of the customs of  the Persians and Medes by changing\n",
    "the style of his dress, and by the  alteration he made in the general\n",
    "etique...\n",
    "</pre>"
   ]
  },
  {
   "cell_type": "markdown",
   "id": "0a9c2c61-2577-4b05-bd99-ceaf5954ff28",
   "metadata": {
    "tags": []
   },
   "source": [
    "## Query expansion\n",
    "\n",
    "Adding context to the query can help match the content of chunks better."
   ]
  },
  {
   "cell_type": "code",
   "execution_count": 17,
   "id": "efda62b4-b8a4-48d1-a14a-5ded52e3150f",
   "metadata": {
    "tags": []
   },
   "outputs": [
    {
     "data": {
      "application/vnd.jupyter.widget-view+json": {
       "model_id": "f7fc821d284c4117834bf502e83eb6f7",
       "version_major": 2,
       "version_minor": 0
      },
      "text/plain": [
       "Batches:   0%|          | 0/1 [00:00<?, ?it/s]"
      ]
     },
     "metadata": {},
     "output_type": "display_data"
    },
    {
     "name": "stdout",
     "output_type": "stream",
     "text": [
      "The Persians struck the Greeks on their faces with lances and were repulsed by the cavalry.\n",
      "\n",
      "Node ID: c64329cf-a82e-4de7-bdc1-23265024fb68\n",
      "Text: Showing this to Alexander, he bade him ask some one else for\n",
      "one. Then  Demaratus, a man of Corinth, one of his personal\n",
      "Companions, gave him  his own spear; which he had no sooner taken than\n",
      "seeing Mithridates,  the son-in-law of Darius, riding far in front of\n",
      "the others, and  leading with him a body of cavalry arranged like a\n",
      "wedge, he rode on...\n",
      "Score:  0.692\n",
      "\n",
      "Node ID: 2d7098fa-e4a0-4b72-9402-eb2806c64c36\n",
      "Text: [138] To Athens also  he sent 300 suits of Persian armour to be\n",
      "hung up in the Acropolis[139]  as a votive offering to Athena, and\n",
      "ordered this inscription to be  fixed over them: “Alexander, son of\n",
      "Philip, and all the Greeks except  the Lacedaemonians, present this\n",
      "offering from the spoils taken from  the foreigners inhabiting Asia.”\n",
      "C...\n",
      "Score:  0.684\n",
      "\n"
     ]
    }
   ],
   "source": [
    "semantic_rag(\"How did the Persian king fight the Greeks?\");"
   ]
  },
  {
   "cell_type": "markdown",
   "id": "86bec132-da4e-49d0-893c-c75127395d84",
   "metadata": {},
   "source": [
    "<pre>\n",
    "The Persians struck the Greeks on their faces with lances and were repulsed by the cavalry.\n",
    "</pre>"
   ]
  },
  {
   "cell_type": "code",
   "execution_count": 16,
   "id": "62143201-8bec-4610-9e49-54fa2de444cc",
   "metadata": {
    "tags": []
   },
   "outputs": [
    {
     "name": "stdout",
     "output_type": "stream",
     "text": [
      "Expanded question:  assistant: How did the Achaemenid Persian king Darius III, as described in Arrian's *Anabasis Alexandri* written in the 2nd century CE, engage in military conflict with the Macedonians and other Greeks under the leadership of Alexander the Great, son of Philip II of Macedon? Consider the strategies, tactics, and weaponry employed by the Persians, including any contributions from their Median, Bactrian, Sogdian, or other Iranian subjects, as well as any alliances they may have formed with groups such as Scythians or Indians.\n",
      "\n"
     ]
    },
    {
     "data": {
      "application/vnd.jupyter.widget-view+json": {
       "model_id": "59a0fab86217471dbc54546a3a5d0ade",
       "version_major": 2,
       "version_minor": 0
      },
      "text/plain": [
       "Batches:   0%|          | 0/1 [00:00<?, ?it/s]"
      ]
     },
     "metadata": {},
     "output_type": "display_data"
    },
    {
     "name": "stdout",
     "output_type": "stream",
     "text": [
      "Darius and his forces, including Persians, Indians, Albanians, and Carians, engaged Alexander's army at Arbela. The Persians marched parallel to Alexander, attempting to outflank him. Scythian cavalry clashed with the front of Alexander's line. Darius, fearing his chariots would be useless on uneven ground, ordered his left wing to ride around Alexander's right wing. Grecian mercenaries were routed by the Scythian cavalry and Bactrians, who were more numerous and better armored. Alexander then ordered Aristo to attack the Scythians, and the barbarians gave way. The Bactrians renewed the battle, causing a general cavalry engagement with many Macedonian casualties. The Persians launched scythe-bearing chariots against Alexander's phalanx, but the Agrianians and javelin-men countered them. Some chariots passed through the ranks, but the drivers were later overpowered.\n",
      "\n",
      "Node ID: 92c63326-6da9-406e-8c83-9a906a1bffe0\n",
      "Text: The Cathaeans themselves were considered very daring  and\n",
      "skilful in war; and two other tribes of Indians, the Oxydracians  and\n",
      "Mallians, were in the same temper as the Cathaeans. For a short  time\n",
      "before it happened that Porus and Abisares had marched against  them\n",
      "with their own forces and had roused many other tribes of the\n",
      "independent India...\n",
      "Score:  0.754\n",
      "\n",
      "Node ID: 0826ce07-2a7d-48f9-946f-b0624c1c1ecc\n",
      "Text: Thus had Alexander arranged matters on the right wing. On  the\n",
      "left the Thracians under the command of Sitalces had been posted\n",
      "angular-wise, and near them the cavalry of the Grecian allies, under\n",
      "the direction of Coeranus. Next stood the Odrysian cavalry, under the\n",
      "command of Agatho, son of Tyrimmas. In this part, in front of all,\n",
      "were  post...\n",
      "Score:  0.753\n",
      "\n"
     ]
    }
   ],
   "source": [
    "def add_context_to_query(question):\n",
    "    messages = [\n",
    "        ChatMessage(role=\"system\", \n",
    "                    content=\"\"\"The following question is about topics discussed in a 2nd century book about Alexander the Great.\n",
    "                    Clarify the question posed in the following ways:\n",
    "                    * Expand to include 2nd century names. For example, a question about Iranians should include answers about Parthians, Persians, Medes, Bactrians, etc.\n",
    "                    * Provide context on terms. For example, that Ammonites came from Jordan or that Philip was the father of Alexander.\n",
    "                    Provide only the clarified question without any preamble or instructions.\n",
    "                    \"\"\"\n",
    "                   ),\n",
    "        ChatMessage(role=\"user\", content=question)\n",
    "    ]\n",
    "    expanded_question = str(llm.chat(messages))\n",
    "    return expanded_question\n",
    "\n",
    "def query_expansion_rag(question):\n",
    "    expanded_question = add_context_to_query(question)\n",
    "    print(\"Expanded question: \", expanded_question)\n",
    "    return semantic_rag(expanded_question)\n",
    "\n",
    "query_expansion_rag(\"How did the Persian king fight the Greeks?\");"
   ]
  },
  {
   "cell_type": "markdown",
   "id": "e3fba865-3c1d-4278-8160-62cc55b9e65b",
   "metadata": {},
   "source": [
    "<pre>\n",
    "Expanded question:  assistant: How did the Achaemenid Persian king Darius III, as described in Arrian's *Anabasis Alexandri* written in the 2nd century CE, engage in military conflict with the Macedonians and other Greeks under the leadership of Alexander the Great, son of Philip II of Macedon? Consider the strategies, tactics, and weaponry employed by the Persians, including any contributions from their Median, Bactrian, Sogdian, or other Iranian subjects, as well as any alliances they may have formed with groups such as Scythians or Indians.\n",
    "\n",
    "Batches: 100%\n",
    " 1/1 [00:00<00:00,  3.60it/s]\n",
    "Darius and his forces, including Persians, Indians, Albanians, and Carians, engaged Alexander's army at Arbela. The Persians marched parallel to Alexander, attempting to outflank him. Scythian cavalry clashed with the front of Alexander's line. Darius, fearing his chariots would be useless on uneven ground, ordered his left wing to ride around Alexander's right wing. Grecian mercenaries were routed by the Scythian cavalry and Bactrians, who were more numerous and better armored. Alexander then ordered Aristo to attack the Scythians, and the barbarians gave way. The Bactrians renewed the battle, causing a general cavalry engagement with many Macedonian casualties. The Persians launched scythe-bearing chariots against Alexander's phalanx, but the Agrianians and javelin-men countered them. Some chariots passed through the ranks, but the drivers were later overpowered.\n",
    "</pre>"
   ]
  },
  {
   "cell_type": "code",
   "execution_count": null,
   "id": "e4ea984a-02be-4239-9cf8-63122d3eb818",
   "metadata": {},
   "outputs": [],
   "source": []
  }
 ],
 "metadata": {
  "environment": {
   "kernel": "conda-base-py",
   "name": "workbench-notebooks.m126",
   "type": "gcloud",
   "uri": "us-docker.pkg.dev/deeplearning-platform-release/gcr.io/workbench-notebooks:m126"
  },
  "kernelspec": {
   "display_name": "Python 3 (ipykernel) (Local)",
   "language": "python",
   "name": "conda-base-py"
  },
  "language_info": {
   "codemirror_mode": {
    "name": "ipython",
    "version": 3
   },
   "file_extension": ".py",
   "mimetype": "text/x-python",
   "name": "python",
   "nbconvert_exporter": "python",
   "pygments_lexer": "ipython3",
   "version": "3.10.15"
  }
 },
 "nbformat": 4,
 "nbformat_minor": 5
}
