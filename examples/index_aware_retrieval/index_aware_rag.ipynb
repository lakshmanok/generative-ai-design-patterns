{
 "cells": [
  {
   "cell_type": "code",
   "execution_count": 1,
   "id": "41664a72-3e67-4e57-9e6d-2a01ed7ed8bb",
   "metadata": {},
   "outputs": [],
   "source": [
    "#%pip install --quiet llama-index llama-index-llms-gemini llama-index-embeddings-huggingface pydantic-ai "
   ]
  },
  {
   "cell_type": "code",
   "execution_count": 1,
   "id": "b078983c-cda3-46d0-8438-d284bc017b3c",
   "metadata": {
    "tags": []
   },
   "outputs": [],
   "source": [
    "MODEL_ID = \"gemini-2.0-flash\"\n",
    "EMBED_MODEL_ID = \"BAAI/bge-small-en-v1.5\"\n",
    "\n",
    "import os\n",
    "from dotenv import load_dotenv\n",
    "load_dotenv(\"../keys.env\")\n",
    "assert os.environ[\"GEMINI_API_KEY\"][:2] == \"AI\",\\\n",
    "       \"Please specify the GEMINI_API_KEY access token in keys.env file\"\n",
    "assert os.environ[\"HF_TOKEN\"][:2] == \"hf\",\\\n",
    "       \"Please specify the HF_TOKEN access token in keys.env file\""
   ]
  },
  {
   "cell_type": "code",
   "execution_count": 2,
   "id": "40dad339-d55a-4440-8ab4-367f0cb0ffc7",
   "metadata": {
    "tags": []
   },
   "outputs": [],
   "source": [
    "import sys\n",
    "sys.path.append('../basic_rag')\n",
    "import gutenberg_text_loader as gtl\n",
    "import logging\n",
    "logging.basicConfig(level=logging.INFO, format='%(asctime)s - %(levelname)s - %(message)s')\n",
    "logger = logging.getLogger(__name__)"
   ]
  },
  {
   "cell_type": "markdown",
   "id": "15a2e1d2-2682-4e82-8e55-7b5134ddf34a",
   "metadata": {},
   "source": [
    "The examples here on the book Anabasis of Alexander https://www.gutenberg.org/cache/epub/46976/pg46976.txt\n",
    "a 2nd century historical account of Alexander the Great"
   ]
  },
  {
   "cell_type": "markdown",
   "id": "acc0820e-3300-46f1-ac1b-5fc2208be423",
   "metadata": {},
   "source": [
    "## Plain Semantic Indexing to use as a comparison"
   ]
  },
  {
   "cell_type": "code",
   "execution_count": 3,
   "id": "3335ac11-8a74-4cb8-a92a-d5e3fef50640",
   "metadata": {
    "tags": []
   },
   "outputs": [],
   "source": [
    "#!rm -rf .cache vector_index   # uncomment to start afresh"
   ]
  },
  {
   "cell_type": "code",
   "execution_count": 4,
   "id": "2288ed7b-4783-4445-b179-3e21aa38799f",
   "metadata": {
    "tags": []
   },
   "outputs": [
    {
     "name": "stdout",
     "output_type": "stream",
     "text": [
      "./.cache:\n",
      "pg46976_1b16d8525c.txt\n",
      "\n",
      "vector_index:\n",
      "default__vector_store.json  graph_store.json\t      index_store.json\n",
      "docstore.json\t\t    image__vector_store.json\n"
     ]
    }
   ],
   "source": [
    "!ls ./.cache vector_index"
   ]
  },
  {
   "cell_type": "code",
   "execution_count": 5,
   "id": "ac3a0082-337e-438b-89c8-00b0145ee721",
   "metadata": {
    "tags": []
   },
   "outputs": [
    {
     "name": "stderr",
     "output_type": "stream",
     "text": [
      "2025-03-26 18:48:13,073 - INFO - PyTorch version 2.5.1 available.\n",
      "2025-03-26 18:48:14,440 - INFO - Load pretrained SentenceTransformer: BAAI/bge-small-en-v1.5\n",
      "2025-03-26 18:48:16,422 - INFO - 2 prompts are loaded, with the keys: ['query', 'text']\n"
     ]
    },
    {
     "name": "stdout",
     "output_type": "stream",
     "text": [
      "Loading in already created index\n"
     ]
    },
    {
     "name": "stderr",
     "output_type": "stream",
     "text": [
      "2025-03-26 18:48:19,662 - INFO - Loading all indices.\n"
     ]
    }
   ],
   "source": [
    "from llama_index.embeddings.huggingface import HuggingFaceEmbedding\n",
    "from llama_index.core import Settings\n",
    "from llama_index.core import VectorStoreIndex, SimpleDirectoryReader\n",
    "from llama_index.core import StorageContext, load_index_from_storage\n",
    "from llama_index.core import Document\n",
    "import os\n",
    "import pathlib\n",
    "\n",
    "INDEX_DIR=\"vector_index\"\n",
    "Settings.embed_model = HuggingFaceEmbedding(\n",
    "    model_name=EMBED_MODEL_ID\n",
    ")\n",
    "\n",
    "# these are the defaults in LlamaIndex\n",
    "Settings.chunk_size = 1024; Settings.chunk_overlap = 20; TOP_K=2\n",
    "#Settings.chunk_size = 100; Settings.chunk_overlap = 10; TOP_K=4\n",
    "\n",
    "if os.path.isdir(INDEX_DIR):\n",
    "    print(\"Loading in already created index\")\n",
    "    storage_context = StorageContext.from_defaults(persist_dir=INDEX_DIR)\n",
    "    index = load_index_from_storage(storage_context)\n",
    "else:\n",
    "    # downloads into .cache the first time\n",
    "    gs = gtl.GutenbergSource()\n",
    "    doc = gs.load_from_url(\"https://www.gutenberg.org/cache/epub/46976/pg46976.txt\")\n",
    "    # reads all files in .cache\n",
    "    documents = SimpleDirectoryReader(input_dir=\"./.cache\", required_exts=[\".txt\"], exclude_hidden=False).load_data()\n",
    "    # creates a vector db\n",
    "    index = VectorStoreIndex.from_documents(documents)\n",
    "    index.storage_context.persist(persist_dir=INDEX_DIR)"
   ]
  },
  {
   "cell_type": "code",
   "execution_count": 9,
   "id": "50285303-18c8-4b9d-a2f8-8a7d6ea3967c",
   "metadata": {
    "tags": []
   },
   "outputs": [
    {
     "name": "stderr",
     "output_type": "stream",
     "text": [
      "/var/tmp/ipykernel_44368/3339145799.py:4: DeprecationWarning: Call to deprecated class Gemini. (Should use `llama-index-llms-google-genai` instead, using Google's latest unified SDK. See: https://docs.llamaindex.ai/en/stable/examples/llm/google_genai/)\n",
      "  llm = Gemini(model=f\"models/{MODEL_ID}\", api_key=os.environ[\"GEMINI_API_KEY\"])\n"
     ]
    },
    {
     "data": {
      "application/vnd.jupyter.widget-view+json": {
       "model_id": "c747274766644afdaada83cce5e54dec",
       "version_major": 2,
       "version_minor": 0
      },
      "text/plain": [
       "Batches:   0%|          | 0/1 [00:00<?, ?it/s]"
      ]
     },
     "metadata": {},
     "output_type": "display_data"
    },
    {
     "name": "stdout",
     "output_type": "stream",
     "text": [
      "Alexander took Hyparna at first assault but allowed the Greeks to leave the citadel under a truce. He brought over the Telmissians by agreement. Cities including Pinara, Xanthus, and Patara surrendered to him. He ordered the Phaselites and Lycians to surrender their cities to those he sent to receive them, and they were all surrendered. He helped the men of Phaselis capture a fort constructed by the Pisidians. When Thebes was razed, Alexander preserved the house and descendants of Pindar the poet. He gave a courteous reply to an Athenian embassy. He remitted his wrath against those the Athenians refused to surrender to him, but ordered Charidemus to go into banishment.\n",
      "\n",
      "Node ID: d2b4750d-8bb7-4b64-97e1-d9e1fd622239\n",
      "Text: He gave these  officers instructions to levy as many horse and\n",
      "foot soldiers as they  could from the country, when they returned to\n",
      "him and brought back the  men who had been sent away with them. By\n",
      "this act more than by any  other Alexander acquired popularity among\n",
      "the Macedonians. He also sent  Cleander, son of Polemocrates, to levy\n",
      "soldiers ...\n",
      "Score:  0.733\n",
      "\n",
      "Node ID: f9fcf4b7-183d-4cef-8449-9fb7c35fe1f3\n",
      "Text: They resolved to occupy the  Cadmea with a garrison; to raze the\n",
      "city to the ground; to distribute  among themselves all the territory,\n",
      "except what was dedicated to the  gods; and to sell into slavery the\n",
      "women and children, and as many of  the males as survived, except\n",
      "those who were priests or priestesses,  and those who were bound to\n",
      "Philip o...\n",
      "Score:  0.729\n",
      "\n"
     ]
    }
   ],
   "source": [
    "from llama_index.llms.gemini import Gemini\n",
    "from llama_index.core.query_engine import RetrieverQueryEngine\n",
    "\n",
    "llm = Gemini(model=f\"models/{MODEL_ID}\", api_key=os.environ[\"GEMINI_API_KEY\"])\n",
    "\n",
    "query_engine = RetrieverQueryEngine.from_args(\n",
    "    retriever=index.as_retriever(similarity_top_k=TOP_K), llm=llm,\n",
    ")\n",
    "\n",
    "def print_response(question):\n",
    "    response = query_engine.query(question)\n",
    "    response = {\n",
    "        \"answer\": str(response),\n",
    "        \"source_nodes\": response.source_nodes\n",
    "    }\n",
    "    print(response['answer'])\n",
    "    for node in response['source_nodes']:\n",
    "        print(node)\n",
    "    return response\n",
    " \n",
    "print_response(\"How did Alexander treat the people of the places he conquered?\");"
   ]
  },
  {
   "cell_type": "markdown",
   "id": "31511e08-3b80-4014-9095-f2bf4e865bed",
   "metadata": {},
   "source": [
    "Saved answer:\n",
    "<pre>\n",
    "Alexander took Hyparna at first assault but allowed the Greeks to leave the citadel under a truce. He brought over the Telmissians by agreement. Cities including Pinara, Xanthus, and Patara surrendered to him. He ordered the Phaselites and Lycians to surrender their cities to those he sent to receive them, and they were all surrendered. He helped the men of Phaselis capture a fort constructed by the Pisidians. When Thebes was razed, Alexander preserved the house and descendants of Pindar the poet. He gave a courteous reply to an Athenian embassy. He remitted his wrath against those the Athenians refused to surrender to him, but ordered Charidemus to go into banishment.\n",
    "</pre>"
   ]
  },
  {
   "cell_type": "code",
   "execution_count": 7,
   "id": "cbce5e25-962c-42d2-8ba7-aa1e008410fc",
   "metadata": {
    "tags": []
   },
   "outputs": [
    {
     "data": {
      "application/vnd.jupyter.widget-view+json": {
       "model_id": "074c6ae369b34d17833d45941ec62bf6",
       "version_major": 2,
       "version_minor": 0
      },
      "text/plain": [
       "Batches:   0%|          | 0/1 [00:00<?, ?it/s]"
      ]
     },
     "metadata": {},
     "output_type": "display_data"
    },
    {
     "name": "stdout",
     "output_type": "stream",
     "text": [
      "The provided text does not contain information about where Alexander died.\n",
      "\n",
      "Node ID: 3ae51689-746d-46c7-8742-986d72fc9007\n",
      "Text: When  he received this news, he stopped the march towards\n",
      "Bactra, and taking  with him the Companion cavalry, the horse-lancers,\n",
      "the archers, the  Agrianians and the regiments of Amyntas and Coenus,\n",
      "and leaving the  rest of his forces there under the command of\n",
      "Craterus, he made a  forced march against Satibarzanes and the\n",
      "Areians; and having tr...\n",
      "Score:  0.699\n",
      "\n",
      "Node ID: 6089be70-704d-4546-89df-75c34ea6d0a7\n",
      "Text: Go back and  report at home that your king Alexander, the\n",
      "conqueror of the Persians,  Medes, Bactrians, and Sacians[875]; the\n",
      "man who has subjugated the  Uxians, Arachotians, and Drangians; who\n",
      "has also acquired the rule  of the Parthians, Chorasmians, and\n",
      "Hyrcanians, as far as the Caspian  Sea; who has marched over the\n",
      "Caucasus, through the Cas...\n",
      "Score:  0.695\n",
      "\n"
     ]
    }
   ],
   "source": [
    "print_response(\"Where did Alexander die?\");"
   ]
  },
  {
   "cell_type": "markdown",
   "id": "197ff2a2-2e7c-4941-bc26-504f8671c388",
   "metadata": {},
   "source": [
    "Saved answer:\n",
    "<pre>\n",
    "The provided text does not contain information about where Alexander died.\n",
    "</pre>"
   ]
  },
  {
   "cell_type": "markdown",
   "id": "cc4e0786-a9bd-4a58-aadf-a96fd7e54a92",
   "metadata": {},
   "source": [
    "## Limitations of the Semantic Indexing\n",
    "\n",
    "It's unable to find small details because the details are lost in the larger chunk. This was not a problem for Basic RAG which is keyword-based because Diogenes is quite a rare word, but it is a problem for Semantic Indexing.\n",
    "\n",
    "See: https://docs.llamaindex.ai/en/stable/optimizing/basic_strategies/basic_strategies/\n",
    "\n",
    "A smaller chunk size means the embeddings are more precise, while a larger chunk size means that the embeddings may be more general, but can miss fine-grained details.\n",
    "\n",
    "Here we show the differences between a chunk size of 100 and 1024\n",
    "\n",
    "### Fine details\n",
    "For chunk size = 100:\n",
    "<pre>\n",
    "Alexander admired Diogenes' conduct. Diogenes requested that Alexander and his attendants move out of the sunlight.\n",
    "</pre>\n",
    "For chunk size = 1024:\n",
    "<pre>\n",
    "The provided text does not contain information about Diogenes.\n",
    "</pre>"
   ]
  },
  {
   "cell_type": "code",
   "execution_count": 11,
   "id": "16aaab66-54fc-4035-b6c3-75ad8c951bf9",
   "metadata": {
    "tags": []
   },
   "outputs": [
    {
     "data": {
      "application/vnd.jupyter.widget-view+json": {
       "model_id": "81cecb20c8214be9a208f23cc2bc2e68",
       "version_major": 2,
       "version_minor": 0
      },
      "text/plain": [
       "Batches:   0%|          | 0/1 [00:00<?, ?it/s]"
      ]
     },
     "metadata": {},
     "output_type": "display_data"
    },
    {
     "name": "stdout",
     "output_type": "stream",
     "text": [
      "The provided text does not contain information about Diogenes.\n",
      "\n",
      "Node ID: 6089be70-704d-4546-89df-75c34ea6d0a7\n",
      "Text: Go back and  report at home that your king Alexander, the\n",
      "conqueror of the Persians,  Medes, Bactrians, and Sacians[875]; the\n",
      "man who has subjugated the  Uxians, Arachotians, and Drangians; who\n",
      "has also acquired the rule  of the Parthians, Chorasmians, and\n",
      "Hyrcanians, as far as the Caspian  Sea; who has marched over the\n",
      "Caucasus, through the Cas...\n",
      "Score:  0.729\n",
      "\n",
      "Node ID: 64ea1229-b295-46c5-bcc3-70c8c2f1b017\n",
      "Text: They were also instructed to support this petition  by word of\n",
      "mouth. The letter pointed out to him that friendship and  alliance had\n",
      "subsisted between Philip and Artaxerxes;[284] and that  when Arses,\n",
      "son of Artaxerxes, ascended the throne, Philip was the  first to\n",
      "practise injustice towards him, though he had suffered no  injury from\n",
      "the Persi...\n",
      "Score:  0.723\n",
      "\n"
     ]
    }
   ],
   "source": [
    "print_response(\"Describe the relationship between Alexander and Diogenes.\");"
   ]
  },
  {
   "cell_type": "markdown",
   "id": "6be6f2f3-df52-4aab-a5e7-339a8a44e80f",
   "metadata": {},
   "source": [
    "### Complex query\n",
    "\n",
    "This is a complex query that requires multiple supporting points pulled from the chunks. None of the chunks will discuss an overall strategy. Hence, the result here is of a tactic in a single battle.\n",
    "\n",
    "chunksize = 100\n",
    "<pre>\n",
    "Alexander led a quick charge with a wedge formation of Companion cavalry and part of the phalanx straight toward Darius. He also enumerated evidences of their superiority in the struggle and pointed out the great rewards they would win.\n",
    "</pre>\n",
    "\n",
    "chunk size = 1024\n",
    "<pre>\n",
    "Alexander was advised to advance against Darius and the Persians without delay. He marched his troops towards Darius, but a storm delayed him. Upon hearing that Darius was in his rear, Alexander sent a ship to Issus to confirm the report.\n",
    "</pre>"
   ]
  },
  {
   "cell_type": "code",
   "execution_count": 13,
   "id": "4d3b1e54-f24d-45c9-8fe3-d7adbdc64e78",
   "metadata": {
    "tags": []
   },
   "outputs": [
    {
     "data": {
      "application/vnd.jupyter.widget-view+json": {
       "model_id": "b4caf4ae23b140a69b4db779b59f7273",
       "version_major": 2,
       "version_minor": 0
      },
      "text/plain": [
       "Batches:   0%|          | 0/1 [00:00<?, ?it/s]"
      ]
     },
     "metadata": {},
     "output_type": "display_data"
    },
    {
     "name": "stdout",
     "output_type": "stream",
     "text": [
      "Upon learning that Darius was in his rear, Alexander encouraged his generals, cavalry commanders, and Grecian leaders to take courage. He pointed out that they, as victors, would be fighting a defeated foe, and that the deity was helping them by leading Darius to move his forces from a spacious plain into a narrow place, negating the advantage of the vast multitude of the opposing army. He also noted the difference in strength, courage, and purpose between his army and that of Darius.\n",
      "\n",
      "Node ID: d172a7db-ece4-4be3-a9a1-1306501103f2\n",
      "Text: ALEXANDER’S TACTICS.—HIS SPEECH TO THE OFFICERS.      When\n",
      "Alexander had received all this information from the Persian  scouts\n",
      "who had been captured, he remained four days in the place where  he\n",
      "had received the news; and gave his army rest after the march. He\n",
      "meanwhile fortified his camp with a ditch and stockade, as he intended\n",
      "to leave beh...\n",
      "Score:  0.766\n",
      "\n",
      "Node ID: fd256fc4-7d16-4f29-a53c-141e245fdcc0\n",
      "Text: So Darius remained. But as Alexander made a  long stay at Tarsus\n",
      "on account of his illness, and not a short one at  Soli, where he\n",
      "offered sacrifice and conducted his army in procession,  and moreover\n",
      "spent some time in marching against the Cilician  mountaineers, Darius\n",
      "was induced to swerve from his resolution. He  was also not unwilling\n",
      "to be...\n",
      "Score:  0.751\n",
      "\n"
     ]
    }
   ],
   "source": [
    "print_response(\"What was Alexander's strategy against Darius III?\");"
   ]
  },
  {
   "cell_type": "markdown",
   "id": "9b68ca2d-2705-4107-ab88-a2e525c2ab92",
   "metadata": {},
   "source": [
    "## Hypothetical Document Embedding (HyDE)\n",
    "\n",
    "Here we show how building a hypothetical answer and then searching for it can help find details that are lost in the chunk, and in pulling data across multiple chunks."
   ]
  },
  {
   "cell_type": "code",
   "execution_count": 14,
   "id": "8113b9e9-e77f-45dd-ad85-28aca6181b09",
   "metadata": {
    "tags": []
   },
   "outputs": [],
   "source": [
    "from llama_index.core.llms import ChatMessage\n",
    "def create_hypothetical_answer(question):\n",
    "    messages = [\n",
    "        ChatMessage(role=\"system\", \n",
    "                    content=\"\"\"Answer the following question in 2-3 sentences.\n",
    "                    If you don't know the answer, make an educated guess.\"\"\"\n",
    "                   ),\n",
    "        ChatMessage(role=\"user\", content=question)\n",
    "    ]\n",
    "    answer = str(llm.chat(messages))\n",
    "    return answer\n",
    "\n",
    "def print_hyde_response(question):\n",
    "    answer = create_hypothetical_answer(question)\n",
    "    print(\"Hypothetical answer: \", answer)\n",
    "    return print_response(answer)"
   ]
  },
  {
   "cell_type": "code",
   "execution_count": 15,
   "id": "26f54ae8-16e3-41fb-a24d-c93b5c886f18",
   "metadata": {
    "tags": []
   },
   "outputs": [
    {
     "name": "stdout",
     "output_type": "stream",
     "text": [
      "Hypothetical answer:  assistant: Alexander's strategy against Darius III centered on decisive battles to cripple the Persian army and seize key territories. He aimed to force Darius into a direct confrontation, exploiting his own superior tactics and the Macedonian phalanx to achieve a crushing victory, thus undermining Darius's authority and control over his empire.\n",
      "\n"
     ]
    },
    {
     "data": {
      "application/vnd.jupyter.widget-view+json": {
       "model_id": "50e4c27dbd4a42258dd8e2d47fe3ea04",
       "version_major": 2,
       "version_minor": 0
      },
      "text/plain": [
       "Batches:   0%|          | 0/1 [00:00<?, ?it/s]"
      ]
     },
     "metadata": {},
     "output_type": "display_data"
    },
    {
     "name": "stdout",
     "output_type": "stream",
     "text": [
      "Alexander received information from captured Persian scouts and rested his army for four days, fortifying the camp. He planned to leave behind baggage and unfit soldiers, advancing with warriors and weapons. Marching at night, he aimed to engage the enemy at daybreak. Darius drew out his army upon learning of Alexander's approach, but hills obscured their view. When only thirty stades apart, Alexander halted his phalanx and convened a council. He deliberated whether to attack immediately or encamp to reconnoiter the ground and enemy tactics, with Parmenio's advice to encamp prevailing. Alexander reconnoitered the area with light infantry and cavalry, then addressed his leaders, emphasizing their past valor and the significance of the upcoming battle for Asia's rule. He stressed discipline, silence when needed, and a sonorous battle-cry when opportune, urging them to swiftly obey and transmit orders, recognizing individual and collective responsibility for victory.\n",
      "\n",
      "Node ID: d172a7db-ece4-4be3-a9a1-1306501103f2\n",
      "Text: ALEXANDER’S TACTICS.—HIS SPEECH TO THE OFFICERS.      When\n",
      "Alexander had received all this information from the Persian  scouts\n",
      "who had been captured, he remained four days in the place where  he\n",
      "had received the news; and gave his army rest after the march. He\n",
      "meanwhile fortified his camp with a ditch and stockade, as he intended\n",
      "to leave beh...\n",
      "Score:  0.770\n",
      "\n",
      "Node ID: d14edfb3-6bcb-4ccd-b317-6f05491e3c36\n",
      "Text: Alexander, however,  led his forces towards the city; and the\n",
      "enemy, after sacrificing three  boys, an equal number of girls, and\n",
      "three black rams, sallied forth for  the purpose of receiving the\n",
      "Macedonians in a hand-to-hand conflict.  But as soon as they came to\n",
      "close quarters, they left the positions  which they had occupied,\n",
      "strong as they w...\n",
      "Score:  0.766\n",
      "\n"
     ]
    }
   ],
   "source": [
    "print_hyde_response(\"What was Alexander's strategy against Darius III?\");"
   ]
  },
  {
   "cell_type": "markdown",
   "id": "84802c7c-650e-472c-821d-3f1c66df2e3d",
   "metadata": {
    "tags": []
   },
   "source": [
    "Answer for chunk size = 100:\n",
    "<pre>\n",
    "Hypothetical answer:  assistant: Alexander's strategy against Darius III centered on forcing decisive battles to cripple the Persian army and seize key territories. He aimed to draw Darius into open conflict, exploiting the Macedonian army's superior tactics and discipline to achieve victory and ultimately depose Darius from his throne.\n",
    "\n",
    "Batches: 100%\n",
    " 1/1 [00:00<00:00,  1.57it/s]\n",
    "Alexander commanded in the field against Darius, pointing out the great rewards to be won. When Darius began to set his whole phalanx in motion, Alexander ordered an attack.\n",
    "\n",
    "Node ID: c283ed80-e07e-4b79-9318-09a25b6976fa\n",
    "Text: In addition to all this,  Alexander was commanding in the field\n",
    "against Darius. These things  he enumerated as evidences of their\n",
    "superiority in the struggle; and  then he began to point out the great\n",
    "rewards they would win from the  danger to be incurred.\n",
    "Score:  0.798\n",
    "\n",
    "Node ID: 74b1f3d9-84d3-47e3-9597-793085c8e50f\n",
    "Text: DEFEAT OF THE PERSIANS AND PURSUIT OF DARIUS.      At this\n",
    "juncture, while the Macedonians were doubtful as to the result  of the\n",
    "battle, Parmenio sent a messenger to Alexander in haste, to  tell him\n",
    "that their side was in a critical position and that he  must send him\n",
    "aid.\n",
    "Score:  0.780\n",
    "\n",
    "Node ID: e8f0aa7c-a261-4b33-bffd-798af571a8b1\n",
    "Text: ix.). But Diodorus says that Alexander ordered  and arranged the\n",
    "assault, that the Thebans made a brave and desperate  resistance for a\n",
    "long time, and that not only the Boeotian allies, but  the Macedonians\n",
    "themselves committed great slaughter of the besieged  (_Diod.\n",
    "Score:  0.774\n",
    "\n",
    "Node ID: 9ba1d49c-dc7d-4c09-90a0-5bcc4f4b6fa7\n",
    "Text: BATTLE OF ARBELA.—FLIGHT OF DARIUS.      As soon as Darius began\n",
    "to set his whole phalanx in motion, Alexander  ordered Aretes to\n",
    "attack those who were riding completely round his  right wing; and up\n",
    "to that time he was himself leading his men in  column.\n",
    "Score:  0.768\n",
    "</pre>\n",
    "\n",
    "Answer for chunk size = 1024:\n",
    "<pre>\n",
    "Hypothetical answer:  assistant: Alexander's strategy against Darius III centered on forcing decisive battles to cripple the Persian army and seize key territories. He aimed to draw Darius into open combat, exploiting his own superior tactics and the Macedonian phalanx to achieve overwhelming victories, rather than relying on prolonged sieges or attrition.\n",
    "\n",
    "Batches: 100%\n",
    " 1/1 [00:00<00:00,  1.09it/s]\n",
    "Alexander's army was arranged with the cavalry Companions on the right wing, followed by the royal squadron and other squadrons. The phalanx of Macedonian infantry was positioned near the cavalry, with select corps of shield-bearing guards leading the way. Darius's army was set up with Bactrian cavalry, Daans, and Arachotians on the left wing, Persians, Susians, and Cadusians near them, and men from Coele-Syria and Mesopotamia on the right. Medes, Parthians, Sacians, Tapurians, Hyrcanians, Albanians, and Sacesinians were also positioned on the right. In the center, where Darius was, were his kinsmen, Persian guards, Indians, Carians, and Mardian archers. The Uxians, Babylonians, men from the Red Sea, and Sitacenians were also in the center. Scythian cavalry, Bactrians, and scythe-bearing chariots were posted on the left, while Armenian and Cappadocian cavalry with scythe-bearing chariots were on the right. Greek mercenaries were stationed near Darius, opposite the Macedonian phalanx.\n",
    "\n",
    "Node ID: 240ff12c-c7fd-4731-9750-b47b7b7c8707\n",
    "Text: And it turned out  just as Alexander had conjectured; for as\n",
    "soon as the battle became a  hand-to-hand one, the part of the Persian\n",
    "army stationed on the left  wing was put to rout; and here Alexander\n",
    "and his men won a brilliant  victory. But the Grecian mercenaries\n",
    "serving under Darius attacked  the Macedonians at the point where they\n",
    "saw their...\n",
    "Score:  0.791\n",
    "\n",
    "Node ID: 0be6d501-d59e-465f-8769-81180073c97d\n",
    "Text: Moreover, if  any unexpected defeat befell his army, the\n",
    "circumjacent country was  friendly to the enemy, and they were\n",
    "acquainted with the locality,  whereas the Macedonians[401] were\n",
    "unacquainted with it, and surrounded  by nothing but foes, of whom\n",
    "there were a great number prisoners.  These would be a great source of\n",
    "anxiety, as they would b...\n",
    "Score:  0.781\n",
    "</pre>"
   ]
  },
  {
   "cell_type": "code",
   "execution_count": 16,
   "id": "ff7e7248-86f4-4beb-aef8-33cfbd23835e",
   "metadata": {
    "tags": []
   },
   "outputs": [
    {
     "name": "stdout",
     "output_type": "stream",
     "text": [
      "Hypothetical answer:  assistant: Alexander the Great, known for his ambition and power, is said to have encountered the philosopher Diogenes, known for his simple and unconventional lifestyle. While accounts vary, the most famous anecdote describes Alexander asking Diogenes if he needed anything, to which Diogenes replied, \"Stand out of my sun.\" This highlights the contrast between worldly power and philosophical independence.\n",
      "\n"
     ]
    },
    {
     "data": {
      "application/vnd.jupyter.widget-view+json": {
       "model_id": "eb7edb7eeac74430848ab1f1d49a5b6c",
       "version_major": 2,
       "version_minor": 0
      },
      "text/plain": [
       "Batches:   0%|          | 0/1 [00:00<?, ?it/s]"
      ]
     },
     "metadata": {},
     "output_type": "display_data"
    },
    {
     "name": "stdout",
     "output_type": "stream",
     "text": [
      "I am sorry, but the provided text does not contain information about Alexander's encounter with Diogenes. However, the text does detail Alexander's interactions with Indian philosophers, including Dandamis and Calanus, and also describes a dispute between Callisthenes and Anaxarchus regarding the honors due to Alexander.\n",
      "\n",
      "Node ID: 55632250-a239-415c-9f5c-e95ea278e072\n",
      "Text: Again, when he arrived at Taxila and saw  the naked sect of\n",
      "Indian philosophers, he was exceedingly desirous  that one of these\n",
      "men should live with him; because he admired their  power of\n",
      "endurance.[833] But the oldest of the philosophers, Dandamis  by name,\n",
      "of whom the others were disciples, refused to come himself  to\n",
      "Alexander, and would not...\n",
      "Score:  0.765\n",
      "\n",
      "Node ID: 5318d84d-c840-468f-9583-abfc4283e0a2\n",
      "Text: There were  not wanting those who in regard to these matters\n",
      "gave way to his wishes  with the design of flattering him; among\n",
      "others being Anaxarchus, one  of the philosophers attending his court,\n",
      "and Agis, an Argive who was an  epic poet.[549]          CHAPTER X.\n",
      "DISPUTE BETWEEN CALLISTHENES AND ANAXARCHUS.      But it is said that\n",
      "Callisthe...\n",
      "Score:  0.736\n",
      "\n"
     ]
    }
   ],
   "source": [
    "print_hyde_response(\"Describe the relationship between Alexander and Diogenes.\");"
   ]
  },
  {
   "cell_type": "markdown",
   "id": "b5ac2af8-d43b-4885-b037-63c7ca537724",
   "metadata": {},
   "source": [
    "Answer for chunk size = 100:\n",
    "<pre>\n",
    "Hypothetical answer:  assistant: Alexander the Great, known for his ambition and power, is said to have encountered the philosopher Diogenes, known for his simple and unconventional lifestyle. While accounts vary, the most famous anecdote describes Alexander asking Diogenes if he needed anything, to which Diogenes replied, \"Stand out of my sun.\" This highlights the contrast between worldly power and philosophical independence.\n",
    "\n",
    "Batches: 100%\n",
    " 1/1 [00:00<00:00,  1.21it/s]\n",
    "Diogenes wanted nothing other than for Alexander and his attendants to move out of the sunlight. Alexander is known to have expressed his admiration for Diogenes’s conduct. Despite this, Alexander was still a slave to his insatiable ambition.\n",
    "\n",
    "Node ID: 0f23358e-cc16-4532-8f17-535e66d5c650\n",
    "Text: But Diogenes said that he  wanted nothing else, except that he\n",
    "and his attendants would stand out  of the sunlight. Alexander is said\n",
    "to have expressed his admiration  of Diogenes’s conduct.\n",
    "Score:  0.844\n",
    "\n",
    "Node ID: 2f31f92a-280d-4de6-85ef-a42c58549182\n",
    "Text: Alexander is said to have expressed his admiration  of\n",
    "Diogenes’s conduct.[832] Thus it is evident that Alexander was  not\n",
    "entirely destitute of better feelings; but he was the slave of  his\n",
    "insatiable ambition.\n",
    "Score:  0.807\n",
    "\n",
    "Node ID: fc3db266-194a-4c2c-bc61-be3ddb8ace0d\n",
    "Text: Alexander refers to him and the Athenians. See Plutarch\n",
    "(_Alex._, 55).    [566] Cf. _Arrian_ (vii. 29).    [567] _Curtius_\n",
    "(viii.\n",
    "Score:  0.765\n",
    "\n",
    "Node ID: bf024ecd-0a39-48f3-8eac-adfb162a96b4\n",
    "Text: [882] Literally “with his own head,” an Homeric expression. We\n",
    "learn  from Plutarch (_Eumenes_, 6), that Craterus was a great\n",
    "favourite with  the Macedonians because he opposed Alexander’s Asiatic\n",
    "innovations.\n",
    "Score:  0.762\n",
    "</pre>\n",
    "\n",
    "Answer for chunk size = 1024:\n",
    "<pre>\n",
    "Hypothetical answer:  assistant: Alexander the Great, known for his ambition and power, is said to have encountered the Cynic philosopher Diogenes, who lived in a large jar. Alexander, impressed by Diogenes's lack of material desires, reportedly asked if he could grant him any wish, to which Diogenes replied, \"Stand out of my sun.\" This anecdote highlights the contrast between worldly power and philosophical detachment.\n",
    "\n",
    "Batches: 100%\n",
    " 1/1 [00:00<00:00,  1.03it/s]\n",
    "Alexander met Diogenes of Sinope in the Isthmus and asked if he wanted anything. Diogenes replied that he wanted nothing other than for Alexander and his attendants to stand out of the sunlight. Alexander is said to have expressed his admiration of Diogenes’s conduct.\n",
    "\n",
    "Node ID: 20e92215-fb3e-4978-bbb7-477daacd4b3b\n",
    "Text: But this I think I can confidently  affirm, that he meditated\n",
    "nothing small or mean; and that he would  never have remained\n",
    "satisfied with any of the acquisitions he had made,  even if he had\n",
    "added Europe to Asia, or the islands of the Britons to  Europe; but\n",
    "would still have gone on seeking for unknown lands beyond  those\n",
    "mentioned. I verily be...\n",
    "Score:  0.793\n",
    "\n",
    "Node ID: 9320067a-9eac-4a74-a111-90becb50e618\n",
    "Text: There is also a current  report that Alexander wished men to\n",
    "prostrate themselves before him as  to a god, entertaining the notion\n",
    "that Ammon was his father, rather  than Philip; and that he now showed\n",
    "his admiration of the customs of  the Persians and Medes by changing\n",
    "the style of his dress, and by the  alteration he made in the general\n",
    "etique...\n",
    "</pre>"
   ]
  },
  {
   "cell_type": "markdown",
   "id": "0a9c2c61-2577-4b05-bd99-ceaf5954ff28",
   "metadata": {
    "tags": []
   },
   "source": [
    "## Query transformation\n",
    "\n",
    "Adding context to the query can help match the content of chunks better."
   ]
  },
  {
   "cell_type": "code",
   "execution_count": 23,
   "id": "62143201-8bec-4610-9e49-54fa2de444cc",
   "metadata": {
    "tags": []
   },
   "outputs": [
    {
     "name": "stdout",
     "output_type": "stream",
     "text": [
      "Expanded question:  assistant: How did the Arsacid (Parthian) or Achaemenid (Persian) king, the ruler of the Iranian peoples, react to the victories of the Greeks, specifically the Macedonians led by Alexander, son of Philip II?\n",
      "\n"
     ]
    },
    {
     "data": {
      "application/vnd.jupyter.widget-view+json": {
       "model_id": "c43e4429e1b54684a6d3ca0c4c88c034",
       "version_major": 2,
       "version_minor": 0
      },
      "text/plain": [
       "Batches:   0%|          | 0/1 [00:00<?, ?it/s]"
      ]
     },
     "metadata": {},
     "output_type": "display_data"
    },
    {
     "name": "stdout",
     "output_type": "stream",
     "text": [
      "Darius, the king of Persia, sent a letter to Alexander requesting the return of his captured family and proposing a friendship and alliance. He acknowledged Alexander's military success but attributed it to the will of the gods.\n",
      "\n",
      "In response, Alexander reminded Darius of the historical conflicts initiated by the Persians against the Macedonians and Greeks. He pointed out Darius's role in instigating the assassination of his father and his attempts to incite the Greeks to war. Alexander asserted his dominance over Asia due to his victories and offered to return Darius's family and grant any request he made. However, he demanded that Darius acknowledge him as the king of Asia and communicate with him accordingly.\n",
      "\n",
      "Node ID: 64ea1229-b295-46c5-bcc3-70c8c2f1b017\n",
      "Text: They were also instructed to support this petition  by word of\n",
      "mouth. The letter pointed out to him that friendship and  alliance had\n",
      "subsisted between Philip and Artaxerxes;[284] and that  when Arses,\n",
      "son of Artaxerxes, ascended the throne, Philip was the  first to\n",
      "practise injustice towards him, though he had suffered no  injury from\n",
      "the Persi...\n",
      "Score:  0.721\n",
      "\n",
      "Node ID: 1944218e-b3e9-40f1-8daa-e1e300129341\n",
      "Text: If Memnon  had lived and his advice been adopted by Darius, the\n",
      "fate of Persia  might have been very different. Cf. Plutarch (_Life of\n",
      "Alex._, 18).    [120] _Diodorus_ (xvii. 18) says that Memnon, while\n",
      "advising the  Persian generals to lay waste the country, and to\n",
      "prevent the  Macedonians from advancing through scarcity of\n",
      "provisions, also urg...\n",
      "Score:  0.709\n",
      "\n"
     ]
    }
   ],
   "source": [
    "def add_context_to_query(question):\n",
    "    messages = [\n",
    "        ChatMessage(role=\"system\", \n",
    "                    content=\"\"\"The following question is about topics discussed in a 2nd century book about Alexander the Great.\n",
    "                    Clarify the question posed in the following ways:\n",
    "                    * Expand to include 2nd century names. For example, a question about Iranians should include answers about Parthians, Persians, Medes, Bactrians, etc.\n",
    "                    * Provide context on terms. For example, that Ammonites came from Jordan or that Philip was the father of Alexander.\n",
    "                    Provide only the clarified question without any preamble or instructions.\n",
    "                    \"\"\"\n",
    "                   ),\n",
    "        ChatMessage(role=\"user\", content=question)\n",
    "    ]\n",
    "    expanded_question = str(llm.chat(messages))\n",
    "    return expanded_question\n",
    "\n",
    "def print_response_to_expanded_question(question):\n",
    "    expanded_question = add_context_to_query(question)\n",
    "    print(\"Expanded question: \", expanded_question)\n",
    "    return print_response(expanded_question)\n",
    "\n",
    "print_response_to_expanded_question(\"How did the Persian king react to Greeks' victory\");"
   ]
  },
  {
   "cell_type": "code",
   "execution_count": null,
   "id": "c792bd62-fa7f-4086-b6c6-15b6c0746e97",
   "metadata": {},
   "outputs": [],
   "source": []
  }
 ],
 "metadata": {
  "environment": {
   "kernel": "conda-base-py",
   "name": "workbench-notebooks.m126",
   "type": "gcloud",
   "uri": "us-docker.pkg.dev/deeplearning-platform-release/gcr.io/workbench-notebooks:m126"
  },
  "kernelspec": {
   "display_name": "Python 3 (ipykernel) (Local)",
   "language": "python",
   "name": "conda-base-py"
  },
  "language_info": {
   "codemirror_mode": {
    "name": "ipython",
    "version": 3
   },
   "file_extension": ".py",
   "mimetype": "text/x-python",
   "name": "python",
   "nbconvert_exporter": "python",
   "pygments_lexer": "ipython3",
   "version": "3.10.15"
  }
 },
 "nbformat": 4,
 "nbformat_minor": 5
}
