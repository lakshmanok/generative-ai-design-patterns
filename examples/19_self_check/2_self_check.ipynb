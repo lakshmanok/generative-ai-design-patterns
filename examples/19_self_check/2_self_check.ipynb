{
 "cells": [
  {
   "cell_type": "markdown",
   "metadata": {},
   "source": [
    "## Self-Check\n",
    "\n",
    "Detecting Hallucinations in LLM Responses through Log Probabilities"
   ]
  },
  {
   "cell_type": "code",
   "execution_count": 1,
   "metadata": {},
   "outputs": [],
   "source": [
    "import os\n",
    "from dotenv import load_dotenv\n",
    "from openai import OpenAI\n",
    "\n",
    "#MODEL_ID = \"gpt-3.5-turbo\"\n",
    "MODEL_ID = \"gpt-4o-mini\"\n",
    "\n",
    "load_dotenv(\"../keys.env\")\n",
    "\n",
    "assert os.environ[\"OPENAI_API_KEY\"][:2] == \"sk\", \"Please sign up for access to the OpenAI API and provide access token in keys.env file\""
   ]
  },
  {
   "cell_type": "code",
   "execution_count": 2,
   "metadata": {},
   "outputs": [],
   "source": [
    "# Initialize the client\n",
    "client = OpenAI(\n",
    "    api_key=os.getenv(\"OPENAI_API_KEY\"),\n",
    ")"
   ]
  },
  {
   "cell_type": "markdown",
   "metadata": {},
   "source": [
    "## Lower confidence on wrong imputations"
   ]
  },
  {
   "cell_type": "code",
   "execution_count": 3,
   "metadata": {},
   "outputs": [],
   "source": [
    "import pandas as pd\n",
    "import numpy as np\n",
    "from io import StringIO\n",
    "\n",
    "def parse_result(response_text, logprobs) -> pd.DataFrame:\n",
    "    \"\"\"\n",
    "    Assuming that the format of the result string is\n",
    "\n",
    "    billed_amount, tip, paid_amount\n",
    "    billed_amount, tip, paid_amount\n",
    "    ...\n",
    "\n",
    "    returns a Pandas DataFrame containing the following columns:\n",
    "    billed_amount, tax, tip, paid_amount, confidence\n",
    "    \"\"\"\n",
    "    csv_file = StringIO(response_text)\n",
    "    result_df = pd.read_csv(csv_file, header=None, names=['billed_amount', 'tax', 'tip', 'paid_amount'], dtype=np.float64)\n",
    "    result_df['confidence'] = [0.0]*len(result_df)\n",
    "    \n",
    "    if not logprobs:\n",
    "        print(\"No logprobs available in the response\")\n",
    "        return result_df\n",
    "    \n",
    "    # Walk through the tokens and combine them into elements\n",
    "    # so that tokens are associated with the elements\n",
    "    line_no = 0\n",
    "    confidence_of_line = 1.0\n",
    "    last_col_no = len(result_df.iloc[0]) - 1\n",
    "    for token_info in logprobs.content:\n",
    "        token = token_info.token\n",
    "        logprob = token_info.logprob\n",
    "        probability = (2.718281828459045 ** logprob)\n",
    "        confidence_of_line = min(confidence_of_line, probability)\n",
    "        result_df.iloc[line_no, last_col_no] = confidence_of_line \n",
    "        # int(token, probability, end=\"; \")\n",
    "        \n",
    "        if '\\n' in token: # next line\n",
    "            line_no = line_no + 1\n",
    "            confidence_of_line = 1.0\n",
    "            # int()\n",
    "            \n",
    "    return result_df\n",
    "\n",
    "\n",
    "def get_response_with_confidence(in_data: str, model: str = MODEL_ID) -> pd.DataFrame:\n",
    "    \"\"\"Get a model response with confidence analysis for a given question.\"\"\"\n",
    "    # Make the API call\n",
    "    message = client.chat.completions.create(\n",
    "        model=model,\n",
    "        max_tokens=512,\n",
    "        temperature=0,\n",
    "        messages=[\n",
    "            {\n",
    "                \"role\": \"system\",\n",
    "                \"content\": \"\"\"\n",
    "                You are a helpful AI assistant that helps parse restaurant receipts.\n",
    "                I will give you a set of parsed values containing on each line:\n",
    "                \n",
    "                billed_amount, tax, tip, paid_amount\n",
    "                \n",
    "                If tax is missing, calculate it as 9.21% of the billed_amount\n",
    "                If the tip is missing, calculate it as (paid_amount - billed_amount - tax)\n",
    "                If the paid_amount is missing, calculate it as (billed_amount + tax + tip)\n",
    "                Do not add any headers or explanations.\n",
    "                \"\"\"\n",
    "            },\n",
    "            {\n",
    "                \"role\": \"user\",\n",
    "                \"content\": in_data\n",
    "            }\n",
    "        ],\n",
    "        logprobs=True\n",
    "    )\n",
    "\n",
    "    return parse_result(response_text=message.choices[0].message.content, \n",
    "                        logprobs=message.choices[0].logprobs)\n",
    "\n",
    "def verify_dataframe(df):\n",
    "    def verify_row(row):\n",
    "        calculated_amount = round(row['billed_amount']*1.0921,2) + row['tip']\n",
    "        return abs(calculated_amount - row['paid_amount'])\n",
    "    df['error'] = df.apply(verify_row, axis=1)\n",
    "    return df"
   ]
  },
  {
   "cell_type": "code",
   "execution_count": 4,
   "metadata": {},
   "outputs": [
    {
     "data": {
      "text/html": [
       "<div>\n",
       "<style scoped>\n",
       "    .dataframe tbody tr th:only-of-type {\n",
       "        vertical-align: middle;\n",
       "    }\n",
       "\n",
       "    .dataframe tbody tr th {\n",
       "        vertical-align: top;\n",
       "    }\n",
       "\n",
       "    .dataframe thead th {\n",
       "        text-align: right;\n",
       "    }\n",
       "</style>\n",
       "<table border=\"1\" class=\"dataframe\">\n",
       "  <thead>\n",
       "    <tr style=\"text-align: right;\">\n",
       "      <th></th>\n",
       "      <th>billed_amount</th>\n",
       "      <th>tax</th>\n",
       "      <th>tip</th>\n",
       "      <th>paid_amount</th>\n",
       "      <th>confidence</th>\n",
       "    </tr>\n",
       "  </thead>\n",
       "  <tbody>\n",
       "    <tr>\n",
       "      <th>0</th>\n",
       "      <td>312.32</td>\n",
       "      <td>28.76</td>\n",
       "      <td>60.00</td>\n",
       "      <td>401.08</td>\n",
       "      <td>0.924132</td>\n",
       "    </tr>\n",
       "    <tr>\n",
       "      <th>1</th>\n",
       "      <td>312.32</td>\n",
       "      <td>28.76</td>\n",
       "      <td>59.64</td>\n",
       "      <td>400.00</td>\n",
       "      <td>0.536982</td>\n",
       "    </tr>\n",
       "    <tr>\n",
       "      <th>2</th>\n",
       "      <td>312.32</td>\n",
       "      <td>28.76</td>\n",
       "      <td>60.00</td>\n",
       "      <td>400.08</td>\n",
       "      <td>0.754885</td>\n",
       "    </tr>\n",
       "    <tr>\n",
       "      <th>3</th>\n",
       "      <td>312.21</td>\n",
       "      <td>28.83</td>\n",
       "      <td>50.00</td>\n",
       "      <td>391.04</td>\n",
       "      <td>0.296340</td>\n",
       "    </tr>\n",
       "    <tr>\n",
       "      <th>4</th>\n",
       "      <td>312.43</td>\n",
       "      <td>28.77</td>\n",
       "      <td>58.80</td>\n",
       "      <td>400.00</td>\n",
       "      <td>0.210761</td>\n",
       "    </tr>\n",
       "  </tbody>\n",
       "</table>\n",
       "</div>"
      ],
      "text/plain": [
       "   billed_amount    tax    tip  paid_amount  confidence\n",
       "0         312.32  28.76  60.00       401.08    0.924132\n",
       "1         312.32  28.76  59.64       400.00    0.536982\n",
       "2         312.32  28.76  60.00       400.08    0.754885\n",
       "3         312.21  28.83  50.00       391.04    0.296340\n",
       "4         312.43  28.77  58.80       400.00    0.210761"
      ]
     },
     "execution_count": 4,
     "metadata": {},
     "output_type": "execute_result"
    }
   ],
   "source": [
    "# Try with a bit of data\n",
    "df = get_response_with_confidence(\"\"\"312.32,28.76,60,401.08\n",
    "312.32,28.76,,400\n",
    "312.32,28.76,60,\n",
    "312.21,,50, \n",
    "312.43,,,400\n",
    "300,27.63,60,387.63\n",
    "\"\"\")\n",
    "df"
   ]
  },
  {
   "cell_type": "code",
   "execution_count": 5,
   "metadata": {
    "tags": []
   },
   "outputs": [
    {
     "data": {
      "text/html": [
       "<div>\n",
       "<style scoped>\n",
       "    .dataframe tbody tr th:only-of-type {\n",
       "        vertical-align: middle;\n",
       "    }\n",
       "\n",
       "    .dataframe tbody tr th {\n",
       "        vertical-align: top;\n",
       "    }\n",
       "\n",
       "    .dataframe thead th {\n",
       "        text-align: right;\n",
       "    }\n",
       "</style>\n",
       "<table border=\"1\" class=\"dataframe\">\n",
       "  <thead>\n",
       "    <tr style=\"text-align: right;\">\n",
       "      <th></th>\n",
       "      <th>billed_amount</th>\n",
       "      <th>tax</th>\n",
       "      <th>tip</th>\n",
       "      <th>paid_amount</th>\n",
       "      <th>confidence</th>\n",
       "      <th>error</th>\n",
       "    </tr>\n",
       "  </thead>\n",
       "  <tbody>\n",
       "    <tr>\n",
       "      <th>0</th>\n",
       "      <td>312.32</td>\n",
       "      <td>28.76</td>\n",
       "      <td>60.00</td>\n",
       "      <td>401.08</td>\n",
       "      <td>0.924132</td>\n",
       "      <td>0.00</td>\n",
       "    </tr>\n",
       "    <tr>\n",
       "      <th>1</th>\n",
       "      <td>312.32</td>\n",
       "      <td>28.76</td>\n",
       "      <td>59.64</td>\n",
       "      <td>400.00</td>\n",
       "      <td>0.536982</td>\n",
       "      <td>0.72</td>\n",
       "    </tr>\n",
       "    <tr>\n",
       "      <th>2</th>\n",
       "      <td>312.32</td>\n",
       "      <td>28.76</td>\n",
       "      <td>60.00</td>\n",
       "      <td>400.08</td>\n",
       "      <td>0.754885</td>\n",
       "      <td>1.00</td>\n",
       "    </tr>\n",
       "    <tr>\n",
       "      <th>3</th>\n",
       "      <td>312.21</td>\n",
       "      <td>28.83</td>\n",
       "      <td>50.00</td>\n",
       "      <td>391.04</td>\n",
       "      <td>0.296340</td>\n",
       "      <td>0.08</td>\n",
       "    </tr>\n",
       "    <tr>\n",
       "      <th>4</th>\n",
       "      <td>312.43</td>\n",
       "      <td>28.77</td>\n",
       "      <td>58.80</td>\n",
       "      <td>400.00</td>\n",
       "      <td>0.210761</td>\n",
       "      <td>0.00</td>\n",
       "    </tr>\n",
       "  </tbody>\n",
       "</table>\n",
       "</div>"
      ],
      "text/plain": [
       "   billed_amount    tax    tip  paid_amount  confidence  error\n",
       "0         312.32  28.76  60.00       401.08    0.924132   0.00\n",
       "1         312.32  28.76  59.64       400.00    0.536982   0.72\n",
       "2         312.32  28.76  60.00       400.08    0.754885   1.00\n",
       "3         312.21  28.83  50.00       391.04    0.296340   0.08\n",
       "4         312.43  28.77  58.80       400.00    0.210761   0.00"
      ]
     },
     "execution_count": 5,
     "metadata": {},
     "output_type": "execute_result"
    }
   ],
   "source": [
    "verify_dataframe(df)"
   ]
  },
  {
   "cell_type": "code",
   "execution_count": 6,
   "metadata": {},
   "outputs": [
    {
     "name": "stderr",
     "output_type": "stream",
     "text": [
      "/opt/conda/lib/python3.10/site-packages/pandas/plotting/_matplotlib/core.py:1259: UserWarning: No data for colormapping provided via 'c'. Parameters 'cmap' will be ignored\n",
      "  scatter = ax.scatter(\n"
     ]
    },
    {
     "data": {
      "image/png": "[encoded data removed]",
      "text/plain": [
       "<Figure size 640x480 with 1 Axes>"
      ]
     },
     "metadata": {},
     "output_type": "display_data"
    }
   ],
   "source": [
    "df.plot.scatter(x='error', y='confidence', cmap='viridis');"
   ]
  },
  {
   "cell_type": "code",
   "execution_count": null,
   "metadata": {},
   "outputs": [],
   "source": []
  }
 ],
 "metadata": {
  "environment": {
   "kernel": "conda-base-py",
   "name": "workbench-notebooks.m126",
   "type": "gcloud",
   "uri": "us-docker.pkg.dev/deeplearning-platform-release/gcr.io/workbench-notebooks:m126"
  },
  "kernelspec": {
   "display_name": "Python 3 (ipykernel) (Local)",
   "language": "python",
   "name": "conda-base-py"
  },
  "language_info": {
   "codemirror_mode": {
    "name": "ipython",
    "version": 3
   },
   "file_extension": ".py",
   "mimetype": "text/x-python",
   "name": "python",
   "nbconvert_exporter": "python",
   "pygments_lexer": "ipython3",
   "version": "3.10.15"
  }
 },
 "nbformat": 4,
 "nbformat_minor": 4
}
