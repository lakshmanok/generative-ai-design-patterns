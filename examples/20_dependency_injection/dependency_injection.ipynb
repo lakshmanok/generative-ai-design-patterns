{
 "cells": [
  {
   "cell_type": "markdown",
   "id": "45a56bb7-e753-4731-84ed-cdc1084f57e7",
   "metadata": {},
   "source": [
    "## Dependency Injection\n",
    "\n",
    "Using dependency injection to test and evaluate each component of a chain separately"
   ]
  },
  {
   "cell_type": "code",
   "execution_count": 1,
   "id": "ffaacc11-e131-4170-ad1b-42bdf2e01b04",
   "metadata": {
    "tags": []
   },
   "outputs": [],
   "source": [
    "GEMINI=\"gemini-2.0-flash\"\n",
    "#OPENAI=\"gpt-4o-mini\"\n",
    "#CLAUDE=\"claude-3-7-sonnet-latest\"\n",
    "\n",
    "import os\n",
    "from dotenv import load_dotenv\n",
    "load_dotenv(\"../keys.env\")\n",
    "assert os.environ[\"GEMINI_API_KEY\"][:2] == \"AI\",\\\n",
    "       \"Please specify the GEMINI_API_KEY access token in keys.env file\"\n",
    "#assert os.environ[\"ANTHROPIC_API_KEY\"][:2] == \"sk\",\\\n",
    "#       \"Please specify the ANTHROPIC_API_KEY access token in keys.env file\"\n",
    "#assert os.environ[\"OPENAI_API_KEY\"][:2] == \"sk\",\\\n",
    "#       \"Please specify the OPENAI_API_KEY access token in keys.env file\""
   ]
  },
  {
   "cell_type": "code",
   "execution_count": 2,
   "id": "b9fcb201-d306-40ad-b430-1093f76e8bfb",
   "metadata": {
    "tags": []
   },
   "outputs": [],
   "source": [
    "# Needed in Jupyter environment See: https://ai.pydantic.dev/troubleshooting/ \n",
    "import nest_asyncio\n",
    "nest_asyncio.apply()"
   ]
  },
  {
   "cell_type": "markdown",
   "id": "357c899a-12d0-4be4-bf69-f57243573b15",
   "metadata": {},
   "source": [
    "## Data\n",
    "\n",
    "For simplicity, we'll hardcode the text"
   ]
  },
  {
   "cell_type": "code",
   "execution_count": 3,
   "id": "b2291c99-5268-4da6-9963-15080cde23a6",
   "metadata": {
    "tags": []
   },
   "outputs": [],
   "source": [
    "aieng_text=\"\"\"\n",
    "Recent breakthroughs in AI have not only increased demand for AI products, they've also lowered the barriers to entry for those who want to build AI products. The model-as-a-service approach has transformed AI from an esoteric discipline into a powerful development tool that anyone can use. Everyone, including those with minimal or no prior AI experience, can now leverage AI models to build applications. In this book, author Chip Huyen discusses AI engineering: the process of building applications with readily available foundation models.\n",
    "\n",
    "The book starts with an overview of AI engineering, explaining how it differs from traditional ML engineering and discussing the new AI stack. The more AI is used, the more opportunities there are for catastrophic failures, and therefore, the more important evaluation becomes. This book discusses different approaches to evaluating open-ended models, including the rapidly growing AI-as-a-judge approach.\n",
    "\n",
    "AI application developers will discover how to navigate the AI landscape, including models, datasets, evaluation benchmarks, and the seemingly infinite number of use cases and application patterns. You'll learn a framework for developing an AI application, starting with simple techniques and progressing toward more sophisticated methods, and discover how to efficiently deploy these applications.\n",
    "\n",
    "Understand what AI engineering is and how it differs from traditional machine learning engineering\n",
    "Learn the process for developing an AI application, the challenges at each step, and approaches to address them\n",
    "Explore various model adaptation techniques, including prompt engineering, RAG, fine-tuning, agents, and dataset engineering, and understand how and why they work\n",
    "Examine the bottlenecks for latency and cost when serving foundation models and learn how to overcome them\n",
    "Choose the right model, dataset, evaluation benchmarks, and metrics for your needs\n",
    "Chip Huyen works to accelerate data analytics on GPUs at Voltron Data. Previously, she was with Snorkel AI and NVIDIA, founded an AI infrastructure startup, and taught Machine Learning Systems Design at Stanford. She's the author of the book Designing Machine Learning Systems, an Amazon bestseller in AI.\n",
    "\n",
    "AI Engineering builds upon and is complementary to Designing Machine Learning Systems (O'Reilly).\n",
    "\"\"\""
   ]
  },
  {
   "cell_type": "code",
   "execution_count": 4,
   "id": "7c14a718-9aa8-43c8-bd56-57dfeef64b3f",
   "metadata": {
    "tags": []
   },
   "outputs": [],
   "source": [
    "mldp_text=\"\"\"\n",
    "The design patterns in this book capture best practices and solutions to recurring problems in machine learning. The authors, three Google engineers, catalog proven methods to help data scientists tackle common problems throughout the ML process. These design patterns codify the experience of hundreds of experts into straightforward, approachable advice.\n",
    "\n",
    "In this book, you will find detailed explanations of 30 patterns for data and problem representation, operationalization, repeatability, reproducibility, flexibility, explainability, and fairness. Each pattern includes a description of the problem, a variety of potential solutions, and recommendations for choosing the best technique for your situation.\n",
    "\n",
    "You'll learn how to:\n",
    "\n",
    "Identify and mitigate common challenges when training, evaluating, and deploying ML models\n",
    "Represent data for different ML model types, including embeddings, feature crosses, and more\n",
    "Choose the right model type for specific problems\n",
    "Build a robust training loop that uses checkpoints, distribution strategy, and hyperparameter tuning\n",
    "Deploy scalable ML systems that you can retrain and update to reflect new data\n",
    "Interpret model predictions for stakeholders and ensure models are treating users fairly\n",
    "\"\"\""
   ]
  },
  {
   "cell_type": "markdown",
   "id": "2e3782e9-d901-4255-acae-0201fdbb64f8",
   "metadata": {
    "tags": []
   },
   "source": [
    "## Step 1: Identify 5 ways to improve a marketing description"
   ]
  },
  {
   "cell_type": "code",
   "execution_count": 5,
   "id": "e0ca727e-3aa9-4a31-926d-bfb6e6df2447",
   "metadata": {
    "tags": []
   },
   "outputs": [],
   "source": [
    "from pydantic_ai import Agent\n",
    "from pydantic.dataclasses import dataclass\n",
    "from typing import List\n",
    "from pathlib import Path\n",
    "\n",
    "@dataclass\n",
    "class Critique:\n",
    "    target_audience: List[str]\n",
    "    improvements: List[str]\n",
    "    \n",
    "    def __str__(self):\n",
    "        nl='\\n'\n",
    "        return f\"\"\"\n",
    "**Target audience**:\n",
    "{','.join(self.target_audience)}\n",
    "    \n",
    "**Suggested changes**:\n",
    "{nl.join(self.improvements)}\n",
    "        \"\"\".strip()\n",
    "\n",
    "def critique(in_text: str) -> Critique:\n",
    "    prompt = f\"\"\"\n",
    "    You are an expert marketer for technology books.\n",
    "    You will be given the marketing description for a book.\n",
    "    Identify the target audience by roles (eg: Data Analyst, Data Engineer)\n",
    "    Suggest exactly 5 ways that the *marketing description* can be improved so\n",
    "    that it appeals better to this target audience.\n",
    "    Do not suggest improvements to the book itself.\n",
    "    \n",
    "    **Marketing Description**:\n",
    "    \"\"\"\n",
    "    agent = Agent(GEMINI,\n",
    "                  result_type=Critique)\n",
    "    print(f\"Invoking LLM to critique text\")\n",
    "    result = agent.run_sync([prompt,\n",
    "                             in_text])\n",
    "    return (result.data)"
   ]
  },
  {
   "cell_type": "markdown",
   "id": "8d6fbcde-44af-4b1d-9060-c7687de6f45c",
   "metadata": {
    "tags": []
   },
   "source": [
    "Could use LLM-as-Judge to ensure that the critique does not suggesting adding new content, etc.\n",
    "But let's keep it simple"
   ]
  },
  {
   "cell_type": "code",
   "execution_count": 6,
   "id": "a8ab043d-d261-4182-bb61-cfe4d85ce135",
   "metadata": {
    "tags": []
   },
   "outputs": [],
   "source": [
    "def assert_critique(critique: Critique):\n",
    "    assert len(critique.improvements) > 3, \"Has at least 3 improvements\"\n",
    "    assert len(critique.target_audience) > 0, \"Has at least one role\""
   ]
  },
  {
   "cell_type": "code",
   "execution_count": 7,
   "id": "3baf620f-9450-4b36-9e18-96eb9eab04b6",
   "metadata": {
    "tags": []
   },
   "outputs": [
    {
     "name": "stdout",
     "output_type": "stream",
     "text": [
      "Invoking LLM to critique text\n",
      "**Target audience**:\n",
      "AI Application Developers,Software Engineers,Data Scientists\n",
      "    \n",
      "**Suggested changes**:\n",
      "Emphasize the practical application of AI engineering for solving real-world problems faced by AI application developers.\n",
      "Highlight specific tools, frameworks, and platforms covered in the book that are relevant to AI application development.\n",
      "Showcase success stories or case studies of AI applications built using the techniques discussed in the book.\n",
      "Address the challenges and pain points that AI application developers commonly encounter when working with foundation models.\n",
      "Offer guidance on how to optimize AI applications for performance, scalability, and cost-effectiveness in production environments, including addressing latency and cost bottlenecks when serving foundation models\n"
     ]
    }
   ],
   "source": [
    "aieng_critique = critique(aieng_text)\n",
    "print(aieng_critique)\n",
    "assert_critique(aieng_critique)"
   ]
  },
  {
   "cell_type": "code",
   "execution_count": 8,
   "id": "8f9489df-4cb3-40b9-b522-4a3f0b0a07bb",
   "metadata": {},
   "outputs": [
    {
     "name": "stdout",
     "output_type": "stream",
     "text": [
      "Invoking LLM to critique text\n",
      "**Target audience**:\n",
      "Data Scientist,Machine Learning Engineer,AI Researcher\n",
      "    \n",
      "**Suggested changes**:\n",
      "Use more specific job titles (e.g., Machine Learning Engineer, AI Researcher) instead of the general term \"data scientists.\"\n",
      "Highlight the practical applications of the design patterns and how they can directly improve the efficiency and effectiveness of their work.\n",
      "Emphasize the scalability and maintainability aspects of the solutions, as these are critical concerns for professionals deploying ML systems in production.\n",
      "Include a section on how the book helps in troubleshooting and debugging common ML issues, which is a frequent pain point for practitioners.\n",
      "Add testimonials or endorsements from well-known figures in the machine learning community to build credibility and trust with the target audience.\n"
     ]
    }
   ],
   "source": [
    "mldp_critique = critique(mldp_text)\n",
    "print(mldp_critique)\n",
    "assert_critique(mldp_critique)"
   ]
  },
  {
   "cell_type": "markdown",
   "id": "a83866d4-7bb5-4e20-a590-4caaa9840262",
   "metadata": {},
   "source": [
    "## Step 2: Make improvement that will have highest ROI"
   ]
  },
  {
   "cell_type": "code",
   "execution_count": 9,
   "id": "60e406b6-1183-414c-a724-5c31fd99b779",
   "metadata": {
    "tags": []
   },
   "outputs": [],
   "source": [
    "@dataclass\n",
    "class Improvement:\n",
    "    change: str\n",
    "    reason: str\n",
    "    modified_marketing_description: str\n",
    "    \n",
    "    def __str__(self):\n",
    "        return f\"\"\"\n",
    "**Change**:\n",
    "{self.change}\n",
    "    \n",
    "**Reason**:\n",
    "{self.reason}\n",
    "\n",
    "**New description**:\n",
    "{self.modified_marketing_description}\n",
    "        \"\"\".strip()    \n",
    "    \n",
    "def improve(marketing_text: str, c: Critique) -> Improvement:\n",
    "    prompt = f\"\"\"\n",
    "    You are a helpful marketing assistant.\n",
    "    You will be given the marketing description for a book,\n",
    "    its target audience, and a list of suggested changes.\n",
    "\n",
    "    Pick one change from the list that best meets these criteria:\n",
    "    - Does not require changing the book itself, only the marketing description\n",
    "    - Will make the book much more appealing to the target audience.\n",
    "    - Requires only 1-5 lines changed in the text of the marketing description.\n",
    "    Then, make the change and return a change log and the modified description.\n",
    "    \n",
    "    **Marketing Description**:\n",
    "    {marketing_text}\n",
    "    \n",
    "    {c}\n",
    "    \"\"\"\n",
    "    print(f\"Invoking LLM to improve text\")\n",
    "    agent = Agent(GEMINI,\n",
    "                  result_type=Improvement)\n",
    "    result = agent.run_sync(prompt)\n",
    "    return (result.data)"
   ]
  },
  {
   "cell_type": "code",
   "execution_count": 10,
   "id": "e959d5fe-db0b-4520-89e9-c75880ff9535",
   "metadata": {
    "tags": []
   },
   "outputs": [],
   "source": [
    "import difflib\n",
    "def assert_improvement(improvement: Improvement, orig_text: str, c: Critique):\n",
    "    assert improvement.change in c.improvements, \"Chosen change is in original list\"\n",
    "    lines_changed = list(difflib.Differ().compare(improvement.modified_marketing_description.splitlines(), orig_text.splitlines()))\n",
    "    nlines_changed = 0\n",
    "    for line in lines_changed:\n",
    "        if line.startswith('+ ') or line.startswith('- '):\n",
    "            nlines_changed += 1\n",
    "    assert nlines_changed > 0 and nlines_changed <= 5, f\"{nlines_changed} lines changed, not 1-5\""
   ]
  },
  {
   "cell_type": "code",
   "execution_count": 11,
   "id": "a95f1ca3-cc0b-4931-89eb-133cda3499c4",
   "metadata": {
    "tags": []
   },
   "outputs": [
    {
     "name": "stdout",
     "output_type": "stream",
     "text": [
      "Invoking LLM to improve text\n",
      "**Change**:\n",
      "Emphasize the practical application of AI engineering for solving real-world problems faced by AI application developers.\n",
      "    \n",
      "**Reason**:\n",
      "This change directly addresses the target audience by highlighting the practical applications of AI engineering, making the book more appealing to AI application developers seeking solutions to real-world problems. It requires only a small modification to the first paragraph, focusing on the book's ability to help build practical AI applications. \n",
      "\n",
      "**New description**:\n",
      "Recent breakthroughs in AI have not only increased demand for AI products, they've also lowered the barriers to entry for those who want to build AI products. The model-as-a-service approach has transformed AI from an esoteric discipline into a powerful development tool that anyone can use. Everyone, including those with minimal or no prior AI experience, can now leverage AI models to build applications. In this book, author Chip Huyen discusses AI engineering: the process of building practical AI applications with readily available foundation models to solve real-world problems.\n",
      "\n",
      "The book starts with an overview of AI engineering, explaining how it differs from traditional ML engineering and discussing the new AI stack. The more AI is used, the more opportunities there are for catastrophic failures, and therefore, the more important evaluation becomes. This book discusses different approaches to evaluating open-ended models, including the rapidly growing AI-as-a-judge approach.\n",
      "\n",
      "AI application developers will discover how to navigate the AI landscape, including models, datasets, evaluation benchmarks, and the seemingly infinite number of use cases and application patterns. You'll learn a framework for developing an AI application, starting with simple techniques and progressing toward more sophisticated methods, and discover how to efficiently deploy these applications.\n",
      "\n",
      "Understand what AI engineering is and how it differs from traditional machine learning engineering\n",
      "Learn the process for developing an AI application, the challenges at each step, and approaches to address them\n",
      "Explore various model adaptation techniques, including prompt engineering, RAG, fine-tuning, agents, and dataset engineering, and understand how and why they work\n",
      "Examine the bottlenecks for latency and cost when serving foundation models and learn how to overcome them\n",
      "Choose the right model, dataset, evaluation benchmarks, and metrics for your needs\n",
      "Chip Huyen works to accelerate data analytics on GPUs at Voltron Data. Previously, she was with Snorkel AI and NVIDIA, founded an AI infrastructure startup, and taught Machine Learning Systems Design at Stanford. She's the author of the book Designing Machine Learning Systems, an Amazon bestseller in AI.\n",
      "\n",
      "AI Engineering builds upon and is complementary to Designing Machine Learning Systems (O'Reilly).\n"
     ]
    }
   ],
   "source": [
    "improved = improve(aieng_text, aieng_critique)\n",
    "print(improved)\n",
    "assert_improvement(improved, aieng_text, aieng_critique)"
   ]
  },
  {
   "cell_type": "code",
   "execution_count": 12,
   "id": "3b3d2626-25f4-4d89-825c-008d3a1c5bb5",
   "metadata": {
    "tags": []
   },
   "outputs": [
    {
     "name": "stdout",
     "output_type": "stream",
     "text": [
      "Invoking LLM to improve text\n",
      "**Change**:\n",
      "Use more specific job titles (e.g., Machine Learning Engineer, AI Researcher) instead of the general term \"data scientists.\"\n",
      "    \n",
      "**Reason**:\n",
      "The target audience includes Machine Learning Engineers and AI Researchers, so using these specific job titles instead of the general term \"data scientists\" will make the book more appealing to them. This change requires only one line to be modified in the marketing description and does not require changing the book itself. \n",
      "\n",
      "**New description**:\n",
      "The design patterns in this book capture best practices and solutions to recurring problems in machine learning. The authors, three Google engineers, catalog proven methods to help Machine Learning Engineers and AI Researchers tackle common problems throughout the ML process. These design patterns codify the experience of hundreds of experts into straightforward, approachable advice.\n",
      "\n",
      "In this book, you will find detailed explanations of 30 patterns for data and problem representation, operationalization, repeatability, reproducibility, flexibility, explainability, and fairness. Each pattern includes a description of the problem, a variety of potential solutions, and recommendations for choosing the best technique for your situation.\n",
      "\n",
      "You'll learn how to:\n",
      "\n",
      "Identify and mitigate common challenges when training, evaluating, and deploying ML models\n",
      "Represent data for different ML model types, including embeddings, feature crosses, and more\n",
      "Choose the right model type for specific problems\n",
      "Build a robust training loop that uses checkpoints, distribution strategy, and hyperparameter tuning\n",
      "Deploy scalable ML systems that you can retrain and update to reflect new data\n",
      "Interpret model predictions for stakeholders and ensure models are treating users fairly\n"
     ]
    }
   ],
   "source": [
    "improved = improve(mldp_text, mldp_critique)\n",
    "print(improved)\n",
    "assert_improvement(improved, mldp_text, mldp_critique)"
   ]
  },
  {
   "cell_type": "markdown",
   "id": "ef11c32c-861b-4bf5-b8d4-2cb2f20f25d0",
   "metadata": {
    "tags": []
   },
   "source": [
    "## Chain, with dependency injection\n",
    "\n",
    "Use dependency injection"
   ]
  },
  {
   "cell_type": "code",
   "execution_count": 13,
   "id": "277b91a2-b1a5-4f0b-ad30-9405f79247be",
   "metadata": {
    "tags": []
   },
   "outputs": [
    {
     "name": "stdout",
     "output_type": "stream",
     "text": [
      "Invoking LLM to critique text\n",
      "Invoking LLM to improve text\n",
      "**Change**:\n",
      "Add a call to action, encouraging readers to purchase the book and start building AI applications immediately. For example: \"Get your copy today and start building the future of AI!\"\n",
      "    \n",
      "**Reason**:\n",
      "Adding a call to action encourages immediate engagement and purchase, directly appealing to the target audience of AI Application Developers, Generative AI Engineers, Machine Learning Engineers, and Software Engineers who are looking to build and deploy AI applications. It's a simple yet effective way to increase book sales and adoption of AI engineering principles. The change requires adding just one line to the description, making it a quick and impactful modification. \n",
      "\n",
      "**New description**:\n",
      "Recent breakthroughs in AI have not only increased demand for AI products, they've also lowered the barriers to entry for those who want to build AI products. The model-as-a-service approach has transformed AI from an esoteric discipline into a powerful development tool that anyone can use. Everyone, including those with minimal or no prior AI experience, can now leverage AI models to build applications. In this book, author Chip Huyen discusses AI engineering: the process of building applications with readily available foundation models.\n",
      "\n",
      "The book starts with an overview of AI engineering, explaining how it differs from traditional ML engineering and discussing the new AI stack. The more AI is used, the more opportunities there are for catastrophic failures, and therefore, the more important evaluation becomes. This book discusses different approaches to evaluating open-ended models, including the rapidly growing AI-as-a-judge approach.\n",
      "\n",
      "AI application developers will discover how to navigate the AI landscape, including models, datasets, evaluation benchmarks, and the seemingly infinite number of use cases and application patterns. You'll learn a framework for developing an AI application, starting with simple techniques and progressing toward more sophisticated methods, and discover how to efficiently deploy these applications.\n",
      "\n",
      "Understand what AI engineering is and how it differs from traditional machine learning engineering\n",
      "Learn the process for developing an AI application, the challenges at each step, and approaches to address them\n",
      "Explore various model adaptation techniques, including prompt engineering, RAG, fine-tuning, agents, and dataset engineering, and understand how and why they work\n",
      "Examine the bottlenecks for latency and cost when serving foundation models and learn how to overcome them\n",
      "Choose the right model, dataset, evaluation benchmarks, and metrics for your needs\n",
      "Chip Huyen works to accelerate data analytics on GPUs at Voltron Data. Previously, she was with Snorkel AI and NVIDIA, founded an AI infrastructure startup, and taught Machine Learning Systems Design at Stanford. She's the author of the book Designing Machine Learning Systems, an Amazon bestseller in AI.\n",
      "\n",
      "AI Engineering builds upon and is complementary to Designing Machine Learning Systems (O'Reilly).\n",
      "\n",
      "Get your copy today and start building the future of AI!\n"
     ]
    }
   ],
   "source": [
    "from collections.abc import Callable\n",
    "\n",
    "def improvement_chain(in_text: str,\n",
    "                      critique_fn: Callable[[str], Critique] = critique,\n",
    "                      improve_fn: Callable[[str, Critique], Improvement] = improve\n",
    "                     ) -> Improvement:\n",
    "    c = critique_fn(in_text)\n",
    "    assert_critique(c)\n",
    "    \n",
    "    improved = improve_fn(in_text, c)\n",
    "    assert_improvement(improved, in_text, c)\n",
    "    \n",
    "    return improved\n",
    "\n",
    "improved = improvement_chain(aieng_text)\n",
    "print(improved)"
   ]
  },
  {
   "cell_type": "markdown",
   "id": "d3b6e314-d04a-4ac5-865e-4c05cb3c150e",
   "metadata": {},
   "source": [
    "## Running only Step 2, with a fake Step 1\n"
   ]
  },
  {
   "cell_type": "code",
   "execution_count": 14,
   "id": "46f6dbe9-27fd-4b4f-9fbc-0b25561c052a",
   "metadata": {
    "tags": []
   },
   "outputs": [
    {
     "name": "stdout",
     "output_type": "stream",
     "text": [
      "Using mock to critique text\n"
     ]
    },
    {
     "data": {
      "text/plain": [
       "Critique(target_audience=['AI Engineers', 'Machine Learning Engineers', 'Software Engineers'], improvements=['Use more precise language to define the problems the book solves.', 'Add specific examples of how the design patterns have been used to solve real-world problems.', 'Highlight the benefits of using design patterns, such as increased efficiency, reduced costs, and improved accuracy.', \"Emphasize the book's practical approach, with step-by-step instructions and code examples.\", 'Include testimonials from data scientists who have used the design patterns in the book to improve their work.'])"
      ]
     },
     "execution_count": 14,
     "metadata": {},
     "output_type": "execute_result"
    }
   ],
   "source": [
    "def mock_critique(in_text: str) -> Critique:\n",
    "    print(f\"Using mock to critique text\")\n",
    "    return Critique(\n",
    "        target_audience = 'AI Engineers,Machine Learning Engineers,Software Engineers'.split(','),\n",
    "        improvements = \"\"\"\n",
    "Use more precise language to define the problems the book solves.\n",
    "Add specific examples of how the design patterns have been used to solve real-world problems.\n",
    "Highlight the benefits of using design patterns, such as increased efficiency, reduced costs, and improved accuracy.\n",
    "Emphasize the book's practical approach, with step-by-step instructions and code examples.\n",
    "Include testimonials from data scientists who have used the design patterns in the book to improve their work.\n",
    "        \"\"\".strip().split('\\n')\n",
    "    )\n",
    "\n",
    "mock_critique(aieng_text)"
   ]
  },
  {
   "cell_type": "code",
   "execution_count": 15,
   "id": "422e9aa9-100b-4a65-8507-ee9e66d5ef1d",
   "metadata": {
    "tags": []
   },
   "outputs": [
    {
     "name": "stdout",
     "output_type": "stream",
     "text": [
      "Using mock to critique text\n",
      "Invoking LLM to improve text\n",
      "**Change**:\n",
      "Use more precise language to define the problems the book solves.\n",
      "    \n",
      "**Reason**:\n",
      "The original description is too general. Specifying that the book focuses on the challenges of deploying and scaling AI applications makes it more appealing to the target audience of AI/ML/Software engineers. \n",
      "\n",
      "**New description**:\n",
      "Recent breakthroughs in AI have not only increased demand for AI products, they've also lowered the barriers to entry for those who want to build AI products. The model-as-a-service approach has transformed AI from an esoteric discipline into a powerful development tool that anyone can use. Everyone, including those with minimal or no prior AI experience, can now leverage AI models to build applications. In this book, author Chip Huyen discusses AI engineering: the process of building applications with readily available foundation models, focusing on the challenges of deploying and scaling AI applications in a cost-effective and reliable manner. \n",
      "\n",
      "The book starts with an overview of AI engineering, explaining how it differs from traditional ML engineering and discussing the new AI stack. The more AI is used, the more opportunities there are for catastrophic failures, and therefore, the more important evaluation becomes. This book discusses different approaches to evaluating open-ended models, including the rapidly growing AI-as-a-judge approach.\n",
      "\n",
      "AI application developers will discover how to navigate the AI landscape, including models, datasets, evaluation benchmarks, and the seemingly infinite number of use cases and application patterns. You'll learn a framework for developing an AI application, starting with simple techniques and progressing toward more sophisticated methods, and discover how to efficiently deploy these applications.\n",
      "\n",
      "Understand what AI engineering is and how it differs from traditional machine learning engineering\n",
      "Learn the process for developing an AI application, the challenges at each step, and approaches to address them\n",
      "Explore various model adaptation techniques, including prompt engineering, RAG, fine-tuning, agents, and dataset engineering, and understand how and why they work\n",
      "Examine the bottlenecks for latency and cost when serving foundation models and learn how to overcome them\n",
      "Choose the right model, dataset, evaluation benchmarks, and metrics for your needs\n",
      "Chip Huyen works to accelerate data analytics on GPUs at Voltron Data. Previously, she was with Snorkel AI and NVIDIA, founded an AI infrastructure startup, and taught Machine Learning Systems Design at Stanford. She's the author of the book Designing Machine Learning Systems, an Amazon bestseller in AI.\n",
      "\n",
      "AI Engineering builds upon and is complementary to Designing Machine Learning Systems (O'Reilly).\n"
     ]
    }
   ],
   "source": [
    "improved = improvement_chain(aieng_text, critique_fn=mock_critique)\n",
    "print(improved)"
   ]
  },
  {
   "cell_type": "code",
   "execution_count": 16,
   "id": "d5e91cf1-b962-4711-a1aa-70143a04ac53",
   "metadata": {
    "tags": []
   },
   "outputs": [
    {
     "name": "stdout",
     "output_type": "stream",
     "text": [
      "Using mock to critique text\n",
      "Invoking LLM to improve text\n",
      "**Change**:\n",
      "Use more precise language to define the problems the book solves.\n",
      "    \n",
      "**Reason**:\n",
      "The change makes the description more appealing to the target audience by using more precise language to define the problems the book solves. It also highlights the benefits of using design patterns, such as addressing challenges like unreliable training data, ensuring consistent results, and mitigating bias. This change does not require changing the book itself and only requires a few lines changed in the text of the marketing description. \n",
      "\n",
      "**New description**:\n",
      "The design patterns in this book capture best practices and solutions to recurring problems in machine learning. The authors, three Google engineers, catalog proven methods to help data scientists tackle common problems throughout the ML process. These design patterns codify the experience of hundreds of experts into straightforward, approachable advice.\n",
      "\n",
      "In this book, you will find detailed explanations of 30 patterns for data and problem representation, operationalization to address challenges such as unreliable training data, reproducibility to ensure consistent results, flexibility to adapt to changing requirements, explainability to understand model behavior, and fairness to mitigate bias. Each pattern includes a description of the problem, a variety of potential solutions, and recommendations for choosing the best technique for your situation.\n",
      "\n",
      "You'll learn how to:\n",
      "\n",
      "Identify and mitigate common challenges when training, evaluating, and deploying ML models\n",
      "Represent data for different ML model types, including embeddings, feature crosses, and more\n",
      "Choose the right model type for specific problems\n",
      "Build a robust training loop that uses checkpoints, distribution strategy, and hyperparameter tuning\n",
      "Deploy scalable ML systems that you can retrain and update to reflect new data\n",
      "Interpret model predictions for stakeholders and ensure models are treating users fairly\n"
     ]
    }
   ],
   "source": [
    "improved = improvement_chain(mldp_text, critique_fn=mock_critique)\n",
    "print(improved)"
   ]
  },
  {
   "cell_type": "code",
   "execution_count": null,
   "id": "006423c8-8655-42a2-a264-6adaa09ce213",
   "metadata": {},
   "outputs": [],
   "source": []
  }
 ],
 "metadata": {
  "environment": {
   "kernel": "conda-base-py",
   "name": "workbench-notebooks.m126",
   "type": "gcloud",
   "uri": "us-docker.pkg.dev/deeplearning-platform-release/gcr.io/workbench-notebooks:m126"
  },
  "kernelspec": {
   "display_name": "Python 3 (ipykernel) (Local)",
   "language": "python",
   "name": "conda-base-py"
  },
  "language_info": {
   "codemirror_mode": {
    "name": "ipython",
    "version": 3
   },
   "file_extension": ".py",
   "mimetype": "text/x-python",
   "name": "python",
   "nbconvert_exporter": "python",
   "pygments_lexer": "ipython3",
   "version": "3.10.15"
  }
 },
 "nbformat": 4,
 "nbformat_minor": 5
}
