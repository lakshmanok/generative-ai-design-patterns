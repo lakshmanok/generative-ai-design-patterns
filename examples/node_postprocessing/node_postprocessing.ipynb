{
 "cells": [
  {
   "cell_type": "markdown",
   "id": "dbd295e0-a0b0-4071-9704-136901f29a2a",
   "metadata": {},
   "source": [
    "# Node Postprocessor\n",
    "\n",
    "Consists of these optional components:\n",
    "* Reranking\n",
    "* Filtering\n",
    "* Contextual compression\n",
    "* Disambiguation followups\n",
    "* Query decomposition\n",
    "* Multi-index retrieval (eg. personalization)"
   ]
  },
  {
   "cell_type": "code",
   "execution_count": 1,
   "id": "41664a72-3e67-4e57-9e6d-2a01ed7ed8bb",
   "metadata": {},
   "outputs": [],
   "source": [
    "#%pip install --quiet llama-index llama-index-llms-gemini llama-index-embeddings-huggingface pydantic-ai "
   ]
  },
  {
   "cell_type": "code",
   "execution_count": 2,
   "id": "b078983c-cda3-46d0-8438-d284bc017b3c",
   "metadata": {
    "tags": []
   },
   "outputs": [],
   "source": [
    "MODEL_ID = \"gemini-2.0-flash\"\n",
    "EMBED_MODEL_ID = \"BAAI/bge-small-en-v1.5\"\n",
    "\n",
    "import os\n",
    "from dotenv import load_dotenv\n",
    "load_dotenv(\"../keys.env\")\n",
    "assert os.environ[\"GEMINI_API_KEY\"][:2] == \"AI\",\\\n",
    "       \"Please specify the GEMINI_API_KEY access token in keys.env file\"\n",
    "assert os.environ[\"HF_TOKEN\"][:2] == \"hf\",\\\n",
    "       \"Please specify the HF_TOKEN access token in keys.env file\""
   ]
  },
  {
   "cell_type": "code",
   "execution_count": 3,
   "id": "40dad339-d55a-4440-8ab4-367f0cb0ffc7",
   "metadata": {
    "tags": []
   },
   "outputs": [],
   "source": [
    "import sys\n",
    "sys.path.append('../basic_rag')\n",
    "import gutenberg_text_loader as gtl\n",
    "import logging\n",
    "logging.basicConfig(level=logging.INFO, format='%(asctime)s - %(levelname)s - %(message)s')\n",
    "logger = logging.getLogger(__name__)"
   ]
  },
  {
   "cell_type": "code",
   "execution_count": 4,
   "id": "e348f21d-7ef8-476d-b072-da5230f0f8fb",
   "metadata": {
    "tags": []
   },
   "outputs": [],
   "source": [
    "# for pydantic AI in Jupyter\n",
    "import nest_asyncio\n",
    "nest_asyncio.apply()"
   ]
  },
  {
   "cell_type": "markdown",
   "id": "15a2e1d2-2682-4e82-8e55-7b5134ddf34a",
   "metadata": {},
   "source": [
    "The examples here are on two Geology texts:\n",
    "* An 1878 book: The Student's Elements of Geology:  https://www.gutenberg.org/cache/epub/3772/pg3772.txt\n",
    "* A  1905 book: The Elements of Geology: https://www.gutenberg.org/cache/epub/4204/pg4204.txt"
   ]
  },
  {
   "cell_type": "markdown",
   "id": "acc0820e-3300-46f1-ac1b-5fc2208be423",
   "metadata": {},
   "source": [
    "## Plain Semantic Indexing to use as a comparison"
   ]
  },
  {
   "cell_type": "code",
   "execution_count": 5,
   "id": "3335ac11-8a74-4cb8-a92a-d5e3fef50640",
   "metadata": {
    "tags": []
   },
   "outputs": [],
   "source": [
    "#!rm -rf .cache vector_index   # uncomment to start afresh"
   ]
  },
  {
   "cell_type": "code",
   "execution_count": 6,
   "id": "2288ed7b-4783-4445-b179-3e21aa38799f",
   "metadata": {
    "tags": []
   },
   "outputs": [
    {
     "name": "stdout",
     "output_type": "stream",
     "text": [
      "./.cache:\n",
      "pg3772_3736454afe.txt  pg4204_81e8e90db3.txt\n",
      "\n",
      "vector_index:\n",
      "default__vector_store.json  graph_store.json\t      index_store.json\n",
      "docstore.json\t\t    image__vector_store.json\n"
     ]
    }
   ],
   "source": [
    "!ls ./.cache vector_index"
   ]
  },
  {
   "cell_type": "code",
   "execution_count": 7,
   "id": "ac3a0082-337e-438b-89c8-00b0145ee721",
   "metadata": {
    "tags": []
   },
   "outputs": [
    {
     "name": "stderr",
     "output_type": "stream",
     "text": [
      "2025-03-28 20:47:49,298 - INFO - PyTorch version 2.5.1 available.\n",
      "2025-03-28 20:47:50,858 - INFO - Load pretrained SentenceTransformer: BAAI/bge-small-en-v1.5\n"
     ]
    },
    {
     "data": {
      "application/vnd.jupyter.widget-view+json": {
       "model_id": "46467704d78d4e788b9981da4e2e8b13",
       "version_major": 2,
       "version_minor": 0
      },
      "text/plain": [
       "modules.json:   0%|          | 0.00/349 [00:00<?, ?B/s]"
      ]
     },
     "metadata": {},
     "output_type": "display_data"
    },
    {
     "data": {
      "application/vnd.jupyter.widget-view+json": {
       "model_id": "fe805ec3e5ce48e189427f1a554d56dc",
       "version_major": 2,
       "version_minor": 0
      },
      "text/plain": [
       "config_sentence_transformers.json:   0%|          | 0.00/124 [00:00<?, ?B/s]"
      ]
     },
     "metadata": {},
     "output_type": "display_data"
    },
    {
     "data": {
      "application/vnd.jupyter.widget-view+json": {
       "model_id": "a2fc5235ee0e42d5a654523c7c4df7b1",
       "version_major": 2,
       "version_minor": 0
      },
      "text/plain": [
       "README.md:   0%|          | 0.00/94.8k [00:00<?, ?B/s]"
      ]
     },
     "metadata": {},
     "output_type": "display_data"
    },
    {
     "data": {
      "application/vnd.jupyter.widget-view+json": {
       "model_id": "2d680227db264324b250a3d3b4cfa09d",
       "version_major": 2,
       "version_minor": 0
      },
      "text/plain": [
       "sentence_bert_config.json:   0%|          | 0.00/52.0 [00:00<?, ?B/s]"
      ]
     },
     "metadata": {},
     "output_type": "display_data"
    },
    {
     "data": {
      "application/vnd.jupyter.widget-view+json": {
       "model_id": "13df1e3b20ec4a1c9f617e1f163d1efd",
       "version_major": 2,
       "version_minor": 0
      },
      "text/plain": [
       "config.json:   0%|          | 0.00/743 [00:00<?, ?B/s]"
      ]
     },
     "metadata": {},
     "output_type": "display_data"
    },
    {
     "data": {
      "application/vnd.jupyter.widget-view+json": {
       "model_id": "f4c52a7ff760448090e8a29a0a61854b",
       "version_major": 2,
       "version_minor": 0
      },
      "text/plain": [
       "model.safetensors:   0%|          | 0.00/133M [00:00<?, ?B/s]"
      ]
     },
     "metadata": {},
     "output_type": "display_data"
    },
    {
     "data": {
      "application/vnd.jupyter.widget-view+json": {
       "model_id": "42bf1cd329c6458a96d899b4cb3a14f8",
       "version_major": 2,
       "version_minor": 0
      },
      "text/plain": [
       "tokenizer_config.json:   0%|          | 0.00/366 [00:00<?, ?B/s]"
      ]
     },
     "metadata": {},
     "output_type": "display_data"
    },
    {
     "data": {
      "application/vnd.jupyter.widget-view+json": {
       "model_id": "9bf9b5214e254092a474dd063084b4de",
       "version_major": 2,
       "version_minor": 0
      },
      "text/plain": [
       "vocab.txt:   0%|          | 0.00/232k [00:00<?, ?B/s]"
      ]
     },
     "metadata": {},
     "output_type": "display_data"
    },
    {
     "data": {
      "application/vnd.jupyter.widget-view+json": {
       "model_id": "1cfc06c2dfec43958bf11486c8b90d6c",
       "version_major": 2,
       "version_minor": 0
      },
      "text/plain": [
       "tokenizer.json:   0%|          | 0.00/711k [00:00<?, ?B/s]"
      ]
     },
     "metadata": {},
     "output_type": "display_data"
    },
    {
     "data": {
      "application/vnd.jupyter.widget-view+json": {
       "model_id": "357cdb17d6f3461e9b6002260f4b1e28",
       "version_major": 2,
       "version_minor": 0
      },
      "text/plain": [
       "special_tokens_map.json:   0%|          | 0.00/125 [00:00<?, ?B/s]"
      ]
     },
     "metadata": {},
     "output_type": "display_data"
    },
    {
     "data": {
      "application/vnd.jupyter.widget-view+json": {
       "model_id": "c1de1837318f49b69b7ea2778867baa5",
       "version_major": 2,
       "version_minor": 0
      },
      "text/plain": [
       "config.json:   0%|          | 0.00/190 [00:00<?, ?B/s]"
      ]
     },
     "metadata": {},
     "output_type": "display_data"
    },
    {
     "name": "stderr",
     "output_type": "stream",
     "text": [
      "2025-03-28 20:47:59,082 - INFO - 2 prompts are loaded, with the keys: ['query', 'text']\n"
     ]
    },
    {
     "name": "stdout",
     "output_type": "stream",
     "text": [
      "Loading in already created index\n"
     ]
    },
    {
     "name": "stderr",
     "output_type": "stream",
     "text": [
      "2025-03-28 20:48:04,343 - INFO - Loading all indices.\n"
     ]
    }
   ],
   "source": [
    "from llama_index.embeddings.huggingface import HuggingFaceEmbedding\n",
    "from llama_index.core import Settings\n",
    "from llama_index.core import VectorStoreIndex, SimpleDirectoryReader\n",
    "from llama_index.core import StorageContext, load_index_from_storage\n",
    "from llama_index.core import Document\n",
    "import os\n",
    "import pathlib\n",
    "\n",
    "INDEX_DIR=\"vector_index\"\n",
    "Settings.embed_model = HuggingFaceEmbedding(\n",
    "    model_name=EMBED_MODEL_ID\n",
    ")\n",
    "\n",
    "# these are the defaults in LlamaIndex\n",
    "Settings.chunk_size = 1024; Settings.chunk_overlap = 20; TOP_K=2\n",
    "#Settings.chunk_size = 100; Settings.chunk_overlap = 10; TOP_K=4\n",
    "\n",
    "if os.path.isdir(INDEX_DIR):\n",
    "    print(\"Loading in already created index\")\n",
    "    storage_context = StorageContext.from_defaults(persist_dir=INDEX_DIR)\n",
    "    index = load_index_from_storage(storage_context)\n",
    "else:\n",
    "    # downloads into .cache the first time\n",
    "    gs = gtl.GutenbergSource()\n",
    "    gs.load_from_url(\"https://www.gutenberg.org/cache/epub/3772/pg3772.txt\")\n",
    "    gs.load_from_url(\"https://www.gutenberg.org/cache/epub/4204/pg4204.txt\")\n",
    "    # reads all files in .cache\n",
    "    documents = SimpleDirectoryReader(input_dir=\"./.cache\", required_exts=[\".txt\"], exclude_hidden=False).load_data()\n",
    "    # creates a vector db\n",
    "    index = VectorStoreIndex.from_documents(documents)\n",
    "    index.storage_context.persist(persist_dir=INDEX_DIR)"
   ]
  },
  {
   "cell_type": "code",
   "execution_count": 8,
   "id": "50285303-18c8-4b9d-a2f8-8a7d6ea3967c",
   "metadata": {
    "tags": []
   },
   "outputs": [
    {
     "name": "stderr",
     "output_type": "stream",
     "text": [
      "/var/tmp/ipykernel_5749/6092052.py:4: DeprecationWarning: Call to deprecated class Gemini. (Should use `llama-index-llms-google-genai` instead, using Google's latest unified SDK. See: https://docs.llamaindex.ai/en/stable/examples/llm/google_genai/)\n",
      "  llm = Gemini(model=f\"models/{MODEL_ID}\", api_key=os.environ[\"GEMINI_API_KEY\"])\n"
     ]
    },
    {
     "data": {
      "application/vnd.jupyter.widget-view+json": {
       "model_id": "46aa1ed610004a9ca37ace9dda40120d",
       "version_major": 2,
       "version_minor": 0
      },
      "text/plain": [
       "Batches:   0%|          | 0/1 [00:00<?, ?it/s]"
      ]
     },
     "metadata": {},
     "output_type": "display_data"
    },
    {
     "name": "stdout",
     "output_type": "stream",
     "text": [
      "The Grand Canyon's geology consists of stratified rocks, exceeding ten thousand feet in thickness, with a gentle inclination northward. A series of gigantic stairs, often over a thousand feet high and miles broad, rise from the canyon. The retreating escarpments, cliffs of mesas and buttes, and ravine walls are sculpted into architectural forms by weathering and deflation. Wind action dissects plateaus in arid regions, smoothing them into waterless plains of naked rock, residual gravel, or drifting sand.\n",
      "\n",
      "Node ID: 7b635fb9-7b61-4508-ad6a-370f5cd42822\n",
      "Text: W. M. DAVIS    HARVARD UNIVERSITY, CAMBRIDGE, MASS.    JULY,\n",
      "1905            CONTENTS    INTRODUCTION.--THE SCOPE AND AIM OF\n",
      "GEOLOGY    PART I    EXTERNAL GEOLOGICAL AGENCIES         I. THE WORK\n",
      "OF THE WEATHER      II. THE WORK OF GROUND WATER     III. RIVERS AND\n",
      "VALLEYS      IV. RIVER DEPOSITS       V. THE WORK OF GLACIERS      VI.\n",
      "THE WORK OF ...\n",
      "Score:  0.771\n",
      "\n",
      "Node ID: 2e6e56ad-1080-4534-9177-6e25d1db23ff\n",
      "Text: As they are little protected by talus, which  commonly is\n",
      "removed about as fast as formed, these escarpments and  the walls of\n",
      "the valleys retreat indefinitely, exposing some hard  stratum beneath\n",
      "which forms the floor of a widening terrace.    The high plateaus of\n",
      "northern Arizona and southern Utah, north of  the Grand Canyon of the\n",
      "Colorado Ri...\n",
      "Score:  0.768\n",
      "\n"
     ]
    }
   ],
   "source": [
    "from llama_index.llms.gemini import Gemini\n",
    "from llama_index.core.query_engine import RetrieverQueryEngine\n",
    "\n",
    "llm = Gemini(model=f\"models/{MODEL_ID}\", api_key=os.environ[\"GEMINI_API_KEY\"])\n",
    "\n",
    "def semantic_rag(question, top_k=TOP_K, verbose=True):\n",
    "    query_engine = RetrieverQueryEngine.from_args(\n",
    "        retriever=index.as_retriever(similarity_top_k=top_k), llm=llm,\n",
    "    )\n",
    "    response = query_engine.query(question)\n",
    "    response = {\n",
    "        \"answer\": str(response),\n",
    "        \"source_nodes\": response.source_nodes\n",
    "    }\n",
    "    if verbose:\n",
    "        print(response['answer'])\n",
    "        for node in response['source_nodes']:\n",
    "            print(node)\n",
    "    return response\n",
    " \n",
    "semantic_rag(\"Describe the geology of the Grand Canyon\");"
   ]
  },
  {
   "cell_type": "code",
   "execution_count": 9,
   "id": "cbce5e25-962c-42d2-8ba7-aa1e008410fc",
   "metadata": {
    "tags": []
   },
   "outputs": [
    {
     "data": {
      "application/vnd.jupyter.widget-view+json": {
       "model_id": "aa4648d0da144d85a51296861da63c36",
       "version_major": 2,
       "version_minor": 0
      },
      "text/plain": [
       "Batches:   0%|          | 0/1 [00:00<?, ?it/s]"
      ]
     },
     "metadata": {},
     "output_type": "display_data"
    },
    {
     "name": "stdout",
     "output_type": "stream",
     "text": [
      "I am sorry, but the provided text does not contain information about the geology of Petrified National Forest.\n",
      "\n",
      "Node ID: 7bfb39c5-9900-465d-8f7b-b9f0d49e6617\n",
      "Text: In the Nova Scotia  field, out of seventy-six distinct coal\n",
      "seams, twenty are  underlain by old forest grounds.    The presence of\n",
      "fire clay beneath a seam points in the same  direction. Such\n",
      "underclays withstand intense heat and are used in  making fire brick,\n",
      "because their alkalies have been removed by the  long-continued growth\n",
      "of vegetation....\n",
      "Score:  0.707\n",
      "\n",
      "Node ID: a3556434-f9be-45c2-871f-0cf47f859389\n",
      "Text: — Purity of the Coal explained. — Conversion of Coal into\n",
      "Anthracite. — Origin of Clay-ironstone. — Marine and brackish-water\n",
      "Strata in Coal. — Fossil Insects. — Batrachian Reptiles. —\n",
      "Labyrinthodont Foot-prints in Coal-measures. — Nova Scotia  Coal-\n",
      "measures with successive Growths of erect fossil Trees. —  Similarity\n",
      "of American and European...\n",
      "Score:  0.703\n",
      "\n"
     ]
    }
   ],
   "source": [
    "# shouldn't work because the national forest didn't exist at the time the book was written\n",
    "semantic_rag(\"Describe the geology of Petrified National Forest\");"
   ]
  },
  {
   "cell_type": "markdown",
   "id": "197ff2a2-2e7c-4941-bc26-504f8671c388",
   "metadata": {},
   "source": [
    "Saved answer:\n",
    "<pre>\n",
    "I'm sorry, but the provided text does not contain information about the geology of Petrified National Forest.\n",
    "<pre>"
   ]
  },
  {
   "cell_type": "markdown",
   "id": "cc4e0786-a9bd-4a58-aadf-a96fd7e54a92",
   "metadata": {},
   "source": [
    "## Limitations of plain-vanilla Semantic Indexing\n",
    "\n"
   ]
  },
  {
   "cell_type": "code",
   "execution_count": 10,
   "id": "223f8efa-2817-4e55-bfa5-46a13d39b4e5",
   "metadata": {},
   "outputs": [
    {
     "data": {
      "application/vnd.jupyter.widget-view+json": {
       "model_id": "0b03a527047341d9bb2af0afdc34e8d9",
       "version_major": 2,
       "version_minor": 0
      },
      "text/plain": [
       "Batches:   0%|          | 0/1 [00:00<?, ?it/s]"
      ]
     },
     "metadata": {},
     "output_type": "display_data"
    },
    {
     "name": "stdout",
     "output_type": "stream",
     "text": [
      "The Grand Canyon is north of the high plateaus of northern Arizona and southern Utah. The canyon is cut into stratified rocks that are more than ten thousand feet thick with a gentle inclination northward. From the broad platform rises a series of gigantic stairs, often more than one thousand feet high and a score or more miles in breadth. The retreating escarpments and the walls of the ravines are carved into architectural forms by weathering and deflation.\n",
      "\n",
      "Node ID: 7b635fb9-7b61-4508-ad6a-370f5cd42822\n",
      "Text: W. M. DAVIS    HARVARD UNIVERSITY, CAMBRIDGE, MASS.    JULY,\n",
      "1905            CONTENTS    INTRODUCTION.--THE SCOPE AND AIM OF\n",
      "GEOLOGY    PART I    EXTERNAL GEOLOGICAL AGENCIES         I. THE WORK\n",
      "OF THE WEATHER      II. THE WORK OF GROUND WATER     III. RIVERS AND\n",
      "VALLEYS      IV. RIVER DEPOSITS       V. THE WORK OF GLACIERS      VI.\n",
      "THE WORK OF ...\n",
      "Score:  0.771\n",
      "\n",
      "Node ID: 2e6e56ad-1080-4534-9177-6e25d1db23ff\n",
      "Text: As they are little protected by talus, which  commonly is\n",
      "removed about as fast as formed, these escarpments and  the walls of\n",
      "the valleys retreat indefinitely, exposing some hard  stratum beneath\n",
      "which forms the floor of a widening terrace.    The high plateaus of\n",
      "northern Arizona and southern Utah, north of  the Grand Canyon of the\n",
      "Colorado Ri...\n",
      "Score:  0.768\n",
      "\n"
     ]
    }
   ],
   "source": [
    "semantic_rag(\"Describe the geology of the Grand Canyon\");"
   ]
  },
  {
   "cell_type": "markdown",
   "id": "31511e08-3b80-4014-9095-f2bf4e865bed",
   "metadata": {},
   "source": [
    "Saved answer:\n",
    "<pre>\n",
    "The Grand Canyon is north of the high plateaus of northern Arizona and southern Utah. The canyon is cut into stratified rocks that are more than ten thousand feet thick with a gentle inclination northward. From the broad platform rises a series of gigantic stairs, often more than one thousand feet high and a score or more miles in breadth. The retreating escarpments and the walls of the ravines are carved into architectural forms by weathering and deflation.\n",
    "</pre>\n",
    "The answer is wrong. The answer is about the plateau within which the canyon exists, not about the canyon itself."
   ]
  },
  {
   "cell_type": "markdown",
   "id": "8c3be921-0b40-4a68-ae59-86a858e7e201",
   "metadata": {},
   "source": [
    "## Reranking / Filtering / Contextual Compression\n",
    "\n",
    "You can use reranking to identify chunks that actually answer the question, and to remove extraneous bits (contextual compression).\n",
    "Another benefit is that you can look at the chunks and replace obsolete material (filtering)"
   ]
  },
  {
   "cell_type": "code",
   "execution_count": 11,
   "id": "567ba5bd-ae13-40b0-82b2-00a68ba0de49",
   "metadata": {
    "tags": []
   },
   "outputs": [
    {
     "data": {
      "application/vnd.jupyter.widget-view+json": {
       "model_id": "8c28abab1c3e45efb9e5f2b4bce77cd1",
       "version_major": 2,
       "version_minor": 0
      },
      "text/plain": [
       "Batches:   0%|          | 0/1 [00:00<?, ?it/s]"
      ]
     },
     "metadata": {},
     "output_type": "display_data"
    },
    {
     "name": "stdout",
     "output_type": "stream",
     "text": [
      "The Grand Canyon is north of the high plateaus of northern Arizona and southern Utah. The plateaus are made of stratified rocks that are more than ten thousand feet thick with a gentle inclination northward. From the broad platform where the canyon was cut, a series of gigantic stairs rise, often more than one thousand feet high and a score or more miles in breadth. The retreating escarpments, cliffs of mesas and buttes, and the walls of the ravines are carved into architectural forms by weathering and deflation. The wind helps dissect the great plateaus in arid regions, smoothing them away to waterless plains of naked rock, residual gravel, or drifting residual sand.\n",
      "\n",
      "Node ID: 7b635fb9-7b61-4508-ad6a-370f5cd42822\n",
      "Text: W. M. DAVIS    HARVARD UNIVERSITY, CAMBRIDGE, MASS.    JULY,\n",
      "1905            CONTENTS    INTRODUCTION.--THE SCOPE AND AIM OF\n",
      "GEOLOGY    PART I    EXTERNAL GEOLOGICAL AGENCIES         I. THE WORK\n",
      "OF THE WEATHER      II. THE WORK OF GROUND WATER     III. RIVERS AND\n",
      "VALLEYS      IV. RIVER DEPOSITS       V. THE WORK OF GLACIERS      VI.\n",
      "THE WORK OF ...\n",
      "Score:  0.771\n",
      "\n",
      "Node ID: 2e6e56ad-1080-4534-9177-6e25d1db23ff\n",
      "Text: As they are little protected by talus, which  commonly is\n",
      "removed about as fast as formed, these escarpments and  the walls of\n",
      "the valleys retreat indefinitely, exposing some hard  stratum beneath\n",
      "which forms the floor of a widening terrace.    The high plateaus of\n",
      "northern Arizona and southern Utah, north of  the Grand Canyon of the\n",
      "Colorado Ri...\n",
      "Score:  0.768\n",
      "\n",
      "Node ID: 863b9b41-817a-4f84-a065-727fa5df0b0e\n",
      "Text: California was then under water, and  the site of the Sierra was\n",
      "a subsiding trough slowly filling with  waste from the Great Basin\n",
      "land to the east.    Over a long belt which reaches from Wyoming\n",
      "across Colorado into  New Mexico no Triassic sediments are found, nor\n",
      "is there any  evidence that they were ever present; hence this area\n",
      "was high  la...\n",
      "Score:  0.763\n",
      "\n",
      "Node ID: 56492446-6f37-46c7-ab75-3cc1721311db\n",
      "Text: Even a porous  aquifer may be made the seat of mineral deposits,\n",
      "as in the case  of some copper-bearing and silver-bearing sandstones\n",
      "of New  Mexico.            PART III    HISTORICAL GEOLOGY    CHAPTER\n",
      "XIV    THE GEOLOGICAL RECORD      WHAT A FORMATION RECORDS. We have\n",
      "already learned that each  individual body of stratified rock, or\n",
      "formation,...\n",
      "Score:  0.741\n",
      "\n"
     ]
    }
   ],
   "source": [
    "response = semantic_rag(\"Describe the geology of the Grand Canyon\", top_k=4)"
   ]
  },
  {
   "cell_type": "markdown",
   "id": "29a5ca96-f71b-4a84-9136-3ca9df470f97",
   "metadata": {},
   "source": [
    "Saved answer:\n",
    "<pre>\n",
    "The Grand Canyon is north of the high plateaus of northern Arizona and southern Utah. The plateaus are made of stratified rocks that are more than ten thousand feet thick with a gentle inclination northward. From the broad platform where the canyon was cut, a series of gigantic stairs rise, often more than one thousand feet high and a score or more miles in breadth. The retreating escarpments, cliffs of mesas and buttes, and the walls of the ravines are carved into architectural forms by weathering and deflation. The wind helps dissect the great plateaus in arid regions, smoothing them away to waterless plains of naked rock, residual gravel, or drifting residual sand.\n",
    "</pre>\n",
    "\n",
    "This is actually wrong. The answer is about the plateau within which the canyon exists, not about the canyon itself."
   ]
  },
  {
   "cell_type": "code",
   "execution_count": 12,
   "id": "a97e86b9-3c17-4837-97e4-44bd48d16f1e",
   "metadata": {
    "tags": []
   },
   "outputs": [
    {
     "data": {
      "text/plain": [
       "{'file_path': '/home/jupyter/generative-ai-design-patterns/examples/generation_aware_retrieval/.cache/pg4204_81e8e90db3.txt',\n",
       " 'file_name': 'pg4204_81e8e90db3.txt',\n",
       " 'file_type': 'text/plain',\n",
       " 'file_size': 685928,\n",
       " 'creation_date': '2025-03-27',\n",
       " 'last_modified_date': '2025-03-27'}"
      ]
     },
     "execution_count": 12,
     "metadata": {},
     "output_type": "execute_result"
    }
   ],
   "source": [
    "response['source_nodes'][0].metadata"
   ]
  },
  {
   "cell_type": "code",
   "execution_count": 13,
   "id": "4877ec7b-1588-4e61-9695-956ac7467155",
   "metadata": {
    "tags": []
   },
   "outputs": [
    {
     "data": {
      "text/plain": [
       "\"W. M. DAVIS\\r\\n\\r\\nHARVARD UNIVERSITY, CAMBRIDGE, MASS.\\r\\n\\r\\nJULY, 1905\\r\\n\\r\\n\\r\\n\\r\\n\\r\\n\\r\\nCONTENTS\\r\\n\\r\\nINTRODUCTION.--THE SCOPE AND AIM OF GEOLOGY\\r\\n\\r\\nPART I\\r\\n\\r\\nEXTERNAL GEOLOGICAL AGENCIES\\r\\n\\r\\n     I. THE WORK OF THE WEATHER\\r\\n    II. THE WORK OF GROUND WATER\\r\\n   III. RIVERS AND VALLEYS\\r\\n    IV. RIVER DEPOSITS\\r\\n     V. THE WORK OF GLACIERS\\r\\n    VI. THE WORK OF THE WIND\\r\\n   VII. THE SEA AND ITS SHORES\\r\\n  VIII. OFFSHORE AND DEEP-SEA DEPOSITS\\r\\n\\r\\nPART  II\\r\\n\\r\\nINTERNAL GEOLOGICAL AGENCIES\\r\\n\\r\\n    IX. MOVEMENTS OF THE EARTH'S CRUST\\r\\n     X. EARTHQUAKES\\r\\n    XI. VOLCANOES\\r\\n   XII. UNDERGROUND STRUCTURES OF IGNEOUS ORIGIN\\r\\n  XIII. METAMORPHISM AND MINERAL VEINS\\r\\n\\r\\nPART III\\r\\n\\r\\nHISTORICAL GEOLOGY\\r\\n\\r\\n   XIV. THE GEOLOGICAL RECORD\\r\\n    XV. THE PRE-CAMBRIAN SYSTEMS\\r\\n   XVI. THE CAMBRIAN\\r\\n  XVII. THE ORDOVICIAN AND SILURIAN\\r\\n XVIII. THE DEVONIAN\\r\\n   XIX. THE CARBONIFEROUS\\r\\n    XX. THE MESOZOIC\\r\\n   XXI. THE TERTIARY\\r\\n  XXII. THE QUATERNARY\\r\\n INDEX\\r\\n\\r\\n\\r\\n\\r\\n\\r\\n\\r\\nTHE ELEMENTS OF GEOLOGY\\r\\n\\r\\n\\r\\n\\r\\n\\r\\n\\r\\nINTRODUCTION\\r\\n\\r\\nTHE SCOPE AND AIM OF GEOLOGY\\r\\n\\r\\n\\r\\nGeology deals with the rocks of the earth's crust. It learns from\\r\\ntheir composition and structure how the rocks were made and how\\r\\nthey have been modified. It ascertains how they have been brought\\r\\nto their present places and wrought to their various topographic\\r\\nforms, such as hills and valleys, plains and mountains. It studies\\r\\nthe vestiges which the rocks preserve of ancient organisms which\\r\\nonce inhabited our planet. Geology is the history of the earth and\\r\\nits inhabitants, as read in the rocks of the earth's crust.\\r\\n\\r\\nTo obtain a general idea of the nature and method of our science\\r\\nbefore beginning its study in detail, we may visit some valley,\\r\\nsuch as that illustrated in the frontispiece, on whose sides are\\r\\nrocky ledges. Here the rocks lie in horizontal layers. Although\\r\\nonly their edges are exposed, we may infer that these layers run\\r\\ninto the upland on either side and underlie the entire district;\\r\\nthey are part of the foundation of solid rock which everywhere is\\r\\nfound beneath the loose materials of the surface.\\r\\n\\r\\nThe ledges of the valley of our illustration are of sandstone.\\r\\nLooking closely at the rock we see that it is composed of myriads\\r\\nof grains of sand cemented together. These grains have been worn\\r\\nand rounded. They are sorted also, those of each layer being about\\r\\nof a size. By some means they have been brought hither from some\\r\\nmore ancient source. Surely these grains have had a history before\\r\\nthey here found a resting place,--a history which we are to learn\\r\\nto read.\\r\\n\\r\\nThe successive layers of the rock suggest that they were built one\\r\\nafter another from the bottom upward. We may be as sure that each\\r\\nlayer was formed before those above it as that the bottom courses\\r\\nof stone in a wall were laid before the courses which rest upon\\r\\nthem.\\r\\n\\r\\nWe have no reason to believe that the lowest layers which we see\\r\\nhere were the earliest ever formed. Indeed, some deep boring in\\r\\nthe vicinity may prove that the ledges rest upon other layers of\\r\\nrock which extend downward for many hundreds of feet below the\\r\\nvalley floor. Nor may we conclude that the highest layers here\\r\\nwere the latest ever laid; for elsewhere we may find still later\\r\\nlayers lying upon them.\\r\\n\\r\\nA short search may find in the rock relics of animals, such as the\\r\\nimprints of shells, which lived when it was deposited; and as\\r\\nthese are of kinds whose nearest living relatives now have their\\r\\nhome in the sea, we infer that it was on the flat sea floor that\\r\\nthe sandstone was laid. Its present position hundreds of feet\\r\\nabove sea level proves that it has since emerged to form part of\\r\\nthe land; while the flatness of the beds shows that the movement\\r\\nwas so uniform and gentle as not to break or strongly bend them\\r\\nfrom their original attitude.\\r\\n\\r\\nThe surface of some of these layers is ripple-marked.\""
      ]
     },
     "execution_count": 13,
     "metadata": {},
     "output_type": "execute_result"
    }
   ],
   "source": [
    "response['source_nodes'][0].text"
   ]
  },
  {
   "cell_type": "code",
   "execution_count": 14,
   "id": "1e6ba96f-7457-40b2-b4d4-834ced0247a0",
   "metadata": {
    "tags": []
   },
   "outputs": [
    {
     "name": "stderr",
     "output_type": "stream",
     "text": [
      "2025-03-28 20:48:41,371 - INFO - HTTP Request: POST https://generativelanguage.googleapis.com/v1beta/models/gemini-2.0-flash:generateContent \"HTTP/1.1 200 OK\"\n",
      "2025-03-28 20:48:49,284 - INFO - HTTP Request: POST https://generativelanguage.googleapis.com/v1beta/models/gemini-2.0-flash:generateContent \"HTTP/1.1 200 OK\"\n",
      "2025-03-28 20:48:55,312 - INFO - HTTP Request: POST https://generativelanguage.googleapis.com/v1beta/models/gemini-2.0-flash:generateContent \"HTTP/1.1 200 OK\"\n",
      "2025-03-28 20:49:02,145 - INFO - HTTP Request: POST https://generativelanguage.googleapis.com/v1beta/models/gemini-2.0-flash:generateContent \"HTTP/1.1 200 OK\"\n"
     ]
    }
   ],
   "source": [
    "from dataclasses import dataclass\n",
    "import pydantic_ai\n",
    "from pydantic_ai.models.gemini import GeminiModel\n",
    "from pydantic_ai import Agent\n",
    "\n",
    "model = GeminiModel(MODEL_ID, api_key=os.getenv('GEMINI_API_KEY'))\n",
    "\n",
    "@dataclass\n",
    "class Chunk:\n",
    "    full_text: str\n",
    "    publication_year: int\n",
    "    relevant_text: str\n",
    "    relevance_score: float\n",
    "\n",
    "def process_node(query, node):\n",
    "    system_prompt = \"\"\"\n",
    "    You will be given a query and some text.\n",
    "    1. Assign a publication year if it's clear from the text, else say it's the current year\n",
    "    2. Remove information from the text that is not relevant for answering the question.\n",
    "    3. Assign a relevance score between 0 and 1 where 1 means that the text answers the question \n",
    "    \"\"\"\n",
    "    agent = Agent(model, result_type=Chunk, system_prompt=system_prompt)\n",
    "    chunk = agent.run_sync(f\"**Query**: {query}\\n **Full Text**: {node.text}\").data\n",
    "    if node.metadata['file_name'].startswith('pg4204'):\n",
    "        chunk.publication_year = 1905\n",
    "    else:\n",
    "        chunk.publication_year = 1878\n",
    "    return chunk\n",
    "                              \n",
    "chunks = [process_node(response['source_nodes'], node) for node in response['source_nodes']]    "
   ]
  },
  {
   "cell_type": "code",
   "execution_count": 15,
   "id": "f723df92-25d9-4f66-b820-cbfee0cb6ea1",
   "metadata": {
    "tags": []
   },
   "outputs": [
    {
     "data": {
      "text/plain": [
       "\"Geology deals with the rocks of the earth's crust. It learns from their composition and structure how the rocks were made and how they have been modified. It ascertains how they have been brought to their present places and wrought to their various topographic forms, such as hills and valleys, plains and mountains. It studies the vestiges which the rocks preserve of ancient organisms which once inhabited our planet. Geology is the history of the earth and its inhabitants, as read in the rocks of the earth's crust. A short search may find in the rock relics of animals, such as the imprints of shells, which lived when it was deposited; and as these are of kinds whose nearest living relatives now have their home in the sea, we infer that it was on the flat sea floor that the sandstone was laid. Its present position hundreds of feet above sea level proves that it has since emerged to form part of the land; while the flatness of the beds shows that the movement was so uniform and gentle as not to break or strongly bend them from their original attitude. The surface of some of these layers is ripple-marked.\\n\\n\\n\\n\\n\\nINTRODUCTION\\n\\nTHE SCOPE AND AIM OF GEOLOGY\""
      ]
     },
     "execution_count": 15,
     "metadata": {},
     "output_type": "execute_result"
    }
   ],
   "source": [
    "chunks[0].relevant_text"
   ]
  },
  {
   "cell_type": "code",
   "execution_count": 17,
   "id": "d3d27d84-e0e6-46b2-be6a-fdf7539cfca7",
   "metadata": {
    "tags": []
   },
   "outputs": [],
   "source": [
    "latest_year = max([chunk.publication_year for chunk in chunks])"
   ]
  },
  {
   "cell_type": "code",
   "execution_count": 16,
   "id": "2c10b241-119c-40b7-818d-039e1ff678c8",
   "metadata": {
    "tags": []
   },
   "outputs": [
    {
     "data": {
      "application/vnd.jupyter.widget-view+json": {
       "model_id": "db6a2b6fcd6442c5a79be50d892fbebd",
       "version_major": 2,
       "version_minor": 0
      },
      "text/plain": [
       "Batches:   0%|          | 0/1 [00:00<?, ?it/s]"
      ]
     },
     "metadata": {},
     "output_type": "display_data"
    },
    {
     "name": "stderr",
     "output_type": "stream",
     "text": [
      "2025-03-28 20:49:35,740 - INFO - HTTP Request: POST https://generativelanguage.googleapis.com/v1beta/models/gemini-2.0-flash:generateContent \"HTTP/1.1 200 OK\"\n",
      "2025-03-28 20:49:41,477 - INFO - HTTP Request: POST https://generativelanguage.googleapis.com/v1beta/models/gemini-2.0-flash:generateContent \"HTTP/1.1 200 OK\"\n",
      "2025-03-28 20:49:47,093 - INFO - HTTP Request: POST https://generativelanguage.googleapis.com/v1beta/models/gemini-2.0-flash:generateContent \"HTTP/1.1 200 OK\"\n",
      "2025-03-28 20:49:52,314 - INFO - HTTP Request: POST https://generativelanguage.googleapis.com/v1beta/models/gemini-2.0-flash:generateContent \"HTTP/1.1 200 OK\"\n",
      "2025-03-28 20:49:57,082 - INFO - HTTP Request: POST https://generativelanguage.googleapis.com/v1beta/models/gemini-2.0-flash:generateContent \"HTTP/1.1 200 OK\"\n",
      "2025-03-28 20:50:03,089 - INFO - HTTP Request: POST https://generativelanguage.googleapis.com/v1beta/models/gemini-2.0-flash:generateContent \"HTTP/1.1 200 OK\"\n",
      "2025-03-28 20:50:08,421 - INFO - HTTP Request: POST https://generativelanguage.googleapis.com/v1beta/models/gemini-2.0-flash:generateContent \"HTTP/1.1 200 OK\"\n",
      "2025-03-28 20:50:14,312 - INFO - HTTP Request: POST https://generativelanguage.googleapis.com/v1beta/models/gemini-2.0-flash:generateContent \"HTTP/1.1 200 OK\"\n",
      "2025-03-28 20:50:15,386 - INFO - HTTP Request: POST https://generativelanguage.googleapis.com/v1beta/models/gemini-2.0-flash:generateContent \"HTTP/1.1 200 OK\"\n"
     ]
    },
    {
     "data": {
      "text/plain": [
       "{'answer': 'The Grand Canyon of the Colorado River is located in the high plateaus of northern Arizona and southern Utah. The canyon walls have been shaped by running water and weathering, with horizontal harder beds forming vertical cliffs and talus slopes concealing weaker strata. The sides of the canyon descend to the river by gigantic steps due to the sapping and retreat of the upper cliffs. The plateaus north of the canyon are composed of stratified rocks more than ten thousand feet thick with a gentle inclination northward. The retreating escarpments and walls of the ravines are carved into architectural forms by weathering and deflation.\\n',\n",
       " 'source_nodes': [Chunk(full_text=\"Running water has\\ngulched the walls and weathering has everywhere attacked and\\ndriven them back. The horizontal harder beds stand out in long\\nlines of vertical cliffs, often hundreds of feet in height, at\\nwhose feet talus slopes conceal the outcrop of the weaker strata.\\nAs the upper cliffs have been sapped and driven back by the\\nweather, broad platforms are left at their bases and the sides of\\nthe canyon descend to the river by gigantic steps. Far up and down\\nthe canyon the eye traces these horizontal layers, like the\\nflutings of an elaborate molding, distinguishing each by its\\ncontour as well as by its color and thickness.\\n\\nThe Grand Canyon of the Colorado is often and rightly cited as an\\nexample of the stupendous erosion which may be accomplished by a\\nriver. And yet the Colorado is a young stream and its work is no\\nmore than well begun. It has not yet wholly reached grade, and the\\ngreat task of the river and its tributaries--the task of leveling\\nthe lofty plateau to a low plain and of transporting it grain by\\ngrain to the sea--still lies almost entirely in the future.\\n\\nWATERFALLS AND RAPIDS. Before the bed of a stream is reduced to\\ngrade it may be broken by abrupt descents which give rise to\\nwaterfalls and rapids. Such breaks in a river's bed may belong to\\nthe initial surface over which it began its course; still more\\ncommonly are they developed in the rock mass through which it is\\ncutting its valley. Thus, wherever a stream leaves harder rocks to\\nflow over softer ones the latter are quickly worn below the level\\nof the former, and a sharp change in slope, with a waterfall or\\nrapid, results.\\n\\nAt time of flood young tributaries with steeper courses than that\\nof the trunk stream may bring down stones and finer waste, which\\nthe gentler current cannot move along, and throw them as a dam\\nacross its way. The rapids thus formed are also ephemeral, for as\\nthe gradient of the tributaries is lowered the main stream becomes\\nable to handle the smaller and finer load which they discharge.\\n\\nA rare class of falls is produced where the minor tributaries of a\\nyoung river are not able to keep pace with their master stream in\\nthe erosion of their beds because of their smaller volume, and\\nthus join it by plunging over the side of its gorge. But as the\\nriver approaches grade and slackens its down cutting, the\\ntributaries sooner or later overtake it, and effacing their falls,\\nunite with it on a level.\\n\\nWaterfalls and rapids of all kinds are evanescent features of a\\nriver's youth. Like lakes they are soon destroyed, and if any long\\ntime had already elapsed since their formation they would have\\nbeen obliterated already.\\n\\nLOCAL BASELEVELS. That balanced condition called grade, where a\\nriver neither degrades its bed by erosion nor aggrades it by\\ndeposition, is first attained along reaches of soft rocks,\\nungraded outcrops of hard rocks remaining as barriers which give\\nrise to rapids or falls. Until these barriers are worn away they\\nconstitute local baselevels, below which level the stream, up\\nvalley from them, cannot cut. They are eroded to grade one after\\nanother, beginning with the least strong, or the one nearest the\\nmouth of the stream. In a similar way the surface of a lake in a\\nriver's course constitutes for all inflowing streams a local\\nbaselevel, which disappears when the basin is filled or drained.\\n\\nMATURE AND OLD RIVERS\\n\\nMaturity is the stage of a river's complete development and most\\neffective work. The river system now has well under way its great\\ntask of wearing down the land mass which it drains and carrying it\\nparticle by particle to the sea. The relief of the land is now at\\nits greatest; for the main channels have been sunk to grade, while\\nthe divides remain but little worn below their initial altitudes.\\nGround water now stands low. The run-off washes directly to the\\nstreams, with the least delay and loss by evaporation in ponds and\\nmarches; the discharge of the river is therefore at its height.\\nThe entire region is dissected by stream ways. The area of valley\\nslopes is now largest and sheds to the streams a heavier load of\\nwaste than ever before. At maturity the river system is doing its\\ngreatest amount of work both in erosion and in the carriage of\\nwater and of waste to the sea.\", publication_year=1905, relevant_text='Running water has gulched the walls and weathering has everywhere attacked and driven them back. The horizontal harder beds stand out in long lines of vertical cliffs, often hundreds of feet in height, at whose feet talus slopes conceal the outcrop of the weaker strata. As the upper cliffs have been sapped and driven back by the weather, broad platforms are left at their bases and the sides of the canyon descend to the river by gigantic steps. Far up and down the canyon the eye traces these horizontal layers, like the flutings of an elaborate molding, distinguishing each by its contour as well as by its color and thickness.\\n\\nThe Grand Canyon of the Colorado is often and rightly cited as an example of the stupendous erosion which may be accomplished by a river. And yet the Colorado is a young stream and its work is no more than well begun. It has not yet wholly reached grade, and the great task of the river and its tributaries--the task of leveling the lofty plateau to a low plain and of transporting it grain by grain to the sea--still lies almost entirely in the future.\\n\\n', relevance_score=0.7),\n",
       "  Chunk(full_text='As they are little protected by talus, which\\ncommonly is removed about as fast as formed, these escarpments and\\nthe walls of the valleys retreat indefinitely, exposing some hard\\nstratum beneath which forms the floor of a widening terrace.\\n\\nThe high plateaus of northern Arizona and southern Utah, north of\\nthe Grand Canyon of the Colorado River, are composed of stratified\\nrocks more than ten thousand feet thick and of very gentle\\ninclination northward. From the broad plat form in which the\\ncanyon has been cut rises a series of gigantic stairs, which are\\noften more than one thousand feet high and a score or more of\\nmiles in breadth. The retreating escarpments, the cliffs of the\\nmesas and buttes which they have left behind as outliers, and the\\nwalls of the ravines are carved into noble architectural forms--\\ninto cathedrals, pyramids, amphitheaters, towers, arches, and\\ncolonnades--by the processes of weathering aided by deflation. It\\nis thus by the help of the action of the wind that great plateaus\\nin arid regions are dissected and at last are smoothed away to\\nwaterless plains, either composed of naked rock, or strewed with\\nresidual gravels, or covered with drifting residual sand.\\n\\nThe specific gravity of air is 1/823 that of water. How does this\\nfact affect the weight of the material which each can carry at the\\nsame velocity?\\n\\nIf the rainfall should lessen in your own state to from five to\\nten inches a year, what changes would take place in the vegetation\\nof the country? in the soil? in the streams? in the erosion of\\nvalleys? in the agencies chiefly at work in denuding the land?\\n\\nIn what way can a wind-carved pebble be distinguished from a\\nriver-worn pebble? from a glaciated pebble?\\n\\n\\n\\nCHAPTER VII\\n\\nTHE SEA AND ITS SHORES\\n\\n\\nWe have already seen that the ocean is the goal at which the waste\\nof the land arrives. The mantle of rock waste, creeping down\\nslopes, is washed to the sea by streams, together with the\\nmaterial which the streams have worn from their beds and that\\ndissolved by underground waters. In arid regions the winds sweep\\nwaste either into bordering oceans or into more humid regions\\nwhere rivers take it up and carry it on to the sea. Glaciers\\ndeliver the load of their moraines either directly to the sea or\\nleave it for streams to transport to the same goal. All deposits\\nmade on the land, such as the flood plains of rivers, the silts of\\nlake beds, dune sands, and sheets of glacial drift, mark but\\npauses in the process which is to bring all the materials of the\\nland now above sea level to rest upon the ocean bed.\\n\\nBut the sea is also at work along all its shores as an agent of\\ndestruction, and we must first take up its work in erosion before\\nwe consider how it transports and deposits the waste of the land.\\n\\nSEA EROSION\\n\\nTHE SEA CLIFF AND THE ROCK BENCH. On many coasts the land fronts\\nthe ocean in a line of cliffs. To the edge of the cliffs there\\nlead down valleys and ridges, carved by running water, which, if\\nextended, would meet the water surface some way out from shore.\\nEvidently they are now abruptly cut short at the present shore\\nline because the land has been cut back.\\n\\nAlong the foot of the cliff lies a gently shelving bench of rock,\\nmore or less thickly veneered with sand and shingle. At low tide\\nits inner margin is laid bare, but at high tide it is covered\\nwholly, and the sea washes the base of the cliffs. A notch, of\\nwhich the SEA CLIFF and the ROCK BENCH are the two sides, has been\\ncut along the shore.\\n\\nWAVES. The position of the rock bench, with its inner margin\\nslightly above low tide, shows that it has been cut by some agent\\nwhich acts like a horizontal saw set at about sea level. This\\nagent is clearly the surface agitation of the water; it is the\\nwind-raised wave.\\n\\nAs a wave comes up the shelving bench the crest topples forward\\nand the wave \"breaks,\" striking a blow whose force is measured by\\nthe momentum of all its tons of falling water.', publication_year=1905, relevant_text='The high plateaus of northern Arizona and southern Utah, north of\\nthe Grand Canyon of the Colorado River, are composed of stratified\\nrocks more than ten thousand feet thick and of very gentle\\ninclination northward. From the broad plat form in which the\\ncanyon has been cut rises a series of gigantic stairs, which are\\noften more than one thousand feet high and a score or more of\\nmiles in breadth. The retreating escarpments, the cliffs of the\\nmesas and buttes which they have left behind as outliers, and the\\nwalls of the ravines are carved into noble architectural forms--\\ninto cathedrals, pyramids, amphitheaters, towers, arches, and\\ncolonnades--by the processes of weathering aided by deflation. It\\nis thus by the help of the action of the wind that great plateaus\\nin arid regions are dissected and at last are smoothed away to\\nwaterless plains, either composed of naked rock, or strewed with\\nresidual gravels, or covered with drifting residual sand.', relevance_score=0.6)]}"
      ]
     },
     "execution_count": 16,
     "metadata": {},
     "output_type": "execute_result"
    }
   ],
   "source": [
    "def rerank_rag(query, top_k=TOP_K):\n",
    "    # retrieve matching nodes\n",
    "    retriever=index.as_retriever(similarity_top_k=top_k*4)  # 4 times as many\n",
    "    nodes = retriever.retrieve(query)\n",
    "    \n",
    "    # shorten text to what's relevant and get a relevance score\n",
    "    chunks = [process_node(query, node) for node in nodes]\n",
    "    chunks = sorted(chunks, key=lambda x: x.relevance_score, reverse=True)\n",
    "    \n",
    "    # keep only chunks from the latest publication year\n",
    "    latest_year = max([chunk.publication_year for chunk in chunks])\n",
    "    chunks = [chunk for chunk in chunks if chunk.publication_year == latest_year]\n",
    "    \n",
    "    # limit to best k\n",
    "    chunks = chunks[:top_k]\n",
    "    \n",
    "    system_prompt = \"\"\"\n",
    "    Use the information provided in the context to answer the question.\n",
    "    Limit your answer to what's known based on the provided information.\n",
    "    \"\"\"\n",
    "    agent = Agent(model, result_type=str, system_prompt=system_prompt)\n",
    "    answer = agent.run_sync(f\"**Query**: {query}\\n **Context**: {[chunk.relevant_text for chunk in chunks]}\\n **Answer**:\").data\n",
    "    \n",
    "    response = {\n",
    "        \"answer\": answer,\n",
    "        \"source_nodes\": chunks # [chunk.relevant_text for chunk in chunks]\n",
    "    }\n",
    "    return response\n",
    "\n",
    "rerank_rag(\"Describe the geology of the Grand Canyon\", top_k=2)"
   ]
  },
  {
   "cell_type": "markdown",
   "id": "a31d15ab-5a4f-4fc3-88cc-226536db0037",
   "metadata": {},
   "source": [
    "Saved answer:\n",
    "    <pre>\n",
    "The Grand Canyon of the Colorado River is located in the high plateaus of northern Arizona and southern Utah. The canyon walls have been shaped by running water and weathering, with horizontal harder beds forming vertical cliffs and talus slopes concealing weaker strata. The sides of the canyon descend to the river by gigantic steps due to the sapping and retreat of the upper cliffs. The plateaus north of the canyon are composed of stratified rocks more than ten thousand feet thick with a gentle inclination northward. The retreating escarpments and walls of the ravines are carved into architectural forms by weathering and deflation.\n",
    "    </pre>\n",
    "\n",
    "The relevant text of the first two chunks:\n",
    "<pre>\n",
    "relevant_text='Running water has gulched the walls and weathering has everywhere attacked and driven them back. The horizontal harder beds stand out in long lines of vertical cliffs, often hundreds of feet in height, at whose feet talus slopes conceal the outcrop of the weaker strata. As the upper cliffs have been sapped and driven back by the weather, broad platforms are left at their bases and the sides of the canyon descend to the river by gigantic steps. Far up and down the canyon the eye traces these horizontal layers, like the flutings of an elaborate molding, distinguishing each by its contour as well as by its color and thickness.\\n\\nThe Grand Canyon of the Colorado is often and rightly cited as an example of the stupendous erosion which may be accomplished by a river. And yet the Colorado is a young stream and its work is no more than well begun. It has not yet wholly reached grade, and the great task of the river and its tributaries--the task of leveling the lofty plateau to a low plain and of transporting it grain by grain to the sea--still lies almost entirely in the future.\\n\\n'\n",
    "\n",
    "relevance_score=0.7\n",
    "</pre>\n",
    "and\n",
    "<pre>\n",
    "relevant_text='The high plateaus of northern Arizona and southern Utah, north of\\nthe Grand Canyon of the Colorado River, are composed of stratified\\nrocks more than ten thousand feet thick and of very gentle\\ninclination northward. From the broad plat form in which the\\ncanyon has been cut rises a series of gigantic stairs, which are\\noften more than one thousand feet high and a score or more of\\nmiles in breadth. The retreating escarpments, the cliffs of the\\nmesas and buttes which they have left behind as outliers, and the\\nwalls of the ravines are carved into noble architectural forms--\\ninto cathedrals, pyramids, amphitheaters, towers, arches, and\\ncolonnades--by the processes of weathering aided by deflation. It\\nis thus by the help of the action of the wind that great plateaus\\nin arid regions are dissected and at last are smoothed away to\\nwaterless plains, either composed of naked rock, or strewed with\\nresidual gravels, or covered with drifting residual sand.', relevance_score=0.6\n",
    "</pre>\n",
    "    \n",
    "This is all relevant.  Also, usefully, the chunks' relevant text is now more concise.\n",
    "Finally, the answer is able to distinguish between the geology of the canyon vs. the geology of the surrounding plateau.\n",
    "so, the answer is correct."
   ]
  },
  {
   "cell_type": "markdown",
   "id": "7dee6a79-8414-46c0-8ce6-dd400c17f2db",
   "metadata": {},
   "source": [
    "## Disambiguation"
   ]
  },
  {
   "cell_type": "code",
   "execution_count": 82,
   "id": "d797497f-d08a-40a7-b66c-e30cec24571b",
   "metadata": {
    "tags": []
   },
   "outputs": [],
   "source": [
    "@dataclass\n",
    "class DisambiguationResult:\n",
    "    is_ambiguous: bool\n",
    "    ambiguous_term: str\n",
    "    possibility_1: str\n",
    "    possibility_2: str\n",
    "\n",
    "def disambiguate(query, node1, node2):\n",
    "    system_prompt = \"\"\"\n",
    "    You will be given a query and two retrieved passages on which to base the answer to the query.\n",
    "    Respond by saying whether the two passages are referring to two different entities with the same term.\n",
    "    For example, the query might be about \"Red River\", and one passage might be about the\n",
    "    Red River in Minnesota whereas the other might be about the Red River on the Oklahoma/Texas border.\n",
    "    If there is no ambiguity between the two passages, return False for is_ambiguous.\n",
    "    \"\"\"\n",
    "    agent = Agent(model, result_type=DisambiguationResult, system_prompt=system_prompt)\n",
    "    return agent.run_sync(f\"**Query**: {query}\\n **Passage 1**: {node1.text}\\n **Passage 2**: {node2.text}\").data"
   ]
  },
  {
   "cell_type": "code",
   "execution_count": 83,
   "id": "2655c52b-0bf7-4f76-8bac-f6e8998af6a0",
   "metadata": {
    "tags": []
   },
   "outputs": [
    {
     "data": {
      "application/vnd.jupyter.widget-view+json": {
       "model_id": "fecc783171684a958ec3684aab9fd1bc",
       "version_major": 2,
       "version_minor": 0
      },
      "text/plain": [
       "Batches:   0%|          | 0/1 [00:00<?, ?it/s]"
      ]
     },
     "metadata": {},
     "output_type": "display_data"
    }
   ],
   "source": [
    "def get_nodes(query):\n",
    "    response = semantic_rag(query, top_k=10, verbose=False);\n",
    "    return response\n",
    "\n",
    "response = get_nodes(\"Name the characteristics of coal-bearing strata in Newcastle\");"
   ]
  },
  {
   "cell_type": "code",
   "execution_count": 84,
   "id": "95d625a9-4213-4907-8927-34b96caf7c58",
   "metadata": {
    "tags": []
   },
   "outputs": [
    {
     "name": "stderr",
     "output_type": "stream",
     "text": [
      "2025-03-27 22:37:42,922 - INFO - HTTP Request: POST https://generativelanguage.googleapis.com/v1beta/models/gemini-2.0-flash:generateContent \"HTTP/1.1 200 OK\"\n"
     ]
    },
    {
     "name": "stdout",
     "output_type": "stream",
     "text": [
      "DisambiguationResult(is_ambiguous=True, ambiguous_term='Newcastle', possibility_1='Newcastle in Pennsylvania', possibility_2='Newcastle in England')\n"
     ]
    },
    {
     "name": "stderr",
     "output_type": "stream",
     "text": [
      "2025-03-27 22:37:43,661 - INFO - HTTP Request: POST https://generativelanguage.googleapis.com/v1beta/models/gemini-2.0-flash:generateContent \"HTTP/1.1 200 OK\"\n"
     ]
    },
    {
     "name": "stdout",
     "output_type": "stream",
     "text": [
      "DisambiguationResult(is_ambiguous=True, ambiguous_term='Newcastle', possibility_1='Newcastle in Pennsylvania', possibility_2='Newcastle in England')\n"
     ]
    },
    {
     "name": "stderr",
     "output_type": "stream",
     "text": [
      "2025-03-27 22:37:44,391 - INFO - HTTP Request: POST https://generativelanguage.googleapis.com/v1beta/models/gemini-2.0-flash:generateContent \"HTTP/1.1 200 OK\"\n"
     ]
    },
    {
     "name": "stdout",
     "output_type": "stream",
     "text": [
      "DisambiguationResult(is_ambiguous=True, ambiguous_term='Newcastle', possibility_1='Newcastle in Pennsylvania, USA', possibility_2='Newcastle in England')\n"
     ]
    },
    {
     "name": "stderr",
     "output_type": "stream",
     "text": [
      "2025-03-27 22:37:45,298 - INFO - HTTP Request: POST https://generativelanguage.googleapis.com/v1beta/models/gemini-2.0-flash:generateContent \"HTTP/1.1 200 OK\"\n"
     ]
    },
    {
     "name": "stdout",
     "output_type": "stream",
     "text": [
      "DisambiguationResult(is_ambiguous=True, ambiguous_term='Newcastle', possibility_1='Newcastle in Pennsylvania', possibility_2='Newcastle in Nova Scotia (or elsewhere in Europe/Americas, generally not Pennsylvania, USA')\n"
     ]
    },
    {
     "name": "stderr",
     "output_type": "stream",
     "text": [
      "2025-03-27 22:37:46,055 - INFO - HTTP Request: POST https://generativelanguage.googleapis.com/v1beta/models/gemini-2.0-flash:generateContent \"HTTP/1.1 200 OK\"\n",
      "2025-03-27 22:37:46,978 - INFO - HTTP Request: POST https://generativelanguage.googleapis.com/v1beta/models/gemini-2.0-flash:generateContent \"HTTP/1.1 200 OK\"\n"
     ]
    },
    {
     "name": "stdout",
     "output_type": "stream",
     "text": [
      "DisambiguationResult(is_ambiguous=True, ambiguous_term='Newcastle', possibility_1='Newcastle in the query refers to the characteristics of coal-bearing strata', possibility_2='Newcastle in passage 2 refers to littoral deposits containing works of art near Naples')\n"
     ]
    },
    {
     "name": "stderr",
     "output_type": "stream",
     "text": [
      "2025-03-27 22:37:47,696 - INFO - HTTP Request: POST https://generativelanguage.googleapis.com/v1beta/models/gemini-2.0-flash:generateContent \"HTTP/1.1 200 OK\"\n"
     ]
    },
    {
     "name": "stdout",
     "output_type": "stream",
     "text": [
      "DisambiguationResult(is_ambiguous=True, ambiguous_term='Newcastle', possibility_1='Newcastle in Pennsylvania', possibility_2='Newcastle in England')\n"
     ]
    },
    {
     "name": "stderr",
     "output_type": "stream",
     "text": [
      "2025-03-27 22:37:48,430 - INFO - HTTP Request: POST https://generativelanguage.googleapis.com/v1beta/models/gemini-2.0-flash:generateContent \"HTTP/1.1 200 OK\"\n"
     ]
    },
    {
     "name": "stdout",
     "output_type": "stream",
     "text": [
      "DisambiguationResult(is_ambiguous=True, ambiguous_term='Newcastle', possibility_1='Newcastle in Pennsylvania', possibility_2='Newcastle in Nova Scotia and New Brunswick')\n"
     ]
    },
    {
     "name": "stderr",
     "output_type": "stream",
     "text": [
      "2025-03-27 22:37:49,186 - INFO - HTTP Request: POST https://generativelanguage.googleapis.com/v1beta/models/gemini-2.0-flash:generateContent \"HTTP/1.1 200 OK\"\n"
     ]
    },
    {
     "name": "stdout",
     "output_type": "stream",
     "text": [
      "DisambiguationResult(is_ambiguous=True, ambiguous_term='Newcastle', possibility_1='a locality in Pennyslvania', possibility_2='north and central England')\n"
     ]
    }
   ],
   "source": [
    "for node in response['source_nodes'][1:]:\n",
    "    result = disambiguate(\"Name the characteristics of coal-bearing strata in Newcastle\", response['source_nodes'][0], node)\n",
    "    if result.is_ambiguous:\n",
    "        print(result)"
   ]
  },
  {
   "cell_type": "markdown",
   "id": "dcb8a5f3-f8ea-4fac-93ff-c9ed1c4f8c51",
   "metadata": {},
   "source": [
    "Saved result:\n",
    "<pre>\n",
    "DisambiguationResult(is_ambiguous=True, ambiguous_term='Newcastle', possibility_1='Newcastle in Pennsylvania', possibility_2='Newcastle in England')\n",
    "DisambiguationResult(is_ambiguous=True, ambiguous_term='Newcastle', possibility_1='Newcastle in Pennsylvania', possibility_2='Newcastle in Nova Scotia and New Brunswick')\n",
    "</pre>"
   ]
  },
  {
   "cell_type": "code",
   "execution_count": null,
   "id": "ec18071b-d368-4a6b-8dfe-92cf388cd838",
   "metadata": {},
   "outputs": [],
   "source": []
  }
 ],
 "metadata": {
  "environment": {
   "kernel": "conda-base-py",
   "name": "workbench-notebooks.m126",
   "type": "gcloud",
   "uri": "us-docker.pkg.dev/deeplearning-platform-release/gcr.io/workbench-notebooks:m126"
  },
  "kernelspec": {
   "display_name": "Python 3 (ipykernel) (Local)",
   "language": "python",
   "name": "conda-base-py"
  },
  "language_info": {
   "codemirror_mode": {
    "name": "ipython",
    "version": 3
   },
   "file_extension": ".py",
   "mimetype": "text/x-python",
   "name": "python",
   "nbconvert_exporter": "python",
   "pygments_lexer": "ipython3",
   "version": "3.10.15"
  }
 },
 "nbformat": 4,
 "nbformat_minor": 5
}
