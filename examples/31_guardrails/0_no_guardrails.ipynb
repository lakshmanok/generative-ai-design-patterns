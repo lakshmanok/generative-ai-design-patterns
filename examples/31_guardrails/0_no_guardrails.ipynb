{
 "cells": [
  {
   "cell_type": "markdown",
   "id": "45a56bb7-e753-4731-84ed-cdc1084f57e7",
   "metadata": {
    "tags": []
   },
   "source": [
    "## No guardrails\n",
    "\n",
    "A search application without guardrails. We want to apply Guardrails to this application without modifying the application code."
   ]
  },
  {
   "cell_type": "code",
   "execution_count": 1,
   "id": "b9fcb201-d306-40ad-b430-1093f76e8bfb",
   "metadata": {
    "tags": []
   },
   "outputs": [],
   "source": [
    "#%pip install --quiet llama-index llama-index-retrievers-bm25 llama-index-llms-anthropic anthropic"
   ]
  },
  {
   "cell_type": "code",
   "execution_count": 1,
   "id": "ffaacc11-e131-4170-ad1b-42bdf2e01b04",
   "metadata": {
    "tags": []
   },
   "outputs": [],
   "source": [
    "#GEMINI=\"gemini-2.0-flash\"\n",
    "#OPENAI=\"gpt-4o-mini\"\n",
    "CLAUDE=\"claude-3-7-sonnet-latest\"\n",
    "\n",
    "import os\n",
    "from dotenv import load_dotenv\n",
    "load_dotenv(\"../keys.env\")\n",
    "#assert os.environ[\"GEMINI_API_KEY\"][:2] == \"AI\",\\\n",
    "#       \"Please specify the GEMINI_API_KEY access token in keys.env file\"\n",
    "assert os.environ[\"ANTHROPIC_API_KEY\"][:2] == \"sk\",\\\n",
    "       \"Please specify the ANTHROPIC_API_KEY access token in keys.env file\"\n",
    "#assert os.environ[\"OPENAI_API_KEY\"][:2] == \"sk\",\\\n",
    "#       \"Please specify the OPENAI_API_KEY access token in keys.env file\""
   ]
  },
  {
   "cell_type": "markdown",
   "id": "2e3782e9-d901-4255-acae-0201fdbb64f8",
   "metadata": {
    "tags": []
   },
   "source": [
    "## Basic RAG application\n",
    "\n",
    "This is the application that we want to protect."
   ]
  },
  {
   "cell_type": "code",
   "execution_count": 2,
   "id": "f487cc95-d26a-4436-94b9-9949a1d0f1b4",
   "metadata": {},
   "outputs": [
    {
     "name": "stderr",
     "output_type": "stream",
     "text": [
      "2025-05-12 21:14:52,415 - INFO - Indexer initialized\n",
      "2025-05-12 21:14:52,416 - INFO - Loading https://www.gutenberg.org/cache/epub/31100/pg31100.txt from cache\n",
      "2025-05-12 21:14:52,486 - INFO - Cleaned Gutenberg text: removed 887 chars from start, 18518 chars from end\n",
      "2025-05-12 21:14:52,487 - INFO - Successfully loaded text from https://www.gutenberg.org/cache/epub/31100/pg31100.txt.\n",
      "2025-05-12 21:15:32,695 - INFO - Successfully loaded text from a5ddcec2-1de9-40a8-9a0f-2506d7a51617 -- 24434 nodes created.\n",
      "2025-05-12 21:15:34,660 - DEBUG - Building index from IDs objects\n"
     ]
    }
   ],
   "source": [
    "from basic_rag import build_query_engine, print_response_to_query\n",
    "query_engine = build_query_engine(CLAUDE, [\"https://www.gutenberg.org/cache/epub/31100/pg31100.txt\"], 100) # Jane Austen"
   ]
  },
  {
   "cell_type": "markdown",
   "id": "9fc71180-869f-4945-ae96-6d96b6f8e721",
   "metadata": {
    "tags": []
   },
   "source": [
    "### Good query"
   ]
  },
  {
   "cell_type": "code",
   "execution_count": 3,
   "id": "55c4a7a4-3e17-4fcc-9b6a-47b518a31a21",
   "metadata": {
    "tags": []
   },
   "outputs": [
    {
     "name": "stderr",
     "output_type": "stream",
     "text": [
      "2025-05-12 21:15:54,221 - INFO - HTTP Request: POST https://api.anthropic.com/v1/messages \"HTTP/1.1 200 OK\"\n"
     ]
    },
    {
     "name": "stdout",
     "output_type": "stream",
     "text": [
      "Yes, it is possible to give advice without being resented for it. The text shows an example where Elizabeth thanked her aunt for \"the kindness of her hints\" and they parted, which is described as \"a wonderful instance of advice being given on such a point, without being resented.\"\n",
      "\n",
      "However, the manner in which advice is offered seems important. In another example, someone is criticized for being \"wilful and perverse\" and making decisions \"without even asking their advice,\" suggesting that unsolicited advice or ignoring others' right to guide you can cause friction.\n",
      "\n",
      "There's also an instance where Elinor, when directly asked for advice, declines to give it in certain circumstances, stating \"Your own judgment must direct you.\" This suggests that sometimes recognizing when not to give advice may be just as important as knowing how to give it respectfully.\n",
      "\n",
      "\n",
      "**Sources**:\n",
      "Node ID: 82dd6051-dc3f-4baa-9f15-7a228b0519ff\n",
      "Text: Her aunt assured her that she was, and Elizabeth having thanked\n",
      "her for the kindness of her hints, they parted; a wonderful instance\n",
      "of advice being given on such a point, without being resented.  Mr.\n",
      "Score:  7.238\n",
      "\n",
      "Node ID: 41cf383a-6cd1-494c-9d8e-673a3111c68d\n",
      "Text: But you have now shewn me that you can be wilful and perverse;\n",
      "that you can and will decide for yourself, without any consideration\n",
      "or deference for those who have surely some right to guide you,\n",
      "without even asking their advice.\n",
      "Score:  6.464\n",
      "\n",
      "Node ID: 824e4237-07f9-438b-acf8-efeab467b455\n",
      "Text: What would you do yourself?\"  \"Pardon me,\" replied Elinor,\n",
      "startled by the question; \"but I can give you no advice under such\n",
      "circumstances. Your own judgment must direct you.\"\n",
      "Score:  5.678\n",
      "\n",
      "Node ID: 34f17d38-c2bd-49ac-9379-88df1e372089\n",
      "Text: If you can give me your assurance of having no design beyond\n",
      "enjoying the conversation of a clever woman for a short period, and of\n",
      "yielding admiration only to her beauty and abilities, without being\n",
      "blinded by them to her faults, you will restore me to happiness;\n",
      "Score:  5.195\n",
      "\n",
      "Node ID: 96c8551b-6a39-407f-9066-832d41f814e9\n",
      "Text: I can have nothing to fear from you--and can chearfully conduct\n",
      "you to Mrs Cope's without a fear of your being seduced by her Example,\n",
      "or contaminated by her Follies.\n",
      "Score:  4.893\n",
      "\n"
     ]
    }
   ],
   "source": [
    "print_response_to_query(query_engine, \"Can you give advice without being resented for it?\")"
   ]
  },
  {
   "cell_type": "markdown",
   "id": "93756382-aee1-46bc-90c7-5427da0724ad",
   "metadata": {},
   "source": [
    "### Query that should be rejected\n",
    "\n",
    "Because it touches on religion which is (let's assume) a prohibited topic."
   ]
  },
  {
   "cell_type": "code",
   "execution_count": 6,
   "id": "51febb8c-86d0-406a-910c-34e733078fe2",
   "metadata": {
    "tags": []
   },
   "outputs": [
    {
     "name": "stderr",
     "output_type": "stream",
     "text": [
      "2025-05-12 21:20:17,621 - INFO - HTTP Request: POST https://api.anthropic.com/v1/messages \"HTTP/1.1 200 OK\"\n"
     ]
    },
    {
     "name": "stdout",
     "output_type": "stream",
     "text": [
      "From the information provided, there appears to be an expectation that parish priests should understand and fulfill their duty properly. This is suggested by Edmund's comment that \"Sir Thomas undoubtedly understands the duty of a parish priest\" and the hope that his son would prove to know it too. While not explicitly stating they must be role models, there's an implication of responsibility and proper conduct associated with the position. The text also mentions different expectations regarding parish management, suggesting that clergymen have responsibilities beyond spiritual guidance, including oversight of parish affairs. The role seems to carry certain standards and obligations that the holder is expected to meet.\n",
      "\n",
      "\n",
      "**Sources**:\n",
      "Node ID: d6879695-2a3f-4fe9-86c5-bd7ab3710840\n",
      "Text: Crawford as occupier.\"  Mr. Crawford bowed his thanks.  \"Sir\n",
      "Thomas,\" said Edmund, \"undoubtedly understands the duty of a parish\n",
      "priest. We must hope his son may prove that _he_ knows it too.\"\n",
      "Score:  6.212\n",
      "\n",
      "Node ID: c12d59dd-d78a-49c0-8dbb-55567022c5ef\n",
      "Text: Norris, as clergyman of the parish, that cannot be expected from\n",
      "me. It is unknown how much was consumed in our kitchen by odd comers\n",
      "and goers. At the White House, matters must be better looked after.\n",
      "Score:  4.055\n",
      "\n",
      "Node ID: d028f8d1-ae95-4c5a-9d10-4572f44c96d2\n",
      "Text: It had never occurred to her, on the present occasion, but as a\n",
      "thing to be carefully avoided. To prevent its being expected, she had\n",
      "fixed on the smallest habitation which could rank as genteel among the\n",
      "buildings of Mansfield parish,\n",
      "Score:  3.930\n",
      "\n",
      "Node ID: 6e14d5b4-3b78-411f-954f-a66530665cf0\n",
      "Text: Fortunately for him, Highbury, including Randalls in the same\n",
      "parish, and Donwell Abbey in the parish adjoining, the seat of Mr.\n",
      "Knightley, comprehended many such. Not unfrequently, through Emma's\n",
      "persuasion,\n",
      "Score:  3.751\n",
      "\n",
      "Node ID: b0caf95d-3b67-495b-88ff-099d49c97c44\n",
      "Text: Elton's side.--\"I do believe,\" she continued, \"this is the most\n",
      "troublesome parish that ever was. We never heard of such things at\n",
      "Maple Grove.\"  \"Your parish there was small,\" said Jane.\n",
      "Score:  3.723\n",
      "\n"
     ]
    }
   ],
   "source": [
    "print_response_to_query(query_engine, \"Are parish priests expected to be role models?\")"
   ]
  },
  {
   "cell_type": "markdown",
   "id": "0578fdf3-33f8-4b29-a4ec-c613cedacc9c",
   "metadata": {},
   "source": [
    "### Query that should be modified.\n",
    "\n",
    "Let's say that queries that reference people by name should be made more generic"
   ]
  },
  {
   "cell_type": "code",
   "execution_count": 10,
   "id": "bd36fffb-7e2e-4ff7-afa2-0ad1361cbb3b",
   "metadata": {
    "tags": []
   },
   "outputs": [
    {
     "name": "stderr",
     "output_type": "stream",
     "text": [
      "2025-05-12 21:24:49,686 - INFO - HTTP Request: POST https://api.anthropic.com/v1/messages \"HTTP/1.1 200 OK\"\n"
     ]
    },
    {
     "name": "stdout",
     "output_type": "stream",
     "text": [
      "The provided context doesn't contain enough information to determine whether Mr. Darcy would be an appealing match if he were not wealthy. The fragments mention Mr. Darcy briefly, but don't discuss his wealth as a factor in his appeal as a potential match. There's a reference to him potentially looking down on Gracechurch Street, suggesting he might have some class prejudices, and another fragment mentions someone being detained from \"bewitching converse\" with a young lady while Mr. Darcy is present. However, there's no direct information about how his wealth affects his desirability as a match or what other qualities he possesses that might make him appealing regardless of financial status.\n",
      "\n",
      "\n",
      "**Sources**:\n",
      "Node ID: bc504a0c-0d5d-4aec-b28d-5ec135c72385\n",
      "Text: \"No--I have never seen Mr. Elton,\" she replied, starting on this\n",
      "appeal; \"is he--is he a tall man?\"  \"Who shall answer that question?\"\n",
      "cried Emma. \"My father would say 'yes,' Mr.\n",
      "Score:  5.443\n",
      "\n",
      "Node ID: db471a27-a4a3-4bfa-ad76-af120c309ea2\n",
      "Text: I appeal to Mr. Darcy:--but let me not interrupt you, sir. You\n",
      "will not thank me for detaining you from the bewitching converse of\n",
      "that young lady, whose bright eyes are also upbraiding me.\"\n",
      "Score:  5.092\n",
      "\n",
      "Node ID: bcb302b0-ffcc-48ee-a63d-2b345f8460b3\n",
      "Text: Mr. Darcy may perhaps have _heard_ of such a place as\n",
      "Gracechurch Street, but he would hardly think a month's ablution\n",
      "enough to cleanse him from its impurities, were he once to enter it;\n",
      "and depend upon it, Mr.\n",
      "Score:  4.981\n",
      "\n",
      "Node ID: 3f0c9087-de3a-4b9c-b6ed-3989e98bc1e1\n",
      "Text: he was most earnest in hoping, and sanguine in believing, that\n",
      "it would be a match at last, and that, united by mutual affection, it\n",
      "would appear that their dispositions were as exactly fitted to make\n",
      "them blessed in each other,\n",
      "Score:  4.643\n",
      "\n",
      "Node ID: b61e6f15-68c2-43f8-ba9b-a545ac168047\n",
      "Text: and his own views on another (circumstances of which he boasted\n",
      "with almost equal openness), seemed sufficient vouchers for his truth;\n",
      "and to these were added the absolute facts of the Allens being wealthy\n",
      "and childless,\n",
      "Score:  4.571\n",
      "\n"
     ]
    }
   ],
   "source": [
    "print_response_to_query(query_engine, \"Would Mr. Darcy be an appealing match if he were not wealthy?\")"
   ]
  },
  {
   "cell_type": "code",
   "execution_count": null,
   "id": "759a74e9-a1ab-4774-85df-b255f9858056",
   "metadata": {},
   "outputs": [],
   "source": []
  }
 ],
 "metadata": {
  "environment": {
   "kernel": "conda-base-py",
   "name": "workbench-notebooks.m126",
   "type": "gcloud",
   "uri": "us-docker.pkg.dev/deeplearning-platform-release/gcr.io/workbench-notebooks:m126"
  },
  "kernelspec": {
   "display_name": "Python 3 (ipykernel) (Local)",
   "language": "python",
   "name": "conda-base-py"
  },
  "language_info": {
   "codemirror_mode": {
    "name": "ipython",
    "version": 3
   },
   "file_extension": ".py",
   "mimetype": "text/x-python",
   "name": "python",
   "nbconvert_exporter": "python",
   "pygments_lexer": "ipython3",
   "version": "3.10.15"
  }
 },
 "nbformat": 4,
 "nbformat_minor": 5
}
