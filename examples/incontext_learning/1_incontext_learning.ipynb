{
 "cells": [
  {
   "cell_type": "code",
   "execution_count": 1,
   "metadata": {},
   "outputs": [],
   "source": [
    "import os\n",
    "from dotenv import load_dotenv\n",
    "from openai import OpenAI\n",
    "\n",
    "\n",
    "load_dotenv(\"../saved_keys.env\")\n",
    "\n",
    "assert os.environ[\"OPENAI_API_KEY\"][:2] == \"sk\",\\\n",
    "       \"Please sign up for access to the OpenAI API and provide access token in keys.env file\""
   ]
  },
  {
   "cell_type": "code",
   "execution_count": 2,
   "metadata": {},
   "outputs": [],
   "source": [
    "# Initialize the OpenAI client\n",
    "client = OpenAI(\n",
    "    api_key=os.environ[\"OPENAI_API_KEY\"]\n",
    ")\n"
   ]
  },
  {
   "cell_type": "markdown",
   "metadata": {},
   "source": [
    "## Example: In-context Learning"
   ]
  },
  {
   "cell_type": "code",
   "execution_count": 5,
   "metadata": {},
   "outputs": [
    {
     "name": "stdout",
     "output_type": "stream",
     "text": [
      "Input: The waiter was rude but the food was amazing.\n",
      "Styled output: The service left much to be desired, however, the culinary offerings were truly exceptional.\n"
     ]
    }
   ],
   "source": [
    "# Example of in-context learning\n",
    "def generate_styled_text(input_text: str, target_style: str) -> str:\n",
    "    # Define in-context examples\n",
    "    in_context_examples = [{\n",
    "        'input_text': \"The movie was fantastic!\",\n",
    "        'style': 'professional_critic',\n",
    "        \"output\": \"The cinematography was exceptional, with masterful use of light and shadow to convey emotional depth.\",\n",
    "    },\n",
    "    {\n",
    "        'input_text': \"The movie was fantastic!\",\n",
    "        'style': 'academic',\n",
    "        \"output\": \"This film's visual composition demonstrates remarkable technical prowess in its manipulation of chiaroscuro.\",\n",
    "    },\n",
    "    {\n",
    "        'input_text': \"The movie was fantastic!\",\n",
    "        'style': 'casual',\n",
    "        \"output\": \"The way they shot this movie was fire! Those dark scenes hit different fr fr.\",\n",
    "    },\n",
    "    {\n",
    "        'input_text': \"The movie was fantastic!\",\n",
    "        'style': 'social_media',\n",
    "        \"output\": \"OMG the camera work was everything! The lighting was so mood, I can't even 😍\",\n",
    "    }]\n",
    "\n",
    "    # Format examples into a prompt\n",
    "    prompt = \"Convert the following text into the following style:\\n\\n\"\n",
    "\n",
    "    for in_context_example in in_context_examples:\n",
    "        prompt += f\"Input: {in_context_example['input_text']}\\nStyle: {in_context_example['style']}\\nOutput: {in_context_example['output']}\\n\\n\"\n",
    "\n",
    "    # Add the new text to convert\n",
    "    prompt += f\"Input: {input_text}\\nStyle: {target_style}\\nOutput:\"\n",
    "\n",
    "    # Make API call\n",
    "    response = client.chat.completions.create(\n",
    "        model=\"gpt-3.5-turbo\",\n",
    "        messages=[\n",
    "            {\"role\": \"user\", \"content\": prompt}\n",
    "        ],\n",
    "        temperature=0\n",
    "    )\n",
    "\n",
    "    return response.choices[0].message.content\n",
    "\n",
    "# Example usage with a negative style\n",
    "input_text = \"The waiter was rude but the food was amazing.\"\n",
    "result = generate_styled_text(input_text, \"professional_critic\")\n",
    "print(\"Input:\", input_text)\n",
    "print(\"Styled output:\", result)"
   ]
  },
  {
   "cell_type": "code",
   "execution_count": 6,
   "metadata": {},
   "outputs": [
    {
     "name": "stdout",
     "output_type": "stream",
     "text": [
      "Input: The waiter was rude but the food was amazing.\n",
      "Styled output: The waiter displayed a lamentable lack of manners, yet the victuals were truly exquisite.\n"
     ]
    }
   ],
   "source": [
    "# trying an unseen style\n",
    "\n",
    "input_text = \"The waiter was rude but the food was amazing.\"\n",
    "result = generate_styled_text(input_text, \"victorian_english\")\n",
    "print(\"Input:\", input_text)\n",
    "print(\"Styled output:\", result)"
   ]
  }
 ],
 "metadata": {
  "kernelspec": {
   "display_name": ".venv",
   "language": "python",
   "name": "python3"
  },
  "language_info": {
   "codemirror_mode": {
    "name": "ipython",
    "version": 3
   },
   "file_extension": ".py",
   "mimetype": "text/x-python",
   "name": "python",
   "nbconvert_exporter": "python",
   "pygments_lexer": "ipython3",
   "version": "3.10.16"
  }
 },
 "nbformat": 4,
 "nbformat_minor": 2
}
