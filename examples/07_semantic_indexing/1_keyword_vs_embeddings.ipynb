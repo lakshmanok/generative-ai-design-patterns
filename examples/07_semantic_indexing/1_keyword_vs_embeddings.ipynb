{
 "cells": [
  {
   "cell_type": "markdown",
   "metadata": {},
   "source": [
    "# Comparison of keyword search vs semantic search"
   ]
  },
  {
   "cell_type": "code",
   "execution_count": 1,
   "metadata": {},
   "outputs": [],
   "source": [
    "# pip install numpy scikit-learn sentence-transformers"
   ]
  },
  {
   "cell_type": "code",
   "execution_count": 2,
   "metadata": {},
   "outputs": [],
   "source": [
    "from sklearn.feature_extraction.text import CountVectorizer\n",
    "from sklearn.metrics.pairwise import cosine_similarity\n",
    "from sentence_transformers import SentenceTransformer\n",
    "\n",
    "# Example corpus\n",
    "chunks = [\n",
    "    \"I really enjoyed the film we watched last night\",\n",
    "    \"The movie was excellent\",\n",
    "    \"I didn't like the documentary\",\n",
    "    \"The cinematic experience was remarkable\"\n",
    "]\n",
    "\n",
    "query = \"The film was great\"\n",
    "\n"
   ]
  },
  {
   "cell_type": "code",
   "execution_count": 3,
   "metadata": {},
   "outputs": [
    {
     "name": "stdout",
     "output_type": "stream",
     "text": [
      "Similarity based on keywords:\n",
      "Chunk 1: 0.4082 - I really enjoyed the film we watched last night\n",
      "Chunk 2: 0.5774 - The movie was excellent\n",
      "Chunk 3: 0.2887 - I didn't like the documentary\n",
      "Chunk 4: 0.5164 - The cinematic experience was remarkable\n"
     ]
    }
   ],
   "source": [
    "\n",
    "# Keyword-based approach (Bag of Words)\n",
    "vectorizer = CountVectorizer()\n",
    "keyword_vectors = vectorizer.fit_transform(chunks)\n",
    "keyword_matrix = keyword_vectors.toarray()\n",
    "\n",
    "# Query\n",
    "query_keywords = vectorizer.transform([query]).toarray()\n",
    "\n",
    "print(\"Similarity based on keywords:\")\n",
    "for i, doc in enumerate(chunks):\n",
    "    similarity = cosine_similarity(query_keywords, [keyword_matrix[i]])[0][0]\n",
    "    print(f\"Chunk {i+1}: {similarity:.4f} - {doc}\")\n",
    "\n"
   ]
  },
  {
   "cell_type": "code",
   "execution_count": 4,
   "metadata": {},
   "outputs": [
    {
     "name": "stdout",
     "output_type": "stream",
     "text": [
      "\n",
      "Similarity based on embeddings:\n",
      "Chunk 1: 0.6905 - I really enjoyed the film we watched last night\n",
      "Chunk 2: 0.9167 - The movie was excellent\n",
      "Chunk 3: 0.4964 - I didn't like the documentary\n",
      "Chunk 4: 0.6170 - The cinematic experience was remarkable\n"
     ]
    }
   ],
   "source": [
    "# Embedding-based approach\n",
    "model = SentenceTransformer('all-MiniLM-L6-v2')\n",
    "embedding_vectors = model.encode(chunks)\n",
    "\n",
    "# Query\n",
    "query_embedding = model.encode([query])[0]\n",
    "\n",
    "print(\"\\nSimilarity based on embeddings:\")\n",
    "for i, doc in enumerate(chunks):\n",
    "    similarity = cosine_similarity([query_embedding], [embedding_vectors[i]])[0][0]\n",
    "    print(f\"Chunk {i+1}: {similarity:.4f} - {doc}\")"
   ]
  },
  {
   "cell_type": "code",
   "execution_count": null,
   "metadata": {},
   "outputs": [],
   "source": []
  }
 ],
 "metadata": {
  "kernelspec": {
   "display_name": ".venv",
   "language": "python",
   "name": "python3"
  },
  "language_info": {
   "codemirror_mode": {
    "name": "ipython",
    "version": 3
   },
   "file_extension": ".py",
   "mimetype": "text/x-python",
   "name": "python",
   "nbconvert_exporter": "python",
   "pygments_lexer": "ipython3",
   "version": "3.10.16"
  }
 },
 "nbformat": 4,
 "nbformat_minor": 2
}
