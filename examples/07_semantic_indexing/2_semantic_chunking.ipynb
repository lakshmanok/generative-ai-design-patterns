{
 "cells": [
  {
   "cell_type": "markdown",
   "metadata": {},
   "source": [
    "# Semantic Chunking"
   ]
  },
  {
   "cell_type": "code",
   "execution_count": 1,
   "metadata": {},
   "outputs": [],
   "source": [
    "def chunk_markdown_by_paragraphs_and_headers(markdown_file_path, max_chunk_size=1000):\n",
    "    \"\"\"\n",
    "    Chunk a markdown file by paragraphs and headers, ensuring each header starts a new chunk\n",
    "    and chunks don't exceed max_chunk_size.\n",
    "\n",
    "    Args:\n",
    "        markdown_file_path (str): Path to the markdown file\n",
    "        max_chunk_size (int): Maximum size of each chunk in characters\n",
    "\n",
    "    Returns:\n",
    "        list: List of chunks, where each chunk is a string containing a header and its content\n",
    "    \"\"\"\n",
    "    # Read the markdown file\n",
    "    with open(markdown_file_path, 'r', encoding='utf-8') as file:\n",
    "        content = file.read()\n",
    "\n",
    "    # Split content by double newlines (paragraph boundaries)\n",
    "    paragraphs = content.split('\\n\\n')\n",
    "\n",
    "    # Remove empty paragraphs\n",
    "    paragraphs = [p.strip() for p in paragraphs if p.strip()]\n",
    "\n",
    "    chunks = []\n",
    "    current_chunk = []\n",
    "    current_size = 0\n",
    "\n",
    "    for paragraph in paragraphs:\n",
    "        # Check if paragraph is a markdown header (starts with # followed by space)\n",
    "        stripped = paragraph.lstrip()\n",
    "        is_header = bool((stripped.startswith('# ') or stripped.startswith('## ')) and ' ' in stripped[:10])\n",
    "        paragraph_size = len(paragraph)\n",
    "\n",
    "        # Start a new chunk if:\n",
    "        # 1. Current paragraph is a header, or\n",
    "        # 2. Adding this paragraph would exceed max size and we already have content\n",
    "        if (is_header and current_chunk) or (current_size + paragraph_size > max_chunk_size and current_chunk):\n",
    "            chunks.append('\\n\\n'.join(current_chunk))\n",
    "            current_chunk = []\n",
    "            current_size = 0\n",
    "\n",
    "        # Add paragraph to current chunk\n",
    "        current_chunk.append(paragraph)\n",
    "        current_size += paragraph_size\n",
    "\n",
    "    # Add the last chunk if it has content\n",
    "    if current_chunk:\n",
    "        chunks.append('\\n\\n'.join(current_chunk))\n",
    "\n",
    "    return chunks"
   ]
  },
  {
   "cell_type": "code",
   "execution_count": 2,
   "metadata": {},
   "outputs": [],
   "source": [
    "file_path = \"example.md\"\n",
    "chunks = chunk_markdown_by_paragraphs_and_headers(file_path)"
   ]
  },
  {
   "cell_type": "code",
   "execution_count": 3,
   "metadata": {},
   "outputs": [
    {
     "name": "stdout",
     "output_type": "stream",
     "text": [
      "Total chunks: 12\n",
      "\n",
      "--- Chunk 1 (471 chars) ---\n",
      "# Johann Sebastian Bach\n",
      "\n",
      "**Johann Sebastian Bach** (31 March [O.S. 21 March] 1685 – 28 July 1750) was a German composer and musician of the late Baroq...\n",
      "\n",
      "--- Chunk 2 (915 chars) ---\n",
      "## Early life and education\n",
      "\n",
      "Bach was born in Eisenach, in the duchy of Saxe-Eisenach, into a great musical family. His father, Johann Ambrosius Bach,...\n",
      "\n",
      "--- Chunk 3 (517 chars) ---\n",
      "## Career\n",
      "\n",
      "### Early career (1703–1708)\n",
      "\n",
      "Bach's first position was as court musician in the chapel of Duke Johann Ernst III in Weimar. His role there ...\n",
      "\n",
      "--- Chunk 4 (547 chars) ---\n",
      "In 1708, Bach left Mühlhausen, returning to Weimar this time as organist and from 1714 Konzertmeister (director of music) at the ducal court, where he...\n",
      "\n",
      "--- Chunk 5 (917 chars) ---\n",
      "Leopold, Prince of Anhalt-Köthen, hired Bach to serve as his Kapellmeister (director of music) in 1717. Prince Leopold, himself a musician, appreciate...\n",
      "\n",
      "--- Chunk 6 (744 chars) ---\n",
      "## Musical style and works\n",
      "\n",
      "### Organ works\n",
      "\n",
      "Bach was best known during his lifetime as an organist, organ consultant, and composer of organ works in ...\n",
      "\n",
      "--- Chunk 7 (523 chars) ---\n",
      "Bach's best-known orchestral works are the Brandenburg Concertos, so named because he submitted them in the hope of gaining employment from Margrave C...\n",
      "\n",
      "--- Chunk 8 (814 chars) ---\n",
      "## Legacy and influence\n",
      "\n",
      "### 18th century\n",
      "\n",
      "In his own time, Bach was highly respected amongst his colleagues, although outside of this circle of Germa...\n",
      "\n",
      "--- Chunk 9 (424 chars) ---\n",
      "During the 20th century, the process of recognizing the musical as well as the pedagogic value of some of the works continued, perhaps most notably in...\n",
      "\n",
      "--- Chunk 10 (503 chars) ---\n",
      "## Personal life\n",
      "\n",
      "### Family\n",
      "\n",
      "Bach married twice and had 20 children, ten of whom survived to adulthood. His first wife was his second cousin, Maria B...\n",
      "\n",
      "--- Chunk 11 (313 chars) ---\n",
      "## References\n",
      "\n",
      "1. Wolff, Christoph (2000). Johann Sebastian Bach: The Learned Musician. W. W. Norton & Company.\n",
      "2. Forkel, Johann Nikolaus (1802). Ueb...\n",
      "\n",
      "--- Chunk 12 (191 chars) ---\n",
      "## External links\n",
      "\n",
      "- [Bach Digital](https://www.bach-digital.de/)\n",
      "- [Internationale Bachakademie Stuttgart](https://www.bachakademie.de/)\n",
      "- [Bach-Arch...\n"
     ]
    }
   ],
   "source": [
    "print(f\"Total chunks: {len(chunks)}\")\n",
    "for i, chunk in enumerate(chunks):\n",
    "    print(f\"\\n--- Chunk {i+1} ({len(chunk)} chars) ---\")\n",
    "    print(f\"{chunk[:150]}...\" if len(chunk) > 150 else chunk)"
   ]
  },
  {
   "cell_type": "code",
   "execution_count": null,
   "metadata": {},
   "outputs": [],
   "source": []
  }
 ],
 "metadata": {
  "kernelspec": {
   "display_name": ".venv",
   "language": "python",
   "name": "python3"
  },
  "language_info": {
   "codemirror_mode": {
    "name": "ipython",
    "version": 3
   },
   "file_extension": ".py",
   "mimetype": "text/x-python",
   "name": "python",
   "nbconvert_exporter": "python",
   "pygments_lexer": "ipython3",
   "version": "3.10.16"
  }
 },
 "nbformat": 4,
 "nbformat_minor": 2
}
