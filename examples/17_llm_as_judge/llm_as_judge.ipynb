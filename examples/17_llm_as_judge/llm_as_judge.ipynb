{
 "cells": [
  {
   "cell_type": "markdown",
   "id": "45a56bb7-e753-4731-84ed-cdc1084f57e7",
   "metadata": {},
   "source": [
    "## LLM as judge\n",
    "\n",
    "Rate voter guides\n",
    "\n",
    "How the WA voter pamphlet works:\n",
    "https://washingtonstatestandard.com/2024/07/01/how-the-washington-state-voter-guide-became-a-110-year-democratic-tradition/\n",
    "\n",
    "\n",
    "\n",
    "Best practices: https://www.eac.gov/sites/default/files/2024-07/Best_practices_for_designing_effective_voter_ed_materials_508.pdf\n"
   ]
  },
  {
   "cell_type": "code",
   "execution_count": 1,
   "id": "ffaacc11-e131-4170-ad1b-42bdf2e01b04",
   "metadata": {
    "tags": []
   },
   "outputs": [],
   "source": [
    "GEMINI=\"gemini-2.0-flash\"\n",
    "OPENAI=\"gpt-4o-mini\"\n",
    "CLAUDE=\"claude-3-7-sonnet-latest\"\n",
    "\n",
    "import os\n",
    "from dotenv import load_dotenv\n",
    "load_dotenv(\"../keys.env\")\n",
    "assert os.environ[\"GEMINI_API_KEY\"][:2] == \"AI\",\\\n",
    "       \"Please specify the GEMINI_API_KEY access token in keys.env file\"\n",
    "assert os.environ[\"ANTHROPIC_API_KEY\"][:2] == \"sk\",\\\n",
    "       \"Please specify the ANTHROPIC_API_KEY access token in keys.env file\"\n",
    "assert os.environ[\"OPENAI_API_KEY\"][:2] == \"sk\",\\\n",
    "       \"Please specify the OPENAI_API_KEY access token in keys.env file\""
   ]
  },
  {
   "cell_type": "code",
   "execution_count": 2,
   "id": "e0ca727e-3aa9-4a31-926d-bfb6e6df2447",
   "metadata": {
    "tags": []
   },
   "outputs": [],
   "source": [
    "# Needed in Jupyter environment See: https://ai.pydantic.dev/troubleshooting/ \n",
    "import nest_asyncio\n",
    "nest_asyncio.apply()\n",
    "def zero_shot(model_id, prompt: str) -> str:\n",
    "    from pydantic_ai import Agent\n",
    "    agent = Agent(model_id, \n",
    "                  model_settings = {\n",
    "                      \"temperature\": 0   # temperature=0 for LLM-as-judge\n",
    "                  }) \n",
    "    result = agent.run_sync(prompt)\n",
    "    return (result.data)"
   ]
  },
  {
   "cell_type": "markdown",
   "id": "2e3782e9-d901-4255-acae-0201fdbb64f8",
   "metadata": {
    "tags": []
   },
   "source": [
    "## Text of voter pamphlet\n",
    "\n",
    "Source of 2022 initiatives text:\n",
    "https://www.sos.wa.gov/sites/default/files/2022-05/Voters%2520Pamphlet%25202016.pdf"
   ]
  },
  {
   "cell_type": "code",
   "execution_count": 3,
   "id": "0cf23e56-6ccf-4e05-b7c0-11b08ebf59e5",
   "metadata": {
    "tags": []
   },
   "outputs": [],
   "source": [
    "argument_for = \"\"\"\n",
    "Washington State has taken important steps to keep guns\n",
    "out of dangerous hands. But there are still gaps in our laws\n",
    "that make it hard to keep guns away from people threatening\n",
    "violence against themselves or others. We know that the\n",
    "majority of mass shooters and individuals who attempt suicide\n",
    "show signs of their intentions, but current law leaves families\n",
    "and law enforcement - often first to see those warning signs -\n",
    "unable to take life-saving action.\n",
    "\n",
    "**Initiative 1491: Empower Families, Prevent Gun Violence**\n",
    "Initiative 1491 empowers families and law enforcement to\n",
    "prevent tragedy -- giving them a chance to remove guns from\n",
    "a dangerous situation when they know someone is a threat\n",
    "to themselves or others. Parents of shooters at Isla Vista,\n",
    "Seattle’s Cafe Racer, and other tragedies have said they could\n",
    "have used this type of law to prevent senseless violence.\n",
    "Initiative 1491 would also expand protections that keep guns\n",
    "out of the hands of domestic abusers. Similar laws in other\n",
    "states have been shown to prevent some suicides.\n",
    "\n",
    "**Initiative 1491: Respect Due Process**\n",
    "Initiative 1491 closely follows existing process for other civil\n",
    "protection orders. Both parties may present evidence in court.\n",
    "A judge determines whether evidence of danger is sufficient\n",
    "and issues an order, effective for one year. There are criminal\n",
    "penalties for false petitions.\n",
    "\n",
    "**Initiative 1491: Community Support**\n",
    "Endorsed by Washington State Public Health Association,\n",
    "League of Women Voters, Faith Action Network, Everytown\n",
    "for Gun Safety, law enforcement, domestic violence experts,\n",
    "gun owners, and gun violence survivors.\n",
    "\n",
    "**Rebuttal of argument against**\n",
    "Initiative 1491 fills a critical need in Washington’s proven,\n",
    "established protection order system. It simply gives families\n",
    "a tool to save lives— keeping guns from loved ones who\n",
    "are likely to use them for violence to themselves or others.\n",
    "Initiative 1491 is a targeted, tested way to keep guns out of\n",
    "dangerous hands and respect due process—endorsed by\n",
    "mental health professionals, law enforcement and suicide\n",
    "prevention advocates\n",
    "\"\"\""
   ]
  },
  {
   "cell_type": "code",
   "execution_count": 4,
   "id": "074987e9-ee9d-4bca-9e11-2187029d3c09",
   "metadata": {},
   "outputs": [],
   "source": [
    "argument_against = \"\"\"\n",
    "**I-1491 Duplicates Existing Laws**\n",
    "I-1491 disregards existing state laws that already require\n",
    "treatment and restriction of potentially dangerous individuals.\n",
    "I-1491 doesn’t require evaluation, treatment, or monitoring\n",
    "and does nothing to address underlying issues. Recently implemented laws actually provide early detection and intervention of persons at danger to themselves or others.\n",
    "\n",
    "**Stigmatizes Mental Illness**\n",
    "I-1491 associates mental illness with mass shootings and violent crime. Statistics show that only 3%-5% of violent acts\n",
    "are committed by people with serious mental illness. The vast\n",
    "majority of people with mental illness are not violent and are\n",
    "ten times more likely to be victims of violent crime than the\n",
    "general population.\n",
    "\n",
    "**Violates Rights**\n",
    "A broadly defined set of people, including former roommates\n",
    "and police, can file a petition against you. Due process is undermined by allowing immediate ex parte orders; hearings and\n",
    "judgments without notice to the accused person. The definition of “Extreme Risk” is unclear. A judge can issue an order\n",
    "based on arbitrary factors and reported behaviors including\n",
    "simply purchasing a gun legally. To be released from an order,\n",
    "a person must prove he/she is not a danger to themselves or\n",
    "others and pay for the tremendous cost of their own defense.\n",
    "\n",
    "**Gives False Sense of Security**\n",
    "There is no evidence that such orders reduce mass shootings\n",
    "and violent crime.\n",
    "Restrictions on firearm ownership should not be based on\n",
    "ideological agendas manipulating public fears and misconceptions about gun violence. I-1491 is a targeted, discriminatory abridgement of Second Amendment rights. Vote No!\n",
    "\n",
    "**Rebuttal of argument for**\n",
    "Ineffective! We all want to reduce tragedy, but I-1491 doesn’t\n",
    "include treatment of allegedly dangerous people, and\n",
    "doesn’t remove other dangerous items (vehicles, knives…).\n",
    "Misdirected! I-1491 ignores that 95-97% of violent crimes are\n",
    "not related to mental illness. Deceptive! In Isla Vista, the parents\n",
    "told police they “found it difficult to believe their son either\n",
    "owned weapons or would actually hurt anyone.” Unintended\n",
    "consequences! Confiscating firearms doesn’t make someone\n",
    "stable, it makes them mad.\n",
    "\"\"\""
   ]
  },
  {
   "cell_type": "markdown",
   "id": "f374e374-9102-44d8-ab4d-00649310d149",
   "metadata": {},
   "source": [
    "## LLM-as-Judge\n",
    "\n",
    "the scoring rubric"
   ]
  },
  {
   "cell_type": "code",
   "execution_count": 5,
   "id": "9e84b742-12f3-47ec-860e-b5cbfae0927e",
   "metadata": {
    "tags": []
   },
   "outputs": [],
   "source": [
    "scoring_criteria = \"\"\"\n",
    "- Centers the voter: easy for a voter reading this to understand how the initiative will affect them. Consider voters at different socioeconomic status, and education levels.\n",
    "- Organizes information as a pyramid: the most essential information is presented first, and inessential details and explanations last.\n",
    "- Understandable: Uses plain language, simple sentences, and minimizes jargon.\n",
    "- Clarity: The call to action is clear. Why should the voter vote for/against this initiative?\n",
    "- Caters to undecided: Provide additional information that may sway undecided voters for/against the cause’s direction. This might be endorsements from authoritative/neutral groups or a specific comparison to the competition.\n",
    "\"\"\""
   ]
  },
  {
   "cell_type": "code",
   "execution_count": 6,
   "id": "81461e80-5508-438d-b0b6-06c986c8829a",
   "metadata": {
    "tags": []
   },
   "outputs": [],
   "source": [
    "def create_llm_as_judge_prompt(argument: str) -> str:\n",
    "    return f\"\"\"\n",
    "    You will be given an argument for or against a Washington State initiative\n",
    "    which will appear in the voter pamphlet that is mailed to all households.\n",
    "\n",
    "    Provide a score in the range 1-5 for each of the following criteria:\n",
    "    {scoring_criteria}\n",
    "\n",
    "    For each score, provide a brief justification.\n",
    "\n",
    "    **Argument**:\n",
    "    {argument}\n",
    "\n",
    "    **Score**\":\n",
    "    \"\"\""
   ]
  },
  {
   "cell_type": "code",
   "execution_count": 7,
   "id": "3324eb69-0108-42cc-9269-36169a63fce8",
   "metadata": {
    "tags": []
   },
   "outputs": [
    {
     "name": "stdout",
     "output_type": "stream",
     "text": [
      "**Centers the voter: 4**  \n",
      "Justification: The argument effectively highlights the personal impact of the initiative by discussing how it empowers families and law enforcement to prevent gun violence. It references real-life tragedies, which can resonate with voters across different socioeconomic statuses. However, it could further emphasize how this initiative specifically benefits various demographics, such as low-income families or those in rural areas.\n",
      "\n",
      "**Organizes information as a pyramid: 4**  \n",
      "Justification: The most critical information about the initiative's purpose and benefits is presented first, followed by details about the process and community support. However, the structure could be improved by more clearly separating the essential points from the supporting details, making it easier for voters to quickly grasp the main message.\n",
      "\n",
      "**Understandable: 5**  \n",
      "Justification: The language used is straightforward and accessible, with minimal jargon. The sentences are clear and concise, making it easy for voters of varying education levels to understand the initiative's intent and implications.\n",
      "\n",
      "**Clarity: 4**  \n",
      "Justification: The call to action is implicit in the argument, as it encourages voters to support the initiative to prevent gun violence. However, a more explicit statement urging voters to vote for the initiative could enhance clarity. The rationale for supporting the initiative is present but could be more directly stated.\n",
      "\n",
      "**Caters to undecided: 5**  \n",
      "Justification: The argument includes endorsements from a variety of authoritative and neutral groups, which can help sway undecided voters. It also provides comparisons to existing laws and mentions the success of similar laws in other states, which adds credibility and persuasive power to the argument.\n"
     ]
    }
   ],
   "source": [
    "rubric = zero_shot(OPENAI, create_llm_as_judge_prompt(argument_for))\n",
    "print(rubric)"
   ]
  },
  {
   "cell_type": "code",
   "execution_count": 8,
   "id": "9fd12bb6-4ca3-4ac2-a37d-10dedddaf972",
   "metadata": {
    "tags": []
   },
   "outputs": [
    {
     "name": "stdout",
     "output_type": "stream",
     "text": [
      "**Centers the voter: 3**  \n",
      "Justification: The argument presents some relevant points about how I-1491 may affect individuals' rights and mental health perceptions. However, it could be more explicit about how these issues directly impact voters' lives, especially those from different socioeconomic backgrounds or education levels.\n",
      "\n",
      "**Organizes information as a pyramid: 4**  \n",
      "Justification: The argument starts with the most critical points against I-1491, such as duplication of existing laws and the potential violation of rights. However, it could benefit from a clearer hierarchy of information, as some details about mental illness and statistics are presented somewhat later in the argument.\n",
      "\n",
      "**Understandable: 3**  \n",
      "Justification: While the argument uses some plain language, it includes complex phrases and concepts that may not be easily understood by all voters. Simplifying the language and breaking down some of the more complex ideas would improve accessibility.\n",
      "\n",
      "**Clarity: 4**  \n",
      "Justification: The call to action is clear, urging voters to \"Vote No!\" on I-1491. The reasons provided are direct and relate to the potential negative consequences of the initiative. However, a more explicit summary of the main points could enhance clarity.\n",
      "\n",
      "**Caters to undecided: 3**  \n",
      "Justification: The argument provides some statistics and reasoning that could sway undecided voters, particularly regarding mental illness and rights violations. However, it lacks endorsements from authoritative or neutral groups that could lend credibility to the claims. Additionally, a more balanced comparison with the initiative's potential benefits could help address undecided voters more effectively.\n"
     ]
    }
   ],
   "source": [
    "rubric = zero_shot(OPENAI, create_llm_as_judge_prompt(argument_against))\n",
    "print(rubric)"
   ]
  },
  {
   "cell_type": "code",
   "execution_count": null,
   "id": "9ec2cf09-9139-4d30-905d-b70170ad9bd1",
   "metadata": {},
   "outputs": [],
   "source": []
  }
 ],
 "metadata": {
  "environment": {
   "kernel": "conda-base-py",
   "name": "workbench-notebooks.m126",
   "type": "gcloud",
   "uri": "us-docker.pkg.dev/deeplearning-platform-release/gcr.io/workbench-notebooks:m126"
  },
  "kernelspec": {
   "display_name": "Python 3 (ipykernel) (Local)",
   "language": "python",
   "name": "conda-base-py"
  },
  "language_info": {
   "codemirror_mode": {
    "name": "ipython",
    "version": 3
   },
   "file_extension": ".py",
   "mimetype": "text/x-python",
   "name": "python",
   "nbconvert_exporter": "python",
   "pygments_lexer": "ipython3",
   "version": "3.10.15"
  }
 },
 "nbformat": 4,
 "nbformat_minor": 5
}
