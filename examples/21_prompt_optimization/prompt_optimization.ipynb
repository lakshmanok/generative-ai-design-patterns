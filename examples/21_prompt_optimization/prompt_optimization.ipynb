{
 "cells": [
  {
   "cell_type": "markdown",
   "id": "45a56bb7-e753-4731-84ed-cdc1084f57e7",
   "metadata": {},
   "source": [
    "## Prompt Optimization\n",
    "\n",
    "Automatically create a prompt that is optimized to the model and evaluation metric."
   ]
  },
  {
   "cell_type": "code",
   "execution_count": 2,
   "id": "5df04a5e-e6bf-4fd4-add2-6d143538c165",
   "metadata": {
    "tags": []
   },
   "outputs": [],
   "source": [
    "#%pip install --quiet dspy"
   ]
  },
  {
   "cell_type": "code",
   "execution_count": 3,
   "id": "ffaacc11-e131-4170-ad1b-42bdf2e01b04",
   "metadata": {
    "tags": []
   },
   "outputs": [],
   "source": [
    "#GEMINI=\"gemini-2.0-flash\"\n",
    "#OPENAI=\"gpt-4o-mini\"\n",
    "CLAUDE=\"claude-3-7-sonnet-latest\"\n",
    "\n",
    "import os\n",
    "from dotenv import load_dotenv\n",
    "load_dotenv(\"../keys.env\")\n",
    "#assert os.environ[\"GEMINI_API_KEY\"][:2] == \"AI\",\\\n",
    "#       \"Please specify the GEMINI_API_KEY access token in keys.env file\"\n",
    "assert os.environ[\"ANTHROPIC_API_KEY\"][:2] == \"sk\",\\\n",
    "       \"Please specify the ANTHROPIC_API_KEY access token in keys.env file\"\n",
    "assert os.environ[\"OPENAI_API_KEY\"][:2] == \"sk\",\\\n",
    "       \"Please specify the OPENAI_API_KEY access token in keys.env file\""
   ]
  },
  {
   "cell_type": "markdown",
   "id": "357c899a-12d0-4be4-bf69-f57243573b15",
   "metadata": {},
   "source": [
    "## Data\n",
    "\n",
    "For simplicity, we'll hardcode the text of the marketing blurbs for a couple of O'Reilly books."
   ]
  },
  {
   "cell_type": "code",
   "execution_count": 4,
   "id": "b2291c99-5268-4da6-9963-15080cde23a6",
   "metadata": {
    "tags": []
   },
   "outputs": [],
   "source": [
    "aieng_text=\"\"\"\n",
    "Recent breakthroughs in AI have not only increased demand for AI products, they've also lowered the barriers to entry for those who want to build AI products. The model-as-a-service approach has transformed AI from an esoteric discipline into a powerful development tool that anyone can use. Everyone, including those with minimal or no prior AI experience, can now leverage AI models to build applications. In this book, author Chip Huyen discusses AI engineering: the process of building applications with readily available foundation models.\n",
    "\n",
    "The book starts with an overview of AI engineering, explaining how it differs from traditional ML engineering and discussing the new AI stack. The more AI is used, the more opportunities there are for catastrophic failures, and therefore, the more important evaluation becomes. This book discusses different approaches to evaluating open-ended models, including the rapidly growing AI-as-a-judge approach.\n",
    "\n",
    "AI application developers will discover how to navigate the AI landscape, including models, datasets, evaluation benchmarks, and the seemingly infinite number of use cases and application patterns. You'll learn a framework for developing an AI application, starting with simple techniques and progressing toward more sophisticated methods, and discover how to efficiently deploy these applications.\n",
    "\n",
    "Understand what AI engineering is and how it differs from traditional machine learning engineering\n",
    "Learn the process for developing an AI application, the challenges at each step, and approaches to address them\n",
    "Explore various model adaptation techniques, including prompt engineering, RAG, fine-tuning, agents, and dataset engineering, and understand how and why they work\n",
    "Examine the bottlenecks for latency and cost when serving foundation models and learn how to overcome them\n",
    "Choose the right model, dataset, evaluation benchmarks, and metrics for your needs\n",
    "Chip Huyen works to accelerate data analytics on GPUs at Voltron Data. Previously, she was with Snorkel AI and NVIDIA, founded an AI infrastructure startup, and taught Machine Learning Systems Design at Stanford. She's the author of the book Designing Machine Learning Systems, an Amazon bestseller in AI.\n",
    "\n",
    "AI Engineering builds upon and is complementary to Designing Machine Learning Systems (O'Reilly).\n",
    "\"\"\""
   ]
  },
  {
   "cell_type": "code",
   "execution_count": 5,
   "id": "7c14a718-9aa8-43c8-bd56-57dfeef64b3f",
   "metadata": {
    "tags": []
   },
   "outputs": [],
   "source": [
    "mldp_text=\"\"\"\n",
    "The design patterns in this book capture best practices and solutions to recurring problems in machine learning. The authors, three Google engineers, catalog proven methods to help data scientists tackle common problems throughout the ML process. These design patterns codify the experience of hundreds of experts into straightforward, approachable advice.\n",
    "\n",
    "In this book, you will find detailed explanations of 30 patterns for data and problem representation, operationalization, repeatability, reproducibility, flexibility, explainability, and fairness. Each pattern includes a description of the problem, a variety of potential solutions, and recommendations for choosing the best technique for your situation.\n",
    "\n",
    "You'll learn how to:\n",
    "\n",
    "Identify and mitigate common challenges when training, evaluating, and deploying ML models\n",
    "Represent data for different ML model types, including embeddings, feature crosses, and more\n",
    "Choose the right model type for specific problems\n",
    "Build a robust training loop that uses checkpoints, distribution strategy, and hyperparameter tuning\n",
    "Deploy scalable ML systems that you can retrain and update to reflect new data\n",
    "Interpret model predictions for stakeholders and ensure models are treating users fairly\n",
    "\"\"\""
   ]
  },
  {
   "cell_type": "code",
   "execution_count": 6,
   "id": "6628ca6b-2495-419a-8edb-cb7aecfdb9d1",
   "metadata": {
    "tags": []
   },
   "outputs": [
    {
     "name": "stdout",
     "output_type": "stream",
     "text": [
      "15 lines 2323 characters\n",
      "13 lines 1240 characters\n"
     ]
    }
   ],
   "source": [
    "for in_text in [aieng_text, mldp_text]:\n",
    "    print(f\"{len(in_text.splitlines())} lines {len(in_text)} characters\")"
   ]
  },
  {
   "cell_type": "markdown",
   "id": "0616b017-7f53-4506-b0ff-2de859d681dc",
   "metadata": {},
   "source": [
    "Let's set the targets based on the book that was published later."
   ]
  },
  {
   "cell_type": "code",
   "execution_count": 7,
   "id": "53d63a18-49ff-4f51-988e-a9f8d33cf3f9",
   "metadata": {
    "tags": []
   },
   "outputs": [],
   "source": [
    "TARGET_MAX_LINES = 15\n",
    "TARGET_MAX_CHARS = 2400\n",
    "TARGET_NUM_OBJECTIVES = 6"
   ]
  },
  {
   "cell_type": "markdown",
   "id": "2e3782e9-d901-4255-acae-0201fdbb64f8",
   "metadata": {
    "tags": []
   },
   "source": [
    "## Extract the pieces of the marketing description"
   ]
  },
  {
   "cell_type": "code",
   "execution_count": 8,
   "id": "e0ca727e-3aa9-4a31-926d-bfb6e6df2447",
   "metadata": {
    "tags": []
   },
   "outputs": [],
   "source": [
    "import dspy\n",
    "lm = dspy.LM(CLAUDE, api_key=os.environ['ANTHROPIC_API_KEY'])\n",
    "dspy.configure(lm=lm)"
   ]
  },
  {
   "cell_type": "code",
   "execution_count": 14,
   "id": "679ba7c8-a895-43c7-9ff9-bc978082a1a7",
   "metadata": {
    "tags": []
   },
   "outputs": [],
   "source": [
    "from typing import List\n",
    "class BlurbExtraction(dspy.Signature):\n",
    "    text: str = dspy.InputField(desc=\"Text from backcover\")\n",
    "    about_topic: str = dspy.OutputField(desc=\"Extracted line about why the topic of book is worth learning\")\n",
    "    about_book: str = dspy.OutputField(desc=\"Extracted line about what book contains\")\n",
    "    target_audience: List[str] = dspy.OutputField(desc=\"Inferred roles such as Data Engineer, Data Analyst that the book is for\")\n",
    "    learning_objectives: List[str] = dspy.OutputField(desc=\"Extracted learning objectives\")"
   ]
  },
  {
   "cell_type": "code",
   "execution_count": 15,
   "id": "006423c8-8655-42a2-a264-6adaa09ce213",
   "metadata": {},
   "outputs": [
    {
     "data": {
      "text/plain": [
       "Prediction(\n",
       "    reasoning='Let me analyze this book description to extract the key information:\\n\\n1. About the topic: The text explains that AI engineering is now accessible to everyone, even those without prior AI experience, due to recent breakthroughs and the model-as-a-service approach.\\n\\n2. About the book: The book covers AI engineering as a process of building applications with foundation models, starting with an overview and then diving into evaluation, navigating the AI landscape, and a framework for developing AI applications.\\n\\n3. Target audience: While not explicitly stated, the book appears to target AI application developers, those with minimal AI experience who want to build AI products, and potentially traditional ML engineers looking to transition to AI engineering.\\n\\n4. Learning objectives: These can be extracted from the bullet points and the description of what readers will learn, including understanding AI engineering, learning the development process, exploring model adaptation techniques, examining bottlenecks, and choosing appropriate models and metrics.',\n",
       "    about_topic=\"Recent breakthroughs in AI have not only increased demand for AI products, they've also lowered the barriers to entry for those who want to build AI products. The model-as-a-service approach has transformed AI from an esoteric discipline into a powerful development tool that anyone can use.\",\n",
       "    about_book=\"The book starts with an overview of AI engineering, explaining how it differs from traditional ML engineering and discussing the new AI stack. You'll learn a framework for developing an AI application, starting with simple techniques and progressing toward more sophisticated methods, and discover how to efficiently deploy these applications.\",\n",
       "    target_audience=['AI Application Developers', 'Software Engineers', 'Machine Learning Engineers', 'Data Scientists', 'Developers with minimal AI experience'],\n",
       "    learning_objectives=['Understand what AI engineering is and how it differs from traditional machine learning engineering', 'Learn the process for developing an AI application', 'Explore various model adaptation techniques including prompt engineering, RAG, fine-tuning, agents, and dataset engineering', 'Examine the bottlenecks for latency and cost when serving foundation models', 'Choose the right model, dataset, evaluation benchmarks, and metrics for your needs', 'Navigate the AI landscape including models, datasets, evaluation benchmarks, and use cases']\n",
       ")"
      ]
     },
     "execution_count": 15,
     "metadata": {},
     "output_type": "execute_result"
    }
   ],
   "source": [
    "module = dspy.ChainOfThought(BlurbExtraction)\n",
    "cover_info = module(text=aieng_text)\n",
    "cover_info"
   ]
  },
  {
   "cell_type": "code",
   "execution_count": 18,
   "id": "d60b1a6f-b303-4ed1-a0ce-bc497bb17fef",
   "metadata": {
    "tags": []
   },
   "outputs": [
    {
     "data": {
      "text/plain": [
       "{'reasoning': 'Let me analyze this book description to extract the key information:\\n\\n1. About the topic: The text explains that AI engineering is now accessible to everyone, even those without prior AI experience, due to recent breakthroughs and the model-as-a-service approach.\\n\\n2. About the book: The book covers AI engineering as a process of building applications with foundation models, starting with an overview and then diving into evaluation, navigating the AI landscape, and a framework for developing AI applications.\\n\\n3. Target audience: While not explicitly stated, the book appears to target AI application developers, those with minimal AI experience who want to build AI products, and potentially traditional ML engineers looking to transition to AI engineering.\\n\\n4. Learning objectives: These can be extracted from the bullet points and the description of what readers will learn, including understanding AI engineering, learning the development process, exploring model adaptation techniques, examining bottlenecks, and choosing appropriate models and metrics.',\n",
       " 'about_topic': \"Recent breakthroughs in AI have not only increased demand for AI products, they've also lowered the barriers to entry for those who want to build AI products. The model-as-a-service approach has transformed AI from an esoteric discipline into a powerful development tool that anyone can use.\",\n",
       " 'about_book': \"The book starts with an overview of AI engineering, explaining how it differs from traditional ML engineering and discussing the new AI stack. You'll learn a framework for developing an AI application, starting with simple techniques and progressing toward more sophisticated methods, and discover how to efficiently deploy these applications.\",\n",
       " 'target_audience': ['AI Application Developers',\n",
       "  'Software Engineers',\n",
       "  'Machine Learning Engineers',\n",
       "  'Data Scientists',\n",
       "  'Developers with minimal AI experience'],\n",
       " 'learning_objectives': ['Understand what AI engineering is and how it differs from traditional machine learning engineering',\n",
       "  'Learn the process for developing an AI application',\n",
       "  'Explore various model adaptation techniques including prompt engineering, RAG, fine-tuning, agents, and dataset engineering',\n",
       "  'Examine the bottlenecks for latency and cost when serving foundation models',\n",
       "  'Choose the right model, dataset, evaluation benchmarks, and metrics for your needs',\n",
       "  'Navigate the AI landscape including models, datasets, evaluation benchmarks, and use cases']}"
      ]
     },
     "execution_count": 18,
     "metadata": {},
     "output_type": "execute_result"
    }
   ],
   "source": [
    "cover_info.toDict()"
   ]
  },
  {
   "cell_type": "markdown",
   "id": "3d51ce8e-994c-44c0-b5cb-9add3b140e3b",
   "metadata": {
    "tags": []
   },
   "source": [
    "## Improve the marketing description components"
   ]
  },
  {
   "cell_type": "code",
   "execution_count": 21,
   "id": "d8234206-3cb4-466f-8335-d172b9ddcd0d",
   "metadata": {
    "tags": []
   },
   "outputs": [
    {
     "data": {
      "text/plain": [
       "Prediction(\n",
       "    reasoning='I need to make the book description more compelling and aspirational while maintaining accuracy. For the \"about topic\" section, I\\'ll create a more catchy statement highlighting the transformative nature of AI engineering. For the \"about book\" section, I\\'ll craft a more engaging description that appeals to ambitious professionals. The target audience should be more aspirational, so I\\'ll elevate the roles and limit to the top 3. For learning objectives, I\\'ll rephrase them to emphasize career advancement and practical skills, keeping exactly 6 items.',\n",
       "    about_topic=\"AI engineering is experiencing a revolutionary moment. What was once the domain of specialized researchers is now a powerful toolkit accessible to everyone. With foundation models and AI services, you can build sophisticated AI applications that were unimaginable just a few years ago—even if you've never worked with AI before.\",\n",
       "    about_book=\"This practical guide takes you on a journey from AI novice to confident AI engineer. You'll master the new AI stack and learn a systematic framework for building production-ready AI applications. Starting with core concepts, you'll quickly progress to advanced techniques for customizing models, optimizing performance, and deploying solutions that deliver real business value. Through hands-on examples and expert guidance, you'll gain the skills to transform innovative ideas into working AI products that solve real-world problems.\",\n",
       "    target_audience=['Software Engineers', 'AI Product Developers', 'Technology Leaders'],\n",
       "    learning_objectives=['Master the fundamentals of AI engineering and how it creates new opportunities beyond traditional machine learning', 'Implement a proven end-to-end process for developing production-ready AI applications', 'Apply advanced model adaptation techniques including prompt engineering, RAG, fine-tuning, and intelligent agents', 'Optimize your AI applications for performance, addressing critical bottlenecks in latency and cost', 'Select the optimal models, datasets, and evaluation metrics to ensure your AI solutions deliver maximum value', 'Navigate the complex AI ecosystem confidently, making strategic decisions about technologies and approaches']\n",
       ")"
      ]
     },
     "execution_count": 21,
     "metadata": {},
     "output_type": "execute_result"
    }
   ],
   "source": [
    "## Improve the pieces\n",
    "from typing import Dict, Any\n",
    "class BlurbImprovement(dspy.Signature):\n",
    "    current_cover: Dict[str, Any] = dspy.InputField(descr=\"Current information on book\")\n",
    "    about_topic: str = dspy.OutputField(desc=\"More catchy statement why topic is worth learning\")\n",
    "    about_book: str = dspy.OutputField(desc=\"More appealing (to target audience) description of book contents\")\n",
    "    target_audience: List[str] = dspy.OutputField(desc=\"more aspirational list of roles. Instead of programmer, say software engineer. Restrict to top 3.\")\n",
    "    learning_objectives: List[str] = dspy.OutputField(desc=\"Learning objectives rephrased or reordered to be more appealing to target audience. Exactly 6.\")    \n",
    "    \n",
    "module = dspy.ChainOfThought(BlurbImprovement)\n",
    "improved_cover = module(current_cover=cover_info.toDict())\n",
    "improved_cover"
   ]
  },
  {
   "cell_type": "code",
   "execution_count": 37,
   "id": "96ec169c-2f58-4805-ac37-a8c05474ee61",
   "metadata": {
    "tags": []
   },
   "outputs": [
    {
     "name": "stdout",
     "output_type": "stream",
     "text": [
      "AI engineering is experiencing a revolutionary moment. What was once the domain of specialized researchers is now a powerful toolkit accessible to everyone. With foundation models and AI services, you can build sophisticated AI applications that were unimaginable just a few years ago—even if you've never worked with AI before.\n",
      "        \n",
      "This practical guide takes you on a journey from AI novice to confident AI engineer. You'll master the new AI stack and learn a systematic framework for building production-ready AI applications. Starting with core concepts, you'll quickly progress to advanced techniques for customizing models, optimizing performance, and deploying solutions that deliver real business value. Through hands-on examples and expert guidance, you'll gain the skills to transform innovative ideas into working AI products that solve real-world problems.\n",
      "        \n",
      "Software Engineers, AI Product Developers, Technology Leaders will learn:\n",
      "* Master the fundamentals of AI engineering and how it creates new opportunities beyond traditional machine learning\n",
      "* Implement a proven end-to-end process for developing production-ready AI applications\n",
      "* Apply advanced model adaptation techniques including prompt engineering, RAG, fine-tuning, and intelligent agents\n",
      "* Optimize your AI applications for performance, addressing critical bottlenecks in latency and cost\n",
      "* Select the optimal models, datasets, and evaluation metrics to ensure your AI solutions deliver maximum value\n",
      "* Navigate the complex AI ecosystem confidently, making strategic decisions about technologies and approaches\n",
      "        \n"
     ]
    }
   ],
   "source": [
    "from dataclasses import dataclass\n",
    "\n",
    "@dataclass\n",
    "class Blurb:\n",
    "    about_topic: str\n",
    "    about_book: str\n",
    "    target_audience: List[str]\n",
    "    learning_objectives: List[str]\n",
    "    \n",
    "    def __init__(self, d: dict):\n",
    "        self.about_topic = d['about_topic']\n",
    "        self.about_book = d['about_book']\n",
    "        self.target_audience = d['target_audience']\n",
    "        self.learning_objectives = d['learning_objectives']\n",
    "    \n",
    "    def toMarketingCopy(self) -> str:\n",
    "        nl = '\\n'\n",
    "        return f\"\"\"{self.about_topic}\n",
    "        \n",
    "{self.about_book}\n",
    "        \n",
    "{', '.join(self.target_audience)} will learn how to:\n",
    "{nl.join(['* ' + objective for objective in self.learning_objectives])}\n",
    "        \"\"\"\n",
    "\n",
    "print(Blurb(improved_cover.toDict()).toMarketingCopy())"
   ]
  },
  {
   "cell_type": "markdown",
   "id": "c66944f5-b5b5-4ced-a592-2b6a6d9e0b31",
   "metadata": {
    "tags": []
   },
   "source": [
    "## Build an evaluator for the final output.\n",
    "\n",
    "This is the metric that will be optimized"
   ]
  },
  {
   "cell_type": "code",
   "execution_count": 57,
   "id": "02fe1b0c-cf38-49af-98ed-0dbd9655be1a",
   "metadata": {
    "tags": []
   },
   "outputs": [
    {
     "data": {
      "text/plain": [
       "Prediction(\n",
       "    reasoning='Let me evaluate this book blurb from the perspective of the target audience (Software Engineers, AI Product Developers, and Technology Leaders):\\n\\nTopic Appeal:\\nThe blurb positions AI engineering as undergoing a revolutionary transformation, making previously specialized technology accessible to everyone. This is highly appealing because it suggests an opportunity for the target audience to gain valuable skills in a rapidly growing field. The framing that you can build sophisticated AI applications \"even if you\\'ve never worked with AI before\" makes the topic approachable and timely. The topic score should be very high as it addresses a cutting-edge technology with practical applications.\\n\\nContents Appeal:\\nThe book promises a journey from \"AI novice to confident AI engineer\" with a systematic framework for building production-ready applications. This is extremely valuable to the target audience who likely need practical, implementation-focused guidance. The content covers both fundamentals and advanced techniques, suggesting comprehensive coverage. The mention of \"hands-on examples\" and \"expert guidance\" indicates a practical approach rather than theoretical, which aligns well with the needs of software engineers and product developers. The content appears to be structured as a complete learning path.\\n\\nLearning Objectives Appeal:\\n1. \"Master the fundamentals of AI engineering\" - This is a foundational objective that would appeal strongly to those new to AI engineering.\\n2. \"Implement a proven end-to-end process\" - Highly practical and directly applicable to job responsibilities.\\n3. \"Apply advanced model adaptation techniques\" - Specific technical skills that would be valuable for implementation.\\n4. \"Optimize your AI applications for performance\" - Critical for production applications, addressing real-world concerns.\\n5. \"Select the optimal models, datasets, and evaluation metrics\" - Strategic decision-making skills that would appeal to both engineers and leaders.\\n6. \"Navigate the complex AI ecosystem confidently\" - Addresses the overwhelming nature of the AI landscape, appealing especially to technology leaders.\\n\\nOverall, this blurb presents a highly appealing proposition for the target audience, offering practical skills in a timely, high-demand field with clear professional applications.',\n",
       "    topic_score=0.95,\n",
       "    contents_score=0.9,\n",
       "    objectives_score=[0.85, 0.9, 0.88, 0.87, 0.85, 0.92]\n",
       ")"
      ]
     },
     "execution_count": 57,
     "metadata": {},
     "output_type": "execute_result"
    }
   ],
   "source": [
    "class BlurbScore(dspy.Signature):\n",
    "    blurb: Blurb = dspy.InputField()\n",
    "    topic_score: float = dspy.OutputField(desc=\"0-1 on how appealing the statement on why topic is worth learning\")\n",
    "    contents_score: float = dspy.OutputField(desc=\"0-1 on how appealing (to target audience) the book contents are\")\n",
    "    objectives_score: List[float] = dspy.OutputField(desc=\"0-1 score of how appealing the learning objective is to target audience\")\n",
    "   \n",
    "module = dspy.ChainOfThought(BlurbScore)\n",
    "score_pred = module(blurb = Blurb(improved_cover.toDict()))\n",
    "score_pred"
   ]
  },
  {
   "cell_type": "code",
   "execution_count": 54,
   "id": "5b16f78a-757b-4af0-8a98-715a3386ee93",
   "metadata": {
    "tags": []
   },
   "outputs": [],
   "source": [
    "def calc_aggregate_score(blurb: Blurb, p: dspy.Prediction) -> float:   \n",
    "    result = (p.topic_score * 10 + p.contents_score * 10 + sum(p.objectives_score)) / (20 + len(p.objectives_score))\n",
    "    ## cut 0.1 for every line beyond MAX_LINES, etc.\n",
    "    marketing_copy = blurb.toMarketingCopy()\n",
    "    num_lines = len(marketing_copy.splitlines())\n",
    "    num_chars = len(marketing_copy)\n",
    "    num_objectives = len(blurb.learning_objectives)\n",
    "    if num_lines > TARGET_MAX_LINES:\n",
    "        result -= 0.1 * (num_lines - TARGET_MAX_LINES)\n",
    "    if num_chars > TARGET_MAX_CHARS:\n",
    "        result -= 0.01 * (num_chars - TARGET_MAX_CHARS)\n",
    "    if num_objectives > TARGET_NUM_OBJECTIVES:\n",
    "        result -= 0.1 * (num_objectives - TARGET_NUM_OBJECTIVES)\n",
    "    if result < 0:\n",
    "        result = 0\n",
    "    return result"
   ]
  },
  {
   "cell_type": "code",
   "execution_count": 58,
   "id": "3a363ff7-780d-4e8a-a098-a13defea8df2",
   "metadata": {
    "tags": []
   },
   "outputs": [
    {
     "data": {
      "text/plain": [
       "0.9142307692307692"
      ]
     },
     "execution_count": 58,
     "metadata": {},
     "output_type": "execute_result"
    }
   ],
   "source": [
    "calc_aggregate_score(blurb, score_pred)"
   ]
  },
  {
   "cell_type": "markdown",
   "id": "98841188-e91b-4bb7-80dd-794c6b7fe265",
   "metadata": {},
   "source": [
    "## Combine into a module that can be optimized all at once"
   ]
  },
  {
   "cell_type": "code",
   "execution_count": 65,
   "id": "21f1363d-4ede-4188-83e4-600c3845f155",
   "metadata": {
    "tags": []
   },
   "outputs": [
    {
     "name": "stdout",
     "output_type": "stream",
     "text": [
      "0.9142307692307692 \n",
      " AI engineering is experiencing a revolutionary moment. What was once the domain of specialized researchers is now a powerful toolkit accessible to everyone. With foundation models and AI services, you can build sophisticated AI applications that were unimaginable just a few years ago—even if you've never worked with AI before.\n",
      "        \n",
      "This practical guide takes you on a journey from AI novice to confident AI engineer. You'll master the new AI stack and learn a systematic framework for building production-ready AI applications. Starting with core concepts, you'll quickly progress to advanced techniques for customizing models, optimizing performance, and deploying solutions that deliver real business value. Through hands-on examples and expert guidance, you'll gain the skills to transform innovative ideas into working AI products that solve real-world problems.\n",
      "        \n",
      "Software Engineers, AI Product Developers, Technology Leaders will learn:\n",
      "* Master the fundamentals of AI engineering and how it creates new opportunities beyond traditional machine learning\n",
      "* Implement a proven end-to-end process for developing production-ready AI applications\n",
      "* Apply advanced model adaptation techniques including prompt engineering, RAG, fine-tuning, and intelligent agents\n",
      "* Optimize your AI applications for performance, addressing critical bottlenecks in latency and cost\n",
      "* Select the optimal models, datasets, and evaluation metrics to ensure your AI solutions deliver maximum value\n",
      "* Navigate the complex AI ecosystem confidently, making strategic decisions about technologies and approaches\n",
      "        \n"
     ]
    }
   ],
   "source": [
    "class BlurbPipeline(dspy.Module):\n",
    "    def __init__(self):\n",
    "        self.extract_info = dspy.ChainOfThought(BlurbExtraction)\n",
    "        self.improve_blurb = dspy.ChainOfThought(BlurbImprovement)\n",
    "        self.scorer = dspy.ChainOfThought(BlurbScore)\n",
    "        \n",
    "    def forward(self, in_text: str) -> (Blurb, float):\n",
    "        cover_info = self.extract_info(text=in_text)\n",
    "        improved_cover = self.improve_blurb(current_cover=cover_info.toDict())\n",
    "        blurb = Blurb(improved_cover.toDict())\n",
    "        score_pred = self.scorer(blurb=blurb)\n",
    "        return blurb, calc_aggregate_score(blurb, score_pred)\n",
    "    \n",
    "program = BlurbPipeline()\n",
    "blurb, score = program(in_text=aieng_text)\n",
    "print(score, '\\n', blurb.toMarketingCopy())"
   ]
  },
  {
   "cell_type": "markdown",
   "id": "5eb7819c-cba1-406e-ad46-5d45bb96d897",
   "metadata": {
    "tags": []
   },
   "source": [
    "## Do it several times and choose the best\n",
    "\n",
    "(dspy supports other optimization options)"
   ]
  },
  {
   "cell_type": "code",
   "execution_count": 74,
   "id": "9d1059c2-0e65-44ac-9d70-3f08c3389d2a",
   "metadata": {
    "tags": []
   },
   "outputs": [
    {
     "name": "stdout",
     "output_type": "stream",
     "text": [
      "**** 0.9142307692307692\n",
      "AI engineering is experiencing a revolutionary moment. What was once the domain of specialized researchers is now a powerful toolkit accessible to everyone. With foundation models and AI services, you can build sophisticated AI applications that were unimaginable just a few years ago—even if you've never worked with AI before.\n",
      "        \n",
      "This practical guide takes you on a journey from AI novice to confident AI engineer. You'll master the new AI stack and learn a systematic framework for building production-ready AI applications. Starting with core concepts, you'll quickly progress to advanced techniques for customizing models, optimizing performance, and deploying solutions that deliver real business value. Through hands-on examples and expert guidance, you'll gain the skills to transform innovative ideas into working AI products that solve real-world problems.\n",
      "        \n",
      "Software Engineers, AI Product Developers, Technology Leaders will learn:\n",
      "* Master the fundamentals of AI engineering and how it creates new opportunities beyond traditional machine learning\n",
      "* Implement a proven end-to-end process for developing production-ready AI applications\n",
      "* Apply advanced model adaptation techniques including prompt engineering, RAG, fine-tuning, and intelligent agents\n",
      "* Optimize your AI applications for performance, addressing critical bottlenecks in latency and cost\n",
      "* Select the optimal models, datasets, and evaluation metrics to ensure your AI solutions deliver maximum value\n",
      "* Navigate the complex AI ecosystem confidently, making strategic decisions about technologies and approaches\n",
      "        \n",
      "******\n",
      "    \n",
      "**** 0.875\n",
      "Master the technology reshaping our world! AI has evolved from an exclusive domain of specialists to a revolutionary toolkit accessible to all builders. In today's AI-powered landscape, engineering expertise is the critical differentiator between those who merely use AI and those who create groundbreaking solutions that transform industries.\n",
      "        \n",
      "This essential guide demystifies AI engineering for the modern tech professional. Beginning with a fresh perspective on the AI engineering revolution, you'll gain hands-on expertise through a progressive framework that builds from foundational concepts to advanced implementation strategies. The book provides practical, battle-tested techniques for developing sophisticated AI applications that deliver real business value—all explained with clarity that makes complex concepts accessible without sacrificing technical depth.\n",
      "        \n",
      "AI Solutions Architects, Software Engineering Professionals, Technical Product Leaders will learn:\n",
      "* Master the distinct principles of AI engineering and how they revolutionize traditional software development approaches\n",
      "* Implement a proven end-to-end framework for developing production-ready AI applications from concept to deployment\n",
      "* Apply cutting-edge model adaptation techniques including prompt engineering, RAG, fine-tuning, and intelligent agents\n",
      "* Optimize foundation model performance by identifying and eliminating latency bottlenecks and cost inefficiencies\n",
      "* Select the optimal models, datasets, and evaluation strategies tailored to your specific business requirements\n",
      "* Transform theoretical AI knowledge into practical applications that deliver measurable business impact\n",
      "        \n",
      "******\n",
      "    \n",
      "**** 0.9173076923076924\n",
      "AI has undergone a revolutionary transformation—what was once the domain of specialized experts is now a powerful tool accessible to all developers. With model-as-a-service platforms, you can harness cutting-edge AI capabilities to build innovative products that were impossible just months ago, putting you at the forefront of the most significant technological shift of our generation.\n",
      "        \n",
      "This practical guide takes you on a complete journey through modern AI engineering, from fundamental concepts to advanced implementation strategies. You'll master a proven framework for developing sophisticated AI applications, learn how to evaluate and optimize performance, and gain hands-on experience with the techniques used by industry leaders. By the final chapter, you'll have the confidence and skills to architect, build, and deploy production-ready AI systems that deliver real business value.\n",
      "        \n",
      "Software Engineers, Product Developers, Technical Leaders will learn:\n",
      "* Master the fundamentals of AI engineering and how it creates new opportunities beyond traditional machine learning\n",
      "* Implement a proven end-to-end process for developing robust AI applications, from conception to deployment\n",
      "* Apply advanced adaptation techniques including prompt engineering, RAG, fine-tuning, and intelligent agents\n",
      "* Optimize foundation model performance by identifying and resolving latency and cost bottlenecks\n",
      "* Select the optimal models, datasets, and evaluation benchmarks for your specific use case\n",
      "* Design scalable AI systems that balance performance, cost, and business requirements\n",
      "        \n",
      "******\n",
      "    \n",
      "**** 0.9134615384615384\n",
      "The AI revolution is here, and it's no longer exclusive to elite tech companies. Foundation models have democratized artificial intelligence, transforming it from an academic specialty into a powerful tool that any developer can leverage to build groundbreaking products. By mastering AI engineering now, you'll position yourself at the forefront of the most transformative technology of our generation.\n",
      "        \n",
      "This comprehensive guide takes you from AI engineering fundamentals to advanced implementation strategies. Starting with the revolutionary new AI stack, you'll progressively master techniques for building sophisticated AI applications that deliver real business value. Through practical frameworks and hands-on approaches, you'll learn to overcome common challenges, optimize performance, and efficiently deploy AI solutions that stand out in today's competitive landscape.\n",
      "        \n",
      "Software Engineers, AI Solution Architects, Technical Product Managers will learn:\n",
      "* Master the fundamentals of AI engineering and how it creates competitive advantage over traditional ML approaches\n",
      "* Implement a proven framework for developing production-ready AI applications from concept to deployment\n",
      "* Apply cutting-edge model adaptation techniques including prompt engineering, RAG, and fine-tuning to solve real-world problems\n",
      "* Optimize foundation model performance by identifying and eliminating latency bottlenecks and controlling costs\n",
      "* Select the optimal models, datasets, and evaluation strategies to meet your specific business requirements\n",
      "* Build a career-advancing portfolio of AI engineering skills that showcase your technical expertise\n",
      "        \n",
      "******\n",
      "    \n",
      "**** 0.9173076923076924\n",
      "Unlock the power of artificial intelligence without a PhD! Today's AI revolution has democratized access to cutting-edge technology, allowing anyone with development skills to build transformative AI products that were impossible just months ago.\n",
      "        \n",
      "Dive into the new world of AI engineering with this practical guide that bridges the gap between theoretical AI concepts and real-world implementation. From understanding the revolutionary new AI stack to deploying production-ready applications, this book equips you with the exact frameworks, techniques, and best practices used by Silicon Valley's top AI engineers.\n",
      "        \n",
      "Software Engineers, AI Product Managers, Technical Leaders will learn:\n",
      "* Master the fundamentals of AI engineering and how it creates competitive advantage over traditional machine learning approaches\n",
      "* Implement a proven end-to-end process for developing market-ready AI applications, with solutions for common roadblocks\n",
      "* Apply advanced model adaptation techniques including prompt engineering, RAG, and fine-tuning to solve complex business problems\n",
      "* Optimize foundation model performance by identifying and eliminating latency and cost bottlenecks\n",
      "* Select the optimal models, datasets, and evaluation metrics tailored to your specific application requirements\n",
      "* Navigate the rapidly evolving AI ecosystem to make strategic decisions about technologies, tools, and implementation approaches\n",
      "        \n",
      "******\n",
      "    \n",
      "**** 0.9134615384615384\n",
      "Master the AI revolution that's transforming industries worldwide. AI engineering is no longer reserved for specialists—it's a career-defining skillset that puts the power of cutting-edge foundation models directly in your hands.\n",
      "        \n",
      "This essential guide demystifies the entire AI engineering lifecycle, from model selection to production deployment. You'll gain hands-on expertise with the new AI stack, practical evaluation techniques, and a proven framework for building sophisticated AI applications that solve real-world problems. Whether you're building your first AI product or scaling enterprise solutions, this book provides the roadmap to success in the AI-driven economy.\n",
      "        \n",
      "Software Engineers, AI Product Developers, Technical Leaders will learn:\n",
      "* Master AI engineering fundamentals and distinguish it from traditional ML approaches\n",
      "* Implement a proven end-to-end process for developing production-ready AI applications\n",
      "* Apply advanced techniques including prompt engineering, RAG, fine-tuning, and agents to solve complex problems\n",
      "* Optimize foundation model performance to overcome latency bottlenecks and control costs\n",
      "* Select the optimal models, datasets, and evaluation metrics for your specific use cases\n",
      "* Build a competitive skillset that positions you at the forefront of AI innovation\n",
      "        \n",
      "******\n",
      "    \n",
      "**** 0.9211538461538461\n",
      "The AI revolution is here, and you don't need to be left behind. With groundbreaking foundation models like GPT-4 and DALL-E, AI capabilities once reserved for tech giants are now accessible to everyone. Master AI engineering now to transform your career and build the next generation of intelligent applications that will shape our future.\n",
      "        \n",
      "This comprehensive guide takes you on a journey from AI novice to confident AI engineer. You'll discover the new AI stack that's revolutionizing software development, master practical techniques for customizing foundation models, and learn the insider strategies for building, evaluating, and deploying production-ready AI applications. Packed with real-world examples and industry best practices, this book is your blueprint for engineering success in the AI era.\n",
      "        \n",
      "Software Engineers, AI Product Managers, Technology Entrepreneurs will learn:\n",
      "* Build production-ready AI applications using foundation models\n",
      "* Master the modern AI engineering stack and development workflow\n",
      "* Implement advanced model adaptation techniques for customized solutions\n",
      "* Select optimal models, datasets, and evaluation metrics for your specific use cases\n",
      "* Optimize AI systems for cost-efficiency and performance at scale\n",
      "* Bridge the gap between traditional software engineering and AI-powered development\n",
      "        \n",
      "******\n",
      "    \n",
      "**** 0.8673076923076923\n",
      "AI is no longer the exclusive domain of specialized researchers—it's now the most powerful tool in modern technology. By mastering AI engineering, you'll position yourself at the forefront of the biggest technological revolution of our time, opening doors to lucrative careers and groundbreaking innovation opportunities.\n",
      "        \n",
      "This comprehensive guide takes you from AI fundamentals to advanced implementation strategies used by leading tech companies. You'll gain practical, hands-on expertise in building sophisticated AI applications using the latest model-as-a-service approaches. Whether you're evaluating cutting-edge foundation models or optimizing AI systems for performance and cost, this book provides the insider knowledge that separates successful AI practitioners from the rest.\n",
      "        \n",
      "AI Solutions Architects, Software Engineers, Technical Product Managers will learn:\n",
      "* Master the distinct principles of AI engineering to build applications that leverage foundation models effectively\n",
      "* Implement a proven end-to-end process for developing production-ready AI applications that solve real business problems\n",
      "* Apply advanced model adaptation techniques including prompt engineering, RAG, and fine-tuning to customize foundation models for your specific needs\n",
      "* Optimize AI systems to overcome latency bottlenecks and reduce costs while maintaining high performance\n",
      "* Select the optimal models, datasets, and evaluation strategies to ensure your AI applications deliver maximum business value\n",
      "* Build a competitive edge by learning to evaluate and improve AI systems using the latest AI-as-a-judge approaches\n",
      "        \n",
      "******\n",
      "    \n",
      "**** 0.8711538461538461\n",
      "AI has undergone a revolutionary transformation, evolving from an exclusive domain of specialists into a powerful toolkit accessible to all builders. Today's model-as-a-service revolution means that anyone with the right skills can harness AI's incredible potential to create groundbreaking products that were unimaginable just a few years ago.\n",
      "        \n",
      "This essential guide demystifies the rapidly evolving field of AI engineering, providing you with a practical framework to build and deploy AI applications that deliver real-world value. Starting with foundational concepts and progressing to advanced techniques, you'll master the new AI stack and learn to navigate from simple implementations to sophisticated AI systems. Through hands-on approaches, you'll develop the exact skills that top companies are desperately seeking in today's AI-driven marketplace.\n",
      "        \n",
      "Software Engineers, AI Product Developers, Technology Leaders will learn:\n",
      "* Master the fundamentals of AI engineering and how it creates unique value beyond traditional machine learning\n",
      "* Build production-ready AI applications using a systematic framework that scales from simple to sophisticated implementations\n",
      "* Implement advanced model adaptation techniques including prompt engineering, RAG, and fine-tuning to customize foundation models\n",
      "* Optimize AI systems for performance by identifying and resolving bottlenecks in latency and cost-efficiency\n",
      "* Select optimal models, datasets, and evaluation metrics to ensure your AI applications deliver maximum business impact\n",
      "* Deploy AI solutions effectively in production environments using industry best practices and architectural patterns\n",
      "        \n",
      "******\n",
      "    \n",
      "**** 0.9134615384615384\n",
      "Harness the AI revolution that's reshaping our world. What was once the domain of specialized researchers is now at your fingertips—foundation models have democratized AI, turning complex machine learning into accessible building blocks that empower you to create sophisticated AI applications without extensive theoretical knowledge or massive computational resources.\n",
      "        \n",
      "This practical guide takes you on a complete journey through modern AI engineering—from understanding the fundamentals to deploying production-ready applications. You'll master a comprehensive framework for developing AI solutions using foundation models, learn cutting-edge adaptation techniques, and gain insider knowledge on optimizing performance and costs. Whether you're building your first AI application or scaling existing systems, this book provides the concrete strategies and real-world patterns that transform theoretical concepts into working software.\n",
      "        \n",
      "Software Engineers, AI Product Developers, Machine Learning Practitioners will learn:\n",
      "* Master the fundamentals of AI engineering and how it creates a paradigm shift from traditional machine learning approaches\n",
      "* Implement a proven end-to-end process for developing production-ready AI applications\n",
      "* Apply advanced model adaptation techniques including prompt engineering, retrieval-augmented generation, and fine-tuning to solve real-world problems\n",
      "* Optimize your AI applications for performance and cost-efficiency when working with foundation models\n",
      "* Select the optimal models, datasets, and evaluation strategies to ensure your AI solutions meet business requirements\n",
      "* Build a competitive skill set that positions you at the forefront of the AI engineering revolution\n",
      "        \n",
      "******\n",
      "    \n",
      "0.9211538461538461 \n",
      " The AI revolution is here, and you don't need to be left behind. With groundbreaking foundation models like GPT-4 and DALL-E, AI capabilities once reserved for tech giants are now accessible to everyone. Master AI engineering now to transform your career and build the next generation of intelligent applications that will shape our future.\n",
      "        \n",
      "This comprehensive guide takes you on a journey from AI novice to confident AI engineer. You'll discover the new AI stack that's revolutionizing software development, master practical techniques for customizing foundation models, and learn the insider strategies for building, evaluating, and deploying production-ready AI applications. Packed with real-world examples and industry best practices, this book is your blueprint for engineering success in the AI era.\n",
      "        \n",
      "Software Engineers, AI Product Managers, Technology Entrepreneurs will learn:\n",
      "* Build production-ready AI applications using foundation models\n",
      "* Master the modern AI engineering stack and development workflow\n",
      "* Implement advanced model adaptation techniques for customized solutions\n",
      "* Select optimal models, datasets, and evaluation metrics for your specific use cases\n",
      "* Optimize AI systems for cost-efficiency and performance at scale\n",
      "* Bridge the gap between traditional software engineering and AI-powered development\n",
      "        \n"
     ]
    }
   ],
   "source": [
    "import dspy\n",
    "\n",
    "def score_reward(args, pred) -> float:\n",
    "    blurb, score = pred\n",
    "    print(f\"\"\"**** {score}\n",
    "{blurb.toMarketingCopy()}\n",
    "******\n",
    "    \"\"\")\n",
    "    return score\n",
    "\n",
    "optimized_pipeline = dspy.BestOfN(\n",
    "    module=BlurbPipeline(),\n",
    "    N=10,\n",
    "    reward_fn=score_reward,\n",
    "    threshold=0.95\n",
    ")\n",
    "\n",
    "blurb, score = optimized_pipeline(\n",
    "    in_text=aieng_text\n",
    ")\n",
    "print(score, '\\n', blurb.toMarketingCopy())"
   ]
  },
  {
   "cell_type": "code",
   "execution_count": null,
   "id": "96f78545-bf0d-45af-b982-19a7f6893c11",
   "metadata": {},
   "outputs": [],
   "source": []
  }
 ],
 "metadata": {
  "environment": {
   "kernel": "conda-base-py",
   "name": "workbench-notebooks.m126",
   "type": "gcloud",
   "uri": "us-docker.pkg.dev/deeplearning-platform-release/gcr.io/workbench-notebooks:m126"
  },
  "kernelspec": {
   "display_name": "Python 3 (ipykernel) (Local)",
   "language": "python",
   "name": "conda-base-py"
  },
  "language_info": {
   "codemirror_mode": {
    "name": "ipython",
    "version": 3
   },
   "file_extension": ".py",
   "mimetype": "text/x-python",
   "name": "python",
   "nbconvert_exporter": "python",
   "pygments_lexer": "ipython3",
   "version": "3.10.15"
  }
 },
 "nbformat": 4,
 "nbformat_minor": 5
}
