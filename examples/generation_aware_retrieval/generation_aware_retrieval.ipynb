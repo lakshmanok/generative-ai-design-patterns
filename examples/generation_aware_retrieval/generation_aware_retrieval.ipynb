{
 "cells": [
  {
   "cell_type": "markdown",
   "id": "dbd295e0-a0b0-4071-9704-136901f29a2a",
   "metadata": {},
   "source": [
    "# Generation-aware Retreival\n",
    "\n",
    "Consists of these optional components:\n",
    "* Reranking\n",
    "* Filtering\n",
    "* Disambiguation followups\n",
    "* Query decomposition\n",
    "* Personalization"
   ]
  },
  {
   "cell_type": "code",
   "execution_count": 1,
   "id": "41664a72-3e67-4e57-9e6d-2a01ed7ed8bb",
   "metadata": {},
   "outputs": [],
   "source": [
    "#%pip install --quiet llama-index llama-index-llms-gemini llama-index-embeddings-huggingface pydantic-ai "
   ]
  },
  {
   "cell_type": "code",
   "execution_count": 1,
   "id": "b078983c-cda3-46d0-8438-d284bc017b3c",
   "metadata": {
    "tags": []
   },
   "outputs": [],
   "source": [
    "MODEL_ID = \"gemini-2.0-flash\"\n",
    "EMBED_MODEL_ID = \"BAAI/bge-small-en-v1.5\"\n",
    "\n",
    "import os\n",
    "from dotenv import load_dotenv\n",
    "load_dotenv(\"../keys.env\")\n",
    "assert os.environ[\"GEMINI_API_KEY\"][:2] == \"AI\",\\\n",
    "       \"Please specify the GEMINI_API_KEY access token in keys.env file\"\n",
    "assert os.environ[\"HF_TOKEN\"][:2] == \"hf\",\\\n",
    "       \"Please specify the HF_TOKEN access token in keys.env file\""
   ]
  },
  {
   "cell_type": "code",
   "execution_count": 2,
   "id": "40dad339-d55a-4440-8ab4-367f0cb0ffc7",
   "metadata": {
    "tags": []
   },
   "outputs": [],
   "source": [
    "import sys\n",
    "sys.path.append('../basic_rag')\n",
    "import gutenberg_text_loader as gtl\n",
    "import logging\n",
    "logging.basicConfig(level=logging.INFO, format='%(asctime)s - %(levelname)s - %(message)s')\n",
    "logger = logging.getLogger(__name__)"
   ]
  },
  {
   "cell_type": "code",
   "execution_count": 29,
   "id": "e348f21d-7ef8-476d-b072-da5230f0f8fb",
   "metadata": {
    "tags": []
   },
   "outputs": [],
   "source": [
    "# for pydantic AI in Jupyter\n",
    "import nest_asyncio\n",
    "nest_asyncio.apply()"
   ]
  },
  {
   "cell_type": "markdown",
   "id": "15a2e1d2-2682-4e82-8e55-7b5134ddf34a",
   "metadata": {},
   "source": [
    "The examples here are on two Geology texts:\n",
    "* An 1878 book: The Student's Elements of Geology:  https://www.gutenberg.org/cache/epub/3772/pg3772.txt\n",
    "* A  1905 book: The Elements of Geology: https://www.gutenberg.org/cache/epub/4204/pg4204.txt"
   ]
  },
  {
   "cell_type": "markdown",
   "id": "acc0820e-3300-46f1-ac1b-5fc2208be423",
   "metadata": {},
   "source": [
    "## Plain Semantic Indexing to use as a comparison"
   ]
  },
  {
   "cell_type": "code",
   "execution_count": 10,
   "id": "3335ac11-8a74-4cb8-a92a-d5e3fef50640",
   "metadata": {
    "tags": []
   },
   "outputs": [],
   "source": [
    "#!rm -rf .cache vector_index   # uncomment to start afresh"
   ]
  },
  {
   "cell_type": "code",
   "execution_count": 12,
   "id": "2288ed7b-4783-4445-b179-3e21aa38799f",
   "metadata": {
    "tags": []
   },
   "outputs": [
    {
     "name": "stdout",
     "output_type": "stream",
     "text": [
      "./.cache:\n",
      "pg3772_3736454afe.txt  pg4204_81e8e90db3.txt\n",
      "\n",
      "vector_index:\n",
      "default__vector_store.json  graph_store.json\t      index_store.json\n",
      "docstore.json\t\t    image__vector_store.json\n"
     ]
    },
    {
     "name": "stderr",
     "output_type": "stream",
     "text": [
      "huggingface/tokenizers: The current process just got forked, after parallelism has already been used. Disabling parallelism to avoid deadlocks...\n",
      "To disable this warning, you can either:\n",
      "\t- Avoid using `tokenizers` before the fork if possible\n",
      "\t- Explicitly set the environment variable TOKENIZERS_PARALLELISM=(true | false)\n"
     ]
    }
   ],
   "source": [
    "!ls ./.cache vector_index"
   ]
  },
  {
   "cell_type": "code",
   "execution_count": 13,
   "id": "ac3a0082-337e-438b-89c8-00b0145ee721",
   "metadata": {
    "tags": []
   },
   "outputs": [
    {
     "name": "stderr",
     "output_type": "stream",
     "text": [
      "2025-03-27 18:25:35,393 - INFO - Load pretrained SentenceTransformer: BAAI/bge-small-en-v1.5\n",
      "2025-03-27 18:25:36,622 - INFO - 2 prompts are loaded, with the keys: ['query', 'text']\n"
     ]
    },
    {
     "name": "stdout",
     "output_type": "stream",
     "text": [
      "Loading in already created index\n"
     ]
    },
    {
     "name": "stderr",
     "output_type": "stream",
     "text": [
      "2025-03-27 18:25:38,643 - INFO - Loading all indices.\n"
     ]
    }
   ],
   "source": [
    "from llama_index.embeddings.huggingface import HuggingFaceEmbedding\n",
    "from llama_index.core import Settings\n",
    "from llama_index.core import VectorStoreIndex, SimpleDirectoryReader\n",
    "from llama_index.core import StorageContext, load_index_from_storage\n",
    "from llama_index.core import Document\n",
    "import os\n",
    "import pathlib\n",
    "\n",
    "INDEX_DIR=\"vector_index\"\n",
    "Settings.embed_model = HuggingFaceEmbedding(\n",
    "    model_name=EMBED_MODEL_ID\n",
    ")\n",
    "\n",
    "# these are the defaults in LlamaIndex\n",
    "Settings.chunk_size = 1024; Settings.chunk_overlap = 20; TOP_K=2\n",
    "#Settings.chunk_size = 100; Settings.chunk_overlap = 10; TOP_K=4\n",
    "\n",
    "if os.path.isdir(INDEX_DIR):\n",
    "    print(\"Loading in already created index\")\n",
    "    storage_context = StorageContext.from_defaults(persist_dir=INDEX_DIR)\n",
    "    index = load_index_from_storage(storage_context)\n",
    "else:\n",
    "    # downloads into .cache the first time\n",
    "    gs = gtl.GutenbergSource()\n",
    "    gs.load_from_url(\"https://www.gutenberg.org/cache/epub/3772/pg3772.txt\")\n",
    "    gs.load_from_url(\"https://www.gutenberg.org/cache/epub/4204/pg4204.txt\")\n",
    "    # reads all files in .cache\n",
    "    documents = SimpleDirectoryReader(input_dir=\"./.cache\", required_exts=[\".txt\"], exclude_hidden=False).load_data()\n",
    "    # creates a vector db\n",
    "    index = VectorStoreIndex.from_documents(documents)\n",
    "    index.storage_context.persist(persist_dir=INDEX_DIR)"
   ]
  },
  {
   "cell_type": "code",
   "execution_count": 18,
   "id": "50285303-18c8-4b9d-a2f8-8a7d6ea3967c",
   "metadata": {
    "tags": []
   },
   "outputs": [
    {
     "name": "stderr",
     "output_type": "stream",
     "text": [
      "/var/tmp/ipykernel_3593/6092052.py:4: DeprecationWarning: Call to deprecated class Gemini. (Should use `llama-index-llms-google-genai` instead, using Google's latest unified SDK. See: https://docs.llamaindex.ai/en/stable/examples/llm/google_genai/)\n",
      "  llm = Gemini(model=f\"models/{MODEL_ID}\", api_key=os.environ[\"GEMINI_API_KEY\"])\n"
     ]
    },
    {
     "data": {
      "application/vnd.jupyter.widget-view+json": {
       "model_id": "194830da1f404e37bb7f791c43fd8047",
       "version_major": 2,
       "version_minor": 0
      },
      "text/plain": [
       "Batches:   0%|          | 0/1 [00:00<?, ?it/s]"
      ]
     },
     "metadata": {},
     "output_type": "display_data"
    },
    {
     "name": "stdout",
     "output_type": "stream",
     "text": [
      "The Grand Canyon is north of the high plateaus of northern Arizona and southern Utah. The canyon is cut into stratified rocks that are more than ten thousand feet thick with a gentle inclination northward. From the broad platform rises a series of gigantic stairs, often more than one thousand feet high and a score or more miles in breadth. The retreating escarpments and the walls of the ravines are carved into architectural forms by weathering and deflation.\n",
      "\n",
      "Node ID: 7b635fb9-7b61-4508-ad6a-370f5cd42822\n",
      "Text: W. M. DAVIS    HARVARD UNIVERSITY, CAMBRIDGE, MASS.    JULY,\n",
      "1905            CONTENTS    INTRODUCTION.--THE SCOPE AND AIM OF\n",
      "GEOLOGY    PART I    EXTERNAL GEOLOGICAL AGENCIES         I. THE WORK\n",
      "OF THE WEATHER      II. THE WORK OF GROUND WATER     III. RIVERS AND\n",
      "VALLEYS      IV. RIVER DEPOSITS       V. THE WORK OF GLACIERS      VI.\n",
      "THE WORK OF ...\n",
      "Score:  0.771\n",
      "\n",
      "Node ID: 2e6e56ad-1080-4534-9177-6e25d1db23ff\n",
      "Text: As they are little protected by talus, which  commonly is\n",
      "removed about as fast as formed, these escarpments and  the walls of\n",
      "the valleys retreat indefinitely, exposing some hard  stratum beneath\n",
      "which forms the floor of a widening terrace.    The high plateaus of\n",
      "northern Arizona and southern Utah, north of  the Grand Canyon of the\n",
      "Colorado Ri...\n",
      "Score:  0.768\n",
      "\n"
     ]
    }
   ],
   "source": [
    "from llama_index.llms.gemini import Gemini\n",
    "from llama_index.core.query_engine import RetrieverQueryEngine\n",
    "\n",
    "llm = Gemini(model=f\"models/{MODEL_ID}\", api_key=os.environ[\"GEMINI_API_KEY\"])\n",
    "\n",
    "def semantic_rag(question, top_k=TOP_K, verbose=True):\n",
    "    query_engine = RetrieverQueryEngine.from_args(\n",
    "        retriever=index.as_retriever(similarity_top_k=top_k), llm=llm,\n",
    "    )\n",
    "    response = query_engine.query(question)\n",
    "    response = {\n",
    "        \"answer\": str(response),\n",
    "        \"source_nodes\": response.source_nodes\n",
    "    }\n",
    "    if verbose:\n",
    "        print(response['answer'])\n",
    "        for node in response['source_nodes']:\n",
    "            print(node)\n",
    "    return response\n",
    " \n",
    "semantic_rag(\"Describe the geology of the Grand Canyon\");"
   ]
  },
  {
   "cell_type": "code",
   "execution_count": 17,
   "id": "cbce5e25-962c-42d2-8ba7-aa1e008410fc",
   "metadata": {
    "tags": []
   },
   "outputs": [
    {
     "data": {
      "application/vnd.jupyter.widget-view+json": {
       "model_id": "de0e7190b9c24bb5af11045319a0c0a8",
       "version_major": 2,
       "version_minor": 0
      },
      "text/plain": [
       "Batches:   0%|          | 0/1 [00:00<?, ?it/s]"
      ]
     },
     "metadata": {},
     "output_type": "display_data"
    },
    {
     "name": "stdout",
     "output_type": "stream",
     "text": [
      "I'm sorry, but the provided text does not contain information about the geology of Petrified National Forest.\n",
      "\n",
      "Node ID: 7bfb39c5-9900-465d-8f7b-b9f0d49e6617\n",
      "Text: In the Nova Scotia  field, out of seventy-six distinct coal\n",
      "seams, twenty are  underlain by old forest grounds.    The presence of\n",
      "fire clay beneath a seam points in the same  direction. Such\n",
      "underclays withstand intense heat and are used in  making fire brick,\n",
      "because their alkalies have been removed by the  long-continued growth\n",
      "of vegetation....\n",
      "Score:  0.707\n",
      "\n",
      "Node ID: a3556434-f9be-45c2-871f-0cf47f859389\n",
      "Text: — Purity of the Coal explained. — Conversion of Coal into\n",
      "Anthracite. — Origin of Clay-ironstone. — Marine and brackish-water\n",
      "Strata in Coal. — Fossil Insects. — Batrachian Reptiles. —\n",
      "Labyrinthodont Foot-prints in Coal-measures. — Nova Scotia  Coal-\n",
      "measures with successive Growths of erect fossil Trees. —  Similarity\n",
      "of American and European...\n",
      "Score:  0.703\n",
      "\n"
     ]
    }
   ],
   "source": [
    "# shouldn't work because the national forest didn't exist at the time the book was written\n",
    "semantic_rag(\"Describe the geology of Petrified National Forest\");"
   ]
  },
  {
   "cell_type": "markdown",
   "id": "197ff2a2-2e7c-4941-bc26-504f8671c388",
   "metadata": {},
   "source": [
    "Saved answer:\n",
    "<pre>\n",
    "I'm sorry, but the provided text does not contain information about the geology of Petrified National Forest.\n",
    "<pre>"
   ]
  },
  {
   "cell_type": "markdown",
   "id": "cc4e0786-a9bd-4a58-aadf-a96fd7e54a92",
   "metadata": {},
   "source": [
    "## Limitations of plain-vanilla Semantic Indexing\n",
    "\n"
   ]
  },
  {
   "cell_type": "code",
   "execution_count": 40,
   "id": "223f8efa-2817-4e55-bfa5-46a13d39b4e5",
   "metadata": {},
   "outputs": [
    {
     "data": {
      "application/vnd.jupyter.widget-view+json": {
       "model_id": "b964b59cda4647b687b694cc016e3812",
       "version_major": 2,
       "version_minor": 0
      },
      "text/plain": [
       "Batches:   0%|          | 0/1 [00:00<?, ?it/s]"
      ]
     },
     "metadata": {},
     "output_type": "display_data"
    },
    {
     "name": "stdout",
     "output_type": "stream",
     "text": [
      "The Grand Canyon is north of the high plateaus of northern Arizona and southern Utah. The canyon is cut into stratified rocks that are more than ten thousand feet thick with a gentle inclination northward. From the broad platform rises a series of gigantic stairs, often more than one thousand feet high and a score or more miles in breadth. The retreating escarpments and the walls of the ravines are carved into architectural forms by weathering and deflation.\n",
      "\n",
      "Node ID: 7b635fb9-7b61-4508-ad6a-370f5cd42822\n",
      "Text: W. M. DAVIS    HARVARD UNIVERSITY, CAMBRIDGE, MASS.    JULY,\n",
      "1905            CONTENTS    INTRODUCTION.--THE SCOPE AND AIM OF\n",
      "GEOLOGY    PART I    EXTERNAL GEOLOGICAL AGENCIES         I. THE WORK\n",
      "OF THE WEATHER      II. THE WORK OF GROUND WATER     III. RIVERS AND\n",
      "VALLEYS      IV. RIVER DEPOSITS       V. THE WORK OF GLACIERS      VI.\n",
      "THE WORK OF ...\n",
      "Score:  0.771\n",
      "\n",
      "Node ID: 2e6e56ad-1080-4534-9177-6e25d1db23ff\n",
      "Text: As they are little protected by talus, which  commonly is\n",
      "removed about as fast as formed, these escarpments and  the walls of\n",
      "the valleys retreat indefinitely, exposing some hard  stratum beneath\n",
      "which forms the floor of a widening terrace.    The high plateaus of\n",
      "northern Arizona and southern Utah, north of  the Grand Canyon of the\n",
      "Colorado Ri...\n",
      "Score:  0.768\n",
      "\n"
     ]
    }
   ],
   "source": [
    "semantic_rag(\"Describe the geology of the Grand Canyon\");"
   ]
  },
  {
   "cell_type": "markdown",
   "id": "31511e08-3b80-4014-9095-f2bf4e865bed",
   "metadata": {},
   "source": [
    "Saved answer:\n",
    "<pre>\n",
    "The Grand Canyon is north of the high plateaus of northern Arizona and southern Utah. The canyon is cut into stratified rocks that are more than ten thousand feet thick with a gentle inclination northward. From the broad platform rises a series of gigantic stairs, often more than one thousand feet high and a score or more miles in breadth. The retreating escarpments and the walls of the ravines are carved into architectural forms by weathering and deflation.\n",
    "</pre>\n",
    "The first sentence of the answer is irrelevant. We didn't ask it where the Grand Canyon is located."
   ]
  },
  {
   "cell_type": "markdown",
   "id": "8c3be921-0b40-4a68-ae59-86a858e7e201",
   "metadata": {},
   "source": [
    "## Reranking\n",
    "\n",
    "You can use reranking to identify chunks that actually answer the question, and to remove extraneous bits (contextual compression).\n",
    "Another benefit is that you can look at the chunks and replace obsolete material"
   ]
  },
  {
   "cell_type": "code",
   "execution_count": 20,
   "id": "567ba5bd-ae13-40b0-82b2-00a68ba0de49",
   "metadata": {
    "tags": []
   },
   "outputs": [
    {
     "data": {
      "application/vnd.jupyter.widget-view+json": {
       "model_id": "2a2ca5e6643f4a7ab68ffc9fd90ecfcb",
       "version_major": 2,
       "version_minor": 0
      },
      "text/plain": [
       "Batches:   0%|          | 0/1 [00:00<?, ?it/s]"
      ]
     },
     "metadata": {},
     "output_type": "display_data"
    },
    {
     "name": "stdout",
     "output_type": "stream",
     "text": [
      "The Grand Canyon is north of the high plateaus of northern Arizona and southern Utah. The plateaus are made of stratified rocks that are more than ten thousand feet thick with a gentle inclination northward. From the broad platform where the canyon was cut, a series of gigantic stairs rise, often more than one thousand feet high and a score or more miles in breadth. The retreating escarpments, cliffs of mesas and buttes, and the walls of the ravines are carved into architectural forms by weathering and deflation. The wind helps dissect the great plateaus in arid regions, smoothing them away to waterless plains of naked rock, residual gravel, or drifting residual sand.\n",
      "\n",
      "Node ID: 7b635fb9-7b61-4508-ad6a-370f5cd42822\n",
      "Text: W. M. DAVIS    HARVARD UNIVERSITY, CAMBRIDGE, MASS.    JULY,\n",
      "1905            CONTENTS    INTRODUCTION.--THE SCOPE AND AIM OF\n",
      "GEOLOGY    PART I    EXTERNAL GEOLOGICAL AGENCIES         I. THE WORK\n",
      "OF THE WEATHER      II. THE WORK OF GROUND WATER     III. RIVERS AND\n",
      "VALLEYS      IV. RIVER DEPOSITS       V. THE WORK OF GLACIERS      VI.\n",
      "THE WORK OF ...\n",
      "Score:  0.771\n",
      "\n",
      "Node ID: 2e6e56ad-1080-4534-9177-6e25d1db23ff\n",
      "Text: As they are little protected by talus, which  commonly is\n",
      "removed about as fast as formed, these escarpments and  the walls of\n",
      "the valleys retreat indefinitely, exposing some hard  stratum beneath\n",
      "which forms the floor of a widening terrace.    The high plateaus of\n",
      "northern Arizona and southern Utah, north of  the Grand Canyon of the\n",
      "Colorado Ri...\n",
      "Score:  0.768\n",
      "\n",
      "Node ID: 863b9b41-817a-4f84-a065-727fa5df0b0e\n",
      "Text: California was then under water, and  the site of the Sierra was\n",
      "a subsiding trough slowly filling with  waste from the Great Basin\n",
      "land to the east.    Over a long belt which reaches from Wyoming\n",
      "across Colorado into  New Mexico no Triassic sediments are found, nor\n",
      "is there any  evidence that they were ever present; hence this area\n",
      "was high  la...\n",
      "Score:  0.763\n",
      "\n",
      "Node ID: 56492446-6f37-46c7-ab75-3cc1721311db\n",
      "Text: Even a porous  aquifer may be made the seat of mineral deposits,\n",
      "as in the case  of some copper-bearing and silver-bearing sandstones\n",
      "of New  Mexico.            PART III    HISTORICAL GEOLOGY    CHAPTER\n",
      "XIV    THE GEOLOGICAL RECORD      WHAT A FORMATION RECORDS. We have\n",
      "already learned that each  individual body of stratified rock, or\n",
      "formation,...\n",
      "Score:  0.741\n",
      "\n"
     ]
    }
   ],
   "source": [
    "response = semantic_rag(\"Describe the geology of the Grand Canyon\", top_k=4)"
   ]
  },
  {
   "cell_type": "code",
   "execution_count": 24,
   "id": "a97e86b9-3c17-4837-97e4-44bd48d16f1e",
   "metadata": {
    "tags": []
   },
   "outputs": [
    {
     "data": {
      "text/plain": [
       "{'file_path': '/home/jupyter/generative-ai-design-patterns/examples/generation_aware_retrieval/.cache/pg4204_81e8e90db3.txt',\n",
       " 'file_name': 'pg4204_81e8e90db3.txt',\n",
       " 'file_type': 'text/plain',\n",
       " 'file_size': 685928,\n",
       " 'creation_date': '2025-03-27',\n",
       " 'last_modified_date': '2025-03-27'}"
      ]
     },
     "execution_count": 24,
     "metadata": {},
     "output_type": "execute_result"
    }
   ],
   "source": [
    "response['source_nodes'][0].metadata"
   ]
  },
  {
   "cell_type": "code",
   "execution_count": 25,
   "id": "4877ec7b-1588-4e61-9695-956ac7467155",
   "metadata": {
    "tags": []
   },
   "outputs": [
    {
     "data": {
      "text/plain": [
       "\"W. M. DAVIS\\r\\n\\r\\nHARVARD UNIVERSITY, CAMBRIDGE, MASS.\\r\\n\\r\\nJULY, 1905\\r\\n\\r\\n\\r\\n\\r\\n\\r\\n\\r\\nCONTENTS\\r\\n\\r\\nINTRODUCTION.--THE SCOPE AND AIM OF GEOLOGY\\r\\n\\r\\nPART I\\r\\n\\r\\nEXTERNAL GEOLOGICAL AGENCIES\\r\\n\\r\\n     I. THE WORK OF THE WEATHER\\r\\n    II. THE WORK OF GROUND WATER\\r\\n   III. RIVERS AND VALLEYS\\r\\n    IV. RIVER DEPOSITS\\r\\n     V. THE WORK OF GLACIERS\\r\\n    VI. THE WORK OF THE WIND\\r\\n   VII. THE SEA AND ITS SHORES\\r\\n  VIII. OFFSHORE AND DEEP-SEA DEPOSITS\\r\\n\\r\\nPART  II\\r\\n\\r\\nINTERNAL GEOLOGICAL AGENCIES\\r\\n\\r\\n    IX. MOVEMENTS OF THE EARTH'S CRUST\\r\\n     X. EARTHQUAKES\\r\\n    XI. VOLCANOES\\r\\n   XII. UNDERGROUND STRUCTURES OF IGNEOUS ORIGIN\\r\\n  XIII. METAMORPHISM AND MINERAL VEINS\\r\\n\\r\\nPART III\\r\\n\\r\\nHISTORICAL GEOLOGY\\r\\n\\r\\n   XIV. THE GEOLOGICAL RECORD\\r\\n    XV. THE PRE-CAMBRIAN SYSTEMS\\r\\n   XVI. THE CAMBRIAN\\r\\n  XVII. THE ORDOVICIAN AND SILURIAN\\r\\n XVIII. THE DEVONIAN\\r\\n   XIX. THE CARBONIFEROUS\\r\\n    XX. THE MESOZOIC\\r\\n   XXI. THE TERTIARY\\r\\n  XXII. THE QUATERNARY\\r\\n INDEX\\r\\n\\r\\n\\r\\n\\r\\n\\r\\n\\r\\nTHE ELEMENTS OF GEOLOGY\\r\\n\\r\\n\\r\\n\\r\\n\\r\\n\\r\\nINTRODUCTION\\r\\n\\r\\nTHE SCOPE AND AIM OF GEOLOGY\\r\\n\\r\\n\\r\\nGeology deals with the rocks of the earth's crust. It learns from\\r\\ntheir composition and structure how the rocks were made and how\\r\\nthey have been modified. It ascertains how they have been brought\\r\\nto their present places and wrought to their various topographic\\r\\nforms, such as hills and valleys, plains and mountains. It studies\\r\\nthe vestiges which the rocks preserve of ancient organisms which\\r\\nonce inhabited our planet. Geology is the history of the earth and\\r\\nits inhabitants, as read in the rocks of the earth's crust.\\r\\n\\r\\nTo obtain a general idea of the nature and method of our science\\r\\nbefore beginning its study in detail, we may visit some valley,\\r\\nsuch as that illustrated in the frontispiece, on whose sides are\\r\\nrocky ledges. Here the rocks lie in horizontal layers. Although\\r\\nonly their edges are exposed, we may infer that these layers run\\r\\ninto the upland on either side and underlie the entire district;\\r\\nthey are part of the foundation of solid rock which everywhere is\\r\\nfound beneath the loose materials of the surface.\\r\\n\\r\\nThe ledges of the valley of our illustration are of sandstone.\\r\\nLooking closely at the rock we see that it is composed of myriads\\r\\nof grains of sand cemented together. These grains have been worn\\r\\nand rounded. They are sorted also, those of each layer being about\\r\\nof a size. By some means they have been brought hither from some\\r\\nmore ancient source. Surely these grains have had a history before\\r\\nthey here found a resting place,--a history which we are to learn\\r\\nto read.\\r\\n\\r\\nThe successive layers of the rock suggest that they were built one\\r\\nafter another from the bottom upward. We may be as sure that each\\r\\nlayer was formed before those above it as that the bottom courses\\r\\nof stone in a wall were laid before the courses which rest upon\\r\\nthem.\\r\\n\\r\\nWe have no reason to believe that the lowest layers which we see\\r\\nhere were the earliest ever formed. Indeed, some deep boring in\\r\\nthe vicinity may prove that the ledges rest upon other layers of\\r\\nrock which extend downward for many hundreds of feet below the\\r\\nvalley floor. Nor may we conclude that the highest layers here\\r\\nwere the latest ever laid; for elsewhere we may find still later\\r\\nlayers lying upon them.\\r\\n\\r\\nA short search may find in the rock relics of animals, such as the\\r\\nimprints of shells, which lived when it was deposited; and as\\r\\nthese are of kinds whose nearest living relatives now have their\\r\\nhome in the sea, we infer that it was on the flat sea floor that\\r\\nthe sandstone was laid. Its present position hundreds of feet\\r\\nabove sea level proves that it has since emerged to form part of\\r\\nthe land; while the flatness of the beds shows that the movement\\r\\nwas so uniform and gentle as not to break or strongly bend them\\r\\nfrom their original attitude.\\r\\n\\r\\nThe surface of some of these layers is ripple-marked.\""
      ]
     },
     "execution_count": 25,
     "metadata": {},
     "output_type": "execute_result"
    }
   ],
   "source": [
    "response['source_nodes'][0].text"
   ]
  },
  {
   "cell_type": "code",
   "execution_count": 30,
   "id": "1e6ba96f-7457-40b2-b4d4-834ced0247a0",
   "metadata": {
    "tags": []
   },
   "outputs": [
    {
     "name": "stderr",
     "output_type": "stream",
     "text": [
      "2025-03-27 19:31:26,749 - INFO - HTTP Request: POST https://generativelanguage.googleapis.com/v1beta/models/gemini-2.0-flash:generateContent \"HTTP/1.1 200 OK\"\n",
      "2025-03-27 19:31:32,616 - INFO - HTTP Request: POST https://generativelanguage.googleapis.com/v1beta/models/gemini-2.0-flash:generateContent \"HTTP/1.1 200 OK\"\n",
      "2025-03-27 19:31:39,601 - INFO - HTTP Request: POST https://generativelanguage.googleapis.com/v1beta/models/gemini-2.0-flash:generateContent \"HTTP/1.1 200 OK\"\n",
      "2025-03-27 19:31:46,861 - INFO - HTTP Request: POST https://generativelanguage.googleapis.com/v1beta/models/gemini-2.0-flash:generateContent \"HTTP/1.1 200 OK\"\n"
     ]
    }
   ],
   "source": [
    "from dataclasses import dataclass\n",
    "import pydantic_ai\n",
    "from pydantic_ai.models.gemini import GeminiModel\n",
    "from pydantic_ai import Agent\n",
    "\n",
    "model = GeminiModel(MODEL_ID, api_key=os.getenv('GEMINI_API_KEY'))\n",
    "\n",
    "@dataclass\n",
    "class Chunk:\n",
    "    full_text: str\n",
    "    publication_year: int\n",
    "    relevant_text: str\n",
    "    relevance_score: float\n",
    "\n",
    "def process_node(query, node):\n",
    "    system_prompt = \"\"\"\n",
    "    You will be given a query and some text.\n",
    "    1. Assign a publication year if it's clear from the text, else say it's the current year\n",
    "    2. Remove information from the text that is not relevant for answering the question.\n",
    "    3. Assign a relevance score between 0 and 1 where 1 means that the text answers the question \n",
    "    \"\"\"\n",
    "    agent = Agent(model, result_type=Chunk, system_prompt=system_prompt)\n",
    "    chunk = agent.run_sync(f\"**Query**: {query}\\n **Full Text**: {node.text}\").data\n",
    "    if node.metadata['file_name'].startswith('pg4204'):\n",
    "        chunk.publication_year = 1905\n",
    "    else:\n",
    "        chunk.publication_year = 1878\n",
    "    return chunk\n",
    "                              \n",
    "chunks = [process_node(response['source_nodes'], node) for node in response['source_nodes']]    "
   ]
  },
  {
   "cell_type": "code",
   "execution_count": 32,
   "id": "f723df92-25d9-4f66-b820-cbfee0cb6ea1",
   "metadata": {
    "tags": []
   },
   "outputs": [
    {
     "data": {
      "text/plain": [
       "\"Geology deals with the rocks of the earth's crust. It learns from their composition and structure how the rocks were made and how they have been modified. It ascertains how they have been brought to their present places and wrought to their various topographic forms, such as hills and valleys, plains and mountains. It studies the vestiges which the rocks preserve of ancient organisms which once inhabited our planet. Geology is the history of the earth and its inhabitants, as read in the rocks of the earth's crust.\\n\\nThe ledges of the valley of our illustration are of sandstone. Looking closely at the rock we see that it is composed of myriads of grains of sand cemented together.\\n\\nA short search may find in the rock relics of animals, such as the imprints of shells, which lived when it was deposited; and as these are of kinds whose nearest living relatives now have their home in the sea, we infer that it was on the flat sea floor that the sandstone was laid. Its present position hundreds of feet above sea level proves that it has since emerged to form part of the land; while the flatness of the beds shows that the movement was so uniform and gentle as not to break or strongly bend them from their original attitude.\\n\\nThe surface of some of these layers is ripple-marked.\""
      ]
     },
     "execution_count": 32,
     "metadata": {},
     "output_type": "execute_result"
    }
   ],
   "source": [
    "chunks[0].relevant_text"
   ]
  },
  {
   "cell_type": "code",
   "execution_count": 37,
   "id": "d3d27d84-e0e6-46b2-be6a-fdf7539cfca7",
   "metadata": {
    "tags": []
   },
   "outputs": [],
   "source": [
    "latest_year = max([chunk.publication_year for chunk in chunks])"
   ]
  },
  {
   "cell_type": "code",
   "execution_count": 42,
   "id": "2c10b241-119c-40b7-818d-039e1ff678c8",
   "metadata": {
    "tags": []
   },
   "outputs": [
    {
     "data": {
      "application/vnd.jupyter.widget-view+json": {
       "model_id": "486314c47e6e4b07be8d7039c8ee5fe2",
       "version_major": 2,
       "version_minor": 0
      },
      "text/plain": [
       "Batches:   0%|          | 0/1 [00:00<?, ?it/s]"
      ]
     },
     "metadata": {},
     "output_type": "display_data"
    },
    {
     "name": "stderr",
     "output_type": "stream",
     "text": [
      "2025-03-27 20:07:04,266 - INFO - HTTP Request: POST https://generativelanguage.googleapis.com/v1beta/models/gemini-2.0-flash:generateContent \"HTTP/1.1 200 OK\"\n",
      "2025-03-27 20:07:10,270 - INFO - HTTP Request: POST https://generativelanguage.googleapis.com/v1beta/models/gemini-2.0-flash:generateContent \"HTTP/1.1 200 OK\"\n",
      "2025-03-27 20:07:16,117 - INFO - HTTP Request: POST https://generativelanguage.googleapis.com/v1beta/models/gemini-2.0-flash:generateContent \"HTTP/1.1 200 OK\"\n",
      "2025-03-27 20:07:21,871 - INFO - HTTP Request: POST https://generativelanguage.googleapis.com/v1beta/models/gemini-2.0-flash:generateContent \"HTTP/1.1 200 OK\"\n",
      "2025-03-27 20:07:27,358 - INFO - HTTP Request: POST https://generativelanguage.googleapis.com/v1beta/models/gemini-2.0-flash:generateContent \"HTTP/1.1 200 OK\"\n",
      "2025-03-27 20:07:32,749 - INFO - HTTP Request: POST https://generativelanguage.googleapis.com/v1beta/models/gemini-2.0-flash:generateContent \"HTTP/1.1 200 OK\"\n",
      "2025-03-27 20:07:38,085 - INFO - HTTP Request: POST https://generativelanguage.googleapis.com/v1beta/models/gemini-2.0-flash:generateContent \"HTTP/1.1 200 OK\"\n",
      "2025-03-27 20:07:44,273 - INFO - HTTP Request: POST https://generativelanguage.googleapis.com/v1beta/models/gemini-2.0-flash:generateContent \"HTTP/1.1 200 OK\"\n",
      "2025-03-27 20:07:44,897 - INFO - HTTP Request: POST https://generativelanguage.googleapis.com/v1beta/models/gemini-2.0-flash:generateContent \"HTTP/1.1 200 OK\"\n"
     ]
    },
    {
     "data": {
      "text/plain": [
       "{'answer': 'The high plateaus north of the Grand Canyon are made of stratified rocks that are more than ten thousand feet thick with a gentle inclination northward. The canyon has been cut into a broad platform with gigantic stairs. The walls of the ravines are carved into architectural forms by weathering and deflation.\\n',\n",
       " 'source_nodes': [Chunk(full_text=\"W. M. DAVIS\\n\\nHARVARD UNIVERSITY, CAMBRIDGE, MASS.\\n\\nJULY, 1905\\n\\n\\n\\nCONTENTS\\n\\nINTRODUCTION.--THE SCOPE AND AIM OF GEOLOGY\\n\\nPART I\\n\\nEXTERNAL GEOLOGICAL AGENCIES\\n\\n     I. THE WORK OF THE WEATHER\\n    II. THE WORK OF GROUND WATER\\n   III. RIVERS AND VALLEYS\\n    IV. RIVER DEPOSITS\\n     V. THE WORK OF GLACIERS\\n    VI. THE WORK OF THE WIND\\n   VII. THE SEA AND ITS SHORES\\n  VIII. OFFSHORE AND DEEP-SEA DEPOSITS\\n\\nPART  II\\n\\nINTERNAL GEOLOGICAL AGENCIES\\n\\n    IX. MOVEMENTS OF THE EARTH'S CRUST\\n     X. EARTHQUAKES\\n    XI. VOLCANOES\\n   XII. UNDERGROUND STRUCTURES OF IGNEOUS ORIGIN\\n  XIII. METAMORPHISM AND MINERAL VEINS\\n\\nPART III\\n\\nHISTORICAL GEOLOGY\\n\\n   XIV. THE GEOLOGICAL RECORD\\n    XV. THE PRE-CAMBRIAN SYSTEMS\\n   XVI. THE CAMBRIAN\\n  XVII. THE ORDOVICIAN AND SILURIAN\\n XVIII. THE DEVONIAN\\n   XIX. THE CARBONIFEROUS\\n    XX. THE MESOZOIC\\n   XXI. THE TERTIARY\\n  XXII. THE QUATERNARY\\n INDEX\\n\\n\\n\\n\\n\\nTHE ELEMENTS OF GEOLOGY\\n\\n\\n\\n\\n\\nINTRODUCTION\\n\\nTHE SCOPE AND AIM OF GEOLOGY\\n\\n\\nGeology deals with the rocks of the earth's crust. It learns from\\ntheir composition and structure how the rocks were made and how\\nthey have been modified. It ascertains how they have been brought\\nto their present places and wrought to their various topographic\\nforms, such as hills and valleys, plains and mountains. It studies\\nthe vestiges which the rocks preserve of ancient organisms which\\nonce inhabited our planet. Geology is the history of the earth and\\nits inhabitants, as read in the rocks of the earth's crust.\\n\\nTo obtain a general idea of the nature and method of our science\\nbefore beginning its study in detail, we may visit some valley,\\nsuch as that illustrated in the frontispiece, on whose sides are\\nrocky ledges. Here the rocks lie in horizontal layers. Although\\nonly their edges are exposed, we may infer that these layers run\\ninto the upland on either side and underlie the entire district;\\nthey are part of the foundation of solid rock which everywhere is\\nfound beneath the loose materials of the surface.\\n\\nThe ledges of the valley of our illustration are of sandstone.\\nLooking closely at the rock we see that it is composed of myriads\\nof grains of sand cemented together. These grains have been worn\\nand rounded. They are sorted also, those of each layer being about\\nof a size. By some means they have been brought hither from some\\nmore ancient source. Surely these grains have had a history before\\nthey here found a resting place,--a history which we are to learn\\nto read.\\n\\nThe successive layers of the rock suggest that they were built one\\nafter another from the bottom upward. We may be as sure that each\\nlayer was formed before those above it as that the bottom courses\\nof stone in a wall were laid before the courses which rest upon\\nthem.\\n\\nWe have no reason to believe that the lowest layers which we see\\nhere were the earliest ever formed. Indeed, some deep boring in\\nthe vicinity may prove that the ledges rest upon other layers of\\nrock which extend downward for many hundreds of feet below the\\nvalley floor. Nor may we conclude that the highest layers here\\nwere the latest ever laid; for elsewhere we may find still later\\nlayers lying upon them.\\n\\nA short search may find in the rock relics of animals, such as the\\nimprints of shells, which lived when it was deposited; and as\\nthese are of kinds whose nearest living relatives now have their\\nhome in the sea, we infer that it was on the flat sea floor that\\nthe sandstone was laid. Its present position hundreds of feet\\nabove sea level proves that it has since emerged to form part of\\nthe land; while the flatness of the beds shows that the movement\\nwas so uniform and gentle as not to break or strongly bend them\\nfrom their original attitude.\\n\\nThe surface of some of these layers is ripple-marked.\", publication_year=1905, relevant_text=\"Geology deals with the rocks of the earth's crust. It learns from their composition and structure how the rocks were made and how they have been modified. It ascertains how they have been brought to their present places and wrought to their various topographic forms, such as hills and valleys, plains and mountains. It studies the vestiges which the rocks preserve of ancient organisms which once inhabited our planet. Geology is the history of the earth and its inhabitants, as read in the rocks of the earth's crust.\\n\\nThe ledges of the valley of our illustration are of sandstone.\\nLooking closely at the rock we see that it is composed of myriads of grains of sand cemented together. These grains have been worn and rounded. They are sorted also, those of each layer being about of a size. By some means they have been brought hither from some more ancient source. Surely these grains have had a history before they here found a resting place,--a history which we are to learn to read.\\n\\nThe surface of some of these layers is ripple-marked.\\n\", relevance_score=0.3),\n",
       "  Chunk(full_text='As they are little protected by talus, which\\ncommonly is removed about as fast as formed, these escarpments and\\nthe walls of the valleys retreat indefinitely, exposing some hard\\nstratum beneath which forms the floor of a widening terrace.\\n\\nThe high plateaus of northern Arizona and southern Utah, north of\\nthe Grand Canyon of the Colorado River, are composed of stratified\\nrocks more than ten thousand feet thick and of very gentle\\ninclination northward. From the broad plat form in which the\\ncanyon has been cut rises a series of gigantic stairs, which are\\noften more than one thousand feet high and a score or more of\\nmiles in breadth. The retreating escarpments, the cliffs of the\\nmesas and buttes which they have left behind as outliers, and the\\nwalls of the ravines are carved into noble architectural forms--\\ninto cathedrals, pyramids, amphitheaters, towers, arches, and\\ncolonnades--by the processes of weathering aided by deflation. It\\nis thus by the help of the action of the wind that great plateaus\\nin arid regions are dissected and at last are smoothed away to\\nwaterless plains, either composed of naked rock, or strewed with\\nresidual gravels, or covered with drifting residual sand.\\n\\nThe specific gravity of air is 1/823 that of water. How does this\\nfact affect the weight of the material which each can carry at the\\nsame velocity?\\n\\nIf the rainfall should lessen in your own state to from five to\\nten inches a year, what changes would take place in the vegetation\\nof the country? in the soil? in the streams? in the erosion of\\nlleys? in the agencies chiefly at work in denuding the land?\\n\\nIn what way can a wind-carved pebble be distinguished from a\\nriver-worn pebble? from a glaciated pebble?\\n\\n\\n\\nCHAPTER VII\\n\\nTHE SEA AND ITS SHORES\\n\\n\\nWe have already seen that the ocean is the goal at which the waste\\nof the land arrives. The mantle of rock waste, creeping down\\nslopes, is washed to the sea by streams, together with the\\nmaterial which the streams have worn from their beds and that\\ndissolved by underground waters. In arid regions the winds sweep\\nwaste either into bordering oceans or into more humid regions\\nwhere rivers take it up and carry it on to the sea. Glaciers\\ndeliver the load of their moraines either directly to the sea or\\nleave it for streams to transport to the same goal. All deposits\\nmade on the land, such as the flood plains of rivers, the silts of\\nlake beds, dune sands, and sheets of glacial drift, mark but\\npauses in the process which is to bring all the materials of the\\nland now above sea level to rest upon the ocean bed.\\n\\nBut the sea is also at work along all its shores as an agent of\\ndestruction, and we must first take up its work in erosion before\\nwe consider how it transports and deposits the waste of the land.\\n\\nSEA EROSION\\n\\nTHE SEA CLIFF AND THE ROCK BENCH. On many coasts the land fronts\\nthe ocean in a line of cliffs. To the edge of the cliffs there\\nlead down valleys and ridges, carved by running water, which, if\\nextended, would meet the water surface some way out from shore.\\nEvidently they are now abruptly cut short at the present shore\\nline because the land has been cut back.\\n\\nAlong the foot of the cliff lies a gently shelving bench of rock,\\nmore or less thickly veneered with sand and shingle. At low tide\\nits inner margin is laid bare, but at high tide it is covered\\nwholly, and the sea washes the base of the cliffs. A notch, of\\nwhich the SEA CLIFF and the ROCK BENCH are the two sides, has been\\ncut along the shore.\\n\\nWAVES. The position of the rock bench, with its inner margin\\nslightly above low tide, shows that it has been cut by some agent\\nwhich acts like a horizontal saw set at about sea level. This\\nagent is clearly the surface agitation of the water; it is the\\nwind-raised wave.\\n\\nAs a wave comes up the shelving bench the crest topples forward\\nand the wave \"breaks,\" striking a blow whose force is measured by\\nthe momentum of all its tons of falling water.', publication_year=1905, relevant_text='The high plateaus of northern Arizona and southern Utah, north of\\nthe Grand Canyon of the Colorado River, are composed of stratified\\nrocks more than ten thousand feet thick and of very gentle\\ninclination northward. From the broad plat form in which the\\ncanyon has been cut rises a series of gigantic stairs, which are\\noften more than one thousand feet high and a score or more of\\nmiles in breadth. The retreating escarpments, the cliffs of the\\nmesas and buttes which they have left behind as outliers, and the\\nwalls of the ravines are carved into noble architectural forms--\\ninto cathedrals, pyramids, amphitheaters, towers, arches, and\\ncolonnades--by the processes of weathering aided by deflation. It\\nis thus by the help of the action of the wind that great plateaus\\nin arid regions are dissected and at last are smoothed away to\\nwaterless plains, either composed of naked rock, or strewed with\\nresidual gravels, or covered with drifting residual sand.', relevance_score=0.6)]}"
      ]
     },
     "execution_count": 42,
     "metadata": {},
     "output_type": "execute_result"
    }
   ],
   "source": [
    "def rerank_rag(query, top_k=TOP_K):\n",
    "    # retrieve matching nodes\n",
    "    retriever=index.as_retriever(similarity_top_k=top_k*4)  # 4 times as many\n",
    "    nodes = retriever.retrieve(query)\n",
    "    \n",
    "    # shorten text to what's relevant and get a relevance score\n",
    "    chunks = [process_node(query, node) for node in nodes]\n",
    "    sorted(chunks, key=lambda x: x.relevance_score, reverse=True)\n",
    "    \n",
    "    # keep only chunks from the latest publication year\n",
    "    latest_year = max([chunk.publication_year for chunk in chunks])\n",
    "    chunks = [chunk for chunk in chunks if chunk.publication_year == latest_year]\n",
    "    \n",
    "    # limit to best k\n",
    "    chunks = chunks[:top_k]\n",
    "    \n",
    "    system_prompt = \"\"\"\n",
    "    Use the information provided in the context to answer the question.\n",
    "    Limit your answer to what's known based on the provided information.\n",
    "    \"\"\"\n",
    "    agent = Agent(model, result_type=str, system_prompt=system_prompt)\n",
    "    answer = agent.run_sync(f\"**Query**: {query}\\n **Context**: {[chunk.relevant_text for chunk in chunks]}\\n **Answer**:\").data\n",
    "    \n",
    "    response = {\n",
    "        \"answer\": answer,\n",
    "        \"source_nodes\": chunks # [chunk.relevant_text for chunk in chunks]\n",
    "    }\n",
    "    return response\n",
    "\n",
    "rerank_rag(\"Describe the geology of the Grand Canyon\", top_k=2)"
   ]
  },
  {
   "cell_type": "markdown",
   "id": "a31d15ab-5a4f-4fc3-88cc-226536db0037",
   "metadata": {},
   "source": [
    "Saved answer:\n",
    "    <pre>\n",
    "    The high plateaus north of the Grand Canyon are composed of stratified rocks that are more than ten thousand feet thick with a gentle inclination northward. The canyon has been cut into a broad platform from which a series of gigantic stairs rise, often more than one thousand feet high and a score or more of miles in breadth. The ledges of the valley in the illustration are of sandstone and are composed of myriads of grains of sand cemented together. The surface of some of these layers is ripple-marked.\n",
    "    </pre>\n",
    "    \n",
    "This is all relevant.  Also, usefully, the chunks' relevant text is now more concise."
   ]
  },
  {
   "cell_type": "code",
   "execution_count": null,
   "id": "518c0a79-9492-4fbf-a26c-72f2a2ed182f",
   "metadata": {},
   "outputs": [],
   "source": []
  }
 ],
 "metadata": {
  "environment": {
   "kernel": "conda-base-py",
   "name": "workbench-notebooks.m126",
   "type": "gcloud",
   "uri": "us-docker.pkg.dev/deeplearning-platform-release/gcr.io/workbench-notebooks:m126"
  },
  "kernelspec": {
   "display_name": "Python 3 (ipykernel) (Local)",
   "language": "python",
   "name": "conda-base-py"
  },
  "language_info": {
   "codemirror_mode": {
    "name": "ipython",
    "version": 3
   },
   "file_extension": ".py",
   "mimetype": "text/x-python",
   "name": "python",
   "nbconvert_exporter": "python",
   "pygments_lexer": "ipython3",
   "version": "3.10.15"
  }
 },
 "nbformat": 4,
 "nbformat_minor": 5
}
