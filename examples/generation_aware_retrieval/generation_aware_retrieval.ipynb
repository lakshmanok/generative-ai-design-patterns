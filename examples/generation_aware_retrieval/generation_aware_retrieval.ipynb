{
 "cells": [
  {
   "cell_type": "markdown",
   "id": "dbd295e0-a0b0-4071-9704-136901f29a2a",
   "metadata": {},
   "source": [
    "# Generation-aware Retreival\n",
    "\n",
    "Consists of these optional components:\n",
    "* Reranking\n",
    "* Filtering\n",
    "* Disambiguation followups\n",
    "* Query decomposition\n",
    "* Personalization"
   ]
  },
  {
   "cell_type": "code",
   "execution_count": 1,
   "id": "41664a72-3e67-4e57-9e6d-2a01ed7ed8bb",
   "metadata": {},
   "outputs": [],
   "source": [
    "#%pip install --quiet llama-index llama-index-llms-gemini llama-index-embeddings-huggingface pydantic-ai "
   ]
  },
  {
   "cell_type": "code",
   "execution_count": 1,
   "id": "b078983c-cda3-46d0-8438-d284bc017b3c",
   "metadata": {
    "tags": []
   },
   "outputs": [],
   "source": [
    "MODEL_ID = \"gemini-2.0-flash\"\n",
    "EMBED_MODEL_ID = \"BAAI/bge-small-en-v1.5\"\n",
    "\n",
    "import os\n",
    "from dotenv import load_dotenv\n",
    "load_dotenv(\"../keys.env\")\n",
    "assert os.environ[\"GEMINI_API_KEY\"][:2] == \"AI\",\\\n",
    "       \"Please specify the GEMINI_API_KEY access token in keys.env file\"\n",
    "assert os.environ[\"HF_TOKEN\"][:2] == \"hf\",\\\n",
    "       \"Please specify the HF_TOKEN access token in keys.env file\""
   ]
  },
  {
   "cell_type": "code",
   "execution_count": 2,
   "id": "40dad339-d55a-4440-8ab4-367f0cb0ffc7",
   "metadata": {
    "tags": []
   },
   "outputs": [],
   "source": [
    "import sys\n",
    "sys.path.append('../basic_rag')\n",
    "import gutenberg_text_loader as gtl\n",
    "import logging\n",
    "logging.basicConfig(level=logging.INFO, format='%(asctime)s - %(levelname)s - %(message)s')\n",
    "logger = logging.getLogger(__name__)"
   ]
  },
  {
   "cell_type": "markdown",
   "id": "15a2e1d2-2682-4e82-8e55-7b5134ddf34a",
   "metadata": {},
   "source": [
    "The examples here are on two Geology texts:\n",
    "* An 1878 book: The Student's Elements of Geology:  https://www.gutenberg.org/cache/epub/3772/pg3772.txt\n",
    "* A  1905 book: The Elements of Geology: https://www.gutenberg.org/cache/epub/4204/pg4204.txt"
   ]
  },
  {
   "cell_type": "markdown",
   "id": "acc0820e-3300-46f1-ac1b-5fc2208be423",
   "metadata": {},
   "source": [
    "## Plain Semantic Indexing to use as a comparison"
   ]
  },
  {
   "cell_type": "code",
   "execution_count": 10,
   "id": "3335ac11-8a74-4cb8-a92a-d5e3fef50640",
   "metadata": {
    "tags": []
   },
   "outputs": [],
   "source": [
    "#!rm -rf .cache vector_index   # uncomment to start afresh"
   ]
  },
  {
   "cell_type": "code",
   "execution_count": 12,
   "id": "2288ed7b-4783-4445-b179-3e21aa38799f",
   "metadata": {
    "tags": []
   },
   "outputs": [
    {
     "name": "stdout",
     "output_type": "stream",
     "text": [
      "./.cache:\n",
      "pg3772_3736454afe.txt  pg4204_81e8e90db3.txt\n",
      "\n",
      "vector_index:\n",
      "default__vector_store.json  graph_store.json\t      index_store.json\n",
      "docstore.json\t\t    image__vector_store.json\n"
     ]
    },
    {
     "name": "stderr",
     "output_type": "stream",
     "text": [
      "huggingface/tokenizers: The current process just got forked, after parallelism has already been used. Disabling parallelism to avoid deadlocks...\n",
      "To disable this warning, you can either:\n",
      "\t- Avoid using `tokenizers` before the fork if possible\n",
      "\t- Explicitly set the environment variable TOKENIZERS_PARALLELISM=(true | false)\n"
     ]
    }
   ],
   "source": [
    "!ls ./.cache vector_index"
   ]
  },
  {
   "cell_type": "code",
   "execution_count": 13,
   "id": "ac3a0082-337e-438b-89c8-00b0145ee721",
   "metadata": {
    "tags": []
   },
   "outputs": [
    {
     "name": "stderr",
     "output_type": "stream",
     "text": [
      "2025-03-27 18:25:35,393 - INFO - Load pretrained SentenceTransformer: BAAI/bge-small-en-v1.5\n",
      "2025-03-27 18:25:36,622 - INFO - 2 prompts are loaded, with the keys: ['query', 'text']\n"
     ]
    },
    {
     "name": "stdout",
     "output_type": "stream",
     "text": [
      "Loading in already created index\n"
     ]
    },
    {
     "name": "stderr",
     "output_type": "stream",
     "text": [
      "2025-03-27 18:25:38,643 - INFO - Loading all indices.\n"
     ]
    }
   ],
   "source": [
    "from llama_index.embeddings.huggingface import HuggingFaceEmbedding\n",
    "from llama_index.core import Settings\n",
    "from llama_index.core import VectorStoreIndex, SimpleDirectoryReader\n",
    "from llama_index.core import StorageContext, load_index_from_storage\n",
    "from llama_index.core import Document\n",
    "import os\n",
    "import pathlib\n",
    "\n",
    "INDEX_DIR=\"vector_index\"\n",
    "Settings.embed_model = HuggingFaceEmbedding(\n",
    "    model_name=EMBED_MODEL_ID\n",
    ")\n",
    "\n",
    "# these are the defaults in LlamaIndex\n",
    "Settings.chunk_size = 1024; Settings.chunk_overlap = 20; TOP_K=2\n",
    "#Settings.chunk_size = 100; Settings.chunk_overlap = 10; TOP_K=4\n",
    "\n",
    "if os.path.isdir(INDEX_DIR):\n",
    "    print(\"Loading in already created index\")\n",
    "    storage_context = StorageContext.from_defaults(persist_dir=INDEX_DIR)\n",
    "    index = load_index_from_storage(storage_context)\n",
    "else:\n",
    "    # downloads into .cache the first time\n",
    "    gs = gtl.GutenbergSource()\n",
    "    gs.load_from_url(\"https://www.gutenberg.org/cache/epub/3772/pg3772.txt\")\n",
    "    gs.load_from_url(\"https://www.gutenberg.org/cache/epub/4204/pg4204.txt\")\n",
    "    # reads all files in .cache\n",
    "    documents = SimpleDirectoryReader(input_dir=\"./.cache\", required_exts=[\".txt\"], exclude_hidden=False).load_data()\n",
    "    # creates a vector db\n",
    "    index = VectorStoreIndex.from_documents(documents)\n",
    "    index.storage_context.persist(persist_dir=INDEX_DIR)"
   ]
  },
  {
   "cell_type": "code",
   "execution_count": 14,
   "id": "50285303-18c8-4b9d-a2f8-8a7d6ea3967c",
   "metadata": {
    "tags": []
   },
   "outputs": [
    {
     "name": "stderr",
     "output_type": "stream",
     "text": [
      "/var/tmp/ipykernel_3593/413612668.py:4: DeprecationWarning: Call to deprecated class Gemini. (Should use `llama-index-llms-google-genai` instead, using Google's latest unified SDK. See: https://docs.llamaindex.ai/en/stable/examples/llm/google_genai/)\n",
      "  llm = Gemini(model=f\"models/{MODEL_ID}\", api_key=os.environ[\"GEMINI_API_KEY\"])\n"
     ]
    },
    {
     "data": {
      "application/vnd.jupyter.widget-view+json": {
       "model_id": "4e7fc8fd23cd401e8f2d6b0f95128e5d",
       "version_major": 2,
       "version_minor": 0
      },
      "text/plain": [
       "Batches:   0%|          | 0/1 [00:00<?, ?it/s]"
      ]
     },
     "metadata": {},
     "output_type": "display_data"
    },
    {
     "name": "stdout",
     "output_type": "stream",
     "text": [
      "The Grand Canyon is north of the high plateaus of northern Arizona and southern Utah. The canyon is cut into stratified rocks that are more than ten thousand feet thick with a gentle inclination northward. From the broad platform rises a series of gigantic stairs, often more than one thousand feet high and a score or more miles in breadth. The retreating escarpments and the walls of the ravines are carved into architectural forms by weathering and deflation.\n",
      "\n",
      "Node ID: 7b635fb9-7b61-4508-ad6a-370f5cd42822\n",
      "Text: W. M. DAVIS    HARVARD UNIVERSITY, CAMBRIDGE, MASS.    JULY,\n",
      "1905            CONTENTS    INTRODUCTION.--THE SCOPE AND AIM OF\n",
      "GEOLOGY    PART I    EXTERNAL GEOLOGICAL AGENCIES         I. THE WORK\n",
      "OF THE WEATHER      II. THE WORK OF GROUND WATER     III. RIVERS AND\n",
      "VALLEYS      IV. RIVER DEPOSITS       V. THE WORK OF GLACIERS      VI.\n",
      "THE WORK OF ...\n",
      "Score:  0.771\n",
      "\n",
      "Node ID: 2e6e56ad-1080-4534-9177-6e25d1db23ff\n",
      "Text: As they are little protected by talus, which  commonly is\n",
      "removed about as fast as formed, these escarpments and  the walls of\n",
      "the valleys retreat indefinitely, exposing some hard  stratum beneath\n",
      "which forms the floor of a widening terrace.    The high plateaus of\n",
      "northern Arizona and southern Utah, north of  the Grand Canyon of the\n",
      "Colorado Ri...\n",
      "Score:  0.768\n",
      "\n"
     ]
    }
   ],
   "source": [
    "from llama_index.llms.gemini import Gemini\n",
    "from llama_index.core.query_engine import RetrieverQueryEngine\n",
    "\n",
    "llm = Gemini(model=f\"models/{MODEL_ID}\", api_key=os.environ[\"GEMINI_API_KEY\"])\n",
    "\n",
    "query_engine = RetrieverQueryEngine.from_args(\n",
    "    retriever=index.as_retriever(similarity_top_k=TOP_K), llm=llm,\n",
    ")\n",
    "\n",
    "def semantic_rag(question):\n",
    "    response = query_engine.query(question)\n",
    "    response = {\n",
    "        \"answer\": str(response),\n",
    "        \"source_nodes\": response.source_nodes\n",
    "    }\n",
    "    print(response['answer'])\n",
    "    for node in response['source_nodes']:\n",
    "        print(node)\n",
    "    return response\n",
    " \n",
    "semantic_rag(\"Describe the geology of the Grand Canyon\");"
   ]
  },
  {
   "cell_type": "markdown",
   "id": "31511e08-3b80-4014-9095-f2bf4e865bed",
   "metadata": {},
   "source": [
    "Saved answer:\n",
    "<pre>\n",
    "The Grand Canyon is north of the high plateaus of northern Arizona and southern Utah. The canyon is cut into stratified rocks that are more than ten thousand feet thick with a gentle inclination northward. From the broad platform rises a series of gigantic stairs, often more than one thousand feet high and a score or more miles in breadth. The retreating escarpments and the walls of the ravines are carved into architectural forms by weathering and deflation.\n",
    "</pre>"
   ]
  },
  {
   "cell_type": "code",
   "execution_count": 15,
   "id": "cbce5e25-962c-42d2-8ba7-aa1e008410fc",
   "metadata": {
    "tags": []
   },
   "outputs": [
    {
     "data": {
      "application/vnd.jupyter.widget-view+json": {
       "model_id": "baffb6f2a76e487fa0840d632d299d86",
       "version_major": 2,
       "version_minor": 0
      },
      "text/plain": [
       "Batches:   0%|          | 0/1 [00:00<?, ?it/s]"
      ]
     },
     "metadata": {},
     "output_type": "display_data"
    },
    {
     "name": "stdout",
     "output_type": "stream",
     "text": [
      "I'm sorry, but the provided text does not contain information about the geology of Petrified National Forest.\n",
      "\n",
      "Node ID: 7bfb39c5-9900-465d-8f7b-b9f0d49e6617\n",
      "Text: In the Nova Scotia  field, out of seventy-six distinct coal\n",
      "seams, twenty are  underlain by old forest grounds.    The presence of\n",
      "fire clay beneath a seam points in the same  direction. Such\n",
      "underclays withstand intense heat and are used in  making fire brick,\n",
      "because their alkalies have been removed by the  long-continued growth\n",
      "of vegetation....\n",
      "Score:  0.707\n",
      "\n",
      "Node ID: a3556434-f9be-45c2-871f-0cf47f859389\n",
      "Text: — Purity of the Coal explained. — Conversion of Coal into\n",
      "Anthracite. — Origin of Clay-ironstone. — Marine and brackish-water\n",
      "Strata in Coal. — Fossil Insects. — Batrachian Reptiles. —\n",
      "Labyrinthodont Foot-prints in Coal-measures. — Nova Scotia  Coal-\n",
      "measures with successive Growths of erect fossil Trees. —  Similarity\n",
      "of American and European...\n",
      "Score:  0.703\n",
      "\n"
     ]
    }
   ],
   "source": [
    "# shouldn't work because the national forest didn't exist at the time the book was written\n",
    "semantic_rag(\"Describe the geology of Petrified National Forest\");"
   ]
  },
  {
   "cell_type": "markdown",
   "id": "197ff2a2-2e7c-4941-bc26-504f8671c388",
   "metadata": {},
   "source": [
    "Saved answer:\n",
    "<pre>\n",
    "The provided text does not contain information about where Alexander died.\n",
    "</pre>"
   ]
  },
  {
   "cell_type": "markdown",
   "id": "cc4e0786-a9bd-4a58-aadf-a96fd7e54a92",
   "metadata": {},
   "source": [
    "## Limitations of plain-vanilla Semantic Indexing\n",
    "\n"
   ]
  },
  {
   "cell_type": "code",
   "execution_count": null,
   "id": "223f8efa-2817-4e55-bfa5-46a13d39b4e5",
   "metadata": {},
   "outputs": [],
   "source": []
  }
 ],
 "metadata": {
  "environment": {
   "kernel": "conda-base-py",
   "name": "workbench-notebooks.m126",
   "type": "gcloud",
   "uri": "us-docker.pkg.dev/deeplearning-platform-release/gcr.io/workbench-notebooks:m126"
  },
  "kernelspec": {
   "display_name": "Python 3 (ipykernel) (Local)",
   "language": "python",
   "name": "conda-base-py"
  },
  "language_info": {
   "codemirror_mode": {
    "name": "ipython",
    "version": 3
   },
   "file_extension": ".py",
   "mimetype": "text/x-python",
   "name": "python",
   "nbconvert_exporter": "python",
   "pygments_lexer": "ipython3",
   "version": "3.10.15"
  }
 },
 "nbformat": 4,
 "nbformat_minor": 5
}
