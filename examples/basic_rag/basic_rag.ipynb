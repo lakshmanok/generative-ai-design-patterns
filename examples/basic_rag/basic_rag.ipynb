{
 "cells": [
  {
   "cell_type": "markdown",
   "id": "19f4b00e-59c2-4496-a0e5-cd10dff0f0eb",
   "metadata": {},
   "source": [
    "## A very basic RAG\n",
    "\n",
    "You would never build a RAG system this basic. But it helps illustrate the problems we are trying to solve with some of the more advanced techniques."
   ]
  },
  {
   "cell_type": "code",
   "execution_count": 1,
   "id": "41664a72-3e67-4e57-9e6d-2a01ed7ed8bb",
   "metadata": {},
   "outputs": [],
   "source": [
    "#%pip install --quiet llama-index llama-index-retrievers-bm25 llama-index-llms-anthropic anthropic"
   ]
  },
  {
   "cell_type": "code",
   "execution_count": 1,
   "id": "b078983c-cda3-46d0-8438-d284bc017b3c",
   "metadata": {
    "tags": []
   },
   "outputs": [],
   "source": [
    "MODEL_ID = \"claude-3-7-sonnet-latest\"\n",
    "\n",
    "import os\n",
    "from dotenv import load_dotenv\n",
    "load_dotenv(\"../keys.env\")\n",
    "assert os.environ[\"ANTHROPIC_API_KEY\"][:2] == \"sk\",\\\n",
    "       \"Please specify the ANTHROPIC_API_KEY access token in keys.env file\""
   ]
  },
  {
   "cell_type": "code",
   "execution_count": 2,
   "id": "40dad339-d55a-4440-8ab4-367f0cb0ffc7",
   "metadata": {
    "tags": []
   },
   "outputs": [],
   "source": [
    "import gutenberg_text_loader as gtl\n",
    "import logging\n",
    "logging.basicConfig(level=logging.INFO, format='%(asctime)s - %(levelname)s - %(message)s')\n",
    "logger = logging.getLogger(__name__)"
   ]
  },
  {
   "cell_type": "markdown",
   "id": "15a2e1d2-2682-4e82-8e55-7b5134ddf34a",
   "metadata": {},
   "source": [
    "Try reading Anabasis of Alexander https://www.gutenberg.org/cache/epub/46976/pg46976.txt\n",
    "a 2nd century historical account of Alexander the Great"
   ]
  },
  {
   "cell_type": "code",
   "execution_count": 4,
   "id": "ac3a0082-337e-438b-89c8-00b0145ee721",
   "metadata": {
    "tags": []
   },
   "outputs": [
    {
     "name": "stderr",
     "output_type": "stream",
     "text": [
      "2025-03-26 16:32:29,018 - INFO - Loading https://www.gutenberg.org/cache/epub/46976/pg46976.txt from cache\n",
      "2025-03-26 16:32:29,069 - INFO - Cleaned Gutenberg text: removed 1033 chars from start, 18492 chars from end\n",
      "2025-03-26 16:32:29,072 - INFO - Successfully loaded text from https://www.gutenberg.org/cache/epub/46976/pg46976.txt.\n"
     ]
    }
   ],
   "source": [
    "gs = gtl.GutenbergSource()\n",
    "doc = gs.load_from_url(\"https://www.gutenberg.org/cache/epub/46976/pg46976.txt\")"
   ]
  },
  {
   "cell_type": "code",
   "execution_count": 5,
   "id": "670e7a61-6219-4e4c-8f28-430c9153c0e2",
   "metadata": {
    "tags": []
   },
   "outputs": [
    {
     "data": {
      "text/plain": [
       "'he calls himself so in _Cynegeticus_ (v.\\n6); and in _Periplus_ (xii. 5; xxv. 1), he distinguishes Xenophon by\\nthe addition _the elder_. Lucian (_Alexander_, 56) calls Arrian simply\\n_Xenophon_. During the stay of the emperor Hadrian at Athens, A.D. 126,\\nArrian gained his friendship. He accompanied his patron to Rome, where\\nhe received the Roman citizenship. In consequence of this, he assumed\\nthe name of Flavius.[2] In the same way the Jewish historian, Josephus,\\nhad been allowed by Vespasian and Titus to bear the imperial name\\nFlavius.[3]\\n\\nPhotius says, that Arrian had a distinguished career in Rome, being\\nentrusted with various political offices, and at last reaching the\\nsupreme dignity of consul under Antoninus Pius.[4] Previous to this\\nhe was appointed (A.D. 132) by Hadrian, Governor of Cappadocia, which\\nprovince was soon after invaded by the Alani, or Massagetae, whom he\\ndefeated and expelled.[5] When Marcus Aurelius came to the throne,\\nArrian withdrew into private life and returned'"
      ]
     },
     "execution_count": 5,
     "metadata": {},
     "output_type": "execute_result"
    }
   ],
   "source": [
    "doc.text[21000:22000]"
   ]
  },
  {
   "cell_type": "code",
   "execution_count": 6,
   "id": "2c75fa8b-5c65-4eb5-a1b3-08ae28b8ff6a",
   "metadata": {
    "tags": []
   },
   "outputs": [
    {
     "name": "stdout",
     "output_type": "stream",
     "text": [
      "d8d32970-34fb-4ade-a5e5-fc4283fac4a9\n"
     ]
    }
   ],
   "source": [
    "print(doc.id_)"
   ]
  },
  {
   "cell_type": "markdown",
   "id": "a4c7ecb0-96e6-4671-a017-1bcd29526480",
   "metadata": {},
   "source": [
    "## Step 1: Index document\n",
    "\n",
    "We will break up the document into chunks, and index it using BM25\n",
    "See: https://kmwllc.com/index.php/2020/03/20/understanding-tf-idf-and-bm-25/"
   ]
  },
  {
   "cell_type": "code",
   "execution_count": 7,
   "id": "5237a6dc-5eb2-4bc6-86c1-4541105cb2f1",
   "metadata": {
    "tags": []
   },
   "outputs": [],
   "source": [
    "from llama_index.core.node_parser import SentenceSplitter\n",
    "from llama_index.core.storage.docstore import SimpleDocumentStore\n",
    "from llama_index.core import Document\n",
    "\n",
    "class Indexer:\n",
    "    \"\"\"\n",
    "    A class to load documents into LlamaIndex using BM25.\n",
    "    \n",
    "    Attributes:\n",
    "        chunk_size (int): Size of text chunks for processing.\n",
    "        chunk_overlap (int): Overlap between text chunks.\n",
    "        docstore (SimpleDocumentStore): Document store for storing processed documents.\n",
    "    \"\"\"\n",
    "    \n",
    "    def __init__(\n",
    "        self,\n",
    "        cache_dir: str = \"./.cache\",\n",
    "        chunk_size: int = 1024,\n",
    "        chunk_overlap: int = 20\n",
    "    ):\n",
    "        \"\"\"\n",
    "        Initialize the Indexer.\n",
    "        \n",
    "        Args:\n",
    "            chunk_size (int): Size of text chunks for processing. Defaults to 1024.\n",
    "            chunk_overlap (int): Overlap between text chunks. Defaults to 20.\n",
    "        \"\"\"        \n",
    "        self.chunk_size = chunk_size\n",
    "        self.chunk_overlap = chunk_overlap\n",
    "        \n",
    "        # Initialize a simple document store\n",
    "        self.docstore = SimpleDocumentStore()\n",
    "        \n",
    "        self.node_parser = SentenceSplitter(\n",
    "            chunk_size=self.chunk_size,\n",
    "            chunk_overlap=self.chunk_overlap\n",
    "        )\n",
    "        \n",
    "        logger.info(\"Indexer initialized\")\n",
    "    \n",
    "\n",
    "    def add_document_to_index(self, document: Document):\n",
    "        # Parse the document into nodes\n",
    "        nodes = self.node_parser.get_nodes_from_documents([document])\n",
    "\n",
    "        # Add nodes to the document store\n",
    "        self.docstore.add_documents(nodes)\n",
    "\n",
    "        logger.info(f\"Successfully loaded text from {document.id_} -- {len(nodes)} nodes created.\")\n",
    "            \n",
    "    def get_docstore(self) -> SimpleDocumentStore:\n",
    "        return self.docstore"
   ]
  },
  {
   "cell_type": "code",
   "execution_count": 8,
   "id": "4aff170f-4d87-4fb7-ad75-b9b33e88bf89",
   "metadata": {
    "tags": []
   },
   "outputs": [
    {
     "name": "stderr",
     "output_type": "stream",
     "text": [
      "2025-03-26 16:32:34,088 - INFO - Indexer initialized\n",
      "2025-03-26 16:32:41,245 - INFO - Successfully loaded text from d8d32970-34fb-4ade-a5e5-fc4283fac4a9 -- 6104 nodes created.\n"
     ]
    }
   ],
   "source": [
    "index = Indexer(chunk_size=100, chunk_overlap=20)\n",
    "index.add_document_to_index(doc)"
   ]
  },
  {
   "cell_type": "markdown",
   "id": "b44d50e0-9881-48a6-b5ff-c8a78ef3de06",
   "metadata": {
    "tags": []
   },
   "source": [
    "## Step 2: Retrieve nodes that match query"
   ]
  },
  {
   "cell_type": "code",
   "execution_count": 9,
   "id": "0da943d0-1ca9-4d23-a9f2-5629b7ad43e8",
   "metadata": {
    "tags": []
   },
   "outputs": [
    {
     "name": "stderr",
     "output_type": "stream",
     "text": [
      "2025-03-26 16:32:43,327 - DEBUG - Building index from IDs objects\n"
     ]
    }
   ],
   "source": [
    "from llama_index.retrievers.bm25 import BM25Retriever\n",
    "retriever = BM25Retriever.from_defaults(\n",
    "    docstore=index.get_docstore(),\n",
    "    similarity_top_k=5)"
   ]
  },
  {
   "cell_type": "code",
   "execution_count": 10,
   "id": "f1d391c3-796f-413a-bb35-35e07ec4452e",
   "metadata": {
    "tags": []
   },
   "outputs": [
    {
     "data": {
      "text/markdown": [
       "**Node ID:** 9af68013-02e5-46c5-b269-043de46e5fc4<br>**Similarity:** 4.2463765144348145<br>**Text:** But Diogenes said that he\n",
       "wanted nothing else, except that he and his attendants would stand out\n",
       "of the sunlight. Alexander is said to have expressed his admiration\n",
       "of Diogenes’s conduct.<br>"
      ],
      "text/plain": [
       "<IPython.core.display.Markdown object>"
      ]
     },
     "metadata": {},
     "output_type": "display_data"
    },
    {
     "data": {
      "text/markdown": [
       "**Node ID:** 1a90db02-ab85-4048-9630-e9ccc553b69e<br>**Similarity:** 4.118840217590332<br>**Text:** 100 stades; and most of it is the mean between\n",
       "these breadths.[642] This river Indus Alexander crossed at daybreak\n",
       "with his army into the country of the Indians; concerning whom, in\n",
       "this history I have described neither what laws they enjoy,<br>"
      ],
      "text/plain": [
       "<IPython.core.display.Markdown object>"
      ]
     },
     "metadata": {},
     "output_type": "display_data"
    },
    {
     "data": {
      "text/markdown": [
       "**Node ID:** 6fa83134-b9a3-4ef3-8d8b-11b4903ce9fa<br>**Similarity:** 3.639586925506592<br>**Text:** 32). Alexander said: “If I were\n",
       "not Alexander, I should like to be Diogenes.” Cf. _Arrian_, i. 1;\n",
       "Plutarch (_de Fortit. Alex._, p. 331).<br>"
      ],
      "text/plain": [
       "<IPython.core.display.Markdown object>"
      ]
     },
     "metadata": {},
     "output_type": "display_data"
    },
    {
     "data": {
      "text/markdown": [
       "**Node ID:** b4525555-6685-499c-af0d-656909d02e7b<br>**Similarity:** 3.4104578495025635<br>**Text:** Alexander is said to have expressed his admiration\n",
       "of Diogenes’s conduct.[832] Thus it is evident that Alexander was\n",
       "not entirely destitute of better feelings; but he was the slave of\n",
       "his insatiable ambition.<br>"
      ],
      "text/plain": [
       "<IPython.core.display.Markdown object>"
      ]
     },
     "metadata": {},
     "output_type": "display_data"
    },
    {
     "data": {
      "text/markdown": [
       "**Node ID:** 4431854c-be3d-43b1-9a10-29afab936025<br>**Similarity:** 3.2550690174102783<br>**Text:** He also ascertained that for\n",
       "the present Bessus held the supreme command, both on account of his\n",
       "relationship to Darius and because the war was being carried on in his\n",
       "viceregal province. Hearing this,<br>"
      ],
      "text/plain": [
       "<IPython.core.display.Markdown object>"
      ]
     },
     "metadata": {},
     "output_type": "display_data"
    }
   ],
   "source": [
    "from llama_index.core.response.notebook_utils import display_source_node\n",
    "retrieved_nodes = retriever.retrieve(\"Describe the relationship between Alexander and Diogenes\")\n",
    "for node in retrieved_nodes:\n",
    "    display_source_node(node, 1024)"
   ]
  },
  {
   "cell_type": "markdown",
   "id": "c7166a1d-ea03-471e-9302-03435d64db66",
   "metadata": {},
   "source": [
    "## Step 3: Generate using these nodes"
   ]
  },
  {
   "cell_type": "code",
   "execution_count": 11,
   "id": "89e9570e-6879-4278-900e-ffbb8a07068d",
   "metadata": {},
   "outputs": [],
   "source": [
    "from llama_index.core.query_engine import RetrieverQueryEngine\n",
    "from llama_index.llms.anthropic import Anthropic\n",
    "\n",
    "llm = Anthropic(\n",
    "    model=MODEL_ID,\n",
    "    api_key=os.environ['ANTHROPIC_API_KEY'],\n",
    "    temperature=0.2\n",
    ")"
   ]
  },
  {
   "cell_type": "code",
   "execution_count": 12,
   "id": "e63aebc5-fd19-4154-8782-50bae18e1052",
   "metadata": {
    "tags": []
   },
   "outputs": [
    {
     "name": "stderr",
     "output_type": "stream",
     "text": [
      "2025-03-26 16:32:53,376 - INFO - HTTP Request: POST https://api.anthropic.com/v1/messages \"HTTP/1.1 200 OK\"\n"
     ]
    },
    {
     "name": "stdout",
     "output_type": "stream",
     "text": [
      "assistant: Based on the text, Alexander and Diogenes had a brief but notable encounter. When Alexander met Diogenes, Alexander asked what he could do for him, but Diogenes simply requested that Alexander and his attendants move out of his sunlight. Rather than being offended by this dismissive response, Alexander is said to have expressed admiration for Diogenes's conduct. \n",
      "\n",
      "The text also mentions that Alexander reportedly said, \"If I were not Alexander, I should like to be Diogenes,\" suggesting he respected Diogenes's philosophical approach and independence. However, the text notes that despite showing this capacity for \"better feelings,\" Alexander remained \"the slave of his insatiable ambition,\" implying a contrast between Diogenes's simple, unambitious lifestyle and Alexander's conquering nature.\n"
     ]
    }
   ],
   "source": [
    "from llama_index.core.llms import ChatMessage\n",
    "messages = [\n",
    "    ChatMessage(\n",
    "        role=\"system\", content=\"Use the following text to answer the given question.\"\n",
    "    )\n",
    "]\n",
    "messages += [\n",
    "    ChatMessage(role=\"system\", content=node.text) for node in retrieved_nodes\n",
    "]\n",
    "messages += [\n",
    "    ChatMessage(role=\"user\", content=\"Describe the relationship between Alexander and Diogenes.\")\n",
    "]\n",
    "response = llm.chat(messages)\n",
    "print(response)"
   ]
  },
  {
   "cell_type": "markdown",
   "id": "18ded63b-ff8a-46e5-8c99-40063d3c6989",
   "metadata": {},
   "source": [
    "## LlamaIndex Query engine to simplify Step 3"
   ]
  },
  {
   "cell_type": "code",
   "execution_count": 14,
   "id": "50285303-18c8-4b9d-a2f8-8a7d6ea3967c",
   "metadata": {
    "tags": []
   },
   "outputs": [
    {
     "name": "stderr",
     "output_type": "stream",
     "text": [
      "2025-03-26 16:33:19,766 - INFO - HTTP Request: POST https://api.anthropic.com/v1/messages \"HTTP/1.1 200 OK\"\n"
     ]
    },
    {
     "name": "stdout",
     "output_type": "stream",
     "text": [
      "The relationship between Alexander and Diogenes was marked by a notable encounter where Diogenes requested only that Alexander and his attendants stand out of his sunlight. Rather than being offended by this unusual request from someone addressing such a powerful figure, Alexander expressed admiration for Diogenes' conduct. \n",
      "\n",
      "This interaction reveals something about both men's characters. Alexander, despite his immense power and ambition, showed appreciation for Diogenes' simple and independent nature. In fact, Alexander is quoted as saying, \"If I were not Alexander, I should like to be Diogenes,\" suggesting he respected the philosopher's way of life.\n",
      "\n",
      "While Alexander was described as \"not entirely destitute of better feelings,\" he was ultimately characterized as \"the slave of his insatiable ambition,\" which contrasts with Diogenes' apparent contentment with merely having access to sunlight.\n"
     ]
    }
   ],
   "source": [
    "query_engine = RetrieverQueryEngine.from_args(\n",
    "    retriever=retriever, llm=llm\n",
    ")\n",
    "\n",
    "response = query_engine.query(\"Describe the relationship between Alexander and Diogenes.\")\n",
    "response = {\n",
    "    \"answer\": str(response),\n",
    "    \"source_nodes\": response.source_nodes\n",
    "}\n",
    "print(response['answer'])"
   ]
  },
  {
   "cell_type": "code",
   "execution_count": 15,
   "id": "16aaab66-54fc-4035-b6c3-75ad8c951bf9",
   "metadata": {
    "tags": []
   },
   "outputs": [
    {
     "name": "stdout",
     "output_type": "stream",
     "text": [
      "Node ID: 9af68013-02e5-46c5-b269-043de46e5fc4\n",
      "Text: But Diogenes said that he wanted nothing else, except that he\n",
      "and his attendants would stand out of the sunlight. Alexander is said\n",
      "to have expressed his admiration of Diogenes’s conduct.\n",
      "Score:  4.246\n",
      "\n",
      "Node ID: 1a90db02-ab85-4048-9630-e9ccc553b69e\n",
      "Text: 100 stades; and most of it is the mean between these\n",
      "breadths.[642] This river Indus Alexander crossed at daybreak with his\n",
      "army into the country of the Indians; concerning whom, in this history\n",
      "I have described neither what laws they enjoy,\n",
      "Score:  4.119\n",
      "\n",
      "Node ID: 6fa83134-b9a3-4ef3-8d8b-11b4903ce9fa\n",
      "Text: 32). Alexander said: “If I were not Alexander, I should like to\n",
      "be Diogenes.” Cf. _Arrian_, i. 1; Plutarch (_de Fortit. Alex._, p.\n",
      "331).\n",
      "Score:  3.640\n",
      "\n",
      "Node ID: b4525555-6685-499c-af0d-656909d02e7b\n",
      "Text: Alexander is said to have expressed his admiration of Diogenes’s\n",
      "conduct.[832] Thus it is evident that Alexander was not entirely\n",
      "destitute of better feelings; but he was the slave of his insatiable\n",
      "ambition.\n",
      "Score:  3.410\n",
      "\n",
      "Node ID: 4431854c-be3d-43b1-9a10-29afab936025\n",
      "Text: He also ascertained that for the present Bessus held the supreme\n",
      "command, both on account of his relationship to Darius and because the\n",
      "war was being carried on in his viceregal province. Hearing this,\n",
      "Score:  3.255\n",
      "\n"
     ]
    }
   ],
   "source": [
    "for node in response['source_nodes']:\n",
    "    print(node)"
   ]
  },
  {
   "cell_type": "markdown",
   "id": "cdb82af5-5585-4685-a397-d76e3c9a8809",
   "metadata": {
    "tags": []
   },
   "source": [
    "## End to end example"
   ]
  },
  {
   "cell_type": "code",
   "execution_count": 18,
   "id": "74d4da37-ff71-40ba-b804-27ea950a54cd",
   "metadata": {
    "tags": []
   },
   "outputs": [],
   "source": [
    "def build_query_engine(urls: [str], chunk_size: int) -> RetrieverQueryEngine:\n",
    "    gs = gtl.GutenbergSource()\n",
    "    index = Indexer(chunk_size=chunk_size, chunk_overlap=chunk_size//10)\n",
    "    \n",
    "    for url in urls:\n",
    "        doc = gs.load_from_url(url)\n",
    "        index.add_document_to_index(doc)\n",
    "    \n",
    "    retriever = BM25Retriever.from_defaults(\n",
    "        docstore=index.get_docstore(),\n",
    "        similarity_top_k=5)\n",
    "    \n",
    "    llm = Anthropic(\n",
    "        model=MODEL_ID,\n",
    "        api_key=os.environ['ANTHROPIC_API_KEY'],\n",
    "        temperature=0.2\n",
    "    )\n",
    "    \n",
    "    query_engine = RetrieverQueryEngine.from_args(\n",
    "        retriever=retriever, llm=llm\n",
    "    )\n",
    "    \n",
    "    return query_engine\n",
    "\n",
    "def print_response_to_query(query_engine: RetrieverQueryEngine, query: str):\n",
    "    response = query_engine.query(query)\n",
    "    response = {\n",
    "        \"answer\": str(response),\n",
    "        \"source_nodes\": response.source_nodes\n",
    "    }\n",
    "    print(response['answer'])\n",
    "    print(\"\\n\\n**Sources**:\")\n",
    "    for node in response['source_nodes']:\n",
    "        print(node)"
   ]
  },
  {
   "cell_type": "code",
   "execution_count": 19,
   "id": "e9184278-88c7-4174-82c4-7ee6bbdc511d",
   "metadata": {
    "tags": []
   },
   "outputs": [
    {
     "name": "stderr",
     "output_type": "stream",
     "text": [
      "2025-03-26 16:33:31,935 - INFO - Indexer initialized\n",
      "2025-03-26 16:33:31,938 - INFO - Loading https://www.gutenberg.org/files/53669/53669-0.txt from cache\n",
      "2025-03-26 16:33:31,952 - INFO - Cleaned Gutenberg text: removed 50 chars from start, 49 chars from end\n",
      "2025-03-26 16:33:31,954 - INFO - Successfully loaded text from https://www.gutenberg.org/files/53669/53669-0.txt.\n",
      "2025-03-26 16:33:32,521 - INFO - Successfully loaded text from 0b831228-929d-440c-9dff-214c1568e6bb -- 1208 nodes created.\n",
      "2025-03-26 16:33:32,676 - DEBUG - Building index from IDs objects\n",
      "2025-03-26 16:33:35,382 - INFO - HTTP Request: POST https://api.anthropic.com/v1/messages \"HTTP/1.1 200 OK\"\n"
     ]
    },
    {
     "name": "stdout",
     "output_type": "stream",
     "text": [
      "If the diaphragm is ruptured, you should replace the safety head with an unbroken head. Additionally, if you notice any tears, separation, or leaks occurring at the diaphragm, you should replace the entire valve-diaphragm assembly.\n",
      "\n",
      "When handling the diaphragm components during maintenance, remember to unscrew the diaphragm cap by hand (not using a wrench) and be careful not to disturb the position of the yoke block by turning the needle, as this would affect the valve-needle adjustment.\n",
      "\n",
      "\n",
      "**Sources**:\n",
      "Node ID: bcb413ea-6213-4774-bbd6-5d97e13f3222\n",
      "Text: Inspect to see if diaphragm is intact. If diaphragm is ruptured,\n",
      "replace the safety head with an unbroken head.\n",
      "Score:  4.869\n",
      "\n",
      "Node ID: 5f5de0db-4942-4fd1-9ac0-e6b4490351e6\n",
      "Text: (3) Unscrew diaphragm cap and pull out washer, support, and\n",
      "valve-diaphragm assembly. To prevent loss of valve-needle adjustment\n",
      "(Fig 54), do not disturb position of yoke block by turning the needle.\n",
      "Score:  3.282\n",
      "\n",
      "Node ID: 1cf20eb6-8a0d-4cbe-9efe-b1d3f7b2637c\n",
      "Text: (Fig 52) Screw on the diaphragm cap by hand. Do not use a\n",
      "wrench.   Install valve grip. (Par 74 _c_)    (4) Place valve spring\n",
      "over end of needle and install spring   retainer.\n",
      "Score:  2.676\n",
      "\n",
      "Node ID: bf246a1a-d3c8-4977-b45a-a55eda6f0078\n",
      "Text: If the diaphragm   shows evidence of tears or separation, or if\n",
      "leaks occur at the   diaphragm, replace the valve-diaphragm assembly.\n",
      "Score:  2.472\n",
      "\n",
      "Node ID: a463e94e-3801-4bbb-9f48-495b0432e093\n",
      "Text: 75    Diaphragm cap,\n",
      "75    Diaphragm support,                                           75\n",
      "Diaphragm, valve, assembly,  10_b_, 48_b_, 56_e_, 58_a_, 74,\n",
      "Score:  2.421\n",
      "\n"
     ]
    }
   ],
   "source": [
    "query_engine = build_query_engine([\"https://www.gutenberg.org/files/53669/53669-0.txt\"], 100) # Portable Flame Thrower\n",
    "print_response_to_query(query_engine, \"What should I do if the diaphragm is ruptured?\")"
   ]
  },
  {
   "cell_type": "markdown",
   "id": "65b1e8f7-908c-49c1-8c66-8228c0b62465",
   "metadata": {},
   "source": [
    "## Limitation 1: Semantic Understanding\n",
    "\n",
    "Even though \"ruptured\" is the same as \"broken\", the returned nodes are very different because the search for \"broken\" doesn't return the sentences explaining what to do when it's ruptured (or vice-versa).\n",
    "As a result, the generated answer misses the key point about replacing the safety head."
   ]
  },
  {
   "cell_type": "code",
   "execution_count": 20,
   "id": "ac057694-07a1-4ff8-af88-18d357f61e2f",
   "metadata": {
    "tags": []
   },
   "outputs": [
    {
     "name": "stderr",
     "output_type": "stream",
     "text": [
      "2025-03-26 16:33:41,946 - INFO - HTTP Request: POST https://api.anthropic.com/v1/messages \"HTTP/1.1 200 OK\"\n"
     ]
    },
    {
     "name": "stdout",
     "output_type": "stream",
     "text": [
      "If the diaphragm is broken, you should replace the valve-diaphragm assembly. You would need to unscrew the diaphragm cap and pull out the washer, support, and valve-diaphragm assembly. When doing this repair, it's important not to disturb the position of the yoke block by turning the needle, as this would affect the valve-needle adjustment. After replacing the damaged components, you should screw the diaphragm cap back on by hand without using a wrench, and then install the valve grip.\n",
      "\n",
      "\n",
      "**Sources**:\n",
      "Node ID: 5f5de0db-4942-4fd1-9ac0-e6b4490351e6\n",
      "Text: (3) Unscrew diaphragm cap and pull out washer, support, and\n",
      "valve-diaphragm assembly. To prevent loss of valve-needle adjustment\n",
      "(Fig 54), do not disturb position of yoke block by turning the needle.\n",
      "Score:  3.282\n",
      "\n",
      "Node ID: 043fd85f-3f8d-4bfe-8e5f-44bbfd091bf1\n",
      "Text: (Par 49)    (2) _Spring-case assembly._ If outer case rotates\n",
      "and inner case does   not, and no spring action occurs, spring is\n",
      "broken and spring case   should be replaced as a unit.\n",
      "Score:  2.703\n",
      "\n",
      "Node ID: 1cf20eb6-8a0d-4cbe-9efe-b1d3f7b2637c\n",
      "Text: (Fig 52) Screw on the diaphragm cap by hand. Do not use a\n",
      "wrench.   Install valve grip. (Par 74 _c_)    (4) Place valve spring\n",
      "over end of needle and install spring   retainer.\n",
      "Score:  2.676\n",
      "\n",
      "Node ID: 54204f31-a448-4097-8a6f-49312f903043\n",
      "Text: If end of trigger rod is worn, replace   rod. Lug on the\n",
      "ignition-head body should be approximately 7/32 inch   high. If lug is\n",
      "worn or broken, replace ignition head body.  [Illustration: Fig 57.\n",
      "Score:  2.582\n",
      "\n",
      "Node ID: 0d251ab3-bc2b-40ee-a214-e2e687976a92\n",
      "Text: _c. Fuel._ Burn.  _d. Mixing apparatus._ Containers and filling\n",
      "lines may be rendered useless by ax or sledge blows, or by small-arms\n",
      "fire.  _e. Thickener._ Cans of thickener should be broken open.\n",
      "Score:  2.582\n",
      "\n"
     ]
    }
   ],
   "source": [
    "print_response_to_query(query_engine, \"What should I do if the diaphragm is broken?\")"
   ]
  },
  {
   "cell_type": "markdown",
   "id": "8f7e5fe2-712a-48e9-852d-b9ba0e089a5c",
   "metadata": {},
   "source": [
    "## Limitation 2: Chunk size\n",
    "\n",
    "The results vary quite dramatically depending on the size of the chunks. It's unclear what size of chunk is best for a given a query."
   ]
  },
  {
   "cell_type": "code",
   "execution_count": 21,
   "id": "d84cbe28-d0f7-4700-974e-67aea0376574",
   "metadata": {
    "tags": []
   },
   "outputs": [
    {
     "name": "stderr",
     "output_type": "stream",
     "text": [
      "2025-03-26 16:33:42,137 - INFO - Indexer initialized\n",
      "2025-03-26 16:33:42,142 - INFO - Loading https://www.gutenberg.org/files/53669/53669-0.txt from cache\n",
      "2025-03-26 16:33:42,158 - INFO - Cleaned Gutenberg text: removed 50 chars from start, 49 chars from end\n",
      "2025-03-26 16:33:42,160 - INFO - Successfully loaded text from https://www.gutenberg.org/files/53669/53669-0.txt.\n",
      "2025-03-26 16:33:42,726 - INFO - Successfully loaded text from 92daa847-5f40-4692-97b7-8bc943f54f17 -- 1208 nodes created.\n",
      "2025-03-26 16:33:42,885 - DEBUG - Building index from IDs objects\n",
      "2025-03-26 16:33:45,718 - INFO - HTTP Request: POST https://api.anthropic.com/v1/messages \"HTTP/1.1 200 OK\"\n"
     ]
    },
    {
     "name": "stdout",
     "output_type": "stream",
     "text": [
      "If the diaphragm is ruptured, you should replace the safety head with an unbroken head. Additionally, if you notice any tears, separation, or leaks occurring at the diaphragm, you should replace the entire valve-diaphragm assembly.\n",
      "\n",
      "When handling the diaphragm components during maintenance, remember to unscrew the diaphragm cap by hand (not using a wrench) and be careful not to disturb the position of the yoke block by turning the needle, as this would affect the valve-needle adjustment.\n"
     ]
    }
   ],
   "source": [
    "def print_response(chunk_size: int) -> str:\n",
    "    query_engine = build_query_engine([\"https://www.gutenberg.org/files/53669/53669-0.txt\"],\n",
    "                                     chunk_size=chunk_size)\n",
    "    response = query_engine.query(\"What should I do if the diaphragm is ruptured?\")\n",
    "    print(response)\n",
    "\n",
    "print_response(100)"
   ]
  },
  {
   "cell_type": "code",
   "execution_count": 22,
   "id": "b09d9398-d5d1-4474-9637-7a6de03e2b70",
   "metadata": {
    "tags": []
   },
   "outputs": [
    {
     "name": "stderr",
     "output_type": "stream",
     "text": [
      "2025-03-26 16:33:45,736 - INFO - Indexer initialized\n",
      "2025-03-26 16:33:45,739 - INFO - Loading https://www.gutenberg.org/files/53669/53669-0.txt from cache\n",
      "2025-03-26 16:33:45,751 - INFO - Cleaned Gutenberg text: removed 50 chars from start, 49 chars from end\n",
      "2025-03-26 16:33:45,753 - INFO - Successfully loaded text from https://www.gutenberg.org/files/53669/53669-0.txt.\n",
      "2025-03-26 16:33:46,062 - INFO - Successfully loaded text from b29e8780-f093-41cb-9138-2924ee6d1d99 -- 376 nodes created.\n",
      "2025-03-26 16:33:46,387 - DEBUG - Building index from IDs objects\n",
      "2025-03-26 16:33:50,268 - INFO - HTTP Request: POST https://api.anthropic.com/v1/messages \"HTTP/1.1 200 OK\"\n"
     ]
    },
    {
     "name": "stdout",
     "output_type": "stream",
     "text": [
      "If the diaphragm is ruptured, you should replace the safety head with an unbroken head. When checking the safety-head plug, you'll need to remove the deflector tube from the head (using your hand, not a wrench) to inspect if the diaphragm is intact. After replacement, reassemble the plug, head, and deflector tube in the left fuel tank.\n"
     ]
    }
   ],
   "source": [
    "print_response(200)"
   ]
  },
  {
   "cell_type": "code",
   "execution_count": 23,
   "id": "bb661796-a91d-454a-8b75-19a65f836e33",
   "metadata": {
    "tags": []
   },
   "outputs": [
    {
     "name": "stderr",
     "output_type": "stream",
     "text": [
      "2025-03-26 16:33:50,291 - INFO - Indexer initialized\n",
      "2025-03-26 16:33:50,294 - INFO - Loading https://www.gutenberg.org/files/53669/53669-0.txt from cache\n",
      "2025-03-26 16:33:50,306 - INFO - Cleaned Gutenberg text: removed 50 chars from start, 49 chars from end\n",
      "2025-03-26 16:33:50,309 - INFO - Successfully loaded text from https://www.gutenberg.org/files/53669/53669-0.txt.\n",
      "2025-03-26 16:33:50,542 - INFO - Successfully loaded text from 3bfc6656-bcbf-403b-991a-e9bd762d9a59 -- 124 nodes created.\n",
      "2025-03-26 16:33:50,594 - DEBUG - Building index from IDs objects\n",
      "2025-03-26 16:33:55,299 - INFO - HTTP Request: POST https://api.anthropic.com/v1/messages \"HTTP/1.1 200 OK\"\n"
     ]
    },
    {
     "name": "stdout",
     "output_type": "stream",
     "text": [
      "If you find that the diaphragm is ruptured, you should replace the safety head with an unbroken head. After replacement, you'll need to reassemble the plug, head, and deflector tube in the left fuel tank. When reinstalling, the deflector tube should face to the rear at a 45-degree angle to the operator's left shoulder. Remember to screw in the deflector tube by hand only (do not use a wrench on it), and then tighten the lock nut with a wrench.\n"
     ]
    }
   ],
   "source": [
    "print_response(500)"
   ]
  },
  {
   "cell_type": "markdown",
   "id": "c46f832d-4ad9-4ddb-95db-cf717018094e",
   "metadata": {},
   "source": [
    "## Exploring tf-idf\n"
   ]
  },
  {
   "cell_type": "code",
   "execution_count": 25,
   "id": "376a8db8-9c19-49e6-82fb-45805c0e94e6",
   "metadata": {
    "tags": []
   },
   "outputs": [
    {
     "name": "stderr",
     "output_type": "stream",
     "text": [
      "2025-03-26 16:33:56,625 - INFO - Indexer initialized\n",
      "2025-03-26 16:33:56,651 - INFO - Loading https://www.gutenberg.org/cache/epub/46976/pg46976.txt from cache\n",
      "2025-03-26 16:33:56,695 - INFO - Cleaned Gutenberg text: removed 1033 chars from start, 18492 chars from end\n",
      "2025-03-26 16:33:56,697 - INFO - Successfully loaded text from https://www.gutenberg.org/cache/epub/46976/pg46976.txt.\n",
      "2025-03-26 16:33:58,532 - INFO - Successfully loaded text from cdfce596-f986-4ee5-9e11-99040b5efa88 -- 1788 nodes created.\n"
     ]
    }
   ],
   "source": [
    "gs = gtl.GutenbergSource()\n",
    "index = Indexer(chunk_size=200, chunk_overlap=0)\n",
    "for url in [\n",
    "    \"https://www.gutenberg.org/cache/epub/46976/pg46976.txt\", # Alexander\n",
    "    # \"https://www.gutenberg.org/cache/epub/6400/pg6400.txt\", # Twelve Caesars\n",
    "    # \"https://www.gutenberg.org/cache/epub/3296/pg3296.txt\", # Augustine\n",
    "]:\n",
    "    doc = gs.load_from_url(url)\n",
    "    index.add_document_to_index(doc)\n",
    "docstore = index.get_docstore()"
   ]
  },
  {
   "cell_type": "code",
   "execution_count": 26,
   "id": "e51f654c-54cb-424d-821d-be7eafbaec19",
   "metadata": {
    "tags": []
   },
   "outputs": [],
   "source": [
    "from sklearn.feature_extraction.text import TfidfVectorizer\n",
    "from sklearn.feature_extraction.text import CountVectorizer\n",
    "import pandas as pd\n",
    "\n",
    "tfidf_vectorizer = TfidfVectorizer(stop_words='english')\n",
    "corpus = [str(value.text) for key, value in docstore.docs.items()]\n",
    "tfidf_vector = tfidf_vectorizer.fit_transform(corpus)\n",
    "tfidf_df = pd.DataFrame(tfidf_vector.toarray(), columns=tfidf_vectorizer.get_feature_names_out())\n",
    "\n",
    "count_vectorizer = CountVectorizer(stop_words='english')\n",
    "count_vector = count_vectorizer.fit_transform(corpus)\n",
    "count_df = pd.DataFrame(count_vector.toarray(), columns=count_vectorizer.get_feature_names_out())"
   ]
  },
  {
   "cell_type": "code",
   "execution_count": 27,
   "id": "0512c53e-9af6-4603-a9c6-fb57e96f0947",
   "metadata": {
    "tags": []
   },
   "outputs": [
    {
     "data": {
      "text/plain": [
       "('circuit', 'circuit')"
      ]
     },
     "execution_count": 27,
     "metadata": {},
     "output_type": "execute_result"
    }
   ],
   "source": [
    "tfidf_df.columns[3050], count_df.columns[3050]"
   ]
  },
  {
   "cell_type": "code",
   "execution_count": 28,
   "id": "312a47a4-edac-418f-b439-d648e2777ebc",
   "metadata": {
    "tags": []
   },
   "outputs": [
    {
     "data": {
      "text/plain": [
       "(0.4144554127366783, 2)"
      ]
     },
     "execution_count": 28,
     "metadata": {},
     "output_type": "execute_result"
    }
   ],
   "source": [
    "tfidf_df[['astonishment']].sum().values[0], count_df[['astonishment']].sum().values[0]"
   ]
  },
  {
   "cell_type": "code",
   "execution_count": 29,
   "id": "83c9b36e-256d-406a-aec1-ce11ba7d0fc1",
   "metadata": {
    "tags": []
   },
   "outputs": [
    {
     "name": "stdout",
     "output_type": "stream",
     "text": [
      "ERROR: \"['describe', 'the', 'between', 'and'] not in index\"\n"
     ]
    }
   ],
   "source": [
    "try:\n",
    "    tfidf_df[\"Describe the relationship between Alexander and Diogenes\".lower().split()].sum()\n",
    "except Exception as e:\n",
    "    print(\"ERROR:\", e)"
   ]
  },
  {
   "cell_type": "code",
   "execution_count": 30,
   "id": "495402f5-0ac2-4ecf-a2c6-a86ee0f9c00c",
   "metadata": {
    "tags": []
   },
   "outputs": [
    {
     "name": "stdout",
     "output_type": "stream",
     "text": [
      "Count:\n",
      "relationship       1\n",
      "alexander       1311\n",
      "diogenes           6\n",
      "dtype: int64\n",
      "TFIDF:\n",
      "relationship     0.255707\n",
      "alexander       61.043674\n",
      "diogenes         1.013318\n",
      "dtype: float64\n"
     ]
    }
   ],
   "source": [
    "def count_tfidf(words):\n",
    "    print(\"Count:\")\n",
    "    print(count_df[words.lower().split()].sum())\n",
    "    print(\"TFIDF:\")\n",
    "    print(tfidf_df[words.lower().split()].sum())\n",
    "\n",
    "count_tfidf(\"relationship Alexander Diogenes\")"
   ]
  }
 ],
 "metadata": {
  "environment": {
   "kernel": "conda-base-py",
   "name": "workbench-notebooks.m126",
   "type": "gcloud",
   "uri": "us-docker.pkg.dev/deeplearning-platform-release/gcr.io/workbench-notebooks:m126"
  },
  "kernelspec": {
   "display_name": "Python 3 (ipykernel) (Local)",
   "language": "python",
   "name": "conda-base-py"
  },
  "language_info": {
   "codemirror_mode": {
    "name": "ipython",
    "version": 3
   },
   "file_extension": ".py",
   "mimetype": "text/x-python",
   "name": "python",
   "nbconvert_exporter": "python",
   "pygments_lexer": "ipython3",
   "version": "3.10.15"
  }
 },
 "nbformat": 4,
 "nbformat_minor": 5
}
