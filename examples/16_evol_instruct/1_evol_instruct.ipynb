{
 "cells": [
  {
   "cell_type": "markdown",
   "id": "00a2db13-fb78-453a-b9e6-75e3c568e453",
   "metadata": {},
   "source": [
    "# Evol Instruct\n",
    "\n",
    "Demonstrates using Evol Instruct to create hard instructions (questions) starting from a set of simple instructions.\n",
    "Models trained on datasets with hard problems might perform better."
   ]
  },
  {
   "cell_type": "code",
   "execution_count": 1,
   "id": "0264c136-dd55-457e-96a2-6df0c26f7a08",
   "metadata": {
    "tags": []
   },
   "outputs": [],
   "source": [
    "#%pip install --upgrade --quiet pydantic-ai-slim[anthropic,openai]"
   ]
  },
  {
   "cell_type": "code",
   "execution_count": 2,
   "id": "28fb9619-572b-4c6e-8f64-3c0252075834",
   "metadata": {
    "tags": []
   },
   "outputs": [],
   "source": [
    "GEMINI=\"gemini-2.0-flash\"\n",
    "\n",
    "import os\n",
    "from dotenv import load_dotenv\n",
    "load_dotenv(\"../keys.env\")\n",
    "assert os.environ[\"GEMINI_API_KEY\"][:2] == \"AI\",\\\n",
    "       \"Please specify the GEMINI_API_KEY access token in keys.env file\""
   ]
  },
  {
   "cell_type": "code",
   "execution_count": 3,
   "id": "3ef18244-ec11-4c74-a42c-ff1f07d6ff83",
   "metadata": {
    "tags": []
   },
   "outputs": [],
   "source": [
    "# Needed in Jupyter environment See: https://ai.pydantic.dev/troubleshooting/ \n",
    "import nest_asyncio\n",
    "nest_asyncio.apply()"
   ]
  },
  {
   "cell_type": "markdown",
   "id": "73b2fb77-8058-4748-ad96-bd3cbb2ccedd",
   "metadata": {
    "jp-MarkdownHeadingCollapsed": true,
    "tags": []
   },
   "source": [
    "### Define a dataclass for Questions and Answers\n",
    "The class does some minor wrangling to remove numbering from questions"
   ]
  },
  {
   "cell_type": "code",
   "execution_count": 4,
   "id": "ab604830-a732-4bc8-93a8-a0b52be3ce20",
   "metadata": {
    "tags": []
   },
   "outputs": [],
   "source": [
    "from dataclasses import dataclass\n",
    "import re\n",
    "\n",
    "@dataclass\n",
    "class QuestionAnswer:\n",
    "    question: str\n",
    "    answer: str\n",
    "    \n",
    "    def __init__(self, question, answer):\n",
    "        pattern = r\"^[Question|Answer ]*\\d+\\.\\s+\" # remove numbering from strings\n",
    "        self.question = re.sub(pattern, \"\", question)\n",
    "        self.answer = re.sub(pattern, \"\", answer)"
   ]
  },
  {
   "cell_type": "code",
   "execution_count": 5,
   "id": "65956661-1988-439e-a419-7ff3f58dd705",
   "metadata": {
    "tags": []
   },
   "outputs": [
    {
     "data": {
      "text/plain": [
       "QuestionAnswer(question='some question', answer='some answer')"
      ]
     },
     "execution_count": 5,
     "metadata": {},
     "output_type": "execute_result"
    }
   ],
   "source": [
    "QuestionAnswer(\"1. some question\", \"1. some answer\")"
   ]
  },
  {
   "cell_type": "code",
   "execution_count": 6,
   "id": "2743989c-2ab0-478c-859c-e1cf7e5ba20d",
   "metadata": {
    "tags": []
   },
   "outputs": [
    {
     "data": {
      "text/plain": [
       "QuestionAnswer(question='some question', answer='some answer')"
      ]
     },
     "execution_count": 6,
     "metadata": {},
     "output_type": "execute_result"
    }
   ],
   "source": [
    "QuestionAnswer(\"Question 1. some question\", \"Answer 1. some answer\")"
   ]
  },
  {
   "cell_type": "code",
   "execution_count": 7,
   "id": "e730ab4a-7387-49e9-8862-d6ef1171f91a",
   "metadata": {
    "tags": []
   },
   "outputs": [
    {
     "data": {
      "text/plain": [
       "QuestionAnswer(question='some question', answer='some answer')"
      ]
     },
     "execution_count": 7,
     "metadata": {},
     "output_type": "execute_result"
    }
   ],
   "source": [
    "QuestionAnswer(\"some question\", \"some answer\")"
   ]
  },
  {
   "cell_type": "markdown",
   "id": "ffae9485-af92-4fdd-9247-95e6a270d342",
   "metadata": {
    "jp-MarkdownHeadingCollapsed": true,
    "tags": []
   },
   "source": [
    "## CIK to Symbol lookup\n",
    "\n",
    "Edgar filings are based on a id key.  Build a lookup to go from that CIK to stock symbols for the companies we care about"
   ]
  },
  {
   "cell_type": "code",
   "execution_count": 8,
   "id": "a52ba14b-b2d9-4774-a7df-d18176f0f512",
   "metadata": {
    "tags": []
   },
   "outputs": [
    {
     "name": "stdout",
     "output_type": "stream",
     "text": [
      "--2025-04-15 05:02:03--  https://httpbin.io/user-agent\n",
      "Resolving httpbin.io (httpbin.io)... 3.224.228.208, 44.211.11.205, 52.70.33.41\n",
      "Connecting to httpbin.io (httpbin.io)|3.224.228.208|:443... connected.\n",
      "HTTP request sent, awaiting response... 200 OK\n",
      "Length: 138 [application/json]\n",
      "Saving to: ‘user-agent.3’\n",
      "\n",
      "user-agent.3        100%[===================>]     138  --.-KB/s    in 0s      \n",
      "\n",
      "2025-04-15 05:02:03 (147 MB/s) - ‘user-agent.3’ saved [138/138]\n",
      "\n",
      "--2025-04-15 05:02:03--  https://www.sec.gov/files/company_tickers.json\n",
      "Resolving www.sec.gov (www.sec.gov)... 23.196.153.179, 2600:1409:3c00:b86::17b2, 2600:1409:3c00:b8b::17b2\n",
      "Connecting to www.sec.gov (www.sec.gov)|23.196.153.179|:443... connected.\n",
      "HTTP request sent, awaiting response... 200 OK\n",
      "Length: unspecified [application/json]\n",
      "Saving to: ‘company_tickers.json.4’\n",
      "\n",
      "company_tickers.jso     [ <=>                ] 723.08K  --.-KB/s    in 0.04s   \n",
      "\n",
      "2025-04-15 05:02:04 (19.4 MB/s) - ‘company_tickers.json.4’ saved [740434]\n",
      "\n",
      "FINISHED --2025-04-15 05:02:04--\n",
      "Total wall clock time: 0.6s\n",
      "Downloaded: 2 files, 723K in 0.04s (19.4 MB/s)\n"
     ]
    }
   ],
   "source": [
    "!wget --user-agent=\"Mozilla/5.0 (Windows NT 10.0; Win64; x64) AppleWebKit/537.36 (KHTML, like Gecko) Chrome/92.0.4515.159 Safari/537.36\" \"https://httpbin.io/user-agent\" https://www.sec.gov/files/company_tickers.json"
   ]
  },
  {
   "cell_type": "code",
   "execution_count": 9,
   "id": "0a296604-bdbe-43b3-8404-860563279e12",
   "metadata": {
    "tags": []
   },
   "outputs": [],
   "source": [
    "import json\n",
    "with open(\"company_tickers.json\") as ifp:\n",
    "    lookup = json.load(ifp)\n",
    "lookup = {item['cik_str']:item['ticker']  for key, item in lookup.items()}"
   ]
  },
  {
   "cell_type": "code",
   "execution_count": 10,
   "id": "86cc7d94-2487-4abb-80f4-1e087c8022ee",
   "metadata": {
    "tags": []
   },
   "outputs": [
    {
     "data": {
      "text/html": [
       "<div>\n",
       "<style scoped>\n",
       "    .dataframe tbody tr th:only-of-type {\n",
       "        vertical-align: middle;\n",
       "    }\n",
       "\n",
       "    .dataframe tbody tr th {\n",
       "        vertical-align: top;\n",
       "    }\n",
       "\n",
       "    .dataframe thead th {\n",
       "        text-align: right;\n",
       "    }\n",
       "</style>\n",
       "<table border=\"1\" class=\"dataframe\">\n",
       "  <thead>\n",
       "    <tr style=\"text-align: right;\">\n",
       "      <th></th>\n",
       "      <th>symbol</th>\n",
       "    </tr>\n",
       "  </thead>\n",
       "  <tbody>\n",
       "    <tr>\n",
       "      <th>320193</th>\n",
       "      <td>AAPL</td>\n",
       "    </tr>\n",
       "    <tr>\n",
       "      <th>789019</th>\n",
       "      <td>MSFT</td>\n",
       "    </tr>\n",
       "    <tr>\n",
       "      <th>1045810</th>\n",
       "      <td>NVDA</td>\n",
       "    </tr>\n",
       "    <tr>\n",
       "      <th>1018724</th>\n",
       "      <td>AMZN</td>\n",
       "    </tr>\n",
       "    <tr>\n",
       "      <th>1652044</th>\n",
       "      <td>GOOG</td>\n",
       "    </tr>\n",
       "    <tr>\n",
       "      <th>...</th>\n",
       "      <td>...</td>\n",
       "    </tr>\n",
       "    <tr>\n",
       "      <th>1839586</th>\n",
       "      <td>DMXCF</td>\n",
       "    </tr>\n",
       "    <tr>\n",
       "      <th>1663712</th>\n",
       "      <td>NRSAX</td>\n",
       "    </tr>\n",
       "    <tr>\n",
       "      <th>1762400</th>\n",
       "      <td>LVCE</td>\n",
       "    </tr>\n",
       "    <tr>\n",
       "      <th>1506721</th>\n",
       "      <td>BAFBF</td>\n",
       "    </tr>\n",
       "    <tr>\n",
       "      <th>1515001</th>\n",
       "      <td>VCMIX</td>\n",
       "    </tr>\n",
       "  </tbody>\n",
       "</table>\n",
       "<p>7629 rows × 1 columns</p>\n",
       "</div>"
      ],
      "text/plain": [
       "        symbol\n",
       "320193    AAPL\n",
       "789019    MSFT\n",
       "1045810   NVDA\n",
       "1018724   AMZN\n",
       "1652044   GOOG\n",
       "...        ...\n",
       "1839586  DMXCF\n",
       "1663712  NRSAX\n",
       "1762400   LVCE\n",
       "1506721  BAFBF\n",
       "1515001  VCMIX\n",
       "\n",
       "[7629 rows x 1 columns]"
      ]
     },
     "execution_count": 10,
     "metadata": {},
     "output_type": "execute_result"
    }
   ],
   "source": [
    "import pandas as pd\n",
    "lookup_df = pd.DataFrame.from_dict(lookup, orient='index', columns=['symbol'])\n",
    "lookup_df"
   ]
  },
  {
   "cell_type": "code",
   "execution_count": 11,
   "id": "67bae073-7e21-4652-b5bd-ed855862fa44",
   "metadata": {
    "tags": []
   },
   "outputs": [],
   "source": [
    "lookup_df.to_csv('symbol_lookup.csv', index=True, header=False)"
   ]
  },
  {
   "cell_type": "code",
   "execution_count": 12,
   "id": "2fd81431-0c16-4f8b-a2d3-000df1e0b29e",
   "metadata": {
    "tags": []
   },
   "outputs": [
    {
     "name": "stdout",
     "output_type": "stream",
     "text": [
      "320193,AAPL\n",
      "789019,MSFT\n",
      "1045810,NVDA\n"
     ]
    }
   ],
   "source": [
    "!head -3 symbol_lookup.csv"
   ]
  },
  {
   "cell_type": "markdown",
   "id": "443ac1b3-81f1-4ca1-acbd-c19639ed780b",
   "metadata": {},
   "source": [
    "## Initial set of questions\n",
    "\n",
    "From a single filing, create a set of questions.\n",
    "These will form the base instructions that we will evolve to make them harder."
   ]
  },
  {
   "cell_type": "markdown",
   "id": "8e7ac4e9-68e7-48f4-be5e-89e93afa0c0a",
   "metadata": {
    "jp-MarkdownHeadingCollapsed": true,
    "tags": []
   },
   "source": [
    "### CIK -> Symbol so that we can expand synonyms"
   ]
  },
  {
   "cell_type": "code",
   "execution_count": 13,
   "id": "b897f42b-71a2-4f3f-a6b5-183e8ab8890a",
   "metadata": {
    "tags": []
   },
   "outputs": [
    {
     "data": {
      "text/html": [
       "<div>\n",
       "<style scoped>\n",
       "    .dataframe tbody tr th:only-of-type {\n",
       "        vertical-align: middle;\n",
       "    }\n",
       "\n",
       "    .dataframe tbody tr th {\n",
       "        vertical-align: top;\n",
       "    }\n",
       "\n",
       "    .dataframe thead th {\n",
       "        text-align: right;\n",
       "    }\n",
       "</style>\n",
       "<table border=\"1\" class=\"dataframe\">\n",
       "  <thead>\n",
       "    <tr style=\"text-align: right;\">\n",
       "      <th></th>\n",
       "      <th>cik</th>\n",
       "      <th>symbol</th>\n",
       "    </tr>\n",
       "  </thead>\n",
       "  <tbody>\n",
       "    <tr>\n",
       "      <th>0</th>\n",
       "      <td>320193</td>\n",
       "      <td>AAPL</td>\n",
       "    </tr>\n",
       "    <tr>\n",
       "      <th>1</th>\n",
       "      <td>789019</td>\n",
       "      <td>MSFT</td>\n",
       "    </tr>\n",
       "    <tr>\n",
       "      <th>2</th>\n",
       "      <td>1045810</td>\n",
       "      <td>NVDA</td>\n",
       "    </tr>\n",
       "    <tr>\n",
       "      <th>3</th>\n",
       "      <td>1018724</td>\n",
       "      <td>AMZN</td>\n",
       "    </tr>\n",
       "    <tr>\n",
       "      <th>4</th>\n",
       "      <td>1652044</td>\n",
       "      <td>GOOG</td>\n",
       "    </tr>\n",
       "    <tr>\n",
       "      <th>...</th>\n",
       "      <td>...</td>\n",
       "      <td>...</td>\n",
       "    </tr>\n",
       "    <tr>\n",
       "      <th>7624</th>\n",
       "      <td>1839586</td>\n",
       "      <td>DMXCF</td>\n",
       "    </tr>\n",
       "    <tr>\n",
       "      <th>7625</th>\n",
       "      <td>1663712</td>\n",
       "      <td>NRSAX</td>\n",
       "    </tr>\n",
       "    <tr>\n",
       "      <th>7626</th>\n",
       "      <td>1762400</td>\n",
       "      <td>LVCE</td>\n",
       "    </tr>\n",
       "    <tr>\n",
       "      <th>7627</th>\n",
       "      <td>1506721</td>\n",
       "      <td>BAFBF</td>\n",
       "    </tr>\n",
       "    <tr>\n",
       "      <th>7628</th>\n",
       "      <td>1515001</td>\n",
       "      <td>VCMIX</td>\n",
       "    </tr>\n",
       "  </tbody>\n",
       "</table>\n",
       "<p>7629 rows × 2 columns</p>\n",
       "</div>"
      ],
      "text/plain": [
       "          cik symbol\n",
       "0      320193   AAPL\n",
       "1      789019   MSFT\n",
       "2     1045810   NVDA\n",
       "3     1018724   AMZN\n",
       "4     1652044   GOOG\n",
       "...       ...    ...\n",
       "7624  1839586  DMXCF\n",
       "7625  1663712  NRSAX\n",
       "7626  1762400   LVCE\n",
       "7627  1506721  BAFBF\n",
       "7628  1515001  VCMIX\n",
       "\n",
       "[7629 rows x 2 columns]"
      ]
     },
     "execution_count": 13,
     "metadata": {},
     "output_type": "execute_result"
    }
   ],
   "source": [
    "import pandas as pd\n",
    "lookup_df = pd.read_csv('symbol_lookup.csv', names=['cik', 'symbol'])\n",
    "lookup_df"
   ]
  },
  {
   "cell_type": "markdown",
   "id": "b351b72a-08c2-4263-aa2e-7d82415e6a4d",
   "metadata": {
    "tags": []
   },
   "source": [
    "### Create initial questions.\n",
    "\n",
    "Take on the role of a business school prof"
   ]
  },
  {
   "cell_type": "code",
   "execution_count": 14,
   "id": "2f17b17c-8806-4bf3-9dbd-a28d40a24659",
   "metadata": {
    "tags": []
   },
   "outputs": [],
   "source": [
    "from typing import List\n",
    "from pydantic_ai import Agent\n",
    "\n",
    "def create_questions(filing, key, num_questions=3, model_id=GEMINI) -> List[str]:\n",
    "    symbol = lookup_df[lookup_df['cik'] == int(filing['cik'])]['symbol'].values[0]\n",
    "    system_prompt=f\"\"\"\n",
    "    You are a professor in a MBA program.\n",
    "    You will be given a passage from a SEC filing from {filing['company']} (symbol: {symbol}) made on {filing['filing_date']}\n",
    "    Create {num_questions} analytical questions suitable for students of a class on company strategy based on this filing.\n",
    "    \n",
    "    Good questions should be:\n",
    "    * Standalone. For example, make sure the question includes the name of the company, product, and year being referenced.\n",
    "    * Avoid asking for factual numerical information such as revenue or capital expenditures\n",
    "    * Ask \"how\", \"why\", \"compare\", etc.\n",
    "    \n",
    "    Example question: How might Google's (GOOG) reorganization of its hardware divisions affect its ability to grow Pixel phones' marketshare in 2023?\"\n",
    "    \"\"\".strip()\n",
    "    agent = Agent(model_id, \n",
    "                  result_type=List[str],\n",
    "                  system_prompt=system_prompt)\n",
    "    result = agent.run_sync(filing[key])\n",
    "    return (result.data)"
   ]
  },
  {
   "cell_type": "code",
   "execution_count": 15,
   "id": "65a3db1c-f14e-41d0-8df9-a35d1dc51d7c",
   "metadata": {
    "tags": []
   },
   "outputs": [
    {
     "name": "stdout",
     "output_type": "stream",
     "text": [
      "dict_keys(['cik', 'company', 'filing_type', 'filing_date', 'period_of_report', 'sic', 'state_of_inc', 'state_location', 'fiscal_year_end', 'filing_html_index', 'htm_filing_link', 'complete_text_filing_link', 'filename', 'item_1', 'item_1A', 'item_1B', 'item_1C', 'item_2', 'item_3', 'item_4', 'item_5', 'item_6', 'item_7', 'item_7A', 'item_8', 'item_9', 'item_9A', 'item_9B', 'item_9C', 'item_10', 'item_11', 'item_12', 'item_13', 'item_14', 'item_15', 'item_16'])\n"
     ]
    }
   ],
   "source": [
    "import json\n",
    "with open(\"edgar-crawler/datasets/EXTRACTED_FILINGS/10-K/2969_10K_2021_0000002969-21-000055.json\") as ifp:\n",
    "    filing = json.load(ifp)\n",
    "    print(filing.keys())"
   ]
  },
  {
   "cell_type": "code",
   "execution_count": 16,
   "id": "2fa4025f-0869-47ec-b860-9c5c77a38de6",
   "metadata": {},
   "outputs": [
    {
     "data": {
      "text/plain": [
       "['Here are 3 analytical questions based on the provided SEC filing from AIR PRODUCTS & CHEMICALS INC /DE/ (APD) made on 2021-11-18:',\n",
       " \"1. How might Air Products' (APD) strategic focus on gasification, carbon capture, and hydrogen projects, as highlighted in the 2021 summary, influence its competitive positioning relative to peers in the industrial gases market in the long term?\",\n",
       " \"2. Considering the reorganization of Air Products' (APD) industrial gases segments effective October 1, 2021, how could this restructuring impact the company's ability to efficiently allocate resources and respond to regional market dynamics within the Americas, EMEA, and Asia?\",\n",
       " \"3. Given Air Products' (APD) emphasis on passing through higher energy and natural gas costs to customers, as mentioned in the 2021 results, how might this pricing strategy affect customer relationships and demand for its products and services, especially in price-sensitive markets or during periods of economic downturn?\"]"
      ]
     },
     "execution_count": 16,
     "metadata": {},
     "output_type": "execute_result"
    }
   ],
   "source": [
    "questions = create_questions(filing, 'item_7') # management discussion\n",
    "questions"
   ]
  },
  {
   "cell_type": "markdown",
   "id": "9927f9ce-4dc1-4667-ab7e-7e154b4367a6",
   "metadata": {
    "tags": []
   },
   "source": [
    "### Write answers to the questions\n",
    "\n",
    "Take on the role of a business school student"
   ]
  },
  {
   "cell_type": "code",
   "execution_count": 17,
   "id": "f631e69f-f92a-4cd9-b07e-4e351ff40610",
   "metadata": {
    "tags": []
   },
   "outputs": [
    {
     "data": {
      "text/plain": [
       "[QuestionAnswer(question=\"How might Air Products' (APD) strategic focus on gasification, carbon capture, and hydrogen projects, as highlighted in the 2021 summary, influence its competitive positioning relative to peers in the industrial gases market in the long term?\", answer=\"Air Products' strategic focus on gasification, carbon capture, and hydrogen projects will likely strengthen its competitive positioning by aligning with the growing demand for sustainable solutions. This focus allows APD to differentiate itself and capture market share in emerging clean energy sectors, potentially leading to long-term growth and increased profitability compared to competitors with less emphasis on these areas.\"),\n",
       " QuestionAnswer(question=\"Considering the reorganization of Air Products' (APD) industrial gases segments effective October 1, 2021, how could this restructuring impact the company's ability to efficiently allocate resources and respond to regional market dynamics within the Americas, EMEA, and Asia?\", answer=\"The reorganization of Air Products' industrial gases segments aims to improve resource allocation and responsiveness to regional markets. By creating dedicated segments for the Americas, EMEA, and Asia, APD can tailor its strategies and operations to better address specific regional needs and opportunities, potentially leading to improved efficiency and market penetration.\"),\n",
       " QuestionAnswer(question=\"Given Air Products' (APD) emphasis on passing through higher energy and natural gas costs to customers, as mentioned in the 2021 results, how might this pricing strategy affect customer relationships and demand for its products and services, especially in price-sensitive markets or during periods of economic downturn?\", answer=\"Passing through higher energy and natural gas costs to customers could strain customer relationships and reduce demand, especially in price-sensitive markets or during economic downturns. While necessary to maintain profitability, this strategy might incentivize customers to seek alternative suppliers or reduce consumption, potentially impacting Air Products' revenue and market share in the short term.\")]"
      ]
     },
     "execution_count": 17,
     "metadata": {},
     "output_type": "execute_result"
    }
   ],
   "source": [
    "def write_answers(questions, filing, model_id=GEMINI) -> List[QuestionAnswer]:\n",
    "    system_prompt=f\"\"\"\n",
    "    You are a top student in a highly-ranked MBA program.\n",
    "    You will be given an SEC filing from {filing['company']} made on {filing['filing_date']}\n",
    "    Use that filing to answer the following questions.\n",
    "    Each answer should be 2-3 sentences and be informed by your market insights and knowledge of business strategy.\n",
    "    \n",
    "    Do NOT number the questions or answers.\n",
    "    \"\"\".strip()\n",
    "    agent = Agent(model_id, \n",
    "                  result_type=List[QuestionAnswer],\n",
    "                  system_prompt=system_prompt)\n",
    "    \n",
    "    prompt = \"\\n\".join([f\"Question {idx+1}: {question}\" for idx, question in enumerate(questions)])\n",
    "    result = agent.run_sync(prompt)\n",
    "    return result.data\n",
    "\n",
    "answers = write_answers(questions, filing)\n",
    "answers"
   ]
  },
  {
   "cell_type": "markdown",
   "id": "64460fce-baad-4eb2-977c-046612ac7caf",
   "metadata": {},
   "source": [
    "## Prompt Rewriting\n",
    "\n",
    "Evolve an instruction by rewriting the prompt"
   ]
  },
  {
   "cell_type": "code",
   "execution_count": 18,
   "id": "6338e716-c290-4525-81be-0e6872f22fff",
   "metadata": {
    "tags": []
   },
   "outputs": [
    {
     "data": {
      "text/plain": [
       "[\"1. Considering current trends of increased environmental regulations and competitor investments in green technologies, how might Air Products' (APD) strategic focus on gasification, carbon capture, and hydrogen projects influence its competitive positioning if a major carbon capture project faces significant cost overruns and delays?\",\n",
       " \"2. If a key acquisition target in Asia falls through, how would the reorganization of Air Products' (APD) industrial gases segments impact the company's ability to efficiently allocate resources and respond to regional market dynamics, particularly in offsetting the anticipated growth from the Asian market?\",\n",
       " \"3. In a scenario where a global recession leads to decreased industrial production and a major competitor initiates a price war, how might Air Products' (APD) strategy of passing through higher energy and natural gas costs to customers affect customer retention and overall demand, specifically among small to medium-sized enterprises with limited bargaining power?\",\n",
       " \"1. What are three potential long-term benefits and risks for Air Products' (APD) competitive positioning from its strategic focus on gasification, carbon capture, and hydrogen projects?\",\n",
       " \"2. Detail the steps through which the reorganization of Air Products' (APD) industrial gases segments could improve or hinder resource allocation efficiency and responsiveness to regional market dynamics in the Americas, EMEA, and Asia.\",\n",
       " \"3. Why might Air Products' (APD) decision to pass through higher energy and natural gas costs to customers not fully compensate for increased expenses, and how could this impact profitability in different market segments?\",\n",
       " \"1. How might Air Products' (APD) focus on gasification/hydrogen and passing through higher costs influence its long-term competitive positioning and customer demand?\",\n",
       " \"2. How could APD's industrial gases segments' reorganization affect resource allocation and ability to respond to regional markets, considering its gasification/hydrogen strategic focus?\",\n",
       " \"3. Considering APD's emphasis on passing through higher costs and its industrial gases segments' reorganization, how might this impact customer relationships and resource allocation?\",\n",
       " \"4. How might APD's strategic focus on gasification/hydrogen and its industrial gases segments' reorganization influence its competitive positioning and ability to respond to regional markets?\"]"
      ]
     },
     "execution_count": 18,
     "metadata": {},
     "output_type": "execute_result"
    }
   ],
   "source": [
    "def evolve_instructions(questions: List[str], num_extra_questions: int, model_id=GEMINI) -> List[str]:\n",
    "    system_prompts = []\n",
    "\n",
    "    # Make it deeper\n",
    "    num_to_generate = num_extra_questions // 3\n",
    "    system_prompts.append(f\"\"\"\n",
    "    Your are creating questions for an extremely hard exam for a class on business strategy.\n",
    "    Your objective is to create {num_to_generate} harder versions of the given questions so that it requires greater skills on the part of the student. \n",
    "    Ways in which you can make the question harder:\n",
    "    * Add constraints based on current market conditions and competitor actions\n",
    "    * Add hypotheticals such as potential cost overruns or an acquistion failing to take place\n",
    "    Do not make the question itself more verbose. It should be approximately the same length as the original question.\n",
    "    \n",
    "    Harder questions:\n",
    "    \"\"\".strip())\n",
    "    \n",
    "    # Make it more concrete\n",
    "    system_prompts.append(f\"\"\"\n",
    "    Your are creating questions for an extremely hard exam for a class on business strategy.\n",
    "    Your objective is to create {num_to_generate} more concrete versions of the given questions so that they require greater grasp of the details. \n",
    "    Ways in which you can make the question harder:\n",
    "    * Instead of asking \"why\", ask for 3 reasons why\n",
    "    * Instead of asking \"how\", ask for the steps\n",
    "    * Ask why a specific outcome is not larger or smaller\n",
    "    Do not make the question itself more verbose. It should be approximately the same length as the original question.\n",
    "        \n",
    "    Harder questions:\n",
    "    \"\"\".strip())    \n",
    "    \n",
    "    # Make it require more reasoning\n",
    "    system_prompts.append(f\"\"\"\n",
    "    Your are creating questions for an extremely hard exam for a class on business strategy.\n",
    "    Your objective is to create {num_extra_questions - 2*num_to_generate} more multi-step reasoning versions of the given questions. \n",
    "    Combine two of the questions so that both questions have to be answered implicitly in order to answer the given question.\n",
    "    The combined question should be no more than 10 words longer than the original question.\n",
    "        \n",
    "    Harder questions:\n",
    "    \"\"\".strip()) \n",
    "    \n",
    "    extra_questions = []\n",
    "    for system_prompt in system_prompts:\n",
    "        agent = Agent(model_id, result_type=List[str], system_prompt=system_prompt)\n",
    "        prompt = \"\\n\".join([f\"Question {idx+1}: {question}\" for idx, question in enumerate(questions)])\n",
    "        result = agent.run_sync(prompt)\n",
    "        extra_questions.extend(result.data)\n",
    "        \n",
    "    return extra_questions\n",
    "\n",
    "evolve_instructions(questions, 10) "
   ]
  },
  {
   "cell_type": "markdown",
   "id": "851c8e8b-18b3-48e1-aa2a-68beb1ee8058",
   "metadata": {
    "tags": []
   },
   "source": [
    "## Put it all together"
   ]
  },
  {
   "cell_type": "code",
   "execution_count": 19,
   "id": "58a9b420-9a08-468d-bb9c-df8264bc53bc",
   "metadata": {
    "tags": []
   },
   "outputs": [],
   "source": [
    "def generate_question_answers(filename) -> List[QuestionAnswer]:\n",
    "    import json\n",
    "    with open(filename) as ifp:\n",
    "        filing = json.load(ifp)\n",
    "    questions = create_questions(filing, key='item_7', num_questions=3) # management discussion\n",
    "    extra_questions = evolve_instructions(questions, num_extra_questions=10)\n",
    "    questions.extend(extra_questions)\n",
    "    return write_answers(questions, filing)"
   ]
  },
  {
   "cell_type": "code",
   "execution_count": 26,
   "id": "a90bcfc8-cd38-45b6-a353-51d4c65d84bf",
   "metadata": {},
   "outputs": [
    {
     "data": {
      "text/plain": [
       "[QuestionAnswer(question='In 2022, AMD acquired Xilinx and Pensando. How might AMD leverage these acquisitions to create bundled product offerings or integrated solutions that address a broader range of customer needs, especially in the data center and embedded systems markets?', answer=\"AMD can leverage the Xilinx and Pensando acquisitions by offering integrated solutions that combine AMD CPUs/GPUs with Xilinx FPGAs and Pensando's data processing units (DPUs). This allows them to provide customized, high-performance solutions for specific workloads like AI inference, network acceleration, and storage processing, targeting data center operators looking for optimized infrastructure. These bundled solutions can provide greater value and performance than individual components, strengthening AMD's position against competitors.\"),\n",
       " QuestionAnswer(question=\"AMD's Client segment experienced a revenue decrease in 2022 due to a weak PC market. How could AMD diversify its Client segment product offerings or target specific niche markets within the PC industry to mitigate the impact of overall market fluctuations and inventory corrections?\", answer='To mitigate the impact of a weak PC market, AMD could focus on high-margin segments like gaming laptops and professional workstations, tailoring its Ryzen processors and Radeon GPUs to meet the specific needs of these users. Additionally, AMD can explore opportunities in emerging markets or specialized applications like industrial PCs or embedded systems to reduce reliance on the broader consumer PC market. Finally, investing in software and platform solutions can add value and differentiation.'),\n",
       " QuestionAnswer(question=\"AMD's gross margin decreased in 2022 due to amortization of intangible assets from the Xilinx acquisition. How can AMD improve its gross margin in the long term, considering the impact of acquisition-related costs and the competitive pressures in the semiconductor industry?\", answer='To improve its gross margin, AMD needs to focus on cost optimization across its supply chain, negotiate better pricing with manufacturing partners, and streamline its operations to reduce overhead. Simultaneously, they should prioritize product innovation, focusing on high-margin products and technologies to command premium pricing and differentiate themselves from competitors. AMD can also look into optimizing its product mix by focusing on higher-margin segments like data center and embedded systems.'),\n",
       " QuestionAnswer(question='In 2024, amidst escalating US-China trade tensions and potential export restrictions, how might AMD leverage its Xilinx and Pensando acquisitions to create bundled product offerings for the data center market, assuming a major competitor launches a disruptive, low-cost alternative?', answer='In a scenario with escalating US-China trade tensions and a low-cost competitor, AMD can leverage its Xilinx and Pensando acquisitions to create highly differentiated, customizable solutions for the data center market. By integrating AMD CPUs/GPUs with Xilinx FPGAs and Pensando DPUs, AMD can offer optimized solutions for specific workloads, such as AI and networking, which would be difficult for competitors to replicate quickly. AMD can also emphasize the security and reliability of its products to appeal to customers concerned about geopolitical risks.'),\n",
       " QuestionAnswer(question='Considering a projected continuation of weak PC demand through 2025 and increasing competition from ARM-based processors, how could AMD diversify its Client segment, focusing on niche markets like high-performance laptops for AI development, while also facing potential component supply chain disruptions?', answer='To diversify its Client segment amid weak PC demand and ARM competition, AMD could focus on high-performance laptops for AI development, leveraging its CPU and GPU capabilities. AMD should also explore partnerships with software vendors to optimize its hardware for AI workloads. Mitigating supply chain disruptions can be achieved by diversifying suppliers and building strategic inventory reserves.'),\n",
       " QuestionAnswer(question='Given a scenario where acquisition-related costs remain high and a key manufacturing partner experiences significant production delays, what strategies can AMD employ to improve its gross margin, balancing the need for innovation with cost control, and potentially divesting underperforming segments?', answer='To improve gross margin with high acquisition costs and production delays, AMD should implement rigorous cost control measures, focusing on optimizing manufacturing processes and reducing operational expenses. Prioritizing R&D investments in high-margin products and exploring strategic partnerships to share development costs can also help. Divesting underperforming segments might be necessary to streamline operations and focus on core strengths.'),\n",
       " QuestionAnswer(question='List three specific ways AMD might leverage the Xilinx and Pensando acquisitions for bundled offerings in data centers.', answer='AMD could offer pre-configured solutions combining AMD CPUs, Xilinx FPGAs, and Pensando DPUs for specific data center workloads like AI inference or network acceleration. They can create customizable platforms that allow data center operators to tailor solutions to their unique needs. AMD could also develop integrated hardware and software stacks that simplify deployment and management for data center customers.'),\n",
       " QuestionAnswer(question='Besides diversification, what three targeted strategies can AMD employ to stabilize its Client segment against PC market volatility?', answer='AMD can target gaming and enthusiast sub-segments within the PC market, focusing on high-performance processors and graphics cards. AMD should also invest in developing energy-efficient processors for the mobile computing market to appeal to a broader range of consumers. Increasing their presence in emerging markets where PC demand is still growing can help offset declines in mature markets.'),\n",
       " QuestionAnswer(question='Beyond cost management, what are three strategic approaches AMD can take to improve its gross margin despite amortization and semiconductor competition?', answer='AMD can shift towards a product mix that emphasizes higher-margin products and segments, such as data center and embedded systems. It can also improve operational efficiency by optimizing manufacturing processes, reducing waste, and streamlining supply chains. Strategic pricing that reflects the value and performance of AMD products can help maintain margins even in competitive markets.'),\n",
       " QuestionAnswer(question=\"Considering AMD's acquisitions and the weak PC market, how can AMD create bundled product offerings to address customer needs and diversify its client segment?\", answer='AMD can create bundled product offerings by combining its CPUs/GPUs with Xilinx FPGAs and Pensando DPUs to provide integrated solutions for data centers and embedded systems. To diversify its client segment, AMD can target niche markets like gaming laptops, professional workstations, and industrial PCs, tailoring its products to specific customer needs.'),\n",
       " QuestionAnswer(question=\"With AMD's acquisitions and decreased gross margin, how can AMD leverage integrated solutions to improve its gross margin in the long term?\", answer='AMD can leverage integrated solutions by offering complete hardware and software stacks that combine its CPUs/GPUs with Xilinx FPGAs and Pensando DPUs, optimizing performance and efficiency for specific workloads. Focusing on high-margin products and technologies, such as data center solutions and advanced embedded systems, will also help improve its gross margin. By streamlining operations and negotiating better pricing with suppliers, AMD can further enhance its profitability.'),\n",
       " QuestionAnswer(question=\"Given AMD's acquisitions and the competitive semiconductor industry, how might they leverage these acquisitions to improve gross margin while addressing a broader range of customer needs?\", answer='AMD can leverage its acquisitions to create optimized solutions for data centers and embedded systems, addressing the increasing demand for high-performance computing. They can also focus on developing innovative technologies and products that command premium pricing, differentiating themselves from competitors. By streamlining operations, negotiating better pricing, and optimizing its product mix, AMD can enhance its profitability and improve its competitive position.'),\n",
       " QuestionAnswer(question=\"Considering AMD's client segment revenue decrease and gross margin decrease, how could AMD diversify its offerings to mitigate market fluctuations and improve gross margin long term?\", answer='AMD could diversify its offerings by targeting high-margin segments like gaming laptops, professional workstations, and embedded systems, focusing on specialized solutions. AMD can also reduce operational costs by optimizing its manufacturing processes and negotiating better terms with suppliers. This will require investing in R&D for innovative technologies to command premium pricing.')]"
      ]
     },
     "execution_count": 26,
     "metadata": {},
     "output_type": "execute_result"
    }
   ],
   "source": [
    "generate_question_answers(\"edgar-crawler/datasets/EXTRACTED_FILINGS/10-K/2488_10K_2022_0000002488-23-000047.json\")"
   ]
  },
  {
   "cell_type": "markdown",
   "id": "ed61ee0a-30a5-41bd-a77e-a1a6d2521d15",
   "metadata": {},
   "source": [
    "## Create supervised training dataset\n"
   ]
  },
  {
   "cell_type": "code",
   "execution_count": 24,
   "id": "e11ef9ce-bf9d-4873-93ad-a5e091ce1e2e",
   "metadata": {
    "tags": []
   },
   "outputs": [
    {
     "name": "stdout",
     "output_type": "stream",
     "text": [
      "Generating question-answer pairs from 1124 filings\n",
      "1->13 examples generated\n",
      "11->114 examples generated\n",
      "21->234 examples generated\n",
      "31->325 examples generated\n",
      "41->433 examples generated\n",
      "51->512 examples generated\n",
      "61->612 examples generated\n",
      "71->683 examples generated\n",
      "81->786 examples generated\n",
      "91->874 examples generated\n",
      "101->992 examples generated\n",
      "111->1114 examples generated\n",
      "121->1232 examples generated\n",
      "131->1342 examples generated\n",
      "141->1457 examples generated\n",
      "151->1567 examples generated\n",
      "161->1638 examples generated\n",
      "171->1729 examples generated\n",
      "181->1847 examples generated\n",
      "191->1927 examples generated\n",
      "201->2042 examples generated\n",
      "211->2144 examples generated\n",
      "221->2233 examples generated\n",
      "231->2342 examples generated\n",
      "241->2452 examples generated\n",
      "251->2567 examples generated\n",
      "261->2667 examples generated\n",
      "271->2763 examples generated\n",
      "281->2860 examples generated\n",
      "291->2940 examples generated\n",
      "301->3037 examples generated\n",
      "311->3146 examples generated\n",
      "321->3227 examples generated\n",
      "331->3337 examples generated\n",
      "341->3450 examples generated\n",
      "351->3536 examples generated\n",
      "361->3656 examples generated\n",
      "371->3771 examples generated\n",
      "381->3879 examples generated\n",
      "391->4007 examples generated\n",
      "401->4099 examples generated\n",
      "411->4214 examples generated\n",
      "421->4330 examples generated\n",
      "431->4426 examples generated\n",
      "441->4525 examples generated\n",
      "451->4625 examples generated\n",
      "461->4755 examples generated\n",
      "471->4835 examples generated\n",
      "481->4952 examples generated\n",
      "491->5049 examples generated\n",
      "501->5145 examples generated\n",
      "511->5255 examples generated\n",
      "521->5359 examples generated\n",
      "531->5469 examples generated\n",
      "541->5562 examples generated\n",
      "551->5673 examples generated\n",
      "561->5793 examples generated\n",
      "571->5896 examples generated\n",
      "581->5996 examples generated\n",
      "591->6059 examples generated\n",
      "601->6152 examples generated\n",
      "611->6271 examples generated\n",
      "621->6378 examples generated\n",
      "631->6487 examples generated\n",
      "641->6586 examples generated\n",
      "651->6683 examples generated\n",
      "661->6784 examples generated\n",
      "671->6888 examples generated\n",
      "681->6995 examples generated\n",
      "691->7080 examples generated\n",
      "701->7196 examples generated\n",
      "711->7295 examples generated\n",
      "721->7397 examples generated\n",
      "731->7514 examples generated\n",
      "741->7625 examples generated\n",
      "751->7723 examples generated\n",
      "761->7825 examples generated\n",
      "771->7933 examples generated\n",
      "781->8034 examples generated\n",
      "791->8131 examples generated\n",
      "801->8233 examples generated\n",
      "811->8343 examples generated\n",
      "821->8439 examples generated\n",
      "831->8533 examples generated\n",
      "841->8660 examples generated\n",
      "851->8777 examples generated\n",
      "861->8884 examples generated\n",
      "871->8984 examples generated\n",
      "881->9057 examples generated\n",
      "891->9176 examples generated\n",
      "901->9295 examples generated\n",
      "911->9381 examples generated\n",
      "921->9478 examples generated\n",
      "931->9577 examples generated\n",
      "941->9679 examples generated\n",
      "951->9762 examples generated\n",
      "961->9876 examples generated\n",
      "971->9972 examples generated\n",
      "981->10074 examples generated\n",
      "991->10166 examples generated\n",
      "1001->10269 examples generated\n",
      "1011->10385 examples generated\n",
      "1021->10468 examples generated\n",
      "1031->10588 examples generated\n",
      "1041->10703 examples generated\n",
      "1051->10822 examples generated\n",
      "1061->10925 examples generated\n",
      "1071->11047 examples generated\n",
      "1081->11140 examples generated\n",
      "1091->11240 examples generated\n",
      "1101->11345 examples generated\n",
      "1111->11442 examples generated\n",
      "1121->11560 examples generated\n"
     ]
    }
   ],
   "source": [
    "import glob\n",
    "from multiprocessing.pool import ThreadPool\n",
    "\n",
    "filenames = [filepath for filepath in glob.iglob('edgar-crawler/datasets/EXTRACTED_FILINGS/10-K/*.json')]\n",
    "print(f\"Generating question-answer pairs from {len(filenames)} filings\")\n",
    "\n",
    "def threaded_task(filename: str) -> List[QuestionAnswer]:\n",
    "    try:\n",
    "        return generate_question_answers(filename)\n",
    "    except:\n",
    "        return []\n",
    "\n",
    "def save_to_file(qas: List[QuestionAnswer], filename: str):\n",
    "    with open(filename, \"w\") as ofp:\n",
    "        for qa in qas:\n",
    "            json.dump({\n",
    "                \"question\": qa.question,\n",
    "                \"answer\": qa.answer\n",
    "            }, ofp)\n",
    "            ofp.write(\"\\n\")\n",
    "    \n",
    "question_answers = []\n",
    "with ThreadPool() as tpool:\n",
    "    completed = 0\n",
    "    for qas in tpool.imap_unordered(threaded_task, filenames):\n",
    "        question_answers.extend(qas)\n",
    "        completed += 1\n",
    "        if completed%10 == 1:\n",
    "            print(f\"{completed}->{len(question_answers)} examples generated\")\n",
    "            # save progress ...\n",
    "            save_to_file(question_answers, \"generated_qas.json\")"
   ]
  },
  {
   "cell_type": "code",
   "execution_count": 25,
   "id": "d2a49847-6263-408a-93ff-56b6596f43c8",
   "metadata": {},
   "outputs": [],
   "source": [
    "# final ...\n",
    "save_to_file(question_answers, \"generated_qas.json\")"
   ]
  },
  {
   "cell_type": "code",
   "execution_count": null,
   "id": "af9d7878-c649-4659-9b02-7e2c8eea1e02",
   "metadata": {},
   "outputs": [],
   "source": []
  }
 ],
 "metadata": {
  "environment": {
   "kernel": "conda-base-py",
   "name": "workbench-notebooks.m126",
   "type": "gcloud",
   "uri": "us-docker.pkg.dev/deeplearning-platform-release/gcr.io/workbench-notebooks:m126"
  },
  "kernelspec": {
   "display_name": "Python 3 (ipykernel) (Local)",
   "language": "python",
   "name": "conda-base-py"
  },
  "language_info": {
   "codemirror_mode": {
    "name": "ipython",
    "version": 3
   },
   "file_extension": ".py",
   "mimetype": "text/x-python",
   "name": "python",
   "nbconvert_exporter": "python",
   "pygments_lexer": "ipython3",
   "version": "3.10.15"
  }
 },
 "nbformat": 4,
 "nbformat_minor": 5
}
