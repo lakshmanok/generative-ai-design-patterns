{
 "cells": [
  {
   "cell_type": "markdown",
   "id": "00a2db13-fb78-453a-b9e6-75e3c568e453",
   "metadata": {},
   "source": [
    "# Evol Instruct\n",
    "\n",
    "Demonstrates using Evol Instruct to create hard instructions (questions) starting from a set of simple instructions.\n",
    "Models trained on datasets with hard problems might perform better."
   ]
  },
  {
   "cell_type": "code",
   "execution_count": 1,
   "id": "0264c136-dd55-457e-96a2-6df0c26f7a08",
   "metadata": {
    "tags": []
   },
   "outputs": [],
   "source": [
    "#%pip install --upgrade --quiet pydantic-ai-slim[anthropic,openai]"
   ]
  },
  {
   "cell_type": "code",
   "execution_count": 1,
   "id": "28fb9619-572b-4c6e-8f64-3c0252075834",
   "metadata": {
    "tags": []
   },
   "outputs": [],
   "source": [
    "MODEL_ID=\"gemini-2.0-flash\"\n",
    "\n",
    "import os\n",
    "from dotenv import load_dotenv\n",
    "load_dotenv(\"../keys.env\")\n",
    "assert os.environ[\"GEMINI_API_KEY\"][:2] == \"AI\",\\\n",
    "       \"Please specify the GEMINI_API_KEY access token in keys.env file\""
   ]
  },
  {
   "cell_type": "code",
   "execution_count": 2,
   "id": "3ef18244-ec11-4c74-a42c-ff1f07d6ff83",
   "metadata": {
    "tags": []
   },
   "outputs": [],
   "source": [
    "# Needed in Jupyter environment See: https://ai.pydantic.dev/troubleshooting/ \n",
    "import nest_asyncio\n",
    "nest_asyncio.apply()"
   ]
  },
  {
   "cell_type": "markdown",
   "id": "73b2fb77-8058-4748-ad96-bd3cbb2ccedd",
   "metadata": {
    "tags": []
   },
   "source": [
    "### Define a dataclass for Questions and Answers\n",
    "The class does some minor wrangling to remove numbering from questions"
   ]
  },
  {
   "cell_type": "code",
   "execution_count": 31,
   "id": "ab604830-a732-4bc8-93a8-a0b52be3ce20",
   "metadata": {
    "tags": []
   },
   "outputs": [],
   "source": [
    "from dataclasses import dataclass\n",
    "import re\n",
    "\n",
    "def strip_numbering(s: str) -> str:\n",
    "    pattern = r\"^[Question|Answer ]*\\d+[\\.:]\\s+\" # remove numbering from strings\n",
    "    return re.sub(pattern, \"\", s)\n",
    "\n",
    "@dataclass\n",
    "class QuestionAnswer:\n",
    "    question: str\n",
    "    answer: str\n",
    "    \n",
    "    def __init__(self, question, answer):\n",
    "        self.question = strip_numbering(question)\n",
    "        self.answer = strip_numbering(answer)\n",
    "        \n",
    "    def strip_numbering(self) -> QuestionAnswer:\n",
    "        return QuestionAnswer(self.question, self.answer)"
   ]
  },
  {
   "cell_type": "code",
   "execution_count": 32,
   "id": "65956661-1988-439e-a419-7ff3f58dd705",
   "metadata": {
    "tags": []
   },
   "outputs": [
    {
     "data": {
      "text/plain": [
       "QuestionAnswer(question='some question', answer='some answer')"
      ]
     },
     "execution_count": 32,
     "metadata": {},
     "output_type": "execute_result"
    }
   ],
   "source": [
    "QuestionAnswer(\"1. some question\", \"1. some answer\")"
   ]
  },
  {
   "cell_type": "code",
   "execution_count": 33,
   "id": "2743989c-2ab0-478c-859c-e1cf7e5ba20d",
   "metadata": {
    "tags": []
   },
   "outputs": [
    {
     "data": {
      "text/plain": [
       "QuestionAnswer(question='some question', answer='some answer')"
      ]
     },
     "execution_count": 33,
     "metadata": {},
     "output_type": "execute_result"
    }
   ],
   "source": [
    "QuestionAnswer(\"Question 1. some question\", \"Answer 1. some answer\")"
   ]
  },
  {
   "cell_type": "code",
   "execution_count": 34,
   "id": "e730ab4a-7387-49e9-8862-d6ef1171f91a",
   "metadata": {
    "tags": []
   },
   "outputs": [
    {
     "data": {
      "text/plain": [
       "QuestionAnswer(question='some question', answer='some answer')"
      ]
     },
     "execution_count": 34,
     "metadata": {},
     "output_type": "execute_result"
    }
   ],
   "source": [
    "QuestionAnswer(\"some question\", \"some answer\")"
   ]
  },
  {
   "cell_type": "code",
   "execution_count": 35,
   "id": "8e90f7af-e718-42c8-a377-cf707bb412fd",
   "metadata": {
    "tags": []
   },
   "outputs": [
    {
     "data": {
      "text/plain": [
       "QuestionAnswer(question='some question', answer='some answer')"
      ]
     },
     "execution_count": 35,
     "metadata": {},
     "output_type": "execute_result"
    }
   ],
   "source": [
    "QuestionAnswer(\"Question 1: some question\", \"Answer 1: some answer\")"
   ]
  },
  {
   "cell_type": "markdown",
   "id": "ffae9485-af92-4fdd-9247-95e6a270d342",
   "metadata": {
    "jp-MarkdownHeadingCollapsed": true,
    "tags": []
   },
   "source": [
    "## CIK to Symbol lookup\n",
    "\n",
    "Edgar filings are based on a id key.  Build a lookup to go from that CIK to stock symbols for the companies we care about"
   ]
  },
  {
   "cell_type": "code",
   "execution_count": 8,
   "id": "a52ba14b-b2d9-4774-a7df-d18176f0f512",
   "metadata": {
    "tags": []
   },
   "outputs": [
    {
     "name": "stdout",
     "output_type": "stream",
     "text": [
      "--2025-04-15 15:10:48--  https://httpbin.io/user-agent\n",
      "Resolving httpbin.io (httpbin.io)... 52.70.33.41, 44.211.11.205, 3.224.228.208\n",
      "Connecting to httpbin.io (httpbin.io)|52.70.33.41|:443... connected.\n",
      "HTTP request sent, awaiting response... 200 OK\n",
      "Length: 138 [application/json]\n",
      "Saving to: ‘user-agent.1’\n",
      "\n",
      "user-agent.1        100%[===================>]     138  --.-KB/s    in 0s      \n",
      "\n",
      "2025-04-15 15:10:48 (287 MB/s) - ‘user-agent.1’ saved [138/138]\n",
      "\n",
      "--2025-04-15 15:10:48--  https://www.sec.gov/files/company_tickers.json\n",
      "Resolving www.sec.gov (www.sec.gov)... 23.196.153.179, 2600:1409:3c00:68b::17b2, 2600:1409:3c00:689::17b2\n",
      "Connecting to www.sec.gov (www.sec.gov)|23.196.153.179|:443... connected.\n",
      "HTTP request sent, awaiting response... 200 OK\n",
      "Length: unspecified [application/json]\n",
      "Saving to: ‘company_tickers.json.2’\n",
      "\n",
      "company_tickers.jso     [ <=>                ] 723.08K  --.-KB/s    in 0.06s   \n",
      "\n",
      "2025-04-15 15:10:49 (12.1 MB/s) - ‘company_tickers.json.2’ saved [740434]\n",
      "\n",
      "FINISHED --2025-04-15 15:10:49--\n",
      "Total wall clock time: 0.7s\n",
      "Downloaded: 2 files, 723K in 0.06s (12.1 MB/s)\n"
     ]
    }
   ],
   "source": [
    "!wget --user-agent=\"Mozilla/5.0 (Windows NT 10.0; Win64; x64) AppleWebKit/537.36 (KHTML, like Gecko) Chrome/92.0.4515.159 Safari/537.36\" \"https://httpbin.io/user-agent\" https://www.sec.gov/files/company_tickers.json"
   ]
  },
  {
   "cell_type": "code",
   "execution_count": 7,
   "id": "0a296604-bdbe-43b3-8404-860563279e12",
   "metadata": {
    "tags": []
   },
   "outputs": [],
   "source": [
    "import json\n",
    "with open(\"company_tickers.json\") as ifp:\n",
    "    lookup = json.load(ifp)\n",
    "lookup = {item['cik_str']:item['ticker']  for key, item in lookup.items()}"
   ]
  },
  {
   "cell_type": "code",
   "execution_count": 8,
   "id": "86cc7d94-2487-4abb-80f4-1e087c8022ee",
   "metadata": {
    "tags": []
   },
   "outputs": [
    {
     "data": {
      "text/html": [
       "<div>\n",
       "<style scoped>\n",
       "    .dataframe tbody tr th:only-of-type {\n",
       "        vertical-align: middle;\n",
       "    }\n",
       "\n",
       "    .dataframe tbody tr th {\n",
       "        vertical-align: top;\n",
       "    }\n",
       "\n",
       "    .dataframe thead th {\n",
       "        text-align: right;\n",
       "    }\n",
       "</style>\n",
       "<table border=\"1\" class=\"dataframe\">\n",
       "  <thead>\n",
       "    <tr style=\"text-align: right;\">\n",
       "      <th></th>\n",
       "      <th>symbol</th>\n",
       "    </tr>\n",
       "  </thead>\n",
       "  <tbody>\n",
       "    <tr>\n",
       "      <th>320193</th>\n",
       "      <td>AAPL</td>\n",
       "    </tr>\n",
       "    <tr>\n",
       "      <th>789019</th>\n",
       "      <td>MSFT</td>\n",
       "    </tr>\n",
       "    <tr>\n",
       "      <th>1045810</th>\n",
       "      <td>NVDA</td>\n",
       "    </tr>\n",
       "    <tr>\n",
       "      <th>1018724</th>\n",
       "      <td>AMZN</td>\n",
       "    </tr>\n",
       "    <tr>\n",
       "      <th>1652044</th>\n",
       "      <td>GOOG</td>\n",
       "    </tr>\n",
       "    <tr>\n",
       "      <th>...</th>\n",
       "      <td>...</td>\n",
       "    </tr>\n",
       "    <tr>\n",
       "      <th>1839586</th>\n",
       "      <td>DMXCF</td>\n",
       "    </tr>\n",
       "    <tr>\n",
       "      <th>1663712</th>\n",
       "      <td>NRSAX</td>\n",
       "    </tr>\n",
       "    <tr>\n",
       "      <th>1762400</th>\n",
       "      <td>LVCE</td>\n",
       "    </tr>\n",
       "    <tr>\n",
       "      <th>1506721</th>\n",
       "      <td>BAFBF</td>\n",
       "    </tr>\n",
       "    <tr>\n",
       "      <th>1515001</th>\n",
       "      <td>VCMIX</td>\n",
       "    </tr>\n",
       "  </tbody>\n",
       "</table>\n",
       "<p>7629 rows × 1 columns</p>\n",
       "</div>"
      ],
      "text/plain": [
       "        symbol\n",
       "320193    AAPL\n",
       "789019    MSFT\n",
       "1045810   NVDA\n",
       "1018724   AMZN\n",
       "1652044   GOOG\n",
       "...        ...\n",
       "1839586  DMXCF\n",
       "1663712  NRSAX\n",
       "1762400   LVCE\n",
       "1506721  BAFBF\n",
       "1515001  VCMIX\n",
       "\n",
       "[7629 rows x 1 columns]"
      ]
     },
     "execution_count": 8,
     "metadata": {},
     "output_type": "execute_result"
    }
   ],
   "source": [
    "import pandas as pd\n",
    "lookup_df = pd.DataFrame.from_dict(lookup, orient='index', columns=['symbol'])\n",
    "lookup_df"
   ]
  },
  {
   "cell_type": "code",
   "execution_count": 9,
   "id": "67bae073-7e21-4652-b5bd-ed855862fa44",
   "metadata": {
    "tags": []
   },
   "outputs": [],
   "source": [
    "lookup_df.to_csv('symbol_lookup.csv', index=True, header=False)"
   ]
  },
  {
   "cell_type": "code",
   "execution_count": 10,
   "id": "2fd81431-0c16-4f8b-a2d3-000df1e0b29e",
   "metadata": {
    "tags": []
   },
   "outputs": [
    {
     "name": "stdout",
     "output_type": "stream",
     "text": [
      "320193,AAPL\n",
      "789019,MSFT\n",
      "1045810,NVDA\n"
     ]
    }
   ],
   "source": [
    "!head -3 symbol_lookup.csv"
   ]
  },
  {
   "cell_type": "markdown",
   "id": "443ac1b3-81f1-4ca1-acbd-c19639ed780b",
   "metadata": {
    "tags": []
   },
   "source": [
    "## Initial set of questions\n",
    "\n",
    "From a single filing, create a set of questions.\n",
    "These will form the base instructions that we will evolve to make them harder."
   ]
  },
  {
   "cell_type": "markdown",
   "id": "8e7ac4e9-68e7-48f4-be5e-89e93afa0c0a",
   "metadata": {
    "tags": []
   },
   "source": [
    "### CIK -> Symbol so that we can expand synonyms"
   ]
  },
  {
   "cell_type": "code",
   "execution_count": 12,
   "id": "b897f42b-71a2-4f3f-a6b5-183e8ab8890a",
   "metadata": {
    "tags": []
   },
   "outputs": [
    {
     "data": {
      "text/html": [
       "<div>\n",
       "<style scoped>\n",
       "    .dataframe tbody tr th:only-of-type {\n",
       "        vertical-align: middle;\n",
       "    }\n",
       "\n",
       "    .dataframe tbody tr th {\n",
       "        vertical-align: top;\n",
       "    }\n",
       "\n",
       "    .dataframe thead th {\n",
       "        text-align: right;\n",
       "    }\n",
       "</style>\n",
       "<table border=\"1\" class=\"dataframe\">\n",
       "  <thead>\n",
       "    <tr style=\"text-align: right;\">\n",
       "      <th></th>\n",
       "      <th>cik</th>\n",
       "      <th>symbol</th>\n",
       "    </tr>\n",
       "  </thead>\n",
       "  <tbody>\n",
       "    <tr>\n",
       "      <th>0</th>\n",
       "      <td>320193</td>\n",
       "      <td>AAPL</td>\n",
       "    </tr>\n",
       "    <tr>\n",
       "      <th>1</th>\n",
       "      <td>789019</td>\n",
       "      <td>MSFT</td>\n",
       "    </tr>\n",
       "    <tr>\n",
       "      <th>2</th>\n",
       "      <td>1045810</td>\n",
       "      <td>NVDA</td>\n",
       "    </tr>\n",
       "    <tr>\n",
       "      <th>3</th>\n",
       "      <td>1018724</td>\n",
       "      <td>AMZN</td>\n",
       "    </tr>\n",
       "    <tr>\n",
       "      <th>4</th>\n",
       "      <td>1652044</td>\n",
       "      <td>GOOG</td>\n",
       "    </tr>\n",
       "    <tr>\n",
       "      <th>...</th>\n",
       "      <td>...</td>\n",
       "      <td>...</td>\n",
       "    </tr>\n",
       "    <tr>\n",
       "      <th>7624</th>\n",
       "      <td>1839586</td>\n",
       "      <td>DMXCF</td>\n",
       "    </tr>\n",
       "    <tr>\n",
       "      <th>7625</th>\n",
       "      <td>1663712</td>\n",
       "      <td>NRSAX</td>\n",
       "    </tr>\n",
       "    <tr>\n",
       "      <th>7626</th>\n",
       "      <td>1762400</td>\n",
       "      <td>LVCE</td>\n",
       "    </tr>\n",
       "    <tr>\n",
       "      <th>7627</th>\n",
       "      <td>1506721</td>\n",
       "      <td>BAFBF</td>\n",
       "    </tr>\n",
       "    <tr>\n",
       "      <th>7628</th>\n",
       "      <td>1515001</td>\n",
       "      <td>VCMIX</td>\n",
       "    </tr>\n",
       "  </tbody>\n",
       "</table>\n",
       "<p>7629 rows × 2 columns</p>\n",
       "</div>"
      ],
      "text/plain": [
       "          cik symbol\n",
       "0      320193   AAPL\n",
       "1      789019   MSFT\n",
       "2     1045810   NVDA\n",
       "3     1018724   AMZN\n",
       "4     1652044   GOOG\n",
       "...       ...    ...\n",
       "7624  1839586  DMXCF\n",
       "7625  1663712  NRSAX\n",
       "7626  1762400   LVCE\n",
       "7627  1506721  BAFBF\n",
       "7628  1515001  VCMIX\n",
       "\n",
       "[7629 rows x 2 columns]"
      ]
     },
     "execution_count": 12,
     "metadata": {},
     "output_type": "execute_result"
    }
   ],
   "source": [
    "import pandas as pd\n",
    "lookup_df = pd.read_csv('symbol_lookup.csv', names=['cik', 'symbol'])\n",
    "lookup_df"
   ]
  },
  {
   "cell_type": "markdown",
   "id": "b351b72a-08c2-4263-aa2e-7d82415e6a4d",
   "metadata": {
    "tags": []
   },
   "source": [
    "### Create initial questions.\n",
    "\n",
    "Take on the role of a business school prof"
   ]
  },
  {
   "cell_type": "code",
   "execution_count": 16,
   "id": "2f17b17c-8806-4bf3-9dbd-a28d40a24659",
   "metadata": {
    "tags": []
   },
   "outputs": [],
   "source": [
    "from typing import List\n",
    "from pydantic_ai import Agent\n",
    "\n",
    "# item_7 is the management discussion\n",
    "def create_questions(filing, key='item_7', num_questions=3) -> List[str]:\n",
    "    symbol = lookup_df[lookup_df['cik'] == int(filing['cik'])]['symbol'].values[0]\n",
    "    system_prompt=f\"\"\"\n",
    "    You are a professor in a MBA program.\n",
    "    You will be given a passage from a SEC filing from {filing['company']} (symbol: {symbol}) made on {filing['filing_date']}\n",
    "    Create {num_questions} analytical questions suitable for students of a class on company strategy based on this filing.\n",
    "    \n",
    "    Good questions should be:\n",
    "    * Standalone. For example, make sure the question includes the name of the company, product, and year being referenced.\n",
    "    * Avoid asking for factual numerical information such as revenue or capital expenditures\n",
    "    * Ask \"how\", \"why\", \"compare\", etc.\n",
    "    \n",
    "    Example question: How might Google's (GOOG) reorganization of its hardware divisions affect its ability to grow Pixel phones' marketshare in 2023?\"\n",
    "    \"\"\".strip()\n",
    "    agent = Agent(MODEL_ID, \n",
    "                  result_type=List[str],\n",
    "                  system_prompt=system_prompt)\n",
    "    result = agent.run_sync(filing[key])\n",
    "    questions = result.data\n",
    "    return [strip_numbering(q) for q in questions]"
   ]
  },
  {
   "cell_type": "code",
   "execution_count": 17,
   "id": "65a3db1c-f14e-41d0-8df9-a35d1dc51d7c",
   "metadata": {
    "tags": []
   },
   "outputs": [
    {
     "name": "stdout",
     "output_type": "stream",
     "text": [
      "dict_keys(['cik', 'company', 'filing_type', 'filing_date', 'period_of_report', 'sic', 'state_of_inc', 'state_location', 'fiscal_year_end', 'filing_html_index', 'htm_filing_link', 'complete_text_filing_link', 'filename', 'item_1', 'item_1A', 'item_1B', 'item_1C', 'item_2', 'item_3', 'item_4', 'item_5', 'item_6', 'item_7', 'item_7A', 'item_8', 'item_9', 'item_9A', 'item_9B', 'item_9C', 'item_10', 'item_11', 'item_12', 'item_13', 'item_14', 'item_15', 'item_16'])\n"
     ]
    }
   ],
   "source": [
    "import json\n",
    "with open(\"edgar-crawler/datasets/EXTRACTED_FILINGS/10-K/2969_10K_2021_0000002969-21-000055.json\") as ifp:\n",
    "    filing = json.load(ifp)\n",
    "    print(filing.keys())"
   ]
  },
  {
   "cell_type": "code",
   "execution_count": 18,
   "id": "2fa4025f-0869-47ec-b860-9c5c77a38de6",
   "metadata": {},
   "outputs": [
    {
     "data": {
      "text/plain": [
       "[\"Here are 3 analytical questions on AIR PRODUCTS & CHEMICALS INC /DE/ (APD) suitable for an MBA class focusing on company strategy, based on their 2021 SEC filing:\\n\\n1.  Air Products (APD) is investing heavily in gasification, carbon capture, and hydrogen projects. How might the cyclical nature of the energy market impact the long-term profitability and strategic viability of these capital-intensive projects, particularly given the company's reliance on long-term contracts and customer relationships as of 2021?\\n\\n2.  Air Products (APD) reorganized its industrial gases segments effective October 1, 2021. How could this reorganization affect APD's ability to respond to regional market differences, and what are the potential benefits and risks of this change in structure regarding operational efficiency and strategic focus?\\n\\n3.  Air Products (APD) highlights Lu'An Clean Energy Company's reduced contributions to sales and operating income in 2021 and expects this to continue through 2022. How should Air Products (APD) balance the risks of relying on consolidated joint ventures like Lu'An in emerging markets with the potential rewards of accessing high-growth regions, and what alternative strategies could APD employ to mitigate these risks as of 2021?\"]"
      ]
     },
     "execution_count": 18,
     "metadata": {},
     "output_type": "execute_result"
    }
   ],
   "source": [
    "questions = create_questions(filing)\n",
    "questions"
   ]
  },
  {
   "cell_type": "markdown",
   "id": "9927f9ce-4dc1-4667-ab7e-7e154b4367a6",
   "metadata": {
    "tags": []
   },
   "source": [
    "### Write answers to the questions\n",
    "\n",
    "Take on the role of a business school student"
   ]
  },
  {
   "cell_type": "code",
   "execution_count": 28,
   "id": "f631e69f-f92a-4cd9-b07e-4e351ff40610",
   "metadata": {
    "tags": []
   },
   "outputs": [
    {
     "data": {
      "text/plain": [
       "[QuestionAnswer(question=\"Air Products (APD) is investing heavily in gasification, carbon capture, and hydrogen projects. How might the cyclical nature of the energy market impact the long-term profitability and strategic viability of these capital-intensive projects, particularly given the company's reliance on long-term contracts and customer relationships as of 2021?\", answer=\"The cyclical nature of the energy market could significantly impact the profitability of Air Products' (APD) capital-intensive gasification, carbon capture, and hydrogen projects. While long-term contracts and customer relationships provide some stability, a prolonged downturn in energy prices could reduce demand or pressure contract pricing, diminishing returns on these investments. APD needs to develop flexible contract terms and explore hedging strategies to mitigate these risks.\"),\n",
       " QuestionAnswer(question=\"Air Products (APD) reorganized its industrial gases segments effective October 1, 2021. How could this reorganization affect APD's ability to respond to regional market differences, and what are the potential benefits and risks of this change in structure regarding operational efficiency and strategic focus?\", answer=\"The reorganization of APD's industrial gases segments could both help and hurt the company's regional market response. By specializing, APD may be able to address individual needs better. However, this could also create inefficiencies and slow decision-making, particularly if there is a need for cross-regional coordination, and APD will need to balance focus with agility.\"),\n",
       " QuestionAnswer(question=\"Air Products (APD) highlights Lu'An Clean Energy Company's reduced contributions to sales and operating income in 2021 and expects this to continue through 2022. How should Air Products (APD) balance the risks of relying on consolidated joint ventures like Lu'An in emerging markets with the potential rewards of accessing high-growth regions, and what alternative strategies could APD employ to mitigate these risks as of 2021?\", answer=\"APD needs to balance the risks of relying on joint ventures in emerging markets with the rewards of accessing high-growth regions. The Lu'An Clean Energy Company's reduced contributions highlight potential risks. Alternative strategies could include diversifying joint venture partners, negotiating more flexible agreements, or investing directly in wholly-owned subsidiaries to maintain greater control and mitigate risks.\")]"
      ]
     },
     "execution_count": 28,
     "metadata": {},
     "output_type": "execute_result"
    }
   ],
   "source": [
    "def write_answers(questions, filing, key='item_7') -> List[QuestionAnswer]:\n",
    "    system_prompt=f\"\"\"\n",
    "    You are a top student in a highly-ranked MBA program.\n",
    "    You are given an SEC filing from {filing['company']} made on {filing['filing_date']}\n",
    "    Use that filing to answer the following questions, but if some information is not in the filing,\n",
    "    answer based on your general market insights and knowledge of business strategy.\n",
    "    Do not refuse to answer as that will give you zero points on the exam.\n",
    "    Each answer should be 2-3 sentences.\n",
    "    \n",
    "    FILING:\n",
    "    {filing[key]}\n",
    "    \"\"\".strip()\n",
    "    agent = Agent(MODEL_ID, \n",
    "                  result_type=List[QuestionAnswer],\n",
    "                  system_prompt=system_prompt)\n",
    "    \n",
    "    prompt = \"\\n\".join([f\"Question {idx+1}: {question}\" for idx, question in enumerate(questions)])\n",
    "    result = agent.run_sync(prompt)\n",
    "    return [qa.strip_numbering() for qa in result.data]\n",
    "\n",
    "answers = write_answers(questions, filing)\n",
    "answers"
   ]
  },
  {
   "cell_type": "markdown",
   "id": "64460fce-baad-4eb2-977c-046612ac7caf",
   "metadata": {},
   "source": [
    "## Prompt Rewriting\n",
    "\n",
    "Evolve an instruction by rewriting the prompt"
   ]
  },
  {
   "cell_type": "code",
   "execution_count": 36,
   "id": "6338e716-c290-4525-81be-0e6872f22fff",
   "metadata": {
    "tags": []
   },
   "outputs": [
    {
     "data": {
      "text/plain": [
       "[\"Considering that competitors are also investing in green hydrogen projects and government subsidies for renewable energy are uncertain, how might a combination of increased competition and fluctuating subsidies affect the return on Air Products' (APD) gasification, carbon capture, and hydrogen projects, and what strategic adjustments might be necessary to maintain profitability if a major hydrogen project faces a 20% cost overrun?\",\n",
       " \"If a major competitor were to aggressively discount prices in one of the reorganized industrial gas segments, how might Air Products' (APD) new organizational structure affect its ability to respond, and what specific metrics should be monitored to assess the effectiveness of the reorganization in maintaining market share and profitability under such competitive pressure?\",\n",
       " \"If Lu'An Clean Energy Company's contributions were to drop to zero due to unforeseen regulatory changes in China, how should Air Products (APD) adjust its emerging markets strategy, and what specific provisions should be included in future joint venture agreements to protect against similar risks, considering that alternative projects in other emerging markets might face similar political instability?\",\n",
       " 'Air Products (APD) is investing heavily in gasification, carbon capture, and hydrogen projects. What are three specific ways the cyclical nature of the energy market could undermine the profitability of these projects, considering their reliance on long-term contracts as of 2021?',\n",
       " 'Air Products (APD) reorganized its industrial gases segments effective October 1, 2021. What are the specific steps APD could take to ensure the reorganization enhances its responsiveness to regional market differences, and why might these steps not fully realize the desired benefits in terms of strategic focus?',\n",
       " \"Air Products (APD) highlights Lu'An Clean Energy Company's reduced contributions. What are three reasons the contributions are not even lower given the risks of relying on consolidated joint ventures like Lu'An in emerging markets, and what specific alternative strategies could APD employ to further mitigate these risks as of 2021?\",\n",
       " \"Considering Air Products' (APD) investments in gasification, carbon capture, and hydrogen projects and reliance on long-term contracts, how will energy market cycles and the Lu'An Clean Energy situation impact profitability and strategic viability?\",\n",
       " \"How might Air Products' (APD) industrial gases segments reorganization affect responsiveness to regional markets and how does that interact with the potential benefits/risks regarding operational efficiency?\",\n",
       " \"Given Air Products' (APD) reliance on consolidated joint ventures like Lu'An in emerging markets, what alternative strategies can balance risks/rewards alongside heavy investments in gasification, carbon capture, and hydrogen projects?\",\n",
       " \"With Air Products (APD) reorganizing its industrial gases segments, how does this affect balancing risks of ventures like Lu'An with accessing high-growth regions, and what alternative risk-mitigation strategies exist?\"]"
      ]
     },
     "execution_count": 36,
     "metadata": {},
     "output_type": "execute_result"
    }
   ],
   "source": [
    "def evolve_instructions(questions: List[str], num_extra_questions: int) -> List[str]:\n",
    "    system_prompts = []\n",
    "\n",
    "    # Make it deeper\n",
    "    num_to_generate = num_extra_questions // 3\n",
    "    system_prompts.append(f\"\"\"\n",
    "    Your are creating questions for an extremely hard exam for a class on business strategy.\n",
    "    Your objective is to create {num_to_generate} harder versions of the given questions so that it requires greater skills on the part of the student. \n",
    "    Ways in which you can make the question harder:\n",
    "    * Add constraints based on current market conditions and competitor actions\n",
    "    * Add hypotheticals such as potential cost overruns or an acquistion failing to take place\n",
    "    Do not make the question itself more verbose. It should be approximately the same length as the original question.\n",
    "    \n",
    "    Harder questions:\n",
    "    \"\"\".strip())\n",
    "    \n",
    "    # Make it more concrete\n",
    "    system_prompts.append(f\"\"\"\n",
    "    Your are creating questions for an extremely hard exam for a class on business strategy.\n",
    "    Your objective is to create {num_to_generate} more concrete versions of the given questions so that they require greater grasp of the details. \n",
    "    Ways in which you can make the question harder:\n",
    "    * Instead of asking \"why\", ask for 3 reasons why\n",
    "    * Instead of asking \"how\", ask for the steps\n",
    "    * Ask why a specific outcome is not larger or smaller\n",
    "    Do not make the question itself more verbose. It should be approximately the same length as the original question.\n",
    "        \n",
    "    Harder questions:\n",
    "    \"\"\".strip())    \n",
    "    \n",
    "    # Make it require more reasoning\n",
    "    system_prompts.append(f\"\"\"\n",
    "    Your are creating questions for an extremely hard exam for a class on business strategy.\n",
    "    Your objective is to create {num_extra_questions - 2*num_to_generate} more multi-step reasoning versions of the given questions. \n",
    "    Combine two of the questions so that both questions have to be answered implicitly in order to answer the given question.\n",
    "    The combined question should be no more than 10 words longer than the original question.\n",
    "        \n",
    "    Harder questions:\n",
    "    \"\"\".strip()) \n",
    "    \n",
    "    extra_questions = []\n",
    "    for system_prompt in system_prompts:\n",
    "        agent = Agent(MODEL_ID, result_type=List[str], system_prompt=system_prompt)\n",
    "        prompt = \"\\n\".join([f\"Question {idx+1}: {question}\" for idx, question in enumerate(questions)])\n",
    "        result = agent.run_sync(prompt)\n",
    "        extra_questions.extend(result.data)\n",
    "    \n",
    "    return [strip_numbering(q) for q in extra_questions]\n",
    "\n",
    "evolve_instructions(questions, 10) "
   ]
  },
  {
   "cell_type": "markdown",
   "id": "851c8e8b-18b3-48e1-aa2a-68beb1ee8058",
   "metadata": {
    "tags": []
   },
   "source": [
    "## Put it all together"
   ]
  },
  {
   "cell_type": "code",
   "execution_count": 37,
   "id": "58a9b420-9a08-468d-bb9c-df8264bc53bc",
   "metadata": {
    "tags": []
   },
   "outputs": [],
   "source": [
    "def generate_question_answers(filename) -> List[QuestionAnswer]:\n",
    "    import json\n",
    "    with open(filename) as ifp:\n",
    "        filing = json.load(ifp)\n",
    "    questions = create_questions(filing, key='item_7', num_questions=3) # management discussion\n",
    "    extra_questions = evolve_instructions(questions, num_extra_questions=10)\n",
    "    questions.extend(extra_questions)\n",
    "    return write_answers(questions, filing)"
   ]
  },
  {
   "cell_type": "code",
   "execution_count": 38,
   "id": "a90bcfc8-cd38-45b6-a353-51d4c65d84bf",
   "metadata": {},
   "outputs": [
    {
     "data": {
      "text/plain": [
       "[QuestionAnswer(question=\"In 2022, AMD acquired Xilinx and Pensando. How might these acquisitions enable AMD to better compete with NVIDIA (NVDA) in the data center market, considering NVIDIA's existing strengths in GPUs and networking?\", answer=\"The acquisitions of Xilinx and Pensando provide AMD with adaptable hardware platforms (FPGAs, Adaptive SoCs, ACAPs) and high-performance data processing units (DPUs). These technologies, combined with AMD's existing EPYC server processors and Instinct accelerators, allow AMD to offer a more comprehensive portfolio of solutions for data centers, addressing diverse workloads and customer needs. This broader product suite enables AMD to better compete with NVIDIA's GPUs and networking solutions by offering a more integrated and optimized approach.\"),\n",
       " QuestionAnswer(question=\"AMD's Client segment revenue decreased by 10% in 2022 due to weak PC market conditions. How might AMD diversify its Client segment product offerings or target specific sub-segments of the PC market to mitigate the impact of future market downturns?\", answer='To diversify its Client segment, AMD could explore targeting specific sub-segments like high-performance laptops for content creators or ultra-low-power devices for specific industries. Additionally, they could focus on developing more integrated solutions, combining CPUs and GPUs with specialized AI accelerators, to cater to emerging workloads. Another strategy could be offering customized solutions for enterprise clients.'),\n",
       " QuestionAnswer(question=\"AMD's gross margin decreased from 48% in 2021 to 45% in 2022, primarily due to the amortization of intangible assets from the Xilinx acquisition. How can AMD improve its gross margin in the next 3 years, considering the ongoing amortization expenses and the competitive pressures in the semiconductor industry?\", answer='To improve gross margin, AMD can focus on optimizing its product mix by emphasizing higher-margin products in the Data Center and Embedded segments. Furthermore, they can pursue cost reductions in manufacturing and supply chain management to offset the impact of amortization expenses. Lastly, they can invest in R&D to develop new, differentiated products that command premium pricing.'),\n",
       " QuestionAnswer(question=\"In 2024, AMD's acquisition of Xilinx and Pensando has been completed. NVIDIA has just released a new line of GPUs with a 40% performance increase. How might these acquisitions enable AMD to better compete with NVIDIA in the data center market?\", answer=\"Even with NVIDIA's new GPUs, AMD can leverage Xilinx's adaptable hardware to create solutions tailored to specific data center workloads, offering a potential performance or efficiency advantage. Pensando's DPUs can offload networking and security tasks from the CPU, improving overall system performance. AMD can combine these technologies with its EPYC processors and Instinct GPUs to offer a more competitive and comprehensive solution.\"),\n",
       " QuestionAnswer(question=\"AMD's Client segment revenue decreased by 10% in 2022. The PC market is projected to decline another 5% next year. How might AMD diversify its Client segment product offerings or target specific sub-segments of the PC market to mitigate the impact of future market downturns, while also facing increased competition from ARM-based processors?\", answer='To mitigate future downturns and increased competition, AMD could diversify into high-performance Chromebooks for enterprise collaboration, leveraging the Ryzen 5000 C-Series processors. Additionally, AMD could develop energy-efficient mini-PCs for specific industrial applications or focus on ruggedized laptops for field work, offering customized solutions for businesses. Lastly, AMD can offer cloud gaming solutions.'),\n",
       " QuestionAnswer(question=\"AMD's gross margin decreased from 48% to 45% due to the Xilinx acquisition. A major chip supplier has also just announced a price cut of 5%. How can AMD improve its gross margin in the next 3 years, considering the ongoing amortization expenses, the increased competitive pressures, and the potential for a global recession?\", answer='To improve gross margin, AMD should prioritize cost optimization in manufacturing and supply chains while negotiating favorable pricing agreements with suppliers. They can also focus on premium products and target higher-margin market segments to achieve better pricing. Furthermore, focusing on product differentiation through technological innovation is crucial to maintaining competitive edge and improve margins.'),\n",
       " QuestionAnswer(question='List 3 specific synergies between AMD and Xilinx that could lead to increased data center market share.', answer=\"First, Xilinx's FPGA technology can be integrated with AMD's CPUs and GPUs to create adaptable, workload-optimized solutions for data centers. Second, Xilinx's embedded expertise can expand AMD's presence in edge computing, a growing segment of the data center market. Third, the combined product portfolio can attract a broader range of customers, increasing AMD's overall market share.\"),\n",
       " QuestionAnswer(question='List 3 potential new Client segment products or sub-segments that AMD could target to reduce reliance on the overall PC market.', answer='First, AMD could target the growing market for high-performance Chromebooks, offering Ryzen-powered devices for education and enterprise. Second, AMD could develop mini-PCs for specific industrial applications, such as factory automation or digital signage. Third, AMD could focus on ruggedized laptops for field work, catering to industries like construction or resource extraction.'),\n",
       " QuestionAnswer(question='Besides reducing amortization, what are 3 other ways AMD can improve its gross margin?', answer='First, AMD can improve its manufacturing efficiency to reduce production costs. Second, AMD can negotiate better pricing with suppliers for raw materials and components. Third, AMD can optimize its product portfolio by prioritizing higher-margin products and phasing out lower-margin ones.'),\n",
       " QuestionAnswer(question=\"Considering NVIDIA's dominance in GPUs and networking, and AMD's 2022 acquisitions of Xilinx and Pensando, how could AMD leverage these acquisitions alongside new data center strategies to gain market share from NVIDIA over the next 5 years?\", answer=\"First, AMD can integrate Xilinx's FPGA technology with its CPUs and GPUs to create uniquely optimized solutions for specific data center workloads. Second, they can leverage Pensando's DPUs to improve data center efficiency and security, offering a competitive advantage over NVIDIA. Third, AMD can focus on open-source initiatives and partnerships to build a broader ecosystem around its data center products.\"),\n",
       " QuestionAnswer(question=\"Given the 10% decrease in AMD's Client segment revenue in 2022, and future potential downturns, what innovative product strategies could AMD implement to not only diversify but also capture higher-margin sub-segments within the PC market?\", answer='First, AMD can develop high-performance, energy-efficient mini-PCs for specialized applications like edge computing and industrial automation, using Ryzen Embedded processors. Second, AMD could target the professional workstation market by designing mobile workstations with enhanced security features and ISV certifications. Third, AMD could create custom-designed processors for cloud gaming platforms, optimizing performance and power efficiency.'),\n",
       " QuestionAnswer(question=\"With AMD's gross margin declining from 48% to 45% in 2022, due to Xilinx amortization, and intense competition, what specific cost optimization and pricing strategies should AMD adopt to restore and exceed its previous gross margin within three years, while sustaining competitiveness?\", answer='First, AMD can prioritize value engineering to reduce component costs and manufacturing expenses across its product lines. Second, AMD can refine its pricing strategy by segmenting its customer base and offering differentiated pricing tiers based on performance and features. Third, AMD can focus on strategic partnerships with key suppliers and customers to secure favorable pricing agreements and volume discounts.')]"
      ]
     },
     "execution_count": 38,
     "metadata": {},
     "output_type": "execute_result"
    }
   ],
   "source": [
    "generate_question_answers(\"edgar-crawler/datasets/EXTRACTED_FILINGS/10-K/2488_10K_2022_0000002488-23-000047.json\")"
   ]
  },
  {
   "cell_type": "markdown",
   "id": "ed61ee0a-30a5-41bd-a77e-a1a6d2521d15",
   "metadata": {},
   "source": [
    "## Create supervised training dataset\n"
   ]
  },
  {
   "cell_type": "code",
   "execution_count": 39,
   "id": "e11ef9ce-bf9d-4873-93ad-a5e091ce1e2e",
   "metadata": {
    "tags": []
   },
   "outputs": [
    {
     "name": "stdout",
     "output_type": "stream",
     "text": [
      "Generating question-answer pairs from 1124 filings\n",
      "1->13 examples generated\n",
      "11->131 examples generated\n",
      "21->258 examples generated\n",
      "31->372 examples generated\n",
      "41->490 examples generated\n",
      "51->620 examples generated\n",
      "61->751 examples generated\n",
      "71->877 examples generated\n",
      "81->1004 examples generated\n",
      "91->1122 examples generated\n",
      "101->1235 examples generated\n",
      "111->1361 examples generated\n",
      "121->1488 examples generated\n",
      "131->1606 examples generated\n",
      "141->1731 examples generated\n",
      "151->1851 examples generated\n",
      "161->1981 examples generated\n",
      "171->2111 examples generated\n",
      "181->2238 examples generated\n",
      "191->2349 examples generated\n",
      "201->2468 examples generated\n",
      "211->2588 examples generated\n",
      "221->2703 examples generated\n",
      "231->2809 examples generated\n",
      "241->2934 examples generated\n",
      "251->3063 examples generated\n",
      "261->3179 examples generated\n",
      "271->3302 examples generated\n",
      "281->3418 examples generated\n",
      "291->3545 examples generated\n",
      "301->3666 examples generated\n",
      "311->3783 examples generated\n",
      "321->3908 examples generated\n",
      "331->4015 examples generated\n",
      "341->4141 examples generated\n",
      "351->4260 examples generated\n",
      "361->4377 examples generated\n",
      "371->4499 examples generated\n",
      "381->4625 examples generated\n",
      "391->4755 examples generated\n",
      "401->4883 examples generated\n",
      "411->5001 examples generated\n",
      "421->5117 examples generated\n",
      "431->5229 examples generated\n",
      "441->5356 examples generated\n",
      "451->5469 examples generated\n",
      "461->5594 examples generated\n",
      "471->5696 examples generated\n",
      "481->5819 examples generated\n",
      "491->5916 examples generated\n",
      "501->6039 examples generated\n",
      "511->6166 examples generated\n",
      "521->6274 examples generated\n",
      "531->6382 examples generated\n",
      "541->6510 examples generated\n",
      "551->6626 examples generated\n",
      "561->6755 examples generated\n",
      "571->6882 examples generated\n",
      "581->6997 examples generated\n",
      "591->7106 examples generated\n",
      "601->7225 examples generated\n",
      "611->7353 examples generated\n",
      "621->7474 examples generated\n",
      "631->7591 examples generated\n",
      "641->7706 examples generated\n",
      "651->7832 examples generated\n",
      "661->7959 examples generated\n",
      "671->8068 examples generated\n",
      "681->8173 examples generated\n",
      "691->8285 examples generated\n",
      "701->8406 examples generated\n",
      "711->8521 examples generated\n",
      "721->8650 examples generated\n",
      "731->8774 examples generated\n",
      "741->8898 examples generated\n",
      "751->9013 examples generated\n",
      "761->9143 examples generated\n",
      "771->9270 examples generated\n",
      "781->9380 examples generated\n",
      "791->9489 examples generated\n",
      "801->9605 examples generated\n",
      "811->9723 examples generated\n",
      "821->9827 examples generated\n",
      "831->9943 examples generated\n",
      "841->10067 examples generated\n",
      "851->10183 examples generated\n",
      "861->10297 examples generated\n",
      "871->10418 examples generated\n",
      "881->10513 examples generated\n",
      "891->10620 examples generated\n",
      "901->10736 examples generated\n",
      "911->10854 examples generated\n",
      "921->10980 examples generated\n",
      "931->11095 examples generated\n",
      "941->11222 examples generated\n",
      "951->11328 examples generated\n",
      "961->11446 examples generated\n",
      "971->11556 examples generated\n",
      "981->11678 examples generated\n",
      "991->11803 examples generated\n",
      "1001->11930 examples generated\n",
      "1011->12056 examples generated\n",
      "1021->12164 examples generated\n",
      "1031->12283 examples generated\n",
      "1041->12401 examples generated\n",
      "1051->12507 examples generated\n",
      "1061->12623 examples generated\n",
      "1071->12742 examples generated\n",
      "1081->12858 examples generated\n",
      "1091->12977 examples generated\n",
      "1101->13095 examples generated\n",
      "1111->13206 examples generated\n",
      "1121->13318 examples generated\n"
     ]
    }
   ],
   "source": [
    "import glob\n",
    "from multiprocessing.pool import ThreadPool\n",
    "\n",
    "filenames = [filepath for filepath in glob.iglob('edgar-crawler/datasets/EXTRACTED_FILINGS/10-K/*.json')]\n",
    "print(f\"Generating question-answer pairs from {len(filenames)} filings\")\n",
    "\n",
    "def threaded_task(filename: str) -> List[QuestionAnswer]:\n",
    "    try:\n",
    "        return generate_question_answers(filename)\n",
    "    except:\n",
    "        return []\n",
    "\n",
    "def save_to_file(qas: List[QuestionAnswer], filename: str):\n",
    "    with open(filename, \"w\") as ofp:\n",
    "        for qa in qas:\n",
    "            json.dump({\n",
    "                \"question\": qa.question,\n",
    "                \"answer\": qa.answer\n",
    "            }, ofp)\n",
    "            ofp.write(\"\\n\")\n",
    "    \n",
    "question_answers = []\n",
    "with ThreadPool() as tpool:\n",
    "    completed = 0\n",
    "    for qas in tpool.imap_unordered(threaded_task, filenames):\n",
    "        question_answers.extend(qas)\n",
    "        completed += 1\n",
    "        if completed%10 == 1:\n",
    "            print(f\"{completed}->{len(question_answers)} examples generated\")\n",
    "            # save progress ...\n",
    "            save_to_file(question_answers, \"generated_qas.json\")"
   ]
  },
  {
   "cell_type": "code",
   "execution_count": 40,
   "id": "d2a49847-6263-408a-93ff-56b6596f43c8",
   "metadata": {},
   "outputs": [],
   "source": [
    "# final ...\n",
    "save_to_file(question_answers, \"generated_qas.json\")"
   ]
  },
  {
   "cell_type": "markdown",
   "id": "56f5be5c-3694-4a61-9b72-38e2ed2d1a8d",
   "metadata": {},
   "source": [
    "## Evaluate questions and answers, and keep only the good ones.\n",
    "\n",
    "Ideally, you'd also have human review here."
   ]
  },
  {
   "cell_type": "code",
   "execution_count": 44,
   "id": "b2c27048-796f-4352-9fbf-9906f263916f",
   "metadata": {
    "tags": []
   },
   "outputs": [
    {
     "name": "stdout",
     "output_type": "stream",
     "text": [
      "ScoredQuestionAnswer(question='In 2020, how did UPS balance cost control in its U.S. Domestic Package segment versus its International Package segment, given varying labor regulations and infrastructure limitations, and how would a sudden 20% increase in fuel costs have altered these strategies?', answer=\"In 2020, UPS's cost control strategies differed between the U.S. Domestic Package and International Package segments due to factors like varying labor regulations and infrastructure. The U.S. Domestic Package segment was affected by residential volume growth, increased labor costs, and delivery density challenges. The document does not specify how a sudden 20% increase in fuel costs would have altered these strategies.\", score=3, explanation=\"This question delves into the complexities of UPS's operational strategy, highlighting the challenges posed by different regional factors. The answer acknowledges these differences but admits a lack of information about the impact of a fuel cost increase. While not fully comprehensive, it touches upon relevant strategic considerations. Therefore, a score of 3 is appropriate.\") \n",
      "\n",
      "ScoredQuestionAnswer(question=\"O'Reilly Automotive's (ORLY) 2021 filing mentions the importance of its 'dual market strategy' serving both DIY customers and professional service providers. How does this dual-market approach contribute to ORLY's resilience and competitive advantage, and what are the potential challenges or synergies associated with serving these two distinct customer segments in the face of evolving market dynamics?\", answer=\"The dual-market strategy provides resilience by balancing the cyclical nature of DIY and professional segments. Serving both allows O'Reilly to capture a larger market share, but it requires tailored marketing and inventory management, creating potential challenges in optimizing resources and brand messaging for each segment.\", score=4, explanation=\"This question delves into a core aspect of O'Reilly Automotive's business strategy, exploring its dual-market approach. The answer provides a good overview of the resilience and competitive advantages gained, along with potential challenges. It's insightful because it connects the strategy to market dynamics and resource allocation.\") \n",
      "\n",
      "ScoredQuestionAnswer(question=\"How does O'Reilly Automotive's (ORLY) product assortment strategy interplay with macroeconomic factors to influence ORLY's adaptation to electric vehicles and remote work-induced mileage declines, impacting its business model?\", answer=\"O'Reilly's product assortment strategy influences its adaptation to electric vehicles through the need to diversify its product offerings and invest in EV-related inventory. Macroeconomic factors like miles driven influence demand and market share, further emphasizing the need to monitor EV adoption rates and adapt its business model to remain competitive.\", score=4, explanation=\"This question delves into a complex interplay of factors (product assortment, macroeconomics, EVs, remote work) and the answer provides a reasonable, albeit somewhat general, overview of the company's need to adapt. It highlights the importance of diversification and monitoring EV adoption. It's insightful, though not groundbreaking. Therefore, a score of 4 is appropriate.\") \n",
      "\n"
     ]
    }
   ],
   "source": [
    "@dataclass\n",
    "class Score:\n",
    "    score: int\n",
    "    explanation: str\n",
    "    \n",
    "@dataclass\n",
    "class ScoredQuestionAnswer:\n",
    "    question: str\n",
    "    answer: str\n",
    "    score: int\n",
    "    explanation: str\n",
    "    \n",
    "def score_qa(qa: QuestionAnswer) -> Score:\n",
    "    system_prompt=\"\"\"\n",
    "    You are a journalist who interviewed a number of Wall Street analysts of\n",
    "    large public companies in the United States. I'll give you a question and an answer to that question.\n",
    "    Now, you need to select the interview questions that will appear in an article on business strategy.\n",
    "    \n",
    "    Reply with a score of 1-5 where:\n",
    "    1 is for questions and answers that will be obvious to your audience, or which are wrong.\n",
    "    5 is for questions and answers that are genuinely insightful.\n",
    "    \n",
    "    Explain your reasoning.\n",
    "    \"\"\"\n",
    "    agent = Agent(MODEL_ID, result_type=Score, system_prompt=system_prompt)\n",
    "    prompt = f\"Question: {qa.question}\\nAnswer: {qa.answer}\"\n",
    "    result = agent.run_sync(prompt)\n",
    "    score = result.data\n",
    "    return ScoredQuestionAnswer(qa.question, qa.answer, score.score, score.explanation)\n",
    "\n",
    "for idx in [5, 15, 25]:\n",
    "    print(score_qa(question_answers[idx]), \"\\n\")"
   ]
  },
  {
   "cell_type": "code",
   "execution_count": null,
   "id": "683901c8-7176-4f4d-8b5f-2a888bacb28e",
   "metadata": {
    "tags": []
   },
   "outputs": [
    {
     "name": "stdout",
     "output_type": "stream",
     "text": [
      "1 examples scored\n",
      "1001 examples scored\n",
      "2001 examples scored\n",
      "3001 examples scored\n",
      "4001 examples scored\n",
      "5001 examples scored\n",
      "6001 examples scored\n",
      "7001 examples scored\n",
      "8001 examples scored\n",
      "9001 examples scored\n",
      "10001 examples scored\n",
      "11001 examples scored\n",
      "12001 examples scored\n",
      "13001 examples scored\n"
     ]
    }
   ],
   "source": [
    "def threaded_task(qa: QuestionAnswer) -> ScoredQuestionAnswer:\n",
    "    try:\n",
    "        return score_qa(qa)\n",
    "    except:\n",
    "        return ScoredQuestionAnswer(qa.question, qa.answer, 3, \"Failed to score\")\n",
    "\n",
    "def save_to_file(qas: List[ScoredQuestionAnswer], filename: str):\n",
    "    qas = sorted(qas, key=lambda x: x.score, reverse=True)\n",
    "    with open(filename, \"w\") as ofp:\n",
    "        for qa in qas:\n",
    "            json.dump({\n",
    "                \"question\": qa.question,\n",
    "                \"answer\": qa.answer,\n",
    "                \"score\": qa.score,\n",
    "                \"explanation\": qa.explanation\n",
    "            }, ofp)\n",
    "            ofp.write(\"\\n\")\n",
    "\n",
    "scored_qas = []\n",
    "with ThreadPool() as tpool:\n",
    "    for qa in tpool.imap_unordered(threaded_task, question_answers):\n",
    "        scored_qas.append(qa)\n",
    "        if len(scored_qas)%1000 == 1:\n",
    "            print(f\"{len(scored_qas)} examples scored\")\n",
    "            # save progress ...\n",
    "            save_to_file(scored_qas, \"generated_qas_scored.json\")\n",
    "\n",
    "save_to_file(scored_qas, \"generated_qas_scored.json\")"
   ]
  },
  {
   "cell_type": "code",
   "execution_count": null,
   "id": "1f84a9d4-b17f-4d06-a5e9-4f74555c46c5",
   "metadata": {},
   "outputs": [],
   "source": []
  }
 ],
 "metadata": {
  "environment": {
   "kernel": "conda-base-py",
   "name": "workbench-notebooks.m126",
   "type": "gcloud",
   "uri": "us-docker.pkg.dev/deeplearning-platform-release/gcr.io/workbench-notebooks:m126"
  },
  "kernelspec": {
   "display_name": "Python 3 (ipykernel) (Local)",
   "language": "python",
   "name": "conda-base-py"
  },
  "language_info": {
   "codemirror_mode": {
    "name": "ipython",
    "version": 3
   },
   "file_extension": ".py",
   "mimetype": "text/x-python",
   "name": "python",
   "nbconvert_exporter": "python",
   "pygments_lexer": "ipython3",
   "version": "3.10.15"
  }
 },
 "nbformat": 4,
 "nbformat_minor": 5
}
