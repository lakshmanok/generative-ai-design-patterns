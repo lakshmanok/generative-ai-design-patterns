{
 "cells": [
  {
   "cell_type": "markdown",
   "id": "00a2db13-fb78-453a-b9e6-75e3c568e453",
   "metadata": {},
   "source": [
    "# Initial prompts\n",
    "\n",
    "Creating the initial prompt"
   ]
  },
  {
   "cell_type": "code",
   "execution_count": 1,
   "id": "0264c136-dd55-457e-96a2-6df0c26f7a08",
   "metadata": {
    "tags": []
   },
   "outputs": [],
   "source": [
    "#%pip install --upgrade --quiet pydantic-ai-slim[anthropic,openai]"
   ]
  },
  {
   "cell_type": "code",
   "execution_count": 1,
   "id": "28fb9619-572b-4c6e-8f64-3c0252075834",
   "metadata": {
    "tags": []
   },
   "outputs": [],
   "source": [
    "GEMINI=\"gemini-2.0-flash\"\n",
    "\n",
    "import os\n",
    "from dotenv import load_dotenv\n",
    "load_dotenv(\"../keys.env\")\n",
    "assert os.environ[\"GEMINI_API_KEY\"][:2] == \"AI\",\\\n",
    "       \"Please specify the GEMINI_API_KEY access token in keys.env file\""
   ]
  },
  {
   "cell_type": "code",
   "execution_count": 2,
   "id": "3ef18244-ec11-4c74-a42c-ff1f07d6ff83",
   "metadata": {
    "tags": []
   },
   "outputs": [],
   "source": [
    "# Needed in Jupyter environment See: https://ai.pydantic.dev/troubleshooting/ \n",
    "import nest_asyncio\n",
    "nest_asyncio.apply()"
   ]
  },
  {
   "cell_type": "markdown",
   "id": "ffae9485-af92-4fdd-9247-95e6a270d342",
   "metadata": {
    "tags": []
   },
   "source": [
    "## CIK to Symbol lookup\n",
    "\n",
    "Edgar filings are based on a id key.  Build a lookup to go from that CIK to stock symbols for the companies we care about"
   ]
  },
  {
   "cell_type": "code",
   "execution_count": 3,
   "id": "a52ba14b-b2d9-4774-a7df-d18176f0f512",
   "metadata": {
    "tags": []
   },
   "outputs": [
    {
     "name": "stdout",
     "output_type": "stream",
     "text": [
      "--2025-04-14 18:18:48--  https://httpbin.io/user-agent\n",
      "Resolving httpbin.io (httpbin.io)... 3.224.228.208, 52.70.33.41, 44.211.11.205\n",
      "Connecting to httpbin.io (httpbin.io)|3.224.228.208|:443... connected.\n",
      "HTTP request sent, awaiting response... 200 OK\n",
      "Length: 138 [application/json]\n",
      "Saving to: ‘user-agent.1’\n",
      "\n",
      "user-agent.1        100%[===================>]     138  --.-KB/s    in 0s      \n",
      "\n",
      "2025-04-14 18:18:48 (139 MB/s) - ‘user-agent.1’ saved [138/138]\n",
      "\n",
      "--2025-04-14 18:18:48--  https://www.sec.gov/files/company_tickers.json\n",
      "Resolving www.sec.gov (www.sec.gov)... 23.196.153.179, 2600:1409:9800:1687::17b2, 2600:1409:9800:1689::17b2\n",
      "Connecting to www.sec.gov (www.sec.gov)|23.196.153.179|:443... connected.\n",
      "HTTP request sent, awaiting response... 200 OK\n",
      "Length: unspecified [application/json]\n",
      "Saving to: ‘company_tickers.json.1’\n",
      "\n",
      "company_tickers.jso     [ <=>                ] 723.08K  --.-KB/s    in 0.03s   \n",
      "\n",
      "2025-04-14 18:18:49 (21.5 MB/s) - ‘company_tickers.json.1’ saved [740434]\n",
      "\n",
      "FINISHED --2025-04-14 18:18:49--\n",
      "Total wall clock time: 0.5s\n",
      "Downloaded: 2 files, 723K in 0.03s (21.5 MB/s)\n"
     ]
    }
   ],
   "source": [
    "!wget --user-agent=\"Mozilla/5.0 (Windows NT 10.0; Win64; x64) AppleWebKit/537.36 (KHTML, like Gecko) Chrome/92.0.4515.159 Safari/537.36\" \"https://httpbin.io/user-agent\" https://www.sec.gov/files/company_tickers.json"
   ]
  },
  {
   "cell_type": "code",
   "execution_count": 4,
   "id": "0a296604-bdbe-43b3-8404-860563279e12",
   "metadata": {
    "tags": []
   },
   "outputs": [],
   "source": [
    "import json\n",
    "with open(\"company_tickers.json\") as ifp:\n",
    "    lookup = json.load(ifp)\n",
    "lookup = {item['cik_str']:item['ticker']  for key, item in lookup.items()}"
   ]
  },
  {
   "cell_type": "code",
   "execution_count": 5,
   "id": "86cc7d94-2487-4abb-80f4-1e087c8022ee",
   "metadata": {
    "tags": []
   },
   "outputs": [
    {
     "data": {
      "text/html": [
       "<div>\n",
       "<style scoped>\n",
       "    .dataframe tbody tr th:only-of-type {\n",
       "        vertical-align: middle;\n",
       "    }\n",
       "\n",
       "    .dataframe tbody tr th {\n",
       "        vertical-align: top;\n",
       "    }\n",
       "\n",
       "    .dataframe thead th {\n",
       "        text-align: right;\n",
       "    }\n",
       "</style>\n",
       "<table border=\"1\" class=\"dataframe\">\n",
       "  <thead>\n",
       "    <tr style=\"text-align: right;\">\n",
       "      <th></th>\n",
       "      <th>symbol</th>\n",
       "    </tr>\n",
       "  </thead>\n",
       "  <tbody>\n",
       "    <tr>\n",
       "      <th>320193</th>\n",
       "      <td>AAPL</td>\n",
       "    </tr>\n",
       "    <tr>\n",
       "      <th>789019</th>\n",
       "      <td>MSFT</td>\n",
       "    </tr>\n",
       "    <tr>\n",
       "      <th>1045810</th>\n",
       "      <td>NVDA</td>\n",
       "    </tr>\n",
       "    <tr>\n",
       "      <th>1018724</th>\n",
       "      <td>AMZN</td>\n",
       "    </tr>\n",
       "    <tr>\n",
       "      <th>1652044</th>\n",
       "      <td>GOOG</td>\n",
       "    </tr>\n",
       "    <tr>\n",
       "      <th>...</th>\n",
       "      <td>...</td>\n",
       "    </tr>\n",
       "    <tr>\n",
       "      <th>1839586</th>\n",
       "      <td>DMXCF</td>\n",
       "    </tr>\n",
       "    <tr>\n",
       "      <th>1663712</th>\n",
       "      <td>NRSAX</td>\n",
       "    </tr>\n",
       "    <tr>\n",
       "      <th>1762400</th>\n",
       "      <td>LVCE</td>\n",
       "    </tr>\n",
       "    <tr>\n",
       "      <th>1506721</th>\n",
       "      <td>BAFBF</td>\n",
       "    </tr>\n",
       "    <tr>\n",
       "      <th>1515001</th>\n",
       "      <td>VCMIX</td>\n",
       "    </tr>\n",
       "  </tbody>\n",
       "</table>\n",
       "<p>7629 rows × 1 columns</p>\n",
       "</div>"
      ],
      "text/plain": [
       "        symbol\n",
       "320193    AAPL\n",
       "789019    MSFT\n",
       "1045810   NVDA\n",
       "1018724   AMZN\n",
       "1652044   GOOG\n",
       "...        ...\n",
       "1839586  DMXCF\n",
       "1663712  NRSAX\n",
       "1762400   LVCE\n",
       "1506721  BAFBF\n",
       "1515001  VCMIX\n",
       "\n",
       "[7629 rows x 1 columns]"
      ]
     },
     "execution_count": 5,
     "metadata": {},
     "output_type": "execute_result"
    }
   ],
   "source": [
    "import pandas as pd\n",
    "lookup_df = pd.DataFrame.from_dict(lookup, orient='index', columns=['symbol'])\n",
    "lookup_df"
   ]
  },
  {
   "cell_type": "code",
   "execution_count": 6,
   "id": "67bae073-7e21-4652-b5bd-ed855862fa44",
   "metadata": {
    "tags": []
   },
   "outputs": [],
   "source": [
    "lookup_df.to_csv('symbol_lookup.csv', index=True, header=False)"
   ]
  },
  {
   "cell_type": "code",
   "execution_count": 7,
   "id": "2fd81431-0c16-4f8b-a2d3-000df1e0b29e",
   "metadata": {
    "tags": []
   },
   "outputs": [
    {
     "name": "stdout",
     "output_type": "stream",
     "text": [
      "320193,AAPL\n",
      "789019,MSFT\n",
      "1045810,NVDA\n"
     ]
    }
   ],
   "source": [
    "!head -3 symbol_lookup.csv"
   ]
  },
  {
   "cell_type": "markdown",
   "id": "443ac1b3-81f1-4ca1-acbd-c19639ed780b",
   "metadata": {},
   "source": [
    "## Question creation\n",
    "\n",
    "based on a single filing."
   ]
  },
  {
   "cell_type": "code",
   "execution_count": 8,
   "id": "b897f42b-71a2-4f3f-a6b5-183e8ab8890a",
   "metadata": {
    "tags": []
   },
   "outputs": [
    {
     "data": {
      "text/html": [
       "<div>\n",
       "<style scoped>\n",
       "    .dataframe tbody tr th:only-of-type {\n",
       "        vertical-align: middle;\n",
       "    }\n",
       "\n",
       "    .dataframe tbody tr th {\n",
       "        vertical-align: top;\n",
       "    }\n",
       "\n",
       "    .dataframe thead th {\n",
       "        text-align: right;\n",
       "    }\n",
       "</style>\n",
       "<table border=\"1\" class=\"dataframe\">\n",
       "  <thead>\n",
       "    <tr style=\"text-align: right;\">\n",
       "      <th></th>\n",
       "      <th>cik</th>\n",
       "      <th>symbol</th>\n",
       "    </tr>\n",
       "  </thead>\n",
       "  <tbody>\n",
       "    <tr>\n",
       "      <th>0</th>\n",
       "      <td>320193</td>\n",
       "      <td>AAPL</td>\n",
       "    </tr>\n",
       "    <tr>\n",
       "      <th>1</th>\n",
       "      <td>789019</td>\n",
       "      <td>MSFT</td>\n",
       "    </tr>\n",
       "    <tr>\n",
       "      <th>2</th>\n",
       "      <td>1045810</td>\n",
       "      <td>NVDA</td>\n",
       "    </tr>\n",
       "    <tr>\n",
       "      <th>3</th>\n",
       "      <td>1018724</td>\n",
       "      <td>AMZN</td>\n",
       "    </tr>\n",
       "    <tr>\n",
       "      <th>4</th>\n",
       "      <td>1652044</td>\n",
       "      <td>GOOG</td>\n",
       "    </tr>\n",
       "    <tr>\n",
       "      <th>...</th>\n",
       "      <td>...</td>\n",
       "      <td>...</td>\n",
       "    </tr>\n",
       "    <tr>\n",
       "      <th>7624</th>\n",
       "      <td>1839586</td>\n",
       "      <td>DMXCF</td>\n",
       "    </tr>\n",
       "    <tr>\n",
       "      <th>7625</th>\n",
       "      <td>1663712</td>\n",
       "      <td>NRSAX</td>\n",
       "    </tr>\n",
       "    <tr>\n",
       "      <th>7626</th>\n",
       "      <td>1762400</td>\n",
       "      <td>LVCE</td>\n",
       "    </tr>\n",
       "    <tr>\n",
       "      <th>7627</th>\n",
       "      <td>1506721</td>\n",
       "      <td>BAFBF</td>\n",
       "    </tr>\n",
       "    <tr>\n",
       "      <th>7628</th>\n",
       "      <td>1515001</td>\n",
       "      <td>VCMIX</td>\n",
       "    </tr>\n",
       "  </tbody>\n",
       "</table>\n",
       "<p>7629 rows × 2 columns</p>\n",
       "</div>"
      ],
      "text/plain": [
       "          cik symbol\n",
       "0      320193   AAPL\n",
       "1      789019   MSFT\n",
       "2     1045810   NVDA\n",
       "3     1018724   AMZN\n",
       "4     1652044   GOOG\n",
       "...       ...    ...\n",
       "7624  1839586  DMXCF\n",
       "7625  1663712  NRSAX\n",
       "7626  1762400   LVCE\n",
       "7627  1506721  BAFBF\n",
       "7628  1515001  VCMIX\n",
       "\n",
       "[7629 rows x 2 columns]"
      ]
     },
     "execution_count": 8,
     "metadata": {},
     "output_type": "execute_result"
    }
   ],
   "source": [
    "import pandas as pd\n",
    "lookup_df = pd.read_csv('symbol_lookup.csv', names=['cik', 'symbol'])\n",
    "lookup_df"
   ]
  },
  {
   "cell_type": "code",
   "execution_count": 36,
   "id": "2f17b17c-8806-4bf3-9dbd-a28d40a24659",
   "metadata": {
    "tags": []
   },
   "outputs": [],
   "source": [
    "from dataclasses import dataclass\n",
    "from typing import List\n",
    "from pydantic_ai import Agent\n",
    "\n",
    "@dataclass\n",
    "class QuestionAnswer:\n",
    "    question: str\n",
    "    answer: str\n",
    "\n",
    "def create_questions(filing, key, num_questions=3, model_id=GEMINI) -> List[str]:\n",
    "    symbol = lookup_df[lookup_df['cik'] == int(filing['cik'])]['symbol'].values[0]\n",
    "    system_prompt=f\"\"\"\n",
    "    You are a professor in a MBA program.\n",
    "    You will be given a passage from a SEC filing from {filing['company']} (symbol: {symbol}) made on {filing['filing_date']}\n",
    "    Create {num_questions} analytical questions suitable for students of a class on company strategy based on this filing.\n",
    "    \n",
    "    Good questions should be:\n",
    "    * Standalone. For example, make sure the question includes the name of the company, product, and year being referenced.\n",
    "    * Avoid asking for factual numerical information such as revenue or capital expenditures\n",
    "    * Ask \"how\", \"why\", \"compare\", etc.\n",
    "    \n",
    "    Example question: How might Google's (GOOG) reorganization of its hardware divisions affect its ability to grow Pixel phones' marketshare in 2023?\"\n",
    "    \"\"\".strip()\n",
    "    agent = Agent(model_id, \n",
    "                  result_type=List[str],\n",
    "                  system_prompt=system_prompt)\n",
    "    result = agent.run_sync(filing[key])\n",
    "    return (result.data)"
   ]
  },
  {
   "cell_type": "code",
   "execution_count": 37,
   "id": "65a3db1c-f14e-41d0-8df9-a35d1dc51d7c",
   "metadata": {
    "tags": []
   },
   "outputs": [
    {
     "name": "stdout",
     "output_type": "stream",
     "text": [
      "dict_keys(['cik', 'company', 'filing_type', 'filing_date', 'period_of_report', 'sic', 'state_of_inc', 'state_location', 'fiscal_year_end', 'filing_html_index', 'htm_filing_link', 'complete_text_filing_link', 'filename', 'item_1', 'item_1A', 'item_1B', 'item_1C', 'item_2', 'item_3', 'item_4', 'item_5', 'item_6', 'item_7', 'item_7A', 'item_8', 'item_9', 'item_9A', 'item_9B', 'item_9C', 'item_10', 'item_11', 'item_12', 'item_13', 'item_14', 'item_15', 'item_16'])\n"
     ]
    }
   ],
   "source": [
    "import json\n",
    "with open(\"edgar-crawler/datasets/EXTRACTED_FILINGS/10-K/2969_10K_2021_0000002969-21-000055.json\") as ifp:\n",
    "    filing = json.load(ifp)\n",
    "    print(filing.keys())"
   ]
  },
  {
   "cell_type": "code",
   "execution_count": 38,
   "id": "2fa4025f-0869-47ec-b860-9c5c77a38de6",
   "metadata": {},
   "outputs": [
    {
     "data": {
      "text/plain": [
       "[\"How might Air Products & Chemicals (APD)'s strategy of focusing on gasification, carbon capture, and hydrogen projects, as mentioned in their 2021 10-K filing, impact their competitive positioning in the industrial gases market compared to competitors with different strategic priorities?\",\n",
       " \"Considering Air Products & Chemicals' (APD) reorganization of its industrial gases segments announced in November 2021 and detailed in their 2021 10-K filing, how could this restructuring affect the company's ability to respond to regional market dynamics and customer needs in the Americas, EMEA, and Asia?\",\n",
       " \"Air Products & Chemicals (APD) states in its 2021 10-K filing that it expects higher costs from planned maintenance activities and higher pension expenses in fiscal year 2022; how might these rising costs impact the company's profitability and its ability to invest in new growth opportunities, such as carbon capture and hydrogen projects?\"]"
      ]
     },
     "execution_count": 38,
     "metadata": {},
     "output_type": "execute_result"
    }
   ],
   "source": [
    "questions = create_questions(filing, 'item_7') # management discussion\n",
    "questions"
   ]
  },
  {
   "cell_type": "code",
   "execution_count": 39,
   "id": "f631e69f-f92a-4cd9-b07e-4e351ff40610",
   "metadata": {
    "tags": []
   },
   "outputs": [
    {
     "data": {
      "text/plain": [
       "[QuestionAnswer(question=\"How might Air Products & Chemicals (APD)'s strategy of focusing on gasification, carbon capture, and hydrogen projects, as mentioned in their 2021 10-K filing, impact their competitive positioning in the industrial gases market compared to competitors with different strategic priorities?\", answer=\"Air Products & Chemicals (APD)'s focus on gasification, carbon capture, and hydrogen projects could significantly enhance its competitive positioning. By specializing in these high-growth areas, APD can differentiate itself from competitors, particularly as sustainability becomes a key market driver. This focus allows APD to attract environmentally conscious customers and potentially benefit from government incentives and regulations favoring clean energy solutions, creating a strategic advantage.\"),\n",
       " QuestionAnswer(question=\"Considering Air Products & Chemicals' (APD) reorganization of its industrial gases segments announced in November 2021 and detailed in their 2021 10-K filing, how could this restructuring affect the company's ability to respond to regional market dynamics and customer needs in the Americas, EMEA, and Asia?\", answer=\"The reorganization of Air Products & Chemicals' industrial gases segments could enhance its responsiveness to regional market dynamics. By tailoring its approach to the specific needs of the Americas, EMEA, and Asia, APD can better capture regional growth opportunities and address local challenges. This restructuring could lead to more efficient resource allocation and improved customer satisfaction within each region.\"),\n",
       " QuestionAnswer(question=\"Air Products & Chemicals (APD) states in its 2021 10-K filing that it expects higher costs from planned maintenance activities and higher pension expenses in fiscal year 2022; how might these rising costs impact the company's profitability and its ability to invest in new growth opportunities, such as carbon capture and hydrogen projects?\", answer=\"The anticipated higher costs from planned maintenance and increased pension expenses in fiscal year 2022 could negatively impact Air Products & Chemicals' profitability. This may strain APD's ability to invest in new growth opportunities like carbon capture and hydrogen projects. APD might need to optimize its capital allocation, potentially delaying or scaling back some investments, to maintain financial stability and shareholder value.\")]"
      ]
     },
     "execution_count": 39,
     "metadata": {},
     "output_type": "execute_result"
    }
   ],
   "source": [
    "def write_answers(questions, filing, model_id=GEMINI) -> List[QuestionAnswer]:\n",
    "    system_prompt=f\"\"\"\n",
    "    You are a top student in a highly-ranked MBA program.\n",
    "    You will be given an SEC filing from {filing['company']} made on {filing['filing_date']}\n",
    "    Use that filing to answer the following questions.\n",
    "    Each answer should be 2-3 sentences and be informed by your market insights and knowledge of business strategy.\n",
    "    \"\"\".strip()\n",
    "    agent = Agent(model_id, \n",
    "                  result_type=List[QuestionAnswer],\n",
    "                  system_prompt=system_prompt)\n",
    "    \n",
    "    prompt = \"\\n\".join([f\"Question {idx+1}: {question}\" for idx, question in enumerate(questions)])\n",
    "    result = agent.run_sync(prompt)\n",
    "    return result.data\n",
    "\n",
    "answers = write_answers(questions, filing)\n",
    "answers"
   ]
  },
  {
   "cell_type": "markdown",
   "id": "851c8e8b-18b3-48e1-aa2a-68beb1ee8058",
   "metadata": {},
   "source": [
    "## Put it all together"
   ]
  },
  {
   "cell_type": "code",
   "execution_count": 28,
   "id": "58a9b420-9a08-468d-bb9c-df8264bc53bc",
   "metadata": {
    "tags": []
   },
   "outputs": [
    {
     "data": {
      "text/plain": [
       "[QuestionAnswer(question=\"1.  In 2022, AMD acquired both Xilinx and Pensando. How might these acquisitions affect AMD's competitive positioning relative to Intel (INTC) and Nvidia (NVDA) in the data center market, considering the breadth of solutions AMD can now offer?\", answer=\"The acquisitions of Xilinx and Pensando significantly bolster AMD's competitive stance against Intel and Nvidia in the data center. Xilinx brings adaptable FPGA solutions, while Pensando adds advanced networking capabilities. This enables AMD to offer a more comprehensive suite of products, potentially attracting customers seeking diverse solutions beyond CPUs and GPUs, allowing them to compete more effectively for a larger share of the data center market.\\n\\n2. AMD should strategically balance investments between its Client and Gaming segments by diversifying its product offerings and targeting high-growth sub-segments within the PC market, such as premium laptops and workstations. Simultaneously, AMD should leverage its partnerships with console manufacturers to secure long-term supply agreements and explore opportunities to expand its gaming ecosystem through software and services. This balanced approach will help mitigate risks from PC market volatility while capitalizing on the strong demand for gaming consoles.\\n\\n3. To improve its gross margin, AMD should focus on realizing cost synergies from the Xilinx acquisition through supply chain optimization and operational efficiencies, while also driving revenue growth in high-margin product categories, such as data center GPUs and embedded solutions. AMD must continue to invest in R&D to develop leading-edge technologies that command premium pricing, as well as explore strategic pricing adjustments to reflect the enhanced value proposition of its expanded product portfolio. These strategies will help AMD balance cost synergies with continued innovation, ultimately improving gross margins in the long term.\")]"
      ]
     },
     "execution_count": 28,
     "metadata": {},
     "output_type": "execute_result"
    }
   ],
   "source": [
    "def generate_question_answers(filename, num_questions=3) -> List[QuestionAnswer]:\n",
    "    import json\n",
    "    with open(f\"edgar-crawler/datasets/EXTRACTED_FILINGS/10-K/{filename}\") as ifp:\n",
    "        filing = json.load(ifp)\n",
    "    questions = create_questions(filing, 'item_7') # management discussion\n",
    "    return write_answers(questions, filing)\n",
    "\n",
    "generate_question_answers(\"2488_10K_2022_0000002488-23-000047.json\")"
   ]
  },
  {
   "cell_type": "code",
   "execution_count": null,
   "id": "a90bcfc8-cd38-45b6-a353-51d4c65d84bf",
   "metadata": {},
   "outputs": [],
   "source": []
  }
 ],
 "metadata": {
  "environment": {
   "kernel": "conda-base-py",
   "name": "workbench-notebooks.m126",
   "type": "gcloud",
   "uri": "us-docker.pkg.dev/deeplearning-platform-release/gcr.io/workbench-notebooks:m126"
  },
  "kernelspec": {
   "display_name": "Python 3 (ipykernel) (Local)",
   "language": "python",
   "name": "conda-base-py"
  },
  "language_info": {
   "codemirror_mode": {
    "name": "ipython",
    "version": 3
   },
   "file_extension": ".py",
   "mimetype": "text/x-python",
   "name": "python",
   "nbconvert_exporter": "python",
   "pygments_lexer": "ipython3",
   "version": "3.10.15"
  }
 },
 "nbformat": 4,
 "nbformat_minor": 5
}
