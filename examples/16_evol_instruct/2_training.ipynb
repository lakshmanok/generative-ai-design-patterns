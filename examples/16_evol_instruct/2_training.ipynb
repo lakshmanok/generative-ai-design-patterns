{
 "cells": [
  {
   "cell_type": "markdown",
   "id": "045e8d4d-43ff-40df-94f9-7abc556bbc3c",
   "metadata": {},
   "source": [
    "## Instruction Training\n",
    "\n",
    "This is continued pretraining, but in a parameter efficient way using LoRA\n",
    "\n",
    "Based on an example from Unsloth: https://colab.research.google.com/drive/1-BF5HndNqQsfWRTxIt7YPjkfDpVUGNgY"
   ]
  },
  {
   "cell_type": "code",
   "execution_count": 1,
   "id": "1aa2c6cc-f148-463c-b0e5-c20f65a1b464",
   "metadata": {
    "tags": []
   },
   "outputs": [],
   "source": [
    "#%pip install --quiet unsloth xformers trl peft accelerate bitsandbytes"
   ]
  },
  {
   "cell_type": "markdown",
   "id": "f252a032-97c9-40c5-8e6d-53202b6615c6",
   "metadata": {},
   "source": [
    "## Load in data"
   ]
  },
  {
   "cell_type": "code",
   "execution_count": 2,
   "id": "22373bd6-3bef-45f1-abc0-941d2c72a1e0",
   "metadata": {
    "tags": []
   },
   "outputs": [
    {
     "data": {
      "text/plain": [
       "9511"
      ]
     },
     "execution_count": 2,
     "metadata": {},
     "output_type": "execute_result"
    }
   ],
   "source": [
    "import json\n",
    "with open(\"generated_qas.json\") as ifp:\n",
    "    question_answers = [json.loads(line) for line in ifp.readlines()]\n",
    "len(question_answers)        "
   ]
  },
  {
   "cell_type": "code",
   "execution_count": 3,
   "id": "35bc8d67-885a-44ac-8c12-de66f3ed8e1e",
   "metadata": {
    "tags": []
   },
   "outputs": [
    {
     "data": {
      "text/plain": [
       "{'question': \"Given increasing demand for integrated solutions, how did the 2021 UPS Freight divestiture impact UPS's comprehensive supply chain offerings and align with their 'Customer First' strategy?\",\n",
       " 'answer': \"Given increasing demand for integrated solutions, the 2021 UPS Freight divestiture could negatively impact UPS's ability to provide comprehensive supply chain offerings. While the company states the move will allow them to focus on their core business and improve customer experience, it may, in fact, reduce the scope of services they can directly provide, potentially conflicting with a 'Customer First' approach in an integrated solutions market.\"}"
      ]
     },
     "execution_count": 3,
     "metadata": {},
     "output_type": "execute_result"
    }
   ],
   "source": [
    "question_answers[10]"
   ]
  },
  {
   "cell_type": "code",
   "execution_count": 4,
   "id": "ae17b671-329d-4de2-95aa-747ce8d78de9",
   "metadata": {
    "tags": []
   },
   "outputs": [
    {
     "data": {
      "text/html": [
       "<div>\n",
       "<style scoped>\n",
       "    .dataframe tbody tr th:only-of-type {\n",
       "        vertical-align: middle;\n",
       "    }\n",
       "\n",
       "    .dataframe tbody tr th {\n",
       "        vertical-align: top;\n",
       "    }\n",
       "\n",
       "    .dataframe thead th {\n",
       "        text-align: right;\n",
       "    }\n",
       "</style>\n",
       "<table border=\"1\" class=\"dataframe\">\n",
       "  <thead>\n",
       "    <tr style=\"text-align: right;\">\n",
       "      <th></th>\n",
       "      <th>question</th>\n",
       "      <th>answer</th>\n",
       "    </tr>\n",
       "  </thead>\n",
       "  <tbody>\n",
       "    <tr>\n",
       "      <th>0</th>\n",
       "      <td>How might the divestiture of UPS Freight in 20...</td>\n",
       "      <td>The divestiture of UPS Freight may limit UPS's...</td>\n",
       "    </tr>\n",
       "    <tr>\n",
       "      <th>1</th>\n",
       "      <td>Why did UPS decide to divest its Freight busin...</td>\n",
       "      <td>UPS decided to divest its UPS Freight business...</td>\n",
       "    </tr>\n",
       "    <tr>\n",
       "      <th>2</th>\n",
       "      <td>How might UPS's increased reliance on e-commer...</td>\n",
       "      <td>UPS's increased reliance on e-commerce and bus...</td>\n",
       "    </tr>\n",
       "    <tr>\n",
       "      <th>3</th>\n",
       "      <td>How might the divestiture of UPS Freight in 20...</td>\n",
       "      <td>The divestiture of UPS Freight could indeed li...</td>\n",
       "    </tr>\n",
       "    <tr>\n",
       "      <th>4</th>\n",
       "      <td>Why did UPS decide to divest its Freight busin...</td>\n",
       "      <td>UPS divested its Freight business in 2021 to c...</td>\n",
       "    </tr>\n",
       "    <tr>\n",
       "      <th>...</th>\n",
       "      <td>...</td>\n",
       "      <td>...</td>\n",
       "    </tr>\n",
       "    <tr>\n",
       "      <th>9506</th>\n",
       "      <td>How would a failed acquisition of a specialty ...</td>\n",
       "      <td>A failed acquisition of a specialty chemical f...</td>\n",
       "    </tr>\n",
       "    <tr>\n",
       "      <th>9507</th>\n",
       "      <td>Considering a major setback in regulatory appr...</td>\n",
       "      <td>Even with regulatory setbacks for new material...</td>\n",
       "    </tr>\n",
       "    <tr>\n",
       "      <th>9508</th>\n",
       "      <td>List three ways Dow Inc.'s (DOW) decision to t...</td>\n",
       "      <td>Dow's decision to temporarily idle select manu...</td>\n",
       "    </tr>\n",
       "    <tr>\n",
       "      <th>9509</th>\n",
       "      <td>What steps did Dow take to reallocate capital ...</td>\n",
       "      <td>During the COVID-19 pandemic, Dow took steps s...</td>\n",
       "    </tr>\n",
       "    <tr>\n",
       "      <th>9510</th>\n",
       "      <td>Why was Dow's MobilityScience platform not lau...</td>\n",
       "      <td>Dow's MobilityScience platform might not have ...</td>\n",
       "    </tr>\n",
       "  </tbody>\n",
       "</table>\n",
       "<p>9511 rows × 2 columns</p>\n",
       "</div>"
      ],
      "text/plain": [
       "                                               question  \\\n",
       "0     How might the divestiture of UPS Freight in 20...   \n",
       "1     Why did UPS decide to divest its Freight busin...   \n",
       "2     How might UPS's increased reliance on e-commer...   \n",
       "3     How might the divestiture of UPS Freight in 20...   \n",
       "4     Why did UPS decide to divest its Freight busin...   \n",
       "...                                                 ...   \n",
       "9506  How would a failed acquisition of a specialty ...   \n",
       "9507  Considering a major setback in regulatory appr...   \n",
       "9508  List three ways Dow Inc.'s (DOW) decision to t...   \n",
       "9509  What steps did Dow take to reallocate capital ...   \n",
       "9510  Why was Dow's MobilityScience platform not lau...   \n",
       "\n",
       "                                                 answer  \n",
       "0     The divestiture of UPS Freight may limit UPS's...  \n",
       "1     UPS decided to divest its UPS Freight business...  \n",
       "2     UPS's increased reliance on e-commerce and bus...  \n",
       "3     The divestiture of UPS Freight could indeed li...  \n",
       "4     UPS divested its Freight business in 2021 to c...  \n",
       "...                                                 ...  \n",
       "9506  A failed acquisition of a specialty chemical f...  \n",
       "9507  Even with regulatory setbacks for new material...  \n",
       "9508  Dow's decision to temporarily idle select manu...  \n",
       "9509  During the COVID-19 pandemic, Dow took steps s...  \n",
       "9510  Dow's MobilityScience platform might not have ...  \n",
       "\n",
       "[9511 rows x 2 columns]"
      ]
     },
     "execution_count": 4,
     "metadata": {},
     "output_type": "execute_result"
    }
   ],
   "source": [
    "import pandas as pd\n",
    "question_answers = pd.DataFrame(data=question_answers)\n",
    "question_answers"
   ]
  },
  {
   "cell_type": "markdown",
   "id": "642d517a-5452-444c-9af2-8500ddc80474",
   "metadata": {},
   "source": [
    "## Load in model"
   ]
  },
  {
   "cell_type": "code",
   "execution_count": 5,
   "id": "14dbef4c-ef94-490c-afa0-124be5e9bd76",
   "metadata": {},
   "outputs": [
    {
     "ename": "NotImplementedError",
     "evalue": "Unsloth: No NVIDIA GPU found? Unsloth currently only supports GPUs!",
     "output_type": "error",
     "traceback": [
      "\u001b[0;31m---------------------------------------------------------------------------\u001b[0m",
      "\u001b[0;31mNotImplementedError\u001b[0m                       Traceback (most recent call last)",
      "Cell \u001b[0;32mIn[5], line 1\u001b[0m\n\u001b[0;32m----> 1\u001b[0m \u001b[38;5;28;01mfrom\u001b[39;00m \u001b[38;5;21;01munsloth\u001b[39;00m \u001b[38;5;28;01mimport\u001b[39;00m FastLanguageModel\n\u001b[1;32m      2\u001b[0m \u001b[38;5;28;01mimport\u001b[39;00m \u001b[38;5;21;01mtorch\u001b[39;00m\n\u001b[1;32m      3\u001b[0m max_seq_length \u001b[38;5;241m=\u001b[39m \u001b[38;5;241m4096\u001b[39m \u001b[38;5;66;03m# length of an answer\u001b[39;00m\n",
      "File \u001b[0;32m/opt/conda/lib/python3.10/site-packages/unsloth/__init__.py:93\u001b[0m\n\u001b[1;32m     91\u001b[0m \u001b[38;5;66;03m# First check if CUDA is available ie a NVIDIA GPU is seen\u001b[39;00m\n\u001b[1;32m     92\u001b[0m \u001b[38;5;28;01mif\u001b[39;00m \u001b[38;5;129;01mnot\u001b[39;00m torch\u001b[38;5;241m.\u001b[39mcuda\u001b[38;5;241m.\u001b[39mis_available():\n\u001b[0;32m---> 93\u001b[0m     \u001b[38;5;28;01mraise\u001b[39;00m \u001b[38;5;167;01mNotImplementedError\u001b[39;00m(\u001b[38;5;124m\"\u001b[39m\u001b[38;5;124mUnsloth: No NVIDIA GPU found? Unsloth currently only supports GPUs!\u001b[39m\u001b[38;5;124m\"\u001b[39m)\n\u001b[1;32m     95\u001b[0m \u001b[38;5;66;03m# Fix Xformers performance issues since 0.0.25\u001b[39;00m\n\u001b[1;32m     96\u001b[0m \u001b[38;5;28;01mimport\u001b[39;00m \u001b[38;5;21;01mimportlib\u001b[39;00m\u001b[38;5;21;01m.\u001b[39;00m\u001b[38;5;21;01mutil\u001b[39;00m\n",
      "\u001b[0;31mNotImplementedError\u001b[0m: Unsloth: No NVIDIA GPU found? Unsloth currently only supports GPUs!"
     ]
    }
   ],
   "source": [
    "from unsloth import FastLanguageModel\n",
    "import torch\n",
    "max_seq_length = 4096 # length of an answer\n",
    "dtype = None # None for auto detection. Float16 for Tesla T4, V100, Bfloat16 for Ampere+\n",
    "load_in_4bit = True # Use 4bit quantization to reduce memory usage.\n",
    "\n",
    "model, tokenizer = FastLanguageModel.from_pretrained(\n",
    "    model_name = \"unsloth/gemma-3-1b-it-bnb-4bit\",\n",
    "    max_seq_length = max_seq_length,\n",
    "    dtype = dtype,\n",
    "    load_in_4bit = load_in_4bit,\n",
    "    # token = \"hf_...\", # use one if using gated models like meta-llama/Llama-2-7b-hf\n",
    ")"
   ]
  },
  {
   "cell_type": "code",
   "execution_count": null,
   "id": "243ff7e2-9f12-47f4-a598-f5b420c90121",
   "metadata": {},
   "outputs": [],
   "source": [
    "model = FastLanguageModel.get_peft_model(\n",
    "    model,\n",
    "    r = 16, # Choose any number > 0 ! Suggested 8, 16, 32, 64, 128\n",
    "    target_modules = [\"q_proj\", \"k_proj\", \"v_proj\", \"o_proj\",\n",
    "                      \"gate_proj\",\n",
    "                      \"up_proj\", \"down_proj\",\n",
    "                      \"embed_tokens\", \"lm_head\",],\n",
    "    lora_alpha = 32,\n",
    "    lora_dropout = 0, # Supports any, but = 0 is optimized\n",
    "    bias = \"none\",    # Supports any, but = \"none\" is optimized\n",
    "    use_gradient_checkpointing = \"unsloth\", # True or \"unsloth\" for very long context\n",
    "    random_state = 3407,\n",
    "    use_rslora = True,  # We support rank stabilized LoRA\n",
    "    loftq_config = None, # And LoftQ\n",
    ")"
   ]
  },
  {
   "cell_type": "code",
   "execution_count": null,
   "id": "f323eeb9-5c66-4649-a2b3-ad5c895f7f02",
   "metadata": {
    "tags": []
   },
   "outputs": [],
   "source": [
    "import datasets\n",
    "dataset = datasets.Dataset.from_pandas(question_answers)"
   ]
  },
  {
   "cell_type": "code",
   "execution_count": null,
   "id": "f5ceb362-8e26-41c9-947c-cc0641badb0d",
   "metadata": {
    "tags": []
   },
   "outputs": [],
   "source": [
    "EOS_TOKEN = tokenizer.eos_token # Must add EOS_TOKEN\n",
    "def formatting_prompts_func(examples):\n",
    "    instructions = examples[\"question\"]\n",
    "    responses    = examples[\"answer\"]\n",
    "    texts = []\n",
    "    for instruction, response in zip(instructions, responses):\n",
    "        # Must add EOS_TOKEN, otherwise your generation will go on forever!\n",
    "        text = f\"\"\"Q: {instruction}\n",
    "        \n",
    "A: {response}\"\"\" + EOS_TOKEN\n",
    "        texts.append(text)\n",
    "    return { \"text\" : texts, }\n",
    "\n",
    "dataset = dataset.map(formatting_prompts_func, batched = True,)"
   ]
  },
  {
   "cell_type": "code",
   "execution_count": null,
   "id": "bb74f8fa-cfbf-42e5-8ed9-a13794158b94",
   "metadata": {},
   "outputs": [],
   "source": [
    "print(dataset[0][\"text\"])"
   ]
  },
  {
   "cell_type": "markdown",
   "id": "2b0a2bfd-cbf9-4854-bad2-c857253b0c58",
   "metadata": {
    "tags": []
   },
   "source": [
    "## Train the model\n"
   ]
  },
  {
   "cell_type": "code",
   "execution_count": null,
   "id": "a36d660a-d093-4697-b1a9-b994a4917e9d",
   "metadata": {},
   "outputs": [],
   "source": [
    "from trl import SFTTrainer\n",
    "from transformers import TrainingArguments\n",
    "from unsloth import is_bfloat16_supported\n",
    "from unsloth import UnslothTrainer, UnslothTrainingArguments\n",
    "\n",
    "trainer = UnslothTrainer(\n",
    "    model = model,\n",
    "    tokenizer = tokenizer,\n",
    "    train_dataset = dataset,\n",
    "    dataset_text_field = \"text\",\n",
    "    max_seq_length = max_seq_length,\n",
    "    dataset_num_proc = 8,\n",
    "    packing = False, # Can make training 5x faster for short sequences.\n",
    "    args = UnslothTrainingArguments(\n",
    "        per_device_train_batch_size = 2,\n",
    "        gradient_accumulation_steps = 64,\n",
    "        # warmup_ratio = 0.1,\n",
    "        max_steps = None, # 50\n",
    "        warmup_steps = 5,\n",
    "        num_train_epochs = 1,\n",
    "        learning_rate = 5e-5*2,\n",
    "        embedding_learning_rate = 5e-5/2,\n",
    "        fp16 = not is_bfloat16_supported(),\n",
    "        bf16 = is_bfloat16_supported(),\n",
    "        logging_steps = 100,\n",
    "        optim = \"lion_8bit\",\n",
    "        weight_decay = 0.00,\n",
    "        lr_scheduler_type = \"cosine\",\n",
    "        seed = 3407,\n",
    "        output_dir = \"outputs\",\n",
    "    ),\n",
    ")"
   ]
  },
  {
   "cell_type": "code",
   "execution_count": null,
   "id": "756f32d0-e248-4bbc-af09-caef5bfbe6fd",
   "metadata": {},
   "outputs": [],
   "source": [
    "trainer_stats = trainer.train()"
   ]
  },
  {
   "cell_type": "code",
   "execution_count": null,
   "id": "3a047400-bac5-43fc-87cc-7cef8323ba2e",
   "metadata": {},
   "outputs": [],
   "source": [
    "model.save_pretrained_merged(\"lora_model\", tokenizer, save_method = \"lora\",)"
   ]
  },
  {
   "cell_type": "markdown",
   "id": "149a1765-4b7f-4f82-a756-a5875bc13fda",
   "metadata": {},
   "source": [
    "## Inference"
   ]
  },
  {
   "cell_type": "code",
   "execution_count": null,
   "id": "e2a760ff-16ad-42b0-993c-acd1c80d4c4a",
   "metadata": {
    "tags": []
   },
   "outputs": [],
   "source": [
    "from unsloth import FastLanguageModel\n",
    "model, tokenizer = FastLanguageModel.from_pretrained(\n",
    "    model_name = \"lora_model\", # YOUR MODEL YOU USED FOR TRAINING\n",
    "    max_seq_length = max_seq_length,\n",
    "    dtype = dtype,\n",
    "    load_in_4bit = load_in_4bit,\n",
    ")\n",
    "FastLanguageModel.for_inference(model) # Enable native 2x faster inference\n",
    "text_streamer = TextStreamer(tokenizer)\n",
    "\n",
    "question = \"\"\"\n",
    "What are 3 ways that AWS can win Generative AI workloads without a proprietary frontier LLM?\n",
    "\"\"\"\n",
    "_ = model.generate(f\"Q: {question}\\nA: \", streamer = text_streamer, max_new_tokens = 1024)"
   ]
  }
 ],
 "metadata": {
  "environment": {
   "kernel": "conda-base-py",
   "name": "workbench-notebooks.m126",
   "type": "gcloud",
   "uri": "us-docker.pkg.dev/deeplearning-platform-release/gcr.io/workbench-notebooks:m126"
  },
  "kernelspec": {
   "display_name": "Python 3 (ipykernel) (Local)",
   "language": "python",
   "name": "conda-base-py"
  },
  "language_info": {
   "codemirror_mode": {
    "name": "ipython",
    "version": 3
   },
   "file_extension": ".py",
   "mimetype": "text/x-python",
   "name": "python",
   "nbconvert_exporter": "python",
   "pygments_lexer": "ipython3",
   "version": "3.10.15"
  }
 },
 "nbformat": 4,
 "nbformat_minor": 5
}
