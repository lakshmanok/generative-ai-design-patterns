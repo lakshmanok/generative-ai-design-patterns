{
 "cells": [
  {
   "cell_type": "markdown",
   "id": "045e8d4d-43ff-40df-94f9-7abc556bbc3c",
   "metadata": {},
   "source": [
    "## Instruction Training\n",
    "\n",
    "This is continued pretraining, but in a parameter efficient way using LoRA\n",
    "\n",
    "Based on an example from Unsloth: https://colab.research.google.com/drive/1-BF5HndNqQsfWRTxIt7YPjkfDpVUGNgY"
   ]
  },
  {
   "cell_type": "code",
   "execution_count": 1,
   "id": "1aa2c6cc-f148-463c-b0e5-c20f65a1b464",
   "metadata": {
    "tags": []
   },
   "outputs": [],
   "source": [
    "#%pip install --quiet unsloth xformers trl peft accelerate bitsandbytes"
   ]
  },
  {
   "cell_type": "code",
   "execution_count": 2,
   "id": "7e257132-a04f-4bcf-9cd9-cd7c4cbb45d8",
   "metadata": {
    "tags": []
   },
   "outputs": [],
   "source": [
    "import os\n",
    "from dotenv import load_dotenv\n",
    "load_dotenv(\"../keys.env\")\n",
    "assert os.environ[\"HF_TOKEN\"][:2] == \"hf\",\\\n",
    "       \"Please specify the HF_TOKEN access token in keys.env file\""
   ]
  },
  {
   "cell_type": "markdown",
   "id": "f252a032-97c9-40c5-8e6d-53202b6615c6",
   "metadata": {},
   "source": [
    "## Load in data"
   ]
  },
  {
   "cell_type": "code",
   "execution_count": 3,
   "id": "22373bd6-3bef-45f1-abc0-941d2c72a1e0",
   "metadata": {
    "tags": []
   },
   "outputs": [
    {
     "data": {
      "text/plain": [
       "13357"
      ]
     },
     "execution_count": 3,
     "metadata": {},
     "output_type": "execute_result"
    }
   ],
   "source": [
    "import json\n",
    "with open(\"generated_qas_scored.json\") as ifp:\n",
    "    question_answers = [json.loads(line) for line in ifp.readlines()]\n",
    "len(question_answers)        "
   ]
  },
  {
   "cell_type": "code",
   "execution_count": 4,
   "id": "35bc8d67-885a-44ac-8c12-de66f3ed8e1e",
   "metadata": {
    "tags": []
   },
   "outputs": [
    {
     "data": {
      "text/plain": [
       "{'question': \"Why might O'Reilly Automotive's 'good,' 'better,' 'best' product assortment not maximize profitability?\",\n",
       " 'answer': 'The \"good, better, best\" product assortment strategy may not maximize profitability if the cost of managing the complexity of such a wide range of products is too high. For example, it requires more complex inventory management, more skilled sales staff, and more floor space, which may reduce profitability.',\n",
       " 'score': 5,\n",
       " 'explanation': 'This question delves into the potential downsides of a common retail strategy, exploring the balance between offering customer choice and managing operational complexity. The answer provides a concrete explanation, making it insightful for readers interested in business strategy and retail management. Thus, it deserves a high score.'}"
      ]
     },
     "execution_count": 4,
     "metadata": {},
     "output_type": "execute_result"
    }
   ],
   "source": [
    "question_answers[10]"
   ]
  },
  {
   "cell_type": "code",
   "execution_count": 5,
   "id": "ae17b671-329d-4de2-95aa-747ce8d78de9",
   "metadata": {
    "tags": []
   },
   "outputs": [
    {
     "data": {
      "text/html": [
       "<div>\n",
       "<style scoped>\n",
       "    .dataframe tbody tr th:only-of-type {\n",
       "        vertical-align: middle;\n",
       "    }\n",
       "\n",
       "    .dataframe tbody tr th {\n",
       "        vertical-align: top;\n",
       "    }\n",
       "\n",
       "    .dataframe thead th {\n",
       "        text-align: right;\n",
       "    }\n",
       "</style>\n",
       "<table border=\"1\" class=\"dataframe\">\n",
       "  <thead>\n",
       "    <tr style=\"text-align: right;\">\n",
       "      <th></th>\n",
       "      <th>question</th>\n",
       "      <th>answer</th>\n",
       "      <th>score</th>\n",
       "      <th>explanation</th>\n",
       "    </tr>\n",
       "  </thead>\n",
       "  <tbody>\n",
       "    <tr>\n",
       "      <th>0</th>\n",
       "      <td>How did the shift towards business-to-consumer...</td>\n",
       "      <td>The surge in business-to-consumer (B2C) shippi...</td>\n",
       "      <td>5</td>\n",
       "      <td>This question and answer provide valuable insi...</td>\n",
       "    </tr>\n",
       "    <tr>\n",
       "      <th>1</th>\n",
       "      <td>Compare UPS's (UPS) approach to managing incre...</td>\n",
       "      <td>In the U.S. Domestic Package segment, UPS face...</td>\n",
       "      <td>5</td>\n",
       "      <td>This question delves into the specific operati...</td>\n",
       "    </tr>\n",
       "    <tr>\n",
       "      <th>2</th>\n",
       "      <td>List three specific ways the surge in B2C e-co...</td>\n",
       "      <td>The surge in B2C e-commerce affected UPS's ope...</td>\n",
       "      <td>5</td>\n",
       "      <td>This question and answer provide specific deta...</td>\n",
       "    </tr>\n",
       "    <tr>\n",
       "      <th>3</th>\n",
       "      <td>What are three differences in UPS's strategies...</td>\n",
       "      <td>Three differences in UPS's strategies for mana...</td>\n",
       "      <td>5</td>\n",
       "      <td>This question delves into specific operational...</td>\n",
       "    </tr>\n",
       "    <tr>\n",
       "      <th>4</th>\n",
       "      <td>Question 1 &amp; 3: How did the business-to-consum...</td>\n",
       "      <td>The business-to-consumer shift negatively impa...</td>\n",
       "      <td>5</td>\n",
       "      <td>This question and answer provide valuable insi...</td>\n",
       "    </tr>\n",
       "    <tr>\n",
       "      <th>...</th>\n",
       "      <td>...</td>\n",
       "      <td>...</td>\n",
       "      <td>...</td>\n",
       "      <td>...</td>\n",
       "    </tr>\n",
       "    <tr>\n",
       "      <th>13352</th>\n",
       "      <td>According to the risk factors discussed in Mor...</td>\n",
       "      <td>I am sorry, but I cannot answer any of these q...</td>\n",
       "      <td>1</td>\n",
       "      <td>This question cannot be answered based on the ...</td>\n",
       "    </tr>\n",
       "    <tr>\n",
       "      <th>13353</th>\n",
       "      <td>Based on Morgan Stanley's 2022-02-24 SEC filin...</td>\n",
       "      <td>I am sorry, but I cannot answer any of these q...</td>\n",
       "      <td>1</td>\n",
       "      <td>This question cannot be answered by the provid...</td>\n",
       "    </tr>\n",
       "    <tr>\n",
       "      <th>13354</th>\n",
       "      <td>How might market conditions and risk factors, ...</td>\n",
       "      <td>I am sorry, but I cannot answer any of these q...</td>\n",
       "      <td>1</td>\n",
       "      <td>This question probes into the interplay of mar...</td>\n",
       "    </tr>\n",
       "    <tr>\n",
       "      <th>13355</th>\n",
       "      <td>How should Morgan Stanley modify its strategy,...</td>\n",
       "      <td>I am sorry, but I cannot answer any of these q...</td>\n",
       "      <td>1</td>\n",
       "      <td>This question cannot be answered based on the ...</td>\n",
       "    </tr>\n",
       "    <tr>\n",
       "      <th>13356</th>\n",
       "      <td>In light of Morgan Stanley's 2022-02-24 SEC fi...</td>\n",
       "      <td>I am sorry, but I cannot answer any of these q...</td>\n",
       "      <td>1</td>\n",
       "      <td>This question cannot be answered by the analys...</td>\n",
       "    </tr>\n",
       "  </tbody>\n",
       "</table>\n",
       "<p>13357 rows × 4 columns</p>\n",
       "</div>"
      ],
      "text/plain": [
       "                                                question  \\\n",
       "0      How did the shift towards business-to-consumer...   \n",
       "1      Compare UPS's (UPS) approach to managing incre...   \n",
       "2      List three specific ways the surge in B2C e-co...   \n",
       "3      What are three differences in UPS's strategies...   \n",
       "4      Question 1 & 3: How did the business-to-consum...   \n",
       "...                                                  ...   \n",
       "13352  According to the risk factors discussed in Mor...   \n",
       "13353  Based on Morgan Stanley's 2022-02-24 SEC filin...   \n",
       "13354  How might market conditions and risk factors, ...   \n",
       "13355  How should Morgan Stanley modify its strategy,...   \n",
       "13356  In light of Morgan Stanley's 2022-02-24 SEC fi...   \n",
       "\n",
       "                                                  answer  score  \\\n",
       "0      The surge in business-to-consumer (B2C) shippi...      5   \n",
       "1      In the U.S. Domestic Package segment, UPS face...      5   \n",
       "2      The surge in B2C e-commerce affected UPS's ope...      5   \n",
       "3      Three differences in UPS's strategies for mana...      5   \n",
       "4      The business-to-consumer shift negatively impa...      5   \n",
       "...                                                  ...    ...   \n",
       "13352  I am sorry, but I cannot answer any of these q...      1   \n",
       "13353  I am sorry, but I cannot answer any of these q...      1   \n",
       "13354  I am sorry, but I cannot answer any of these q...      1   \n",
       "13355  I am sorry, but I cannot answer any of these q...      1   \n",
       "13356  I am sorry, but I cannot answer any of these q...      1   \n",
       "\n",
       "                                             explanation  \n",
       "0      This question and answer provide valuable insi...  \n",
       "1      This question delves into the specific operati...  \n",
       "2      This question and answer provide specific deta...  \n",
       "3      This question delves into specific operational...  \n",
       "4      This question and answer provide valuable insi...  \n",
       "...                                                  ...  \n",
       "13352  This question cannot be answered based on the ...  \n",
       "13353  This question cannot be answered by the provid...  \n",
       "13354  This question probes into the interplay of mar...  \n",
       "13355  This question cannot be answered based on the ...  \n",
       "13356  This question cannot be answered by the analys...  \n",
       "\n",
       "[13357 rows x 4 columns]"
      ]
     },
     "execution_count": 5,
     "metadata": {},
     "output_type": "execute_result"
    }
   ],
   "source": [
    "import pandas as pd\n",
    "question_answers = pd.DataFrame(data=question_answers)\n",
    "question_answers"
   ]
  },
  {
   "cell_type": "code",
   "execution_count": 6,
   "id": "356ba31d-99ca-4796-b5b7-087f58ae054d",
   "metadata": {
    "tags": []
   },
   "outputs": [],
   "source": [
    "best_questions = question_answers[question_answers['score'] > 3]"
   ]
  },
  {
   "cell_type": "code",
   "execution_count": 7,
   "id": "98b3f7f1-236b-4693-a31b-fda713ee16ff",
   "metadata": {
    "tags": []
   },
   "outputs": [
    {
     "data": {
      "text/plain": [
       "89.87796660926855"
      ]
     },
     "execution_count": 7,
     "metadata": {},
     "output_type": "execute_result"
    }
   ],
   "source": [
    "100*len(best_questions)/len(question_answers)"
   ]
  },
  {
   "cell_type": "code",
   "execution_count": 8,
   "id": "f6f7c976-8211-4e66-bab8-2a160407d221",
   "metadata": {
    "tags": []
   },
   "outputs": [],
   "source": [
    "# shuffle and split\n",
    "best_questions = best_questions.sample(frac=1).reset_index(drop=True)\n",
    "num_train = (len(best_questions)*9)//10  # 90%\n",
    "train_questions = best_questions[:num_train]\n",
    "eval_questions  = best_questions[num_train:]"
   ]
  },
  {
   "cell_type": "markdown",
   "id": "642d517a-5452-444c-9af2-8500ddc80474",
   "metadata": {},
   "source": [
    "## Load in model"
   ]
  },
  {
   "cell_type": "code",
   "execution_count": 9,
   "id": "14dbef4c-ef94-490c-afa0-124be5e9bd76",
   "metadata": {},
   "outputs": [
    {
     "name": "stdout",
     "output_type": "stream",
     "text": [
      "🦥 Unsloth: Will patch your computer to enable 2x faster free finetuning.\n",
      "Unsloth: Failed to patch Gemma3ForConditionalGeneration.\n",
      "🦥 Unsloth Zoo will now patch everything to make training faster!\n",
      "==((====))==  Unsloth 2025.3.19: Fast Gemma3 patching. Transformers: 4.51.1.\n",
      "   \\\\   /|    NVIDIA L4. Num GPUs = 1. Max memory: 21.951 GB. Platform: Linux.\n",
      "O^O/ \\_/ \\    Torch: 2.6.0+cu124. CUDA: 8.9. CUDA Toolkit: 12.4. Triton: 3.2.0\n",
      "\\        /    Bfloat16 = TRUE. FA [Xformers = 0.0.29.post3. FA2 = False]\n",
      " \"-____-\"     Free license: http://github.com/unslothai/unsloth\n",
      "Unsloth: Fast downloading is enabled - ignore downloading bars which are red colored!\n"
     ]
    }
   ],
   "source": [
    "from unsloth import FastLanguageModel\n",
    "import torch\n",
    "max_seq_length = 4096 # length of an answer\n",
    "dtype = None # None for auto detection. Float16 for Tesla T4, V100, Bfloat16 for Ampere+\n",
    "load_in_4bit = True # Use 4bit quantization to reduce memory usage.\n",
    "\n",
    "model, tokenizer = FastLanguageModel.from_pretrained(\n",
    "    model_name = \"unsloth/gemma-3-1b-it-bnb-4bit\",\n",
    "    max_seq_length = max_seq_length,\n",
    "    dtype = dtype,\n",
    "    load_in_4bit = load_in_4bit,\n",
    "    # token = \"hf_...\", # use one if using gated models like meta-llama/Llama-2-7b-hf\n",
    ")"
   ]
  },
  {
   "cell_type": "code",
   "execution_count": 10,
   "id": "243ff7e2-9f12-47f4-a598-f5b420c90121",
   "metadata": {},
   "outputs": [
    {
     "name": "stderr",
     "output_type": "stream",
     "text": [
      "/opt/conda/lib/python3.10/site-packages/peft/tuners/tuners_utils.py:550: UserWarning: Model with `tie_word_embeddings=True` and the tied_target_modules=['model.embed_tokens', 'lm_head'] are part of the adapter. This can lead to complications, for example when merging the adapter or converting your model to formats other than safetensors. See for example https://github.com/huggingface/peft/issues/2018.\n",
      "  warnings.warn(\n"
     ]
    },
    {
     "name": "stdout",
     "output_type": "stream",
     "text": [
      "Unsloth: Making `model.base_model.model.model.embed_tokens` require gradients\n"
     ]
    }
   ],
   "source": [
    "model = FastLanguageModel.get_peft_model(\n",
    "    model,\n",
    "    r = 16, # Choose any number > 0 ! Suggested 8, 16, 32, 64, 128\n",
    "    target_modules = [\"q_proj\", \"k_proj\", \"v_proj\", \"o_proj\",\n",
    "                      \"gate_proj\",\n",
    "                      \"up_proj\", \"down_proj\",\n",
    "                      \"embed_tokens\", \"lm_head\",],\n",
    "    lora_alpha = 32,\n",
    "    lora_dropout = 0, # Supports any, but = 0 is optimized\n",
    "    bias = \"none\",    # Supports any, but = \"none\" is optimized\n",
    "    use_gradient_checkpointing = \"unsloth\", # True or \"unsloth\" for very long context\n",
    "    random_state = 3407,\n",
    "    use_rslora = True,  # We support rank stabilized LoRA\n",
    "    loftq_config = None, # And LoftQ\n",
    ")"
   ]
  },
  {
   "cell_type": "markdown",
   "id": "215df678-c06f-4ece-9f6d-b746aadf44c9",
   "metadata": {
    "tags": []
   },
   "source": [
    "## Base model\n",
    "\n",
    "Use of the badly answered questions that will not be used in training."
   ]
  },
  {
   "cell_type": "code",
   "execution_count": 11,
   "id": "b4627b7f-336c-413d-b45d-6abb2aab5878",
   "metadata": {
    "tags": []
   },
   "outputs": [
    {
     "name": "stdout",
     "output_type": "stream",
     "text": [
      "{\"question\": \"Here are 3 analytical questions about Morgan Stanley's SEC filing from 2022-02-24 suitable for an MBA class on company strategy:\\n\\n1.  How might the market conditions described in Morgan Stanley's 2022-02-24 SEC filing influence their strategic decisions regarding investment banking and advisory services in the subsequent years?\\n\\n2.  Considering the information presented in Morgan Stanley's 2022-02-24 SEC filing, what potential strategic advantages and disadvantages might Morgan Stanley have compared to its competitors in the wealth management sector?\\n\\n3.  Based on the risk factors discussed in Morgan Stanley's 2022-02-24 SEC filing, how could Morgan Stanley adjust its corporate strategy to mitigate these risks and ensure long-term sustainability? \", \"answer\": \"I am sorry, but I cannot answer any of these questions as the content of the SEC filing is unavailable to me.\", \"score\": 1, \"explanation\": \"The answer states that it cannot answer any of these questions as the content of the SEC filing is unavailable. Therefore, the score should be 1, as the answer provides no insight and is essentially useless.\"}\n",
      "{\"question\": \"Assuming a major competitor aggressively expands its wealth management services targeting ultra-high-net-worth individuals, what potential strategic advantages and disadvantages might Morgan Stanley have, based on the information in their 2022-02-24 SEC filing, and how should they adapt their client acquisition and retention strategies?\", \"answer\": \"I am sorry, but I cannot answer any of these questions as the content of the SEC filing is unavailable to me.\", \"score\": 1, \"explanation\": \"The answer states that the information is unavailable, therefore it's not insightful. The question itself is reasonable, but the lack of an answer makes it useless for an article.\"}\n",
      "{\"question\": \"Considering a hypothetical scenario where interest rates rise unexpectedly and significantly, how might the market conditions described in Morgan Stanley's 2022-02-24 SEC filing influence their strategic decisions regarding investment banking and advisory services, especially concerning M&A activity in the tech sector, given potential regulatory changes?\", \"answer\": \"I am sorry, but I cannot answer any of these questions as the content of the SEC filing is unavailable to me.\", \"score\": 1, \"explanation\": \"This question probes into a specific market scenario (interest rate hike) and asks about its influence on Morgan Stanley's strategic decisions related to investment banking, M&A in the tech sector, and potential regulatory changes, referencing a specific SEC filing. The answer, however, indicates that the content of the SEC filing is unavailable, making it impossible to provide a meaningful response. Therefore, the question cannot be properly answered in the current context. It is not insightful since it relies on unavailable information. Thus, I will give it a score of 1.\"}\n",
      "{\"question\": \"What are three specific ways that market volatility, as detailed in Morgan Stanley's 2022-02-24 SEC filing, could require adjustments to their investment banking strategy, and why might these adjustments be necessary?\", \"answer\": \"I am sorry, but I cannot answer any of these questions as the content of the SEC filing is unavailable to me.\", \"score\": 1, \"explanation\": \"The answer indicates that the analyst couldn't access the SEC filing, which makes it impossible to provide any meaningful insights. The question itself is well-targeted, but the lack of an informed answer renders it useless for an article.\"}\n",
      "{\"question\": \"According to Morgan Stanley's 2022-02-24 SEC filing, what are the steps Morgan Stanley could take to amplify its advantages and diminish its disadvantages in wealth management?\", \"answer\": \"I am sorry, but I cannot answer any of these questions as the content of the SEC filing is unavailable to me.\", \"score\": 1, \"explanation\": \"This question is impossible to answer because the answer is unavailable. It is not insightful. Therefore, the score is 1.\"}\n",
      "{\"question\": \"According to the risk factors discussed in Morgan Stanley's 2022-02-24 SEC filing, provide three reasons why Morgan Stanley's profitability might not be higher.\", \"answer\": \"I am sorry, but I cannot answer any of these questions as the content of the SEC filing is unavailable to me.\", \"score\": 1, \"explanation\": \"This question cannot be answered based on the available information, making it unsuitable for the article.\"}\n",
      "{\"question\": \"Based on Morgan Stanley's 2022-02-24 SEC filing, what advantages/disadvantages does Morgan Stanley possess relative to competitors in wealth management, considering the market conditions?\", \"answer\": \"I am sorry, but I cannot answer any of these questions as the content of the SEC filing is unavailable to me.\", \"score\": 1, \"explanation\": \"This question cannot be answered by the provided tool, so it doesn't provide any insight. Therefore, it's not a good interview question.\"}\n",
      "{\"question\": \"How might market conditions and risk factors, as described in Morgan Stanley's 2022-02-24 SEC filing, jointly shape their investment banking and advisory strategies in later years?\", \"answer\": \"I am sorry, but I cannot answer any of these questions as the content of the SEC filing is unavailable to me.\", \"score\": 1, \"explanation\": \"This question probes into the interplay of market conditions, risk factors, and strategic decision-making, referencing a specific source (Morgan Stanley's SEC filing). However, the answer states that the content of the SEC filing is unavailable, making it impossible to assess the analyst's insight. Therefore, this question and answer provide no value.\"}\n",
      "{\"question\": \"How should Morgan Stanley modify its strategy, based on its 2022-02-24 SEC filing, to address risk factors for long-term sustainability, while also optimizing investment banking?\", \"answer\": \"I am sorry, but I cannot answer any of these questions as the content of the SEC filing is unavailable to me.\", \"score\": 1, \"explanation\": \"This question cannot be answered based on the available tools. Therefore, it does not provide any insights. I'll give it a score of 1.\"}\n",
      "{\"question\": \"In light of Morgan Stanley's 2022-02-24 SEC filing, how might market conditions impact their strategic decisions, considering their wealth management advantages and disadvantages?\", \"answer\": \"I am sorry, but I cannot answer any of these questions as the content of the SEC filing is unavailable to me.\", \"score\": 1, \"explanation\": \"This question cannot be answered by the analyst, and therefore is not insightful for the audience.\"}\n"
     ]
    }
   ],
   "source": [
    "# one of the badly answered questions\n",
    "!tail generated_qas_scored.json"
   ]
  },
  {
   "cell_type": "code",
   "execution_count": 12,
   "id": "2b322c6a-4b8d-41af-85d3-6175615d59d4",
   "metadata": {
    "tags": []
   },
   "outputs": [
    {
     "name": "stdout",
     "output_type": "stream",
     "text": [
      "<bos>Q: \n",
      "Assuming a major competitor aggressively expands its wealth management services targeting ultra-high-net-worth individuals,\n",
      "what potential strategic advantages and disadvantages might Morgan Stanley have\n",
      "and how should they adapt their client acquisition and retention strategies?\n",
      "Answer in 2-3 sentences.\n",
      "\n",
      "A: <bos>Q: \n",
      "Assuming a major competitor aggressively expands its wealth management services targeting ultra-high-net-worth individuals,\n",
      "what potential strategic advantages and disadvantages might Morgan Stanley have\n",
      "and how should they adapt their client acquisition and retention strategies?\n",
      "Answer in 2-3 sentences.\n",
      "\n",
      "A: \n",
      "\n",
      "Morgan Stanley could leverage its existing global network to attract and retain ultra-high-net-worth clients, offering bespoke wealth management services tailored to their unique needs. \n",
      "However, this strategic advantage would be countered by the intense competition from the rival competitor, potentially leading to a loss of market share if the rival’s offerings are perceived as superior. \n",
      "\n",
      "To adapt, Morgan Stanley should prioritize enhanced due diligence and premium service delivery, while also exploring new partnerships and digital channels.\n",
      "<end_of_turn>\n"
     ]
    }
   ],
   "source": [
    "from transformers import TextStreamer\n",
    "FastLanguageModel.for_inference(model) # Enable native 2x faster inference\n",
    "text_streamer = TextStreamer(tokenizer)\n",
    "\n",
    "question = \"\"\"\n",
    "Assuming a major competitor aggressively expands its wealth management services targeting ultra-high-net-worth individuals,\n",
    "what potential strategic advantages and disadvantages might Morgan Stanley have\n",
    "and how should they adapt their client acquisition and retention strategies?\n",
    "Answer in 2-3 sentences.\n",
    "\"\"\"\n",
    "inputs = tokenizer(\n",
    "    [\n",
    "        f\"Q: {question}\\nA: \",\n",
    "    ],\n",
    "    return_tensors=\"pt\",\n",
    ").to(\"cuda\")\n",
    "_ = model.generate(**inputs, streamer = text_streamer, max_new_tokens = 128)"
   ]
  },
  {
   "cell_type": "markdown",
   "id": "95dcc2ae-3d40-4102-b516-22aa532540e4",
   "metadata": {},
   "source": [
    "## Load training data"
   ]
  },
  {
   "cell_type": "code",
   "execution_count": 13,
   "id": "f323eeb9-5c66-4649-a2b3-ad5c895f7f02",
   "metadata": {
    "tags": []
   },
   "outputs": [],
   "source": [
    "import datasets\n",
    "train_dataset = datasets.Dataset.from_pandas(train_questions)\n",
    "eval_dataset = datasets.Dataset.from_pandas(eval_questions)"
   ]
  },
  {
   "cell_type": "code",
   "execution_count": 14,
   "id": "f5ceb362-8e26-41c9-947c-cc0641badb0d",
   "metadata": {
    "tags": []
   },
   "outputs": [
    {
     "data": {
      "application/vnd.jupyter.widget-view+json": {
       "model_id": "02b07ce46e124e82b576051bfd5b4796",
       "version_major": 2,
       "version_minor": 0
      },
      "text/plain": [
       "Map:   0%|          | 0/10804 [00:00<?, ? examples/s]"
      ]
     },
     "metadata": {},
     "output_type": "display_data"
    },
    {
     "data": {
      "application/vnd.jupyter.widget-view+json": {
       "model_id": "0138138ac73a44bebcb52514c713d215",
       "version_major": 2,
       "version_minor": 0
      },
      "text/plain": [
       "Map:   0%|          | 0/1201 [00:00<?, ? examples/s]"
      ]
     },
     "metadata": {},
     "output_type": "display_data"
    }
   ],
   "source": [
    "EOS_TOKEN = tokenizer.eos_token # Must add EOS_TOKEN\n",
    "def formatting_prompts_func(examples):\n",
    "    instructions = examples[\"question\"]\n",
    "    responses    = examples[\"answer\"]\n",
    "    texts = []\n",
    "    for instruction, response in zip(instructions, responses):\n",
    "        # Must add EOS_TOKEN, otherwise your generation will go on forever!\n",
    "        text = f\"\"\"Q: {instruction}\n",
    "        \n",
    "A: {response}\"\"\" + EOS_TOKEN\n",
    "        texts.append(text)\n",
    "    return { \"text\" : texts, }\n",
    "\n",
    "train_dataset = train_dataset.map(formatting_prompts_func, batched = True,)\n",
    "eval_dataset = eval_dataset.map(formatting_prompts_func, batched = True,)"
   ]
  },
  {
   "cell_type": "code",
   "execution_count": 15,
   "id": "bb74f8fa-cfbf-42e5-8ed9-a13794158b94",
   "metadata": {},
   "outputs": [
    {
     "name": "stdout",
     "output_type": "stream",
     "text": [
      "Q: How did Illinois Tool Works' (ITW) strategic decision in 2012 to shift its primary growth engine to organic growth influence its acquisition strategy in 2021, particularly with the acquisition of the MTS Test & Simulation business?\n",
      "        \n",
      "A: ITW's shift to organic growth led to a more selective acquisition strategy, focusing on high-quality businesses that supplement long-term growth potential and fit the ITW Business Model. The MTS Test & Simulation acquisition exemplifies this, bringing differentiated technology that can benefit from ITW's 80/20 process to improve earnings and margins. This aligns with ITW's goal of operating in industries where it can generate significant competitive advantage through its business model.<end_of_turn>\n"
     ]
    }
   ],
   "source": [
    "print(train_dataset[0][\"text\"])"
   ]
  },
  {
   "cell_type": "markdown",
   "id": "2b0a2bfd-cbf9-4854-bad2-c857253b0c58",
   "metadata": {
    "tags": []
   },
   "source": [
    "## Train the model\n"
   ]
  },
  {
   "cell_type": "code",
   "execution_count": 16,
   "id": "a36d660a-d093-4697-b1a9-b994a4917e9d",
   "metadata": {},
   "outputs": [
    {
     "data": {
      "application/vnd.jupyter.widget-view+json": {
       "model_id": "daa4faea06ed4f0c98d6d4cdd736e8e5",
       "version_major": 2,
       "version_minor": 0
      },
      "text/plain": [
       "Unsloth: Tokenizing [\"text\"] (num_proc=8):   0%|          | 0/10804 [00:00<?, ? examples/s]"
      ]
     },
     "metadata": {},
     "output_type": "display_data"
    },
    {
     "data": {
      "application/vnd.jupyter.widget-view+json": {
       "model_id": "d04fcbb9b0b042df94dcce70a9eaf765",
       "version_major": 2,
       "version_minor": 0
      },
      "text/plain": [
       "Unsloth: Tokenizing [\"text\"] (num_proc=8):   0%|          | 0/1201 [00:00<?, ? examples/s]"
      ]
     },
     "metadata": {},
     "output_type": "display_data"
    }
   ],
   "source": [
    "from trl import SFTTrainer\n",
    "from transformers import TrainingArguments\n",
    "from unsloth import is_bfloat16_supported\n",
    "from unsloth import UnslothTrainer, UnslothTrainingArguments\n",
    "\n",
    "trainer = UnslothTrainer(\n",
    "    model = model,\n",
    "    tokenizer = tokenizer,\n",
    "    train_dataset = train_dataset,\n",
    "    eval_dataset = eval_dataset,\n",
    "    dataset_text_field = \"text\",\n",
    "    max_seq_length = max_seq_length,\n",
    "    dataset_num_proc = 8,\n",
    "    packing = False, # Can make training 5x faster for short sequences.\n",
    "    args = UnslothTrainingArguments(\n",
    "        per_device_train_batch_size = 2,\n",
    "        gradient_accumulation_steps = 64,\n",
    "        # warmup_ratio = 0.1,\n",
    "        # max_steps = 5, # if commented, training_epochs\n",
    "        warmup_steps = 5,\n",
    "        num_train_epochs = 3,\n",
    "        learning_rate = 5e-5*2,\n",
    "        embedding_learning_rate = 5e-5/2,\n",
    "        fp16 = not is_bfloat16_supported(),\n",
    "        bf16 = is_bfloat16_supported(),\n",
    "        logging_steps = 25,\n",
    "        evaluation_steps = 100,\n",
    "        optim = \"lion_8bit\",\n",
    "        weight_decay = 0.00,\n",
    "        lr_scheduler_type = \"cosine\",\n",
    "        seed = 3407,\n",
    "        output_dir = \"trained_model\",\n",
    "    ),\n",
    ")"
   ]
  },
  {
   "cell_type": "code",
   "execution_count": 17,
   "id": "756f32d0-e248-4bbc-af09-caef5bfbe6fd",
   "metadata": {},
   "outputs": [
    {
     "name": "stderr",
     "output_type": "stream",
     "text": [
      "==((====))==  Unsloth - 2x faster free finetuning | Num GPUs used = 1\n",
      "   \\\\   /|    Num examples = 10,804 | Num Epochs = 3 | Total steps = 252\n",
      "O^O/ \\_/ \\    Batch size per device = 2 | Gradient accumulation steps = 64\n",
      "\\        /    Data Parallel GPUs = 1 | Total batch size (2 x 64 x 1) = 128\n",
      " \"-____-\"     Trainable parameters = 17,258,496/1,000,000,000 (1.73% trained)\n",
      "`use_cache=True` is incompatible with gradient checkpointing. Setting `use_cache=False`.\n"
     ]
    },
    {
     "data": {
      "text/html": [
       "\n",
       "    <div>\n",
       "      \n",
       "      <progress value='252' max='252' style='width:300px; height:20px; vertical-align: middle;'></progress>\n",
       "      [252/252 2:24:06, Epoch 2/3]\n",
       "    </div>\n",
       "    <table border=\"1\" class=\"dataframe\">\n",
       "  <thead>\n",
       " <tr style=\"text-align: left;\">\n",
       "      <th>Step</th>\n",
       "      <th>Training Loss</th>\n",
       "    </tr>\n",
       "  </thead>\n",
       "  <tbody>\n",
       "    <tr>\n",
       "      <td>25</td>\n",
       "      <td>2.480600</td>\n",
       "    </tr>\n",
       "    <tr>\n",
       "      <td>50</td>\n",
       "      <td>1.999700</td>\n",
       "    </tr>\n",
       "    <tr>\n",
       "      <td>75</td>\n",
       "      <td>1.918400</td>\n",
       "    </tr>\n",
       "    <tr>\n",
       "      <td>100</td>\n",
       "      <td>1.845600</td>\n",
       "    </tr>\n",
       "    <tr>\n",
       "      <td>125</td>\n",
       "      <td>1.789900</td>\n",
       "    </tr>\n",
       "    <tr>\n",
       "      <td>150</td>\n",
       "      <td>1.781700</td>\n",
       "    </tr>\n",
       "    <tr>\n",
       "      <td>175</td>\n",
       "      <td>1.760000</td>\n",
       "    </tr>\n",
       "    <tr>\n",
       "      <td>200</td>\n",
       "      <td>1.721600</td>\n",
       "    </tr>\n",
       "    <tr>\n",
       "      <td>225</td>\n",
       "      <td>1.717500</td>\n",
       "    </tr>\n",
       "    <tr>\n",
       "      <td>250</td>\n",
       "      <td>1.709300</td>\n",
       "    </tr>\n",
       "  </tbody>\n",
       "</table><p>"
      ],
      "text/plain": [
       "<IPython.core.display.HTML object>"
      ]
     },
     "metadata": {},
     "output_type": "display_data"
    },
    {
     "name": "stdout",
     "output_type": "stream",
     "text": [
      "Unsloth: Will smartly offload gradients to save VRAM!\n"
     ]
    },
    {
     "name": "stderr",
     "output_type": "stream",
     "text": [
      "/opt/conda/lib/python3.10/site-packages/peft/utils/save_and_load.py:220: UserWarning: Setting `save_embedding_layers` to `True` as embedding layers found in `target_modules`.\n",
      "  warnings.warn(\"Setting `save_embedding_layers` to `True` as embedding layers found in `target_modules`.\")\n"
     ]
    }
   ],
   "source": [
    "trainer_stats = trainer.train()"
   ]
  },
  {
   "cell_type": "code",
   "execution_count": 23,
   "id": "9e83641a-8eab-4f53-8384-2dd8b9b01244",
   "metadata": {
    "tags": []
   },
   "outputs": [
    {
     "data": {
      "text/plain": [
       "TrainOutput(global_step=252, training_loss=1.870930844829196, metrics={'train_runtime': 8692.521, 'train_samples_per_second': 3.729, 'train_steps_per_second': 0.029, 'total_flos': 1.914319245768499e+16, 'train_loss': 1.870930844829196})"
      ]
     },
     "execution_count": 23,
     "metadata": {},
     "output_type": "execute_result"
    }
   ],
   "source": [
    "trainer_stats"
   ]
  },
  {
   "cell_type": "code",
   "execution_count": 18,
   "id": "fd3ce7ea-7d7f-457b-a88c-ae7f102b1fcc",
   "metadata": {
    "tags": []
   },
   "outputs": [
    {
     "name": "stderr",
     "output_type": "stream",
     "text": [
      "/opt/conda/lib/python3.10/site-packages/peft/utils/save_and_load.py:220: UserWarning: Setting `save_embedding_layers` to `True` as embedding layers found in `target_modules`.\n",
      "  warnings.warn(\"Setting `save_embedding_layers` to `True` as embedding layers found in `target_modules`.\")\n"
     ]
    }
   ],
   "source": [
    "trainer.save_model()"
   ]
  },
  {
   "cell_type": "code",
   "execution_count": 19,
   "id": "3a047400-bac5-43fc-87cc-7cef8323ba2e",
   "metadata": {},
   "outputs": [],
   "source": [
    "# Fails due to https://github.com/unslothai/unsloth/issues/2240, so keep them separate\n",
    "# model.save_pretrained_merged(\"lora_model\", tokenizer, save_method = \"lora\", token=os.environ['HF_TOKEN'])"
   ]
  },
  {
   "cell_type": "markdown",
   "id": "149a1765-4b7f-4f82-a756-a5875bc13fda",
   "metadata": {},
   "source": [
    "## Inference with trained model"
   ]
  },
  {
   "cell_type": "code",
   "execution_count": 20,
   "id": "e2a760ff-16ad-42b0-993c-acd1c80d4c4a",
   "metadata": {
    "tags": []
   },
   "outputs": [
    {
     "name": "stdout",
     "output_type": "stream",
     "text": [
      "==((====))==  Unsloth 2025.3.19: Fast Gemma3 patching. Transformers: 4.51.1.\n",
      "   \\\\   /|    NVIDIA L4. Num GPUs = 1. Max memory: 21.951 GB. Platform: Linux.\n",
      "O^O/ \\_/ \\    Torch: 2.6.0+cu124. CUDA: 8.9. CUDA Toolkit: 12.4. Triton: 3.2.0\n",
      "\\        /    Bfloat16 = TRUE. FA [Xformers = 0.0.29.post3. FA2 = False]\n",
      " \"-____-\"     Free license: http://github.com/unslothai/unsloth\n",
      "Unsloth: Fast downloading is enabled - ignore downloading bars which are red colored!\n"
     ]
    }
   ],
   "source": [
    "from unsloth import FastLanguageModel\n",
    "model, tokenizer = FastLanguageModel.from_pretrained(\n",
    "    model_name = \"trained_model\", # TRAINED MODEL\n",
    "    max_seq_length = max_seq_length,\n",
    "    dtype = dtype,\n",
    "    load_in_4bit = load_in_4bit,\n",
    ")"
   ]
  },
  {
   "cell_type": "code",
   "execution_count": 26,
   "id": "0d89bfe7-74e7-4348-8a83-1ef692d30732",
   "metadata": {
    "tags": []
   },
   "outputs": [
    {
     "name": "stdout",
     "output_type": "stream",
     "text": [
      "<bos>Q: \n",
      "Assuming a major competitor aggressively expands its wealth management services targeting ultra-high-net-worth individuals,\n",
      "what potential strategic advantages and disadvantages might Morgan Stanley have\n",
      "and how should they adapt their client acquisition and retention strategies?\n",
      "Answer in 1-3 sentences.\n",
      "\n",
      "A: \n",
      "\n",
      "Morgan Stanley will gain advantages by leveraging its existing global footprint, reputation as a long-term investment firm, and expertise in managing complex financial situations. However, they'll face significant disadvantages, including potentially increased competition from new entrants, shifting client preferences towards alternative investment vehicles, and regulatory scrutiny. Adapting their client acquisition and retention strategies requires a multi-pronged approach: increasing focus on bespoke, relationship-driven strategies alongside fostering strategic partnerships with complementary wealth management firms and exploring new digital platforms and omnichannel approaches.\n",
      "**\n",
      "<end_of_turn>\n"
     ]
    }
   ],
   "source": [
    "from transformers import TextStreamer\n",
    "FastLanguageModel.for_inference(model) # Enable native 2x faster inference\n",
    "text_streamer = TextStreamer(tokenizer)\n",
    "\n",
    "question = \"\"\"\n",
    "Assuming a major competitor aggressively expands its wealth management services targeting ultra-high-net-worth individuals,\n",
    "what potential strategic advantages and disadvantages might Morgan Stanley have\n",
    "and how should they adapt their client acquisition and retention strategies?\n",
    "Answer in 1-3 sentences.\n",
    "\"\"\"\n",
    "inputs = tokenizer(\n",
    "    [\n",
    "        f\"Q: {question}\\nA: \",\n",
    "    ],\n",
    "    return_tensors=\"pt\",\n",
    ").to(\"cuda\")\n",
    "_ = model.generate(**inputs, streamer = text_streamer, max_new_tokens = 128)"
   ]
  },
  {
   "cell_type": "code",
   "execution_count": null,
   "id": "57915830-c6e3-4027-850e-87e4a0a09981",
   "metadata": {},
   "outputs": [],
   "source": []
  }
 ],
 "metadata": {
  "environment": {
   "kernel": "conda-base-py",
   "name": "workbench-notebooks.m126",
   "type": "gcloud",
   "uri": "us-docker.pkg.dev/deeplearning-platform-release/gcr.io/workbench-notebooks:m126"
  },
  "kernelspec": {
   "display_name": "Python 3 (ipykernel) (Local)",
   "language": "python",
   "name": "conda-base-py"
  },
  "language_info": {
   "codemirror_mode": {
    "name": "ipython",
    "version": 3
   },
   "file_extension": ".py",
   "mimetype": "text/x-python",
   "name": "python",
   "nbconvert_exporter": "python",
   "pygments_lexer": "ipython3",
   "version": "3.10.15"
  }
 },
 "nbformat": 4,
 "nbformat_minor": 5
}
