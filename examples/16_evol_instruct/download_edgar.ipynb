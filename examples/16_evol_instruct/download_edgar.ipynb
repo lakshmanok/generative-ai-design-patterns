{
 "cells": [
  {
   "cell_type": "markdown",
   "metadata": {
    "id": "NmGnLOt-8_KO"
   },
   "source": [
    "# Download 10K filings data from Edgar\n",
    "\n",
    "We will download financial filings on all S&P 500 constituents for 2024.\n",
    "\n",
    "## Install edgar crawler software"
   ]
  },
  {
   "cell_type": "code",
   "execution_count": null,
   "metadata": {
    "colab": {
     "base_uri": "https://localhost:8080/"
    },
    "id": "324iIkb78reB",
    "outputId": "f215c727-79c7-4401-99a4-5ffe97f4f708",
    "tags": []
   },
   "outputs": [],
   "source": [
    "%%bash\n",
    "git clone https://github.com/nlpaueb/edgar-crawler.git\n",
    "cd edgar-crawler/\n",
    "cp ../crawler_config.json ./config.json\n",
    "pip install --quiet -r requirements.txt"
   ]
  },
  {
   "cell_type": "markdown",
   "metadata": {
    "id": "22FioVk__cnr"
   },
   "source": [
    "## Download filings"
   ]
  },
  {
   "cell_type": "code",
   "execution_count": null,
   "metadata": {
    "colab": {
     "base_uri": "https://localhost:8080/"
    },
    "id": "qgRfptPY_i77",
    "outputId": "f8e8261b-cbfe-49c9-f905-946bcfd415f5",
    "tags": []
   },
   "outputs": [],
   "source": [
    "%%bash\n",
    "cd edgar-crawler\n",
    "python download_filings.py"
   ]
  },
  {
   "cell_type": "code",
   "execution_count": 8,
   "metadata": {
    "id": "Iec9aysJ_-oU",
    "tags": []
   },
   "outputs": [
    {
     "name": "stdout",
     "output_type": "stream",
     "text": [
      "   1125   10118  103446\n"
     ]
    }
   ],
   "source": [
    "!ls -l edgar-crawler/datasets/RAW_FILINGS/10-K/ | wc"
   ]
  },
  {
   "cell_type": "code",
   "execution_count": null,
   "metadata": {
    "tags": []
   },
   "outputs": [
    {
     "name": "stderr",
     "output_type": "stream",
     "text": [
      "Starting the structured JSON extraction from 1124 unstructured EDGAR filings.\n",
      " 66%|██████████████████████████████████████▌                   | 747/1124 [1:00:59<43:33,  6.93s/it]"
     ]
    }
   ],
   "source": [
    "%%bash\n",
    "cd edgar-crawler\n",
    "python extract_items.py"
   ]
  },
  {
   "cell_type": "code",
   "execution_count": 2,
   "metadata": {},
   "outputs": [
    {
     "name": "stdout",
     "output_type": "stream",
     "text": [
      "   1125   10118  103445\n"
     ]
    }
   ],
   "source": [
    "!ls -l edgar-crawler/datasets/EXTRACTED_FILINGS/10-K/ | wc"
   ]
  },
  {
   "cell_type": "code",
   "execution_count": null,
   "metadata": {},
   "outputs": [],
   "source": []
  }
 ],
 "metadata": {
  "colab": {
   "provenance": []
  },
  "environment": {
   "kernel": "conda-base-py",
   "name": "workbench-notebooks.m126",
   "type": "gcloud",
   "uri": "us-docker.pkg.dev/deeplearning-platform-release/gcr.io/workbench-notebooks:m126"
  },
  "kernelspec": {
   "display_name": "Python 3 (ipykernel) (Local)",
   "language": "python",
   "name": "conda-base-py"
  },
  "language_info": {
   "codemirror_mode": {
    "name": "ipython",
    "version": 3
   },
   "file_extension": ".py",
   "mimetype": "text/x-python",
   "name": "python",
   "nbconvert_exporter": "python",
   "pygments_lexer": "ipython3",
   "version": "3.10.15"
  }
 },
 "nbformat": 4,
 "nbformat_minor": 4
}
