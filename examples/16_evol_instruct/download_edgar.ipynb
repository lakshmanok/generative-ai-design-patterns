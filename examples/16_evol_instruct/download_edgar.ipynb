{
 "cells": [
  {
   "cell_type": "markdown",
   "metadata": {
    "id": "NmGnLOt-8_KO"
   },
   "source": [
    "# Download 10K filings data from Edgar\n",
    "\n",
    "We will download financial filings on all S&P 500 constituents for 2024.\n",
    "\n",
    "## Install edgar crawler software"
   ]
  },
  {
   "cell_type": "code",
   "execution_count": null,
   "metadata": {
    "colab": {
     "base_uri": "https://localhost:8080/"
    },
    "id": "324iIkb78reB",
    "outputId": "f215c727-79c7-4401-99a4-5ffe97f4f708",
    "tags": []
   },
   "outputs": [],
   "source": [
    "%%bash\n",
    "git clone https://github.com/nlpaueb/edgar-crawler.git\n",
    "cd edgar-crawler/\n",
    "cp ../crawler_config.json ./config.json\n",
    "pip install --quiet -r requirements.txt"
   ]
  },
  {
   "cell_type": "markdown",
   "metadata": {
    "id": "22FioVk__cnr"
   },
   "source": [
    "## Download filings"
   ]
  },
  {
   "cell_type": "code",
   "execution_count": null,
   "metadata": {
    "colab": {
     "base_uri": "https://localhost:8080/"
    },
    "id": "qgRfptPY_i77",
    "outputId": "f8e8261b-cbfe-49c9-f905-946bcfd415f5",
    "tags": []
   },
   "outputs": [],
   "source": [
    "%%bash\n",
    "cd edgar-crawler\n",
    "python download_filings.py"
   ]
  },
  {
   "cell_type": "code",
   "execution_count": 8,
   "metadata": {
    "id": "Iec9aysJ_-oU",
    "tags": []
   },
   "outputs": [
    {
     "name": "stdout",
     "output_type": "stream",
     "text": [
      "   1125   10118  103446\n"
     ]
    }
   ],
   "source": [
    "!ls -l edgar-crawler/datasets/RAW_FILINGS/10-K/ | wc"
   ]
  },
  {
   "cell_type": "code",
   "execution_count": null,
   "metadata": {
    "tags": []
   },
   "outputs": [
    {
     "name": "stderr",
     "output_type": "stream",
     "text": [
      "Starting the structured JSON extraction from 1124 unstructured EDGAR filings.\n",
      " 66%|██████████████████████████████████████▌                   | 747/1124 [1:00:59<43:33,  6.93s/it]"
     ]
    }
   ],
   "source": [
    "%%bash\n",
    "cd edgar-crawler\n",
    "python extract_items.py"
   ]
  },
  {
   "cell_type": "code",
   "execution_count": 2,
   "metadata": {},
   "outputs": [
    {
     "name": "stdout",
     "output_type": "stream",
     "text": [
      "   1125   10118  103445\n"
     ]
    }
   ],
   "source": [
    "!ls -l edgar-crawler/datasets/EXTRACTED_FILINGS/10-K/ | wc"
   ]
  },
  {
   "cell_type": "markdown",
   "metadata": {},
   "source": [
    "## Example of management discussion"
   ]
  },
  {
   "cell_type": "code",
   "execution_count": 4,
   "metadata": {
    "tags": []
   },
   "outputs": [
    {
     "name": "stdout",
     "output_type": "stream",
     "text": [
      "dict_keys(['cik', 'company', 'filing_type', 'filing_date', 'period_of_report', 'sic', 'state_of_inc', 'state_location', 'fiscal_year_end', 'filing_html_index', 'htm_filing_link', 'complete_text_filing_link', 'filename', 'item_1', 'item_1A', 'item_1B', 'item_1C', 'item_2', 'item_3', 'item_4', 'item_5', 'item_6', 'item_7', 'item_7A', 'item_8', 'item_9', 'item_9A', 'item_9B', 'item_9C', 'item_10', 'item_11', 'item_12', 'item_13', 'item_14', 'item_15', 'item_16'])\n"
     ]
    }
   ],
   "source": [
    "import json\n",
    "with open(\"edgar-crawler/datasets/EXTRACTED_FILINGS/10-K/2969_10K_2021_0000002969-21-000055.json\") as ifp:\n",
    "    filing = json.load(ifp)\n",
    "    print(filing.keys())"
   ]
  },
  {
   "cell_type": "code",
   "execution_count": 6,
   "metadata": {
    "tags": []
   },
   "outputs": [
    {
     "data": {
      "text/plain": [
       "'AIR PRODUCTS & CHEMICALS INC /DE/'"
      ]
     },
     "execution_count": 6,
     "metadata": {},
     "output_type": "execute_result"
    }
   ],
   "source": [
    "filing['company']"
   ]
  },
  {
   "cell_type": "code",
   "execution_count": 7,
   "metadata": {
    "tags": []
   },
   "outputs": [
    {
     "data": {
      "text/plain": [
       "'2969'"
      ]
     },
     "execution_count": 7,
     "metadata": {},
     "output_type": "execute_result"
    }
   ],
   "source": [
    "filing['cik']"
   ]
  },
  {
   "cell_type": "code",
   "execution_count": 9,
   "metadata": {
    "tags": []
   },
   "outputs": [
    {
     "name": "stdout",
     "output_type": "stream",
     "text": [
      "Item 7. Management’s Discussion and Analysis of Financial Condition and Results of Operations.\n",
      "Business Overview\n",
      "2021 in Summary\n",
      "2022 Outlook\n",
      "Results of Operations\n",
      "Reconciliations of Non-GAAP Financial Measures\n",
      "Liquidity and Capital Resources\n",
      "Pension Benefits\n",
      "Critical Accounting Policies and Estimates\n",
      "This Management’s Discussion and Analysis contains “forward-looking statements” within the safe harbor provisions of the Private Securities Litigation Reform Act of 1995, including statements about business outlook. These forward-looking statements are based on management’s expectations and assumptions as of the date of this Annual Report on Form 10-K and are not guarantees of future performance. Actual performance and financial results may differ materially from projections and estimates expressed in the forward-looking statements because of many factors not anticipated by management, including, without limitation, those described in Forward-Looking Statements and Item 1A, Risk Factors, of this Annual Report.\n",
      "The following discussion should be read in conjunction with the consolidated financial statements and the accompanying notes contained in this Annual Report. Unless otherwise stated, financial information is presented in millions of dollars, except for per share data. Except for net income, which includes the results of discontinued operations, financial information is presented on a continuing operations basis.\n",
      "The content of our Management's Discussion and Analysis has been updated pursuant to SEC disclosure modernization rules that are effective as of the date of this Annual Report. Comparisons of our results of operations and liquidity and capital resources are for fiscal years 2021 and 2020. For a discussion of changes from fiscal year 2019 to fiscal year 2020 and other financial information related to fiscal year 2019, refer to Part II, Item 7, Management’s Discussion and Analysis of Financial Condition and Results of Operations, of our Annual Report on Form 10-K for the fiscal year ended 30 September 2020. This document was filed with the SEC on 19 November 2020.\n",
      "The financial measures discussed below are presented in accordance with U.S. generally accepted accounting principles (\"GAAP\"), except as noted. We present certain financial measures on an \"adjusted,\" or \"non-GAAP,\" basis because we believe such measures, when viewed together with financial results computed in accordance with GAAP, provide a more complete understanding of the factors and trends affecting our historical financial performance. For each non-GAAP financial measure, including adjusted diluted earnings per share (\"EPS\"), adjusted EBITDA, adjusted EBITDA margin, adjusted effective tax rate, and capital expenditures, we present a reconciliation to the most directly comparable financial measure calculated in accordance with GAAP. These reconciliations and explanations regarding the use of non-GAAP measures are presented under \"Reconciliations of Non-GAAP Financial Measures\" beginning on page 31.\n",
      "For information concerning activity with our related parties, refer to Note 22, Supplemental Information, to the consolidated financial statements.\n",
      "BUSINESS OVERVIEW\n",
      "Air Products and Chemicals, Inc., a Delaware corporation originally founded in 1940, serves customers globally with a unique portfolio of products, services, and solutions that include atmospheric gases, process and specialty gases, equipment, and services. Focused on serving energy, environment and emerging markets, we provide essential industrial gases, related equipment, and applications expertise to customers in dozens of industries, including refining, chemicals, metals, electronics, manufacturing, and food and beverage. We are the world's largest supplier of hydrogen and have built leading positions in growth markets such as helium and liquefied natural gas (\"LNG\") process technology and equipment. We develop, engineer, build, own, and operate some of the world's largest industrial gas projects, including gasification projects that sustainably convert abundant natural resources into syngas for the production of high-value power, fuels, and chemicals and are developing carbon capture projects and world-scale low carbon and carbon-free hydrogen projects that will support global transportation and the energy transition away from fossil fuels.\n",
      "With operations in over 50 countries, in fiscal year 2021 we had sales of $10.3 billion and assets of $26.9 billion. Approximately 20,875 passionate, talented, and committed employees from diverse backgrounds are driven by our higher purpose to create innovative solutions that benefit the environment, enhance sustainability, and address the challenges facing customers, communities, and the world.\n",
      "As of 30 September 2021, our operations were organized into five reportable business segments under which we managed our operations, assessed performance, and reported earnings:\n",
      "•Industrial Gases - Americas;\n",
      "•Industrial Gases - EMEA (Europe, Middle East, and Africa);\n",
      "•Industrial Gases - Asia;\n",
      "•Industrial Gases - Global; and\n",
      "•Corporate and other\n",
      "This Management’s Discussion and Analysis discusses our results based on these operations. Refer to Note 23, Business Segment and Geographic Information, to the consolidated financial statements for additional details on our reportable business segments.\n",
      "On 4 November 2021, we announced the reorganization of our industrial gases segments effective 1 October 2021. Refer to Note 24, Subsequent Events, for additional information.\n",
      "2021 IN SUMMARY\n",
      "In fiscal year 2021, we continued to execute our growth strategy, including announcement of several new gasification, carbon capture, and hydrogen projects that will drive the world’s energy transition from fossil fuels. At the same time, we remained focused on our base business, delivering consistent results despite external challenges globally and absorbing costs for additional resources needed to support growth. In the second half of the year, demand for most merchant products returned to pre-pandemic levels. Additionally, we continued to create shareholder value by increasing the quarterly dividend on our common stock to $1.50 per share, representing a 12% increase from the previous dividend. This is the 39th consecutive year that we have increased our quarterly dividend payment.\n",
      "Fiscal year 2021 results are summarized below:\n",
      "•Sales of $10.3 billion increased 17%, or $1.5 billion, due to higher energy and natural gas cost pass-through to customers, higher volumes, favorable currency impacts, and positive pricing that more than offset power cost increases in the second half of the year.\n",
      "•Operating income of $2,281.4 increased 2%, or $43.8, and operating margin of 22.1% decreased 320 basis points (\"bp\").\n",
      "•Net income of $2,114.9 increased 10%, or $183.8, and net income margin of 20.5% decreased 130 bp.\n",
      "•Adjusted EBITDA of $3,883.2 increased 7%, or $263.4, and adjusted EBITDA margin of 37.6% decreased 330 bp.\n",
      "•Diluted EPS of $9.12 increased 7%, or $0.57 per share, and adjusted diluted EPS of $9.02 increased 8%, or $0.64 per share. A summary table of changes in diluted EPS is presented below.\n",
      "Changes in Diluted EPS Attributable to Air Products\n",
      "The per share impacts presented in the table below were calculated independently and may not sum to the total change in diluted EPS due to rounding.\n",
      "(A)Despite higher sales volumes, the volume impact on diluted EPS was flat due to reduced contributions from our 60%-owned joint venture with Lu'An Clean Energy Company that we consolidate within our Industrial Gases - Asia segment. Refer to the sales discussion below for additional detail. The volume impact from the Lu'An facility is partially offset by the positive impact of lower net income being attributed to our joint venture partner within \"Noncontrolling interests.\"\n",
      "2022 OUTLOOK\n",
      "The guidance below should be read in conjunction with the Forward-Looking Statements of this Annual Report on Form 10-K.\n",
      "We believe our achievements in 2021 are just the beginning of our journey providing gasification, carbon capture, and hydrogen for mobility solutions to address the world’s most significant energy and environmental sustainability challenges. For example, we expect our world-scale Jazan gasification project with Aramco, ACWA Power, and Air Products Qudra to begin contributing to our results in the first quarter of fiscal year 2022. We expect to continue to pursue new, high-return opportunities that are aligned with our growth strategy and to add the resources necessary for project development and execution. We remain committed to creating shareholder value through capital deployment and delivering increased dividends, as we have done for the past 39 consecutive years.\n",
      "The duration and extent of ongoing global challenges, such as rising energy costs, energy consumption curtailment, and supply chain disruptions, remain uncertain. For our merchant business, we plan to continue pricing actions to recover higher energy costs. We expect to add new projects to our onsite business model, which has contractual protection from energy cost fluctuations and generates stable cash flow. We expect higher costs from planned maintenance activities on our facilities in fiscal year 2022 and higher pension expense resulting from lower expected returns on assets.\n",
      "Additionally, we expect the Lu’An facility to continue operating under the interim agreement discussed below through fiscal year 2022.\n",
      "In fiscal year 2022, we will also continue to focus on our other sustainability goals, including our commitment to reduce our carbon dioxide emissions intensity and advance diversity and inclusion.\n",
      "On 4 November 2021, we announced the reorganization of our industrial gases segments, including the separation of our Industrial Gases - EMEA segment into two separate reporting segments: Industrial Gases - Europe and Industrial Gases - Middle East. The results of an affiliate formerly reflected in the Industrial Gases - Asia segment will now be reported in the Industrial Gases - Middle East segment. Additionally, the results of our Industrial Gases - Global operating segment will be reflected in the Corporate and other segment. Beginning with our Quarterly Report on Form 10-Q for the first quarter of fiscal year 2022, segment results will be presented on a retrospective basis to reflect the reorganization.\n",
      "RESULTS OF OPERATIONS\n",
      "Discussion of Consolidated Results\n",
      "Sales of $10,323.0 increased 17%, or $1,466.7, due to higher energy and natural gas cost pass-through to customers of 6%, higher volumes of 5%, favorable currency impacts of 4%, and positive pricing of 2%. We experienced significantly higher energy and natural gas costs in the second half of fiscal year 2021, particularly in North America and Europe. Contractual provisions associated with our on-site business, which represents approximately half our total company sales, allow us to pass these costs to our customers. Positive volumes from new assets, our sale of equipment businesses, and merchant demand recovery from COVID-19 were partially offset by reduced contributions from the Lu'An gasification project discussed below. Favorable currency was primarily driven by the appreciation of the British Pound Sterling, Chinese Renminbi, Euro, and South Korean Won against the U.S. Dollar. Continued focus on pricing actions, including energy cost recovery, in our merchant businesses resulted in price improvement in each of our three regional segments.\n",
      "Lu’An Clean Energy Company (“Lu’An”), a long-term onsite customer in Asia with which we have a consolidated joint venture, restarted its facility in the third quarter of fiscal year 2021 following successful completion of major maintenance work in September 2020. Our facility resumed operations, and the joint venture is supplying product at reduced charges as agreed upon with Lu'An under a short-term agreement reached in the first quarter of fiscal year 2021. As a result of this agreement, we recognized lower revenue in our Industrial Gases - Asia segment in each quarter of fiscal year 2021. We expect this short-term reduction in charges to extend through fiscal year 2022.\n",
      "Cost of Sales and Gross Margin\n",
      "Total cost of sales of $7,209.3, including the facility closure discussed below, increased 23%, or $1,351.2. The increase from the prior year was primarily due to higher energy and natural gas cost pass-through to customers of $479, higher costs associated with sales volumes of $433, unfavorable currency impacts of $233, and higher costs, including power and other cost inflation, of $183. Gross margin of 30.2% decreased 370 bp from 33.9% in the prior year, primarily due to higher energy and natural gas cost pass-through to customers, higher costs, and the reduced Lu'An contribution, partially offset by the positive impact of our pricing actions.\n",
      "Facility Closure\n",
      "In the second quarter of fiscal year 2021, we recorded a charge of $23.2 ($17.4 after-tax, or $0.08 per share) primarily for a noncash write-down of assets associated with a contract termination in the Industrial Gases - Americas segment. This charge is reflected as \"Facility closure\" on our consolidated income statements for the fiscal year ended 30 September 2021 and was not recorded in segment results.\n",
      "Selling and Administrative\n",
      "Selling and administrative expense of $828.4 increased 7%, or $52.5, primarily driven by higher spending for business development resources to support our growth strategy and unfavorable currency impacts. Selling and administrative expense as a percentage of sales decreased to 8.0% from 8.8% in the prior year.\n",
      "Research and Development\n",
      "Research and development expense of $93.5 increased 11%, or $9.6, primarily due to higher product development costs in our Industrial Gases - Global segment. Research and development expense as a percentage of sales of 0.9% was flat versus the prior year.\n",
      "Gain on Exchange with Joint Venture Partner\n",
      "In the second quarter of fiscal year 2021, we recognized a gain of $36.8 ($27.3 after-tax, or $0.12 per share) on an exchange with the Tyczka Group, a former joint venture partner in our Industrial Gases - EMEA segment. As part of the exchange, we separated our 50/50 joint venture in Germany into two separate businesses so each party could acquire a portion of the business on a 100% basis. The gain included $12.7 from the revaluation of our previously held equity interest in the portion of the business that we retained and $24.1 from the sale of our equity interest in the remaining business. The gain is reflected as \"Gain on exchange with joint venture partner\" on our consolidated income statements for the fiscal year ended 30 September 2021 and was not recorded in segment results. Refer to Note 3, Acquisitions, to the consolidated financial statements for additional information.\n",
      "Company Headquarters Relocation Income (Expense)\n",
      "In anticipation of relocating our U.S. headquarters, we sold property at our corporate headquarters located in Trexlertown, Pennsylvania, in the second quarter of fiscal year 2020. We received net proceeds of $44.1 and recorded a gain of $33.8 ($25.6 after-tax, or $0.12 per share), which is reflected on our consolidated income statements as \"Company headquarters relocation income (expense)\" for the fiscal year ended 30 September 2020. The gain was not recorded in the results of the Corporate and other segment.\n",
      "Other Income (Expense), Net\n",
      "Other income of $52.8 decreased 19%, or $12.6. The prior year was favorably impacted by an adjustment for a benefit plan liability due to a change in plan terms. This impact was partially offset by the settlement of a supply contract in the current year.\n",
      "Operating Income and Margin\n",
      "Operating income of $2,281.4 increased 2%, or $43.8, as favorable currency of $96, positive pricing, net of power and fuel costs, of $95, and a gain on an exchange with a joint venture partner of $37 were partially offset by higher operating costs of $127, prior year income associated with the company headquarters relocation of $34, and a facility closure of $23. Despite higher sales volumes, the volume impact on operating income was minimal due to reduced contributions from Lu'An. Unfavorable operating costs were driven by the addition of resources to support our growth strategy and higher planned maintenance activities.\n",
      "Operating margin of 22.1% decreased 320 bp from 25.3% in the prior year, primarily due to the higher operating costs, higher energy and natural gas cost pass-through to customers, which contributed to sales but not operating income, and reduced contributions from Lu'An, partially offset by positive pricing. The positive impact from a gain on an exchange with a joint venture partner in the current year was offset by prior year income associated with the company headquarters relocation.\n",
      "Equity Affiliates’ Income\n",
      "Equity affiliates' income of $294.1 increased 11%, or $29.3. Higher income from affiliates in the regional segments was partially offset by a prior year benefit of $33.8 from the enactment of the India Finance Act 2020. Refer to Note 21, Income Taxes, to the consolidated financial statements for additional information.\n",
      "We expect our equity affiliates' income to grow in future periods due to our investment in the Jazan Integrated Gasification and Power Company joint venture.\n",
      "Interest Expense\n",
      "Interest incurred increased 36%, or $44.9, primarily driven by a higher debt balance due to the issuance of U.S. Dollar- and Euro-denominated fixed-rate notes in the third quarter of fiscal year 2020. Capitalized interest increased $12.4 due to a higher carrying value of projects under construction.\n",
      "Other Non-Operating Income (Expense), Net\n",
      "Other non-operating income of $73.7 increased $43.0. We recorded higher non-service pension income in 2021 due to lower interest costs and higher total assets, primarily for our U.S. pension plans. The current year also included favorable currency impacts. These factors were partially offset by lower interest income on cash and cash items due to lower interest rates.\n",
      "Discontinued Operations\n",
      "Income from discontinued operations, net of tax, was $70.3 ($0.32 per share) for the fiscal year ended 30 September 2021. This included net tax benefits of $60.0 recorded for the release of tax reserves for uncertain tax positions, of which $51.8 ($0.23 per share) was recorded in the fourth quarter for liabilities associated with the 2017 sale of our former Performance Materials Division (\"PMD\") and $8.2 was recorded in the third quarter for liabilities associated with our former Energy-from-Waste business. Additionally, we recorded a tax benefit from discontinued operations of $10.3 in the first quarter, primarily from the settlement of a state tax appeal related to the gain on the sale of PMD.\n",
      "In fiscal year 2020, loss from discontinued operations, net of tax, was $14.3 ($0.06 per share). This resulted from a pre-tax loss of $19.0 recorded in the second quarter to increase our existing liability for retained environmental obligations associated with the sale of our former Amines business in September 2006. Refer to the Pace discussion within Note 16, Commitments and Contingencies, for additional information.\n",
      "Net Income and Net Income Margin\n",
      "Net income of $2,114.9, including income from discontinued operations discussed above, increased 10%, or $183.8. On a continuing operations basis, the increase was primarily driven by positive pricing, net of power and fuel costs, favorable currency impacts, higher equity affiliates' income, and a gain on an exchange with a joint venture partner, partially offset by unfavorable operating costs and a loss from a facility closure. In addition, less net income was attributable to noncontrolling interests, including our Lu'An joint venture partner, in the current year. The prior year included income associated with the company headquarters relocation and a net benefit from the India Finance Act 2020.\n",
      "Net income margin of 20.5% decreased 130 bp from 21.8% in the prior year, primarily due to higher energy and natural gas cost pass-through to customers, which decreased margin by approximately 100 bp, and unfavorable net operating costs, partially offset by the impact from our pricing actions.\n",
      "Adjusted EBITDA and Adjusted EBITDA Margin\n",
      "Adjusted EBITDA of $3,883.2 increased 7%, or $263.4, primarily due to favorable currency impacts, positive pricing, net of power and fuel costs, and higher equity affiliates' income, partially offset by unfavorable operating costs. Adjusted EBITDA margin of 37.6% decreased 330 bp from 40.9% in the prior year, primarily due to higher energy and natural gas cost pass-through to customers, which decreased margin by approximately 200 bp, and the unfavorable net operating costs.\n",
      "Effective Tax Rate\n",
      "Our effective tax rate was 18.5% and 19.7% for the fiscal years ended 30 September 2021 and 2020, respectively. The current year rate was lower primarily due to income tax benefits of $21.5 recorded upon expiration of the statute of limitations for tax reserves previously established for uncertain tax positions taken in prior years. This included a benefit of $12.2 ($0.05 per share) for release of reserves established in 2017 for a tax election related to a non-U.S. subsidiary and other previously disclosed items (\"tax election benefit and other\"). Refer to Note 21 Income Taxes, to the consolidated financial statements for additional information.\n",
      "Additionally, the fiscal year 2020 effective tax rate reflected the unfavorable impact of India Finance Act 2020, which resulted in additional net income of $13.5 ($0.06 per share). This included an increase to equity affiliates' income of $33.8, partially offset by an increase to our income tax provision of $20.3 for changes in the future tax costs of repatriated earnings.\n",
      "The adjusted effective tax rate was 18.9% and 19.1% for the fiscal years ended 30 September 2021 and 2020, respectively.\n",
      "Segment Analysis\n",
      "Industrial Gases - Americas\n",
      "Sales of $4,167.6 increased 15%, or $536.9, due to higher energy and natural gas cost pass-through to customers of 11% and positive pricing of 4%, as volumes and currency were flat versus the prior year. Energy and natural gas cost pass through to customers was higher in fiscal year 2021 primarily due to natural gas prices, which rose significantly in the second quarter and remained elevated throughout the year. The pricing improvement was attributable to continued focus on pricing actions in our merchant business. Volumes were flat as positive contributions from new assets, including hydrogen assets we acquired in April 2020, were offset by lower hydrogen and merchant demand. Demand for most merchant products returned to pre-pandemic levels in the second half of 2021.\n",
      "Operating income of $1,065.5 increased 5%, or $53.1, due to higher pricing, net of power and fuel costs, of $79 and favorable currency of $10, partially offset by higher operating costs, including planned maintenance, of $36. Operating margin of 25.6% decreased 230 bp from 27.9% in the prior year primarily due to higher energy and natural gas cost pass-through to customers, which negatively impacted margin by approximately 250 bp, and higher operating costs, partially offset by the impact of our pricing actions.\n",
      "Equity affiliates’ income of $112.5 increased 33%, or $28.2, primarily driven by higher income from affiliates in Mexico.\n",
      "Industrial Gases - EMEA\n",
      "Sales of $2,444.9 increased 27%, or $518.6, due to higher volumes of 12%, favorable currency impacts of 7%, higher energy and natural gas cost pass-through to customers of 5%, and positive pricing of 3%. The volume improvement was primarily driven by our base merchant business and new assets, including those from a business in Israel that we acquired in the fourth quarter of 2020. While our liquid bulk business has largely recovered from COVID-19, demand for packaged gases and hydrogen continues to be lower than pre-pandemic levels. Favorable currency impacts were primarily driven by the appreciation of the British Pound Sterling and Euro against the U.S. Dollar. Energy and natural gas cost pass-through to customers was higher primarily in the second half of the year as we experienced significantly higher natural gas and electricity costs in Europe. The pricing improvement was primarily attributable to our merchant business.\n",
      "Operating income of $557.4 increased 18%, or $84.1, due to higher volumes of $59, favorable currency impacts of $31, and positive pricing, net of power and fuel costs, of $11, partially offset by unfavorable costs of $17. Operating margin of 22.8% decreased 180 bp from 24.6% in the prior year, primarily due to impacts from higher energy and natural gas cost pass-through to customers, which negatively impacted margin by approximately 100 bp, and unfavorable operating costs.\n",
      "Equity affiliates’ income of $93.7 increased 25%, or $18.9, primarily due to higher income from affiliates in Italy, Saudi Arabia, and South Africa.\n",
      "Industrial Gases - Asia\n",
      "Sales of $2,920.8 increased 8%, or $204.3, due to favorable currency of 7% and positive pricing of 1%, as both volumes and energy and natural gas cost pass-through to customers were flat. Positive volume contributions from our base merchant business and new plants were offset by reduced contributions from Lu'An. The favorable currency impact was primarily attributable to the appreciation of the Chinese Renminbi and South Korean Won against the U.S. Dollar.\n",
      "Operating income of $838.3 decreased 4%, or $32.0, primarily due to unfavorable volume mix of $62 and higher operating costs, including inflation and product sourcing costs, of $32, partially offset by favorable currency of $59. Operating margin of 28.7% decreased 330 bp from 32.0% in the prior year primarily due to reduced contributions from Lu'An.\n",
      "Equity affiliates’ income of $81.4 increased 33%, or $20.4, primarily due to higher income from an affiliate in India.\n",
      "Industrial Gases - Global\n",
      "The Industrial Gases - Global segment includes sales of cryogenic and gas processing equipment for air separation and centralized global costs associated with management of all the Industrial Gases segments.\n",
      "Sales of $511.0 increased 40%, or $146.1, due to higher sale of equipment project activity. Despite higher sales, operating loss of $60.6 increased 52%, or $20.6, as higher project costs and product development spending were partially offset by income from the settlement of a supply contract.\n",
      "Corporate and other\n",
      "The Corporate and other segment includes our LNG, turbo machinery equipment and services, and distribution sale of equipment businesses as well as corporate support functions that benefit all segments. The results of the Corporate and other segment also include income and expense that is not directly associated with the other segments, such as foreign exchange gains and losses.\n",
      "Sales of $278.7 increased 28%, or $60.8, primarily due to higher project activity in our distribution sale of equipment and turbo machinery equipment and services businesses. Despite higher sales, operating loss of $132.8 increased 18%, or $20.6, as higher business development and corporate support costs were only partially offset by higher sale of equipment activity.\n",
      "RECONCILIATIONS OF NON-GAAP FINANCIAL MEASURES\n",
      "(Millions of dollars unless otherwise indicated, except for per share data)\n",
      "We present certain financial measures, other than in accordance with U.S. generally accepted accounting principles (\"GAAP\"), on an \"adjusted\" or \"non-GAAP\" basis. On a consolidated basis, these measures include adjusted diluted earnings per share (\"EPS\"), adjusted EBITDA, adjusted EBITDA margin, adjusted effective tax rate, and capital expenditures. On a segment basis, these measures include adjusted EBITDA and adjusted EBITDA margin. In addition to these measures, we also present certain supplemental non-GAAP financial measures to help the reader understand the impact that certain disclosed items, or \"non-GAAP adjustments,\" have on the calculation of our adjusted diluted EPS. For each non-GAAP financial measure, we present a reconciliation to the most directly comparable financial measure calculated in accordance with GAAP.\n",
      "Our non-GAAP financial measures are not meant to be considered in isolation or as a substitute for the most directly comparable measure calculated in accordance with GAAP. We believe these non-GAAP financial measures provide investors, potential investors, securities analysts, and others with useful information to evaluate the performance of our business because such measures, when viewed together with financial results computed in accordance with GAAP, provide a more complete understanding of the factors and trends affecting our historical financial performance and projected future results.\n",
      "In many cases, non-GAAP financial measures are determined by adjusting the most directly comparable GAAP measure to exclude non-GAAP adjustments that we believe are not representative of our underlying business performance. For example, we previously excluded certain expenses associated with cost reduction actions, impairment charges, and gains on disclosed transactions. The reader should be aware that we may recognize similar losses or gains in the future. Readers should also consider the limitations associated with these non-GAAP financial measures, including the potential lack of comparability of these measures from one company to another.\n",
      "When applicable, the tax impact of our pre-tax non-GAAP adjustments reflects the expected current and deferred income tax impact of our non-GAAP adjustments. These tax impacts are primarily driven by the statutory tax rate of the various relevant jurisdictions and the taxability of the adjustments in those jurisdictions.\n",
      "Adjusted Diluted EPS\n",
      "The table below provides a reconciliation to the most directly comparable GAAP measure for each of the major components used to calculate adjusted diluted EPS from continuing operations, which we view as a key performance metric. In periods that we have non-GAAP adjustments, we believe it is important for the reader to understand the per share impact of each such adjustment because management does not consider these impacts when evaluating underlying business performance. The per share impact for each non-GAAP adjustment was calculated independently and may not sum to total adjusted diluted EPS due to rounding.\n",
      "Adjusted EBITDA and Adjusted EBITDA Margin\n",
      "We define adjusted EBITDA as net income less income (loss) from discontinued operations, net of tax, and excluding non-GAAP adjustments, which we do not believe to be indicative of underlying business trends, before interest expense, other non-operating income (expense), net, income tax provision, and depreciation and amortization expense. Adjusted EBITDA and adjusted EBITDA margin provide useful metrics for management to assess operating performance. Margins are calculated independently for each period by dividing each line item by consolidated sales for the respective period and may not sum to total margin due to rounding.\n",
      "The tables below present consolidated sales and a reconciliation of net income on a GAAP basis to adjusted EBITDA and net income margin on a GAAP basis to adjusted EBITDA margin:\n",
      "The tables below present sales and a reconciliation of operating income and operating margin to adjusted EBITDA and adjusted EBITDA margin for each of our reporting segments for the fiscal years ended 30 September:\n",
      "(A)Refer to the Reconciliations to Consolidated Results section below.\n",
      "Reconciliations to Consolidated Results\n",
      "The table below reconciles consolidated operating income as reflected on our consolidated income statements to total operating income in the table above for the fiscal years ended 30 September:\n",
      "The table below reconciles consolidated equity affiliates' income as reflected on our consolidated income statements to total equity affiliates' income in the table above for the fiscal years ended 30 September:\n",
      "Adjusted Effective Tax Rate\n",
      "The effective tax rate equals the income tax provision divided by income from continuing operations before taxes.\n",
      "When applicable, the tax impact of our pre-tax non-GAAP adjustments reflects the expected current and deferred income tax impact of our non-GAAP adjustments. These tax impacts are primarily driven by the statutory tax rate of the various relevant jurisdictions and the taxability of the adjustments in those jurisdictions.\n",
      "Capital Expenditures\n",
      "We define capital expenditures as cash flows for additions to plant and equipment, acquisitions (less cash acquired), and investment in and advances to unconsolidated affiliates. A reconciliation of cash used for investing activities to our reported capital expenditures is provided below:\n",
      "LIQUIDITY AND CAPITAL RESOURCES\n",
      "Our cash balance and cash flows from operations are our primary sources of liquidity and are generally sufficient to meet our liquidity needs. In addition, we have the flexibility to access capital through a variety of financing activities, including accessing the capital markets, drawing upon our credit facility, or alternatively, accessing the commercial paper markets. At this time, we have not utilized, nor do we expect to access, our credit facility for additional liquidity. In addition, we have considered the impacts of COVID-19 on our liquidity and capital resources and do not expect it to impact our ability to meet future liquidity needs.\n",
      "As of 30 September 2021, we had $1,590.4 of foreign cash and cash items compared to total cash and cash items of $4,468.9. We do not expect that a significant portion of the earnings of our foreign subsidiaries and affiliates will be subject to U.S. income tax upon repatriation to the U.S. Depending on the country in which the subsidiaries and affiliates reside, the repatriation of these earnings may be subject to foreign withholding and other taxes. However, since we have significant current investment plans outside the U.S., it is our intent to permanently reinvest the majority of our foreign cash and cash items that would be subject to additional taxes outside the U.S.\n",
      "Cash Flows From Operations\n",
      "For the fiscal year ended 30 September 2021, cash provided by operating activities was $3,335.2. Other adjustments of $116.7 included pension plan contributions of $44.6 and pension income of $38.9 that did not have a cash impact. The working capital accounts were a source of cash of $16.7, primarily driven by a $187.9 source of cash from payables and accrued liabilities, partially offset by a $130.5 use of cash from trade receivables, less allowances. The source of cash within payables and accrued liabilities primarily resulted from higher natural gas costs, which also drove the use of cash within trade receivables as we contractually passed through these higher costs to customers.\n",
      "For the fiscal year ended 30 September 2020, cash provided by operating activities was $3,264.7. We recorded a net benefit of $13.5 on our consolidated income statements related to a recently enacted tax law in India during the second quarter. This net benefit, which is further discussed in Note 21, Income Taxes, to the consolidated financial statements, increased \"Undistributed earnings of unconsolidated affiliates\" by $33.8 and increased \"Deferred income taxes\" by $20.3. The \"Gain on sale of assets and investments\" of $45.8 includes a gain of $33.8 related to the sale of property at our current corporate headquarters. Refer to Note 22, Supplemental Information, to the consolidated financial statements for additional information. The working capital accounts were a use of cash of $40.1, primarily driven by other working capital uses of $130.6, partially offset by a source of $84.4 from other receivables. The use of cash within \"Other working capital\" was primarily due to timing of tax payments and a tax benefit as a result of the assets acquired in April 2020 from PBF Energy Inc. The source of cash within \"Other receivables\" was primarily driven by maturities of forward exchange contracts.\n",
      "Cash Flows From Investing Activities\n",
      "For the fiscal year ended 30 September 2021, cash used for investing activities was $2,732.9. Capital expenditures for plant and equipment, including long-term deposits, were $2,464.2. Purchases of investments with terms greater than three months but less than one year of $2,100.7 exceeded proceeds from investments of $1,875.2, which resulted from maturities of time deposits and treasury securities.\n",
      "For the fiscal year ended 30 September 2020, cash used for investing activities was $3,560.0. Payments for additions to plant and equipment, including long-term deposits, were $2,509.0. This includes the acquisition of five operating hydrogen production plants from PBF Energy Inc. in Delaware and California for approximately $580. Additionally, acquisitions, less cash acquired, includes $183.3 for three businesses we acquired on 1 July 2020, the largest of which was a business in Israel that primarily offers merchant gas products. Refer to Note 3, Acquisitions, to the consolidated financial statements for additional information. Purchases of investments of $2,865.5 related to time deposits and treasury securities with terms greater than three months and less than one year and exceeded proceeds from investments of $1,938.0. Proceeds from sale of assets and investments of $80.3 included net proceeds of $44.1 related to the sale of property at our current corporate headquarters.\n",
      "Capital Expenditures\n",
      "Capital expenditures is a non-GAAP financial measure that we define as cash flows for additions to plant and equipment, including long-term deposits, acquisitions (less cash acquired), and investment in and advances to unconsolidated affiliates. The components of our capital expenditures are detailed in the table below. We present a reconciliation of our capital expenditures to cash used for investing activities on page 36.\n",
      "Capital expenditures in fiscal year 2021 totaled $2,550.7 compared to $2,716.7 in fiscal year 2020. The decrease of $166.0 was primarily driven by the prior year acquisition of five operating hydrogen production plants from PBF, partially offset by lower spending for acquisitions. Additions to plant and equipment also included support capital of a routine, ongoing nature, including expenditures for distribution equipment and facility improvements.\n",
      "Outlook for Investing Activities\n",
      "We expect capital expenditures for fiscal year 2022 to be approximately $4.5 to $5 billion. In the first quarter of fiscal year 2022, we paid $1.6 billion, including approximately $130 from a non-controlling partner in one of our subsidiaries, for the initial investment in the Jazan gasification and power project. We expect to make an additional investment of approximately $1 billion, which includes contribution from our non-controlling partner, for phase II of the project in 2023. Refer to Note 24, Subsequent Events, to the consolidated financial statements for additional information.\n",
      "It is not possible, without unreasonable efforts, to reconcile our forecasted capital expenditures to future cash used for investing activities because we are unable to identify the timing or occurrence of our future investment activity, which is driven by our assessment of competing opportunities at the time we enter into transactions. These decisions, either individually or in the aggregate, could have a significant effect on our cash used for investing activities.\n",
      "We anticipate capital expenditures to be funded principally with our current cash balance and cash generated from continuing operations. In addition, we intend to continue to evaluate (1) acquisitions of small- and medium-sized industrial gas companies or assets from other industrial gas companies; (2) purchases of existing industrial gas facilities from our customers to create long-term contracts under which we own and operate the plant and sell industrial gases to the customer based on a fixed fee; and (3) investment in large industrial gas projects driven by demand for more energy, cleaner energy, and emerging market growth.\n",
      "Cash Flows From Financing Activities\n",
      "In fiscal year 2021, cash used for financing activities was $1,420.9 and primarily included dividend payments to shareholders of $1,256.7 and payments on long-term debt of $462.9, partially offset by long-term debt proceeds of $178.9 and investments by noncontrolling interests of $136.6. The payments on long-term debt included the repayment of a €350.0 million Eurobond ($428) in June 2021.\n",
      "In November 2021, we repaid our 3.0% Senior Note of $400, plus interest, on its maturity date.\n",
      "In fiscal year 2020, cash provided by financing activities was $3,284.7 as we successfully accessed the debt markets in April 2020 to support opportunities for growth projects and repay upcoming debt maturities. Long-term debt proceeds of $4,895.8 were partially offset by dividend payments to shareholders of $1,103.6 and payments on long-term debt of $406.6 primarily related to the repayment of a 2.0% Eurobond of €300.0 million ($353.9) that matured on 7 August 2020. Other financing activities were a use of cash of $97.2 and included financing charges associated with the third quarter debt issuance.\n",
      "Financing and Capital Structure\n",
      "Capital needs in fiscal year 2021 were satisfied with cash from operations. Total debt decreased from $7,907.8 as of 30 September 2020 to $7,637.2 as of 30 September 2021, primarily due to repayment of the €350 million Eurobond, partially offset by proceeds from long-term borrowings on our foreign commitments. Total debt includes related party debt of $358.4 and $338.5 as of 30 September 2021 and 30 September 2020, respectively, primarily associated with the Lu'An joint venture. For additional detail, refer to Note 14, Debt, to the consolidated financial statements.\n",
      "On 31 March 2021, we entered into a five-year $2,500 revolving credit agreement with a syndicate of banks (the “2021 Credit Agreement”), under which senior unsecured debt is available to us and certain of our subsidiaries. The 2021 Credit Agreement provides a source of liquidity and supports our commercial paper program. The only financial covenant in the 2021 Credit Agreement is a maximum ratio of total debt to capitalization (equal to total debt plus total equity) not to exceed 70%. Total debt as of 30 September 2021 and 30 September 2020, expressed as a percentage of total capitalization, was 35.2% and 38.9%, respectively. No borrowings were outstanding under the 2021 Credit Agreement as of 30 September 2021.\n",
      "The 2021 Credit Agreement replaced our previous five-year $2,300.0 revolving credit agreement, which was to have matured on 31 March 2022. No borrowings were outstanding under the previous agreement as of 30 September 2020 or at the time of its termination. No early termination penalties were incurred.\n",
      "Commitments of $296.7 are maintained by our foreign subsidiaries, $176.2 of which was borrowed and outstanding as of 30 September 2021.\n",
      "As of 30 September 2021, we are in compliance with all of the financial and other covenants under our debt agreements.\n",
      "On 15 September 2011, the Board of Directors authorized the repurchase of up to $1,000 of our outstanding common stock. We did not purchase any of our outstanding shares in fiscal years 2021 or 2020. As of 30 September 2021, $485.3 in share repurchase authorization remains.\n",
      "Dividends\n",
      "Cash dividends on our common stock are paid quarterly, usually during the sixth week after the close of the fiscal quarter. We expect to continue to pay cash dividends in the future at comparable or increased levels.\n",
      "The Board of Directors determines whether to declare dividends and the timing and amount based on financial condition and other factors it deems relevant. In 2021, the Board of Directors increased the quarterly dividend on our common stock to $1.50 per share, representing a 12% increase from the previous dividend of $1.34 per share. This is the 39th consecutive year that we have increased our quarterly dividend payment.\n",
      "On 18 November 2021, the Board of Directors declared the first quarter 2022 dividend of $1.50 per share. The dividend is payable on 14 February 2022 to shareholders of record as of 3 January 2022.\n",
      "Discontinued Operations\n",
      "In fiscal year 2021, cash provided by operating activities of discontinued operations of $6.7 resulted from cash received as part of a state tax settlement related to the sale of PMD in fiscal year 2017.\n",
      "PENSION BENEFITS\n",
      "We and certain of our subsidiaries sponsor defined benefit pension plans and defined contribution plans that cover a substantial portion of our worldwide employees. The principal defined benefit pension plans are the U.S. salaried pension plan and the U.K. pension plan. These plans were closed to new participants in 2005, after which defined contribution plans were offered to new employees. The shift to defined contribution plans is expected to continue to reduce volatility of both plan expense and contributions.\n",
      "The fair market value of plan assets for our defined benefit pension plans as of the 30 September 2021 measurement date increased to $5,248.7 from $4,775.1 at the end of fiscal year 2020. The projected benefit obligation for these plans was $5,304.9 and $5,373.5 at the end of fiscal years 2021 and 2020, respectively. The net unfunded liability decreased $542.2 from $598.4 to $56.2, primarily due to favorable asset experience. Refer to Note 15, Retirement Benefits, to the consolidated financial statements for additional disclosures on our postretirement benefits.\n",
      "Pension Expense\n",
      "We recognized pension income of $37.3 in fiscal year 2021 versus expense of $7.0 in fiscal year 2020, primarily due to lower interest cost and higher total assets. Special items decreased from the prior year primarily due to lower pension settlement losses.\n",
      "2022 Outlook\n",
      "In fiscal year 2022, we expect pension impacts to range from $5 million of income to $5 million of expense, which includes potential settlement losses of $5 to $10 million, depending on the timing of retirements. This forecast reflects a lower expected estimated return on assets due to the increased percentage of fixed income investments within the plan asset portfolios and higher interest cost, partially offset by lower forecasted actuarial loss amortization. In fiscal year 2022, our expected range of pension impacts includes approximately $80 for amortization of actuarial losses.\n",
      "In fiscal year 2021, pension expense included amortization of actuarial losses of $97.8. Net actuarial gains of $360.8 were recognized in accumulated other comprehensive income in fiscal year 2021. Actuarial gains and losses are amortized into pension expense over prospective periods to the extent they are not offset by future gains or losses. Future changes in the discount rate and actual returns on plan assets could impact the actuarial gain or loss and resulting amortization in years beyond fiscal year 2022.\n",
      "Pension Funding\n",
      "Pension funding includes both contributions to funded plans and benefit payments for unfunded plans, which are primarily non-qualified plans. With respect to funded plans, our funding policy is that contributions, combined with appreciation and earnings, will be sufficient to pay benefits without creating unnecessary surpluses.\n",
      "In addition, we make contributions to satisfy all legal funding requirements while managing our capacity to benefit from tax deductions attributable to plan contributions. With the assistance of third-party actuaries, we analyze the liabilities and demographics of each plan, which help guide the level of contributions. During 2021 and 2020, our cash contributions to funded plans and benefit payments for unfunded plans were $44.6 and $37.5, respectively.\n",
      "For fiscal year 2022, cash contributions to defined benefit plans are estimated to be $40 to $50. The estimate is based on expected contributions to certain international plans and anticipated benefit payments for unfunded plans, which are dependent upon the timing of retirements. Actual future contributions will depend on future funding legislation, discount rates, investment performance, plan design, and various other factors. We do not expect COVID-19 to impact our contribution forecast for fiscal year 2022.\n",
      "CRITICAL ACCOUNTING POLICIES AND ESTIMATES\n",
      "Refer to Note 1, Major Accounting Policies, and Note 2, New Accounting Guidance, to the consolidated financial statements for a description of our major accounting policies and information concerning implementation and impact of new accounting guidance.\n",
      "The accounting policies discussed below are those policies that we consider to be the most critical to understanding our financial statements because they require management's most difficult, subjective, or complex judgments, often as the result of the need to make estimates about the effects of matters that are inherently uncertain. These estimates reflect our best judgment about current and/or future economic and market conditions and their effect based on information available as of the date of our consolidated financial statements. If conditions change, actual results may differ materially from these estimates. Our management has reviewed these critical accounting policies and estimates and related disclosures with the Audit and Finance Committee of our Board of Directors.\n",
      "Depreciable Lives of Plant and Equipment\n",
      "Plant and equipment, net at 30 September 2021 totaled $13,254.6, and depreciation expense totaled $1,284.1 during fiscal year 2021. Plant and equipment is recorded at cost and depreciated using the straight-line method, which deducts equal amounts of the cost of each asset from earnings every year over its estimated economic useful life.\n",
      "Economic useful life is the duration of time an asset is expected to be productively employed by us, which may be less than its physical life. Assumptions on the following factors, among others, affect the determination of estimated economic useful life: wear and tear, obsolescence, technical standards, contract life, market demand, competitive position, raw material availability, and geographic location.\n",
      "The estimated economic useful life of an asset is monitored to determine its appropriateness, especially when business circumstances change. For example, changes in technology, changes in the estimated future demand for products, excessive wear and tear, or unanticipated government actions may result in a shorter estimated useful life than originally anticipated. In these cases, we would depreciate the remaining net book value over the new estimated remaining life, thereby increasing depreciation expense per year on a prospective basis. Likewise, if the estimated useful life is increased, the adjustment to the useful life decreases depreciation expense per year on a prospective basis.\n",
      "The regional Industrial Gases segments have numerous long-term customer supply contracts for which we construct an on-site plant adjacent to or near the customer’s facility. These contracts typically have initial contract terms of 10 to 20 years. Depreciable lives of the production assets related to long-term supply contracts are generally matched to the contract lives. Extensions to the contract term of supply frequently occur prior to the expiration of the initial term. As contract terms are extended, the depreciable life of the associated production assets is adjusted to match the new contract term, as long as it does not exceed the remaining physical life of the asset.\n",
      "Our regional Industrial Gases segments also have contracts for liquid or gaseous bulk supply and, for smaller customers, packaged gases. The depreciable lives of production facilities associated with these contracts are generally 15 years. These depreciable lives have been determined based on historical experience combined with judgment on future assumptions such as technological advances, potential obsolescence, competitors’ actions, etc.\n",
      "In addition, we may purchase assets through transactions accounted for as either an asset acquisition or a business combination. Depreciable lives are assigned to acquired assets based on the age and condition of the assets, the remaining duration of long-term supply contracts served by the assets, and our historical experience with similar assets. Management monitors its assumptions and may potentially need to adjust depreciable life as circumstances change.\n",
      "Impairment of Assets\n",
      "As discussed below, there were no triggering events in fiscal year 2021 that would require impairment testing for any of our asset groups, reporting units that contain goodwill, indefinite-lived intangibles assets, or equity method investments. We completed our annual impairment tests for goodwill and other indefinite-lived intangible assets and concluded there were no indications of impairment.\n",
      "Impairment of Assets - Plant and Equipment\n",
      "Plant and equipment meeting the held for sale criteria are reported at the lower of carrying amount or fair value less cost to sell. Plant and equipment to be disposed of other than by sale may be reviewed for impairment upon the occurrence of certain triggering events, such as unexpected contract terminations or unexpected foreign government-imposed restrictions or expropriations. Plant and equipment held for use is grouped for impairment testing at the lowest level for which there is identifiable cash flows. Impairment testing of the asset group occurs whenever events or changes in circumstances indicate that the carrying amount of the assets may not be recoverable. Such circumstances would include: (1) a significant decrease in the market value of a long-lived asset grouping; (2) a significant adverse change in the manner in which the asset grouping is being used or in its physical condition; (3) an accumulation of costs significantly in excess of the amount originally expected for the acquisition or construction of the long-lived asset; (4) a reduction in revenues that is other than temporary; (5) a history of operating or cash flow losses associated with the use of the asset grouping; or (6) changes in the expected useful life of the long-lived assets.\n",
      "If such circumstances are determined to exist, an estimate of undiscounted future cash flows produced by that asset group is compared to the carrying value to determine whether impairment exists. If an asset group is determined to be impaired, the loss is measured based on the difference between the asset group’s fair value and its carrying value. An estimate of the asset group’s fair value is based on the discounted value of its estimated cash flows.\n",
      "The assumptions underlying the undiscounted future cash flow projections require significant management judgment. Factors that management must estimate include industry and market conditions, sales volume and prices, costs to produce, inflation, etc. The assumptions underlying the cash flow projections represent management’s best estimates at the time of the impairment review and could include probability weighting of cash flow projections associated with multiple potential future scenarios. Changes in key assumptions or actual conditions that differ from estimates could result in an impairment charge. We use reasonable and supportable assumptions when performing impairment reviews and cannot predict the occurrence of future events and circumstances that could result in impairment charges.\n",
      "In fiscal year 2021, there was no need to test for impairment on any of our asset groupings as no events or changes in circumstances indicated that the carrying amount of our asset groupings may not be recoverable.\n",
      "Impairment of Assets - Goodwill\n",
      "The acquisition method of accounting for business combinations requires us to make use of estimates and judgments to allocate the purchase price paid for acquisitions to the fair value of the net tangible and identifiable intangible assets. Goodwill represents the excess of the aggregate purchase price (plus the fair value of any noncontrolling interest and previously held equity interest in the acquiree) over the fair value of identifiable net assets of an acquired entity. Goodwill was $911.5 as of 30 September 2021. Disclosures related to goodwill are included in Note 9, Goodwill, to the consolidated financial statements.\n",
      "We review goodwill for impairment annually in the fourth quarter of the fiscal year and whenever events or changes in circumstances indicate that the carrying value of goodwill might not be recoverable. The tests are done at the reporting unit level, which is defined as being equal to or one level below the operating segment for which discrete financial information is available and whose operating results are reviewed by segment managers regularly. We have five reportable business segments, seven operating segments and ten reporting units, seven of which include a goodwill balance. Refer to Note 23, Business Segment and Geographic Information, for additional information. Reporting units are primarily based on products and subregions within each reportable segment. The majority of our goodwill is assigned to reporting units within our regional Industrial Gases segments.\n",
      "As part of the goodwill impairment testing, we have the option to first assess qualitative factors to determine whether it is more likely than not that the fair value of a reporting unit is less than its carrying value. However, we choose to bypass the qualitative assessment and conduct quantitative testing to determine if the carrying value of the reporting unit exceeds its fair value. An impairment loss will be recognized for the amount by which the carrying value of the reporting unit exceeds its fair value, not to exceed the total amount of goodwill allocated to that reporting unit.\n",
      "To determine the fair value of a reporting unit, we initially use an income approach valuation model, representing the present value of estimated future cash flows. Our valuation model uses a discrete growth period and an estimated exit trading multiple. The income approach is an appropriate valuation method due to our capital-intensive nature, the long-term contractual nature of our business, and the relatively consistent cash flows generated by our reporting units. The principal assumptions utilized in our income approach valuation model include revenue growth rates, operating profit and/or adjusted EBITDA margins, discount rate, and exit multiple. Projected revenue growth rates and operating profit and/or adjusted EBITDA assumptions are consistent with those utilized in our operating plan and/or revised forecasts and long-term financial planning process. The discount rate assumption is calculated based on an estimated market-participant risk-adjusted weighted-average cost of capital, which includes factors such as the risk-free rate of return, cost of debt, and expected equity premiums. The exit multiple is determined from comparable industry transactions and where appropriate, reflects expected long-term growth rates.\n",
      "If our initial review under the income approach indicates there may be impairment, we incorporate results under the market approach to further evaluate the existence of impairment. When the market approach is utilized, fair value is estimated based on market multiples of revenue and earnings derived from comparable publicly-traded industrial gases companies and/or regional manufacturing companies engaged in the same or similar lines of business as the reporting unit, adjusted to reflect differences in size and growth prospects. When both the income and market approach are utilized, we review relevant facts and circumstances and make a qualitative assessment to determine the proper weighting. Management judgment is required in the determination of each assumption utilized in the valuation model, and actual results could differ from the estimates.\n",
      "During the fourth quarter of fiscal year 2021, we conducted our annual goodwill impairment test, noting no indications of impairment. The fair value of all of our reporting units substantially exceeded their carrying value.\n",
      "Due to the reorganization of our business effective as of 1 October 2021, we conducted an additional impairment test on our existing reporting units as of 30 September 2021. The fair value of all of our reporting units substantially exceeded their carrying value at 30 September 2021.\n",
      "Future events that could have a negative impact on the level of excess fair value over carrying value of the reporting units include, but are not limited to: long-term economic weakness, decline in market share, pricing pressures, inability to successfully implement cost improvement measures, increases to our cost of capital, changes in the strategy of the reporting unit, and changes to the structure of our business as a result of future reorganizations or divestitures of assets or businesses. Negative changes in one or more of these factors, among others, could result in impairment charges.\n",
      "Impairment of Assets - Intangible Assets\n",
      "Intangible assets, net with determinable lives at 30 September 2021 totaled $380.4 and consisted primarily of customer relationships, purchased patents and technology, and land use rights. These intangible assets are tested for impairment as part of the long-lived asset grouping impairment tests. Impairment testing of the asset group occurs whenever events or changes in circumstances indicate that the carrying value of the assets may not be recoverable. See the impairment discussion above under \"Impairment of Assets - Plant and Equipment\" for a description of how impairment losses are determined.\n",
      "Indefinite-lived intangible assets at 30 September 2021 totaled $40.3 and consisted of trade names and trademarks. Indefinite-lived intangibles are subject to impairment testing at least annually or more frequently if events or changes in circumstances indicate that potential impairment exists. The impairment test for indefinite-lived intangible assets involves calculating the fair value of the indefinite-lived intangible assets and comparing the fair value to their carrying value. If the fair value is less than the carrying value, the difference is recorded as an impairment loss. To determine fair value, we utilize the royalty savings method, a form of the income approach. This method values an intangible asset by estimating the royalties avoided through ownership of the asset.\n",
      "Disclosures related to intangible assets other than goodwill are included in Note 10, Intangible Assets, to the consolidated financial statements.\n",
      "In the fourth quarter of 2021, we conducted our annual impairment test of indefinite-lived intangibles which resulted in no impairment.\n",
      "Impairment of Assets - Equity Method Investments\n",
      "Investments in and advances to equity affiliates totaled $1,649.3 at 30 September 2021. The majority of our investments are non-publicly traded ventures with other companies in the industrial gas business. Summarized financial information of equity affiliates is included in Note 7, Summarized Financial Information of Equity Affiliates, to the consolidated financial statements. Equity investments are reviewed for impairment whenever events or changes in circumstances indicate that the carrying amount of the investment may not be recoverable.\n",
      "An impairment loss is recognized in the event that an other-than-temporary decline in fair value below the carrying value of an investment occurs. Management’s estimate of fair value of an investment is based on the income approach and/or market approach. We utilize estimated discounted future cash flows expected to be generated by the investee under the income approach. For the market approach, we utilize market multiples of revenue and earnings derived from comparable publicly-traded industrial gases companies. Changes in key assumptions about the financial condition of an investee or actual conditions that differ from estimates could result in an impairment charge.\n",
      "In fiscal year 2021, there was no need to test any of our equity affiliate investments for impairment, as no events or changes in circumstances indicated that the carrying amount of the investments may not be recoverable.\n",
      "Revenue Recognition - Cost Incurred Input Method\n",
      "Revenue from equipment sale contracts is generally recognized over time as we have an enforceable right to payment for performance completed to date and our performance under the contract terms does not create an asset with alternative use. We use a cost incurred input method to recognize revenue by which costs incurred to date relative to total estimated costs at completion are used to measure progress toward satisfying performance obligations. Costs incurred include material, labor, and overhead costs and represent work contributing and proportionate to the transfer of control to the customer.\n",
      "Accounting for contracts using the cost incurred input method requires management judgment relative to assessing risks and their impact on the estimates of revenues and costs. Our estimates are impacted by factors such as the potential for incentives or penalties on performance, schedule delays, technical issues, labor productivity, the complexity of work performed, the cost and availability of materials, and performance of subcontractors. When adjustments in estimated total contract revenues or estimated total costs are required, any changes in the estimated profit from prior estimates are recognized in the current period for the inception-to-date effect of such change. When estimates of total costs to be incurred on a contract exceed estimates of total revenues to be earned, a provision for the entire estimated loss on the contract is recorded in the period in which the loss is determined.\n",
      "In addition to the typical risks associated with underlying performance of project procurement and construction activities, our sale of equipment projects within our Industrial Gases - Global segment require monitoring of risks associated with schedule, geography, and other aspects of the contract and their effects on our estimates of total revenues and total costs to complete the contract.\n",
      "Changes in estimates on projects accounted for under the cost incurred input method unfavorably impacted operating income by approximately $19 in fiscal year 2021 as compared to a favorable impact of $7 in fiscal year 2020. Our changes in estimates would not have significantly impacted amounts recorded in prior years.\n",
      "We assess the performance of our sale of equipment projects as they progress. Our earnings could be positively or negatively impacted by changes to our forecast of revenues and costs on these projects.\n",
      "Revenue Recognition - On-site Customer Contracts\n",
      "For customers who require large volumes of gases on a long-term basis, we produce and supply gases under long-term contracts from large facilities that we build, own and operate on or near the customer’s facilities. Certain of these on-site contracts contain complex terms and provisions such as tolling arrangements, minimum payment requirements, variable components and pricing provisions that require significant judgment to determine the amount and timing of revenue recognition.\n",
      "Income Taxes\n",
      "We account for income taxes under the asset and liability method. Under this method, deferred tax assets and liabilities are recognized for the tax effects of temporary differences between the financial reporting and tax bases of assets and liabilities measured using enacted tax rates in effect for the year in which the differences are expected to be recovered or settled. As of 30 September 2021, accrued income taxes, including the amount recorded as noncurrent, was $251.0, and net deferred tax liabilities were $1,080.7. Tax liabilities related to uncertain tax positions as of 30 September 2021 were $140.3, excluding interest and penalties. Income tax expense for the fiscal year ended 30 September 2021 was $462.8. Disclosures related to income taxes are included in Note 21, Income Taxes, to the consolidated financial statements.\n",
      "Management judgment is required concerning the ultimate outcome of tax contingencies and the realization of deferred tax assets.\n",
      "Actual income taxes paid may vary from estimates, depending upon changes in income tax laws, actual results of operations, and the final audit of tax returns by taxing authorities. Tax assessments may arise several years after tax returns have been filed. We believe that our recorded tax liabilities adequately provide for these assessments.\n",
      "Deferred tax assets are recorded for operating losses and tax credit carryforwards. However, when we do not expect sufficient sources of future taxable income to realize the benefit of the operating losses or tax credit carryforwards, these deferred tax assets are reduced by a valuation allowance. A valuation allowance is recognized if, based on the weight of available evidence, it is considered more likely than not that some portion or all of the deferred tax asset will not be realized. The factors used to assess the likelihood of realization include forecasted future taxable income and available tax planning strategies that could be implemented to realize or renew net deferred tax assets in order to avoid the potential loss of future tax benefits. The effect of a change in the valuation allowance is reported in the income tax expense.\n",
      "A 1% increase or decrease in our effective tax rate may result in a decrease or increase to net income, respectively, of approximately $25.\n",
      "Pension and Other Postretirement Benefits\n",
      "The amounts recognized in the consolidated financial statements for pension and other postretirement benefits are determined on an actuarial basis utilizing numerous assumptions. The discussion that follows provides information on the significant assumptions, expense, and obligations associated with the defined benefit plans.\n",
      "Actuarial models are used in calculating the expense and liability related to the various defined benefit plans. These models have an underlying assumption that the employees render service over their service lives on a relatively consistent basis; therefore, the expense of benefits earned should follow a similar pattern.\n",
      "Several assumptions and statistical variables are used in the models to calculate the expense and liability related to the plans. We determine assumptions about the discount rate, the expected rate of return on plan assets, and the rate of compensation increase. Note 15, Retirement Benefits, to the consolidated financial statements includes disclosure of these rates on a weighted-average basis for both the U.S. and international plans. The actuarial models also use assumptions about demographic factors such as retirement age, mortality, and turnover rates. Mortality rates are based on the most recent U.S. and international mortality tables. We believe the actuarial assumptions are reasonable. However, actual results could vary materially from these actuarial assumptions due to economic events and differences in rates of retirement, mortality, and turnover.\n",
      "One of the assumptions used in the actuarial models is the discount rate used to measure benefit obligations. This rate reflects the prevailing market rate for high-quality, fixed-income debt instruments with maturities corresponding to the expected timing of benefit payments as of the annual measurement date for each of the various plans. We measure the service cost and interest cost components of pension expense by applying spot rates along the yield curve to the relevant projected cash flows. The rates along the yield curve are used to discount the future cash flows of benefit obligations back to the measurement date. These rates change from year to year based on market conditions that affect corporate bond yields. A higher discount rate decreases the present value of the benefit obligations and results in lower pension expense. A 50 bp increase or decrease in the discount rate may result in a decrease or increase to pension expense, respectively, of approximately $20 per year.\n",
      "The expected rate of return on plan assets represents an estimate of the long-term average rate of return to be earned by plan assets reflecting current asset allocations. In determining estimated asset class returns, we take into account historical and future expected long-term returns and the value of active management, as well as the interest rate environment. Asset allocation is determined based on long-term return, volatility and correlation characteristics of the asset classes, the profiles of the plans’ liabilities, and acceptable levels of risk. Lower returns on the plan assets result in higher pension expense. A 50 bp increase or decrease in the estimated rate of return on plan assets may result in a decrease or increase to pension expense, respectively, of approximately $23 per year.\n",
      "We use a market-related valuation method for recognizing certain investment gains or losses for our significant pension plans. Investment gains or losses are the difference between the expected return and actual return on plan assets. The expected return on plan assets is determined based on a market-related value of plan assets. This is a calculated value that recognizes investment gains and losses on equities over a five-year period from the year in which they occur and reduces year-to-year volatility. The market-related value for non-equity investments equals the actual fair value. Expense in future periods will be impacted as gains or losses are recognized in the market-related value of assets.\n",
      "The expected rate of compensation increase is another key assumption. We determine this rate based on review of the underlying long-term salary increase trend characteristic of labor markets and historical experience, as well as comparison to peer companies. A 50 bp increase or decrease in the expected rate of compensation may result in an increase or decrease to pension expense, respectively, of approximately $7 per year.\n",
      "Loss Contingencies\n",
      "In the normal course of business, we encounter contingencies, or situations involving varying degrees of uncertainty as to the outcome and effect on our company. We accrue a liability for loss contingencies when it is considered probable that a liability has been incurred and the amount of loss can be reasonably estimated. When only a range of possible loss can be established, the most probable amount in the range is accrued. If no amount within this range is a better estimate than any other amount within the range, the minimum amount in the range is accrued.\n",
      "Contingencies include those associated with litigation and environmental matters, for which our accounting policy is discussed in Note 1, Major Accounting Policies, to the consolidated financial statements, and details are provided in Note 16, Commitments and Contingencies, to the consolidated financial statements. Significant judgment is required to determine both the probability and whether the amount of loss associated with a contingency can be reasonably estimated. These determinations are made based on the best available information at the time. As additional information becomes available, we reassess probability and estimates of loss contingencies. Revisions to the estimates associated with loss contingencies could have a significant impact on our results of operations in the period in which an accrual for loss contingencies is recorded or adjusted. For example, due to the inherent uncertainties related to environmental exposures, a significant increase to environmental liabilities could occur if a new site is designated, the scope of remediation is increased, a different remediation alternative is identified, or our proportionate share of the liability increases. Similarly, a future charge for regulatory fines or damage awards associated with litigation could have a significant impact on our net income in the period in which it is recorded.\n"
     ]
    }
   ],
   "source": [
    "print(filing['item_7'])"
   ]
  },
  {
   "cell_type": "code",
   "execution_count": null,
   "metadata": {},
   "outputs": [],
   "source": []
  }
 ],
 "metadata": {
  "colab": {
   "provenance": []
  },
  "environment": {
   "kernel": "conda-base-py",
   "name": "workbench-notebooks.m126",
   "type": "gcloud",
   "uri": "us-docker.pkg.dev/deeplearning-platform-release/gcr.io/workbench-notebooks:m126"
  },
  "kernelspec": {
   "display_name": "Python 3 (ipykernel) (Local)",
   "language": "python",
   "name": "conda-base-py"
  },
  "language_info": {
   "codemirror_mode": {
    "name": "ipython",
    "version": 3
   },
   "file_extension": ".py",
   "mimetype": "text/x-python",
   "name": "python",
   "nbconvert_exporter": "python",
   "pygments_lexer": "ipython3",
   "version": "3.10.15"
  }
 },
 "nbformat": 4,
 "nbformat_minor": 4
}
