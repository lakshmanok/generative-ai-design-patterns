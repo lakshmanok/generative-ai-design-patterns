{
 "cells": [
  {
   "cell_type": "markdown",
   "id": "00a2db13-fb78-453a-b9e6-75e3c568e453",
   "metadata": {},
   "source": [
    "# Limitations of LLM Reasoning"
   ]
  },
  {
   "cell_type": "code",
   "execution_count": 1,
   "id": "0264c136-dd55-457e-96a2-6df0c26f7a08",
   "metadata": {
    "tags": []
   },
   "outputs": [],
   "source": [
    "#%pip install --upgrade --quiet pydantic-ai-slim[anthropic,openai]"
   ]
  },
  {
   "cell_type": "code",
   "execution_count": 2,
   "id": "28fb9619-572b-4c6e-8f64-3c0252075834",
   "metadata": {
    "tags": []
   },
   "outputs": [],
   "source": [
    "GEMINI=\"gemini-2.0-flash\"\n",
    "OPENAI=\"gpt-4o-mini\"\n",
    "CLAUDE=\"claude-3-7-sonnet-latest\"\n",
    "\n",
    "import os\n",
    "from dotenv import load_dotenv\n",
    "load_dotenv(\"../keys.env\")\n",
    "assert os.environ[\"GEMINI_API_KEY\"][:2] == \"AI\",\\\n",
    "       \"Please specify the GEMINI_API_KEY access token in keys.env file\"\n",
    "assert os.environ[\"ANTHROPIC_API_KEY\"][:2] == \"sk\",\\\n",
    "       \"Please specify the ANTHROPIC_API_KEY access token in keys.env file\"\n",
    "assert os.environ[\"OPENAI_API_KEY\"][:2] == \"sk\",\\\n",
    "       \"Please specify the OPENAI_API_KEY access token in keys.env file\""
   ]
  },
  {
   "cell_type": "code",
   "execution_count": 3,
   "id": "3ef18244-ec11-4c74-a42c-ff1f07d6ff83",
   "metadata": {
    "tags": []
   },
   "outputs": [],
   "source": [
    "# Needed in Jupyter environment See: https://ai.pydantic.dev/troubleshooting/ \n",
    "import nest_asyncio\n",
    "nest_asyncio.apply()"
   ]
  },
  {
   "cell_type": "code",
   "execution_count": 4,
   "id": "2f17b17c-8806-4bf3-9dbd-a28d40a24659",
   "metadata": {
    "tags": []
   },
   "outputs": [],
   "source": [
    "def zero_shot(model_id, prompt: str) -> str:\n",
    "    from pydantic_ai import Agent\n",
    "    agent = Agent(model_id)\n",
    "    result = agent.run_sync(prompt)\n",
    "    return (result.data)"
   ]
  },
  {
   "cell_type": "markdown",
   "id": "aeff092c-2f0f-4ff7-9e09-4adf4df257ae",
   "metadata": {},
   "source": [
    "## Prime number"
   ]
  },
  {
   "cell_type": "code",
   "execution_count": 6,
   "id": "6bc0a05f-9f4b-4736-a6c9-c7b1d4aa8d60",
   "metadata": {
    "tags": []
   },
   "outputs": [
    {
     "name": "stdout",
     "output_type": "stream",
     "text": [
      "The prime numbers between 100 and 110 are:\n",
      "\n",
      "*   **101**\n",
      "*   **103**\n",
      "*   **107**\n",
      "*   **109**\n"
     ]
    }
   ],
   "source": [
    "print(zero_shot(GEMINI, \"List the prime numbers between 100 and 110\"))"
   ]
  },
  {
   "cell_type": "markdown",
   "id": "e18e5579-8162-4132-b168-34aadd128707",
   "metadata": {},
   "source": [
    "## Apartment size"
   ]
  },
  {
   "cell_type": "code",
   "execution_count": 7,
   "id": "bed11b2d-19c5-4321-862e-1410f9af9498",
   "metadata": {
    "tags": []
   },
   "outputs": [
    {
     "name": "stdout",
     "output_type": "stream",
     "text": [
      "To convert square meters to square feet, you can use the conversion factor that 1 square meter is approximately 10.7639 square feet.\n",
      "\n",
      "So, to convert 84 square meters to square feet:\n",
      "\n",
      "\\[ \n",
      "84 \\, \\text{sq meters} \\times 10.7639 \\, \\text{sq feet/sq meter} \\approx 903.20 \\, \\text{sq feet} \n",
      "\\]\n",
      "\n",
      "Therefore, an apartment that is 84 square meters is approximately 903.20 square feet.\n"
     ]
    }
   ],
   "source": [
    "print(zero_shot(OPENAI, \"How many square feet is an apartment that is 84 sq meters?\"))"
   ]
  },
  {
   "cell_type": "code",
   "execution_count": 8,
   "id": "042eb45e-05e4-47c5-a5b1-dd5f5ddef733",
   "metadata": {},
   "outputs": [
    {
     "data": {
      "text/plain": [
       "904.1676"
      ]
     },
     "execution_count": 8,
     "metadata": {},
     "output_type": "execute_result"
    }
   ],
   "source": [
    "84*10.7639"
   ]
  },
  {
   "cell_type": "markdown",
   "id": "841be60c-963f-4572-968f-21d5ec5991ea",
   "metadata": {},
   "source": [
    "The approach is correct, but the calculation is hallucinated."
   ]
  },
  {
   "cell_type": "markdown",
   "id": "94e0efb4-8f92-4d14-83b3-032c4550ffbd",
   "metadata": {},
   "source": [
    "## Bridge Maxim"
   ]
  },
  {
   "cell_type": "code",
   "execution_count": 11,
   "id": "acd7fdae-1f58-4de9-aa88-9ab3c6a802fc",
   "metadata": {
    "tags": []
   },
   "outputs": [
    {
     "name": "stdout",
     "output_type": "stream",
     "text": [
      "gemini-2.0-flash :\n",
      " The maxim \"eight ever, nine never\" is a guideline for playing suits in bridge, particularly when trying to win tricks. It refers to the number of cards you and your partner hold in a particular suit. If you have a combined total of eight cards in a suit, you should generally try to finesse to make extra tricks in that suit. However, if you have a combined total of nine cards, you should generally play for the drop, as finessing is less likely to succeed and can give the opponents extra tricks.\n",
      " \n",
      "\n",
      "\n",
      "gpt-4o-mini :\n",
      " In bridge, the maxim \"eight ever, nine never\" refers to the principles of determining the optimal number of cards to play when considering whether to bid or support a suit. Specifically, if you have eight cards in a particular suit, you should be willing to support that suit. However, if you have nine cards, it's usually better to not simply rely on that long suit for game consideration, as it may be more beneficial to explore other options for bidding. This maxim helps players make more strategic decisions based on the distribution of their cards. \n",
      "\n",
      "\n",
      "claude-3-7-sonnet-latest :\n",
      " \"Eight ever, nine never\" is a bridge maxim that guides how to play when missing a queen in a suit. With eight cards in a suit between your hand and dummy, you should \"ever\" finesse (play as if the queen is with a specific opponent). With nine cards in the suit, you should \"never\" finesse but instead play for the drop (assuming the queen will fall under your ace-king). This rule of thumb is based on probability: with nine cards, the odds favor the queen appearing if you play the ace and king. \n",
      "\n",
      "\n"
     ]
    }
   ],
   "source": [
    "for model in [GEMINI, OPENAI, CLAUDE]:\n",
    "    print(model, \":\\n\",\n",
    "          zero_shot(model, 'In bridge, what does the maxim \"eight ever, nine never\" mean? Respond in 3-5 sentences.'),\n",
    "          \"\\n\\n\")"
   ]
  },
  {
   "cell_type": "markdown",
   "id": "443ac1b3-81f1-4ca1-acbd-c19639ed780b",
   "metadata": {},
   "source": [
    "## Suit play based on maxim\n",
    "\n",
    "The expert line is to play the Ace, and then the King if the ten doesn’t fall on the right. If the ten falls, then come to hand in another suit and take the finesse. \n",
    "\n",
    "An intermediate player following the maxim would cash the Ace and the King because it’s slightly higher odds than a first-round finesse.\n",
    "\n",
    "Either answer would be acceptable."
   ]
  },
  {
   "cell_type": "code",
   "execution_count": 13,
   "id": "65a3db1c-f14e-41d0-8df9-a35d1dc51d7c",
   "metadata": {
    "tags": []
   },
   "outputs": [
    {
     "name": "stdout",
     "output_type": "stream",
     "text": [
      "gemini-2.0-flash :\n",
      " The best way to play this suit combination (AKJxx opposite xxxx) in bridge, aiming for no losers, depends on the lead and the number of remaining cards in the suit. Here's a breakdown of the different scenarios and how to play them:\n",
      "\n",
      "**Understanding the Situation:**\n",
      "\n",
      "*   **You have:** AKJxx in one hand, and four small cards (xxxx) in the other. This is a fairly strong suit holding.\n",
      "*   **Goal:** To avoid losing any tricks in this suit.\n",
      "\n",
      "**Scenarios and How to Play:**\n",
      "\n",
      "**1. Opposition Leads the Suit:**\n",
      "\n",
      "*   **If the opponent leads *low* to your hand:**\n",
      "    *   **Play the Jack (J).** This forces the opponent to win the trick.\n",
      "    *   *   **If the opponent wins with the Queen (Q) or Ten (T) then you can win all the rest of the tricks with your Ace and King**\n",
      "*   **If the opponent leads the Ace, King, Queen or Ten.**\n",
      "    *   **Play a small card and hope one of the other players has the Queen or the Ten. You can then win all the remaining tricks with the Ace, King and Jack**\n",
      "\n",
      "**2. You Lead the Suit:**\n",
      "\n",
      "*   **With 5 cards in one hand (AKJxx):**\n",
      "    *   **Lead low to your hand with four small.**\n",
      "    *   *   **If you win the trick, play the King, followed by the Ace. This wins two tricks straight away, and you are left with the Jack. If your opponent has played the Queen and Ten, your Jack will win the last trick.**\n",
      "    *   *   **If the player on your left wins the trick, you can then win all the remaining tricks with your King, Ace and Jack.**\n",
      "\n",
      "**Key Considerations:**\n",
      "\n",
      "*   **Opponent's Signals:** Pay close attention to the opponent's signals (high-low, attitude signals). These can sometimes give you clues about their holdings.\n",
      "*   **Counting the Suit:** Try to count how many cards of the suit have been played. This will help you determine if your Jack will eventually be good.\n",
      "*   **Psychological Play:** Sometimes, a slightly unconventional play can mislead the opponents and improve your chances.\n",
      "*   **Safety First:** When in doubt, especially in matchpoints where every overtrick counts, taking the safest route to secure zero losers is often the best approach.\n",
      "\n",
      "**In summary:**\n",
      "\n",
      "The key to successfully playing this suit combination is to be patient, gather information from the opponents' leads and signals, and carefully plan your plays to maximize your chances of winning all the tricks. Be mindful of the potential risks and always prioritize securing zero losers in the suit.\n",
      " \n",
      "\n",
      "\n",
      "gpt-4o-mini :\n",
      " In bridge, if you hold AKJxx opposite a hand with four small cards in a suit, you want to play the suit in a way that ensures you can potentially win all the tricks without losing any. The goal is to establish the suit while managing the risk of the opponents holding higher cards.\n",
      "\n",
      "Here is a recommended strategy:\n",
      "\n",
      "1. **Lead the Ace**: Start by playing the Ace. This allows you to check for any higher cards held by the opponents.\n",
      "\n",
      "2. **Play the King if the Ace Wins**: If the Ace wins the trick and does not get trumped, your next move is to play the King. If that wins, you will then play the Jack.\n",
      "\n",
      "3. **Catch Opponent’s Cards**: If opponents start playing high cards after your Ace, you can assess the situation (for example, if they play the Queen or a lower card). If they play something lower than your King, you can take the King and then the Jack successfully.\n",
      "\n",
      "### Key Points:\n",
      "- You can lose a trick if one of the opponents has the Queen or if the suit is blocked. \n",
      "- By playing the Ace first, you can gauge the distribution of the opponents' cards.\n",
      "- After the Ace and King, play the Jack to secure three tricks from AKJ without losing.\n",
      "\n",
      "If there is no blocking card from the opponents, and you played the Ace first, you should be able to win all tricks in that suit. Remember that the exact outcome can depend on the specific distribution and higher honors the opponents might hold. \n",
      "\n",
      "\n",
      "claude-3-7-sonnet-latest :\n",
      " # Playing AKJxx opposite four small in bridge\n",
      "\n",
      "When you hold AKJxx in one hand and four small cards (let's say 9xxx) in the other hand, you need to play carefully to avoid losing a trick in this suit.\n",
      "\n",
      "The best line of play for no losers is:\n",
      "\n",
      "1. First cash the Ace\n",
      "2. Then play toward the KJxx\n",
      "3. If the Queen hasn't appeared, cash the King\n",
      "4. Then play toward the Jxx\n",
      "\n",
      "This line gives you the best chance against most distributions:\n",
      "- It handles any 2-2 split (regardless of where the Queen is)\n",
      "- It handles any 3-1 split where the Queen is singleton\n",
      "- It handles the Queen being in the hand with three cards (finessable position)\n",
      "\n",
      "The key idea is that you're combining your chances by:\n",
      "1. Catching a singleton Queen when you play the Ace\n",
      "2. Being able to finesse against the Queen if it's on your left\n",
      "3. Dropping the Queen if it's doubleton\n",
      "\n",
      "This approach offers approximately a 75-80% chance of not losing a trick in the suit, which is the best you can do with this combination. \n",
      "\n",
      "\n"
     ]
    }
   ],
   "source": [
    "for model in [GEMINI, OPENAI, CLAUDE]:\n",
    "    print(model, \":\\n\",\n",
    "          zero_shot(model, 'In bridge, holding AKJxx opposite four small, how should you play the the suit for no losers?'),\n",
    "          \"\\n\\n\")"
   ]
  },
  {
   "cell_type": "markdown",
   "id": "533f0803-bc99-4f0b-999a-d20437babd14",
   "metadata": {},
   "source": [
    "All three of the models have answered wrong. To wit:\n",
    "\n",
    "Gemini suggests that you \"Lead low to your hand with four small.\"  This is so horribly wrong. Not even a beginning card player would make this mistake.\n",
    "\n",
    "GPT gets the right intermediate line (cash the Ace and King), but for the wrong reasons. It doesn't realize that the point is that the opponents' cards are likely to be split 2-2.\n",
    "\n",
    "Claude seems to pick the expert line (the paragraph about the line giving the best chance against most distributions is the correct description of the expert line), but the line of play it describes is wrong. The point about the expert line is the take the finesse only if the Ten appears on the right."
   ]
  },
  {
   "cell_type": "markdown",
   "id": "a7d5fa97-3699-4fe3-9725-f9e826779044",
   "metadata": {},
   "source": [
    "## Bridge maxim and line of play\n",
    "\n",
    "What if we ask the conversational interfaces that have access to tools like web search etc.?\n",
    "\n",
    "Here's our links to the appropriate sessions:\n",
    "\n",
    "ChatGPT: https://chatgpt.com/share/67f34e98-d930-8006-aa3b-e47d3b67554f\n",
    "\n",
    "Gemini: https://g.co/gemini/share/e05094727453\n",
    "\n",
    "Claude: https://claude.ai/share/fc1ce42e-8db4-46f3-a1b0-2be9fd13b14f\n",
    "\n",
    "All three get the maxim right and the line of play wrong."
   ]
  },
  {
   "cell_type": "code",
   "execution_count": null,
   "id": "c008a132-9abc-4888-99fe-7b3c58cc9d61",
   "metadata": {},
   "outputs": [],
   "source": []
  }
 ],
 "metadata": {
  "environment": {
   "kernel": "conda-base-py",
   "name": "workbench-notebooks.m126",
   "type": "gcloud",
   "uri": "us-docker.pkg.dev/deeplearning-platform-release/gcr.io/workbench-notebooks:m126"
  },
  "kernelspec": {
   "display_name": "Python 3 (ipykernel) (Local)",
   "language": "python",
   "name": "conda-base-py"
  },
  "language_info": {
   "codemirror_mode": {
    "name": "ipython",
    "version": 3
   },
   "file_extension": ".py",
   "mimetype": "text/x-python",
   "name": "python",
   "nbconvert_exporter": "python",
   "pygments_lexer": "ipython3",
   "version": "3.10.15"
  }
 },
 "nbformat": 4,
 "nbformat_minor": 5
}
