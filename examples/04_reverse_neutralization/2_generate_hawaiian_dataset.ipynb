{
 "cells": [
  {
   "cell_type": "markdown",
   "metadata": {},
   "source": [
    "## Reverse Neutralization Examples"
   ]
  },
  {
   "cell_type": "code",
   "execution_count": 1,
   "metadata": {},
   "outputs": [],
   "source": [
    "# pip install --upgrade --quiet  openai python-dotenv"
   ]
  },
  {
   "cell_type": "code",
   "execution_count": 2,
   "metadata": {},
   "outputs": [],
   "source": [
    "import os\n",
    "import json\n",
    "from tqdm import tqdm\n",
    "\n",
    "from dotenv import load_dotenv\n",
    "from openai import OpenAI\n",
    "\n",
    "load_dotenv(\"../keys.env\")\n",
    "\n",
    "assert os.environ[\"OPENAI_API_KEY\"][:2] == \"sk\", \"Please sign up for access to the OpenAI API and provide access token in keys.env file\"\n",
    "\n",
    "# Initialize the OpenAI client\n",
    "client = OpenAI(\n",
    "    api_key=os.environ[\"OPENAI_API_KEY\"]\n",
    ")"
   ]
  },
  {
   "cell_type": "markdown",
   "metadata": {},
   "source": [
    "## Example: Generating Hawaiian style email dataset"
   ]
  },
  {
   "cell_type": "code",
   "execution_count": 7,
   "metadata": {},
   "outputs": [
    {
     "name": "stdout",
     "output_type": "stream",
     "text": [
      "Aloha Jane, Call me back later.\n"
     ]
    }
   ],
   "source": [
    "messages = [\n",
    "\t{'role': 'system',\n",
    "\t 'content': 'You are a helpful assistant who will convert the given text into Hawaiian style (Mahalo/Aloha/etc.).'},\n",
    "\t{'role': 'user',\n",
    "\t 'content': 'Convert the following text into Hawaiian English style (Mahalo/Aloha/etc.), don\\'t translate the text, just convert it to Hawaiian English style. Example: \"Hello, how are you?\" -> \"Aloha, how are you?\" Text: Hi Jane, Call me back later.'}\n",
    "    ]\n",
    "\n",
    "# Make API call\n",
    "response = client.chat.completions.create(\n",
    "    model=\"gpt-4o-mini\",\n",
    "    messages=messages,\n",
    "    temperature=0.7\n",
    ")\n",
    "\n",
    "print(response.choices[0].message.content)"
   ]
  },
  {
   "cell_type": "markdown",
   "metadata": {},
   "source": [
    "## Example: Personal style"
   ]
  },
  {
   "cell_type": "code",
   "execution_count": 10,
   "metadata": {},
   "outputs": [
    {
     "name": "stdout",
     "output_type": "stream",
     "text": [
      "Subject: Request for budget forecast\n",
      "\n",
      "Body: Aloha Jane,\n",
      "\n",
      "I hope you’re doing well. I’m reaching out because I need the budget forecast by {deadline}.\n",
      "\n",
      "This is needed for our upcoming presentation to the stakeholders.\n",
      "\n",
      "Could you please help me with this? Let me know if you need any additional information.\n",
      "\n",
      "Mahalo in advance for your help.\n",
      "\n",
      "Best,  \n",
      "Matt\n"
     ]
    }
   ],
   "source": [
    "email = \"\"\"\n",
    "Subject: Request for budget forecast\n",
    "\n",
    "Body: Hi Jane,\n",
    "\n",
    "I hope you're doing well. I'm reaching out because I need budget forecast by {deadline}.\n",
    "\n",
    "This is needed for our upcoming presentation to stakeholders.\\n\\nCould you please help me with this? Let me know if you need any additional information.\n",
    "\n",
    "Thank you in advance for your help.\n",
    "\n",
    "Best,\n",
    "Matt\n",
    "\n",
    "\"\"\"\n",
    "\n",
    "messages = [\n",
    "\t{'role': 'user',\n",
    "\t 'content': f'Convert the following text into Hawaiian English style (Mahalo/Aloha/etc.), don\\'t translate the text, just convert it to Hawaiian English style. Example: \"Hello, how are you?\" -> \"Aloha, how are you?\" Text: {email}'}\n",
    " ]\n",
    "\n",
    "# Make API call\n",
    "response = client.chat.completions.create(\n",
    "    model=\"gpt-4o-mini\",\n",
    "    messages=messages,\n",
    "    temperature=0.7\n",
    ")\n",
    "\n",
    "print(response.choices[0].message.content)"
   ]
  },
  {
   "cell_type": "code",
   "execution_count": 11,
   "metadata": {},
   "outputs": [
    {
     "name": "stderr",
     "output_type": "stream",
     "text": [
      "100%|██████████| 198/198 [05:19<00:00,  1.61s/it]\n"
     ]
    }
   ],
   "source": [
    "result = []\n",
    "\n",
    "with open('emails.jsonl', 'r') as f:\n",
    "    emails = [json.loads(line) for line in f]\n",
    "\n",
    "for email in tqdm(emails):\n",
    "    messages = [\n",
    "            {'role': 'system',\n",
    "             'content': 'You are a helpful assistant who will convert the given text into Hawaiian style (Mahalo/Aloha/etc.).'},\n",
    "            {'role': 'user',\n",
    "             'content': f'Convert the following text into Hawaiian English style (Mahalo/Aloha/etc.), don\\'t translate the text, just convert it to Hawaiian English style. Example: \"Hello, how are you?\" -> \"Aloha, how are you?\" Text: {email}'}\n",
    "    ]\n",
    "\n",
    "    response = client.chat.completions.create(\n",
    "        model=\"gpt-4o-mini\",\n",
    "        messages=messages,\n",
    "        temperature=0.7\n",
    "    )\n",
    "\n",
    "    result.append(response.choices[0].message.content)\n",
    "\n",
    "with open('hawaiian_emails.jsonl', 'w') as f:\n",
    "    for item in result:\n",
    "        f.write(json.dumps(item) + '\\n')\n"
   ]
  },
  {
   "cell_type": "code",
   "execution_count": null,
   "metadata": {},
   "outputs": [],
   "source": []
  }
 ],
 "metadata": {
  "kernelspec": {
   "display_name": ".venv",
   "language": "python",
   "name": "python3"
  },
  "language_info": {
   "codemirror_mode": {
    "name": "ipython",
    "version": 3
   },
   "file_extension": ".py",
   "mimetype": "text/x-python",
   "name": "python",
   "nbconvert_exporter": "python",
   "pygments_lexer": "ipython3",
   "version": "3.10.16"
  }
 },
 "nbformat": 4,
 "nbformat_minor": 2
}
