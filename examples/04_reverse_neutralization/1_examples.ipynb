{
 "cells": [
  {
   "cell_type": "markdown",
   "metadata": {},
   "source": [
    "## Reverse Neutralization Examples"
   ]
  },
  {
   "cell_type": "code",
   "execution_count": 1,
   "metadata": {},
   "outputs": [],
   "source": [
    "# pip install --upgrade --quiet  openai python-dotenv"
   ]
  },
  {
   "cell_type": "code",
   "execution_count": 2,
   "metadata": {},
   "outputs": [],
   "source": [
    "import os\n",
    "from dotenv import load_dotenv\n",
    "from openai import OpenAI\n",
    "\n",
    "\n",
    "load_dotenv(\"../keys.env\")\n",
    "\n",
    "assert os.environ[\"OPENAI_API_KEY\"][:2] == \"sk\", \"Please sign up for access to the OpenAI API and provide access token in keys.env file\"\n",
    "\n",
    "# Initialize the OpenAI client\n",
    "client = OpenAI(\n",
    "    api_key=os.environ[\"OPENAI_API_KEY\"]\n",
    ")"
   ]
  },
  {
   "cell_type": "markdown",
   "metadata": {},
   "source": [
    "## Example: Generating Legal Text"
   ]
  },
  {
   "cell_type": "code",
   "execution_count": 5,
   "metadata": {},
   "outputs": [
    {
     "name": "stdout",
     "output_type": "stream",
     "text": [
      "The person suing is asking the court to decide the case without a full trial. They say that the other person broke the contract listed in Exhibit A, and they should get money to make up for it.\n"
     ]
    }
   ],
   "source": [
    "messages = [\n",
    "\t{'role': 'system',\n",
    "\t 'content': 'You are a helpful assistant who will convert the given text into text that is understandable by a freshman college student.'},\n",
    "\t{'role': 'user',\n",
    "\t 'content': 'Neutralize the tone and style from the following legal text and express it for a non-legal audience: \"The plaintiff hereby moves for summary judgment pursuant to Rule 56(c), asserting that the defendant\\'s aforementioned conduct constitutes a material breach of the contractual obligations set forth in Exhibit A, thus entitling the moving party to compensatory damages as a matter of law.\"'}\n",
    "    ]\n",
    "\n",
    "# Make API call\n",
    "response = client.chat.completions.create(\n",
    "    model=\"gpt-3.5-turbo\",\n",
    "    messages=messages,\n",
    "    temperature=0.7\n",
    ")\n",
    "\n",
    "print(response.choices[0].message.content)"
   ]
  },
  {
   "cell_type": "markdown",
   "metadata": {},
   "source": [
    "## Example: Personal style"
   ]
  },
  {
   "cell_type": "code",
   "execution_count": 6,
   "metadata": {},
   "outputs": [
    {
     "name": "stdout",
     "output_type": "stream",
     "text": [
      "Subject: Request for budget forecast\n",
      "\n",
      "Body: Dear Jane,\n",
      "\n",
      "I trust this message finds you well. I am contacting you to request a budget forecast by {deadline} for an upcoming presentation to stakeholders.\n",
      "\n",
      "Could you kindly assist me with this task? Please feel free to let me know if you require any further information.\n",
      "\n",
      "Thank you in advance for your cooperation.\n",
      "\n",
      "Best regards,\n",
      "Matt\n"
     ]
    }
   ],
   "source": [
    "email = \"\"\"\n",
    "Subject: Request for budget forecast\n",
    "\n",
    "Body: Hi Jane,\n",
    "\n",
    "I hope you're doing well. I'm reaching out because I need budget forecast by {deadline}.\n",
    "\n",
    "This is needed for our upcoming presentation to stakeholders.\\n\\nCould you please help me with this? Let me know if you need any additional information.\n",
    "\n",
    "Thank you in advance for your help.\n",
    "\n",
    "Best,\n",
    "Matt\n",
    "\n",
    "\"\"\"\n",
    "\n",
    "messages = [\n",
    "\t{'role': 'user',\n",
    "\t 'content': f'Neutralize the tone and style from the following email to make it professional and suitable for communication between executives who may not know each other very well. \"{email}\"'}]\n",
    "\n",
    "# Make API call\n",
    "response = client.chat.completions.create(\n",
    "    model=\"gpt-3.5-turbo\",\n",
    "    messages=messages,\n",
    "    temperature=0.7\n",
    ")\n",
    "\n",
    "print(response.choices[0].message.content)"
   ]
  },
  {
   "cell_type": "code",
   "execution_count": null,
   "metadata": {},
   "outputs": [],
   "source": []
  }
 ],
 "metadata": {
  "kernelspec": {
   "display_name": ".venv",
   "language": "python",
   "name": "python3"
  },
  "language_info": {
   "codemirror_mode": {
    "name": "ipython",
    "version": 3
   },
   "file_extension": ".py",
   "mimetype": "text/x-python",
   "name": "python",
   "nbconvert_exporter": "python",
   "pygments_lexer": "ipython3",
   "version": "3.10.16"
  }
 },
 "nbformat": 4,
 "nbformat_minor": 2
}
