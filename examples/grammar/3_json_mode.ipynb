{
 "cells": [
  {
   "cell_type": "markdown",
   "id": "19f4b00e-59c2-4496-a0e5-cd10dff0f0eb",
   "metadata": {},
   "source": [
    "## Using JSON mode to avoid having to specify a grammar\n",
    "\n",
    "OpenAI supports a JSON mode."
   ]
  },
  {
   "cell_type": "code",
   "execution_count": 1,
   "id": "41664a72-3e67-4e57-9e6d-2a01ed7ed8bb",
   "metadata": {},
   "outputs": [
    {
     "name": "stdout",
     "output_type": "stream",
     "text": [
      "Note: you may need to restart the kernel to use updated packages.\n"
     ]
    }
   ],
   "source": [
    "#%pip install --upgrade --quiet openai"
   ]
  },
  {
   "cell_type": "code",
   "execution_count": 1,
   "id": "b078983c-cda3-46d0-8438-d284bc017b3c",
   "metadata": {
    "tags": []
   },
   "outputs": [],
   "source": [
    "MODEL_ID = \"gpt-4o-mini\"\n",
    "\n",
    "import os\n",
    "from dotenv import load_dotenv\n",
    "load_dotenv(\"../keys.env\")\n",
    "assert os.environ[\"OPENAI_API_KEY\"][:2] == \"sk\",\\\n",
    "       \"Please specify the OPENAI_API_KEY access token in keys.env file\""
   ]
  },
  {
   "cell_type": "code",
   "execution_count": 2,
   "id": "3fe3f67b-bee2-4e41-95ef-56a6c353a48c",
   "metadata": {
    "tags": []
   },
   "outputs": [],
   "source": [
    "from openai import OpenAI\n",
    "client = OpenAI()"
   ]
  },
  {
   "cell_type": "markdown",
   "id": "c7717ded-01ba-4fa2-b1c4-44b342cc0ab6",
   "metadata": {},
   "source": [
    "## Zero-shot generation\n",
    "\n",
    "Specifying JSON as the response format"
   ]
  },
  {
   "cell_type": "code",
   "execution_count": 6,
   "id": "b99c70f1-9468-440a-a6be-7910edd9ad41",
   "metadata": {},
   "outputs": [
    {
     "name": "stdout",
     "output_type": "stream",
     "text": [
      "{\n",
      "    \"author\": \"Gabriel García Márquez\",\n",
      "    \"title\": \"Love in the Time of Cholera\",\n",
      "    \"year\": 1985\n",
      "}\n"
     ]
    }
   ],
   "source": [
    "def parse_book_info(paragraph: str) -> str:\n",
    "    system_prompt = \"\"\"\n",
    "    You will be given a short paragraph about a book.\n",
    "    Extract the author, title, and publication year of the book.\n",
    "    Return the result as JSON with the keys author, title, and year.\n",
    "    If any piece of information is not found, fill the spot with NULL\n",
    "    \"\"\"\n",
    "    \n",
    "    input_message = [\n",
    "        {\"role\": \"developer\", \"content\": system_prompt},\n",
    "        {\"role\": \"user\", \"content\": paragraph}   \n",
    "    ]\n",
    "\n",
    "    response = client.chat.completions.create(\n",
    "        model=MODEL_ID,\n",
    "        messages=input_message,\n",
    "        response_format={\"type\": \"json_object\"}\n",
    "    )\n",
    "    return response.choices[0].message.content\n",
    "\n",
    "\n",
    "result = parse_book_info(\"\"\"\n",
    "Love in the Time of Cholera (Spanish: El amor en los tiempos del cólera) is a novel written in Spanish\n",
    "by Colombian Nobel Prize-winning author Gabriel García Márquez and published in 1985.\n",
    "\"\"\")\n",
    "print(result)"
   ]
  },
  {
   "cell_type": "code",
   "execution_count": 7,
   "id": "c5c44151-f150-403d-92d2-d71b65231b64",
   "metadata": {
    "tags": []
   },
   "outputs": [
    {
     "name": "stdout",
     "output_type": "stream",
     "text": [
      "{\n",
      "    \"author\": \"Valluvar\",\n",
      "    \"title\": \"The Tirukkural\",\n",
      "    \"year\": \"NULL\"\n",
      "}\n"
     ]
    }
   ],
   "source": [
    "result = parse_book_info(\"\"\"\n",
    "The Tirukkural (Tamil: திருக்குறள், lit. 'sacred verses')\n",
    "is a classic Tamil language text whose authorship is traditionally attributed to Valluvar,\n",
    "also known in full as Thiruvalluvar. The text has been dated variously from 300 BCE to 5th century CE. \n",
    "The traditional accounts describe it as the last work of the third Sangam, but linguistic analysis\n",
    "suggests a later date of 450 to 500 CE and that it was composed after the Sangam period.\n",
    "\"\"\")\n",
    "print(result)"
   ]
  },
  {
   "cell_type": "code",
   "execution_count": null,
   "id": "145d38a8-9d5f-4aaa-b435-95c59aee4817",
   "metadata": {},
   "outputs": [],
   "source": []
  }
 ],
 "metadata": {
  "environment": {
   "kernel": "conda-base-py",
   "name": "workbench-notebooks.m126",
   "type": "gcloud",
   "uri": "us-docker.pkg.dev/deeplearning-platform-release/gcr.io/workbench-notebooks:m126"
  },
  "kernelspec": {
   "display_name": "Python 3 (ipykernel) (Local)",
   "language": "python",
   "name": "conda-base-py"
  },
  "language_info": {
   "codemirror_mode": {
    "name": "ipython",
    "version": 3
   },
   "file_extension": ".py",
   "mimetype": "text/x-python",
   "name": "python",
   "nbconvert_exporter": "python",
   "pygments_lexer": "ipython3",
   "version": "3.10.15"
  }
 },
 "nbformat": 4,
 "nbformat_minor": 5
}
