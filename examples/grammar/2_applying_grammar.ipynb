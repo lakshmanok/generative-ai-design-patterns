{
 "cells": [
  {
   "cell_type": "markdown",
   "id": "19f4b00e-59c2-4496-a0e5-cd10dff0f0eb",
   "metadata": {},
   "source": [
    "## Filtering logprobs based on a Grammar specification"
   ]
  },
  {
   "cell_type": "code",
   "execution_count": 1,
   "id": "9c71c5a8-b449-4864-9325-b2f1643f1fc7",
   "metadata": {
    "tags": []
   },
   "outputs": [],
   "source": [
    "#%pip install --upgrade --quiet transformers-cfg"
   ]
  },
  {
   "cell_type": "code",
   "execution_count": 1,
   "id": "b078983c-cda3-46d0-8438-d284bc017b3c",
   "metadata": {
    "tags": []
   },
   "outputs": [],
   "source": [
    "MODEL_ID = \"microsoft/Phi-3-mini-4k-instruct\"\n",
    "\n",
    "import os\n",
    "from dotenv import load_dotenv\n",
    "load_dotenv(\"../keys.env\");"
   ]
  },
  {
   "cell_type": "markdown",
   "id": "c7717ded-01ba-4fa2-b1c4-44b342cc0ab6",
   "metadata": {},
   "source": [
    "## Use Grammar to ensure that only an arithmetic expression gets generated"
   ]
  },
  {
   "cell_type": "code",
   "execution_count": 2,
   "id": "e6cad70f-b88b-4b35-98fd-d9be4b64f268",
   "metadata": {
    "tags": []
   },
   "outputs": [
    {
     "data": {
      "application/vnd.jupyter.widget-view+json": {
       "model_id": "f7864f9e008f426f95f09f69157f852d",
       "version_major": 2,
       "version_minor": 0
      },
      "text/plain": [
       "Loading checkpoint shards:   0%|          | 0/2 [00:00<?, ?it/s]"
      ]
     },
     "metadata": {},
     "output_type": "display_data"
    },
    {
     "name": "stderr",
     "output_type": "stream",
     "text": [
      "Device set to use cuda:0\n"
     ]
    }
   ],
   "source": [
    "from transformers import pipeline\n",
    "from transformers_cfg.grammar_utils import IncrementalGrammarConstraint\n",
    "from transformers_cfg.generation.logits_process import GrammarConstrainedLogitsProcessor\n",
    "\n",
    "pipe = pipeline(\n",
    "    task=\"text-generation\", \n",
    "    model=MODEL_ID,\n",
    " #   tokenizer=tokenizer,\n",
    "    kwargs={\n",
    "        \"return_full_text\": False,\n",
    "    },\n",
    "    model_kwargs={}\n",
    ")"
   ]
  },
  {
   "cell_type": "code",
   "execution_count": 10,
   "id": "6d864a57-d022-4783-884e-dacd778be4ed",
   "metadata": {
    "tags": []
   },
   "outputs": [],
   "source": [
    "def get_expression_that_solves(math_problem: str) -> str:\n",
    "    system_prompt = \"\"\"\n",
    "    You are a math instructor. I will ask you a math question.\n",
    "    Respond with the mathematical expression that can be used to solve the problem.\n",
    "    \"\"\"\n",
    "    \n",
    "    # load the grammar\n",
    "    grammar_str = \"\"\"\n",
    "root  ::= (expr \"=\" ws term \"\\n\")+\n",
    "expr  ::= term ([-+*/] term)*\n",
    "term  ::= ident | num | \"(\" ws expr \")\" ws\n",
    "ident ::= [a-z] [a-z0-9_]* ws\n",
    "num   ::= [0-9]+ ws\n",
    "ws    ::= [ \\t\\n]*\n",
    "    \"\"\"\n",
    "    grammar = IncrementalGrammarConstraint(grammar_str, \"root\", pipe.tokenizer)\n",
    "    grammar_processor = GrammarConstrainedLogitsProcessor(grammar)\n",
    "\n",
    "    input_message = [\n",
    "        {\"role\": \"system\", \"content\": system_prompt},\n",
    "        {\"role\": \"user\", \"content\": math_problem}   \n",
    "    ]\n",
    "\n",
    "    results = pipe(input_message, \n",
    "                   max_new_tokens=256, \n",
    "                   do_sample=False, \n",
    "                   logits_processor=[grammar_processor])\n",
    "    return results[0]['generated_text'][-1]['content'].strip()"
   ]
  },
  {
   "cell_type": "code",
   "execution_count": 11,
   "id": "27f9785d-76c0-4034-a860-23bb32fa7b7b",
   "metadata": {
    "tags": []
   },
   "outputs": [
    {
     "name": "stdout",
     "output_type": "stream",
     "text": [
      "bill_apples +mae_apples = total_apples\n",
      "\n",
      "3 +2 = 5\n"
     ]
    }
   ],
   "source": [
    "result = get_expression_that_solves(\"\"\"\n",
    "Bill has 3 apples and 2 oranges.\n",
    "Mae has 2 apples and 4 oranges.\n",
    "How many total apples do Bill and Mae have?\n",
    "\"\"\")\n",
    "print(result)"
   ]
  },
  {
   "cell_type": "markdown",
   "id": "9dfc4c7a-468d-4bba-9e59-b11df223ac8b",
   "metadata": {},
   "source": [
    "Our result:\n",
    "```\n",
    "bill_apples +mae_apples = total_apples\n",
    "\n",
    "3 +2 = 5\n",
    "```"
   ]
  },
  {
   "cell_type": "code",
   "execution_count": 12,
   "id": "ae69d720-3343-4be2-be66-8c0c9a80898d",
   "metadata": {
    "tags": []
   },
   "outputs": [
    {
     "name": "stdout",
     "output_type": "stream",
     "text": [
      "1 +2 = 3\n",
      "2 +4 = 6\n",
      "\n",
      "3 = 3\n",
      "6 = 6\n",
      "\n",
      "3 = 6\n",
      "\n",
      "3 = 6\n",
      "\n",
      "3 = 6\n",
      "\n",
      "3 = 6\n",
      "\n",
      "3 = 6\n",
      "\n",
      "3 = 6\n",
      "\n",
      "3 = 6\n",
      "\n",
      "3 = 6\n",
      "\n",
      "3 = 6\n",
      "\n",
      "3 = 6\n",
      "\n",
      "3 = 6\n",
      "\n",
      "3 = 6\n",
      "\n",
      "3 = 6\n",
      "\n",
      "3 = 6\n",
      "\n",
      "3 = 6\n",
      "\n",
      "3 = 6\n",
      "\n",
      "3 = 6\n",
      "\n",
      "3 = 6\n",
      "\n",
      "3 = 6\n",
      "\n",
      "3 = 6\n",
      "\n",
      "3 = 6\n",
      "\n",
      "3 = 6\n",
      "\n",
      "3 = 6\n",
      "\n",
      "3 = 6\n",
      "\n",
      "3 = 6\n",
      "\n",
      "3 = 6\n",
      "\n",
      "3 = 6\n",
      "\n",
      "3 = 6\n",
      "\n",
      "3 = 6\n",
      "\n",
      "3 = 6\n",
      "\n",
      "3 = 6\n",
      "\n",
      "3 = 6\n",
      "\n",
      "3 = 6\n",
      "\n",
      "3 = 6\n",
      "\n",
      "3 = 6\n",
      "\n",
      "3 = 6\n",
      "\n",
      "3 = 6\n",
      "\n",
      "3 = 6\n",
      "\n",
      "3 =\n"
     ]
    }
   ],
   "source": [
    "# here, the expression is (3+2) > (2+4), which is not allowed by our grammar which expects equality\n",
    "result = get_expression_that_solves(\"\"\"\n",
    "Bill has 3 apples and 2 oranges.\n",
    "Mae has 2 apples and 4 oranges.\n",
    "Do Bill and Mae have more apples than oranges?\n",
    "\"\"\")\n",
    "print(result)"
   ]
  },
  {
   "cell_type": "markdown",
   "id": "96249629-ffbd-4771-b87c-4568e0aaca84",
   "metadata": {},
   "source": [
    "Our result:\n",
    "```\n",
    "1 +2 = 3\n",
    "2 +4 = 6\n",
    "\n",
    "3 = 3\n",
    "...\n",
    "```\n",
    "Obviously, this is a problem if your grammar is too limited."
   ]
  },
  {
   "cell_type": "markdown",
   "id": "9cb27476-f093-450e-8d20-e841b397d002",
   "metadata": {},
   "source": [
    "## Use Grammar to specify a format + validation\n",
    "\n",
    "We want:\n",
    "author | title | year\n"
   ]
  },
  {
   "cell_type": "code",
   "execution_count": 13,
   "id": "a2129434-3a07-486a-b098-3bf28918f749",
   "metadata": {
    "tags": []
   },
   "outputs": [
    {
     "data": {
      "text/plain": [
       "'Gabriel Garcia Marquez | Love in the Time of Cholera |1985'"
      ]
     },
     "execution_count": 13,
     "metadata": {},
     "output_type": "execute_result"
    }
   ],
   "source": [
    "def parse_book_info(paragraph: str) -> str:\n",
    "    system_prompt = \"\"\"\n",
    "    You will be given a short paragraph about a book.\n",
    "    Extract the author, title, and publication year of the book.\n",
    "    Return the result as author | title | year\n",
    "    If any piece of information is not found, fill the spot with NULL\n",
    "    \"\"\"\n",
    "    \n",
    "    # load the grammar\n",
    "    grammar_str = \"\"\"\n",
    "record ::= author separator title separator year\n",
    "author ::= [a-zA-Z ]* | unk\n",
    "title ::= [a-zA-Z ]* | unk\n",
    "year ::= [1-2][0-9][0-9][0-9] | unk\n",
    "unk ::= \"NULL\"\n",
    "separator ::= \"|\"\n",
    "    \"\"\"\n",
    "    grammar = IncrementalGrammarConstraint(grammar_str, \"record\", pipe.tokenizer)\n",
    "    grammar_processor = GrammarConstrainedLogitsProcessor(grammar)\n",
    "\n",
    "    input_message = [\n",
    "        {\"role\": \"system\", \"content\": system_prompt},\n",
    "        {\"role\": \"user\", \"content\": paragraph}   \n",
    "    ]\n",
    "\n",
    "    results = pipe(input_message, \n",
    "                   max_new_tokens=256, \n",
    "                   do_sample=False, \n",
    "                   logits_processor=[grammar_processor])\n",
    "    return results[0]['generated_text'][-1]['content'].strip()\n",
    "\n",
    "\n",
    "parse_book_info(\"\"\"\n",
    "Love in the Time of Cholera (Spanish: El amor en los tiempos del cólera) is a novel written in Spanish\n",
    "by Colombian Nobel Prize-winning author Gabriel García Márquez and published in 1985.\n",
    "\"\"\")"
   ]
  },
  {
   "cell_type": "markdown",
   "id": "0c28e745-0379-4e9e-bf10-e850901ed8c1",
   "metadata": {},
   "source": [
    "Result:\n",
    "```\n",
    "Gabriel Garcia Marquez | Love in the Time of Cholera |1985\n",
    "```\n",
    "Note that accents have been removed."
   ]
  },
  {
   "cell_type": "code",
   "execution_count": 15,
   "id": "a16f8fca-de55-416d-a58f-9ced8d21ed39",
   "metadata": {
    "tags": []
   },
   "outputs": [
    {
     "data": {
      "text/plain": [
       "'Valluvar | The Tirukkural |NULL'"
      ]
     },
     "execution_count": 15,
     "metadata": {},
     "output_type": "execute_result"
    }
   ],
   "source": [
    "parse_book_info(\"\"\"\n",
    "The Tirukkural (Tamil: திருக்குறள், lit. 'sacred verses')\n",
    "is a classic Tamil language text whose authorship is traditionally attributed to Valluvar,\n",
    "also known in full as Thiruvalluvar. The text has been dated variously from 300 BCE to 5th century CE. \n",
    "The traditional accounts describe it as the last work of the third Sangam, but linguistic analysis\n",
    "suggests a later date of 450 to 500 CE and that it was composed after the Sangam period.\n",
    "\"\"\")"
   ]
  },
  {
   "cell_type": "markdown",
   "id": "61dd3f11-4372-4b0a-95a9-8e1ae568b6c7",
   "metadata": {},
   "source": [
    "Result:\n",
    "```\n",
    "Valluvar | The Tirukkural |NULL\n",
    "```\n",
    "Note the use of NULL"
   ]
  },
  {
   "cell_type": "code",
   "execution_count": null,
   "id": "7b4d7cdb-e3ac-43ab-9251-d9763b9e3513",
   "metadata": {},
   "outputs": [],
   "source": []
  }
 ],
 "metadata": {
  "environment": {
   "kernel": "conda-base-py",
   "name": "workbench-notebooks.m126",
   "type": "gcloud",
   "uri": "us-docker.pkg.dev/deeplearning-platform-release/gcr.io/workbench-notebooks:m126"
  },
  "kernelspec": {
   "display_name": "Python 3 (ipykernel) (Local)",
   "language": "python",
   "name": "conda-base-py"
  },
  "language_info": {
   "codemirror_mode": {
    "name": "ipython",
    "version": 3
   },
   "file_extension": ".py",
   "mimetype": "text/x-python",
   "name": "python",
   "nbconvert_exporter": "python",
   "pygments_lexer": "ipython3",
   "version": "3.10.15"
  }
 },
 "nbformat": 4,
 "nbformat_minor": 5
}
