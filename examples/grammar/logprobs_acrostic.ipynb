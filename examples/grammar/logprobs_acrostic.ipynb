{
 "cells": [
  {
   "cell_type": "markdown",
   "id": "f7fe5eda-a9fe-45de-8179-5ebc341d8de4",
   "metadata": {
    "tags": []
   },
   "source": [
    "## Using logprobs to ensure that an acrostic poem is generated"
   ]
  },
  {
   "cell_type": "code",
   "execution_count": 5,
   "id": "378cf8e6-23f7-4442-842f-98f027a18e34",
   "metadata": {
    "tags": []
   },
   "outputs": [
    {
     "name": "stdout",
     "output_type": "stream",
     "text": [
      "Note: you may need to restart the kernel to use updated packages.\n"
     ]
    }
   ],
   "source": [
    "%pip install --upgrade --quiet transformers torch fbgemm-gpu accelerate"
   ]
  },
  {
   "cell_type": "code",
   "execution_count": 1,
   "id": "2726632e-9ac0-4ba9-b86b-11bd57012b62",
   "metadata": {
    "tags": []
   },
   "outputs": [],
   "source": [
    "# CHANGE this to the Llama model for which you have applied for access via Hugging Face\n",
    "# See: https://www.llama.com/docs/getting-the-models/hugging-face/\n",
    "MODEL_ID = \"meta-llama/Llama-3.2-3B-Instruct\""
   ]
  },
  {
   "cell_type": "code",
   "execution_count": 2,
   "id": "883fd51a-6bfd-4788-a405-9b2e89dbe656",
   "metadata": {
    "tags": []
   },
   "outputs": [],
   "source": [
    "import os\n",
    "from dotenv import load_dotenv\n",
    "load_dotenv(\"../keys.env\")\n",
    "assert os.environ[\"HF_TOKEN\"][:2] == \"hf\",\\\n",
    "       \"Please sign up for access to the specific Llama model via HuggingFace and provide access token in keys.env file\""
   ]
  },
  {
   "cell_type": "markdown",
   "id": "1ca557ff-ee75-46fa-9d0b-70f928008f05",
   "metadata": {},
   "source": [
    "## Zero-shot generation\n"
   ]
  },
  {
   "cell_type": "code",
   "execution_count": 4,
   "id": "f35d22d7-8985-4cde-aef2-e52d4b77cea2",
   "metadata": {
    "tags": []
   },
   "outputs": [
    {
     "data": {
      "application/vnd.jupyter.widget-view+json": {
       "model_id": "dcbc6a23ff634365844413559f913062",
       "version_major": 2,
       "version_minor": 0
      },
      "text/plain": [
       "Loading checkpoint shards:   0%|          | 0/2 [00:00<?, ?it/s]"
      ]
     },
     "metadata": {},
     "output_type": "display_data"
    },
    {
     "name": "stderr",
     "output_type": "stream",
     "text": [
      "Device set to use cuda:0\n"
     ]
    }
   ],
   "source": [
    "from transformers import pipeline\n",
    "\n",
    "pipe = pipeline(\n",
    "    task=\"text-generation\", \n",
    "    model=MODEL_ID,\n",
    "    use_fast=True,\n",
    "    kwargs={\n",
    "        \"return_full_text\": False,\n",
    "    },\n",
    "    model_kwargs={}\n",
    ")"
   ]
  },
  {
   "cell_type": "code",
   "execution_count": 5,
   "id": "30d81f88-3548-40cb-9c67-95c0249dd505",
   "metadata": {
    "tags": []
   },
   "outputs": [],
   "source": [
    "def get_input_message(animal: str, poem_so_far=None):\n",
    "    system_prompt=\"\"\"\n",
    "    You are a poet writing acrostic poems about animals for a childrens' book.\n",
    "    The first letters of the acrostic poem need to spell out an adjective that is suitable for the animal.\n",
    "    Each line needs to be a phrase that describes the animal.\n",
    "    For example, the first letters of an acrostic poem about rabbits might spell out \"quick\" or \"cute\"\n",
    "    and the entire poem needs to be a single phrase.\n",
    "\n",
    "    For example, an acrostic poem about rabbits might be:\n",
    "\n",
    "    Quietly, the rabbit bides its time\n",
    "    Under the garden deck\n",
    "    In wait for\n",
    "    Carrot greens,\n",
    "    Kale, and parsley.\n",
    "    \"\"\"\n",
    " \n",
    "    if poem_so_far:\n",
    "        user_prompt=f\"\"\"\n",
    "        Complete the following acrostic poem about {animal}:\n",
    "        \n",
    "        {poem_so_far}\n",
    "        \"\"\"\n",
    "    else:\n",
    "        user_prompt=f\"\"\"\n",
    "        Write an acrostic poem about {animal}.  Respond with only the poem. Do not include any preamble or introduction.\n",
    "        \"\"\"\n",
    "        \n",
    "    return [\n",
    "        {\"role\": \"system\", \"content\": system_prompt},\n",
    "        {\"role\": \"user\", \"content\": user_prompt}\n",
    "    ]"
   ]
  },
  {
   "cell_type": "code",
   "execution_count": null,
   "id": "91e470ee-e57b-4ec2-8edd-9f9317e55939",
   "metadata": {
    "tags": []
   },
   "outputs": [],
   "source": [
    "results = pipe(get_input_message(\"tiger\"), max_new_tokens=256)"
   ]
  },
  {
   "cell_type": "code",
   "execution_count": 11,
   "id": "a932a43b-a7b4-4696-8015-f823349bbc12",
   "metadata": {
    "tags": []
   },
   "outputs": [
    {
     "name": "stdout",
     "output_type": "stream",
     "text": [
      "[{'generated_text': [{'role': 'system', 'content': '\\n    You are a poet writing acrostic poems about animals for a childrens\\' book.\\n    The first letters of the acrostic poem need to spell out an adjective that is suitable for the animal.\\n    Each line needs to be a phrase that describes the animal.\\n    For example, the first letters of an acrostic poem about rabbits might spell out \"quick\" or \"cute\"\\n    and the entire poem needs to be a single phrase.\\n\\n    For example, an acrostic poem about rabbits might be:\\n\\n    Quietly, the rabbit bides its time\\n    Under the garden deck\\n    In wait for\\n    Carrot greens,\\n    Kale, and parsley.\\n    '}, {'role': 'user', 'content': '\\n        Write an acrostic poem about tiger.  Respond with only the poem. Do not include any preamble or introduction.\\n        '}, {'role': 'assistant', 'content': 'Terrific eyes scan the night\\nRuling forests with gentle might\\nIncredible strength in every stride\\nNimble paws, a silent guide\\nElegant beauty, a wondrous sight'}]}]\n"
     ]
    }
   ],
   "source": [
    "print(results)"
   ]
  },
  {
   "cell_type": "code",
   "execution_count": 12,
   "id": "8080ca3d-f6c5-4535-a944-efbaba1d9571",
   "metadata": {
    "tags": []
   },
   "outputs": [
    {
     "name": "stdout",
     "output_type": "stream",
     "text": [
      "Terrific eyes scan the night\n",
      "Ruling forests with gentle might\n",
      "Incredible strength in every stride\n",
      "Nimble paws, a silent guide\n",
      "Elegant beauty, a wondrous sight\n"
     ]
    }
   ],
   "source": [
    "print(results[0]['generated_text'][-1]['content'])"
   ]
  },
  {
   "cell_type": "markdown",
   "id": "48c4a262-62ae-4d47-bb22-fe6775412e3c",
   "metadata": {},
   "source": [
    "As you can see, the model has a problem generating TIGER as the starting letters."
   ]
  },
  {
   "cell_type": "markdown",
   "id": "edc0d05e-96ea-48b4-bcef-b1dbb5983723",
   "metadata": {},
   "source": [
    "## Using the logprobs to control the generation"
   ]
  },
  {
   "cell_type": "code",
   "execution_count": null,
   "id": "a52e87c3-a80f-43e9-8ece-d384c2dfc4cf",
   "metadata": {},
   "outputs": [],
   "source": [
    "results = pipe(get_input_message(\"tiger\"), max_new_tokens=256, output_scores=True)\n",
    "print(results[0]['generated_text'][-1]['content'])"
   ]
  }
 ],
 "metadata": {
  "environment": {
   "kernel": "conda-base-py",
   "name": "workbench-notebooks.m126",
   "type": "gcloud",
   "uri": "us-docker.pkg.dev/deeplearning-platform-release/gcr.io/workbench-notebooks:m126"
  },
  "kernelspec": {
   "display_name": "Python 3 (ipykernel) (Local)",
   "language": "python",
   "name": "conda-base-py"
  },
  "language_info": {
   "codemirror_mode": {
    "name": "ipython",
    "version": 3
   },
   "file_extension": ".py",
   "mimetype": "text/x-python",
   "name": "python",
   "nbconvert_exporter": "python",
   "pygments_lexer": "ipython3",
   "version": "3.10.15"
  }
 },
 "nbformat": 4,
 "nbformat_minor": 5
}
