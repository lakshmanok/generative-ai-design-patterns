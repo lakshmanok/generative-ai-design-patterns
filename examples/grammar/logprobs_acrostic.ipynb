{
 "cells": [
  {
   "cell_type": "markdown",
   "id": "f7fe5eda-a9fe-45de-8179-5ebc341d8de4",
   "metadata": {
    "tags": []
   },
   "source": [
    "## Using logprobs to ensure that an acrostic poem is generated"
   ]
  },
  {
   "cell_type": "code",
   "execution_count": 1,
   "id": "378cf8e6-23f7-4442-842f-98f027a18e34",
   "metadata": {
    "tags": []
   },
   "outputs": [],
   "source": [
    "#%pip install --upgrade --quiet transformers torch fbgemm-gpu accelerate"
   ]
  },
  {
   "cell_type": "code",
   "execution_count": 2,
   "id": "2726632e-9ac0-4ba9-b86b-11bd57012b62",
   "metadata": {
    "tags": []
   },
   "outputs": [],
   "source": [
    "# CHANGE this to the Llama model for which you have applied for access via Hugging Face\n",
    "# See: https://www.llama.com/docs/getting-the-models/hugging-face/\n",
    "MODEL_ID = \"meta-llama/Llama-3.2-3B-Instruct\""
   ]
  },
  {
   "cell_type": "code",
   "execution_count": 3,
   "id": "883fd51a-6bfd-4788-a405-9b2e89dbe656",
   "metadata": {
    "tags": []
   },
   "outputs": [],
   "source": [
    "import os\n",
    "from dotenv import load_dotenv\n",
    "load_dotenv(\"../keys.env\")\n",
    "assert os.environ[\"HF_TOKEN\"][:2] == \"hf\",\\\n",
    "       \"Please sign up for access to the specific Llama model via HuggingFace and provide access token in keys.env file\""
   ]
  },
  {
   "cell_type": "markdown",
   "id": "1ca557ff-ee75-46fa-9d0b-70f928008f05",
   "metadata": {},
   "source": [
    "## Zero-shot generation\n"
   ]
  },
  {
   "cell_type": "code",
   "execution_count": 4,
   "id": "f35d22d7-8985-4cde-aef2-e52d4b77cea2",
   "metadata": {
    "tags": []
   },
   "outputs": [
    {
     "data": {
      "application/vnd.jupyter.widget-view+json": {
       "model_id": "c7ffe32b04914a2b98b963d8c68381a2",
       "version_major": 2,
       "version_minor": 0
      },
      "text/plain": [
       "Loading checkpoint shards:   0%|          | 0/2 [00:00<?, ?it/s]"
      ]
     },
     "metadata": {},
     "output_type": "display_data"
    },
    {
     "name": "stderr",
     "output_type": "stream",
     "text": [
      "Device set to use cuda:0\n"
     ]
    }
   ],
   "source": [
    "from transformers import pipeline\n",
    "\n",
    "pipe = pipeline(\n",
    "    task=\"text-generation\", \n",
    "    model=MODEL_ID,\n",
    "    use_fast=True,\n",
    "    kwargs={\n",
    "        \"return_full_text\": False,\n",
    "    },\n",
    "    model_kwargs={}\n",
    ")"
   ]
  },
  {
   "cell_type": "code",
   "execution_count": 5,
   "id": "30d81f88-3548-40cb-9c67-95c0249dd505",
   "metadata": {
    "tags": []
   },
   "outputs": [],
   "source": [
    "def get_input_prompts(animal: str, poem_so_far=None, start_word=None):\n",
    "    system_prompt=\"\"\"\n",
    "    You are a poet writing acrostic poems about animals for a childrens' book.\n",
    "    The first letters of the acrostic poem need to spell out an adjective that is suitable for the animal.\n",
    "    For example, the first letters of an acrostic poem about rabbits might spell out \"quick\" or \"cute\"\n",
    "    and the entire poem needs to be a single phrase that describes the animal or something the animal\n",
    "    might do.\n",
    "\n",
    "    Thus, an acrostic poem about rabbits might be:\n",
    "\n",
    "    Quietly, the rabbit bides its time\n",
    "    Under the garden deck\n",
    "    In wait for\n",
    "    Carrot greens,\n",
    "    Kale, and parsley.\n",
    "    \n",
    "    Respond with only the poem. Do not include any preamble or introduction.\n",
    "    \"\"\"\n",
    " \n",
    "    if poem_so_far:\n",
    "        user_prompt=f\"\"\"\n",
    "        Complete the following acrostic poem about {animal}.\n",
    "        The starting letters of the poem's lines need to spell out the word {start_word}.\n",
    "        \n",
    "        Poem:\n",
    "        {poem_so_far}\"\"\"\n",
    "    else:\n",
    "        user_prompt=f\"\"\"\n",
    "        Write an acrostic poem about {animal}.\n",
    "        \n",
    "        Poem:\n",
    "        \"\"\"\n",
    "    \n",
    "    return system_prompt, user_prompt\n",
    "    \n",
    "\n",
    "def get_input_message(animal: str, poem_so_far=None):\n",
    "    system_prompt, user_prompt = get_input_prompts(animal, poem_so_far)\n",
    "    return [\n",
    "        {\"role\": \"system\", \"content\": system_prompt},\n",
    "        {\"role\": \"user\", \"content\": user_prompt}\n",
    "    ]"
   ]
  },
  {
   "cell_type": "code",
   "execution_count": 6,
   "id": "91e470ee-e57b-4ec2-8edd-9f9317e55939",
   "metadata": {
    "tags": []
   },
   "outputs": [
    {
     "name": "stderr",
     "output_type": "stream",
     "text": [
      "Setting `pad_token_id` to `eos_token_id`:128001 for open-end generation.\n"
     ]
    }
   ],
   "source": [
    "results = pipe(get_input_message(\"tiger\"), max_new_tokens=256)"
   ]
  },
  {
   "cell_type": "code",
   "execution_count": 7,
   "id": "a932a43b-a7b4-4696-8015-f823349bbc12",
   "metadata": {
    "tags": []
   },
   "outputs": [
    {
     "name": "stdout",
     "output_type": "stream",
     "text": [
      "[{'generated_text': [{'role': 'system', 'content': '\\n    You are a poet writing acrostic poems about animals for a childrens\\' book.\\n    The first letters of the acrostic poem need to spell out an adjective that is suitable for the animal.\\n    For example, the first letters of an acrostic poem about rabbits might spell out \"quick\" or \"cute\"\\n    and the entire poem needs to be a single phrase that describes the animal or something the animal\\n    might do.\\n\\n    Thus, an acrostic poem about rabbits might be:\\n\\n    Quietly, the rabbit bides its time\\n    Under the garden deck\\n    In wait for\\n    Carrot greens,\\n    Kale, and parsley.\\n    \\n    Respond with only the poem. Do not include any preamble or introduction.\\n    '}, {'role': 'user', 'content': '\\n        Write an acrostic poem about tiger.\\n        \\n        Poem:\\n        '}, {'role': 'assistant', 'content': 'Powerful, majestic creature roams\\nObliterating shadows with every pace\\nTrembling prey with fearful eyes\\nRuling forests with a fierce might\\nElegant beauty in a fierce guise'}]}]\n"
     ]
    }
   ],
   "source": [
    "print(results)"
   ]
  },
  {
   "cell_type": "code",
   "execution_count": 8,
   "id": "8080ca3d-f6c5-4535-a944-efbaba1d9571",
   "metadata": {
    "tags": []
   },
   "outputs": [
    {
     "name": "stdout",
     "output_type": "stream",
     "text": [
      "Powerful, majestic creature roams\n",
      "Obliterating shadows with every pace\n",
      "Trembling prey with fearful eyes\n",
      "Ruling forests with a fierce might\n",
      "Elegant beauty in a fierce guise\n"
     ]
    }
   ],
   "source": [
    "print(results[0]['generated_text'][-1]['content'])"
   ]
  },
  {
   "cell_type": "markdown",
   "id": "48c4a262-62ae-4d47-bb22-fe6775412e3c",
   "metadata": {},
   "source": [
    "Our result:\n",
    "```\n",
    "Powerful eyes gleam in the night\n",
    "Occupying shadows, a fierce sight\n",
    "Ruling the forest with gentle might\n",
    "Elegant, a creature of beauty bright\n",
    "```\n",
    "As you can see, the model probably tried to generate POWER as the starting letters, but failed.\n",
    "There are several ways to fix this. Reflection might work, for example.\n",
    "But in this notebook, we'll illustrate how to use logprobs to select the next best sequence that meets our style constraints."
   ]
  },
  {
   "cell_type": "markdown",
   "id": "edc0d05e-96ea-48b4-bcef-b1dbb5983723",
   "metadata": {},
   "source": [
    "## Getting logprobs of sequences, generating candidate starting words"
   ]
  },
  {
   "cell_type": "code",
   "execution_count": 9,
   "id": "50e7daa7-7e08-45b1-ad4b-28bec37bad9c",
   "metadata": {
    "tags": []
   },
   "outputs": [],
   "source": [
    "inputs = pipe.tokenizer('\\n'.join(get_input_prompts(\"tiger\")), return_tensors=\"pt\").to(\"cuda\")"
   ]
  },
  {
   "cell_type": "code",
   "execution_count": 10,
   "id": "fa7ff0cc-96bf-4c7d-98b9-76a044229381",
   "metadata": {
    "tags": []
   },
   "outputs": [
    {
     "name": "stdout",
     "output_type": "stream",
     "text": [
      "{'input_ids': tensor([[128000,    198,    262,   1472,    527,    264,  40360,   4477,   1645,\n",
      "          42602,    292,  45319,    922,  10099,    369,    264,   2911,     82,\n",
      "              6,   2363,    627,    262,    578,   1176,  12197,    315,    279,\n",
      "           1645,  42602,    292,  33894,   1205,    311,  13141,    704,    459,\n",
      "          85592,    430,    374,  14791,    369,    279,  10065,    627,    262,\n",
      "           1789,   3187,     11,    279,   1176,  12197,    315,    459,   1645,\n",
      "          42602,    292,  33894,    922,  70244,   2643,  13141,    704,    330,\n",
      "          28863,      1,    477,    330,     66,   1088,    702,    262,    323,\n",
      "            279,   4553,  33894,   3966,    311,    387,    264,   3254,  17571,\n",
      "            430,  16964,    279,  10065,    477,   2555,    279,  10065,    198,\n",
      "            262,   2643,    656,    382,    262,  14636,     11,    459,   1645,\n",
      "          42602,    292,  33894,    922,  70244,   2643,    387,   1473,    262,\n",
      "          68587,    398,     11,    279,  39824,    293,   3422,   1202,    892,\n",
      "            198,    262,   9636,    279,  13863,   9722,    198,    262,    763,\n",
      "           3868,    369,    198,    262,   3341,   4744,  52011,    345,    262,\n",
      "          97842,     11,    323,  88621,    627,   1084,    262,  40633,    449,\n",
      "           1193,    279,  33894,     13,   3234,    539,   2997,    904,  90554,\n",
      "            477,  17219,    627,  15152,    286,   9842,    459,   1645,  42602,\n",
      "            292,  33894,    922,  52835,    627,   1827,    286,  14128,    336,\n",
      "            512,    260]], device='cuda:0'), 'attention_mask': tensor([[1, 1, 1, 1, 1, 1, 1, 1, 1, 1, 1, 1, 1, 1, 1, 1, 1, 1, 1, 1, 1, 1, 1, 1,\n",
      "         1, 1, 1, 1, 1, 1, 1, 1, 1, 1, 1, 1, 1, 1, 1, 1, 1, 1, 1, 1, 1, 1, 1, 1,\n",
      "         1, 1, 1, 1, 1, 1, 1, 1, 1, 1, 1, 1, 1, 1, 1, 1, 1, 1, 1, 1, 1, 1, 1, 1,\n",
      "         1, 1, 1, 1, 1, 1, 1, 1, 1, 1, 1, 1, 1, 1, 1, 1, 1, 1, 1, 1, 1, 1, 1, 1,\n",
      "         1, 1, 1, 1, 1, 1, 1, 1, 1, 1, 1, 1, 1, 1, 1, 1, 1, 1, 1, 1, 1, 1, 1, 1,\n",
      "         1, 1, 1, 1, 1, 1, 1, 1, 1, 1, 1, 1, 1, 1, 1, 1, 1, 1, 1, 1, 1, 1, 1, 1,\n",
      "         1, 1, 1, 1, 1, 1, 1, 1, 1, 1, 1, 1, 1, 1, 1, 1, 1, 1, 1, 1, 1, 1, 1, 1,\n",
      "         1, 1, 1, 1, 1]], device='cuda:0')}\n"
     ]
    }
   ],
   "source": [
    "print(inputs)"
   ]
  },
  {
   "cell_type": "code",
   "execution_count": 11,
   "id": "a52e87c3-a80f-43e9-8ece-d384c2dfc4cf",
   "metadata": {
    "tags": []
   },
   "outputs": [
    {
     "name": "stderr",
     "output_type": "stream",
     "text": [
      "Setting `pad_token_id` to `eos_token_id`:128001 for open-end generation.\n",
      "From v4.47 onwards, when a model cache is to be returned, `generate` will return a `Cache` instance instead by default (as opposed to the legacy tuple of tuples format). If you want to keep returning the legacy format, please set `return_legacy_cache=True`.\n"
     ]
    }
   ],
   "source": [
    "# See: https://discuss.huggingface.co/t/announcement-generation-get-probabilities-for-generated-output/30075\n",
    "results = pipe.model.generate(\n",
    "    **inputs,\n",
    "    max_new_tokens=16,\n",
    "    num_beams=4,\n",
    "    num_return_sequences=4,\n",
    "    output_scores=True,\n",
    "    renormalize_logits=True,\n",
    "    return_dict_in_generate=True\n",
    ")"
   ]
  },
  {
   "cell_type": "code",
   "execution_count": 12,
   "id": "22187663-7c60-45ce-bc9b-1b21a2115df1",
   "metadata": {
    "tags": []
   },
   "outputs": [
    {
     "name": "stdout",
     "output_type": "stream",
     "text": [
      "tensor([128000,    198,    262,   1472,    527,    264,  40360,   4477,   1645,\n",
      "         42602,    292,  45319,    922,  10099,    369,    264,   2911,     82,\n",
      "             6,   2363,    627,    262,    578,   1176,  12197,    315,    279,\n",
      "          1645,  42602,    292,  33894,   1205,    311,  13141,    704,    459,\n",
      "         85592,    430,    374,  14791,    369,    279,  10065,    627,    262,\n",
      "          1789,   3187,     11,    279,   1176,  12197,    315,    459,   1645,\n",
      "         42602,    292,  33894,    922,  70244,   2643,  13141,    704,    330,\n",
      "         28863,      1,    477,    330,     66,   1088,    702,    262,    323,\n",
      "           279,   4553,  33894,   3966,    311,    387,    264,   3254,  17571,\n",
      "           430,  16964,    279,  10065,    477,   2555,    279,  10065,    198,\n",
      "           262,   2643,    656,    382,    262,  14636,     11,    459,   1645,\n",
      "         42602,    292,  33894,    922,  70244,   2643,    387,   1473,    262,\n",
      "         68587,    398,     11,    279,  39824,    293,   3422,   1202,    892,\n",
      "           198,    262,   9636,    279,  13863,   9722,    198,    262,    763,\n",
      "          3868,    369,    198,    262,   3341,   4744,  52011,    345,    262,\n",
      "         97842,     11,    323,  88621,    627,   1084,    262,  40633,    449,\n",
      "          1193,    279,  33894,     13,   3234,    539,   2997,    904,  90554,\n",
      "           477,  17219,    627,  15152,    286,   9842,    459,   1645,  42602,\n",
      "           292,  33894,    922,  52835,    627,   1827,    286,  14128,    336,\n",
      "           512,    260,  18165,  19995,     11,    279,  52835,  55972,     82,\n",
      "          1202,  37693,    198,    260,    469,   1435,    398,     11,    433],\n",
      "       device='cuda:0')\n"
     ]
    }
   ],
   "source": [
    "print(results.sequences[0])"
   ]
  },
  {
   "cell_type": "code",
   "execution_count": 13,
   "id": "4b5cc348-e916-4f4b-8be0-7c32b12a227d",
   "metadata": {
    "tags": []
   },
   "outputs": [
    {
     "name": "stdout",
     "output_type": "stream",
     "text": [
      "tensor([-0.2343, -0.2487, -0.2972, -0.3116], device='cuda:0')\n"
     ]
    }
   ],
   "source": [
    "print(results.sequences_scores)"
   ]
  },
  {
   "cell_type": "code",
   "execution_count": 14,
   "id": "07287cc2-afd3-4083-b58c-ab0e2c5d6569",
   "metadata": {
    "tags": []
   },
   "outputs": [
    {
     "data": {
      "text/plain": [
       "'<|begin_of_text|>\\n    You are a poet writing acrostic poems about animals for a childrens\\' book.\\n    The first letters of the acrostic poem need to spell out an adjective that is suitable for the animal.\\n    For example, the first letters of an acrostic poem about rabbits might spell out \"quick\" or \"cute\"\\n    and the entire poem needs to be a single phrase that describes the animal or something the animal\\n    might do.\\n\\n    Thus, an acrostic poem about rabbits might be:\\n\\n    Quietly, the rabbit bides its time\\n    Under the garden deck\\n    In wait for\\n    Carrot greens,\\n    Kale, and parsley.\\n    \\n    Respond with only the poem. Do not include any preamble or introduction.\\n    \\n\\n        Write an acrostic poem about tiger.\\n        \\n        Poem:\\n         Tenacious, the tiger stalks its prey\\n         Eagerly, it'"
      ]
     },
     "execution_count": 14,
     "metadata": {},
     "output_type": "execute_result"
    }
   ],
   "source": [
    "pipe.tokenizer.decode(results.sequences[0])"
   ]
  },
  {
   "cell_type": "code",
   "execution_count": 15,
   "id": "32f0a332-69b2-4f55-a922-e1f04ddb84fa",
   "metadata": {
    "tags": []
   },
   "outputs": [
    {
     "name": "stdout",
     "output_type": "stream",
     "text": [
      "['Tenacious, the tiger stalks its prey', 'Eagerly, it']\n"
     ]
    }
   ],
   "source": [
    "def get_poem_so_far(sequence: str):\n",
    "    last_phrase = \"Poem:\"\n",
    "    lines = sequence[sequence.find(last_phrase)+len(last_phrase):].split('\\n')\n",
    "    lines = [line.strip() for line in lines]\n",
    "    lines = [line for line in lines if len(line) > 2] # at least 3 letters\n",
    "    return lines\n",
    "\n",
    "candidate_poem = get_poem_so_far(pipe.tokenizer.decode(results.sequences[0]))\n",
    "print(candidate_poem)"
   ]
  },
  {
   "cell_type": "code",
   "execution_count": 16,
   "id": "e1d893b8-8772-4a44-bf45-cb7600d8af2d",
   "metadata": {
    "tags": []
   },
   "outputs": [
    {
     "data": {
      "text/plain": [
       "'te'"
      ]
     },
     "execution_count": 16,
     "metadata": {},
     "output_type": "execute_result"
    }
   ],
   "source": [
    "''.join([line[0] for line in candidate_poem]).lower()"
   ]
  },
  {
   "cell_type": "code",
   "execution_count": 17,
   "id": "2e3bde9f-6739-46dc-bf2f-02720bba5f6f",
   "metadata": {
    "tags": []
   },
   "outputs": [
    {
     "name": "stderr",
     "output_type": "stream",
     "text": [
      "Setting `pad_token_id` to `eos_token_id`:128001 for open-end generation.\n"
     ]
    },
    {
     "name": "stdout",
     "output_type": "stream",
     "text": [
      "['bold', 'regal', 'fierce', 'savage', 'majestic']\n"
     ]
    }
   ],
   "source": [
    "import re\n",
    "\n",
    "def get_potential_starts(animal: str, num_words: int):\n",
    "    system_prompt=f\"\"\"\n",
    "    You are an expert on words who has access to a thesaurus.\n",
    "    Respond with a list of adjectives that could complete the phrase \"As ___ as a {animal}\"\n",
    "    For example, for a rabbit, you could respond with:   quick, fast, gentle, playful       \n",
    "    Respond with just a list of words without any introduction or preamble.\n",
    "    \"\"\"\n",
    "    user_prompt=f\"Give me the best {num_words*3} adjectives that would complete the phrase 'As ___ as a {animal}'\"\n",
    "    input_message = [\n",
    "        {\"role\": \"system\", \"content\": system_prompt},\n",
    "        {\"role\": \"user\", \"content\": user_prompt}\n",
    "    ]\n",
    "\n",
    "    result = pipe(input_message, max_new_tokens=256)\n",
    "    words = result[0]['generated_text'][-1]['content']\n",
    "    # remove numbering, commas, etc.\n",
    "    words = re.compile('[^a-z]').sub(' ', words.lower()).split()\n",
    "    # at least 4 letters\n",
    "    words = [w for w in words if len(w) > 3]\n",
    "    # get unique words\n",
    "    words = list(set(words))\n",
    "    # sort them by length\n",
    "    words = sorted(words, key=lambda x: len(x))\n",
    "    return words[:num_words]\n",
    "\n",
    "start_words = get_potential_starts(\"tiger\", 5)\n",
    "print(start_words)"
   ]
  },
  {
   "cell_type": "code",
   "execution_count": 18,
   "id": "023ee7bb-f00f-4715-bdd5-d6c53584e6a7",
   "metadata": {
    "tags": []
   },
   "outputs": [
    {
     "name": "stderr",
     "output_type": "stream",
     "text": [
      "Setting `pad_token_id` to `eos_token_id`:128001 for open-end generation.\n"
     ]
    },
    {
     "data": {
      "text/plain": [
       "'Nimbly navigating through'"
      ]
     },
     "execution_count": 18,
     "metadata": {},
     "output_type": "execute_result"
    }
   ],
   "source": [
    "def get_phrase_that_starts_with(animal: str, letter: str):\n",
    "    system_prompt=f\"\"\"\n",
    "    You are writing a children's book. Write a phrase about a {animal} that starts with the letter {letter}\n",
    "    Respond with just the phrase without an introduction or preamble.\n",
    "    \"\"\"\n",
    "    user_prompt=f\"Write a phrase about a {animal} that starts with the letter {letter}\"\n",
    "    input_message = [\n",
    "        {\"role\": \"system\", \"content\": system_prompt},\n",
    "        {\"role\": \"user\", \"content\": user_prompt}\n",
    "    ]\n",
    "\n",
    "    result = pipe(input_message, max_new_tokens=256)\n",
    "    phrase = result[0]['generated_text'][-1]['content']\n",
    "    return ' '.join(phrase.split()[:3]) # max 3 words\n",
    "\n",
    "get_phrase_that_starts_with(\"tiger\", \"N\")"
   ]
  },
  {
   "cell_type": "code",
   "execution_count": 19,
   "id": "87c959a2-9c77-4a8f-a6bf-f35c2dd8d797",
   "metadata": {
    "tags": []
   },
   "outputs": [
    {
     "name": "stderr",
     "output_type": "stream",
     "text": [
      "Setting `pad_token_id` to `eos_token_id`:128001 for open-end generation.\n"
     ]
    },
    {
     "data": {
      "text/plain": [
       "('regal', ['Ruling over the'])"
      ]
     },
     "execution_count": 19,
     "metadata": {},
     "output_type": "execute_result"
    }
   ],
   "source": [
    "import numpy as np\n",
    "import random\n",
    "\n",
    "def initialize_poem(animal: str, allowed_start_words: [str]):\n",
    "    # the weight of a word is inversely proportional to its length\n",
    "    lengths = [1.0*len(w) for w in allowed_start_words]\n",
    "    max_len = np.max(lengths)\n",
    "    weights = (max_len - lengths)\n",
    "    weights = weights / np.sum(weights)\n",
    "    \n",
    "    start_word = random.choices(population=allowed_start_words, weights=weights, k=1)[0].lower()\n",
    "    start_letter = start_word[0].upper()\n",
    "    return start_word, [get_phrase_that_starts_with(animal, start_letter)]\n",
    "\n",
    "initialize_poem(\"tiger\", start_words)"
   ]
  },
  {
   "cell_type": "markdown",
   "id": "bf1e3b5f-6b79-4dce-afe0-738bb9b02223",
   "metadata": {},
   "source": [
    "## Putting it together"
   ]
  },
  {
   "cell_type": "code",
   "execution_count": 20,
   "id": "797426ac-b2f5-4135-9445-e7eea83942c4",
   "metadata": {
    "tags": []
   },
   "outputs": [
    {
     "name": "stderr",
     "output_type": "stream",
     "text": [
      "Setting `pad_token_id` to `eos_token_id`:128001 for open-end generation.\n",
      "Setting `pad_token_id` to `eos_token_id`:128001 for open-end generation.\n"
     ]
    },
    {
     "name": "stdout",
     "output_type": "stream",
     "text": [
      "Allowed start words: ['bold', 'regal', 'swift', 'agile', 'deadly', 'strong', 'fierce', 'unruly', 'intense', 'forceful']\n"
     ]
    },
    {
     "name": "stderr",
     "output_type": "stream",
     "text": [
      "Setting `pad_token_id` to `eos_token_id`:128001 for open-end generation.\n"
     ]
    },
    {
     "name": "stdout",
     "output_type": "stream",
     "text": [
      "Generating poem for strong starting with Slowly stalking through\n"
     ]
    },
    {
     "name": "stderr",
     "output_type": "stream",
     "text": [
      "Setting `pad_token_id` to `eos_token_id`:128001 for open-end generation.\n"
     ]
    },
    {
     "name": "stdout",
     "output_type": "stream",
     "text": [
      "Iter: 0 Word: strong Seqno: 0 Prob: -0.3073999881744385  Poem: Slowly stalking through the night;Gentle giants roam the land;Often unseen\n",
      "Iter: 0 Word: strong Seqno: 1 Prob: -0.34218600392341614  Poem: Slowly stalking through the night;Gently, the tiger's eyes gleam\n",
      "Iter: 0 Word: strong Seqno: 2 Prob: -0.35197779536247253  Poem: Slowly stalking through the night;Gentle giants roam the land;Owning every space\n",
      "Iter: 0 Word: strong Seqno: 3 Prob: -0.36505818367004395  Poem: Slowly stalking through the night;Gentle giants roam the land;Often hidden from our sight\n",
      "Iter: 0 Word: strong Seqno: 4 Prob: -0.3715968132019043  Poem: Slowly stalking through the night;Gentle giants roam the land;Often unseen by sight\n",
      "Iter: 0 Word: strong Seqno: 5 Prob: -0.3764411211013794  Poem: Slowly stalking through the night;Gentle giants roam the land;Often unseen, yet always\n",
      "Iter: 0 Word: strong Seqno: 6 Prob: -0.3769288957118988  Poem: Slowly stalking through the night;Gentle giants roam the land;Often hidden from sight\n",
      "Iter: 0 Word: strong Seqno: 7 Prob: -0.38555216789245605  Poem: Slowly stalking through the night;Gently, the tiger's eyes gleam\n",
      "Iter: 0 Word: strong Seqno: 8 Prob: -0.3879495859146118  Poem: Slowly stalking through the night;Gentle giants roam the land;Often unseen, yet fierce\n",
      "Iter: 0 Word: strong Seqno: 9 Prob: -0.3917925953865051  Poem: Slowly stalking through the night;Gently, the tiger's eyes shine bright\n",
      "REMOVING from Slowly stalking through the night;Gentle giants roam the land;Often unseen\n",
      "Generating poem for strong starting with Slowly stalking through the night\n"
     ]
    },
    {
     "name": "stderr",
     "output_type": "stream",
     "text": [
      "Setting `pad_token_id` to `eos_token_id`:128001 for open-end generation.\n"
     ]
    },
    {
     "name": "stdout",
     "output_type": "stream",
     "text": [
      "Iter: 1 Word: strong Seqno: 0 Prob: -0.3247026801109314  Poem: Slowly stalking through the night;Gentle giants roam the land;Often unseen;Roaming freely\n",
      "Iter: 1 Word: strong Seqno: 1 Prob: -0.3426544666290283  Poem: Slowly stalking through the night;Gentle giants roam the land;Often hidden from our sight\n",
      "Iter: 1 Word: strong Seqno: 2 Prob: -0.3504026234149933  Poem: Slowly stalking through the night;Gentle giants roam the land;Often unseen;Roaming free\n",
      "Iter: 1 Word: strong Seqno: 3 Prob: -0.3540950417518616  Poem: Slowly stalking through the night;Gentle giants roam the land;Often unseen, yet always near\n",
      "Iter: 1 Word: strong Seqno: 4 Prob: -0.36595097184181213  Poem: Slowly stalking through the night;Gently, the tiger's eyes gleam;Ominous\n",
      "Iter: 1 Word: strong Seqno: 5 Prob: -0.3660818040370941  Poem: Slowly stalking through the night;Gently, the tiger's eyes gleam;Ruling over\n",
      "Iter: 1 Word: strong Seqno: 6 Prob: -0.3722846210002899  Poem: Slowly stalking through the night;Gently, the tiger's eyes shine bright;Ominous\n",
      "Iter: 1 Word: strong Seqno: 7 Prob: -0.3807453513145447  Poem: Slowly stalking through the night;Gentle giants roam the land;Often unseen by sight\n",
      "Iter: 1 Word: strong Seqno: 8 Prob: -0.39046579599380493  Poem: Slowly stalking through the night;Gentle giants roam the land;Owning every space\n",
      "Iter: 1 Word: strong Seqno: 9 Prob: -0.3928373157978058  Poem: Slowly stalking through the night;Gentle giants roam the land;Often hidden from sight\n",
      "REMOVING from Slowly stalking through the night;Gentle giants roam the land;Often unseen;Roaming freely\n"
     ]
    },
    {
     "name": "stderr",
     "output_type": "stream",
     "text": [
      "Setting `pad_token_id` to `eos_token_id`:128001 for open-end generation.\n"
     ]
    },
    {
     "name": "stdout",
     "output_type": "stream",
     "text": [
      "Generating poem for regal starting with Rumbling through the\n"
     ]
    },
    {
     "name": "stderr",
     "output_type": "stream",
     "text": [
      "Setting `pad_token_id` to `eos_token_id`:128001 for open-end generation.\n"
     ]
    },
    {
     "name": "stdout",
     "output_type": "stream",
     "text": [
      "Iter: 2 Word: regal Seqno: 0 Prob: -0.21417053043842316  Poem: Rumbling through the forest deep;Elegant, the tiger's stride;Gently, it\n",
      "Iter: 2 Word: regal Seqno: 1 Prob: -0.26150161027908325  Poem: Rumbling through the forest deep;Elegant, the tiger stalks its prey;Gently\n",
      "Iter: 2 Word: regal Seqno: 2 Prob: -0.27860334515571594  Poem: Rumbling through the forest deep;Elegant, the tiger's stride;Gently, the\n",
      "Iter: 2 Word: regal Seqno: 3 Prob: -0.285296231508255  Poem: Rumbling through the forest deep;Elegant, the tiger's eyes do keep;Gently\n",
      "Iter: 2 Word: regal Seqno: 4 Prob: -0.3010484278202057  Poem: Rumbling through the forest deep;Elegant movements, swift and free;Gently, the\n",
      "Iter: 2 Word: regal Seqno: 5 Prob: -0.3057841360569  Poem: Rumbling through the forest deep;Elegant, the tiger creeps;Gently, it\n",
      "Iter: 2 Word: regal Seqno: 6 Prob: -0.3207228481769562  Poem: Rumbling through the jungle deep;Elegant, the tiger's stride;Gently, it\n",
      "Iter: 2 Word: regal Seqno: 7 Prob: -0.3522666096687317  Poem: Rumbling through the forest deep;Elegant creatures of the night;Gently stalking prey\n",
      "Iter: 2 Word: regal Seqno: 8 Prob: -0.37274646759033203  Poem: Rumbling through the forest deep;Elegant, the tiger stalks its prey;Gentle,\n",
      "Iter: 2 Word: regal Seqno: 9 Prob: -0.37390244007110596  Poem: Rumbling through the forest deep;Elegant creatures roam and play;Gently, they stalk\n",
      "Generating poem for regal starting with Rumbling through the forest deep;Elegant, the tiger's stride;Gently, it\n"
     ]
    },
    {
     "name": "stderr",
     "output_type": "stream",
     "text": [
      "Setting `pad_token_id` to `eos_token_id`:128001 for open-end generation.\n"
     ]
    },
    {
     "name": "stdout",
     "output_type": "stream",
     "text": [
      "Iter: 3 Word: regal Seqno: 0 Prob: -0.18389831483364105  Poem: Rumbling through the forest deep;Elegant, the tiger's stride;Gently, it stalks its prey;Lurking in the shadows dark;Astonishing\n",
      "Iter: 3 Word: regal Seqno: 1 Prob: -0.20799362659454346  Poem: Rumbling through the forest deep;Elegant, the tiger's stride;Gently, it stalks its prey;Lurking, in the shadows dark;Aston\n",
      "Iter: 3 Word: regal Seqno: 2 Prob: -0.21473202109336853  Poem: Rumbling through the forest deep;Elegant, the tiger's stride;Gently, it stalks its prey;Lurking, with eyes so bright;Aston\n",
      "Iter: 3 Word: regal Seqno: 3 Prob: -0.2235262393951416  Poem: Rumbling through the forest deep;Elegant, the tiger's stride;Gently, it stalks its prey;Lurking in the shadows bright;Astonishing\n",
      "Iter: 3 Word: regal Seqno: 4 Prob: -0.23596316576004028  Poem: Rumbling through the forest deep;Elegant, the tiger's stride;Gently, it stalks its prey;Lurking, waiting to pounce;Aston\n",
      "Iter: 3 Word: regal Seqno: 5 Prob: -0.24707567691802979  Poem: Rumbling through the forest deep;Elegant, the tiger's stride;Gently, it stalks its prey;Lurking, waiting for the right moment\n",
      "Iter: 3 Word: regal Seqno: 6 Prob: -0.24830195307731628  Poem: Rumbling through the forest deep;Elegant, the tiger's stride;Gently, it stalks its prey;Lurking, in the shadows bright;Aston\n",
      "Iter: 3 Word: regal Seqno: 7 Prob: -0.2639622092247009  Poem: Rumbling through the forest deep;Elegant, the tiger's stride;Gently, it stalks its prey;Lurking, hidden from the day;Aston\n",
      "Iter: 3 Word: regal Seqno: 8 Prob: -0.27121537923812866  Poem: Rumbling through the forest deep;Elegant, the tiger's stride;Gently, it stalks its prey;Lurking in the shadows, waiting;Aston\n",
      "Iter: 3 Word: regal Seqno: 9 Prob: -0.27618807554244995  Poem: Rumbling through the forest deep;Elegant, the tiger's stride;Gently, it stalks its prey;Lurking, in the shadows dark\n",
      "REMOVING from Rumbling through the forest deep;Elegant, the tiger's stride;Gently, it stalks its prey;Lurking in the shadows dark;Astonishing\n",
      "Generating poem for regal starting with Rumbling through the forest deep;Elegant, the tiger's stride;Gently, it stalks its prey\n"
     ]
    },
    {
     "name": "stderr",
     "output_type": "stream",
     "text": [
      "Setting `pad_token_id` to `eos_token_id`:128001 for open-end generation.\n"
     ]
    },
    {
     "name": "stdout",
     "output_type": "stream",
     "text": [
      "Iter: 4 Word: regal Seqno: 0 Prob: -0.2787105143070221  Poem: Rumbling through the forest deep;Elegant, the tiger's stride;Gently, it stalks its prey;Lurking, in the shadows dark;Astonishing, in its\n",
      "Iter: 4 Word: regal Seqno: 1 Prob: -0.29694855213165283  Poem: Rumbling through the forest deep;Elegant, the tiger's stride;Gently, it stalks its prey;Lurking, in the shadows dark;Astonishing, its beauty\n",
      "Iter: 4 Word: regal Seqno: 2 Prob: -0.299418181180954  Poem: Rumbling through the forest deep;Elegant, the tiger's stride;Gently, it stalks its prey;Lurking in the shadows dark;Astonishing, its beauty shines\n",
      "Iter: 4 Word: regal Seqno: 3 Prob: -0.30276036262512207  Poem: Rumbling through the forest deep;Elegant, the tiger's stride;Gently, it stalks its prey;Lurking, with eyes so bright;Astonishing, in its\n",
      "Iter: 4 Word: regal Seqno: 4 Prob: -0.3123876750469208  Poem: Rumbling through the forest deep;Elegant, the tiger's stride;Gently, it stalks its prey;Lurking, in the shadows bright;Astonishing, in its\n",
      "Iter: 4 Word: regal Seqno: 5 Prob: -0.32608354091644287  Poem: Rumbling through the forest deep;Elegant, the tiger's stride;Gently, it stalks its prey;Lurking, waiting to pounce;Astonishing, its beauty\n",
      "Iter: 4 Word: regal Seqno: 6 Prob: -0.34538403153419495  Poem: Rumbling through the forest deep;Elegant, the tiger's stride;Gently, it stalks its prey;Lurking, with eyes so bright;Astonishing, in power\n",
      "Iter: 4 Word: regal Seqno: 7 Prob: -0.34730562567710876  Poem: Rumbling through the forest deep;Elegant, the tiger's stride;Gently, it stalks its prey;Lurking in the shadows, waiting;Astonishing, its beauty\n",
      "Iter: 4 Word: regal Seqno: 8 Prob: -0.3498479127883911  Poem: Rumbling through the forest deep;Elegant, the tiger's stride;Gently, it stalks its prey;Lurking, hidden from the day;Astonishing, its beauty\n",
      "Iter: 4 Word: regal Seqno: 9 Prob: -0.35273224115371704  Poem: Rumbling through the forest deep;Elegant, the tiger's stride;Gently, it stalks its prey;Lurking, with eyes so bright;Astonishing, its power\n",
      "REMOVING from Rumbling through the forest deep;Elegant, the tiger's stride;Gently, it stalks its prey;Lurking, in the shadows dark;Astonishing, in its\n"
     ]
    },
    {
     "name": "stderr",
     "output_type": "stream",
     "text": [
      "Setting `pad_token_id` to `eos_token_id`:128001 for open-end generation.\n"
     ]
    },
    {
     "name": "stdout",
     "output_type": "stream",
     "text": [
      "Generating poem for agile starting with Amidst the tall\n"
     ]
    },
    {
     "name": "stderr",
     "output_type": "stream",
     "text": [
      "Setting `pad_token_id` to `eos_token_id`:128001 for open-end generation.\n"
     ]
    },
    {
     "name": "stdout",
     "output_type": "stream",
     "text": [
      "Iter: 5 Word: agile Seqno: 0 Prob: -0.3058038651943207  Poem: Amidst the tall trees;Gentle giants roam;Incredible eyes;Eager to p\n",
      "Iter: 5 Word: agile Seqno: 1 Prob: -0.32217273116111755  Poem: Amidst the tall trees;Gentle giants roam;Incredible eyes;Lurking in\n",
      "Iter: 5 Word: agile Seqno: 2 Prob: -0.33311405777931213  Poem: Amidst the tall trees;Gently, the tiger stalks;Incredible eyes\n",
      "Iter: 5 Word: agile Seqno: 3 Prob: -0.36097151041030884  Poem: Amidst the tall trees;Gently, the tiger stalks;Icy winds blow\n",
      "Iter: 5 Word: agile Seqno: 4 Prob: -0.3649688959121704  Poem: Amidst the tall trees;Gently, the tiger stalks;Icy eyes scan\n",
      "Iter: 5 Word: agile Seqno: 5 Prob: -0.3664134740829468  Poem: Amidst the tall trees;Gliding effortlessly;Incredible eyes;Eager to p\n",
      "Iter: 5 Word: agile Seqno: 6 Prob: -0.36892569065093994  Poem: Amidst the tall trees;Gently, the tiger stalks;Icy eyes watch\n",
      "Iter: 5 Word: agile Seqno: 7 Prob: -0.3717486560344696  Poem: Amidst the tall trees;Gently, the tiger stalks;Lurking in\n",
      "Iter: 5 Word: agile Seqno: 8 Prob: -0.38410449028015137  Poem: Amidst the tall trees;Gentle giants roam;Incredible eyes;Eager to hunt\n",
      "Iter: 5 Word: agile Seqno: 9 Prob: -0.3858882784843445  Poem: Amidst the tall trees;Gentle giants roam;In the forest deep;Ener\n",
      "Generating poem for agile starting with Amidst the tall trees;Gentle giants roam;Incredible eyes;Lurking in\n"
     ]
    },
    {
     "name": "stderr",
     "output_type": "stream",
     "text": [
      "Setting `pad_token_id` to `eos_token_id`:128001 for open-end generation.\n"
     ]
    },
    {
     "name": "stdout",
     "output_type": "stream",
     "text": [
      "Iter: 6 Word: agile Seqno: 0 Prob: -0.24120160937309265  Poem: Amidst the tall trees;Gentle giants roam;Incredible eyes;Lurking in the night;Eager to pounce\n",
      "Found poem: {'poem': ['Amidst the tall trees', 'Gentle giants roam', 'Incredible eyes', 'Lurking in the night', 'Eager to pounce'], 'prob': 0.785683274269104, 'word': 'agile'}\n",
      "Iter: 6 Word: agile Seqno: 1 Prob: -0.2635897099971771  Poem: Amidst the tall trees;Gentle giants roam;Incredible eyes;Lurking in the shadows;Eager to pounce\n",
      "Found poem: {'poem': ['Amidst the tall trees', 'Gentle giants roam', 'Incredible eyes', 'Lurking in the shadows', 'Eager to pounce'], 'prob': 0.7682886719703674, 'word': 'agile'}\n",
      "Iter: 6 Word: agile Seqno: 2 Prob: -0.3016953766345978  Poem: Amidst the tall trees;Gentle giants roam;Incredible eyes;Lurking in the night;Eager to pounce\n",
      "Found poem: {'poem': ['Amidst the tall trees', 'Gentle giants roam', 'Incredible eyes', 'Lurking in the night', 'Eager to pounce'], 'prob': 0.7395632863044739, 'word': 'agile'}\n",
      "Iter: 6 Word: agile Seqno: 3 Prob: -0.3207515776157379  Poem: Amidst the tall trees;Gentle giants roam;Incredible eyes;Lurking in the night;Eager to pounce\n",
      "Found poem: {'poem': ['Amidst the tall trees', 'Gentle giants roam', 'Incredible eyes', 'Lurking in the night', 'Eager to pounce'], 'prob': 0.725603461265564, 'word': 'agile'}\n",
      "Iter: 6 Word: agile Seqno: 4 Prob: -0.3270786702632904  Poem: Amidst the tall trees;Gentle giants roam;Incredible eyes;Lurking in the shadows;Eager to pounce\n",
      "Found poem: {'poem': ['Amidst the tall trees', 'Gentle giants roam', 'Incredible eyes', 'Lurking in the shadows', 'Eager to pounce'], 'prob': 0.7210270166397095, 'word': 'agile'}\n",
      "Iter: 6 Word: agile Seqno: 5 Prob: -0.344745010137558  Poem: Amidst the tall trees;Gentle giants roam;Incredible eyes;Lurking in the shadows;Eager to pounce\n",
      "Found poem: {'poem': ['Amidst the tall trees', 'Gentle giants roam', 'Incredible eyes', 'Lurking in the shadows', 'Eager to pounce'], 'prob': 0.7084009647369385, 'word': 'agile'}\n",
      "Iter: 6 Word: agile Seqno: 6 Prob: -0.3457734286785126  Poem: Amidst the tall trees;Gentle giants roam;Incredible eyes;Lurking in the night;Eager to pounce and play\n",
      "Found poem: {'poem': ['Amidst the tall trees', 'Gentle giants roam', 'Incredible eyes', 'Lurking in the night', 'Eager to pounce and play'], 'prob': 0.7076727747917175, 'word': 'agile'}\n",
      "Iter: 6 Word: agile Seqno: 7 Prob: -0.3687115013599396  Poem: Amidst the tall trees;Gentle giants roam;Incredible eyes;Lurking in the night;Eager to pounce on prey\n",
      "Found poem: {'poem': ['Amidst the tall trees', 'Gentle giants roam', 'Incredible eyes', 'Lurking in the night', 'Eager to pounce on prey'], 'prob': 0.6916248798370361, 'word': 'agile'}\n",
      "Iter: 6 Word: agile Seqno: 8 Prob: -0.36983200907707214  Poem: Amidst the tall trees;Gentle giants roam;Incredible eyes;Lurking in the night;Eager to pounce.\n",
      "Found poem: {'poem': ['Amidst the tall trees', 'Gentle giants roam', 'Incredible eyes', 'Lurking in the night', 'Eager to pounce.'], 'prob': 0.6908503770828247, 'word': 'agile'}\n",
      "Iter: 6 Word: agile Seqno: 9 Prob: -0.38095858693122864  Poem: Amidst the tall trees;Gentle giants roam;Incredible eyes;Lurking in the night;Eager to pounce.\n",
      "Found poem: {'poem': ['Amidst the tall trees', 'Gentle giants roam', 'Incredible eyes', 'Lurking in the night', 'Eager to pounce.'], 'prob': 0.6832061409950256, 'word': 'agile'}\n",
      "Generating poem for agile starting with Amidst the tall trees;Gentle giants roam;Incredible eyes;Lurking in the night;Eager to pounce\n"
     ]
    },
    {
     "name": "stderr",
     "output_type": "stream",
     "text": [
      "Setting `pad_token_id` to `eos_token_id`:128001 for open-end generation.\n"
     ]
    },
    {
     "name": "stdout",
     "output_type": "stream",
     "text": [
      "Iter: 7 Word: agile Seqno: 0 Prob: -0.17517372965812683  Poem: Amidst the tall trees;Gentle giants roam;Incredible eyes;Lurking in the night;Eager to pounce\n",
      "Found poem: {'poem': ['Amidst the tall trees', 'Gentle giants roam', 'Incredible eyes', 'Lurking in the night', 'Eager to pounce'], 'prob': 0.8393111824989319, 'word': 'agile'}\n",
      "Iter: 7 Word: agile Seqno: 1 Prob: -0.23211567103862762  Poem: Amidst the tall trees;Gentle giants roam;Incredible eyes;Lurking in the night;Eager to pounce\n",
      "Found poem: {'poem': ['Amidst the tall trees', 'Gentle giants roam', 'Incredible eyes', 'Lurking in the night', 'Eager to pounce'], 'prob': 0.792854368686676, 'word': 'agile'}\n",
      "Iter: 7 Word: agile Seqno: 2 Prob: -0.2323358803987503  Poem: Amidst the tall trees;Gentle giants roam;Incredible eyes;Lurking in the night;Eager to pounce\n",
      "Found poem: {'poem': ['Amidst the tall trees', 'Gentle giants roam', 'Incredible eyes', 'Lurking in the night', 'Eager to pounce'], 'prob': 0.7926797866821289, 'word': 'agile'}\n",
      "Iter: 7 Word: agile Seqno: 3 Prob: -0.23851025104522705  Poem: Amidst the tall trees;Gentle giants roam;Incredible eyes;Lurking in the night;Eager to pounce\n",
      "Found poem: {'poem': ['Amidst the tall trees', 'Gentle giants roam', 'Incredible eyes', 'Lurking in the night', 'Eager to pounce'], 'prob': 0.7878006100654602, 'word': 'agile'}\n",
      "Iter: 7 Word: agile Seqno: 4 Prob: -0.26523926854133606  Poem: Amidst the tall trees;Gentle giants roam;Incredible eyes;Lurking in the night;Eager to pounce\n",
      "Found poem: {'poem': ['Amidst the tall trees', 'Gentle giants roam', 'Incredible eyes', 'Lurking in the night', 'Eager to pounce'], 'prob': 0.7670223712921143, 'word': 'agile'}\n",
      "Iter: 7 Word: agile Seqno: 5 Prob: -0.2817440629005432  Poem: Amidst the tall trees;Gentle giants roam;Incredible eyes;Lurking in the night;Eager to pounce.\n",
      "Found poem: {'poem': ['Amidst the tall trees', 'Gentle giants roam', 'Incredible eyes', 'Lurking in the night', 'Eager to pounce.'], 'prob': 0.754466712474823, 'word': 'agile'}\n",
      "Iter: 7 Word: agile Seqno: 6 Prob: -0.2825556993484497  Poem: Amidst the tall trees;Gentle giants roam;Incredible eyes;Lurking in the night;Eager to pounce and play\n",
      "Found poem: {'poem': ['Amidst the tall trees', 'Gentle giants roam', 'Incredible eyes', 'Lurking in the night', 'Eager to pounce and play'], 'prob': 0.7538546323776245, 'word': 'agile'}\n",
      "Iter: 7 Word: agile Seqno: 7 Prob: -0.2885977029800415  Poem: Amidst the tall trees;Gentle giants roam;Incredible eyes;Lurking in the night;Eager to pounce.\n",
      "Found poem: {'poem': ['Amidst the tall trees', 'Gentle giants roam', 'Incredible eyes', 'Lurking in the night', 'Eager to pounce.'], 'prob': 0.7493135929107666, 'word': 'agile'}\n",
      "Iter: 7 Word: agile Seqno: 8 Prob: -0.2916720509529114  Poem: Amidst the tall trees;Gentle giants roam;Incredible eyes;Lurking in the night;Eager to pounce\n",
      "Found poem: {'poem': ['Amidst the tall trees', 'Gentle giants roam', 'Incredible eyes', 'Lurking in the night', 'Eager to pounce'], 'prob': 0.7470133900642395, 'word': 'agile'}\n",
      "Iter: 7 Word: agile Seqno: 9 Prob: -0.3052113354206085  Poem: Amidst the tall trees;Gentle giants roam;Incredible eyes;Lurking in the night;Eager to pounce on prey\n",
      "Found poem: {'poem': ['Amidst the tall trees', 'Gentle giants roam', 'Incredible eyes', 'Lurking in the night', 'Eager to pounce on prey'], 'prob': 0.7369675636291504, 'word': 'agile'}\n"
     ]
    },
    {
     "name": "stderr",
     "output_type": "stream",
     "text": [
      "Setting `pad_token_id` to `eos_token_id`:128001 for open-end generation.\n"
     ]
    },
    {
     "name": "stdout",
     "output_type": "stream",
     "text": [
      "Generating poem for fierce starting with Fearless and fierce,\n"
     ]
    },
    {
     "name": "stderr",
     "output_type": "stream",
     "text": [
      "Setting `pad_token_id` to `eos_token_id`:128001 for open-end generation.\n"
     ]
    },
    {
     "name": "stdout",
     "output_type": "stream",
     "text": [
      "Iter: 8 Word: fierce Seqno: 0 Prob: -0.2234051376581192  Poem: Fearless and fierce, the tiger roams;Eager to pounce on its prey\n",
      "Iter: 8 Word: fierce Seqno: 1 Prob: -0.23748406767845154  Poem: Fearless and fierce, the tiger roams;Eager to hunt and play;Incredible strength\n",
      "Iter: 8 Word: fierce Seqno: 2 Prob: -0.2504604160785675  Poem: Fearless and fierce, the tiger roams;Eager to hunt and play;In the\n",
      "Iter: 8 Word: fierce Seqno: 3 Prob: -0.28010743856430054  Poem: Fearless and fierce, the tiger roams;Eager to hunt, with eyes so bright\n",
      "Iter: 8 Word: fierce Seqno: 4 Prob: -0.2825798988342285  Poem: Fearless and fierce, the tiger stalks;Eager to pounce on its prey\n",
      "Iter: 8 Word: fierce Seqno: 5 Prob: -0.28811874985694885  Poem: Fearless and fierce, the tiger roams;Eager to hunt and play;Ruling\n",
      "Iter: 8 Word: fierce Seqno: 6 Prob: -0.294683575630188  Poem: Fearless and fierce, the tiger roams;Eager to hunt and play;Intense\n",
      "Iter: 8 Word: fierce Seqno: 7 Prob: -0.3021736741065979  Poem: Fearless and fierce, the tiger roams;Eager to hunt its prey;In the\n",
      "Iter: 8 Word: fierce Seqno: 8 Prob: -0.3121819496154785  Poem: Fearless and fierce, the tiger roams;Eager to hunt its prey;Incredible strength\n",
      "Iter: 8 Word: fierce Seqno: 9 Prob: -0.3245447874069214  Poem: Fearless and fierce, the tiger roams;Eager to hunt and play;Incredible eyes\n",
      "REMOVING from Fearless and fierce, the tiger roams;Eager to pounce on its prey\n",
      "Generating poem for fierce starting with Fearless and fierce, the tiger roams\n",
      "Iter: 9 Word: fierce Seqno: 0 Prob: -0.2983647286891937  Poem: Fearless and fierce, the tiger roams;Eager to hunt and play;Incredible strength and speed\n",
      "Iter: 9 Word: fierce Seqno: 1 Prob: -0.3007260262966156  Poem: Fearless and fierce, the tiger roams;Eager to hunt and play;Incredible strength in every stride\n",
      "Iter: 9 Word: fierce Seqno: 2 Prob: -0.3321913778781891  Poem: Fearless and fierce, the tiger roams;Eager to hunt and play;In the forest's heart\n",
      "Iter: 9 Word: fierce Seqno: 3 Prob: -0.3351648449897766  Poem: Fearless and fierce, the tiger roams;Eager to pounce on its prey;Incredible strength in every\n",
      "Iter: 9 Word: fierce Seqno: 4 Prob: -0.33816155791282654  Poem: Fearless and fierce, the tiger roams;Eager to pounce on its prey;In the heart of\n",
      "Iter: 9 Word: fierce Seqno: 5 Prob: -0.33901989459991455  Poem: Fearless and fierce, the tiger roams;Eager to pounce on its prey;Incredible strength in its\n",
      "Iter: 9 Word: fierce Seqno: 6 Prob: -0.3600162863731384  Poem: Fearless and fierce, the tiger roams;Eager to hunt and play;In the forest, it finds\n",
      "Iter: 9 Word: fierce Seqno: 7 Prob: -0.3639947772026062  Poem: Fearless and fierce, the tiger roams;Eager to hunt and play;Ruling the jungle with might\n",
      "Iter: 9 Word: fierce Seqno: 8 Prob: -0.3691554665565491  Poem: Fearless and fierce, the tiger roams;Eager to hunt and play;Intense eyes scan the land\n",
      "Iter: 9 Word: fierce Seqno: 9 Prob: -0.3758915960788727  Poem: Fearless and fierce, the tiger roams;Eager to hunt and play;In the forest, it reign\n",
      "REMOVING from Fearless and fierce, the tiger roams;Eager to hunt and play;Incredible strength and speed\n"
     ]
    }
   ],
   "source": [
    "def make_unique(list_of_dict):\n",
    "    unique_poems, unique_pd = set(), []\n",
    "    # decreasing prob, so first one wins\n",
    "    list_of_dict = sorted(list_of_dict, key=lambda x: x['prob'], reverse=True)\n",
    "    for pd in list_of_dict:\n",
    "        poem_str = '\\n'.join(pd['poem'])\n",
    "        if poem_str not in unique_poems:\n",
    "            unique_poems.add(poem_str)\n",
    "            unique_pd.append(pd)\n",
    "    return unique_pd\n",
    "\n",
    "def write_acrostic(animal: str, max_iter=10, num_sequences_per_iter=10, verbose_thresh=0):\n",
    "    found_poems = []\n",
    "    allowed_start_words = get_potential_starts(animal, 10)\n",
    "    if verbose_thresh < 3:\n",
    "        print(f\"Allowed start words: {allowed_start_words}\")\n",
    "    \n",
    "    start_word, poem_so_far, prev_start_poem = None, None, None\n",
    "    for iter in range(max_iter):\n",
    "        # reinitiatilize if we are stuck at a starting point\n",
    "        if poem_so_far is None or poem_so_far == prev_start_poem:\n",
    "            start_word, poem_so_far = initialize_poem(animal, allowed_start_words)  # lines of poem\n",
    "        prev_start_poem = poem_so_far # for next iter\n",
    "        if verbose_thresh < 2:\n",
    "            print(f\"Generating poem for {start_word} starting with {';'.join(poem_so_far)}\")\n",
    "            \n",
    "        # generate poem\n",
    "        inputs = pipe.tokenizer('\\n'.join(get_input_prompts(animal, '\\n'.join(poem_so_far), start_word)), \n",
    "                                return_tensors=\"pt\").to(\"cuda\")\n",
    "        results = pipe.model.generate(\n",
    "            **inputs,\n",
    "            max_new_tokens=16,\n",
    "            num_beams=num_sequences_per_iter,\n",
    "            num_return_sequences=num_sequences_per_iter,\n",
    "            output_scores=True,\n",
    "            renormalize_logits=True,\n",
    "            return_dict_in_generate=True,\n",
    "            use_cache=False  # we want different results from same starting point\n",
    "        )\n",
    "        \n",
    "        # choose tokens based on logprobs and whether it meets style\n",
    "        best_prob_in_iter = -1000 # remember these are logits\n",
    "        best_poem_in_iter = None\n",
    "        best_bad_prob_in_iter = -1000\n",
    "        best_bad_poem_in_iter = None\n",
    "        for seqno, sequence in enumerate(results.sequences):\n",
    "            seq_prob = results.sequences_scores[seqno]\n",
    "            candidate_poem = get_poem_so_far(pipe.tokenizer.decode(sequence))\n",
    "            if len(candidate_poem) > len(start_word):\n",
    "                candidate_poem = candidate_poem[:len(start_word)] # truncate poem to length of start word\n",
    "            if verbose_thresh < 1:\n",
    "                print(f\"Iter: {iter} Word: {start_word} Seqno: {seqno} Prob: {seq_prob}  Poem: {';'.join(candidate_poem)}\")\n",
    "            # is this in the list of possibilities?\n",
    "            candidate_starts = ''.join([line[0] for line in candidate_poem]).lower()\n",
    "            continue_seq = False\n",
    "            found_poem = False\n",
    "            if len(start_word) >= len(candidate_starts) and start_word[:len(candidate_starts)] == candidate_starts:\n",
    "                continue_seq = True\n",
    "                if len(start_word) == len(candidate_starts):\n",
    "                    found_poems.append({\n",
    "                        \"poem\": candidate_poem, \n",
    "                        \"prob\": float(np.exp(seq_prob.cpu())),\n",
    "                        \"word\": start_word\n",
    "                    }) # YEAH!\n",
    "                    if verbose_thresh < 3:\n",
    "                        print(f\"Found poem: {found_poems[-1]}\")               \n",
    "                \n",
    "            if continue_seq:\n",
    "                if seq_prob > best_prob_in_iter:\n",
    "                    best_prob_in_iter = seq_prob\n",
    "                    # even if a poem is found, the last line might be incomplete, so continue sequence\n",
    "                    best_poem_in_iter = candidate_poem\n",
    "            else:\n",
    "                if seq_prob > best_bad_prob_in_iter:\n",
    "                    best_bad_prob_in_iter = seq_prob\n",
    "                    best_bad_poem_in_iter = candidate_poem\n",
    "        \n",
    "        # update the starting point for the next iteration\n",
    "        if best_poem_in_iter:\n",
    "            poem_so_far = best_poem_in_iter\n",
    "        else:\n",
    "            # remove the lines that don't fit and try again\n",
    "            print(f\"REMOVING from {';'.join(best_bad_poem_in_iter)}\")\n",
    "            while True:\n",
    "                # remove a line, and see if it matches the start word\n",
    "                best_bad_poem_in_iter = best_bad_poem_in_iter[:-1]\n",
    "                if len(best_bad_poem_in_iter) == 0:\n",
    "                    # reinitialize, potentially to different start word\n",
    "                    start_word, poem_so_far = initialize_poem(animal, allowed_start_words)\n",
    "                    break\n",
    "                candidate_starts = ''.join([line[0] for line in best_bad_poem_in_iter]).lower()\n",
    "                if len(start_word) >= len(candidate_starts) and start_word[:len(candidate_starts)] == candidate_starts:\n",
    "                    poem_so_far = best_bad_poem_in_iter # start from here, for same start_word\n",
    "                    break            \n",
    "    \n",
    "    return make_unique(found_poems)\n",
    "    \n",
    "found_poems = write_acrostic(\"tiger\", 10)           "
   ]
  },
  {
   "cell_type": "markdown",
   "id": "8e99a50c-de57-447e-84d9-32b569665650",
   "metadata": {},
   "source": [
    "Sometimes, the generation fails.  For example, with the start word of ferocious, the algo generates:\n",
    "```\n",
    "Fiercely fearless, Freddy the tiger roams\n",
    "Eagerly exploring every forest home\n",
    "Rapidly racing through the trees\n",
    "Oozing orange and black with ease\n",
    "```\n",
    "but then none of the generated sequences start with the letter C.  We could make the algorithm backtrack and restart at the third line ..."
   ]
  },
  {
   "cell_type": "code",
   "execution_count": 21,
   "id": "b213aa9b-deef-4cf7-b56d-8d6549f1ce0a",
   "metadata": {
    "tags": []
   },
   "outputs": [
    {
     "data": {
      "text/plain": [
       "[{'poem': ['Amidst the tall trees',\n",
       "   'Gentle giants roam',\n",
       "   'Incredible eyes',\n",
       "   'Lurking in the night',\n",
       "   'Eager to pounce'],\n",
       "  'prob': 0.8393111824989319,\n",
       "  'word': 'agile'},\n",
       " {'poem': ['Amidst the tall trees',\n",
       "   'Gentle giants roam',\n",
       "   'Incredible eyes',\n",
       "   'Lurking in the shadows',\n",
       "   'Eager to pounce'],\n",
       "  'prob': 0.7682886719703674,\n",
       "  'word': 'agile'},\n",
       " {'poem': ['Amidst the tall trees',\n",
       "   'Gentle giants roam',\n",
       "   'Incredible eyes',\n",
       "   'Lurking in the night',\n",
       "   'Eager to pounce.'],\n",
       "  'prob': 0.754466712474823,\n",
       "  'word': 'agile'},\n",
       " {'poem': ['Amidst the tall trees',\n",
       "   'Gentle giants roam',\n",
       "   'Incredible eyes',\n",
       "   'Lurking in the night',\n",
       "   'Eager to pounce and play'],\n",
       "  'prob': 0.7538546323776245,\n",
       "  'word': 'agile'},\n",
       " {'poem': ['Amidst the tall trees',\n",
       "   'Gentle giants roam',\n",
       "   'Incredible eyes',\n",
       "   'Lurking in the night',\n",
       "   'Eager to pounce on prey'],\n",
       "  'prob': 0.7369675636291504,\n",
       "  'word': 'agile'}]"
      ]
     },
     "execution_count": 21,
     "metadata": {},
     "output_type": "execute_result"
    }
   ],
   "source": [
    "found_poems"
   ]
  },
  {
   "cell_type": "markdown",
   "id": "b7f15a1f-907b-4d4c-9be3-940a15292db4",
   "metadata": {},
   "source": [
    "Some results:\n",
    "\n",
    "(1) BOLD:\n",
    "```\n",
    "Boldly, the brave tiger stalks its prey\n",
    "Owning the forest with its might,\n",
    "Lurking in the shadows, waiting to pounce,\n",
    "Daring to be the king of the night\n",
    "```\n",
    "\n",
    "(2) AGILE:\n",
    "```\n",
    "Among the tall trees, a tiger resides\n",
    "Gently, it stalks its prey\n",
    "Icy winds blow through the forest\n",
    "Lurking, it waits for the perfect moment\n",
    "Eager to pounce and catch its dinner\n",
    "```\n",
    "\n",
    "(3) SWIFT:\n",
    "```\n",
    "Smiling softly, the\n",
    "Wild eyes gleam\n",
    "In the\n",
    "Forest depths,\n",
    "Tigers stalk\n",
    "```\n",
    "\n",
    "Sure, not the greatest poems, but illustrative of how you can generate in segments and use logprobs to select the segment that meets style constraints."
   ]
  },
  {
   "cell_type": "code",
   "execution_count": 22,
   "id": "fb2a5994-686c-49ec-8e89-abfb05b2adbd",
   "metadata": {
    "tags": []
   },
   "outputs": [
    {
     "name": "stderr",
     "output_type": "stream",
     "text": [
      "Setting `pad_token_id` to `eos_token_id`:128001 for open-end generation.\n",
      "You seem to be using the pipelines sequentially on GPU. In order to maximize efficiency please use a dataset\n",
      "Setting `pad_token_id` to `eos_token_id`:128001 for open-end generation.\n"
     ]
    },
    {
     "name": "stdout",
     "output_type": "stream",
     "text": [
      "Allowed start words: ['wise', 'calm', 'keen', 'still', 'alert', 'sharp', 'quiet', 'serene', 'silent', 'unfazed']\n"
     ]
    },
    {
     "name": "stderr",
     "output_type": "stream",
     "text": [
      "Setting `pad_token_id` to `eos_token_id`:128001 for open-end generation.\n",
      "Setting `pad_token_id` to `eos_token_id`:128001 for open-end generation.\n",
      "Setting `pad_token_id` to `eos_token_id`:128001 for open-end generation.\n"
     ]
    },
    {
     "name": "stdout",
     "output_type": "stream",
     "text": [
      "Found poem: {'poem': [\"Quietly, the owl's wings unfold\", \"Under the moon's silver glow\", 'In the darkness, it takes flight', \"Eyes shining bright with wisdom's light\", 'Talons'], 'prob': 0.7278324365615845, 'word': 'quiet'}\n",
      "Found poem: {'poem': [\"Quietly, the owl's wings unfold\", \"Under the moon's silver glow\", 'In the darkness, it takes flight', 'Eyes shining bright, like stars above', 'Talons'], 'prob': 0.7170027494430542, 'word': 'quiet'}\n",
      "Found poem: {'poem': [\"Quietly, the owl's wings unfold\", \"Under the moon's silver glow\", 'In the darkness, it takes flight', 'Eyes shining bright, with wisdom to show', 'Tal'], 'prob': 0.7151646018028259, 'word': 'quiet'}\n",
      "Found poem: {'poem': [\"Quietly, the owl's wings unfold\", \"Under the moon's silver glow\", 'In the darkness, it takes flight', 'Eyes shining bright, it watches all', 'Talons'], 'prob': 0.7001564502716064, 'word': 'quiet'}\n",
      "Found poem: {'poem': [\"Quietly, the owl's wings unfold\", \"Under the moon's silver glow\", 'In the darkness, it takes flight', 'Eyes shining bright with gentle might', 'Talons sharp'], 'prob': 0.6842440962791443, 'word': 'quiet'}\n",
      "Found poem: {'poem': [\"Quietly, the owl's wings unfold\", \"Under the moon's silver glow\", 'In the darkness, it takes flight', 'Eyes shining bright, it watches all', 'Tuning in'], 'prob': 0.681780993938446, 'word': 'quiet'}\n"
     ]
    },
    {
     "name": "stderr",
     "output_type": "stream",
     "text": [
      "Setting `pad_token_id` to `eos_token_id`:128001 for open-end generation.\n"
     ]
    },
    {
     "name": "stdout",
     "output_type": "stream",
     "text": [
      "Found poem: {'poem': [\"Quietly, the owl's wings unfold\", \"Under the moon's silver glow\", 'In the darkness, it takes flight', \"Eyes shining bright with wisdom's light\", 'Talons sharp, it soars with ease'], 'prob': 0.8223163485527039, 'word': 'quiet'}\n",
      "Found poem: {'poem': [\"Quietly, the owl's wings unfold\", \"Under the moon's silver glow\", 'In the darkness, it takes flight', \"Eyes shining bright with wisdom's light\", 'Talons sharp, it soars with ease'], 'prob': 0.7971736192703247, 'word': 'quiet'}\n",
      "Found poem: {'poem': [\"Quietly, the owl's wings unfold\", \"Under the moon's silver glow\", 'In the darkness, it takes flight', \"Eyes shining bright with wisdom's light\", 'Talons sharp, it soars with ease'], 'prob': 0.7961229085922241, 'word': 'quiet'}\n",
      "Found poem: {'poem': [\"Quietly, the owl's wings unfold\", \"Under the moon's silver glow\", 'In the darkness, it takes flight', \"Eyes shining bright with wisdom's light\", 'Talons outstretched, it soars with ease'], 'prob': 0.7643688917160034, 'word': 'quiet'}\n",
      "Found poem: {'poem': [\"Quietly, the owl's wings unfold\", \"Under the moon's silver glow\", 'In the darkness, it takes flight', \"Eyes shining bright with wisdom's light\", 'Talons sharp, it soars with ease'], 'prob': 0.7576658725738525, 'word': 'quiet'}\n",
      "Found poem: {'poem': [\"Quietly, the owl's wings unfold\", \"Under the moon's silver glow\", 'In the darkness, it takes flight', \"Eyes shining bright with wisdom's light\", 'Talons grasping, it soars with ease'], 'prob': 0.7560449242591858, 'word': 'quiet'}\n",
      "Found poem: {'poem': [\"Quietly, the owl's wings unfold\", \"Under the moon's silver glow\", 'In the darkness, it takes flight', \"Eyes shining bright with wisdom's light\", 'Talons sharp, it swoops with ease'], 'prob': 0.7466634511947632, 'word': 'quiet'}\n",
      "Found poem: {'poem': [\"Quietly, the owl's wings unfold\", \"Under the moon's silver glow\", 'In the darkness, it takes flight', \"Eyes shining bright with wisdom's light\", 'Talons sharp, it swoops with ease'], 'prob': 0.7409984469413757, 'word': 'quiet'}\n",
      "Found poem: {'poem': [\"Quietly, the owl's wings unfold\", \"Under the moon's silver glow\", 'In the darkness, it takes flight', \"Eyes shining bright with wisdom's light\", 'Talons outstretched, it soars with ease'], 'prob': 0.7371332049369812, 'word': 'quiet'}\n",
      "Found poem: {'poem': [\"Quietly, the owl's wings unfold\", \"Under the moon's silver glow\", 'In the darkness, it takes flight', \"Eyes shining bright with wisdom's light\", 'Talons sharp, it soars through the night'], 'prob': 0.7345316410064697, 'word': 'quiet'}\n"
     ]
    },
    {
     "name": "stderr",
     "output_type": "stream",
     "text": [
      "Setting `pad_token_id` to `eos_token_id`:128001 for open-end generation.\n"
     ]
    },
    {
     "name": "stdout",
     "output_type": "stream",
     "text": [
      "Found poem: {'poem': [\"Quietly, the owl's wings unfold\", \"Under the moon's silver glow\", 'In the darkness, it takes flight', \"Eyes shining bright with wisdom's light\", 'Talons sharp, it soars with ease'], 'prob': 0.8173414468765259, 'word': 'quiet'}\n",
      "Found poem: {'poem': [\"Quietly, the owl's wings unfold\", \"Under the moon's silver glow\", 'In the darkness, it takes flight', \"Eyes shining bright with wisdom's light\", 'Talons sharp, it soars with ease'], 'prob': 0.8050283789634705, 'word': 'quiet'}\n",
      "Found poem: {'poem': [\"Quietly, the owl's wings unfold\", \"Under the moon's silver glow\", 'In the darkness, it takes flight', \"Eyes shining bright with wisdom's light\", 'Talons sharp, it soars with ease'], 'prob': 0.8011473417282104, 'word': 'quiet'}\n",
      "Found poem: {'poem': [\"Quietly, the owl's wings unfold\", \"Under the moon's silver glow\", 'In the darkness, it takes flight', \"Eyes shining bright with wisdom's light\", 'Talons sharp, it soars with ease'], 'prob': 0.800987958908081, 'word': 'quiet'}\n",
      "Found poem: {'poem': [\"Quietly, the owl's wings unfold\", \"Under the moon's silver glow\", 'In the darkness, it takes flight', \"Eyes shining bright with wisdom's light\", 'Talons sharp, it soars with ease'], 'prob': 0.7759358882904053, 'word': 'quiet'}\n",
      "Found poem: {'poem': [\"Quietly, the owl's wings unfold\", \"Under the moon's silver glow\", 'In the darkness, it takes flight', \"Eyes shining bright with wisdom's light\", 'Talons sharp, it soars with ease'], 'prob': 0.7735341787338257, 'word': 'quiet'}\n",
      "Found poem: {'poem': [\"Quietly, the owl's wings unfold\", \"Under the moon's silver glow\", 'In the darkness, it takes flight', \"Eyes shining bright with wisdom's light\", 'Talons sharp, it soars with ease'], 'prob': 0.7729690670967102, 'word': 'quiet'}\n",
      "Found poem: {'poem': [\"Quietly, the owl's wings unfold\", \"Under the moon's silver glow\", 'In the darkness, it takes flight', \"Eyes shining bright with wisdom's light\", 'Talons sharp, it soars with ease'], 'prob': 0.7578546404838562, 'word': 'quiet'}\n",
      "Found poem: {'poem': [\"Quietly, the owl's wings unfold\", \"Under the moon's silver glow\", 'In the darkness, it takes flight', \"Eyes shining bright with wisdom's light\", 'Talons sharp, it soars with ease'], 'prob': 0.7550450563430786, 'word': 'quiet'}\n",
      "Found poem: {'poem': [\"Quietly, the owl's wings unfold\", \"Under the moon's silver glow\", 'In the darkness, it takes flight', \"Eyes shining bright with wisdom's light\", 'Talons sharp, it soars with ease'], 'prob': 0.6988472938537598, 'word': 'quiet'}\n"
     ]
    },
    {
     "name": "stderr",
     "output_type": "stream",
     "text": [
      "Setting `pad_token_id` to `eos_token_id`:128001 for open-end generation.\n",
      "Setting `pad_token_id` to `eos_token_id`:128001 for open-end generation.\n",
      "Setting `pad_token_id` to `eos_token_id`:128001 for open-end generation.\n"
     ]
    },
    {
     "name": "stdout",
     "output_type": "stream",
     "text": [
      "Found poem: {'poem': ['Silently swooping through the night', 'Hooting softly, a gentle sound', 'Alertly watching, with eyes so bright', 'Ruling the darkness, all around', 'Prow'], 'prob': 0.7355523705482483, 'word': 'sharp'}\n",
      "Found poem: {'poem': ['Silently swooping through the night', 'Hooting softly, a gentle sound', 'Alertly watching, with eyes so bright', 'Ruling the darkness, all around', 'Pier'], 'prob': 0.7235137224197388, 'word': 'sharp'}\n",
      "Found poem: {'poem': ['Silently swooping through the night', 'Hooting softly, a gentle sound', 'Alertly watching for its prey', 'Rapidly swooping down to catch', 'Pouncing swiftly'], 'prob': 0.694269597530365, 'word': 'sharp'}\n",
      "Found poem: {'poem': ['Silently swooping through the night', 'Hooting softly, a gentle sound', 'Alertly watching, with eyes so bright', 'Ruling the darkness, all around', 'Precar'], 'prob': 0.6940999031066895, 'word': 'sharp'}\n"
     ]
    },
    {
     "name": "stderr",
     "output_type": "stream",
     "text": [
      "Setting `pad_token_id` to `eos_token_id`:128001 for open-end generation.\n"
     ]
    },
    {
     "name": "stdout",
     "output_type": "stream",
     "text": [
      "Found poem: {'poem': ['Silently swooping through the night', 'Hooting softly, a gentle sound', 'Alertly watching, with eyes so bright', 'Ruling the darkness, all around', 'Prowling quietly, with stealthy pace'], 'prob': 0.7847757935523987, 'word': 'sharp'}\n",
      "Found poem: {'poem': ['Silently swooping through the night', 'Hooting softly, a gentle sound', 'Alertly watching, with eyes so bright', 'Ruling the darkness, all around', 'Prowling through shadows, silent as can be'], 'prob': 0.770483136177063, 'word': 'sharp'}\n",
      "Found poem: {'poem': ['Silently swooping through the night', 'Hooting softly, a gentle sound', 'Alertly watching, with eyes so bright', 'Ruling the darkness, all around', 'Prowling for prey, with stealthy pace'], 'prob': 0.7633442878723145, 'word': 'sharp'}\n",
      "Found poem: {'poem': ['Silently swooping through the night', 'Hooting softly, a gentle sound', 'Alertly watching, with eyes so bright', 'Ruling the darkness, all around', 'Prowling silently, with wings so fine'], 'prob': 0.7586615681648254, 'word': 'sharp'}\n",
      "Found poem: {'poem': ['Silently swooping through the night', 'Hooting softly, a gentle sound', 'Alertly watching, with eyes so bright', 'Ruling the darkness, all around', 'Prowling quietly, with wings so fine'], 'prob': 0.7523613572120667, 'word': 'sharp'}\n",
      "Found poem: {'poem': ['Silently swooping through the night', 'Hooting softly, a gentle sound', 'Alertly watching, with eyes so bright', 'Ruling the darkness, all around', 'Prowling silently, with wings so light'], 'prob': 0.7515995502471924, 'word': 'sharp'}\n",
      "Found poem: {'poem': ['Silently swooping through the night', 'Hooting softly, a gentle sound', 'Alertly watching, with eyes so bright', 'Ruling the darkness, all around', 'Prowling patiently, through the trees'], 'prob': 0.7477692365646362, 'word': 'sharp'}\n",
      "Found poem: {'poem': ['Silently swooping through the night', 'Hooting softly, a gentle sound', 'Alertly watching, with eyes so bright', 'Ruling the darkness, all around', 'Prowling quietly, with stealthy pace'], 'prob': 0.7447255849838257, 'word': 'sharp'}\n",
      "Found poem: {'poem': ['Silently swooping through the night', 'Hooting softly, a gentle sound', 'Alertly watching, with eyes so bright', 'Ruling the darkness, all around', 'Prowling silently, with stealthy pace'], 'prob': 0.7381055355072021, 'word': 'sharp'}\n",
      "Found poem: {'poem': ['Silently swooping through the night', 'Hooting softly, a gentle sound', 'Alertly watching, with eyes so bright', 'Ruling the darkness, all around', 'Prowling patiently, with wings so fine'], 'prob': 0.7370124459266663, 'word': 'sharp'}\n"
     ]
    },
    {
     "name": "stderr",
     "output_type": "stream",
     "text": [
      "Setting `pad_token_id` to `eos_token_id`:128001 for open-end generation.\n"
     ]
    },
    {
     "name": "stdout",
     "output_type": "stream",
     "text": [
      "Found poem: {'poem': ['Silently swooping through the night', 'Hooting softly, a gentle sound', 'Alertly watching, with eyes so bright', 'Ruling the darkness, all around', 'Prowling quietly, with stealthy pace'], 'prob': 0.8617402911186218, 'word': 'sharp'}\n",
      "Found poem: {'poem': ['Silently swooping through the night', 'Hooting softly, a gentle sound', 'Alertly watching, with eyes so bright', 'Ruling the darkness, all around', 'Prowling quietly, with stealthy pace'], 'prob': 0.8340792655944824, 'word': 'sharp'}\n",
      "Found poem: {'poem': ['Silently swooping through the night', 'Hooting softly, a gentle sound', 'Alertly watching, with eyes so bright', 'Ruling the darkness, all around', 'Prowling quietly, with stealthy pace'], 'prob': 0.8128030300140381, 'word': 'sharp'}\n",
      "Found poem: {'poem': ['Silently swooping through the night', 'Hooting softly, a gentle sound', 'Alertly watching, with eyes so bright', 'Ruling the darkness, all around', 'Prowling quietly, with stealthy pace'], 'prob': 0.8056626319885254, 'word': 'sharp'}\n",
      "Found poem: {'poem': ['Silently swooping through the night', 'Hooting softly, a gentle sound', 'Alertly watching, with eyes so bright', 'Ruling the darkness, all around', 'Prowling quietly, with stealthy pace'], 'prob': 0.8035456538200378, 'word': 'sharp'}\n",
      "Found poem: {'poem': ['Silently swooping through the night', 'Hooting softly, a gentle sound', 'Alertly watching, with eyes so bright', 'Ruling the darkness, all around', 'Prowling quietly, with stealthy pace'], 'prob': 0.7945954203605652, 'word': 'sharp'}\n",
      "Found poem: {'poem': ['Silently swooping through the night', 'Hooting softly, a gentle sound', 'Alertly watching, with eyes so bright', 'Ruling the darkness, all around', 'Prowling quietly, with stealthy pace'], 'prob': 0.7942269444465637, 'word': 'sharp'}\n",
      "Found poem: {'poem': ['Silently swooping through the night', 'Hooting softly, a gentle sound', 'Alertly watching, with eyes so bright', 'Ruling the darkness, all around', 'Prowling quietly, with stealthy pace'], 'prob': 0.7788787484169006, 'word': 'sharp'}\n",
      "Found poem: {'poem': ['Silently swooping through the night', 'Hooting softly, a gentle sound', 'Alertly watching, with eyes so bright', 'Ruling the darkness, all around', 'Prowling quietly, with stealthy pace'], 'prob': 0.7763776183128357, 'word': 'sharp'}\n",
      "Found poem: {'poem': ['Silently swooping through the night', 'Hooting softly, a gentle sound', 'Alertly watching, with eyes so bright', 'Ruling the darkness, all around', 'Prowling quietly, with stealthy pace'], 'prob': 0.7332655191421509, 'word': 'sharp'}\n"
     ]
    },
    {
     "name": "stderr",
     "output_type": "stream",
     "text": [
      "Setting `pad_token_id` to `eos_token_id`:128001 for open-end generation.\n",
      "Setting `pad_token_id` to `eos_token_id`:128001 for open-end generation.\n"
     ]
    },
    {
     "name": "stdout",
     "output_type": "stream",
     "text": [
      "REMOVING from Slowly spreading her wings;Elegant, the owl takes flight;Ears perked up\n"
     ]
    },
    {
     "data": {
      "text/plain": [
       "[{'poem': ['Silently swooping through the night',\n",
       "   'Hooting softly, a gentle sound',\n",
       "   'Alertly watching, with eyes so bright',\n",
       "   'Ruling the darkness, all around',\n",
       "   'Prowling quietly, with stealthy pace'],\n",
       "  'prob': 0.8617402911186218,\n",
       "  'word': 'sharp'},\n",
       " {'poem': [\"Quietly, the owl's wings unfold\",\n",
       "   \"Under the moon's silver glow\",\n",
       "   'In the darkness, it takes flight',\n",
       "   \"Eyes shining bright with wisdom's light\",\n",
       "   'Talons sharp, it soars with ease'],\n",
       "  'prob': 0.8223163485527039,\n",
       "  'word': 'quiet'},\n",
       " {'poem': ['Silently swooping through the night',\n",
       "   'Hooting softly, a gentle sound',\n",
       "   'Alertly watching, with eyes so bright',\n",
       "   'Ruling the darkness, all around',\n",
       "   'Prowling through shadows, silent as can be'],\n",
       "  'prob': 0.770483136177063,\n",
       "  'word': 'sharp'},\n",
       " {'poem': [\"Quietly, the owl's wings unfold\",\n",
       "   \"Under the moon's silver glow\",\n",
       "   'In the darkness, it takes flight',\n",
       "   \"Eyes shining bright with wisdom's light\",\n",
       "   'Talons outstretched, it soars with ease'],\n",
       "  'prob': 0.7643688917160034,\n",
       "  'word': 'quiet'},\n",
       " {'poem': ['Silently swooping through the night',\n",
       "   'Hooting softly, a gentle sound',\n",
       "   'Alertly watching, with eyes so bright',\n",
       "   'Ruling the darkness, all around',\n",
       "   'Prowling for prey, with stealthy pace'],\n",
       "  'prob': 0.7633442878723145,\n",
       "  'word': 'sharp'},\n",
       " {'poem': ['Silently swooping through the night',\n",
       "   'Hooting softly, a gentle sound',\n",
       "   'Alertly watching, with eyes so bright',\n",
       "   'Ruling the darkness, all around',\n",
       "   'Prowling silently, with wings so fine'],\n",
       "  'prob': 0.7586615681648254,\n",
       "  'word': 'sharp'},\n",
       " {'poem': [\"Quietly, the owl's wings unfold\",\n",
       "   \"Under the moon's silver glow\",\n",
       "   'In the darkness, it takes flight',\n",
       "   \"Eyes shining bright with wisdom's light\",\n",
       "   'Talons grasping, it soars with ease'],\n",
       "  'prob': 0.7560449242591858,\n",
       "  'word': 'quiet'},\n",
       " {'poem': ['Silently swooping through the night',\n",
       "   'Hooting softly, a gentle sound',\n",
       "   'Alertly watching, with eyes so bright',\n",
       "   'Ruling the darkness, all around',\n",
       "   'Prowling quietly, with wings so fine'],\n",
       "  'prob': 0.7523613572120667,\n",
       "  'word': 'sharp'},\n",
       " {'poem': ['Silently swooping through the night',\n",
       "   'Hooting softly, a gentle sound',\n",
       "   'Alertly watching, with eyes so bright',\n",
       "   'Ruling the darkness, all around',\n",
       "   'Prowling silently, with wings so light'],\n",
       "  'prob': 0.7515995502471924,\n",
       "  'word': 'sharp'},\n",
       " {'poem': ['Silently swooping through the night',\n",
       "   'Hooting softly, a gentle sound',\n",
       "   'Alertly watching, with eyes so bright',\n",
       "   'Ruling the darkness, all around',\n",
       "   'Prowling patiently, through the trees'],\n",
       "  'prob': 0.7477692365646362,\n",
       "  'word': 'sharp'},\n",
       " {'poem': [\"Quietly, the owl's wings unfold\",\n",
       "   \"Under the moon's silver glow\",\n",
       "   'In the darkness, it takes flight',\n",
       "   \"Eyes shining bright with wisdom's light\",\n",
       "   'Talons sharp, it swoops with ease'],\n",
       "  'prob': 0.7466634511947632,\n",
       "  'word': 'quiet'},\n",
       " {'poem': ['Silently swooping through the night',\n",
       "   'Hooting softly, a gentle sound',\n",
       "   'Alertly watching, with eyes so bright',\n",
       "   'Ruling the darkness, all around',\n",
       "   'Prowling silently, with stealthy pace'],\n",
       "  'prob': 0.7381055355072021,\n",
       "  'word': 'sharp'},\n",
       " {'poem': ['Silently swooping through the night',\n",
       "   'Hooting softly, a gentle sound',\n",
       "   'Alertly watching, with eyes so bright',\n",
       "   'Ruling the darkness, all around',\n",
       "   'Prowling patiently, with wings so fine'],\n",
       "  'prob': 0.7370124459266663,\n",
       "  'word': 'sharp'},\n",
       " {'poem': ['Silently swooping through the night',\n",
       "   'Hooting softly, a gentle sound',\n",
       "   'Alertly watching, with eyes so bright',\n",
       "   'Ruling the darkness, all around',\n",
       "   'Prow'],\n",
       "  'prob': 0.7355523705482483,\n",
       "  'word': 'sharp'},\n",
       " {'poem': [\"Quietly, the owl's wings unfold\",\n",
       "   \"Under the moon's silver glow\",\n",
       "   'In the darkness, it takes flight',\n",
       "   \"Eyes shining bright with wisdom's light\",\n",
       "   'Talons sharp, it soars through the night'],\n",
       "  'prob': 0.7345316410064697,\n",
       "  'word': 'quiet'},\n",
       " {'poem': [\"Quietly, the owl's wings unfold\",\n",
       "   \"Under the moon's silver glow\",\n",
       "   'In the darkness, it takes flight',\n",
       "   \"Eyes shining bright with wisdom's light\",\n",
       "   'Talons'],\n",
       "  'prob': 0.7278324365615845,\n",
       "  'word': 'quiet'},\n",
       " {'poem': ['Silently swooping through the night',\n",
       "   'Hooting softly, a gentle sound',\n",
       "   'Alertly watching, with eyes so bright',\n",
       "   'Ruling the darkness, all around',\n",
       "   'Pier'],\n",
       "  'prob': 0.7235137224197388,\n",
       "  'word': 'sharp'},\n",
       " {'poem': [\"Quietly, the owl's wings unfold\",\n",
       "   \"Under the moon's silver glow\",\n",
       "   'In the darkness, it takes flight',\n",
       "   'Eyes shining bright, like stars above',\n",
       "   'Talons'],\n",
       "  'prob': 0.7170027494430542,\n",
       "  'word': 'quiet'},\n",
       " {'poem': [\"Quietly, the owl's wings unfold\",\n",
       "   \"Under the moon's silver glow\",\n",
       "   'In the darkness, it takes flight',\n",
       "   'Eyes shining bright, with wisdom to show',\n",
       "   'Tal'],\n",
       "  'prob': 0.7151646018028259,\n",
       "  'word': 'quiet'},\n",
       " {'poem': [\"Quietly, the owl's wings unfold\",\n",
       "   \"Under the moon's silver glow\",\n",
       "   'In the darkness, it takes flight',\n",
       "   'Eyes shining bright, it watches all',\n",
       "   'Talons'],\n",
       "  'prob': 0.7001564502716064,\n",
       "  'word': 'quiet'},\n",
       " {'poem': ['Silently swooping through the night',\n",
       "   'Hooting softly, a gentle sound',\n",
       "   'Alertly watching for its prey',\n",
       "   'Rapidly swooping down to catch',\n",
       "   'Pouncing swiftly'],\n",
       "  'prob': 0.694269597530365,\n",
       "  'word': 'sharp'},\n",
       " {'poem': ['Silently swooping through the night',\n",
       "   'Hooting softly, a gentle sound',\n",
       "   'Alertly watching, with eyes so bright',\n",
       "   'Ruling the darkness, all around',\n",
       "   'Precar'],\n",
       "  'prob': 0.6940999031066895,\n",
       "  'word': 'sharp'},\n",
       " {'poem': [\"Quietly, the owl's wings unfold\",\n",
       "   \"Under the moon's silver glow\",\n",
       "   'In the darkness, it takes flight',\n",
       "   'Eyes shining bright with gentle might',\n",
       "   'Talons sharp'],\n",
       "  'prob': 0.6842440962791443,\n",
       "  'word': 'quiet'},\n",
       " {'poem': [\"Quietly, the owl's wings unfold\",\n",
       "   \"Under the moon's silver glow\",\n",
       "   'In the darkness, it takes flight',\n",
       "   'Eyes shining bright, it watches all',\n",
       "   'Tuning in'],\n",
       "  'prob': 0.681780993938446,\n",
       "  'word': 'quiet'}]"
      ]
     },
     "execution_count": 22,
     "metadata": {},
     "output_type": "execute_result"
    }
   ],
   "source": [
    "# let's do a different animal\n",
    "write_acrostic(\"owl\", max_iter=10, verbose_thresh=2)"
   ]
  },
  {
   "cell_type": "markdown",
   "id": "ab18f0db-7d30-46d8-8d49-2ce6f0be9932",
   "metadata": {},
   "source": [
    "Results:\n",
    "```\n",
    "Silently swooping through the night\n",
    "Hooting softly, a gentle sound\n",
    "Alertly watching, with eyes so bright\n",
    "Ruling the darkness, all around\n",
    "Prowling quietly, with stealthy pace\n",
    "```\n",
    "and\n",
    "```\n",
    "Quietly, the owl's wings unfold\n",
    "Under the moon's silver glow\n",
    "In the darkness, it takes flight\n",
    "Eyes shining bright with wisdom's light\n",
    "Talons sharp, it soars with ease\n",
    "```"
   ]
  },
  {
   "cell_type": "code",
   "execution_count": null,
   "id": "fdfb2812-f4c4-4976-b110-667fc5e6840e",
   "metadata": {},
   "outputs": [],
   "source": []
  }
 ],
 "metadata": {
  "environment": {
   "kernel": "conda-base-py",
   "name": "workbench-notebooks.m126",
   "type": "gcloud",
   "uri": "us-docker.pkg.dev/deeplearning-platform-release/gcr.io/workbench-notebooks:m126"
  },
  "kernelspec": {
   "display_name": "Python 3 (ipykernel) (Local)",
   "language": "python",
   "name": "conda-base-py"
  },
  "language_info": {
   "codemirror_mode": {
    "name": "ipython",
    "version": 3
   },
   "file_extension": ".py",
   "mimetype": "text/x-python",
   "name": "python",
   "nbconvert_exporter": "python",
   "pygments_lexer": "ipython3",
   "version": "3.10.15"
  }
 },
 "nbformat": 4,
 "nbformat_minor": 5
}
