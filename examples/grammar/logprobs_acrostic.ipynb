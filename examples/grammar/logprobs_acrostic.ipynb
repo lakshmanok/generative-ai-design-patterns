{
 "cells": [
  {
   "cell_type": "markdown",
   "id": "f7fe5eda-a9fe-45de-8179-5ebc341d8de4",
   "metadata": {
    "tags": []
   },
   "source": [
    "## Using logprobs to ensure that an acrostic poem is generated"
   ]
  },
  {
   "cell_type": "code",
   "execution_count": 5,
   "id": "378cf8e6-23f7-4442-842f-98f027a18e34",
   "metadata": {
    "tags": []
   },
   "outputs": [
    {
     "name": "stdout",
     "output_type": "stream",
     "text": [
      "Note: you may need to restart the kernel to use updated packages.\n"
     ]
    }
   ],
   "source": [
    "%pip install --upgrade --quiet transformers torch fbgemm-gpu accelerate"
   ]
  },
  {
   "cell_type": "code",
   "execution_count": 2,
   "id": "2726632e-9ac0-4ba9-b86b-11bd57012b62",
   "metadata": {
    "tags": []
   },
   "outputs": [],
   "source": [
    "# CHANGE this to the Llama model for which you have applied for access via Hugging Face\n",
    "# See: https://www.llama.com/docs/getting-the-models/hugging-face/\n",
    "MODEL_ID = \"meta-llama/Llama-3.1-8B\""
   ]
  },
  {
   "cell_type": "code",
   "execution_count": 3,
   "id": "883fd51a-6bfd-4788-a405-9b2e89dbe656",
   "metadata": {
    "tags": []
   },
   "outputs": [],
   "source": [
    "import os\n",
    "from dotenv import load_dotenv\n",
    "load_dotenv(\"../keys.env\")\n",
    "assert os.environ[\"HF_TOKEN\"][:2] == \"hf\",\\\n",
    "       \"Please sign up for access to the specific Llama model via HuggingFace and provide access token in keys.env file\""
   ]
  },
  {
   "cell_type": "markdown",
   "id": "1ca557ff-ee75-46fa-9d0b-70f928008f05",
   "metadata": {},
   "source": [
    "## Zero-shot generation\n"
   ]
  },
  {
   "cell_type": "code",
   "execution_count": 4,
   "id": "30d81f88-3548-40cb-9c67-95c0249dd505",
   "metadata": {
    "tags": []
   },
   "outputs": [],
   "source": [
    "acrostic_prompt=\"\"\"\n",
    "Write an acrostic poem explaining what design patterns are.\n",
    "The first letters of the poem need to spell out 'Design Patterns'\n",
    "\"\"\""
   ]
  },
  {
   "cell_type": "code",
   "execution_count": null,
   "id": "91e470ee-e57b-4ec2-8edd-9f9317e55939",
   "metadata": {
    "tags": []
   },
   "outputs": [
    {
     "data": {
      "application/vnd.jupyter.widget-view+json": {
       "model_id": "7e8c5f5d966c4430a510841845ce5a6a",
       "version_major": 2,
       "version_minor": 0
      },
      "text/plain": [
       "Loading checkpoint shards:   0%|          | 0/4 [00:00<?, ?it/s]"
      ]
     },
     "metadata": {},
     "output_type": "display_data"
    }
   ],
   "source": [
    "from transformers import pipeline\n",
    "\n",
    "pipe = pipeline(\n",
    "    \"text-generation\", \n",
    "    model=MODEL_ID\n",
    ")\n",
    "\n",
    "pipe(acrostic_prompt)"
   ]
  },
  {
   "cell_type": "code",
   "execution_count": null,
   "id": "9e81b90f-dd36-4da5-8873-1ca8dd9e2b33",
   "metadata": {},
   "outputs": [],
   "source": []
  }
 ],
 "metadata": {
  "environment": {
   "kernel": "conda-base-py",
   "name": "workbench-notebooks.m126",
   "type": "gcloud",
   "uri": "us-docker.pkg.dev/deeplearning-platform-release/gcr.io/workbench-notebooks:m126"
  },
  "kernelspec": {
   "display_name": "Python 3 (ipykernel) (Local)",
   "language": "python",
   "name": "conda-base-py"
  },
  "language_info": {
   "codemirror_mode": {
    "name": "ipython",
    "version": 3
   },
   "file_extension": ".py",
   "mimetype": "text/x-python",
   "name": "python",
   "nbconvert_exporter": "python",
   "pygments_lexer": "ipython3",
   "version": "3.10.15"
  }
 },
 "nbformat": 4,
 "nbformat_minor": 5
}
