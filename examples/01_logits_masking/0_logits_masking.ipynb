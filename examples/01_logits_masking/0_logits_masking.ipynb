{
 "cells": [
  {
   "cell_type": "markdown",
   "id": "19f4b00e-59c2-4496-a0e5-cd10dff0f0eb",
   "metadata": {},
   "source": [
    "## Masking out continuations that do not fit generation goals\n",
    "\n",
    "We have a list of words that are forbidden, and another list of words that are brand words.\n",
    "Choose continuations that do not use the forbidden words, and maximize the use of brand words."
   ]
  },
  {
   "cell_type": "code",
   "execution_count": null,
   "id": "41664a72-3e67-4e57-9e6d-2a01ed7ed8bb",
   "metadata": {},
   "outputs": [],
   "source": [
    "#%pip install --upgrade --quiet transformers torch fbgemm-gpu accelerate"
   ]
  },
  {
   "cell_type": "code",
   "execution_count": 1,
   "id": "b078983c-cda3-46d0-8438-d284bc017b3c",
   "metadata": {
    "tags": []
   },
   "outputs": [],
   "source": [
    "# CHANGE this to the Llama model for which you have applied for access via Hugging Face\n",
    "# See: https://www.llama.com/docs/getting-the-models/hugging-face/\n",
    "MODEL_ID = \"meta-llama/Llama-3.2-3B-Instruct\"\n",
    "\n",
    "import os\n",
    "from dotenv import load_dotenv\n",
    "load_dotenv(\"../keys.env\")\n",
    "assert os.environ[\"HF_TOKEN\"][:2] == \"hf\",\\\n",
    "       \"Please sign up for access to the specific Llama model via HuggingFace and provide access token in keys.env file\""
   ]
  },
  {
   "cell_type": "markdown",
   "id": "cc5ee885-9c9f-461c-92c6-4a3bbafe26cf",
   "metadata": {},
   "source": [
    "## Word lists\n",
    "\n",
    "Set up the word lists.\n",
    "\n",
    "\"Banned words\" from https://channelkey.com/amazon-content-seo-and-optimization/400-restricted-amazon-keywords-the-most-comprehensive-list-youll-ever-need/"
   ]
  },
  {
   "cell_type": "code",
   "execution_count": 2,
   "id": "03825b1a-e224-4874-8c89-fae4fa849313",
   "metadata": {
    "tags": []
   },
   "outputs": [
    {
     "data": {
      "text/plain": [
       "['decomposable', 'definitive', 'degradable', 'dementia', 'depression']"
      ]
     },
     "execution_count": 2,
     "metadata": {},
     "output_type": "execute_result"
    }
   ],
   "source": [
    "# From https://channelkey.com/amazon-content-seo-and-optimization/400-restricted-amazon-keywords-the-most-comprehensive-list-youll-ever-need/\n",
    "with open(\"banned_phrases.txt\") as ifp:\n",
    "    banned_phrases = [line.strip().lower() for line in ifp.readlines()]\n",
    "banned_phrases[100:105]"
   ]
  },
  {
   "cell_type": "code",
   "execution_count": 3,
   "id": "f296ff6e-770c-4997-b4cb-838b0bb3b556",
   "metadata": {
    "tags": []
   },
   "outputs": [
    {
     "data": {
      "text/plain": [
       "['nutrition', 'calorie deficit', 'diet', 'protein shake', 'paleo diet']"
      ]
     },
     "execution_count": 3,
     "metadata": {},
     "output_type": "execute_result"
    }
   ],
   "source": [
    "# Based on https://marketkeep.com/seo-keywords-for-nutrition/\n",
    "with open(\"desired_phrases.txt\") as ifp:\n",
    "    desired_phrases = [line.strip().lower() for line in ifp.readlines()]\n",
    "desired_phrases[:5]"
   ]
  },
  {
   "cell_type": "code",
   "execution_count": 4,
   "id": "f0ad9a3f-7e46-4b33-bd28-c74cc3c8b0dd",
   "metadata": {
    "tags": []
   },
   "outputs": [],
   "source": [
    "# makes unique\n",
    "banned_phrases = set(banned_phrases)\n",
    "desired_phrases = set(desired_phrases)"
   ]
  },
  {
   "cell_type": "markdown",
   "id": "c7717ded-01ba-4fa2-b1c4-44b342cc0ab6",
   "metadata": {},
   "source": [
    "## Zero-shot generation\n",
    "\n",
    "Without any logits processing"
   ]
  },
  {
   "cell_type": "code",
   "execution_count": 5,
   "id": "e6cad70f-b88b-4b35-98fd-d9be4b64f268",
   "metadata": {
    "tags": []
   },
   "outputs": [
    {
     "data": {
      "application/vnd.jupyter.widget-view+json": {
       "model_id": "3718c4b992404884b83758735f01800f",
       "version_major": 2,
       "version_minor": 0
      },
      "text/plain": [
       "Loading checkpoint shards:   0%|          | 0/2 [00:00<?, ?it/s]"
      ]
     },
     "metadata": {},
     "output_type": "display_data"
    },
    {
     "name": "stderr",
     "output_type": "stream",
     "text": [
      "Device set to use cuda:0\n"
     ]
    }
   ],
   "source": [
    "from transformers import pipeline\n",
    "\n",
    "pipe = pipeline(\n",
    "    task=\"text-generation\", \n",
    "    model=MODEL_ID,\n",
    "    use_fast=True,\n",
    "    kwargs={\n",
    "        \"return_full_text\": False,\n",
    "    },\n",
    "    model_kwargs={}\n",
    ")"
   ]
  },
  {
   "cell_type": "code",
   "execution_count": 6,
   "id": "2b573da4-bf5e-4853-b5de-8d7e80fa4337",
   "metadata": {
    "tags": []
   },
   "outputs": [
    {
     "name": "stderr",
     "output_type": "stream",
     "text": [
      "Setting `pad_token_id` to `eos_token_id`:128001 for open-end generation.\n"
     ]
    },
    {
     "name": "stdout",
     "output_type": "stream",
     "text": [
      "**Optimize Your Fitness with Our High-Quality Protein Drink**\n",
      "\n",
      "Stay focused and energized with our premium protein drink, designed to support muscle growth and recovery. Made with 20 grams of whey protein isolate, 5 grams of branched-chain amino acids (BCAAs), and essential vitamins, this drink helps to fuel your active lifestyle. With no artificial flavors or sweeteners, you can trust that you're getting a pure and effective supplement to support your fitness goals. Enjoy the taste and benefits of our protein drink as part of your daily routine.\n"
     ]
    }
   ],
   "source": [
    "def generate_product_description(item: str) -> str:\n",
    "    system_prompt = f\"\"\"\n",
    "        You are a product marketer for a company that makes nutrition supplements.\n",
    "        Balance your product descriptions to attract customers, optimize SEO, and\n",
    "        stay within accurate advertising guidelines.\n",
    "        Product descriptions have to be 3-5 sentences.\n",
    "        Provide only the product description with no preamble.\n",
    "    \"\"\"\n",
    "    user_prompt = f\"\"\"\n",
    "        Write a product description for a {item}.\n",
    "    \"\"\"\n",
    "\n",
    "    input_message = [\n",
    "            {\"role\": \"system\", \"content\": system_prompt},\n",
    "            {\"role\": \"user\", \"content\": user_prompt}   \n",
    "    ]\n",
    "    \n",
    "    results = pipe(input_message, \n",
    "                   max_new_tokens=512)\n",
    "    return results[0]['generated_text'][-1]['content'].strip()\n",
    "\n",
    "prod = generate_product_description(\"protein drink\")\n",
    "print(prod)"
   ]
  },
  {
   "cell_type": "markdown",
   "id": "4adfecc3-55c7-4059-94bc-eae29d982cab",
   "metadata": {},
   "source": [
    "Result:\n",
    "```\n",
    "**Optimize Your Fitness with Our High-Quality Protein Drink**\n",
    "\n",
    "Stay focused and energized with our premium protein drink, designed to support muscle growth and recovery. Made with 20 grams of whey protein isolate, 5 grams of branched-chain amino acids (BCAAs), and essential vitamins, this drink helps to fuel your active lifestyle. With no artificial flavors or sweeteners, you can trust that you're getting a pure and effective supplement to support your fitness goals. Enjoy the taste and benefits of our protein drink as part of your daily routine.\n",
    "```"
   ]
  },
  {
   "cell_type": "code",
   "execution_count": 16,
   "id": "30973e3a-eb17-4571-a83e-4656249cdf99",
   "metadata": {
    "tags": []
   },
   "outputs": [
    {
     "name": "stdout",
     "output_type": "stream",
     "text": [
      "Good: whey\n",
      "Good: whey protein\n",
      "Bad: quality\n",
      "Bad: growth\n",
      "Bad: pure\n",
      "Bad: used\n",
      "Good: 2   Bad: 4\n"
     ]
    },
    {
     "data": {
      "text/plain": [
       "-2"
      ]
     },
     "execution_count": 16,
     "metadata": {},
     "output_type": "execute_result"
    }
   ],
   "source": [
    "import numpy as np\n",
    "\n",
    "def evaluate(descr: str, positives, negatives) -> int:\n",
    "    # go through and count the number of desired phrases and banned phrases\n",
    "    descr = descr.lower()\n",
    "    num_positive = np.sum([1 for phrase in positives if phrase in descr])\n",
    "    num_negative = np.sum([1 for phrase in negatives if phrase in descr])\n",
    "    return int(num_positive - num_negative)\n",
    "\n",
    "def evaluate_verbose(descr: str, positives, negatives) -> int:\n",
    "    # go through and count the number of desired phrases and banned phrases\n",
    "    descr = descr.lower()\n",
    "    \n",
    "    num_positive = num_negative = 0\n",
    "    for phrase in positives:\n",
    "        if phrase in descr:\n",
    "            num_positive += 1\n",
    "            print(f\"Good: {phrase}\")\n",
    "    for phrase in negatives:\n",
    "        if phrase in descr:\n",
    "            num_negative += 1\n",
    "            print(f\"Bad: {phrase}\")\n",
    "    print(f\"Good: {num_positive}   Bad: {num_negative}\")\n",
    "    return num_positive - num_negative\n",
    "\n",
    "evaluate_verbose(prod, desired_phrases, banned_phrases)"
   ]
  },
  {
   "cell_type": "code",
   "execution_count": 17,
   "id": "cf076505-0606-4a46-81c9-f7fd8689b9bb",
   "metadata": {
    "tags": []
   },
   "outputs": [
    {
     "data": {
      "text/plain": [
       "-2"
      ]
     },
     "execution_count": 17,
     "metadata": {},
     "output_type": "execute_result"
    }
   ],
   "source": [
    "evaluate(prod, desired_phrases, banned_phrases)"
   ]
  },
  {
   "cell_type": "markdown",
   "id": "cd1d262c-edd8-40e7-8441-9cfc8f8dd1f7",
   "metadata": {},
   "source": [
    "## Use logits processing to enhance the product description\n",
    "\n",
    "We'll use the same prompt, but use logits processing to upvote/downvote specific words"
   ]
  },
  {
   "cell_type": "code",
   "execution_count": 18,
   "id": "ddad926f-2822-47ea-88c5-db42c8316e4c",
   "metadata": {
    "tags": []
   },
   "outputs": [],
   "source": [
    "import torch\n",
    "import numpy as np\n",
    "from transformers.generation.logits_process import (\n",
    "    LogitsProcessor,\n",
    "    LOGITS_PROCESSOR_INPUTS_DOCSTRING,\n",
    ")\n",
    "from transformers.utils import add_start_docstrings\n",
    "\n",
    "class BrandLogitsProcessor(LogitsProcessor):\n",
    "    def __init__(self, tokenizer, positives, negatives):\n",
    "        self.tokenizer = tokenizer\n",
    "        self.positives = positives\n",
    "        self.negatives = negatives\n",
    "      \n",
    "    @add_start_docstrings(LOGITS_PROCESSOR_INPUTS_DOCSTRING)\n",
    "    def __call__(\n",
    "        self, input_ids: torch.LongTensor, input_logits: torch.FloatTensor\n",
    "    ) -> torch.FloatTensor:\n",
    "        output_logits = input_logits.clone()\n",
    "            \n",
    "        num_matches = [0] * len(input_ids)\n",
    "        for idx, seq in enumerate(input_ids):\n",
    "            # decode the sequence\n",
    "            decoded = self.tokenizer.decode(seq)\n",
    "            num_matches[idx] = evaluate(decoded, self.positives, self.negatives)\n",
    "        max_matches = np.max(num_matches)\n",
    "          \n",
    "        # logits goes from -inf to zero.  Mask out the non-max sequences; torch doesn't like it to be -np.inf\n",
    "        for idx in range(len(input_ids)):\n",
    "            if num_matches[idx] != max_matches:\n",
    "                output_logits[idx] = -10000\n",
    "                  \n",
    "        return output_logits"
   ]
  },
  {
   "cell_type": "code",
   "execution_count": 21,
   "id": "6ef0ee7d-e7f9-4354-b511-958d53a7ecf8",
   "metadata": {
    "tags": []
   },
   "outputs": [
    {
     "name": "stderr",
     "output_type": "stream",
     "text": [
      "Setting `pad_token_id` to `eos_token_id`:128001 for open-end generation.\n"
     ]
    },
    {
     "name": "stdout",
     "output_type": "stream",
     "text": [
      "\"Fuel your active lifestyle with our premium protein drink, packed with 20 grams of whey protein, 10 grams of branched-chain amino acids (BCAAs), and essential vitamins and minerals to support muscle recovery and overall well-being. Our unique blend of whey protein isolate and micellar casein provides a sustained release of nutrients, helping to build and repair muscle tissue. With no artificial flavors or sweeteners, our protein drink is a guilt-free way to support your fitness goals. Enjoy the taste of a refreshing beverage while nourishing your body with the nutrients it needs to thrive.\"\n"
     ]
    }
   ],
   "source": [
    "def generate_product_description_v2(item: str) -> str:\n",
    "    system_prompt = f\"\"\"\n",
    "        You are a product marketer for a company that makes nutrition supplements.\n",
    "        Balance your product descriptions to attract customers, optimize SEO, and\n",
    "        stay within accurate advertising guidelines.\n",
    "        Product descriptions have to be 3-5 sentences.\n",
    "        Provide only the product description with no preamble.\n",
    "    \"\"\"\n",
    "    user_prompt = f\"\"\"\n",
    "        Write a product description for a {item}.\n",
    "    \"\"\"\n",
    "    \n",
    "    input_message = [\n",
    "            {\"role\": \"system\", \"content\": system_prompt},\n",
    "            {\"role\": \"user\", \"content\": user_prompt}   \n",
    "    ]\n",
    "    \n",
    "    # alliterate on the first letter of the animal. So, donkey would be D\n",
    "    brand_processor = BrandLogitsProcessor(pipe.tokenizer, desired_phrases, banned_phrases)\n",
    "    \n",
    "    results = pipe(input_message, \n",
    "                   max_new_tokens=512,\n",
    "                   do_sample=True,\n",
    "                   temperature=0.8,\n",
    "                   num_beams=10,\n",
    "                   use_cache=True, # default is True\n",
    "                   logits_processor=[brand_processor])\n",
    "    return results[0]['generated_text'][-1]['content'].strip()\n",
    "\n",
    "prod = generate_product_description_v2(\"protein drink\")\n",
    "print(prod)"
   ]
  },
  {
   "cell_type": "markdown",
   "id": "11412660-ac2e-4925-94d4-957f7bb715ea",
   "metadata": {},
   "source": [
    "Result:\n",
    "```\n",
    "Fuel your active lifestyle with our premium protein drink, packed with 20 grams of whey protein, 10 grams of branched-chain amino acids (BCAAs), and essential vitamins and minerals to support muscle recovery and overall well-being. Our unique blend of whey protein isolate and micellar casein provides a sustained release of nutrients, helping to build and repair muscle tissue. With no artificial flavors or sweeteners, our protein drink is a guilt-free way to support your fitness goals. Enjoy the taste of a refreshing beverage while nourishing your body with the nutrients it needs to thrive.\n",
    "```"
   ]
  },
  {
   "cell_type": "code",
   "execution_count": 23,
   "id": "58154506-ff85-41dc-a436-6364283b9a52",
   "metadata": {},
   "outputs": [
    {
     "name": "stdout",
     "output_type": "stream",
     "text": [
      "Good: whey\n",
      "Good: nutrients\n",
      "Good: whey protein\n",
      "Good: 3   Bad: 0\n"
     ]
    },
    {
     "data": {
      "text/plain": [
       "3"
      ]
     },
     "execution_count": 23,
     "metadata": {},
     "output_type": "execute_result"
    }
   ],
   "source": [
    "evaluate_verbose(prod, desired_phrases, banned_phrases)"
   ]
  },
  {
   "cell_type": "code",
   "execution_count": null,
   "id": "7d83f882-573d-44b0-9256-1882b6620a56",
   "metadata": {},
   "outputs": [],
   "source": []
  }
 ],
 "metadata": {
  "environment": {
   "kernel": "conda-base-py",
   "name": "workbench-notebooks.m126",
   "type": "gcloud",
   "uri": "us-docker.pkg.dev/deeplearning-platform-release/gcr.io/workbench-notebooks:m126"
  },
  "kernelspec": {
   "display_name": "Python 3 (ipykernel) (Local)",
   "language": "python",
   "name": "conda-base-py"
  },
  "language_info": {
   "codemirror_mode": {
    "name": "ipython",
    "version": 3
   },
   "file_extension": ".py",
   "mimetype": "text/x-python",
   "name": "python",
   "nbconvert_exporter": "python",
   "pygments_lexer": "ipython3",
   "version": "3.10.15"
  }
 },
 "nbformat": 4,
 "nbformat_minor": 5
}
