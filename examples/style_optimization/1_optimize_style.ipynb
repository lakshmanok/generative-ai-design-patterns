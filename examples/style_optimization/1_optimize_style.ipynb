{
 "cells": [
  {
   "cell_type": "markdown",
   "id": "62246b6b-17c0-4387-b27c-8a435e7b93d5",
   "metadata": {},
   "source": [
    "## Using Direct Preference Optimization on a preference dataset\n"
   ]
  },
  {
   "cell_type": "code",
   "execution_count": 1,
   "id": "b6c3366b-dd37-4526-aeb7-7cfc7a7b92ae",
   "metadata": {
    "tags": []
   },
   "outputs": [],
   "source": [
    "#%pip install --quiet transformers trl"
   ]
  },
  {
   "cell_type": "code",
   "execution_count": 4,
   "id": "6c55dd0d-3df9-43ad-aa88-bd2776265b2d",
   "metadata": {
    "tags": []
   },
   "outputs": [],
   "source": [
    "from datasets import load_dataset\n",
    "from trl import DPOConfig, DPOTrainer\n",
    "from transformers import AutoModelForCausalLM, AutoTokenizer\n",
    "\n",
    "train_dataset = load_dataset('json', data_files=\"ad_preference_dataset.jsonl\", split='train')"
   ]
  },
  {
   "cell_type": "code",
   "execution_count": 2,
   "id": "9f330a81-16c4-402b-babe-25db0b24ca38",
   "metadata": {},
   "outputs": [
    {
     "data": {
      "application/vnd.jupyter.widget-view+json": {
       "model_id": "4290c6cccd5d468193d0a8fbc3c6bd79",
       "version_major": 2,
       "version_minor": 0
      },
      "text/plain": [
       "generation_config.json:   0%|          | 0.00/242 [00:00<?, ?B/s]"
      ]
     },
     "metadata": {},
     "output_type": "display_data"
    },
    {
     "data": {
      "application/vnd.jupyter.widget-view+json": {
       "model_id": "d7c68323b1984c3e834106e68d11d149",
       "version_major": 2,
       "version_minor": 0
      },
      "text/plain": [
       "tokenizer_config.json:   0%|          | 0.00/1.29k [00:00<?, ?B/s]"
      ]
     },
     "metadata": {},
     "output_type": "display_data"
    },
    {
     "data": {
      "application/vnd.jupyter.widget-view+json": {
       "model_id": "e8cb2b6f66004d3eaff651f42b4f5e54",
       "version_major": 2,
       "version_minor": 0
      },
      "text/plain": [
       "vocab.json:   0%|          | 0.00/2.78M [00:00<?, ?B/s]"
      ]
     },
     "metadata": {},
     "output_type": "display_data"
    },
    {
     "data": {
      "application/vnd.jupyter.widget-view+json": {
       "model_id": "9f3facf394424d75a66bfbcf508541f6",
       "version_major": 2,
       "version_minor": 0
      },
      "text/plain": [
       "merges.txt:   0%|          | 0.00/1.67M [00:00<?, ?B/s]"
      ]
     },
     "metadata": {},
     "output_type": "display_data"
    },
    {
     "data": {
      "application/vnd.jupyter.widget-view+json": {
       "model_id": "fd31ae85d27b4fa7a71f5e9c8200a65c",
       "version_major": 2,
       "version_minor": 0
      },
      "text/plain": [
       "tokenizer.json:   0%|          | 0.00/7.03M [00:00<?, ?B/s]"
      ]
     },
     "metadata": {},
     "output_type": "display_data"
    }
   ],
   "source": [
    "model = AutoModelForCausalLM.from_pretrained(\"Qwen/Qwen2-0.5B-Instruct\")\n",
    "tokenizer = AutoTokenizer.from_pretrained(\"Qwen/Qwen2-0.5B-Instruct\")"
   ]
  },
  {
   "cell_type": "code",
   "execution_count": 5,
   "id": "3aab82da-ce2e-41a1-b405-8ccd2e0b5648",
   "metadata": {
    "tags": []
   },
   "outputs": [
    {
     "data": {
      "text/html": [
       "\n",
       "    <div>\n",
       "      \n",
       "      <progress value='39' max='39' style='width:300px; height:20px; vertical-align: middle;'></progress>\n",
       "      [39/39 00:59, Epoch 3/3]\n",
       "    </div>\n",
       "    <table border=\"1\" class=\"dataframe\">\n",
       "  <thead>\n",
       " <tr style=\"text-align: left;\">\n",
       "      <th>Step</th>\n",
       "      <th>Training Loss</th>\n",
       "    </tr>\n",
       "  </thead>\n",
       "  <tbody>\n",
       "    <tr>\n",
       "      <td>10</td>\n",
       "      <td>0.700500</td>\n",
       "    </tr>\n",
       "    <tr>\n",
       "      <td>20</td>\n",
       "      <td>0.389000</td>\n",
       "    </tr>\n",
       "    <tr>\n",
       "      <td>30</td>\n",
       "      <td>0.289200</td>\n",
       "    </tr>\n",
       "  </tbody>\n",
       "</table><p>"
      ],
      "text/plain": [
       "<IPython.core.display.HTML object>"
      ]
     },
     "metadata": {},
     "output_type": "display_data"
    },
    {
     "data": {
      "text/plain": [
       "TrainOutput(global_step=39, training_loss=0.4227473735809326, metrics={'train_runtime': 62.1262, 'train_samples_per_second': 4.829, 'train_steps_per_second': 0.628, 'total_flos': 0.0, 'train_loss': 0.4227473735809326, 'epoch': 3.0})"
      ]
     },
     "execution_count": 5,
     "metadata": {},
     "output_type": "execute_result"
    }
   ],
   "source": [
    "training_args = DPOConfig(output_dir=\"Qwen2-0.5B-DPO\", logging_steps=10)\n",
    "trainer = DPOTrainer(model=model, args=training_args, processing_class=tokenizer, train_dataset=train_dataset)\n",
    "trainer.train()"
   ]
  },
  {
   "cell_type": "code",
   "execution_count": 6,
   "id": "aacba1dd-f9e4-4f89-a434-9b87812e3edd",
   "metadata": {
    "tags": []
   },
   "outputs": [],
   "source": [
    "trainer.save_model(training_args.output_dir)"
   ]
  },
  {
   "cell_type": "markdown",
   "id": "fc110254-aa2f-46c5-a927-71866c91bd71",
   "metadata": {
    "tags": []
   },
   "source": [
    "## Try out the trained model"
   ]
  },
  {
   "cell_type": "code",
   "execution_count": 9,
   "id": "1261190f-a4d3-4106-8459-9d3445f4549f",
   "metadata": {
    "tags": []
   },
   "outputs": [],
   "source": [
    "from transformers import AutoModelForCausalLM, AutoTokenizer\n",
    "\n",
    "model = AutoModelForCausalLM.from_pretrained(\"Qwen2-0.5B-DPO\")"
   ]
  },
  {
   "cell_type": "code",
   "execution_count": 10,
   "id": "2dca6ef6-4eba-40fd-acba-50063ec05df8",
   "metadata": {
    "tags": []
   },
   "outputs": [],
   "source": [
    "tokenizer = AutoTokenizer.from_pretrained(\"Qwen/Qwen2-0.5B-Instruct\")"
   ]
  },
  {
   "cell_type": "code",
   "execution_count": 15,
   "id": "d79e7bd4-d78a-4e8b-a97d-b09169a96fb2",
   "metadata": {
    "tags": []
   },
   "outputs": [
    {
     "name": "stderr",
     "output_type": "stream",
     "text": [
      "Device set to use cuda:0\n"
     ]
    }
   ],
   "source": [
    "from transformers import pipeline\n",
    "\n",
    "generator = pipeline(task=\"text-generation\", model=model, tokenizer=tokenizer)"
   ]
  },
  {
   "cell_type": "code",
   "execution_count": 17,
   "id": "eb554a31-53ae-4c3c-bc01-d7e39be60c9d",
   "metadata": {
    "tags": []
   },
   "outputs": [
    {
     "name": "stderr",
     "output_type": "stream",
     "text": [
      "Truncation was not explicitly activated but `max_length` is provided a specific value, please use `truncation=True` to explicitly truncate examples to max length. Defaulting to 'longest_first' truncation strategy. If you encode pairs of sequences (GLUE-style) with the tokenizer you can select this strategy more precisely by providing a specific strategy to `truncation`.\n"
     ]
    },
    {
     "data": {
      "text/plain": [
       "[{'generated_text': 'Selling used, unmarked copy of Min Jin Lee\\'s Pachinko at $500.\\nPachinko machines have been around for a long time and they are still very popular. In fact, many people in Japan love to play them. The game has become so popular that it is even sold on eBay.\\nThe Pachinko machine is a device which consists of an inner box and an outer box. Inside the inner box there are ten pachinkos. Each pachinko is made of a single coin with a small hole in it. When you pull out one of these coins from the inside of the machine, the coin will fall out onto the outside of the machine. There are four different kinds of pachinkos on the inside of the machine. You can pick any kind of pachinko and then put it back into the machine.\\nThere are several ways to play this game. First, you have to make sure that you don\\'t get all your money lost when you play. This means that you need to keep track of how much money you\\'ve spent each turn. If you spend more than 100 yen (about US$1) on each turn, you will lose some of your money. It\\'s also important to remember that if you get all your money lost, you won\\'t be able to win again until you start winning again. So, in order to win, you need to make sure that you\\'re not getting all your money lost every turn.\\nIn addition to losing money, you may also want to try playing the game in a different way. For example, you could try making sure that you have enough money before starting the game. Or, you could try trying to beat other players by playing against them. Another idea would be to try playing the game online.\\nIf you\\'re interested in playing the game, you should check out the website for more information about the game. You can find out more about the history of the game, as well as the different types of pachinkos and the rules of the game. You\\'ll also want to know what the payout is for each type of pachinko. Finally, you should check out the website for reviews of the game, so you can decide whether or not it\\'s worth playing.\\nCan I buy a Pachinko machine?\\nYes, you can buy a Pachinko machine. There are many different types of Pachinko machines available for purchase, including the classic Japanese model, which is known as the \"Kokushi\" model. These machines are typically sold at pawn shops or flea markets, and they often come with a certificate of authenticity. However, some sellers may charge higher prices for their Pachinko machines, so it\\'s best to shop around and compare prices before making a decision. Additionally, you should always read up on the seller\\'s reputation and customer reviews before buying from them.\\nWhat is the Pachinko game like?\\nIt\\'s a game that involves spinning reels on a rotating cylinder and spinning balls on a spinning wheel. Players spin the reels to spin the ball, while spinning the wheel to land on certain symbols on the reels. The goal of the game is to collect all the symbols on the reels, either by landing on the winning symbol or by collecting enough winnings to cover the cost of a new reel.\\nWhy do people play Pachinko?\\nPachinko is a popular Japanese game that originated in Japan in the 1940s. It is played using a pachinko machine, which is a device that consists of an inner box and an outer box. Inside the inner box are ten pachinkos, each with a small hole in it. When you pull out one of these coins from the inside of the machine, the coin falls out onto the outside of the machine. There are four different kinds of pachinkos on the inside of the machine. You can pick any kind of pachinko and then put it back into the machine.\\nHow do I play Pachinko?\\nTo play Pachinko, you must first select a card from the deck of cards. Then, you must place your bet on the card. After placing your bet, you must spin the reels on the pachinko machine. If the card lands on the winning symbol, you win the bet. If the card doesn\\'t land on the winning symbol, you lose the bet.\\nCan you play Pachinko online?\\nNo, you cannot play Pachinko online. Online casinos are only accessible to players who live in countries where gambling is legal. Some online casinos offer games such as blackjack, roulette, and poker, but they do not offer games like Pachinko. Instead, they offer games like slots and video poker. However, it is still possible to play Pachinko online through a variety of'}]"
      ]
     },
     "execution_count": 17,
     "metadata": {},
     "output_type": "execute_result"
    }
   ],
   "source": [
    "generator(\"Selling used, unmarked copy of Min Jin Lee's Pachinko at $5\", max_length=1000)"
   ]
  },
  {
   "cell_type": "code",
   "execution_count": null,
   "id": "7c1ff8bf-c480-422e-ad35-64f2e5a0e284",
   "metadata": {},
   "outputs": [],
   "source": []
  }
 ],
 "metadata": {
  "environment": {
   "kernel": "conda-base-py",
   "name": "workbench-notebooks.m126",
   "type": "gcloud",
   "uri": "us-docker.pkg.dev/deeplearning-platform-release/gcr.io/workbench-notebooks:m126"
  },
  "kernelspec": {
   "display_name": "Python 3 (ipykernel) (Local)",
   "language": "python",
   "name": "conda-base-py"
  },
  "language_info": {
   "codemirror_mode": {
    "name": "ipython",
    "version": 3
   },
   "file_extension": ".py",
   "mimetype": "text/x-python",
   "name": "python",
   "nbconvert_exporter": "python",
   "pygments_lexer": "ipython3",
   "version": "3.10.15"
  }
 },
 "nbformat": 4,
 "nbformat_minor": 5
}
