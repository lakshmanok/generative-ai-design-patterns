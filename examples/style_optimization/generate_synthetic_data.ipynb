{
 "cells": [
  {
   "cell_type": "markdown",
   "id": "098f7e3d-edaf-4d4b-af0e-9880d1c5c22b",
   "metadata": {},
   "source": [
    "## Generate synthetic data for DPO\n",
    "\n",
    "This notebook creates a synthetic dataset of classified ads and scores them in pairs."
   ]
  },
  {
   "cell_type": "code",
   "execution_count": 1,
   "id": "8a83288c-a409-4376-895b-83820fda0785",
   "metadata": {
    "tags": []
   },
   "outputs": [],
   "source": [
    "#%pip install --upgrade --quiet google-genai transformers"
   ]
  },
  {
   "cell_type": "code",
   "execution_count": 1,
   "id": "30b179c4-3d2e-458f-acdf-c516f4b88bbb",
   "metadata": {
    "tags": []
   },
   "outputs": [],
   "source": [
    "# MODEL_ID = \"meta-llama/Llama-3.2-3B-Instruct\"\n",
    "MODEL_ID = \"Qwen/Qwen2-0.5B-Instruct\"\n",
    "\n",
    "import os\n",
    "from dotenv import load_dotenv\n",
    "load_dotenv(\"../keys.env\")\n",
    "assert os.environ[\"HF_TOKEN\"][:2] == \"hf\",\\\n",
    "       \"Please sign up for access to the specific Llama model via HuggingFace and provide access token in keys.env file\"\n",
    "\n",
    "os.environ['PYTORCH_CUDA_ALLOC_CONF']='expandable_segments:True'"
   ]
  },
  {
   "cell_type": "code",
   "execution_count": 2,
   "id": "52c18233-a06b-4a5d-9a0a-7c1403ba69c6",
   "metadata": {
    "tags": []
   },
   "outputs": [
    {
     "name": "stderr",
     "output_type": "stream",
     "text": [
      "Device set to use cuda:0\n"
     ]
    }
   ],
   "source": [
    "from transformers import pipeline\n",
    "\n",
    "pipe = pipeline(\n",
    "    task=\"text-generation\", \n",
    "    model=MODEL_ID,\n",
    "    use_fast=True,\n",
    "    kwargs={\n",
    "        \"return_full_text\": False,\n",
    "    },\n",
    "    model_kwargs={}\n",
    ")"
   ]
  },
  {
   "cell_type": "code",
   "execution_count": 6,
   "id": "a2320a3d-3b54-4a70-bd32-65aad66ee2b1",
   "metadata": {
    "tags": []
   },
   "outputs": [],
   "source": [
    "SYSTEM_PROMPT=f\"\"\"\n",
    "        You are a resident who is listing a used item for sale on a neighborhood online group.\n",
    "        An ad for used items in this neighborhood group is 1-3 sentences. \n",
    "\"\"\""
   ]
  },
  {
   "cell_type": "markdown",
   "id": "5d1acc62-5507-4ef0-82b9-9f28dc8d0e8c",
   "metadata": {},
   "source": [
    "## Create an ad for an item"
   ]
  },
  {
   "cell_type": "code",
   "execution_count": 7,
   "id": "d0f772d3-a081-41c6-bf09-3db6361583b3",
   "metadata": {
    "tags": []
   },
   "outputs": [
    {
     "data": {
      "text/plain": [
       "'Ad Title: \"Welcome to the Adventure with our Specialized Bike!\"\\n\\nSpecialized bikes have been a favorite among mountain bikers for years, and they\\'re here again! Our latest model, the Specialized 3-Year Old, offers unparalleled performance and durability. This bike has been designed with safety and comfort in mind, making it perfect for beginners or seasoned riders alike.\\n\\nThe 3-Year Old features a sleek and lightweight frame that allows you to enjoy your rides without feeling like you\\'re carrying a heavy load. The sturdy handlebars provide great control while pedaling, ensuring a smooth ride. The quick release system makes it easy to change the chain if needed, which is a must-have feature for any serious rider.\\n\\nIn addition to its impressive performance, the 3-Year Old comes equipped with all the necessary components for a long-lasting adventure. It includes a high-quality carbon fork, a durable headset, and a set of tires made from high-quality materials. These components work together seamlessly to ensure a comfortable and enjoyable ride every time you take the road.\\n\\nDon\\'t miss out on this opportunity to upgrade your bike collection. Visit us today and experience the thrill of riding on the open road with the Specialized 3-Year Old. We guarantee you\\'ll love it as much as we do'"
      ]
     },
     "execution_count": 7,
     "metadata": {},
     "output_type": "execute_result"
    }
   ],
   "source": [
    "import random\n",
    "def create_classified_ad(item: str, price: str) -> str:\n",
    "    system_prompt = SYSTEM_PROMPT\n",
    "    user_prompt = f\"\"\"\n",
    "        Write an ad to sell a {item} priced at {price}\n",
    "    \"\"\"\n",
    "\n",
    "    input_message = [\n",
    "            {\"role\": \"system\", \"content\": system_prompt},\n",
    "            {\"role\": \"user\", \"content\": user_prompt}   \n",
    "    ]\n",
    "    \n",
    "    results = pipe(input_message, \n",
    "                   max_new_tokens=256,\n",
    "                   temperature=random.uniform(0.2, 0.9),\n",
    "                   pad_token_id=pipe.tokenizer.eos_token_id\n",
    "                  )\n",
    "    return results[0]['generated_text'][-1]['content'].strip()\n",
    "\n",
    "example_ad1 = create_classified_ad(\"3-year old Specialized bike\", \"$300\")\n",
    "example_ad1"
   ]
  },
  {
   "cell_type": "code",
   "execution_count": 8,
   "id": "7fb0e63a-f130-4eb3-9d67-4d4e48f361cb",
   "metadata": {
    "tags": []
   },
   "outputs": [
    {
     "data": {
      "text/plain": [
       "'Ad Title: \"Find the Perfect Bike for Your Kids - Specialized!\"\\n\\nSpecialized, one of the leading brands in mountain biking, has a great selection of bikes available for purchase! Our 3-year-old Specialized bike is priced at $300 and comes with all the necessary components for a fun and safe ride.\\n\\nOur bikes are designed with durability in mind, ensuring that your kids can enjoy their time on the trails without any worries about breaking or losing them. The sturdy frame and durable wheels make it easy for you to navigate through the mountains, while the comfortable seat and padded handlebars provide comfort during long rides.\\n\\nWith our 3-year-old Specialized bike, you can be sure that your kids will have a blast exploring the outdoors. It\\'s perfect for families looking for a reliable and affordable option for their children\\'s outdoor adventures.\\n\\nDon\\'t miss out on this opportunity to get a high-quality bike for your kids! Visit us today to see our selection and place your order!\\n\\nThank you for considering our 3-year-old Specialized bike. We look forward to hearing from you soon!'"
      ]
     },
     "execution_count": 8,
     "metadata": {},
     "output_type": "execute_result"
    }
   ],
   "source": [
    "example_ad2 = create_classified_ad(\"3-year old Specialized bike\", \"$300\")\n",
    "example_ad2"
   ]
  },
  {
   "cell_type": "markdown",
   "id": "24ab9aee-3524-40b8-a87d-d765872eb302",
   "metadata": {},
   "source": [
    "The two ads when we did it using Qwen-0.5B:\n",
    "\n",
    "```\n",
    "    Hey there! We're looking for someone who's ready to take their riding game to the next level with our 3-year-old Specialized bike. This bike is a great investment that will keep your kids engaged and safe all year round. It features durable components, a comfortable seat, and a powerful frame that can handle any terrain. Plus, it comes with a lifetime warranty, so you can be sure you're getting a high-quality product. So why wait? Get yours today and start enjoying the thrill of riding on wheels!\n",
    "```\n",
    "\n",
    "and\n",
    "    \n",
    "```\n",
    "    Looking for a unique and stylish way to enjoy your daily commute? Look no further than the 3-year-old Specialized bike! This bike is perfect for those who value style over speed, and it's priced at just $300. With its durable frame and high-quality components, this bike will last you years with minimal maintenance. Plus, it comes with a lifetime warranty, so you can rest easy knowing that you're getting a quality product that won't let you down. Don't miss out on this opportunity to upgrade your bike experience today!\n",
    "```"
   ]
  },
  {
   "cell_type": "markdown",
   "id": "953c47ab-c01f-416b-a4c9-f06093d6a9aa",
   "metadata": {},
   "source": [
    "## Compare 2 ads and choose the better one\n",
    "\n",
    "We'll use Gemini Flash to do the scoring."
   ]
  },
  {
   "cell_type": "code",
   "execution_count": 9,
   "id": "9cd07901-9ca3-4c69-9c00-3526a861f2ef",
   "metadata": {
    "tags": []
   },
   "outputs": [],
   "source": [
    "from google import genai\n",
    "from google.genai import types\n",
    "\n",
    "GEMINI_MODEL_ID='gemini-2.0-flash'\n",
    "\n",
    "assert os.environ[\"GEMINI_API_KEY\"][:2] == \"AI\",\\\n",
    "       \"Please sign up for access to Google Gemini and provide access token in keys.env file\"\n",
    "client = genai.Client(api_key=os.getenv('GEMINI_API_KEY'))"
   ]
  },
  {
   "cell_type": "code",
   "execution_count": 10,
   "id": "a36d9f7e-c3a0-4ced-ab0e-cd621da9a603",
   "metadata": {
    "tags": []
   },
   "outputs": [],
   "source": [
    "from dataclasses import dataclass\n",
    "\n",
    "@dataclass\n",
    "class AdsComparison:\n",
    "    ad_a_is_better_than_ad_b: bool\n",
    "    reasoning: str\n",
    "\n",
    "def score_ad(ad_a: str, ad_b: str) -> AdsComparison:\n",
    "    prompt = f\"\"\"\n",
    "    You are a professor of advertising at a business school.\n",
    "    Compare the two ads below for the same item being sold in a neighborhood marketplace and determine whether ad_a is better than ad_b\n",
    "    Also explain your reasoning.\n",
    "    \n",
    "    The main criteria to compare the ads include:\n",
    "    * Is it clear what's being sold? Age, brand, price, and condition are important.\n",
    "    * Does it target the most relevant audience for the item? Is the text persuasive to that audience?\n",
    "    * Is it concise and easy to read? An ideal ad is at most 3 sentences.\n",
    "    * Does it include contact information? Ideally, the ad specifies the preferred means of communication.\n",
    "    * Is the ad truthful? Remember that the item is likely used and not being sold by the manufacturer.\n",
    "    \n",
    "    ad_a:\n",
    "    {ad_a}\n",
    "    \n",
    "    ad_b:\n",
    "    {ad_b}\n",
    "    \"\"\"\n",
    "    response = client.models.generate_content(\n",
    "        model=GEMINI_MODEL_ID,\n",
    "        contents=[prompt],\n",
    "        config=types.GenerateContentConfig(\n",
    "            temperature=0.1,\n",
    "            response_mime_type='application/json',\n",
    "            response_schema=AdsComparison\n",
    "        )\n",
    "    )\n",
    "    \n",
    "    return response.parsed"
   ]
  },
  {
   "cell_type": "code",
   "execution_count": 11,
   "id": "a4f2e785-6f37-40b0-8697-710583728980",
   "metadata": {
    "tags": []
   },
   "outputs": [
    {
     "data": {
      "text/plain": [
       "AdsComparison(ad_a_is_better_than_ad_b=False, reasoning='Ad_b is better than ad_a. Ad_b mentions the price of the bike, which is an important factor for potential buyers. Ad_b also specifies that the bike is for kids, which helps target the relevant audience. Ad_a does not mention the price or target audience, making it less effective. Both ads are too verbose, but ad_b is slightly more concise and easier to read.')"
      ]
     },
     "execution_count": 11,
     "metadata": {},
     "output_type": "execute_result"
    }
   ],
   "source": [
    "example_score = score_ad(example_ad1, example_ad2)\n",
    "example_score"
   ]
  },
  {
   "cell_type": "markdown",
   "id": "dd38368e-6014-4bf7-b4f7-7e5a34121cc1",
   "metadata": {},
   "source": [
    "Result when we did it:\n",
    "```\n",
    "AdsComparison(ad_a_is_better_than_ad_b=False, reasoning=\"Both ads have issues, but ad_b is slightly better because it includes the price. Neither ad includes contact information. Both ads make the mistake of claiming the bike has a lifetime warranty, which is unlikely for a used bike being sold in a neighborhood marketplace. Ad_a is targeted toward children, but ad_b is targeted toward adults. Since the bike is used, it's more likely to be purchased by an adult.\")\n",
    "```"
   ]
  },
  {
   "cell_type": "markdown",
   "id": "ba01d1d8-8625-433c-a6c4-68785b90c77e",
   "metadata": {},
   "source": [
    "## Generate data"
   ]
  },
  {
   "cell_type": "code",
   "execution_count": 12,
   "id": "a5c83560-3ca2-45d3-ab45-c6441b3a397f",
   "metadata": {
    "tags": []
   },
   "outputs": [
    {
     "data": {
      "text/plain": [
       "{'prompt': '\\n        You are a resident who is listing a used item for sale on a neighborhood online group.\\n        An ad for used items in this neighborhood group is 1-3 sentences. \\nWrite an ad to sell a 3-year old Specialized bike priced at $300',\n",
       " 'chosen': \"Dear [Name of the Neighborhood Online Group],\\n\\nI am writing to offer for sale my beloved Specialized bike that I have been using since it was new. This bike has been in excellent condition and has been well maintained over the years, making it a valuable asset.\\n\\nThe bike is currently priced at $300 and comes with all the necessary accessories such as wheels, brakes, and tires. It also includes a helmet and a set of lockers for easy access.\\n\\nIf you're interested in purchasing this bike, please visit our website or give us a call at [Phone Number] to arrange a time to come and inspect the bike. We look forward to hearing from you soon!\\n\\nThank you for considering my offer.\\n\\nBest regards,\\n[Your Name]\",\n",
       " 'rejected': \"Dear neighborhood community members,\\n\\nI am writing to offer you a unique opportunity to own a 3-year-old Specialized bike that has been meticulously maintained and well-maintained. This bike was purchased by the owner with great care and attention to detail, ensuring it remains in top condition.\\n\\nThe bike is equipped with all the necessary components for smooth riding and is in excellent condition. It features a sturdy frame, durable wheels, and high-quality components, making it a reliable and enjoyable ride.\\n\\nIf you're interested in purchasing this special bike, please visit our website or contact us directly to schedule a time to view it in person. We look forward to hearing from you soon!\\n\\nThank you for considering this opportunity to purchase a rare and valuable piece of cycling history.\",\n",
       " 'score_reason': \"Ad A is better because it is more concise and direct. It clearly states the price and includes specific accessories. Ad B, while emphasizing the bike's condition, is less specific about the bike's age and what's included, and it uses slightly more flowery language which might be less effective in a local marketplace setting. Both ads are weak because they don't specify the bike's size.\"}"
      ]
     },
     "execution_count": 12,
     "metadata": {},
     "output_type": "execute_result"
    }
   ],
   "source": [
    "def create_preference_example(item: str, price: str) -> dict:\n",
    "    ad1 = create_classified_ad(item, price)\n",
    "    ad2 = create_classified_ad(item, price)\n",
    "    score = score_ad(ad1, ad2)\n",
    "    \n",
    "    preference_example = {\n",
    "        \"prompt\": SYSTEM_PROMPT + f\"\"\"Write an ad to sell a {item} priced at {price}\"\"\"\n",
    "    }\n",
    "    \n",
    "    if score.ad_a_is_better_than_ad_b:\n",
    "        preference_example['chosen'] = ad1\n",
    "        preference_example['rejected'] = ad2\n",
    "    else:\n",
    "        preference_example['chosen'] = ad2\n",
    "        preference_example['rejected'] = ad1\n",
    "    preference_example['score_reason'] = score.reasoning\n",
    "    \n",
    "    return preference_example\n",
    "\n",
    "create_preference_example(\"3-year old Specialized bike\", \"$300\")"
   ]
  },
  {
   "cell_type": "markdown",
   "id": "e057e820-0f14-4197-8077-40ff89050b90",
   "metadata": {},
   "source": [
    "When we did it:\n",
    "```\n",
    "{'prompt': 'You are writing a one paragraph classified ad for used items in a neighborhood online forum. Write an ad to sell a 3-year old Specialized bike priced at $300',\n",
    " 'chosen': '\"Experience the thrill of riding on a 3-year-old Specialized bike with our expert repair service! This bike is in top condition and has been well-maintained, so you can enjoy it for years to come. Don\\'t miss out on this opportunity to upgrade your cycling experience!\"',\n",
    " 'rejected': \"Specialized bikes are designed for those who love the outdoors and want to ride safely. These bikes have been built with durability, safety features, and comfort in mind. With their sturdy frame and lightweight wheels, you can feel confident on your next adventure. Whether you're looking to get around town or hit the trails, a Specialized bike is the perfect choice for you! Shop now and enjoy the benefits of riding like a pro.\",\n",
    " 'score_reason': 'Ad B is better because it specifies the age and brand of the bike, which is important information for potential buyers. It also mentions that the bike has been well-maintained and is in top condition, which can help to reassure buyers that they are getting a good value. Ad A does not specify the age, brand, or condition of the bike, which makes it less informative and less persuasive.'}\n",
    "```"
   ]
  },
  {
   "cell_type": "code",
   "execution_count": 13,
   "id": "6e5b9e04-6a1c-431b-a779-5b053037810c",
   "metadata": {
    "tags": []
   },
   "outputs": [],
   "source": [
    "import json\n",
    "\n",
    "# generated using Gemini with the prompt\n",
    "\"\"\"\n",
    "Create a synthetic dataset of 10 items for sale in a garage sale. \n",
    "Items should be in the format (item_description, cost). \n",
    "For example (\"Like-new copy of Chinua Achebe's Things Fall Apart\", \"$5\"). \n",
    "# [optional] Items should be somewhat expensive, and include details such as brand name where possible.\n",
    "# [optional] Items should be in the 10-20 dollar range and be unique. Not a collection of things.\n",
    "\"\"\"\n",
    "items_for_sale = [\n",
    "    (\"3-year old Specialized road bike\", \"$300\"),\n",
    "    (\"Amazing Spider-Man 361\", \"$200\"),\n",
    "    (\"Like-new copy of Chinua Achebe's Things Fall Apart\", \"$5\"),\n",
    "    (\"6-piece Le Creuset cookware set in good condition\", \"$800\"),\n",
    "    (\"Well-used kids tricycle\", \"$20\"),\n",
    "    (\"1990 vintage pair of Levi's 501 jeans size is Men's 32x32 in good condition\", \"$50\"),\n",
    "    (\"Vintage Pyrex mixing bowl set (3 bowls)\", \"$15\"),\n",
    "    (\"Hardwood rocking chair (good condition)\", \"$50\"),\n",
    "    (\"Kids' bicycle (16-inch wheels)\", \"$25\"),\n",
    "    (\"Set of 4 dining chairs (wooden)\", \"$40\"),\n",
    "    (\"Large area rug (floral pattern)\", \"$30\"),\n",
    "    (\"Electric coffee maker (like new)\", \"$10\"),\n",
    "    (\"Box of assorted DVDs (mostly action movies)\", \"$20\"),\n",
    "    (\"Ceramic table lamp (with shade)\", \"$12\"),\n",
    "    (\"Gardening tools set (shovel, rake, trowel)\", \"$25\"),\n",
    "    (\"Board game collection (Monopoly, Scrabble, Clue)\", \"$35\"),\n",
    "    (\"Antique dresser with mirror (restored)\", \"$250\"),\n",
    "    (\"Solid oak dining table with 6 chairs\", \"$400\"),\n",
    "    (\"Leather sofa (minor wear)\", \"$300\"),\n",
    "    (\"Vintage record player (working condition)\", \"$175\"),\n",
    "    (\"Collection of antique books (various genres)\", \"$200\"),\n",
    "    (\"High-end road bike (carbon fiber frame)\", \"$800\"),\n",
    "    (\"Hand-knotted Persian rug (small size)\", \"$450\"),\n",
    "    (\"Original oil painting (landscape scene)\", \"$350\"),\n",
    "    (\"Set of vintage china (complete set)\", \"$150\"),\n",
    "    (\"Designer handbag (like new)\", \"$200\"),\n",
    "    (\"Ethan Allen Armchair (excellent condition, dark green leather)\", \"$400\"),\n",
    "    (\"Bose QuietComfort 35 Headphones (wireless, noise-canceling, like new)\", \"$150\"),\n",
    "    (\"Samsung 55-inch Smart TV (4K UHD, excellent picture)\", \"$350\"),\n",
    "    (\"KitchenAid Stand Mixer (Artisan series, red, with attachments)\", \"$200\"),\n",
    "    (\"Breville Barista Express Espresso Machine (stainless steel)\", \"$300\"),\n",
    "    (\"Apple iPad Pro 11-inch (64GB, Wi-Fi, Space Gray)\", \"$450\"),\n",
    "    (\"Sony Alpha a6000 Mirrorless Camera (with two lenses)\", \"$500\"),\n",
    "    (\"Ray-Ban Aviator Sunglasses (gold frame, polarized lenses)\", \"$100\"),\n",
    "    (\"Michael Kors Leather Handbag (large tote, black)\", \"$150\"),\n",
    "    (\"Baccarat Crystal Vase (small size, excellent condition)\", \"$250\"),\n",
    "    (\"Hand-painted ceramic flower pot (with drainage hole)\", \"$12\"),\n",
    "    (\"Vintage rotary phone (working condition, bright red)\", \"$18\"),\n",
    "    (\"Framed print of a local landscape painting\", \"$15\"),\n",
    "    (\"Set of 4 hand-blown glass coasters\", \"$10\"),\n",
    "    (\"Woven bamboo storage basket (with lid)\", \"$14\"),\n",
    "    (\"Small, decorative brass elephant figurine\", \"$16\"),\n",
    "    (\"Hardcover cookbook: The Joy of Cooking\", \"$12\"),\n",
    "    (\"Like-new copy of National Geographic magazine (special edition)\", \"$10\"),\n",
    "    (\"Set of 2 vintage Pyrex coffee mugs (in original box)\", \"$20\"),\n",
    "    (\"Hand-carved wooden serving spoon\", \"$15\")\n",
    "]\n",
    "\n",
    "def write_jsonl(num_examples: int, filename: str):\n",
    "    examples = []\n",
    "    for iter in range(num_examples):\n",
    "        print(iter, end=\" ... \")\n",
    "        item, price = random.choice(items_for_sale)\n",
    "        example = create_preference_example(item, price)\n",
    "        examples.append(example)\n",
    "    \n",
    "    with open(filename, \"w\") as ofp:\n",
    "        for example in examples:\n",
    "            json.dump(example, ofp)\n",
    "            ofp.write('\\n')\n",
    "            \n",
    "    return examples, filename"
   ]
  },
  {
   "cell_type": "code",
   "execution_count": 14,
   "id": "87cb0f40-7c0c-4c1f-933b-52cf07234d69",
   "metadata": {
    "tags": []
   },
   "outputs": [
    {
     "name": "stdout",
     "output_type": "stream",
     "text": [
      "0 ... 1 ... "
     ]
    }
   ],
   "source": [
    "examples, filename = write_jsonl(2, \"ad_preference_dataset.jsonl\")"
   ]
  },
  {
   "cell_type": "code",
   "execution_count": 15,
   "id": "23b545b0-94c2-439f-8c39-cb30f441bb3b",
   "metadata": {
    "tags": []
   },
   "outputs": [
    {
     "data": {
      "text/plain": [
       "2"
      ]
     },
     "execution_count": 15,
     "metadata": {},
     "output_type": "execute_result"
    }
   ],
   "source": [
    "len(examples)"
   ]
  },
  {
   "cell_type": "code",
   "execution_count": 16,
   "id": "09387965-2c96-42b3-a1c8-431d04f45cea",
   "metadata": {
    "tags": []
   },
   "outputs": [
    {
     "name": "stdout",
     "output_type": "stream",
     "text": [
      "{\"prompt\": \"\\n        You are a resident who is listing a used item for sale on a neighborhood online group.\\n        An ad for used items in this neighborhood group is 1-3 sentences. \\nWrite an ad to sell a Box of assorted DVDs (mostly action movies) priced at $20\", \"chosen\": \"Box of Action Movie Dvds - $20!\\n\\nLooking for some new and exciting action movies? Look no further! We have a selection of highly rated action movies that you can enjoy with your friends or family. These DVDs come in a beautiful box, perfect for storing them safely away from the home. Don't miss out on the thrill of watching these movies together! Plus, they're only $20 each, so why not grab a few for yourself? Order now before they run out!\", \"rejected\": \"\\\"Welcome to our community where we offer a wide selection of high-quality, action-packed DVDs. Our collection includes a variety of titles that cater to different interests and genres. Whether you're a fan of action films, sci-fi, or anything in between, we've got you covered. Don't miss out on the latest releases from your favorite actors and directors. Let us help you discover new favorites and create unforgettable memories with these DVDs.\\\"\", \"score_reason\": \"Ad A is better because it is more concise and includes the price of the item being sold. Ad B does not mention the price, which is a critical piece of information for a potential buyer. Ad A also specifies that the items are DVDs, whereas Ad B is more vague.\"}\n",
      "{\"prompt\": \"\\n        You are a resident who is listing a used item for sale on a neighborhood online group.\\n        An ad for used items in this neighborhood group is 1-3 sentences. \\nWrite an ad to sell a Amazing Spider-Man 361 priced at $200\", \"chosen\": \"\\\"Hello, my name is [Your Name] and I am selling an amazing Spider-Man 361 that has been well maintained and in excellent condition. This item is priced at $200 and comes with all the necessary accessories and tools needed to get started. If you're looking for a great deal on a high-quality product, then look no further than this one! Don't miss out on this opportunity to own an incredible piece of history!\\\"\", \"rejected\": \"Ad Title: \\\"Welcome to the Marvel Universe! The Amazing Spider-Man 361 is now available at our community's online marketplace.\\\"\\n\\nAd Subtitle: \\\"Experience the ultimate adventure with our collection of marvel toys and collectibles!\\\"\\n\\nAd Body:\\nHello, we're excited to introduce you to one of our community's most popular products - the Amazing Spider-Man 361. This incredible toy was created by the legendary comic book writer Stan Lee, and it comes packed with all the features that fans have come to expect from the beloved superhero.\\n\\nThis amazing Spider-Man 361 is priced at $200 and is sure to delight any collector or fan of the Marvel universe. With its impressive durability and unique design, this toy is sure to capture your attention and bring back memories of the classic movie!\\n\\nIf you're looking for something truly special, then this amazing Spider-Man 361 is definitely worth considering. Don't miss out on this opportunity to own one of the finest collectibles in the world!\\n\\nThank you for considering our store! We look forward to serving you and seeing you soon!\\\"\", \"score_reason\": \"Ad A is better because it is more concise and to the point. It clearly states what is being sold (Amazing Spider-Man 361), its condition (well-maintained and in excellent condition), and the price ($200). It also emphasizes the quality of the product and encourages potential buyers not to miss out on the opportunity. Ad B, while enthusiastic, is overly verbose and reads more like marketing copy than a classified ad. It uses phrases like \\\"ultimate adventure\\\" and \\\"legendary comic book writer Stan Lee,\\\" which are not necessary for selling a used item in a local marketplace. Ad B also lacks direct contact information, making it less convenient for potential buyers.\"}\n"
     ]
    },
    {
     "name": "stderr",
     "output_type": "stream",
     "text": [
      "huggingface/tokenizers: The current process just got forked, after parallelism has already been used. Disabling parallelism to avoid deadlocks...\n",
      "To disable this warning, you can either:\n",
      "\t- Avoid using `tokenizers` before the fork if possible\n",
      "\t- Explicitly set the environment variable TOKENIZERS_PARALLELISM=(true | false)\n"
     ]
    }
   ],
   "source": [
    "!head *.jsonl"
   ]
  },
  {
   "cell_type": "markdown",
   "id": "6e6f2ba7-cb5e-4c34-a0fc-492739667d0e",
   "metadata": {},
   "source": [
    "## Do it"
   ]
  },
  {
   "cell_type": "code",
   "execution_count": 17,
   "id": "6401ccb6-7334-4997-b88e-884a07ce3ee9",
   "metadata": {
    "tags": []
   },
   "outputs": [
    {
     "name": "stderr",
     "output_type": "stream",
     "text": [
      "You seem to be using the pipelines sequentially on GPU. In order to maximize efficiency please use a dataset\n"
     ]
    },
    {
     "name": "stdout",
     "output_type": "stream",
     "text": [
      "0 ... 1 ... 2 ... 3 ... 4 ... 5 ... 6 ... 7 ... 8 ... 9 ... 10 ... 11 ... 12 ... 13 ... 14 ... 15 ... 16 ... 17 ... 18 ... 19 ... 20 ... 21 ... 22 ... 23 ... 24 ... 25 ... 26 ... 27 ... 28 ... 29 ... 30 ... 31 ... 32 ... 33 ... 34 ... 35 ... 36 ... 37 ... 38 ... 39 ... 40 ... 41 ... 42 ... 43 ... 44 ... 45 ... 46 ... 47 ... 48 ... 49 ... 50 ... 51 ... 52 ... 53 ... 54 ... 55 ... 56 ... 57 ... 58 ... 59 ... 60 ... 61 ... 62 ... 63 ... 64 ... 65 ... 66 ... 67 ... 68 ... 69 ... 70 ... 71 ... 72 ... 73 ... 74 ... 75 ... 76 ... 77 ... 78 ... 79 ... 80 ... 81 ... 82 ... 83 ... 84 ... 85 ... 86 ... 87 ... 88 ... 89 ... 90 ... 91 ... 92 ... 93 ... 94 ... 95 ... 96 ... 97 ... 98 ... 99 ... "
     ]
    }
   ],
   "source": [
    "write_jsonl(100, \"ad_preference_dataset.jsonl\");"
   ]
  },
  {
   "cell_type": "code",
   "execution_count": 18,
   "id": "91f8ba79-f29f-4ab1-890a-98531afa659e",
   "metadata": {
    "tags": []
   },
   "outputs": [
    {
     "name": "stdout",
     "output_type": "stream",
     "text": [
      "100 ad_preference_dataset.jsonl\n"
     ]
    },
    {
     "name": "stderr",
     "output_type": "stream",
     "text": [
      "huggingface/tokenizers: The current process just got forked, after parallelism has already been used. Disabling parallelism to avoid deadlocks...\n",
      "To disable this warning, you can either:\n",
      "\t- Avoid using `tokenizers` before the fork if possible\n",
      "\t- Explicitly set the environment variable TOKENIZERS_PARALLELISM=(true | false)\n"
     ]
    }
   ],
   "source": [
    "!wc -l *.jsonl"
   ]
  },
  {
   "cell_type": "code",
   "execution_count": null,
   "id": "5352874d-73f7-4072-bddd-8d0196032df4",
   "metadata": {},
   "outputs": [],
   "source": []
  }
 ],
 "metadata": {
  "environment": {
   "kernel": "conda-base-py",
   "name": "workbench-notebooks.m126",
   "type": "gcloud",
   "uri": "us-docker.pkg.dev/deeplearning-platform-release/gcr.io/workbench-notebooks:m126"
  },
  "kernelspec": {
   "display_name": "Python 3 (ipykernel) (Local)",
   "language": "python",
   "name": "conda-base-py"
  },
  "language_info": {
   "codemirror_mode": {
    "name": "ipython",
    "version": 3
   },
   "file_extension": ".py",
   "mimetype": "text/x-python",
   "name": "python",
   "nbconvert_exporter": "python",
   "pygments_lexer": "ipython3",
   "version": "3.10.15"
  }
 },
 "nbformat": 4,
 "nbformat_minor": 5
}
