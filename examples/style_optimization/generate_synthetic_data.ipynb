{
 "cells": [
  {
   "cell_type": "markdown",
   "id": "098f7e3d-edaf-4d4b-af0e-9880d1c5c22b",
   "metadata": {},
   "source": [
    "## Generate synthetic data for DPO\n",
    "\n",
    "This notebook creates a synthetic dataset of classified ads and scores them in pairs."
   ]
  },
  {
   "cell_type": "code",
   "execution_count": 1,
   "id": "8a83288c-a409-4376-895b-83820fda0785",
   "metadata": {
    "tags": []
   },
   "outputs": [],
   "source": [
    "#%pip install --upgrade --quiet google-genai"
   ]
  },
  {
   "cell_type": "code",
   "execution_count": 2,
   "id": "30b179c4-3d2e-458f-acdf-c516f4b88bbb",
   "metadata": {
    "tags": []
   },
   "outputs": [],
   "source": [
    "MODEL_ID = \"models/gemini-2.0-flash\"\n",
    "\n",
    "import os\n",
    "from dotenv import load_dotenv\n",
    "load_dotenv(\"../keys.env\");\n",
    "assert os.environ[\"GEMINI_API_KEY\"][:2] == \"AI\",\\\n",
    "       \"Please specify the GEMINI_API_KEY access token in keys.env file\""
   ]
  },
  {
   "cell_type": "code",
   "execution_count": 3,
   "id": "9cd07901-9ca3-4c69-9c00-3526a861f2ef",
   "metadata": {
    "tags": []
   },
   "outputs": [],
   "source": [
    "from google import genai\n",
    "from google.genai import types\n",
    "\n",
    "client = genai.Client(api_key=os.getenv('GEMINI_API_KEY'))"
   ]
  },
  {
   "cell_type": "markdown",
   "id": "5d1acc62-5507-4ef0-82b9-9f28dc8d0e8c",
   "metadata": {},
   "source": [
    "## Create an ad for an item"
   ]
  },
  {
   "cell_type": "code",
   "execution_count": 4,
   "id": "aa18fb43-5e37-4689-99e8-ec34342e8f8a",
   "metadata": {
    "tags": []
   },
   "outputs": [
    {
     "data": {
      "text/plain": [
       "'Lightly used, 3-year-old Specialized bike in excellent condition, perfect for commuting or recreational rides. This reliable and comfortable bike has been well-maintained and features smooth-shifting gears and responsive brakes. Minor cosmetic wear and tear, but mechanically sound and ready to ride. Asking $300. Serious inquiries only, please. Local pickup preferred.\\n'"
      ]
     },
     "execution_count": 4,
     "metadata": {},
     "output_type": "execute_result"
    }
   ],
   "source": [
    "import random\n",
    "def create_classified_ad(item: str, price: str) -> str:\n",
    "    prompt = f\"\"\"\n",
    "    You are writing a classified ad for used items in a neighborhood online forum. Write a one paragraph description for\n",
    "    a {item} priced at {price}\n",
    "    \"\"\"\n",
    "    response = client.models.generate_content(\n",
    "        model=MODEL_ID,\n",
    "        contents=[prompt],\n",
    "        config=types.GenerateContentConfig(\n",
    "            max_output_tokens=500,\n",
    "            temperature=random.uniform(0.2, 0.9),\n",
    "        )\n",
    "    )\n",
    "    return response.text\n",
    "\n",
    "create_classified_ad(\"3-year old Specialized bike\", \"$300\")"
   ]
  },
  {
   "cell_type": "code",
   "execution_count": 5,
   "id": "7fb0e63a-f130-4eb3-9d67-4d4e48f361cb",
   "metadata": {
    "tags": []
   },
   "outputs": [
    {
     "data": {
      "text/plain": [
       "'Lightly used, 3-year-old Specialized hybrid bike in excellent condition, perfect for commuting or recreational rides. Features a comfortable saddle, smooth-shifting gears, and responsive brakes. Well-maintained and ready to ride. Asking $300. Serious inquiries only, please. Local pickup in [Neighborhood Name] preferred.\\n'"
      ]
     },
     "execution_count": 5,
     "metadata": {},
     "output_type": "execute_result"
    }
   ],
   "source": [
    "example_ad = create_classified_ad(\"3-year old Specialized bike\", \"$300\")\n",
    "example_ad"
   ]
  },
  {
   "cell_type": "markdown",
   "id": "953c47ab-c01f-416b-a4c9-f06093d6a9aa",
   "metadata": {},
   "source": [
    "## Score an ad"
   ]
  },
  {
   "cell_type": "code",
   "execution_count": 6,
   "id": "a36d9f7e-c3a0-4ced-ab0e-cd621da9a603",
   "metadata": {
    "tags": []
   },
   "outputs": [],
   "source": [
    "from dataclasses import dataclass\n",
    "\n",
    "@dataclass\n",
    "class AdScore:\n",
    "    clarity: int\n",
    "    audience_targeting: int\n",
    "    readability: int\n",
    "    contact_info: int\n",
    "    \n",
    "    def total_score(self) -> int:\n",
    "        return self.clarity + self.audience_targeting + self.readability + self.contact_info\n",
    "\n",
    "def score_ad(ad: str) -> AdScore:\n",
    "    prompt = f\"\"\"\n",
    "    You are a professor of advertising at a business school. Score the following classified ad based on the following criteria:\n",
    "    * Is it clear what's being sold? Age, brand, price, and condition are important. (10 points)\n",
    "    * Does it target the most relevant audience for the item? Is it persuasive to that audience? (10 points)\n",
    "    * Is it concise and easy to read? (10 points)\n",
    "    * Does it include contact information? Ideally, the ad specifies the preferred means of communication. (10 points)\n",
    "    \n",
    "    Ad:\n",
    "    {ad}\n",
    "    \"\"\"\n",
    "    response = client.models.generate_content(\n",
    "        model=MODEL_ID,\n",
    "        contents=[prompt],\n",
    "        config=types.GenerateContentConfig(\n",
    "            temperature=0.1,\n",
    "            response_mime_type='application/json',\n",
    "            response_schema=AdScore\n",
    "        )\n",
    "    )\n",
    "    \n",
    "    return response.parsed"
   ]
  },
  {
   "cell_type": "code",
   "execution_count": 7,
   "id": "a4f2e785-6f37-40b0-8697-710583728980",
   "metadata": {
    "tags": []
   },
   "outputs": [
    {
     "data": {
      "text/plain": [
       "AdScore(clarity=9, audience_targeting=8, readability=9, contact_info=7)"
      ]
     },
     "execution_count": 7,
     "metadata": {},
     "output_type": "execute_result"
    }
   ],
   "source": [
    "example_score = score_ad(example_ad)\n",
    "example_score"
   ]
  },
  {
   "cell_type": "code",
   "execution_count": 8,
   "id": "5155df20-0dbc-46b3-b925-6f8f8d792bb8",
   "metadata": {
    "tags": []
   },
   "outputs": [
    {
     "data": {
      "text/plain": [
       "33"
      ]
     },
     "execution_count": 8,
     "metadata": {},
     "output_type": "execute_result"
    }
   ],
   "source": [
    "example_score.total_score()"
   ]
  },
  {
   "cell_type": "markdown",
   "id": "ba01d1d8-8625-433c-a6c4-68785b90c77e",
   "metadata": {},
   "source": [
    "## Generate data"
   ]
  },
  {
   "cell_type": "code",
   "execution_count": 9,
   "id": "a5c83560-3ca2-45d3-ab45-c6441b3a397f",
   "metadata": {
    "tags": []
   },
   "outputs": [
    {
     "data": {
      "text/plain": [
       "{'prompt': 'You are writing a classified ad for used items in a neighborhood online forum. Write a one paragraph description for a 3-year old Specialized bike priced at $300',\n",
       " 'chosen': 'Lightly used, 3-year-old Specialized mountain bike in excellent condition. Perfect for hitting the trails or cruising around town. Features a sturdy aluminum frame, reliable Shimano components, and responsive brakes. Regularly maintained and ready to ride. Asking $300. Serious inquiries only, please contact [Your Contact Info] to schedule a viewing.\\n',\n",
       " 'rejected': \"Get ready to ride! Selling my well-maintained, 3-year-old Specialized bike for $300. Perfect for commuting, weekend adventures, or just cruising around the neighborhood. It's in great condition with some minor cosmetic wear, recently tuned up, and ready to roll. Asking $300 OBO. Serious inquiries only, please. Contact me to arrange a viewing!\\n\"}"
      ]
     },
     "execution_count": 9,
     "metadata": {},
     "output_type": "execute_result"
    }
   ],
   "source": [
    "def create_preference_example(item: str, price: str) -> dict:\n",
    "    ad1 = create_classified_ad(item, price)\n",
    "    ad2 = create_classified_ad(item, price)\n",
    "    score1 = score_ad(ad1).total_score()\n",
    "    score2 = score_ad(ad2).total_score()\n",
    "    \n",
    "    preference_example = {\n",
    "        \"prompt\": f\"\"\"You are writing a classified ad for used items in a neighborhood online forum. Write a one paragraph description for a {item} priced at {price}\"\"\"\n",
    "    }\n",
    "    \n",
    "    if score1 > score2:\n",
    "        preference_example['chosen'] = ad1\n",
    "        preference_example['rejected'] = ad2\n",
    "    else:\n",
    "        preference_example['chosen'] = ad2\n",
    "        preference_example['rejected'] = ad1\n",
    "    \n",
    "    return preference_example\n",
    "\n",
    "create_preference_example(\"3-year old Specialized bike\", \"$300\")"
   ]
  },
  {
   "cell_type": "code",
   "execution_count": 10,
   "id": "6e5b9e04-6a1c-431b-a779-5b053037810c",
   "metadata": {
    "tags": []
   },
   "outputs": [],
   "source": [
    "import json\n",
    "\n",
    "# generated using Gemini with the prompt\n",
    "\"\"\"\n",
    "Create a synthetic dataset of 10 items for sale in a garage sale. \n",
    "Items should be in the format (item_description, cost). \n",
    "For example (\"Like-new copy of Chinua Achebe's Things Fall Apart\", \"$5\"). \n",
    "# [optional] Items should be somewhat expensive, and include details such as brand name where possible.\n",
    "# [optional] Items should be in the 10-20 dollar range and be unique. Not a collection of things.\n",
    "\"\"\"\n",
    "items_for_sale = [\n",
    "    (\"3-year old Specialized road bike\", \"$300\"),\n",
    "    (\"Amazing Spider-Man 361\", \"$200\"),\n",
    "    (\"Like-new copy of Chinua Achebe's Things Fall Apart\", \"$5\"),\n",
    "    (\"6-piece Le Creuset cookware set in good condition\", \"$800\"),\n",
    "    (\"Well-used kids tricycle\", \"$20\"),\n",
    "    (\"1990 vintage pair of Levi's 501 jeans size is Men's 32x32 in good condition\", \"$50\"),\n",
    "    (\"Vintage Pyrex mixing bowl set (3 bowls)\", \"$15\"),\n",
    "    (\"Hardwood rocking chair (good condition)\", \"$50\"),\n",
    "    (\"Kids' bicycle (16-inch wheels)\", \"$25\"),\n",
    "    (\"Set of 4 dining chairs (wooden)\", \"$40\"),\n",
    "    (\"Large area rug (floral pattern)\", \"$30\"),\n",
    "    (\"Electric coffee maker (like new)\", \"$10\"),\n",
    "    (\"Box of assorted DVDs (mostly action movies)\", \"$20\"),\n",
    "    (\"Ceramic table lamp (with shade)\", \"$12\"),\n",
    "    (\"Gardening tools set (shovel, rake, trowel)\", \"$25\"),\n",
    "    (\"Board game collection (Monopoly, Scrabble, Clue)\", \"$35\"),\n",
    "    (\"Antique dresser with mirror (restored)\", \"$250\"),\n",
    "    (\"Solid oak dining table with 6 chairs\", \"$400\"),\n",
    "    (\"Leather sofa (minor wear)\", \"$300\"),\n",
    "    (\"Vintage record player (working condition)\", \"$175\"),\n",
    "    (\"Collection of antique books (various genres)\", \"$200\"),\n",
    "    (\"High-end road bike (carbon fiber frame)\", \"$800\"),\n",
    "    (\"Hand-knotted Persian rug (small size)\", \"$450\"),\n",
    "    (\"Original oil painting (landscape scene)\", \"$350\"),\n",
    "    (\"Set of vintage china (complete set)\", \"$150\"),\n",
    "    (\"Designer handbag (like new)\", \"$200\"),\n",
    "    (\"Ethan Allen Armchair (excellent condition, dark green leather)\", \"$400\"),\n",
    "    (\"Bose QuietComfort 35 Headphones (wireless, noise-canceling, like new)\", \"$150\"),\n",
    "    (\"Samsung 55-inch Smart TV (4K UHD, excellent picture)\", \"$350\"),\n",
    "    (\"KitchenAid Stand Mixer (Artisan series, red, with attachments)\", \"$200\"),\n",
    "    (\"Breville Barista Express Espresso Machine (stainless steel)\", \"$300\"),\n",
    "    (\"Apple iPad Pro 11-inch (64GB, Wi-Fi, Space Gray)\", \"$450\"),\n",
    "    (\"Sony Alpha a6000 Mirrorless Camera (with two lenses)\", \"$500\"),\n",
    "    (\"Ray-Ban Aviator Sunglasses (gold frame, polarized lenses)\", \"$100\"),\n",
    "    (\"Michael Kors Leather Handbag (large tote, black)\", \"$150\"),\n",
    "    (\"Baccarat Crystal Vase (small size, excellent condition)\", \"$250\"),\n",
    "    (\"Hand-painted ceramic flower pot (with drainage hole)\", \"$12\"),\n",
    "    (\"Vintage rotary phone (working condition, bright red)\", \"$18\"),\n",
    "    (\"Framed print of a local landscape painting\", \"$15\"),\n",
    "    (\"Set of 4 hand-blown glass coasters\", \"$10\"),\n",
    "    (\"Woven bamboo storage basket (with lid)\", \"$14\"),\n",
    "    (\"Small, decorative brass elephant figurine\", \"$16\"),\n",
    "    (\"Hardcover cookbook: The Joy of Cooking\", \"$12\"),\n",
    "    (\"Like-new copy of National Geographic magazine (special edition)\", \"$10\"),\n",
    "    (\"Set of 2 vintage Pyrex coffee mugs (in original box)\", \"$20\"),\n",
    "    (\"Hand-carved wooden serving spoon\", \"$15\")\n",
    "]\n",
    "\n",
    "def write_jsonl(num_examples: int, filename: str):\n",
    "    examples = []\n",
    "    for iter in range(num_examples):\n",
    "        print(iter, end=\" ... \")\n",
    "        item, price = random.choice(items_for_sale)\n",
    "        example = create_preference_example(item, price)\n",
    "        examples.append(example)\n",
    "    \n",
    "    with open(filename, \"w\") as ofp:\n",
    "        for example in examples:\n",
    "            json.dump(example, ofp)\n",
    "            ofp.write('\\n')\n",
    "            \n",
    "    return examples, filename"
   ]
  },
  {
   "cell_type": "code",
   "execution_count": 11,
   "id": "87cb0f40-7c0c-4c1f-933b-52cf07234d69",
   "metadata": {
    "tags": []
   },
   "outputs": [
    {
     "name": "stdout",
     "output_type": "stream",
     "text": [
      "0 ... 1 ... "
     ]
    }
   ],
   "source": [
    "examples, filename = write_jsonl(2, \"ad_preference_dataset.jsonl\")"
   ]
  },
  {
   "cell_type": "code",
   "execution_count": 12,
   "id": "23b545b0-94c2-439f-8c39-cb30f441bb3b",
   "metadata": {
    "tags": []
   },
   "outputs": [
    {
     "data": {
      "text/plain": [
       "2"
      ]
     },
     "execution_count": 12,
     "metadata": {},
     "output_type": "execute_result"
    }
   ],
   "source": [
    "len(examples)"
   ]
  },
  {
   "cell_type": "code",
   "execution_count": 13,
   "id": "09387965-2c96-42b3-a1c8-431d04f45cea",
   "metadata": {
    "tags": []
   },
   "outputs": [
    {
     "name": "stdout",
     "output_type": "stream",
     "text": [
      "{\"prompt\": \"You are writing a classified ad for used items in a neighborhood online forum. Write a one paragraph description for a Set of 2 vintage Pyrex coffee mugs (in original box) priced at $20\", \"chosen\": \"Calling all vintage lovers! I'm selling a set of two vintage Pyrex coffee mugs, still nestled in their original box. These classic mugs are in great condition and ready to add a touch of retro charm to your morning routine. Asking $20 for the set. Perfect for collectors or anyone who appreciates a bit of nostalgia with their coffee! PM me if interested.\\n\", \"rejected\": \"Calling all vintage lovers! I'm selling a set of two pristine Pyrex coffee mugs, still nestled in their original box. These retro beauties are in excellent condition and ready to add a touch of mid-century charm to your morning coffee routine. Asking $20 for the set. Don't miss out on this rare find!\\n\"}\n",
      "{\"prompt\": \"You are writing a classified ad for used items in a neighborhood online forum. Write a one paragraph description for a Board game collection (Monopoly, Scrabble, Clue) priced at $35\", \"chosen\": \"Get your game night on with this classic board game collection! Includes Monopoly, Scrabble, and Clue, all in good condition and ready for hours of fun. Perfect for family gatherings, parties, or just a cozy night in. Asking $35 for the whole set. Local pickup only. Contact me if interested!\\n\", \"rejected\": \"Game night ready! Get your hands on a classic board game collection including Monopoly, Scrabble, and Clue. All games are gently used, complete with all pieces, and ready for hours of family fun. Perfect for rainy days, gatherings, or just unplugging and enjoying some old-school entertainment. Asking $35 for the whole lot!\\n\"}\n"
     ]
    }
   ],
   "source": [
    "!head *.jsonl"
   ]
  },
  {
   "cell_type": "markdown",
   "id": "6e6f2ba7-cb5e-4c34-a0fc-492739667d0e",
   "metadata": {},
   "source": [
    "## Do it"
   ]
  },
  {
   "cell_type": "code",
   "execution_count": 14,
   "id": "6401ccb6-7334-4997-b88e-884a07ce3ee9",
   "metadata": {
    "tags": []
   },
   "outputs": [
    {
     "name": "stdout",
     "output_type": "stream",
     "text": [
      "0 ... 1 ... 2 ... 3 ... 4 ... 5 ... 6 ... 7 ... 8 ... 9 ... 10 ... 11 ... 12 ... 13 ... 14 ... 15 ... 16 ... 17 ... 18 ... 19 ... 20 ... 21 ... 22 ... 23 ... 24 ... 25 ... 26 ... 27 ... 28 ... 29 ... 30 ... 31 ... 32 ... 33 ... 34 ... 35 ... 36 ... 37 ... 38 ... 39 ... 40 ... 41 ... 42 ... 43 ... 44 ... 45 ... 46 ... 47 ... 48 ... 49 ... 50 ... 51 ... 52 ... 53 ... 54 ... 55 ... 56 ... 57 ... 58 ... 59 ... 60 ... 61 ... 62 ... 63 ... 64 ... 65 ... 66 ... 67 ... 68 ... 69 ... 70 ... 71 ... 72 ... 73 ... 74 ... 75 ... 76 ... 77 ... 78 ... 79 ... 80 ... 81 ... 82 ... 83 ... 84 ... 85 ... 86 ... 87 ... 88 ... 89 ... 90 ... 91 ... 92 ... 93 ... 94 ... 95 ... 96 ... 97 ... 98 ... 99 ... 100 ... 101 ... 102 ... 103 ... 104 ... 105 ... 106 ... 107 ... 108 ... 109 ... 110 ... 111 ... 112 ... 113 ... 114 ... 115 ... 116 ... 117 ... 118 ... 119 ... 120 ... 121 ... 122 ... 123 ... 124 ... 125 ... 126 ... 127 ... 128 ... 129 ... 130 ... 131 ... 132 ... 133 ... 134 ... 135 ... 136 ... 137 ... 138 ... 139 ... 140 ... 141 ... 142 ... 143 ... 144 ... 145 ... 146 ... 147 ... 148 ... 149 ... 150 ... 151 ... 152 ... 153 ... 154 ... 155 ... 156 ... 157 ... 158 ... 159 ... 160 ... 161 ... 162 ... 163 ... 164 ... 165 ... 166 ... 167 ... 168 ... 169 ... 170 ... 171 ... 172 ... 173 ... 174 ... 175 ... 176 ... 177 ... 178 ... 179 ... 180 ... 181 ... 182 ... 183 ... 184 ... 185 ... 186 ... 187 ... 188 ... 189 ... 190 ... 191 ... 192 ... 193 ... 194 ... 195 ... 196 ... 197 ... 198 ... 199 ... 200 ... 201 ... 202 ... 203 ... 204 ... 205 ... 206 ... 207 ... 208 ... 209 ... 210 ... 211 ... 212 ... 213 ... 214 ... 215 ... 216 ... 217 ... 218 ... 219 ... 220 ... 221 ... 222 ... 223 ... 224 ... 225 ... 226 ... 227 ... 228 ... 229 ... 230 ... 231 ... 232 ... 233 ... 234 ... 235 ... 236 ... 237 ... 238 ... 239 ... 240 ... 241 ... 242 ... 243 ... 244 ... 245 ... 246 ... 247 ... 248 ... 249 ... 250 ... 251 ... 252 ... 253 ... 254 ... 255 ... 256 ... 257 ... 258 ... 259 ... 260 ... 261 ... 262 ... 263 ... 264 ... 265 ... 266 ... 267 ... 268 ... 269 ... 270 ... 271 ... 272 ... 273 ... 274 ... 275 ... 276 ... 277 ... 278 ... 279 ... 280 ... 281 ... 282 ... 283 ... 284 ... 285 ... 286 ... 287 ... 288 ... 289 ... 290 ... 291 ... 292 ... 293 ... 294 ... 295 ... 296 ... 297 ... 298 ... 299 ... 300 ... 301 ... 302 ... 303 ... 304 ... 305 ... 306 ... 307 ... 308 ... 309 ... 310 ... 311 ... 312 ... 313 ... 314 ... 315 ... 316 ... 317 ... 318 ... 319 ... 320 ... 321 ... 322 ... 323 ... 324 ... 325 ... 326 ... 327 ... 328 ... 329 ... 330 ... 331 ... 332 ... 333 ... 334 ... 335 ... 336 ... 337 ... 338 ... 339 ... 340 ... 341 ... 342 ... 343 ... 344 ... 345 ... 346 ... 347 ... 348 ... 349 ... 350 ... 351 ... 352 ... 353 ... 354 ... 355 ... 356 ... 357 ... 358 ... 359 ... 360 ... 361 ... 362 ... 363 ... 364 ... 365 ... 366 ... 367 ... 368 ... 369 ... 370 ... 371 ... 372 ... 373 ... 374 ... 375 ... 376 ... 377 ... 378 ... 379 ... 380 ... 381 ... 382 ... 383 ... 384 ... 385 ... 386 ... 387 ... 388 ... 389 ... 390 ... 391 ... 392 ... 393 ... 394 ... 395 ... 396 ... 397 ... 398 ... 399 ... 400 ... 401 ... 402 ... 403 ... 404 ... 405 ... 406 ... 407 ... 408 ... 409 ... 410 ... 411 ... 412 ... 413 ... 414 ... 415 ... 416 ... 417 ... 418 ... 419 ... 420 ... 421 ... 422 ... 423 ... 424 ... 425 ... 426 ... 427 ... 428 ... 429 ... 430 ... 431 ... 432 ... 433 ... 434 ... 435 ... 436 ... 437 ... 438 ... 439 ... 440 ... 441 ... 442 ... 443 ... 444 ... 445 ... 446 ... 447 ... 448 ... 449 ... 450 ... 451 ... 452 ... 453 ... 454 ... 455 ... 456 ... 457 ... 458 ... 459 ... "
     ]
    }
   ],
   "source": [
    "write_jsonl(len(items_for_sale)*10, \"ad_preference_dataset.jsonl\");"
   ]
  },
  {
   "cell_type": "code",
   "execution_count": 15,
   "id": "91f8ba79-f29f-4ab1-890a-98531afa659e",
   "metadata": {
    "tags": []
   },
   "outputs": [
    {
     "name": "stdout",
     "output_type": "stream",
     "text": [
      "460 ad_preference_dataset.jsonl\n"
     ]
    }
   ],
   "source": [
    "!wc -l *.jsonl"
   ]
  },
  {
   "cell_type": "code",
   "execution_count": null,
   "id": "5352874d-73f7-4072-bddd-8d0196032df4",
   "metadata": {},
   "outputs": [],
   "source": []
  }
 ],
 "metadata": {
  "environment": {
   "kernel": "conda-base-py",
   "name": "workbench-notebooks.m126",
   "type": "gcloud",
   "uri": "us-docker.pkg.dev/deeplearning-platform-release/gcr.io/workbench-notebooks:m126"
  },
  "kernelspec": {
   "display_name": "Python 3 (ipykernel) (Local)",
   "language": "python",
   "name": "conda-base-py"
  },
  "language_info": {
   "codemirror_mode": {
    "name": "ipython",
    "version": 3
   },
   "file_extension": ".py",
   "mimetype": "text/x-python",
   "name": "python",
   "nbconvert_exporter": "python",
   "pygments_lexer": "ipython3",
   "version": "3.10.15"
  }
 },
 "nbformat": 4,
 "nbformat_minor": 5
}
