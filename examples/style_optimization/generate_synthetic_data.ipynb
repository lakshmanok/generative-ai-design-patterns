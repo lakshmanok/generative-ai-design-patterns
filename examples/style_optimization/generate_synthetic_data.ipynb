{
 "cells": [
  {
   "cell_type": "markdown",
   "id": "098f7e3d-edaf-4d4b-af0e-9880d1c5c22b",
   "metadata": {},
   "source": [
    "## Generate synthetic data for DPO\n",
    "\n",
    "This notebook creates a synthetic dataset of classified ads and scores them in pairs."
   ]
  },
  {
   "cell_type": "code",
   "execution_count": 1,
   "id": "8a83288c-a409-4376-895b-83820fda0785",
   "metadata": {
    "tags": []
   },
   "outputs": [],
   "source": [
    "#%pip install --upgrade --quiet google-genai transformers"
   ]
  },
  {
   "cell_type": "code",
   "execution_count": 2,
   "id": "30b179c4-3d2e-458f-acdf-c516f4b88bbb",
   "metadata": {
    "tags": []
   },
   "outputs": [],
   "source": [
    "# MODEL_ID = \"meta-llama/Llama-3.2-3B-Instruct\"\n",
    "MODEL_ID = \"Qwen/Qwen2-0.5B-Instruct\"\n",
    "\n",
    "import os\n",
    "from dotenv import load_dotenv\n",
    "load_dotenv(\"../keys.env\")\n",
    "assert os.environ[\"HF_TOKEN\"][:2] == \"hf\",\\\n",
    "       \"Please sign up for access to the specific Llama model via HuggingFace and provide access token in keys.env file\""
   ]
  },
  {
   "cell_type": "code",
   "execution_count": 3,
   "id": "52c18233-a06b-4a5d-9a0a-7c1403ba69c6",
   "metadata": {
    "tags": []
   },
   "outputs": [
    {
     "name": "stderr",
     "output_type": "stream",
     "text": [
      "Device set to use cuda:0\n"
     ]
    }
   ],
   "source": [
    "from transformers import pipeline\n",
    "\n",
    "pipe = pipeline(\n",
    "    task=\"text-generation\", \n",
    "    model=MODEL_ID,\n",
    "    use_fast=True,\n",
    "    kwargs={\n",
    "        \"return_full_text\": False,\n",
    "    },\n",
    "    model_kwargs={}\n",
    ")"
   ]
  },
  {
   "cell_type": "markdown",
   "id": "5d1acc62-5507-4ef0-82b9-9f28dc8d0e8c",
   "metadata": {},
   "source": [
    "## Create an ad for an item"
   ]
  },
  {
   "cell_type": "code",
   "execution_count": 4,
   "id": "d0f772d3-a081-41c6-bf09-3db6361583b3",
   "metadata": {
    "tags": []
   },
   "outputs": [
    {
     "data": {
      "text/plain": [
       "\"We're excited to introduce you to our newest addition to the Specialized family! This unique and stylish 3-year old bike is perfect for anyone looking for something that's both functional and stylish. With its durable construction and comfortable seat, this bike will keep you going on your adventures. Plus, it's incredibly affordable at only $300! Don't miss out on this opportunity to upgrade your cycling experience. Head over to our website now to learn more about this amazing bike and get yours today!\""
      ]
     },
     "execution_count": 4,
     "metadata": {},
     "output_type": "execute_result"
    }
   ],
   "source": [
    "import random\n",
    "def create_classified_ad(item: str, price: str) -> str:\n",
    "    system_prompt = f\"\"\"\n",
    "        You are writing a one paragraph classified ad for used items in a neighborhood online forum. \n",
    "    \"\"\"\n",
    "    user_prompt = f\"\"\"\n",
    "        Write an ad to sell a {item} priced at {price}\n",
    "    \"\"\"\n",
    "\n",
    "    input_message = [\n",
    "            {\"role\": \"system\", \"content\": system_prompt},\n",
    "            {\"role\": \"user\", \"content\": user_prompt}   \n",
    "    ]\n",
    "    \n",
    "    results = pipe(input_message, \n",
    "                   max_new_tokens=256,\n",
    "                   temperature=random.uniform(0.2, 0.9),\n",
    "                  )\n",
    "    return results[0]['generated_text'][-1]['content'].strip()\n",
    "\n",
    "create_classified_ad(\"3-year old Specialized bike\", \"$300\")"
   ]
  },
  {
   "cell_type": "code",
   "execution_count": 5,
   "id": "7fb0e63a-f130-4eb3-9d67-4d4e48f361cb",
   "metadata": {
    "tags": []
   },
   "outputs": [
    {
     "data": {
      "text/plain": [
       "\"Are you looking for a unique and affordable way to enjoy your daily commute? Look no further! Our 3-year-old Specialized bike is the perfect addition to your collection. With its durable construction and comfortable frame, this bike is sure to be a hit with both kids and adults alike. Plus, it's priced at only $300, making it a great value for your money. So why wait? Order yours today and start enjoying the benefits of riding on wheels!\""
      ]
     },
     "execution_count": 5,
     "metadata": {},
     "output_type": "execute_result"
    }
   ],
   "source": [
    "example_ad = create_classified_ad(\"3-year old Specialized bike\", \"$300\")\n",
    "example_ad"
   ]
  },
  {
   "cell_type": "markdown",
   "id": "953c47ab-c01f-416b-a4c9-f06093d6a9aa",
   "metadata": {},
   "source": [
    "## Score an ad\n",
    "\n",
    "We'll use Gemini Flash to do the scoring."
   ]
  },
  {
   "cell_type": "code",
   "execution_count": 6,
   "id": "9cd07901-9ca3-4c69-9c00-3526a861f2ef",
   "metadata": {
    "tags": []
   },
   "outputs": [],
   "source": [
    "from google import genai\n",
    "from google.genai import types\n",
    "\n",
    "GEMINI_MODEL_ID='gemini-2.0-flash'\n",
    "\n",
    "assert os.environ[\"GEMINI_API_KEY\"][:2] == \"AI\",\\\n",
    "       \"Please sign up for access to Google Gemini and provide access token in keys.env file\"\n",
    "client = genai.Client(api_key=os.getenv('GEMINI_API_KEY'))"
   ]
  },
  {
   "cell_type": "code",
   "execution_count": 18,
   "id": "a36d9f7e-c3a0-4ced-ab0e-cd621da9a603",
   "metadata": {
    "tags": []
   },
   "outputs": [],
   "source": [
    "from dataclasses import dataclass\n",
    "\n",
    "@dataclass\n",
    "class AdScore:\n",
    "    clarity: int\n",
    "    audience_targeting: int\n",
    "    readability: int\n",
    "    contact_info: int\n",
    "    truth: int\n",
    "    \n",
    "    def total_score(self) -> int:\n",
    "        return self.clarity + self.audience_targeting + self.readability + self.contact_info + self.truth\n",
    "\n",
    "def score_ad(ad: str) -> AdScore:\n",
    "    prompt = f\"\"\"\n",
    "    You are a professor of advertising at a business school. Score the following classified ad based on the following criteria:\n",
    "    * Is it clear what's being sold? Age, brand, price, and condition are important. (10 points)\n",
    "    * Does it target the most relevant audience for the item? Is it persuasive to that audience? (10 points)\n",
    "    * Is it concise and easy to read? (10 points)\n",
    "    * Does it include contact information? Ideally, the ad specifies the preferred means of communication. (10 points)\n",
    "    * Is everything the ad says likely to be true of a used item sold in a garage sale? The ad should not claim that the item is new or that you can \"order\" it from \"our\" website. (10 points)\n",
    "    \n",
    "    Ad:\n",
    "    {ad}\n",
    "    \"\"\"\n",
    "    response = client.models.generate_content(\n",
    "        model=GEMINI_MODEL_ID,\n",
    "        contents=[prompt],\n",
    "        config=types.GenerateContentConfig(\n",
    "            temperature=0.1,\n",
    "            response_mime_type='application/json',\n",
    "            response_schema=AdScore\n",
    "        )\n",
    "    )\n",
    "    \n",
    "    return response.parsed"
   ]
  },
  {
   "cell_type": "code",
   "execution_count": 19,
   "id": "a4f2e785-6f37-40b0-8697-710583728980",
   "metadata": {
    "tags": []
   },
   "outputs": [
    {
     "data": {
      "text/plain": [
       "AdScore(clarity=7, audience_targeting=5, readability=8, contact_info=0, truth=6)"
      ]
     },
     "execution_count": 19,
     "metadata": {},
     "output_type": "execute_result"
    }
   ],
   "source": [
    "example_score = score_ad(example_ad)\n",
    "example_score"
   ]
  },
  {
   "cell_type": "code",
   "execution_count": 20,
   "id": "5155df20-0dbc-46b3-b925-6f8f8d792bb8",
   "metadata": {
    "tags": []
   },
   "outputs": [
    {
     "data": {
      "text/plain": [
       "26"
      ]
     },
     "execution_count": 20,
     "metadata": {},
     "output_type": "execute_result"
    }
   ],
   "source": [
    "example_score.total_score()"
   ]
  },
  {
   "cell_type": "markdown",
   "id": "ba01d1d8-8625-433c-a6c4-68785b90c77e",
   "metadata": {},
   "source": [
    "## Generate data"
   ]
  },
  {
   "cell_type": "code",
   "execution_count": 22,
   "id": "a5c83560-3ca2-45d3-ab45-c6441b3a397f",
   "metadata": {
    "tags": []
   },
   "outputs": [
    {
     "data": {
      "text/plain": [
       "{'prompt': 'You are writing a one paragraph classified ad for used items in a neighborhood online forum. Write an ad to sell a 3-year old Specialized bike priced at $300',\n",
       " 'chosen': \"Specialized bikes have been designed with durability and performance in mind, making them the perfect choice for riders who value reliability and comfort. This 3-year-old Specialized bike is in excellent condition and has undergone regular maintenance, ensuring that it remains in top shape for years to come. Whether you're looking for a fun and affordable way to ride around town or just want to get some exercise on your bike, this Specialized bike is sure to be a hit. Don't miss out on this opportunity to upgrade your bike collection today!\",\n",
       " 'rejected': \"In need of a unique and reliable mode of transportation, we have the perfect option - a brand new Specialized bike that's been meticulously maintained and ready to go! This vintage model is equipped with state-of-the-art components and features, making it a must-have for any rider who values reliability and durability. Don't miss out on this opportunity to experience the thrill of cycling as never before. Visit us today and take your first step towards a new level of adventure!\"}"
      ]
     },
     "execution_count": 22,
     "metadata": {},
     "output_type": "execute_result"
    }
   ],
   "source": [
    "def create_preference_example(item: str, price: str) -> dict:\n",
    "    ad1 = create_classified_ad(item, price)\n",
    "    ad2 = create_classified_ad(item, price)\n",
    "    score1 = score_ad(ad1).total_score()\n",
    "    score2 = score_ad(ad2).total_score()\n",
    "    \n",
    "    preference_example = {\n",
    "        \"prompt\": f\"\"\"You are writing a one paragraph classified ad for used items in a neighborhood online forum. Write an ad to sell a {item} priced at {price}\"\"\"\n",
    "    }\n",
    "    \n",
    "    if score1 > score2:\n",
    "        preference_example['chosen'] = ad1\n",
    "        preference_example['rejected'] = ad2\n",
    "    else:\n",
    "        preference_example['chosen'] = ad2\n",
    "        preference_example['rejected'] = ad1\n",
    "    \n",
    "    return preference_example\n",
    "\n",
    "create_preference_example(\"3-year old Specialized bike\", \"$300\")"
   ]
  },
  {
   "cell_type": "code",
   "execution_count": 23,
   "id": "6e5b9e04-6a1c-431b-a779-5b053037810c",
   "metadata": {
    "tags": []
   },
   "outputs": [],
   "source": [
    "import json\n",
    "\n",
    "# generated using Gemini with the prompt\n",
    "\"\"\"\n",
    "Create a synthetic dataset of 10 items for sale in a garage sale. \n",
    "Items should be in the format (item_description, cost). \n",
    "For example (\"Like-new copy of Chinua Achebe's Things Fall Apart\", \"$5\"). \n",
    "# [optional] Items should be somewhat expensive, and include details such as brand name where possible.\n",
    "# [optional] Items should be in the 10-20 dollar range and be unique. Not a collection of things.\n",
    "\"\"\"\n",
    "items_for_sale = [\n",
    "    (\"3-year old Specialized road bike\", \"$300\"),\n",
    "    (\"Amazing Spider-Man 361\", \"$200\"),\n",
    "    (\"Like-new copy of Chinua Achebe's Things Fall Apart\", \"$5\"),\n",
    "    (\"6-piece Le Creuset cookware set in good condition\", \"$800\"),\n",
    "    (\"Well-used kids tricycle\", \"$20\"),\n",
    "    (\"1990 vintage pair of Levi's 501 jeans size is Men's 32x32 in good condition\", \"$50\"),\n",
    "    (\"Vintage Pyrex mixing bowl set (3 bowls)\", \"$15\"),\n",
    "    (\"Hardwood rocking chair (good condition)\", \"$50\"),\n",
    "    (\"Kids' bicycle (16-inch wheels)\", \"$25\"),\n",
    "    (\"Set of 4 dining chairs (wooden)\", \"$40\"),\n",
    "    (\"Large area rug (floral pattern)\", \"$30\"),\n",
    "    (\"Electric coffee maker (like new)\", \"$10\"),\n",
    "    (\"Box of assorted DVDs (mostly action movies)\", \"$20\"),\n",
    "    (\"Ceramic table lamp (with shade)\", \"$12\"),\n",
    "    (\"Gardening tools set (shovel, rake, trowel)\", \"$25\"),\n",
    "    (\"Board game collection (Monopoly, Scrabble, Clue)\", \"$35\"),\n",
    "    (\"Antique dresser with mirror (restored)\", \"$250\"),\n",
    "    (\"Solid oak dining table with 6 chairs\", \"$400\"),\n",
    "    (\"Leather sofa (minor wear)\", \"$300\"),\n",
    "    (\"Vintage record player (working condition)\", \"$175\"),\n",
    "    (\"Collection of antique books (various genres)\", \"$200\"),\n",
    "    (\"High-end road bike (carbon fiber frame)\", \"$800\"),\n",
    "    (\"Hand-knotted Persian rug (small size)\", \"$450\"),\n",
    "    (\"Original oil painting (landscape scene)\", \"$350\"),\n",
    "    (\"Set of vintage china (complete set)\", \"$150\"),\n",
    "    (\"Designer handbag (like new)\", \"$200\"),\n",
    "    (\"Ethan Allen Armchair (excellent condition, dark green leather)\", \"$400\"),\n",
    "    (\"Bose QuietComfort 35 Headphones (wireless, noise-canceling, like new)\", \"$150\"),\n",
    "    (\"Samsung 55-inch Smart TV (4K UHD, excellent picture)\", \"$350\"),\n",
    "    (\"KitchenAid Stand Mixer (Artisan series, red, with attachments)\", \"$200\"),\n",
    "    (\"Breville Barista Express Espresso Machine (stainless steel)\", \"$300\"),\n",
    "    (\"Apple iPad Pro 11-inch (64GB, Wi-Fi, Space Gray)\", \"$450\"),\n",
    "    (\"Sony Alpha a6000 Mirrorless Camera (with two lenses)\", \"$500\"),\n",
    "    (\"Ray-Ban Aviator Sunglasses (gold frame, polarized lenses)\", \"$100\"),\n",
    "    (\"Michael Kors Leather Handbag (large tote, black)\", \"$150\"),\n",
    "    (\"Baccarat Crystal Vase (small size, excellent condition)\", \"$250\"),\n",
    "    (\"Hand-painted ceramic flower pot (with drainage hole)\", \"$12\"),\n",
    "    (\"Vintage rotary phone (working condition, bright red)\", \"$18\"),\n",
    "    (\"Framed print of a local landscape painting\", \"$15\"),\n",
    "    (\"Set of 4 hand-blown glass coasters\", \"$10\"),\n",
    "    (\"Woven bamboo storage basket (with lid)\", \"$14\"),\n",
    "    (\"Small, decorative brass elephant figurine\", \"$16\"),\n",
    "    (\"Hardcover cookbook: The Joy of Cooking\", \"$12\"),\n",
    "    (\"Like-new copy of National Geographic magazine (special edition)\", \"$10\"),\n",
    "    (\"Set of 2 vintage Pyrex coffee mugs (in original box)\", \"$20\"),\n",
    "    (\"Hand-carved wooden serving spoon\", \"$15\")\n",
    "]\n",
    "\n",
    "def write_jsonl(num_examples: int, filename: str):\n",
    "    examples = []\n",
    "    for iter in range(num_examples):\n",
    "        print(iter, end=\" ... \")\n",
    "        item, price = random.choice(items_for_sale)\n",
    "        example = create_preference_example(item, price)\n",
    "        examples.append(example)\n",
    "    \n",
    "    with open(filename, \"w\") as ofp:\n",
    "        for example in examples:\n",
    "            json.dump(example, ofp)\n",
    "            ofp.write('\\n')\n",
    "            \n",
    "    return examples, filename"
   ]
  },
  {
   "cell_type": "code",
   "execution_count": 24,
   "id": "87cb0f40-7c0c-4c1f-933b-52cf07234d69",
   "metadata": {
    "tags": []
   },
   "outputs": [
    {
     "name": "stdout",
     "output_type": "stream",
     "text": [
      "0 ... 1 ... "
     ]
    }
   ],
   "source": [
    "examples, filename = write_jsonl(2, \"ad_preference_dataset.jsonl\")"
   ]
  },
  {
   "cell_type": "code",
   "execution_count": 25,
   "id": "23b545b0-94c2-439f-8c39-cb30f441bb3b",
   "metadata": {
    "tags": []
   },
   "outputs": [
    {
     "data": {
      "text/plain": [
       "2"
      ]
     },
     "execution_count": 25,
     "metadata": {},
     "output_type": "execute_result"
    }
   ],
   "source": [
    "len(examples)"
   ]
  },
  {
   "cell_type": "code",
   "execution_count": 26,
   "id": "09387965-2c96-42b3-a1c8-431d04f45cea",
   "metadata": {
    "tags": []
   },
   "outputs": [
    {
     "name": "stdout",
     "output_type": "stream",
     "text": [
      "{\"prompt\": \"You are writing a one paragraph classified ad for used items in a neighborhood online forum. Write an ad to sell a Woven bamboo storage basket (with lid) priced at $14\", \"chosen\": \"Introducing the perfect storage solution - the Woven Bamboo Storage Basket with Lid! This stylish and functional item is sure to add a touch of elegance to any room. Made from high-quality, woven bamboo, this basket offers durability and functionality that will last for years to come. With its sleek design and sturdy construction, it's the perfect addition to your home or office. Shop now and enjoy the convenience and beauty of our Woven Bamboo Storage Basket with Lid!\", \"rejected\": \"Looking for a stylish and functional storage solution? Look no further! Our woven bamboo storage basket is the perfect addition to your home or office. Made from high-quality, sustainable bamboo, this basket features a sturdy frame with a lid that can be easily removed for easy cleaning. The basket is also designed to keep your belongings organized and secure, ensuring you have everything you need without having to worry about tripping over it. Plus, with its durable construction and eco-friendly materials, this basket will last for years to come. Don't miss out on this opportunity to upgrade your storage space and make a statement in your home or office. Shop now and get yours today!\"}\n",
      "{\"prompt\": \"You are writing a one paragraph classified ad for used items in a neighborhood online forum. Write an ad to sell a KitchenAid Stand Mixer (Artisan series, red, with attachments) priced at $200\", \"chosen\": \"\\\"Looking for the perfect kitchen appliance? Look no further than our Artisan Series stand mixer! This red model is equipped with high-quality attachments that make meal preparation even easier and more efficient. Perfect for busy families or those who love to cook, this mixer offers a range of functions including blending, pureeing, and kneading. Plus, it's dishwasher-safe and easy to clean, making it the ultimate all-in-one appliance for any home cook.\\\"\", \"rejected\": \"Are you looking for a versatile and efficient kitchen appliance? Look no further! Our Artisan Series Red stand mixer is the perfect addition to your kitchen. It's made of durable materials that last a lifetime and features high-quality components that will make every meal a success. With its handy attachments, you can whip up delicious meals quickly and easily. Whether you're baking bread or making soup, this stand mixer will do the job perfectly. Don't miss out on this incredible deal! Shop now and take advantage of our limited-time offer!\"}\n"
     ]
    },
    {
     "name": "stderr",
     "output_type": "stream",
     "text": [
      "huggingface/tokenizers: The current process just got forked, after parallelism has already been used. Disabling parallelism to avoid deadlocks...\n",
      "To disable this warning, you can either:\n",
      "\t- Avoid using `tokenizers` before the fork if possible\n",
      "\t- Explicitly set the environment variable TOKENIZERS_PARALLELISM=(true | false)\n"
     ]
    }
   ],
   "source": [
    "!head *.jsonl"
   ]
  },
  {
   "cell_type": "markdown",
   "id": "6e6f2ba7-cb5e-4c34-a0fc-492739667d0e",
   "metadata": {},
   "source": [
    "## Do it"
   ]
  },
  {
   "cell_type": "code",
   "execution_count": 27,
   "id": "6401ccb6-7334-4997-b88e-884a07ce3ee9",
   "metadata": {
    "tags": []
   },
   "outputs": [
    {
     "name": "stderr",
     "output_type": "stream",
     "text": [
      "You seem to be using the pipelines sequentially on GPU. In order to maximize efficiency please use a dataset\n"
     ]
    },
    {
     "name": "stdout",
     "output_type": "stream",
     "text": [
      "0 ... 1 ... 2 ... 3 ... 4 ... 5 ... 6 ... 7 ... 8 ... 9 ... 10 ... 11 ... 12 ... 13 ... 14 ... 15 ... 16 ... 17 ... 18 ... 19 ... 20 ... 21 ... 22 ... 23 ... 24 ... 25 ... 26 ... 27 ... 28 ... 29 ... 30 ... 31 ... 32 ... 33 ... 34 ... 35 ... 36 ... 37 ... 38 ... 39 ... 40 ... 41 ... 42 ... 43 ... 44 ... 45 ... 46 ... 47 ... 48 ... 49 ... 50 ... 51 ... 52 ... 53 ... 54 ... 55 ... 56 ... 57 ... 58 ... 59 ... 60 ... 61 ... 62 ... 63 ... 64 ... 65 ... 66 ... 67 ... 68 ... 69 ... 70 ... 71 ... 72 ... 73 ... 74 ... 75 ... 76 ... 77 ... 78 ... 79 ... 80 ... 81 ... 82 ... 83 ... 84 ... 85 ... 86 ... 87 ... 88 ... 89 ... 90 ... 91 ... 92 ... 93 ... 94 ... 95 ... 96 ... 97 ... 98 ... 99 ... "
     ]
    }
   ],
   "source": [
    "write_jsonl(100, \"ad_preference_dataset.jsonl\");"
   ]
  },
  {
   "cell_type": "code",
   "execution_count": 28,
   "id": "91f8ba79-f29f-4ab1-890a-98531afa659e",
   "metadata": {
    "tags": []
   },
   "outputs": [
    {
     "name": "stdout",
     "output_type": "stream",
     "text": [
      "100 ad_preference_dataset.jsonl\n"
     ]
    },
    {
     "name": "stderr",
     "output_type": "stream",
     "text": [
      "huggingface/tokenizers: The current process just got forked, after parallelism has already been used. Disabling parallelism to avoid deadlocks...\n",
      "To disable this warning, you can either:\n",
      "\t- Avoid using `tokenizers` before the fork if possible\n",
      "\t- Explicitly set the environment variable TOKENIZERS_PARALLELISM=(true | false)\n"
     ]
    }
   ],
   "source": [
    "!wc -l *.jsonl"
   ]
  },
  {
   "cell_type": "code",
   "execution_count": null,
   "id": "5352874d-73f7-4072-bddd-8d0196032df4",
   "metadata": {},
   "outputs": [],
   "source": []
  }
 ],
 "metadata": {
  "environment": {
   "kernel": "conda-base-py",
   "name": "workbench-notebooks.m126",
   "type": "gcloud",
   "uri": "us-docker.pkg.dev/deeplearning-platform-release/gcr.io/workbench-notebooks:m126"
  },
  "kernelspec": {
   "display_name": "Python 3 (ipykernel) (Local)",
   "language": "python",
   "name": "conda-base-py"
  },
  "language_info": {
   "codemirror_mode": {
    "name": "ipython",
    "version": 3
   },
   "file_extension": ".py",
   "mimetype": "text/x-python",
   "name": "python",
   "nbconvert_exporter": "python",
   "pygments_lexer": "ipython3",
   "version": "3.10.15"
  }
 },
 "nbformat": 4,
 "nbformat_minor": 5
}
