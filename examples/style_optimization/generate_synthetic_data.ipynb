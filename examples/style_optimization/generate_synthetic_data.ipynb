{
 "cells": [
  {
   "cell_type": "markdown",
   "id": "098f7e3d-edaf-4d4b-af0e-9880d1c5c22b",
   "metadata": {},
   "source": [
    "## Generate synthetic data for DPO\n",
    "\n",
    "This notebook creates a synthetic dataset of classified ads and scores them in pairs."
   ]
  },
  {
   "cell_type": "code",
   "execution_count": 1,
   "id": "8a83288c-a409-4376-895b-83820fda0785",
   "metadata": {
    "tags": []
   },
   "outputs": [],
   "source": [
    "#%pip install --upgrade --quiet google-genai"
   ]
  },
  {
   "cell_type": "code",
   "execution_count": 4,
   "id": "30b179c4-3d2e-458f-acdf-c516f4b88bbb",
   "metadata": {
    "tags": []
   },
   "outputs": [],
   "source": [
    "MODEL_ID = \"models/gemini-2.0-flash\"\n",
    "\n",
    "import os\n",
    "from dotenv import load_dotenv\n",
    "load_dotenv(\"../keys.env\");\n",
    "assert os.environ[\"GEMINI_API_KEY\"][:2] == \"AI\",\\\n",
    "       \"Please specify the GEMINI_API_KEY access token in keys.env file\""
   ]
  },
  {
   "cell_type": "code",
   "execution_count": 5,
   "id": "9cd07901-9ca3-4c69-9c00-3526a861f2ef",
   "metadata": {
    "tags": []
   },
   "outputs": [],
   "source": [
    "from google import genai\n",
    "from google.genai import types\n",
    "\n",
    "client = genai.Client(api_key=os.getenv('GEMINI_API_KEY'))"
   ]
  },
  {
   "cell_type": "markdown",
   "id": "5d1acc62-5507-4ef0-82b9-9f28dc8d0e8c",
   "metadata": {},
   "source": [
    "## Create an ad for an item"
   ]
  },
  {
   "cell_type": "code",
   "execution_count": 6,
   "id": "aa18fb43-5e37-4689-99e8-ec34342e8f8a",
   "metadata": {
    "tags": []
   },
   "outputs": [
    {
     "data": {
      "text/plain": [
       "'Lightly used, 3-year-old Specialized mountain bike in excellent condition. Perfect for hitting the trails or cruising around town. Features a sturdy frame, reliable brakes, and smooth shifting gears. Regularly maintained and always stored indoors. Asking $300. Serious inquiries only, please. Contact [Your Name] at [Your Phone Number or Email Address] to schedule a viewing.\\n'"
      ]
     },
     "execution_count": 6,
     "metadata": {},
     "output_type": "execute_result"
    }
   ],
   "source": [
    "import random\n",
    "def create_classified_ad(item: str, price: str) -> str:\n",
    "    prompt = f\"\"\"\n",
    "    You are writing a classified ad for used items in a neighborhood online forum. Write a one paragraph description for\n",
    "    a {item} priced at {price}\n",
    "    \"\"\"\n",
    "    response = client.models.generate_content(\n",
    "        model=MODEL_ID,\n",
    "        contents=[prompt],\n",
    "        config=types.GenerateContentConfig(\n",
    "            max_output_tokens=500,\n",
    "            temperature=random.uniform(0.2, 0.9),\n",
    "        )\n",
    "    )\n",
    "    return response.text\n",
    "\n",
    "create_classified_ad(\"3-year old Specialized bike\", \"$300\")"
   ]
  },
  {
   "cell_type": "code",
   "execution_count": 9,
   "id": "7fb0e63a-f130-4eb3-9d67-4d4e48f361cb",
   "metadata": {
    "tags": []
   },
   "outputs": [
    {
     "data": {
      "text/plain": [
       "'Lightly used, 3-year-old Specialized hybrid bike in excellent condition. Perfect for commuting, recreational rides, or exploring bike trails. Features a comfortable saddle, smooth-shifting gears, and reliable brakes. Well-maintained and ready to ride. Asking $300. Local pickup only. Serious inquiries only, please.\\n'"
      ]
     },
     "execution_count": 9,
     "metadata": {},
     "output_type": "execute_result"
    }
   ],
   "source": [
    "example_ad = create_classified_ad(\"3-year old Specialized bike\", \"$300\")\n",
    "example_ad"
   ]
  },
  {
   "cell_type": "markdown",
   "id": "953c47ab-c01f-416b-a4c9-f06093d6a9aa",
   "metadata": {},
   "source": [
    "## Score an ad"
   ]
  },
  {
   "cell_type": "code",
   "execution_count": 33,
   "id": "a36d9f7e-c3a0-4ced-ab0e-cd621da9a603",
   "metadata": {
    "tags": []
   },
   "outputs": [],
   "source": [
    "from dataclasses import dataclass\n",
    "\n",
    "@dataclass\n",
    "class AdScore:\n",
    "    clarity: int\n",
    "    audience_targeting: int\n",
    "    readability: int\n",
    "    contact_info: int\n",
    "    \n",
    "    def total_score(self) -> int:\n",
    "        return self.clarity + self.audience_targeting + self.readability + self.contact_info\n",
    "\n",
    "def score_ad(ad: str) -> AdScore:\n",
    "    prompt = f\"\"\"\n",
    "    You are a professor of advertising at a business school. Score the following classified ad based on the following criteria:\n",
    "    * Is it clear what's being sold? Age, brand, price, and condition are important. (10 points)\n",
    "    * Does it target the most relevant audience for the item? Is it persuasive to that audience? (10 points)\n",
    "    * Is it concise and easy to read? (10 points)\n",
    "    * Does it include contact information? Ideally, the ad specifies the preferred means of communication. (10 points)\n",
    "    \n",
    "    Ad:\n",
    "    {ad}\n",
    "    \"\"\"\n",
    "    response = client.models.generate_content(\n",
    "        model=MODEL_ID,\n",
    "        contents=[prompt],\n",
    "        config=types.GenerateContentConfig(\n",
    "            temperature=0.1,\n",
    "            response_mime_type='application/json',\n",
    "            response_schema=AdScore\n",
    "        )\n",
    "    )\n",
    "    \n",
    "    return response.parsed"
   ]
  },
  {
   "cell_type": "code",
   "execution_count": 34,
   "id": "a4f2e785-6f37-40b0-8697-710583728980",
   "metadata": {
    "tags": []
   },
   "outputs": [
    {
     "data": {
      "text/plain": [
       "AdScore(clarity=9, audience_targeting=8, readability=9, contact_info=2)"
      ]
     },
     "execution_count": 34,
     "metadata": {},
     "output_type": "execute_result"
    }
   ],
   "source": [
    "example_score = score_ad(example_ad)\n",
    "example_score"
   ]
  },
  {
   "cell_type": "code",
   "execution_count": 35,
   "id": "5155df20-0dbc-46b3-b925-6f8f8d792bb8",
   "metadata": {
    "tags": []
   },
   "outputs": [
    {
     "data": {
      "text/plain": [
       "28"
      ]
     },
     "execution_count": 35,
     "metadata": {},
     "output_type": "execute_result"
    }
   ],
   "source": [
    "example_score.total_score()"
   ]
  },
  {
   "cell_type": "markdown",
   "id": "ba01d1d8-8625-433c-a6c4-68785b90c77e",
   "metadata": {},
   "source": [
    "## Generate data"
   ]
  },
  {
   "cell_type": "code",
   "execution_count": 38,
   "id": "a5c83560-3ca2-45d3-ab45-c6441b3a397f",
   "metadata": {
    "tags": []
   },
   "outputs": [
    {
     "data": {
      "text/plain": [
       "{'prompt': 'Selling 3-year old Specialized bike at $300',\n",
       " 'chosen': 'Lightly used, 3-year-old Specialized hybrid bike in excellent condition. Perfect for commuting, recreational rides, or exploring local trails. Features a comfortable saddle, smooth-shifting gears, and responsive brakes. Well-maintained and ready to ride. Asking $300. Serious inquiries only, please contact [Your Name] at [Your Contact Information] to schedule a viewing.\\n',\n",
       " 'rejected': 'Get ready to ride with this gently used, 3-year-old Specialized bike! Perfect for cruising around the neighborhood or hitting local bike paths, this reliable ride is in great condition and ready for a new owner. Asking $300, cash only. Serious inquiries only, please. Contact [Your Contact Information] to arrange a viewing.\\n'}"
      ]
     },
     "execution_count": 38,
     "metadata": {},
     "output_type": "execute_result"
    }
   ],
   "source": [
    "def create_preference_example(item: str, price: str) -> dict:\n",
    "    ad1 = create_classified_ad(item, price)\n",
    "    ad2 = create_classified_ad(item, price)\n",
    "    score1 = score_ad(ad1).total_score()\n",
    "    score2 = score_ad(ad2).total_score()\n",
    "    \n",
    "    preference_example = {\n",
    "        \"prompt\": f\"Selling {item} at {price}\"\n",
    "    }\n",
    "    \n",
    "    if score1 > score2:\n",
    "        preference_example['chosen'] = ad1\n",
    "        preference_example['rejected'] = ad2\n",
    "    else:\n",
    "        preference_example['chosen'] = ad2\n",
    "        preference_example['rejected'] = ad1\n",
    "    \n",
    "    return preference_example\n",
    "\n",
    "create_preference_example(\"3-year old Specialized bike\", \"$300\")"
   ]
  },
  {
   "cell_type": "code",
   "execution_count": 46,
   "id": "6e5b9e04-6a1c-431b-a779-5b053037810c",
   "metadata": {
    "tags": []
   },
   "outputs": [],
   "source": [
    "import json\n",
    "\n",
    "items_for_sale = [\n",
    "    (\"3-year old Specialized road bike\", \"$300\"),\n",
    "    (\"Amazing Spider-Man 361\", \"$200\"),\n",
    "    (\"Like-new copy of Chinua Achebe's Things Fall Apart\", \"$5\"),\n",
    "    (\"6-piece Le Creuset cookware set in good condition\", \"$800\"),\n",
    "]\n",
    "\n",
    "def write_jsonl(num_examples: int, filename: str):\n",
    "    examples = []\n",
    "    for iter in range(num_examples):\n",
    "        print(iter, end=\" ... \")\n",
    "        item, price = random.choice(items_for_sale)\n",
    "        example = create_preference_example(item, price)\n",
    "        examples.append(example)\n",
    "    \n",
    "    with open(filename, \"w\") as ofp:\n",
    "        for example in examples:\n",
    "            json.dump(example, ofp)\n",
    "            ofp.write('\\n')\n",
    "            \n",
    "    return examples, filename"
   ]
  },
  {
   "cell_type": "code",
   "execution_count": 49,
   "id": "87cb0f40-7c0c-4c1f-933b-52cf07234d69",
   "metadata": {
    "tags": []
   },
   "outputs": [
    {
     "name": "stdout",
     "output_type": "stream",
     "text": [
      "0 ... 1 ... "
     ]
    }
   ],
   "source": [
    "examples, filename = write_jsonl(2, \"ad_preference_dataset.jsonl\")"
   ]
  },
  {
   "cell_type": "code",
   "execution_count": 50,
   "id": "23b545b0-94c2-439f-8c39-cb30f441bb3b",
   "metadata": {
    "tags": []
   },
   "outputs": [
    {
     "data": {
      "text/plain": [
       "2"
      ]
     },
     "execution_count": 50,
     "metadata": {},
     "output_type": "execute_result"
    }
   ],
   "source": [
    "len(examples)"
   ]
  },
  {
   "cell_type": "code",
   "execution_count": 51,
   "id": "09387965-2c96-42b3-a1c8-431d04f45cea",
   "metadata": {
    "tags": []
   },
   "outputs": [
    {
     "name": "stdout",
     "output_type": "stream",
     "text": [
      "{\"prompt\": \"Selling 6-piece Le Creuset cookware set in good condition at $800\", \"chosen\": \"Elevate your cooking game with this beautiful 6-piece Le Creuset cookware set! This collection includes a Dutch oven, saucepan, skillet, and lids, all in the classic flame color. Gently used and well-maintained, these pieces are in good condition and ready to provide years of reliable service in your kitchen. A fantastic opportunity to own premium, enameled cast iron cookware at a fraction of the retail price. Asking $800 for the entire set. Serious inquiries only, please.\\n\", \"rejected\": \"Elevate your cooking game with this beautiful 6-piece Le Creuset cookware set! This collection includes a Dutch oven, saucepan, skillet, and three lids, all in vibrant flame orange. While gently used, each piece is in excellent condition with minimal wear and tear, offering the legendary Le Creuset heat retention and even cooking you know and love. Retailing for over $1500 new, this set is yours for the taking at just $800. A fantastic opportunity to own a premium cookware set at a fraction of the price! Serious inquiries only, please.\\n\"}\n",
      "{\"prompt\": \"Selling Like-new copy of Chinua Achebe's Things Fall Apart at $5\", \"chosen\": \"Looking to dive into a classic of African literature? I'm selling a like-new copy of Chinua Achebe's \\\"Things Fall Apart\\\" for just $5! This iconic novel explores the clash between traditional Igbo society and the arrival of European colonialism. The book is in excellent condition, practically unread, and ready for a new home. Perfect for students, book clubs, or anyone looking to expand their literary horizons. Contact me if interested!\\n\", \"rejected\": \"Looking to expand your literary horizons? I'm selling a like-new copy of Chinua Achebe's classic novel, \\\"Things Fall Apart,\\\" for only $5! This poignant and powerful story explores the clash between traditional Igbo society and the arrival of European colonialism. The book is in excellent condition, practically untouched, and ready for a new reader to discover its timeless themes. Perfect for students, book clubs, or anyone interested in African literature. Contact me if interested!\\n\"}\n"
     ]
    }
   ],
   "source": [
    "!head *.jsonl"
   ]
  },
  {
   "cell_type": "markdown",
   "id": "6e6f2ba7-cb5e-4c34-a0fc-492739667d0e",
   "metadata": {},
   "source": [
    "## Do it"
   ]
  },
  {
   "cell_type": "code",
   "execution_count": 52,
   "id": "6401ccb6-7334-4997-b88e-884a07ce3ee9",
   "metadata": {
    "tags": []
   },
   "outputs": [
    {
     "name": "stdout",
     "output_type": "stream",
     "text": [
      "0 ... 1 ... 2 ... 3 ... 4 ... 5 ... 6 ... 7 ... 8 ... 9 ... 10 ... 11 ... 12 ... 13 ... 14 ... 15 ... 16 ... 17 ... 18 ... 19 ... 20 ... 21 ... 22 ... 23 ... 24 ... 25 ... 26 ... 27 ... 28 ... 29 ... 30 ... 31 ... 32 ... 33 ... 34 ... 35 ... 36 ... 37 ... 38 ... 39 ... 40 ... 41 ... 42 ... 43 ... 44 ... 45 ... 46 ... 47 ... 48 ... 49 ... 50 ... 51 ... 52 ... 53 ... 54 ... 55 ... 56 ... 57 ... 58 ... 59 ... 60 ... 61 ... 62 ... 63 ... 64 ... 65 ... 66 ... 67 ... 68 ... 69 ... 70 ... 71 ... 72 ... 73 ... 74 ... 75 ... 76 ... 77 ... 78 ... 79 ... 80 ... 81 ... 82 ... 83 ... 84 ... 85 ... 86 ... 87 ... 88 ... 89 ... 90 ... 91 ... 92 ... 93 ... 94 ... 95 ... 96 ... 97 ... 98 ... 99 ... "
     ]
    }
   ],
   "source": [
    "write_jsonl(100, \"ad_preference_dataset.jsonl\");"
   ]
  },
  {
   "cell_type": "code",
   "execution_count": 53,
   "id": "91f8ba79-f29f-4ab1-890a-98531afa659e",
   "metadata": {
    "tags": []
   },
   "outputs": [
    {
     "name": "stdout",
     "output_type": "stream",
     "text": [
      "100 ad_preference_dataset.jsonl\n"
     ]
    }
   ],
   "source": [
    "!wc -l *.jsonl"
   ]
  },
  {
   "cell_type": "code",
   "execution_count": null,
   "id": "5352874d-73f7-4072-bddd-8d0196032df4",
   "metadata": {},
   "outputs": [],
   "source": []
  }
 ],
 "metadata": {
  "environment": {
   "kernel": "conda-base-py",
   "name": "workbench-notebooks.m126",
   "type": "gcloud",
   "uri": "us-docker.pkg.dev/deeplearning-platform-release/gcr.io/workbench-notebooks:m126"
  },
  "kernelspec": {
   "display_name": "Python 3 (ipykernel) (Local)",
   "language": "python",
   "name": "conda-base-py"
  },
  "language_info": {
   "codemirror_mode": {
    "name": "ipython",
    "version": 3
   },
   "file_extension": ".py",
   "mimetype": "text/x-python",
   "name": "python",
   "nbconvert_exporter": "python",
   "pygments_lexer": "ipython3",
   "version": "3.10.15"
  }
 },
 "nbformat": 4,
 "nbformat_minor": 5
}
