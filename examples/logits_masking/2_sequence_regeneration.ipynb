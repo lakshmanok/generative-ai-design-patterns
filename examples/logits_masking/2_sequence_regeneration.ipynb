{
 "cells": [
  {
   "cell_type": "markdown",
   "id": "f7fe5eda-a9fe-45de-8179-5ebc341d8de4",
   "metadata": {
    "tags": []
   },
   "source": [
    "## Using logprobs to ensure that an acrostic poem is generated"
   ]
  },
  {
   "cell_type": "code",
   "execution_count": 1,
   "id": "378cf8e6-23f7-4442-842f-98f027a18e34",
   "metadata": {
    "tags": []
   },
   "outputs": [],
   "source": [
    "#%pip install --upgrade --quiet transformers torch fbgemm-gpu accelerate"
   ]
  },
  {
   "cell_type": "code",
   "execution_count": 1,
   "id": "2726632e-9ac0-4ba9-b86b-11bd57012b62",
   "metadata": {
    "tags": []
   },
   "outputs": [],
   "source": [
    "# CHANGE this to the Llama model for which you have applied for access via Hugging Face\n",
    "# See: https://www.llama.com/docs/getting-the-models/hugging-face/\n",
    "MODEL_ID = \"meta-llama/Llama-3.2-3B-Instruct\""
   ]
  },
  {
   "cell_type": "code",
   "execution_count": 2,
   "id": "883fd51a-6bfd-4788-a405-9b2e89dbe656",
   "metadata": {
    "tags": []
   },
   "outputs": [],
   "source": [
    "import os\n",
    "from dotenv import load_dotenv\n",
    "load_dotenv(\"../keys.env\")\n",
    "assert os.environ[\"HF_TOKEN\"][:2] == \"hf\",\\\n",
    "       \"Please sign up for access to the specific Llama model via HuggingFace and provide access token in keys.env file\""
   ]
  },
  {
   "cell_type": "markdown",
   "id": "1ca557ff-ee75-46fa-9d0b-70f928008f05",
   "metadata": {},
   "source": [
    "## Zero-shot generation\n"
   ]
  },
  {
   "cell_type": "code",
   "execution_count": 3,
   "id": "f35d22d7-8985-4cde-aef2-e52d4b77cea2",
   "metadata": {
    "tags": []
   },
   "outputs": [
    {
     "data": {
      "application/vnd.jupyter.widget-view+json": {
       "model_id": "aaf2dcc626154c94988d6b210966fe1a",
       "version_major": 2,
       "version_minor": 0
      },
      "text/plain": [
       "Loading checkpoint shards:   0%|          | 0/2 [00:00<?, ?it/s]"
      ]
     },
     "metadata": {},
     "output_type": "display_data"
    },
    {
     "name": "stderr",
     "output_type": "stream",
     "text": [
      "Device set to use cuda:0\n"
     ]
    }
   ],
   "source": [
    "from transformers import pipeline\n",
    "\n",
    "pipe = pipeline(\n",
    "    task=\"text-generation\", \n",
    "    model=MODEL_ID,\n",
    "    use_fast=True,\n",
    "    kwargs={\n",
    "        \"return_full_text\": False,\n",
    "    },\n",
    "    model_kwargs={}\n",
    ")"
   ]
  },
  {
   "cell_type": "code",
   "execution_count": 4,
   "id": "30d81f88-3548-40cb-9c67-95c0249dd505",
   "metadata": {
    "tags": []
   },
   "outputs": [],
   "source": [
    "def get_input_prompts(animal: str, poem_so_far=None, start_word=None):\n",
    "    system_prompt=\"\"\"\n",
    "    You are a poet writing acrostic poems about animals for a childrens' book.\n",
    "    The first letters of the acrostic poem need to spell out an adjective that is suitable for the animal.\n",
    "    For example, the first letters of an acrostic poem about rabbits might spell out \"quick\" or \"cute\"\n",
    "    and the entire poem needs to be a single phrase that describes the animal or something the animal\n",
    "    might do.\n",
    "\n",
    "    Thus, an acrostic poem about rabbits might be:\n",
    "\n",
    "    Quietly, the rabbit bides its time\n",
    "    Under the garden deck\n",
    "    In wait for\n",
    "    Carrot greens,\n",
    "    Kale, and parsley.\n",
    "    \n",
    "    Respond with only the poem. Do not include any preamble or introduction.\n",
    "    \"\"\"\n",
    " \n",
    "    if poem_so_far:\n",
    "        user_prompt=f\"\"\"\n",
    "        Complete the following acrostic poem about {animal}.\n",
    "        The starting letters of the poem's lines need to spell out the word {start_word}.\n",
    "        \n",
    "        Poem:\n",
    "        {poem_so_far}\"\"\"\n",
    "    else:\n",
    "        user_prompt=f\"\"\"\n",
    "        Write an acrostic poem about {animal}.\n",
    "        \n",
    "        Poem:\n",
    "        \"\"\"\n",
    "    \n",
    "    return system_prompt, user_prompt\n",
    "    \n",
    "\n",
    "def get_input_message(animal: str, poem_so_far=None):\n",
    "    system_prompt, user_prompt = get_input_prompts(animal, poem_so_far)\n",
    "    return [\n",
    "        {\"role\": \"system\", \"content\": system_prompt},\n",
    "        {\"role\": \"user\", \"content\": user_prompt}\n",
    "    ]"
   ]
  },
  {
   "cell_type": "code",
   "execution_count": 5,
   "id": "91e470ee-e57b-4ec2-8edd-9f9317e55939",
   "metadata": {
    "tags": []
   },
   "outputs": [
    {
     "name": "stderr",
     "output_type": "stream",
     "text": [
      "Setting `pad_token_id` to `eos_token_id`:128001 for open-end generation.\n"
     ]
    }
   ],
   "source": [
    "results = pipe(get_input_message(\"tiger\"), max_new_tokens=256)"
   ]
  },
  {
   "cell_type": "code",
   "execution_count": 6,
   "id": "a932a43b-a7b4-4696-8015-f823349bbc12",
   "metadata": {
    "tags": []
   },
   "outputs": [
    {
     "name": "stdout",
     "output_type": "stream",
     "text": [
      "[{'generated_text': [{'role': 'system', 'content': '\\n    You are a poet writing acrostic poems about animals for a childrens\\' book.\\n    The first letters of the acrostic poem need to spell out an adjective that is suitable for the animal.\\n    For example, the first letters of an acrostic poem about rabbits might spell out \"quick\" or \"cute\"\\n    and the entire poem needs to be a single phrase that describes the animal or something the animal\\n    might do.\\n\\n    Thus, an acrostic poem about rabbits might be:\\n\\n    Quietly, the rabbit bides its time\\n    Under the garden deck\\n    In wait for\\n    Carrot greens,\\n    Kale, and parsley.\\n    \\n    Respond with only the poem. Do not include any preamble or introduction.\\n    '}, {'role': 'user', 'content': '\\n        Write an acrostic poem about tiger.\\n        \\n        Poem:\\n        '}, {'role': 'assistant', 'content': 'Powerful eyes, piercing the night\\nOrange and black, a majestic sight\\nRuling the forest, with gentle might\\nElegant steps, a silent stride'}]}]\n"
     ]
    }
   ],
   "source": [
    "print(results)"
   ]
  },
  {
   "cell_type": "code",
   "execution_count": 7,
   "id": "8080ca3d-f6c5-4535-a944-efbaba1d9571",
   "metadata": {
    "tags": []
   },
   "outputs": [
    {
     "name": "stdout",
     "output_type": "stream",
     "text": [
      "Powerful eyes, piercing the night\n",
      "Orange and black, a majestic sight\n",
      "Ruling the forest, with gentle might\n",
      "Elegant steps, a silent stride\n"
     ]
    }
   ],
   "source": [
    "print(results[0]['generated_text'][-1]['content'])"
   ]
  },
  {
   "cell_type": "markdown",
   "id": "48c4a262-62ae-4d47-bb22-fe6775412e3c",
   "metadata": {},
   "source": [
    "Our result:\n",
    "```\n",
    "Powerful eyes gleam in the night\n",
    "Occupying shadows, a fierce sight\n",
    "Ruling the forest with gentle might\n",
    "Elegant, a creature of beauty bright\n",
    "```\n",
    "As you can see, the model probably tried to generate POWER as the starting letters, but failed.\n",
    "There are several ways to fix this. Reflection might work, for example.\n",
    "But in this notebook, we'll illustrate how to use logprobs to select the next best sequence that meets our style constraints."
   ]
  },
  {
   "cell_type": "markdown",
   "id": "edc0d05e-96ea-48b4-bcef-b1dbb5983723",
   "metadata": {},
   "source": [
    "## Getting logprobs of sequences, generating candidate starting words"
   ]
  },
  {
   "cell_type": "code",
   "execution_count": 8,
   "id": "50e7daa7-7e08-45b1-ad4b-28bec37bad9c",
   "metadata": {
    "tags": []
   },
   "outputs": [],
   "source": [
    "inputs = pipe.tokenizer('\\n'.join(get_input_prompts(\"tiger\")), return_tensors=\"pt\").to(\"cuda\")"
   ]
  },
  {
   "cell_type": "code",
   "execution_count": 9,
   "id": "fa7ff0cc-96bf-4c7d-98b9-76a044229381",
   "metadata": {
    "tags": []
   },
   "outputs": [
    {
     "name": "stdout",
     "output_type": "stream",
     "text": [
      "{'input_ids': tensor([[128000,    198,    262,   1472,    527,    264,  40360,   4477,   1645,\n",
      "          42602,    292,  45319,    922,  10099,    369,    264,   2911,     82,\n",
      "              6,   2363,    627,    262,    578,   1176,  12197,    315,    279,\n",
      "           1645,  42602,    292,  33894,   1205,    311,  13141,    704,    459,\n",
      "          85592,    430,    374,  14791,    369,    279,  10065,    627,    262,\n",
      "           1789,   3187,     11,    279,   1176,  12197,    315,    459,   1645,\n",
      "          42602,    292,  33894,    922,  70244,   2643,  13141,    704,    330,\n",
      "          28863,      1,    477,    330,     66,   1088,    702,    262,    323,\n",
      "            279,   4553,  33894,   3966,    311,    387,    264,   3254,  17571,\n",
      "            430,  16964,    279,  10065,    477,   2555,    279,  10065,    198,\n",
      "            262,   2643,    656,    382,    262,  14636,     11,    459,   1645,\n",
      "          42602,    292,  33894,    922,  70244,   2643,    387,   1473,    262,\n",
      "          68587,    398,     11,    279,  39824,    293,   3422,   1202,    892,\n",
      "            198,    262,   9636,    279,  13863,   9722,    198,    262,    763,\n",
      "           3868,    369,    198,    262,   3341,   4744,  52011,    345,    262,\n",
      "          97842,     11,    323,  88621,    627,   1084,    262,  40633,    449,\n",
      "           1193,    279,  33894,     13,   3234,    539,   2997,    904,  90554,\n",
      "            477,  17219,    627,  15152,    286,   9842,    459,   1645,  42602,\n",
      "            292,  33894,    922,  52835,    627,   1827,    286,  14128,    336,\n",
      "            512,    260]], device='cuda:0'), 'attention_mask': tensor([[1, 1, 1, 1, 1, 1, 1, 1, 1, 1, 1, 1, 1, 1, 1, 1, 1, 1, 1, 1, 1, 1, 1, 1,\n",
      "         1, 1, 1, 1, 1, 1, 1, 1, 1, 1, 1, 1, 1, 1, 1, 1, 1, 1, 1, 1, 1, 1, 1, 1,\n",
      "         1, 1, 1, 1, 1, 1, 1, 1, 1, 1, 1, 1, 1, 1, 1, 1, 1, 1, 1, 1, 1, 1, 1, 1,\n",
      "         1, 1, 1, 1, 1, 1, 1, 1, 1, 1, 1, 1, 1, 1, 1, 1, 1, 1, 1, 1, 1, 1, 1, 1,\n",
      "         1, 1, 1, 1, 1, 1, 1, 1, 1, 1, 1, 1, 1, 1, 1, 1, 1, 1, 1, 1, 1, 1, 1, 1,\n",
      "         1, 1, 1, 1, 1, 1, 1, 1, 1, 1, 1, 1, 1, 1, 1, 1, 1, 1, 1, 1, 1, 1, 1, 1,\n",
      "         1, 1, 1, 1, 1, 1, 1, 1, 1, 1, 1, 1, 1, 1, 1, 1, 1, 1, 1, 1, 1, 1, 1, 1,\n",
      "         1, 1, 1, 1, 1]], device='cuda:0')}\n"
     ]
    }
   ],
   "source": [
    "print(inputs)"
   ]
  },
  {
   "cell_type": "code",
   "execution_count": 10,
   "id": "a52e87c3-a80f-43e9-8ece-d384c2dfc4cf",
   "metadata": {
    "tags": []
   },
   "outputs": [
    {
     "name": "stderr",
     "output_type": "stream",
     "text": [
      "Setting `pad_token_id` to `eos_token_id`:128001 for open-end generation.\n",
      "From v4.47 onwards, when a model cache is to be returned, `generate` will return a `Cache` instance instead by default (as opposed to the legacy tuple of tuples format). If you want to keep returning the legacy format, please set `return_legacy_cache=True`.\n"
     ]
    }
   ],
   "source": [
    "# See: https://discuss.huggingface.co/t/announcement-generation-get-probabilities-for-generated-output/30075\n",
    "results = pipe.model.generate(\n",
    "    **inputs,\n",
    "    max_new_tokens=16,\n",
    "    num_beams=4,\n",
    "    num_return_sequences=4,\n",
    "    output_scores=True,\n",
    "    renormalize_logits=True,\n",
    "    return_dict_in_generate=True\n",
    ")"
   ]
  },
  {
   "cell_type": "code",
   "execution_count": 11,
   "id": "22187663-7c60-45ce-bc9b-1b21a2115df1",
   "metadata": {
    "tags": []
   },
   "outputs": [
    {
     "name": "stdout",
     "output_type": "stream",
     "text": [
      "tensor([128000,    198,    262,   1472,    527,    264,  40360,   4477,   1645,\n",
      "         42602,    292,  45319,    922,  10099,    369,    264,   2911,     82,\n",
      "             6,   2363,    627,    262,    578,   1176,  12197,    315,    279,\n",
      "          1645,  42602,    292,  33894,   1205,    311,  13141,    704,    459,\n",
      "         85592,    430,    374,  14791,    369,    279,  10065,    627,    262,\n",
      "          1789,   3187,     11,    279,   1176,  12197,    315,    459,   1645,\n",
      "         42602,    292,  33894,    922,  70244,   2643,  13141,    704,    330,\n",
      "         28863,      1,    477,    330,     66,   1088,    702,    262,    323,\n",
      "           279,   4553,  33894,   3966,    311,    387,    264,   3254,  17571,\n",
      "           430,  16964,    279,  10065,    477,   2555,    279,  10065,    198,\n",
      "           262,   2643,    656,    382,    262,  14636,     11,    459,   1645,\n",
      "         42602,    292,  33894,    922,  70244,   2643,    387,   1473,    262,\n",
      "         68587,    398,     11,    279,  39824,    293,   3422,   1202,    892,\n",
      "           198,    262,   9636,    279,  13863,   9722,    198,    262,    763,\n",
      "          3868,    369,    198,    262,   3341,   4744,  52011,    345,    262,\n",
      "         97842,     11,    323,  88621,    627,   1084,    262,  40633,    449,\n",
      "          1193,    279,  33894,     13,   3234,    539,   2997,    904,  90554,\n",
      "           477,  17219,    627,  15152,    286,   9842,    459,   1645,  42602,\n",
      "           292,  33894,    922,  52835,    627,   1827,    286,  14128,    336,\n",
      "           512,    260,  18165,  19995,     11,    279,  52835,  55972,     82,\n",
      "          1202,  37693,    198,    260,    469,   1435,    398,     11,    433],\n",
      "       device='cuda:0')\n"
     ]
    }
   ],
   "source": [
    "print(results.sequences[0])"
   ]
  },
  {
   "cell_type": "code",
   "execution_count": 12,
   "id": "4b5cc348-e916-4f4b-8be0-7c32b12a227d",
   "metadata": {
    "tags": []
   },
   "outputs": [
    {
     "name": "stdout",
     "output_type": "stream",
     "text": [
      "tensor([-0.2343, -0.2487, -0.2972, -0.3116], device='cuda:0')\n"
     ]
    }
   ],
   "source": [
    "print(results.sequences_scores)"
   ]
  },
  {
   "cell_type": "code",
   "execution_count": 13,
   "id": "07287cc2-afd3-4083-b58c-ab0e2c5d6569",
   "metadata": {
    "tags": []
   },
   "outputs": [
    {
     "data": {
      "text/plain": [
       "'<|begin_of_text|>\\n    You are a poet writing acrostic poems about animals for a childrens\\' book.\\n    The first letters of the acrostic poem need to spell out an adjective that is suitable for the animal.\\n    For example, the first letters of an acrostic poem about rabbits might spell out \"quick\" or \"cute\"\\n    and the entire poem needs to be a single phrase that describes the animal or something the animal\\n    might do.\\n\\n    Thus, an acrostic poem about rabbits might be:\\n\\n    Quietly, the rabbit bides its time\\n    Under the garden deck\\n    In wait for\\n    Carrot greens,\\n    Kale, and parsley.\\n    \\n    Respond with only the poem. Do not include any preamble or introduction.\\n    \\n\\n        Write an acrostic poem about tiger.\\n        \\n        Poem:\\n         Tenacious, the tiger stalks its prey\\n         Eagerly, it'"
      ]
     },
     "execution_count": 13,
     "metadata": {},
     "output_type": "execute_result"
    }
   ],
   "source": [
    "pipe.tokenizer.decode(results.sequences[0])"
   ]
  },
  {
   "cell_type": "code",
   "execution_count": 14,
   "id": "32f0a332-69b2-4f55-a922-e1f04ddb84fa",
   "metadata": {
    "tags": []
   },
   "outputs": [
    {
     "name": "stdout",
     "output_type": "stream",
     "text": [
      "['Tenacious, the tiger stalks its prey', 'Eagerly, it']\n"
     ]
    }
   ],
   "source": [
    "def get_poem_so_far(sequence: str):\n",
    "    last_phrase = \"Poem:\"\n",
    "    lines = sequence[sequence.find(last_phrase)+len(last_phrase):].split('\\n')\n",
    "    lines = [line.strip() for line in lines]\n",
    "    lines = [line for line in lines if len(line) > 0] # non-empty lines\n",
    "    #lines = [line for line in lines if len(line) > 2] # at least 3 letters\n",
    "    return lines\n",
    "\n",
    "candidate_poem = get_poem_so_far(pipe.tokenizer.decode(results.sequences[0]))\n",
    "print(candidate_poem)"
   ]
  },
  {
   "cell_type": "code",
   "execution_count": 15,
   "id": "e1d893b8-8772-4a44-bf45-cb7600d8af2d",
   "metadata": {
    "tags": []
   },
   "outputs": [
    {
     "data": {
      "text/plain": [
       "'te'"
      ]
     },
     "execution_count": 15,
     "metadata": {},
     "output_type": "execute_result"
    }
   ],
   "source": [
    "''.join([line[0] for line in candidate_poem]).lower()"
   ]
  },
  {
   "cell_type": "code",
   "execution_count": 16,
   "id": "2e3bde9f-6739-46dc-bf2f-02720bba5f6f",
   "metadata": {
    "tags": []
   },
   "outputs": [
    {
     "name": "stderr",
     "output_type": "stream",
     "text": [
      "Setting `pad_token_id` to `eos_token_id`:128001 for open-end generation.\n"
     ]
    },
    {
     "name": "stdout",
     "output_type": "stream",
     "text": [
      "['wild', 'agile', 'regal', 'swift', 'fierce']\n"
     ]
    }
   ],
   "source": [
    "import re\n",
    "\n",
    "def get_potential_starts(animal: str, num_words: int):\n",
    "    system_prompt=f\"\"\"\n",
    "    You are an expert on words who has access to a thesaurus.\n",
    "    Respond with a list of adjectives that could complete the phrase \"As ___ as a {animal}\"\n",
    "    For example, for a rabbit, you could respond with:   quick, fast, gentle, playful       \n",
    "    Respond with just a list of words without any introduction or preamble.\n",
    "    \"\"\"\n",
    "    user_prompt=f\"Give me the best {num_words*3} adjectives that would complete the phrase 'As ___ as a {animal}'\"\n",
    "    input_message = [\n",
    "        {\"role\": \"system\", \"content\": system_prompt},\n",
    "        {\"role\": \"user\", \"content\": user_prompt}\n",
    "    ]\n",
    "\n",
    "    result = pipe(input_message, max_new_tokens=256)\n",
    "    words = result[0]['generated_text'][-1]['content']\n",
    "    # remove numbering, commas, etc.\n",
    "    words = re.compile('[^a-z]').sub(' ', words.lower()).split()\n",
    "    # at least 4 letters\n",
    "    words = [w for w in words if len(w) > 3]\n",
    "    # get unique words\n",
    "    words = list(set(words))\n",
    "    # sort them by length\n",
    "    words = sorted(words, key=lambda x: len(x))\n",
    "    return words[:num_words]\n",
    "\n",
    "start_words = get_potential_starts(\"tiger\", 5)\n",
    "print(start_words)"
   ]
  },
  {
   "cell_type": "code",
   "execution_count": 17,
   "id": "023ee7bb-f00f-4715-bdd5-d6c53584e6a7",
   "metadata": {
    "tags": []
   },
   "outputs": [
    {
     "name": "stderr",
     "output_type": "stream",
     "text": [
      "Setting `pad_token_id` to `eos_token_id`:128001 for open-end generation.\n"
     ]
    },
    {
     "data": {
      "text/plain": [
       "'Nimbly navigating the'"
      ]
     },
     "execution_count": 17,
     "metadata": {},
     "output_type": "execute_result"
    }
   ],
   "source": [
    "def get_phrase_that_starts_with(animal: str, letter: str):\n",
    "    system_prompt=f\"\"\"\n",
    "    You are writing a children's book. Write a phrase about a {animal} that starts with the letter {letter}\n",
    "    Respond with just the phrase without an introduction or preamble.\n",
    "    \"\"\"\n",
    "    user_prompt=f\"Write a phrase about a {animal} that starts with the letter {letter}\"\n",
    "    input_message = [\n",
    "        {\"role\": \"system\", \"content\": system_prompt},\n",
    "        {\"role\": \"user\", \"content\": user_prompt}\n",
    "    ]\n",
    "\n",
    "    result = pipe(input_message, max_new_tokens=256)\n",
    "    phrase = result[0]['generated_text'][-1]['content']\n",
    "    return ' '.join(phrase.split()[:3]) # max 3 words\n",
    "\n",
    "get_phrase_that_starts_with(\"tiger\", \"N\")"
   ]
  },
  {
   "cell_type": "code",
   "execution_count": 18,
   "id": "87c959a2-9c77-4a8f-a6bf-f35c2dd8d797",
   "metadata": {
    "tags": []
   },
   "outputs": [
    {
     "name": "stderr",
     "output_type": "stream",
     "text": [
      "Setting `pad_token_id` to `eos_token_id`:128001 for open-end generation.\n"
     ]
    },
    {
     "data": {
      "text/plain": [
       "('wild', ['Wrapped in warm,'])"
      ]
     },
     "execution_count": 18,
     "metadata": {},
     "output_type": "execute_result"
    }
   ],
   "source": [
    "import numpy as np\n",
    "import random\n",
    "\n",
    "def initialize_poem(animal: str, allowed_start_words: [str]):\n",
    "    # the weight of a word is inversely proportional to its length\n",
    "    lengths = [1.0*len(w) for w in allowed_start_words]\n",
    "    max_len = np.max(lengths)\n",
    "    weights = (max_len - lengths)\n",
    "    weights = weights / np.sum(weights)\n",
    "    \n",
    "    start_word = random.choices(population=allowed_start_words, weights=weights, k=1)[0].lower()\n",
    "    start_letter = start_word[0].upper()\n",
    "    return start_word, [get_phrase_that_starts_with(animal, start_letter)]\n",
    "\n",
    "initialize_poem(\"tiger\", start_words)"
   ]
  },
  {
   "cell_type": "markdown",
   "id": "bf1e3b5f-6b79-4dce-afe0-738bb9b02223",
   "metadata": {},
   "source": [
    "## Putting it together"
   ]
  },
  {
   "cell_type": "code",
   "execution_count": 19,
   "id": "797426ac-b2f5-4135-9445-e7eea83942c4",
   "metadata": {
    "tags": []
   },
   "outputs": [
    {
     "name": "stderr",
     "output_type": "stream",
     "text": [
      "Setting `pad_token_id` to `eos_token_id`:128001 for open-end generation.\n",
      "Setting `pad_token_id` to `eos_token_id`:128001 for open-end generation.\n"
     ]
    },
    {
     "name": "stdout",
     "output_type": "stream",
     "text": [
      "Allowed start words: ['bold', 'wild', 'swift', 'agile', 'regal', 'brutal', 'savage', 'fierce', 'strong', 'daring']\n"
     ]
    },
    {
     "name": "stderr",
     "output_type": "stream",
     "text": [
      "Setting `pad_token_id` to `eos_token_id`:128001 for open-end generation.\n"
     ]
    },
    {
     "name": "stdout",
     "output_type": "stream",
     "text": [
      "Generating poem for bold starting with Brightening up the\n"
     ]
    },
    {
     "name": "stderr",
     "output_type": "stream",
     "text": [
      "Setting `pad_token_id` to `eos_token_id`:128001 for open-end generation.\n"
     ]
    },
    {
     "name": "stdout",
     "output_type": "stream",
     "text": [
      "Iter: 0 Word: bold Seqno: 0 Prob: -0.3130958378314972  Poem: Brightening up the forest floor;Often, the tiger stalks its prey;Lur\n",
      "Iter: 0 Word: bold Seqno: 1 Prob: -0.38531529903411865  Poem: Brightening up the forest floor;Lively eyes watch all around;Owning the night\n",
      "Iter: 0 Word: bold Seqno: 2 Prob: -0.3993738293647766  Poem: Brightening up the forest floor;Lively eyes watch for prey;Owning the night\n",
      "Iter: 0 Word: bold Seqno: 3 Prob: -0.4188476502895355  Poem: Brightening up the forest floor;Outstanding in its stripes so fine;Lively and full\n",
      "Iter: 0 Word: bold Seqno: 4 Prob: -0.4323868155479431  Poem: Brightening up the forest floor;Lively eyes watch all around;Owning every step\n",
      "Iter: 0 Word: bold Seqno: 5 Prob: -0.44371211528778076  Poem: Brightening up the forest floor;Lively eyes watch all around;Owning its territory\n",
      "Iter: 0 Word: bold Seqno: 6 Prob: -0.44378626346588135  Poem: Brightening up the forest floor;Lively eyes watch all around;Owning the land\n",
      "Iter: 0 Word: bold Seqno: 7 Prob: -0.4473494291305542  Poem: Brightening up the forest floor;Lively eyes watch all around;Owning the space\n",
      "Iter: 0 Word: bold Seqno: 8 Prob: -0.4565284252166748  Poem: Brightening up the jungle night;Owls and tigers roam free;Lively creatures\n",
      "Iter: 0 Word: bold Seqno: 9 Prob: -0.456742525100708  Poem: Brightening up the forest floor;Lively eyes watch all around;Owning the trees\n",
      "Generating poem for bold starting with Brightening up the forest floor;Often, the tiger stalks its prey;Lur\n"
     ]
    },
    {
     "name": "stderr",
     "output_type": "stream",
     "text": [
      "Setting `pad_token_id` to `eos_token_id`:128001 for open-end generation.\n"
     ]
    },
    {
     "name": "stdout",
     "output_type": "stream",
     "text": [
      "Iter: 1 Word: bold Seqno: 0 Prob: -0.29903364181518555  Poem: Brightening up the forest floor;Often, the tiger stalks its prey;Lurking in the shadows, waiting to pounce;Daring to be the king\n",
      "Found poem: {'poem': ['Brightening up the forest floor', 'Often, the tiger stalks its prey', 'Lurking in the shadows, waiting to pounce', 'Daring to be the king'], 'prob': 0.7415344715118408, 'word': 'bold'}\n",
      "Iter: 1 Word: bold Seqno: 1 Prob: -0.33443838357925415  Poem: Brightening up the forest floor;Often, the tiger stalks its prey;Lurking, it waits for the perfect moment;Daring, it pounces with\n",
      "Found poem: {'poem': ['Brightening up the forest floor', 'Often, the tiger stalks its prey', 'Lurking, it waits for the perfect moment', 'Daring, it pounces with'], 'prob': 0.7157399654388428, 'word': 'bold'}\n",
      "Iter: 1 Word: bold Seqno: 2 Prob: -0.3383497893810272  Poem: Brightening up the forest floor;Often, the tiger stalks its prey;Lurking, it waits for the perfect moment;Daring to pounce, it\n",
      "Found poem: {'poem': ['Brightening up the forest floor', 'Often, the tiger stalks its prey', 'Lurking, it waits for the perfect moment', 'Daring to pounce, it'], 'prob': 0.7129458785057068, 'word': 'bold'}\n",
      "Iter: 1 Word: bold Seqno: 3 Prob: -0.35424602031707764  Poem: Brightening up the forest floor;Often, the tiger stalks its prey;Lurking, it waits for the perfect moment;Daring to pounce and take\n",
      "Found poem: {'poem': ['Brightening up the forest floor', 'Often, the tiger stalks its prey', 'Lurking, it waits for the perfect moment', 'Daring to pounce and take'], 'prob': 0.701702356338501, 'word': 'bold'}\n",
      "Iter: 1 Word: bold Seqno: 4 Prob: -0.3608771860599518  Poem: Brightening up the forest floor;Often, the tiger stalks its prey;Lurking, it waits for the right moment;Daring to pounce, it\n",
      "Found poem: {'poem': ['Brightening up the forest floor', 'Often, the tiger stalks its prey', 'Lurking, it waits for the right moment', 'Daring to pounce, it'], 'prob': 0.6970645785331726, 'word': 'bold'}\n",
      "Iter: 1 Word: bold Seqno: 5 Prob: -0.3656456470489502  Poem: Brightening up the forest floor;Often, the tiger stalks its prey;Lurking in the shadows;Daring to pounce\n",
      "Found poem: {'poem': ['Brightening up the forest floor', 'Often, the tiger stalks its prey', 'Lurking in the shadows', 'Daring to pounce'], 'prob': 0.6937485933303833, 'word': 'bold'}\n",
      "Iter: 1 Word: bold Seqno: 6 Prob: -0.37335705757141113  Poem: Brightening up the forest floor;Often, the tiger stalks its prey;Lurking, waiting for the perfect moment;Daring to pounce and take its\n",
      "Found poem: {'poem': ['Brightening up the forest floor', 'Often, the tiger stalks its prey', 'Lurking, waiting for the perfect moment', 'Daring to pounce and take its'], 'prob': 0.6884193420410156, 'word': 'bold'}\n",
      "Iter: 1 Word: bold Seqno: 7 Prob: -0.3858274221420288  Poem: Brightening up the forest floor;Often, the tiger stalks its prey;Lurking, it waits for the right moment;Daring to pounce and take\n",
      "Found poem: {'poem': ['Brightening up the forest floor', 'Often, the tiger stalks its prey', 'Lurking, it waits for the right moment', 'Daring to pounce and take'], 'prob': 0.6798878312110901, 'word': 'bold'}\n",
      "Iter: 1 Word: bold Seqno: 8 Prob: -0.3899189233779907  Poem: Brightening up the forest floor;Often, the tiger stalks its prey;Lurking, it waits for the perfect moment;Daring to pounce, with\n",
      "Found poem: {'poem': ['Brightening up the forest floor', 'Often, the tiger stalks its prey', 'Lurking, it waits for the perfect moment', 'Daring to pounce, with'], 'prob': 0.6771117448806763, 'word': 'bold'}\n",
      "Iter: 1 Word: bold Seqno: 9 Prob: -0.42253220081329346  Poem: Brightening up the forest floor;Often, the tiger stalks its prey;Lurking, it waits for the perfect moment;Daring to pounce with lightning\n",
      "Found poem: {'poem': ['Brightening up the forest floor', 'Often, the tiger stalks its prey', 'Lurking, it waits for the perfect moment', 'Daring to pounce with lightning'], 'prob': 0.6553851366043091, 'word': 'bold'}\n",
      "Generating poem for bold starting with Brightening up the forest floor;Often, the tiger stalks its prey;Lurking in the shadows, waiting to pounce;Daring to be the king\n"
     ]
    },
    {
     "name": "stderr",
     "output_type": "stream",
     "text": [
      "Setting `pad_token_id` to `eos_token_id`:128001 for open-end generation.\n"
     ]
    },
    {
     "name": "stdout",
     "output_type": "stream",
     "text": [
      "Iter: 2 Word: bold Seqno: 0 Prob: -0.21241307258605957  Poem: Brightening up the forest floor;Often, the tiger stalks its prey;Lurking in the shadows, waiting to pounce;Daring to be the king of the jungle\n",
      "Found poem: {'poem': ['Brightening up the forest floor', 'Often, the tiger stalks its prey', 'Lurking in the shadows, waiting to pounce', 'Daring to be the king of the jungle'], 'prob': 0.8086305260658264, 'word': 'bold'}\n",
      "Iter: 2 Word: bold Seqno: 1 Prob: -0.23670922219753265  Poem: Brightening up the forest floor;Often, the tiger stalks its prey;Lurking in the shadows, waiting to pounce;Daring to be the king of the jungle\n",
      "Found poem: {'poem': ['Brightening up the forest floor', 'Often, the tiger stalks its prey', 'Lurking in the shadows, waiting to pounce', 'Daring to be the king of the jungle'], 'prob': 0.7892206907272339, 'word': 'bold'}\n",
      "Iter: 2 Word: bold Seqno: 2 Prob: -0.2513730227947235  Poem: Brightening up the forest floor;Often, the tiger stalks its prey;Lurking in the shadows, waiting to pounce;Daring to be the king of the land\n",
      "Found poem: {'poem': ['Brightening up the forest floor', 'Often, the tiger stalks its prey', 'Lurking in the shadows, waiting to pounce', 'Daring to be the king of the land'], 'prob': 0.7777321338653564, 'word': 'bold'}\n",
      "Iter: 2 Word: bold Seqno: 3 Prob: -0.2574351131916046  Poem: Brightening up the forest floor;Often, the tiger stalks its prey;Lurking in the shadows, waiting to pounce;Daring to be the king of the wild\n",
      "Found poem: {'poem': ['Brightening up the forest floor', 'Often, the tiger stalks its prey', 'Lurking in the shadows, waiting to pounce', 'Daring to be the king of the wild'], 'prob': 0.7730317711830139, 'word': 'bold'}\n",
      "Iter: 2 Word: bold Seqno: 4 Prob: -0.27463826537132263  Poem: Brightening up the forest floor;Often, the tiger stalks its prey;Lurking in the shadows, waiting to pounce;Daring to be the king of the land\n",
      "Found poem: {'poem': ['Brightening up the forest floor', 'Often, the tiger stalks its prey', 'Lurking in the shadows, waiting to pounce', 'Daring to be the king of the land'], 'prob': 0.7598469257354736, 'word': 'bold'}\n",
      "Iter: 2 Word: bold Seqno: 5 Prob: -0.28126227855682373  Poem: Brightening up the forest floor;Often, the tiger stalks its prey;Lurking in the shadows, waiting to pounce;Daring to be the king of the wild\n",
      "Found poem: {'poem': ['Brightening up the forest floor', 'Often, the tiger stalks its prey', 'Lurking in the shadows, waiting to pounce', 'Daring to be the king of the wild'], 'prob': 0.7548303008079529, 'word': 'bold'}\n",
      "Iter: 2 Word: bold Seqno: 6 Prob: -0.28740188479423523  Poem: Brightening up the forest floor;Often, the tiger stalks its prey;Lurking in the shadows, waiting to pounce;Daring to be the king of beasts\n",
      "Found poem: {'poem': ['Brightening up the forest floor', 'Often, the tiger stalks its prey', 'Lurking in the shadows, waiting to pounce', 'Daring to be the king of beasts'], 'prob': 0.750210165977478, 'word': 'bold'}\n",
      "Iter: 2 Word: bold Seqno: 7 Prob: -0.2991505265235901  Poem: Brightening up the forest floor;Often, the tiger stalks its prey;Lurking in the shadows, waiting to pounce;Daring to be the king of the night\n",
      "Found poem: {'poem': ['Brightening up the forest floor', 'Often, the tiger stalks its prey', 'Lurking in the shadows, waiting to pounce', 'Daring to be the king of the night'], 'prob': 0.7414477467536926, 'word': 'bold'}\n",
      "Iter: 2 Word: bold Seqno: 8 Prob: -0.3022661805152893  Poem: Brightening up the forest floor;Often, the tiger stalks its prey;Lurking in the shadows, waiting to pounce;Daring to be the king of the jungle\n",
      "Found poem: {'poem': ['Brightening up the forest floor', 'Often, the tiger stalks its prey', 'Lurking in the shadows, waiting to pounce', 'Daring to be the king of the jungle'], 'prob': 0.7391412854194641, 'word': 'bold'}\n",
      "Iter: 2 Word: bold Seqno: 9 Prob: -0.3071216940879822  Poem: Brightening up the forest floor;Often, the tiger stalks its prey;Lurking in the shadows, waiting to pounce;Daring to be the king of beasts\n",
      "Found poem: {'poem': ['Brightening up the forest floor', 'Often, the tiger stalks its prey', 'Lurking in the shadows, waiting to pounce', 'Daring to be the king of beasts'], 'prob': 0.7355611324310303, 'word': 'bold'}\n",
      "Generating poem for bold starting with Brightening up the forest floor;Often, the tiger stalks its prey;Lurking in the shadows, waiting to pounce;Daring to be the king of the jungle\n"
     ]
    },
    {
     "name": "stderr",
     "output_type": "stream",
     "text": [
      "Setting `pad_token_id` to `eos_token_id`:128001 for open-end generation.\n"
     ]
    },
    {
     "name": "stdout",
     "output_type": "stream",
     "text": [
      "Iter: 3 Word: bold Seqno: 0 Prob: -0.1504940688610077  Poem: Brightening up the forest floor;Often, the tiger stalks its prey;Lurking in the shadows, waiting to pounce;Daring to be the king of the jungle\n",
      "Found poem: {'poem': ['Brightening up the forest floor', 'Often, the tiger stalks its prey', 'Lurking in the shadows, waiting to pounce', 'Daring to be the king of the jungle'], 'prob': 0.860282838344574, 'word': 'bold'}\n",
      "Iter: 3 Word: bold Seqno: 1 Prob: -0.16466376185417175  Poem: Brightening up the forest floor;Often, the tiger stalks its prey;Lurking in the shadows, waiting to pounce;Daring to be the king of the jungle\n",
      "Found poem: {'poem': ['Brightening up the forest floor', 'Often, the tiger stalks its prey', 'Lurking in the shadows, waiting to pounce', 'Daring to be the king of the jungle'], 'prob': 0.8481788039207458, 'word': 'bold'}\n",
      "Iter: 3 Word: bold Seqno: 2 Prob: -0.2279469221830368  Poem: Brightening up the forest floor;Often, the tiger stalks its prey;Lurking in the shadows, waiting to pounce;Daring to be the king of the jungle\n",
      "Found poem: {'poem': ['Brightening up the forest floor', 'Often, the tiger stalks its prey', 'Lurking in the shadows, waiting to pounce', 'Daring to be the king of the jungle'], 'prob': 0.7961665391921997, 'word': 'bold'}\n",
      "Iter: 3 Word: bold Seqno: 3 Prob: -0.2570124566555023  Poem: Brightening up the forest floor;Often, the tiger stalks its prey;Lurking in the shadows, waiting to pounce;Daring to be the king of the jungle\n",
      "Found poem: {'poem': ['Brightening up the forest floor', 'Often, the tiger stalks its prey', 'Lurking in the shadows, waiting to pounce', 'Daring to be the king of the jungle'], 'prob': 0.7733585834503174, 'word': 'bold'}\n",
      "Iter: 3 Word: bold Seqno: 4 Prob: -0.2587886452674866  Poem: Brightening up the forest floor;Often, the tiger stalks its prey;Lurking in the shadows, waiting to pounce;Daring to be the king of the jungle\n",
      "Found poem: {'poem': ['Brightening up the forest floor', 'Often, the tiger stalks its prey', 'Lurking in the shadows, waiting to pounce', 'Daring to be the king of the jungle'], 'prob': 0.771986186504364, 'word': 'bold'}\n",
      "Iter: 3 Word: bold Seqno: 5 Prob: -0.27528172731399536  Poem: Brightening up the forest floor;Often, the tiger stalks its prey;Lurking in the shadows, waiting to pounce;Daring to be the king of the jungle\n",
      "Found poem: {'poem': ['Brightening up the forest floor', 'Often, the tiger stalks its prey', 'Lurking in the shadows, waiting to pounce', 'Daring to be the king of the jungle'], 'prob': 0.7593581676483154, 'word': 'bold'}\n",
      "Iter: 3 Word: bold Seqno: 6 Prob: -0.2766726613044739  Poem: Brightening up the forest floor;Often, the tiger stalks its prey;Lurking in the shadows, waiting to pounce;Daring to be the king of the jungle\n",
      "Found poem: {'poem': ['Brightening up the forest floor', 'Often, the tiger stalks its prey', 'Lurking in the shadows, waiting to pounce', 'Daring to be the king of the jungle'], 'prob': 0.758302628993988, 'word': 'bold'}\n",
      "Iter: 3 Word: bold Seqno: 7 Prob: -0.2844235301017761  Poem: Brightening up the forest floor;Often, the tiger stalks its prey;Lurking in the shadows, waiting to pounce;Daring to be the king of the jungle\n",
      "Found poem: {'poem': ['Brightening up the forest floor', 'Often, the tiger stalks its prey', 'Lurking in the shadows, waiting to pounce', 'Daring to be the king of the jungle'], 'prob': 0.7524478435516357, 'word': 'bold'}\n",
      "Iter: 3 Word: bold Seqno: 8 Prob: -0.2968510687351227  Poem: Brightening up the forest floor;Often, the tiger stalks its prey;Lurking in the shadows, waiting to pounce;Daring to be the king of the jungle\n",
      "Found poem: {'poem': ['Brightening up the forest floor', 'Often, the tiger stalks its prey', 'Lurking in the shadows, waiting to pounce', 'Daring to be the king of the jungle'], 'prob': 0.7431546449661255, 'word': 'bold'}\n",
      "Iter: 3 Word: bold Seqno: 9 Prob: -0.3291223645210266  Poem: Brightening up the forest floor;Often, the tiger stalks its prey;Lurking in the shadows, waiting to pounce;Daring to be the king of the jungle\n",
      "Found poem: {'poem': ['Brightening up the forest floor', 'Often, the tiger stalks its prey', 'Lurking in the shadows, waiting to pounce', 'Daring to be the king of the jungle'], 'prob': 0.7195549607276917, 'word': 'bold'}\n"
     ]
    },
    {
     "name": "stderr",
     "output_type": "stream",
     "text": [
      "Setting `pad_token_id` to `eos_token_id`:128001 for open-end generation.\n"
     ]
    },
    {
     "name": "stdout",
     "output_type": "stream",
     "text": [
      "Generating poem for bold starting with Brightly colored stripes\n"
     ]
    },
    {
     "name": "stderr",
     "output_type": "stream",
     "text": [
      "Setting `pad_token_id` to `eos_token_id`:128001 for open-end generation.\n"
     ]
    },
    {
     "name": "stdout",
     "output_type": "stream",
     "text": [
      "Iter: 4 Word: bold Seqno: 0 Prob: -0.3201993405818939  Poem: Brightly colored stripes shine;Owning the forest floor;Lively eyes watch all\n",
      "Iter: 4 Word: bold Seqno: 1 Prob: -0.3231496512889862  Poem: Brightly colored stripes shine;Owning the forest floor;Lively eyes gleam\n",
      "Iter: 4 Word: bold Seqno: 2 Prob: -0.33537694811820984  Poem: Brightly colored stripes shine;Owning the forest floor;Lively eyes gleam bright\n",
      "Iter: 4 Word: bold Seqno: 3 Prob: -0.34165483713150024  Poem: Brightly colored stripes shine;Owning the forest floor;Lively and strong\n",
      "Iter: 4 Word: bold Seqno: 4 Prob: -0.3767359256744385  Poem: Brightly colored stripes shine;Owning the forest floor;Lurking in the shadows\n",
      "Iter: 4 Word: bold Seqno: 5 Prob: -0.3816364109516144  Poem: Brightly colored stripes shine;Owning the forest floor;Lively eyes watch\n",
      "Iter: 4 Word: bold Seqno: 6 Prob: -0.389556884765625  Poem: Brightly colored stripes shine;Owning the forest floor;Lively eyes watch prey\n",
      "Iter: 4 Word: bold Seqno: 7 Prob: -0.39486581087112427  Poem: Brightly colored stripes shine;Often seen in the wild;Lurking quietly\n",
      "Iter: 4 Word: bold Seqno: 8 Prob: -0.3965208828449249  Poem: Brightly colored stripes;Owning the forest floor;Lurking in the trees\n",
      "Iter: 4 Word: bold Seqno: 9 Prob: -0.4011791944503784  Poem: Brightly colored stripes shine;Often seen in the wild;Lurking deep in the\n",
      "Generating poem for bold starting with Brightly colored stripes shine;Owning the forest floor;Lively eyes watch all\n"
     ]
    },
    {
     "name": "stderr",
     "output_type": "stream",
     "text": [
      "Setting `pad_token_id` to `eos_token_id`:128001 for open-end generation.\n"
     ]
    },
    {
     "name": "stdout",
     "output_type": "stream",
     "text": [
      "Iter: 5 Word: bold Seqno: 0 Prob: -0.16038061678409576  Poem: Brightly colored stripes shine;Owning the forest floor;Lively eyes watch all;Daring to roam free\n",
      "Found poem: {'poem': ['Brightly colored stripes shine', 'Owning the forest floor', 'Lively eyes watch all', 'Daring to roam free'], 'prob': 0.8518195152282715, 'word': 'bold'}\n",
      "Iter: 5 Word: bold Seqno: 1 Prob: -0.19301600754261017  Poem: Brightly colored stripes shine;Owning the forest floor;Lively eyes watch all;Daring to roam free\n",
      "Found poem: {'poem': ['Brightly colored stripes shine', 'Owning the forest floor', 'Lively eyes watch all', 'Daring to roam free'], 'prob': 0.8244687914848328, 'word': 'bold'}\n",
      "Iter: 5 Word: bold Seqno: 2 Prob: -0.23483756184577942  Poem: Brightly colored stripes shine;Owning the forest floor;Lively eyes watch all;Daring to roam and play\n",
      "Found poem: {'poem': ['Brightly colored stripes shine', 'Owning the forest floor', 'Lively eyes watch all', 'Daring to roam and play'], 'prob': 0.7906992435455322, 'word': 'bold'}\n",
      "Iter: 5 Word: bold Seqno: 3 Prob: -0.23952719569206238  Poem: Brightly colored stripes shine;Owning the forest floor;Lively eyes watch all;Daring to pounce on prey\n",
      "Found poem: {'poem': ['Brightly colored stripes shine', 'Owning the forest floor', 'Lively eyes watch all', 'Daring to pounce on prey'], 'prob': 0.7869998216629028, 'word': 'bold'}\n",
      "Iter: 5 Word: bold Seqno: 4 Prob: -0.2514801323413849  Poem: Brightly colored stripes shine;Owning the forest floor;Lively eyes watch all;Daring to pounce and play\n",
      "Found poem: {'poem': ['Brightly colored stripes shine', 'Owning the forest floor', 'Lively eyes watch all', 'Daring to pounce and play'], 'prob': 0.7776488661766052, 'word': 'bold'}\n",
      "Iter: 5 Word: bold Seqno: 5 Prob: -0.25847241282463074  Poem: Brightly colored stripes shine;Owning the forest floor;Lively eyes watch all;Daring to roam\n",
      "Found poem: {'poem': ['Brightly colored stripes shine', 'Owning the forest floor', 'Lively eyes watch all', 'Daring to roam'], 'prob': 0.772230327129364, 'word': 'bold'}\n",
      "Iter: 5 Word: bold Seqno: 6 Prob: -0.2644624412059784  Poem: Brightly colored stripes shine;Owning the forest floor;Lively eyes watch all;Daring to pounce\n",
      "Found poem: {'poem': ['Brightly colored stripes shine', 'Owning the forest floor', 'Lively eyes watch all', 'Daring to pounce'], 'prob': 0.7676185369491577, 'word': 'bold'}\n",
      "Iter: 5 Word: bold Seqno: 7 Prob: -0.2743625342845917  Poem: Brightly colored stripes shine;Owning the forest floor;Lively eyes watch all;Daring to roam and play\n",
      "Found poem: {'poem': ['Brightly colored stripes shine', 'Owning the forest floor', 'Lively eyes watch all', 'Daring to roam and play'], 'prob': 0.7600564360618591, 'word': 'bold'}\n",
      "Iter: 5 Word: bold Seqno: 8 Prob: -0.28641125559806824  Poem: Brightly colored stripes shine;Owning the forest floor;Lively eyes watch all;Daring to roam free\n",
      "Found poem: {'poem': ['Brightly colored stripes shine', 'Owning the forest floor', 'Lively eyes watch all', 'Daring to roam free'], 'prob': 0.750953733921051, 'word': 'bold'}\n",
      "Iter: 5 Word: bold Seqno: 9 Prob: -0.3073350787162781  Poem: Brightly colored stripes shine;Owning the forest floor;Lively eyes watch all;Daring to roam\n",
      "Found poem: {'poem': ['Brightly colored stripes shine', 'Owning the forest floor', 'Lively eyes watch all', 'Daring to roam'], 'prob': 0.7354040741920471, 'word': 'bold'}\n",
      "Generating poem for bold starting with Brightly colored stripes shine;Owning the forest floor;Lively eyes watch all;Daring to roam free\n"
     ]
    },
    {
     "name": "stderr",
     "output_type": "stream",
     "text": [
      "Setting `pad_token_id` to `eos_token_id`:128001 for open-end generation.\n"
     ]
    },
    {
     "name": "stdout",
     "output_type": "stream",
     "text": [
      "Iter: 6 Word: bold Seqno: 0 Prob: -0.13072717189788818  Poem: Brightly colored stripes shine;Owning the forest floor;Lively eyes watch all;Daring to roam free\n",
      "Found poem: {'poem': ['Brightly colored stripes shine', 'Owning the forest floor', 'Lively eyes watch all', 'Daring to roam free'], 'prob': 0.8774570822715759, 'word': 'bold'}\n",
      "Iter: 6 Word: bold Seqno: 1 Prob: -0.17118093371391296  Poem: Brightly colored stripes shine;Owning the forest floor;Lively eyes watch all;Daring to roam free\n",
      "Found poem: {'poem': ['Brightly colored stripes shine', 'Owning the forest floor', 'Lively eyes watch all', 'Daring to roam free'], 'prob': 0.8426691293716431, 'word': 'bold'}\n",
      "Iter: 6 Word: bold Seqno: 2 Prob: -0.2176153063774109  Poem: Brightly colored stripes shine;Owning the forest floor;Lively eyes watch all;Daring to roam free\n",
      "Found poem: {'poem': ['Brightly colored stripes shine', 'Owning the forest floor', 'Lively eyes watch all', 'Daring to roam free'], 'prob': 0.8044348359107971, 'word': 'bold'}\n",
      "Iter: 6 Word: bold Seqno: 3 Prob: -0.22055451571941376  Poem: Brightly colored stripes shine;Owning the forest floor;Lively eyes watch all;Daring to roam free\n",
      "Found poem: {'poem': ['Brightly colored stripes shine', 'Owning the forest floor', 'Lively eyes watch all', 'Daring to roam free'], 'prob': 0.8020739555358887, 'word': 'bold'}\n",
      "Iter: 6 Word: bold Seqno: 4 Prob: -0.23683777451515198  Poem: Brightly colored stripes shine;Owning the forest floor;Lively eyes watch all;Daring to roam free\n",
      "Found poem: {'poem': ['Brightly colored stripes shine', 'Owning the forest floor', 'Lively eyes watch all', 'Daring to roam free'], 'prob': 0.7891192436218262, 'word': 'bold'}\n",
      "Iter: 6 Word: bold Seqno: 5 Prob: -0.23754800856113434  Poem: Brightly colored stripes shine;Owning the forest floor;Lively eyes watch all;Daring to roam free\n",
      "Found poem: {'poem': ['Brightly colored stripes shine', 'Owning the forest floor', 'Lively eyes watch all', 'Daring to roam free'], 'prob': 0.7885590195655823, 'word': 'bold'}\n",
      "Iter: 6 Word: bold Seqno: 6 Prob: -0.2542792856693268  Poem: Brightly colored stripes shine;Owning the forest floor;Lively eyes watch all;Daring to roam free\n",
      "Found poem: {'poem': ['Brightly colored stripes shine', 'Owning the forest floor', 'Lively eyes watch all', 'Daring to roam free'], 'prob': 0.7754751443862915, 'word': 'bold'}\n",
      "Iter: 6 Word: bold Seqno: 7 Prob: -0.255691796541214  Poem: Brightly colored stripes shine;Owning the forest floor;Lively eyes watch all;Daring to roam free\n",
      "Found poem: {'poem': ['Brightly colored stripes shine', 'Owning the forest floor', 'Lively eyes watch all', 'Daring to roam free'], 'prob': 0.7743805646896362, 'word': 'bold'}\n",
      "Iter: 6 Word: bold Seqno: 8 Prob: -0.2769019305706024  Poem: Brightly colored stripes shine;Owning the forest floor;Lively eyes watch all;Daring to roam free\n",
      "Found poem: {'poem': ['Brightly colored stripes shine', 'Owning the forest floor', 'Lively eyes watch all', 'Daring to roam free'], 'prob': 0.7581288814544678, 'word': 'bold'}\n",
      "Iter: 6 Word: bold Seqno: 9 Prob: -0.3542938530445099  Poem: Brightly colored stripes shine;Owning the forest floor;Lively eyes watch all;Daring to roam free\n",
      "Found poem: {'poem': ['Brightly colored stripes shine', 'Owning the forest floor', 'Lively eyes watch all', 'Daring to roam free'], 'prob': 0.7016687393188477, 'word': 'bold'}\n"
     ]
    },
    {
     "name": "stderr",
     "output_type": "stream",
     "text": [
      "Setting `pad_token_id` to `eos_token_id`:128001 for open-end generation.\n"
     ]
    },
    {
     "name": "stdout",
     "output_type": "stream",
     "text": [
      "Generating poem for wild starting with With warm golden\n"
     ]
    },
    {
     "name": "stderr",
     "output_type": "stream",
     "text": [
      "Setting `pad_token_id` to `eos_token_id`:128001 for open-end generation.\n"
     ]
    },
    {
     "name": "stdout",
     "output_type": "stream",
     "text": [
      "Iter: 7 Word: wild Seqno: 0 Prob: -0.3212307095527649  Poem: With warm golden eyes;Incredible strength;Lurking deep;Daring to\n",
      "Found poem: {'poem': ['With warm golden eyes', 'Incredible strength', 'Lurking deep', 'Daring to'], 'prob': 0.7252558469772339, 'word': 'wild'}\n",
      "Iter: 7 Word: wild Seqno: 1 Prob: -0.32472214102745056  Poem: With warm golden eyes;I stalk my prey;Lurking deep;In\n",
      "Iter: 7 Word: wild Seqno: 2 Prob: -0.32622066140174866  Poem: With warm golden eyes;In the forest deep;Lurking silently;D\n",
      "Found poem: {'poem': ['With warm golden eyes', 'In the forest deep', 'Lurking silently', 'D'], 'prob': 0.7216458916664124, 'word': 'wild'}\n",
      "Iter: 7 Word: wild Seqno: 3 Prob: -0.331952303647995  Poem: With warm golden eyes;In the forest deep;Lurking quietly;D\n",
      "Found poem: {'poem': ['With warm golden eyes', 'In the forest deep', 'Lurking quietly', 'D'], 'prob': 0.7175215482711792, 'word': 'wild'}\n",
      "Iter: 7 Word: wild Seqno: 4 Prob: -0.3408442437648773  Poem: With warm golden eyes;Incredible strength abounds;Lurking in the trees\n",
      "Iter: 7 Word: wild Seqno: 5 Prob: -0.3456076979637146  Poem: With warm golden eyes;Lurking in the trees;Incredible strength;D\n",
      "Iter: 7 Word: wild Seqno: 6 Prob: -0.35146549344062805  Poem: With warm golden eyes;Lurking deep inside;Incredible strength;Daring\n",
      "Iter: 7 Word: wild Seqno: 7 Prob: -0.353274941444397  Poem: With warm golden eyes;Incredible strength abounds;Lurking deep within\n",
      "Iter: 7 Word: wild Seqno: 8 Prob: -0.3604404032230377  Poem: With warm golden eyes;I stalk my prey;Lurking in the shadows\n",
      "Iter: 7 Word: wild Seqno: 9 Prob: -0.37045788764953613  Poem: With warm golden eyes;Lurking in the trees;Incredible strength;Dw\n",
      "Generating poem for wild starting with With warm golden eyes;Incredible strength;Lurking deep;Daring to\n"
     ]
    },
    {
     "name": "stderr",
     "output_type": "stream",
     "text": [
      "Setting `pad_token_id` to `eos_token_id`:128001 for open-end generation.\n"
     ]
    },
    {
     "name": "stdout",
     "output_type": "stream",
     "text": [
      "Iter: 8 Word: wild Seqno: 0 Prob: -0.1661175936460495  Poem: With warm golden eyes;Incredible strength;Lurking deep;Daring to roam\n",
      "Found poem: {'poem': ['With warm golden eyes', 'Incredible strength', 'Lurking deep', 'Daring to roam'], 'prob': 0.846946656703949, 'word': 'wild'}\n",
      "Iter: 8 Word: wild Seqno: 1 Prob: -0.22503358125686646  Poem: With warm golden eyes;Incredible strength;Lurking deep;Daring to roam\n",
      "Found poem: {'poem': ['With warm golden eyes', 'Incredible strength', 'Lurking deep', 'Daring to roam'], 'prob': 0.7984893918037415, 'word': 'wild'}\n",
      "Iter: 8 Word: wild Seqno: 2 Prob: -0.2573474049568176  Poem: With warm golden eyes;Incredible strength;Lurking deep;Daring to roam\n",
      "Found poem: {'poem': ['With warm golden eyes', 'Incredible strength', 'Lurking deep', 'Daring to roam'], 'prob': 0.7730996012687683, 'word': 'wild'}\n",
      "Iter: 8 Word: wild Seqno: 3 Prob: -0.25815606117248535  Poem: With warm golden eyes;Incredible strength;Lurking deep;Daring to roam\n",
      "Found poem: {'poem': ['With warm golden eyes', 'Incredible strength', 'Lurking deep', 'Daring to roam'], 'prob': 0.7724746465682983, 'word': 'wild'}\n",
      "Iter: 8 Word: wild Seqno: 4 Prob: -0.30499881505966187  Poem: With warm golden eyes;Incredible strength;Lurking deep;Daring to roam\n",
      "Found poem: {'poem': ['With warm golden eyes', 'Incredible strength', 'Lurking deep', 'Daring to roam'], 'prob': 0.7371242642402649, 'word': 'wild'}\n",
      "Iter: 8 Word: wild Seqno: 5 Prob: -0.3128719925880432  Poem: With warm golden eyes;Incredible strength;Lurking deep;Daring to roam\n",
      "Found poem: {'poem': ['With warm golden eyes', 'Incredible strength', 'Lurking deep', 'Daring to roam'], 'prob': 0.7313435673713684, 'word': 'wild'}\n",
      "Iter: 8 Word: wild Seqno: 6 Prob: -0.3138277530670166  Poem: With warm golden eyes;Incredible strength;Lurking deep;Daring to pounce\n",
      "Found poem: {'poem': ['With warm golden eyes', 'Incredible strength', 'Lurking deep', 'Daring to pounce'], 'prob': 0.7306448221206665, 'word': 'wild'}\n",
      "Iter: 8 Word: wild Seqno: 7 Prob: -0.3274683356285095  Poem: With warm golden eyes;Incredible strength;Lurking deep;Daring to roam\n",
      "Found poem: {'poem': ['With warm golden eyes', 'Incredible strength', 'Lurking deep', 'Daring to roam'], 'prob': 0.7207460403442383, 'word': 'wild'}\n",
      "Iter: 8 Word: wild Seqno: 8 Prob: -0.3342247009277344  Poem: With warm golden eyes;Incredible strength;Lurking deep;Daring to roam\n",
      "Found poem: {'poem': ['With warm golden eyes', 'Incredible strength', 'Lurking deep', 'Daring to roam'], 'prob': 0.7158928513526917, 'word': 'wild'}\n",
      "Iter: 8 Word: wild Seqno: 9 Prob: -0.37381476163864136  Poem: With warm golden eyes;Incredible strength;Lurking deep;Daring to roam\n",
      "Found poem: {'poem': ['With warm golden eyes', 'Incredible strength', 'Lurking deep', 'Daring to roam'], 'prob': 0.6881043314933777, 'word': 'wild'}\n",
      "Generating poem for wild starting with With warm golden eyes;Incredible strength;Lurking deep;Daring to roam\n",
      "Iter: 9 Word: wild Seqno: 0 Prob: -0.14759384095668793  Poem: With warm golden eyes;Incredible strength;Lurking deep;Daring to roam\n",
      "Found poem: {'poem': ['With warm golden eyes', 'Incredible strength', 'Lurking deep', 'Daring to roam'], 'prob': 0.8627814650535583, 'word': 'wild'}\n",
      "Iter: 9 Word: wild Seqno: 1 Prob: -0.2388634979724884  Poem: With warm golden eyes;Incredible strength;Lurking deep;Daring to roam\n",
      "Found poem: {'poem': ['With warm golden eyes', 'Incredible strength', 'Lurking deep', 'Daring to roam'], 'prob': 0.7875223755836487, 'word': 'wild'}\n",
      "Iter: 9 Word: wild Seqno: 2 Prob: -0.25105392932891846  Poem: With warm golden eyes;Incredible strength;Lurking deep;Daring to roam\n",
      "Found poem: {'poem': ['With warm golden eyes', 'Incredible strength', 'Lurking deep', 'Daring to roam'], 'prob': 0.777980387210846, 'word': 'wild'}\n",
      "Iter: 9 Word: wild Seqno: 3 Prob: -0.28651195764541626  Poem: With warm golden eyes;Incredible strength;Lurking deep;Daring to roam\n",
      "Found poem: {'poem': ['With warm golden eyes', 'Incredible strength', 'Lurking deep', 'Daring to roam'], 'prob': 0.7508780360221863, 'word': 'wild'}\n",
      "Iter: 9 Word: wild Seqno: 4 Prob: -0.2866958677768707  Poem: With warm golden eyes;Incredible strength;Lurking deep;Daring to roam\n",
      "Found poem: {'poem': ['With warm golden eyes', 'Incredible strength', 'Lurking deep', 'Daring to roam'], 'prob': 0.7507399916648865, 'word': 'wild'}\n",
      "Iter: 9 Word: wild Seqno: 5 Prob: -0.2943485975265503  Poem: With warm golden eyes;Incredible strength;Lurking deep;Daring to roam\n",
      "Found poem: {'poem': ['With warm golden eyes', 'Incredible strength', 'Lurking deep', 'Daring to roam'], 'prob': 0.7450166940689087, 'word': 'wild'}\n",
      "Iter: 9 Word: wild Seqno: 6 Prob: -0.30425986647605896  Poem: With warm golden eyes;Incredible strength;Lurking deep;Daring to roam\n",
      "Found poem: {'poem': ['With warm golden eyes', 'Incredible strength', 'Lurking deep', 'Daring to roam'], 'prob': 0.7376691102981567, 'word': 'wild'}\n",
      "Iter: 9 Word: wild Seqno: 7 Prob: -0.30785852670669556  Poem: With warm golden eyes;Incredible strength;Lurking deep;Daring to roam\n",
      "Found poem: {'poem': ['With warm golden eyes', 'Incredible strength', 'Lurking deep', 'Daring to roam'], 'prob': 0.7350192666053772, 'word': 'wild'}\n",
      "Iter: 9 Word: wild Seqno: 8 Prob: -0.3089465796947479  Poem: With warm golden eyes;Incredible strength;Lurking deep;Daring to roam\n",
      "Found poem: {'poem': ['With warm golden eyes', 'Incredible strength', 'Lurking deep', 'Daring to roam'], 'prob': 0.7342199683189392, 'word': 'wild'}\n",
      "Iter: 9 Word: wild Seqno: 9 Prob: -0.315705269575119  Poem: With warm golden eyes;Incredible strength;Lurking deep;Daring to roam\n",
      "Found poem: {'poem': ['With warm golden eyes', 'Incredible strength', 'Lurking deep', 'Daring to roam'], 'prob': 0.729274332523346, 'word': 'wild'}\n"
     ]
    }
   ],
   "source": [
    "def make_unique(list_of_dict):\n",
    "    unique_poems, unique_pd = set(), []\n",
    "    # decreasing prob, so first one wins\n",
    "    list_of_dict = sorted(list_of_dict, key=lambda x: x['prob'], reverse=True)\n",
    "    for pd in list_of_dict:\n",
    "        poem_str = '\\n'.join(pd['poem'])\n",
    "        if poem_str not in unique_poems:\n",
    "            unique_poems.add(poem_str)\n",
    "            unique_pd.append(pd)\n",
    "    return unique_pd\n",
    "\n",
    "def write_acrostic(animal: str, max_iter=10, num_sequences_per_iter=10, verbose_thresh=0):\n",
    "    found_poems = []\n",
    "    allowed_start_words = get_potential_starts(animal, 10)\n",
    "    if verbose_thresh < 3:\n",
    "        print(f\"Allowed start words: {allowed_start_words}\")\n",
    "    \n",
    "    start_word, poem_so_far, prev_start_poem = None, None, None\n",
    "    for iter in range(max_iter):\n",
    "        # reinitiatilize if we are stuck at a starting point\n",
    "        if poem_so_far is None or poem_so_far == prev_start_poem:\n",
    "            start_word, poem_so_far = initialize_poem(animal, allowed_start_words)  # lines of poem\n",
    "        prev_start_poem = poem_so_far # for next iter\n",
    "        if verbose_thresh < 2:\n",
    "            print(f\"Generating poem for {start_word} starting with {';'.join(poem_so_far)}\")\n",
    "            \n",
    "        # generate poem\n",
    "        inputs = pipe.tokenizer('\\n'.join(get_input_prompts(animal, '\\n'.join(poem_so_far), start_word)), \n",
    "                                return_tensors=\"pt\").to(\"cuda\")\n",
    "        results = pipe.model.generate(\n",
    "            **inputs,\n",
    "            max_new_tokens=16,\n",
    "            num_beams=num_sequences_per_iter,\n",
    "            num_return_sequences=num_sequences_per_iter,\n",
    "            output_scores=True,\n",
    "            renormalize_logits=True,\n",
    "            return_dict_in_generate=True,\n",
    "            use_cache=False  # we want different results from same starting point\n",
    "        )\n",
    "        \n",
    "        # choose tokens based on logprobs and whether it meets style\n",
    "        best_prob_in_iter = -1000 # remember these are logits\n",
    "        best_poem_in_iter = None\n",
    "        best_bad_prob_in_iter = -1000\n",
    "        best_bad_poem_in_iter = None\n",
    "        for seqno, sequence in enumerate(results.sequences):\n",
    "            seq_prob = results.sequences_scores[seqno]\n",
    "            candidate_poem = get_poem_so_far(pipe.tokenizer.decode(sequence))\n",
    "            if len(candidate_poem) > len(start_word):\n",
    "                candidate_poem = candidate_poem[:len(start_word)] # truncate poem to length of start word\n",
    "            if verbose_thresh < 1:\n",
    "                print(f\"Iter: {iter} Word: {start_word} Seqno: {seqno} Prob: {seq_prob}  Poem: {';'.join(candidate_poem)}\")\n",
    "            # is this in the list of possibilities?\n",
    "            candidate_starts = ''.join([line[0] for line in candidate_poem]).lower()\n",
    "            continue_seq = False\n",
    "            found_poem = False\n",
    "            if len(start_word) >= len(candidate_starts) and start_word[:len(candidate_starts)] == candidate_starts:\n",
    "                continue_seq = True\n",
    "                if len(start_word) == len(candidate_starts):\n",
    "                    found_poems.append({\n",
    "                        \"poem\": candidate_poem, \n",
    "                        \"prob\": float(np.exp(seq_prob.cpu())),\n",
    "                        \"word\": start_word\n",
    "                    }) # YEAH!\n",
    "                    if verbose_thresh < 3:\n",
    "                        print(f\"Found poem: {found_poems[-1]}\")               \n",
    "                \n",
    "            if continue_seq:\n",
    "                if seq_prob > best_prob_in_iter:\n",
    "                    best_prob_in_iter = seq_prob\n",
    "                    # even if a poem is found, the last line might be incomplete, so continue sequence\n",
    "                    best_poem_in_iter = candidate_poem\n",
    "            else:\n",
    "                if seq_prob > best_bad_prob_in_iter:\n",
    "                    best_bad_prob_in_iter = seq_prob\n",
    "                    best_bad_poem_in_iter = candidate_poem\n",
    "        \n",
    "        # update the starting point for the next iteration\n",
    "        if best_poem_in_iter:\n",
    "            poem_so_far = best_poem_in_iter\n",
    "        else:\n",
    "            # remove the lines that don't fit and try again\n",
    "            print(f\"REMOVING from {';'.join(best_bad_poem_in_iter)}\")\n",
    "            while True:\n",
    "                # remove a line, and see if it matches the start word\n",
    "                best_bad_poem_in_iter = best_bad_poem_in_iter[:-1]\n",
    "                if len(best_bad_poem_in_iter) == 0:\n",
    "                    # reinitialize, potentially to different start word\n",
    "                    start_word, poem_so_far = initialize_poem(animal, allowed_start_words)\n",
    "                    break\n",
    "                candidate_starts = ''.join([line[0] for line in best_bad_poem_in_iter]).lower()\n",
    "                if len(start_word) >= len(candidate_starts) and start_word[:len(candidate_starts)] == candidate_starts:\n",
    "                    poem_so_far = best_bad_poem_in_iter # start from here, for same start_word\n",
    "                    break            \n",
    "    \n",
    "    return make_unique(found_poems)\n",
    "    \n",
    "found_poems = write_acrostic(\"tiger\", 10)           "
   ]
  },
  {
   "cell_type": "markdown",
   "id": "8e99a50c-de57-447e-84d9-32b569665650",
   "metadata": {},
   "source": [
    "Sometimes, the generation fails.  For example, with the start word of ferocious, the algo generates:\n",
    "```\n",
    "Fiercely fearless, Freddy the tiger roams\n",
    "Eagerly exploring every forest home\n",
    "Rapidly racing through the trees\n",
    "Oozing orange and black with ease\n",
    "```\n",
    "but then none of the generated sequences start with the letter C.  We could make the algorithm backtrack and restart at the third line ..."
   ]
  },
  {
   "cell_type": "code",
   "execution_count": 20,
   "id": "b213aa9b-deef-4cf7-b56d-8d6549f1ce0a",
   "metadata": {
    "tags": []
   },
   "outputs": [
    {
     "data": {
      "text/plain": [
       "[{'poem': ['Brightly colored stripes shine',\n",
       "   'Owning the forest floor',\n",
       "   'Lively eyes watch all',\n",
       "   'Daring to roam free'],\n",
       "  'prob': 0.8774570822715759,\n",
       "  'word': 'bold'},\n",
       " {'poem': ['With warm golden eyes',\n",
       "   'Incredible strength',\n",
       "   'Lurking deep',\n",
       "   'Daring to roam'],\n",
       "  'prob': 0.8627814650535583,\n",
       "  'word': 'wild'},\n",
       " {'poem': ['Brightening up the forest floor',\n",
       "   'Often, the tiger stalks its prey',\n",
       "   'Lurking in the shadows, waiting to pounce',\n",
       "   'Daring to be the king of the jungle'],\n",
       "  'prob': 0.860282838344574,\n",
       "  'word': 'bold'},\n",
       " {'poem': ['Brightly colored stripes shine',\n",
       "   'Owning the forest floor',\n",
       "   'Lively eyes watch all',\n",
       "   'Daring to roam and play'],\n",
       "  'prob': 0.7906992435455322,\n",
       "  'word': 'bold'},\n",
       " {'poem': ['Brightly colored stripes shine',\n",
       "   'Owning the forest floor',\n",
       "   'Lively eyes watch all',\n",
       "   'Daring to pounce on prey'],\n",
       "  'prob': 0.7869998216629028,\n",
       "  'word': 'bold'},\n",
       " {'poem': ['Brightening up the forest floor',\n",
       "   'Often, the tiger stalks its prey',\n",
       "   'Lurking in the shadows, waiting to pounce',\n",
       "   'Daring to be the king of the land'],\n",
       "  'prob': 0.7777321338653564,\n",
       "  'word': 'bold'},\n",
       " {'poem': ['Brightly colored stripes shine',\n",
       "   'Owning the forest floor',\n",
       "   'Lively eyes watch all',\n",
       "   'Daring to pounce and play'],\n",
       "  'prob': 0.7776488661766052,\n",
       "  'word': 'bold'},\n",
       " {'poem': ['Brightening up the forest floor',\n",
       "   'Often, the tiger stalks its prey',\n",
       "   'Lurking in the shadows, waiting to pounce',\n",
       "   'Daring to be the king of the wild'],\n",
       "  'prob': 0.7730317711830139,\n",
       "  'word': 'bold'},\n",
       " {'poem': ['Brightly colored stripes shine',\n",
       "   'Owning the forest floor',\n",
       "   'Lively eyes watch all',\n",
       "   'Daring to roam'],\n",
       "  'prob': 0.772230327129364,\n",
       "  'word': 'bold'},\n",
       " {'poem': ['Brightly colored stripes shine',\n",
       "   'Owning the forest floor',\n",
       "   'Lively eyes watch all',\n",
       "   'Daring to pounce'],\n",
       "  'prob': 0.7676185369491577,\n",
       "  'word': 'bold'},\n",
       " {'poem': ['Brightening up the forest floor',\n",
       "   'Often, the tiger stalks its prey',\n",
       "   'Lurking in the shadows, waiting to pounce',\n",
       "   'Daring to be the king of beasts'],\n",
       "  'prob': 0.750210165977478,\n",
       "  'word': 'bold'},\n",
       " {'poem': ['Brightening up the forest floor',\n",
       "   'Often, the tiger stalks its prey',\n",
       "   'Lurking in the shadows, waiting to pounce',\n",
       "   'Daring to be the king'],\n",
       "  'prob': 0.7415344715118408,\n",
       "  'word': 'bold'},\n",
       " {'poem': ['Brightening up the forest floor',\n",
       "   'Often, the tiger stalks its prey',\n",
       "   'Lurking in the shadows, waiting to pounce',\n",
       "   'Daring to be the king of the night'],\n",
       "  'prob': 0.7414477467536926,\n",
       "  'word': 'bold'},\n",
       " {'poem': ['With warm golden eyes',\n",
       "   'Incredible strength',\n",
       "   'Lurking deep',\n",
       "   'Daring to pounce'],\n",
       "  'prob': 0.7306448221206665,\n",
       "  'word': 'wild'},\n",
       " {'poem': ['With warm golden eyes',\n",
       "   'Incredible strength',\n",
       "   'Lurking deep',\n",
       "   'Daring to'],\n",
       "  'prob': 0.7252558469772339,\n",
       "  'word': 'wild'},\n",
       " {'poem': ['With warm golden eyes',\n",
       "   'In the forest deep',\n",
       "   'Lurking silently',\n",
       "   'D'],\n",
       "  'prob': 0.7216458916664124,\n",
       "  'word': 'wild'},\n",
       " {'poem': ['With warm golden eyes',\n",
       "   'In the forest deep',\n",
       "   'Lurking quietly',\n",
       "   'D'],\n",
       "  'prob': 0.7175215482711792,\n",
       "  'word': 'wild'},\n",
       " {'poem': ['Brightening up the forest floor',\n",
       "   'Often, the tiger stalks its prey',\n",
       "   'Lurking, it waits for the perfect moment',\n",
       "   'Daring, it pounces with'],\n",
       "  'prob': 0.7157399654388428,\n",
       "  'word': 'bold'},\n",
       " {'poem': ['Brightening up the forest floor',\n",
       "   'Often, the tiger stalks its prey',\n",
       "   'Lurking, it waits for the perfect moment',\n",
       "   'Daring to pounce, it'],\n",
       "  'prob': 0.7129458785057068,\n",
       "  'word': 'bold'},\n",
       " {'poem': ['Brightening up the forest floor',\n",
       "   'Often, the tiger stalks its prey',\n",
       "   'Lurking, it waits for the perfect moment',\n",
       "   'Daring to pounce and take'],\n",
       "  'prob': 0.701702356338501,\n",
       "  'word': 'bold'},\n",
       " {'poem': ['Brightening up the forest floor',\n",
       "   'Often, the tiger stalks its prey',\n",
       "   'Lurking, it waits for the right moment',\n",
       "   'Daring to pounce, it'],\n",
       "  'prob': 0.6970645785331726,\n",
       "  'word': 'bold'},\n",
       " {'poem': ['Brightening up the forest floor',\n",
       "   'Often, the tiger stalks its prey',\n",
       "   'Lurking in the shadows',\n",
       "   'Daring to pounce'],\n",
       "  'prob': 0.6937485933303833,\n",
       "  'word': 'bold'},\n",
       " {'poem': ['Brightening up the forest floor',\n",
       "   'Often, the tiger stalks its prey',\n",
       "   'Lurking, waiting for the perfect moment',\n",
       "   'Daring to pounce and take its'],\n",
       "  'prob': 0.6884193420410156,\n",
       "  'word': 'bold'},\n",
       " {'poem': ['Brightening up the forest floor',\n",
       "   'Often, the tiger stalks its prey',\n",
       "   'Lurking, it waits for the right moment',\n",
       "   'Daring to pounce and take'],\n",
       "  'prob': 0.6798878312110901,\n",
       "  'word': 'bold'},\n",
       " {'poem': ['Brightening up the forest floor',\n",
       "   'Often, the tiger stalks its prey',\n",
       "   'Lurking, it waits for the perfect moment',\n",
       "   'Daring to pounce, with'],\n",
       "  'prob': 0.6771117448806763,\n",
       "  'word': 'bold'},\n",
       " {'poem': ['Brightening up the forest floor',\n",
       "   'Often, the tiger stalks its prey',\n",
       "   'Lurking, it waits for the perfect moment',\n",
       "   'Daring to pounce with lightning'],\n",
       "  'prob': 0.6553851366043091,\n",
       "  'word': 'bold'}]"
      ]
     },
     "execution_count": 20,
     "metadata": {},
     "output_type": "execute_result"
    }
   ],
   "source": [
    "found_poems"
   ]
  },
  {
   "cell_type": "markdown",
   "id": "b7f15a1f-907b-4d4c-9be3-940a15292db4",
   "metadata": {},
   "source": [
    "Some results:\n",
    "\n",
    "(1) BOLD:\n",
    "```\n",
    "Boldly, the brave tiger stalks its prey\n",
    "Owning the forest with its might,\n",
    "Lurking in the shadows, waiting to pounce,\n",
    "Daring to be the king of the night\n",
    "```\n",
    "\n",
    "(2) AGILE:\n",
    "```\n",
    "Among the tall trees, a tiger resides\n",
    "Gently, it stalks its prey\n",
    "Icy winds blow through the forest\n",
    "Lurking, it waits for the perfect moment\n",
    "Eager to pounce and catch its dinner\n",
    "```\n",
    "\n",
    "(3) SWIFT:\n",
    "```\n",
    "Smiling softly, the\n",
    "Wild eyes gleam\n",
    "In the\n",
    "Forest depths,\n",
    "Tigers stalk\n",
    "```\n",
    "\n",
    "Sure, not the greatest poems, but illustrative of how you can generate in segments and use logprobs to select the segment that meets style constraints."
   ]
  },
  {
   "cell_type": "code",
   "execution_count": 21,
   "id": "fb2a5994-686c-49ec-8e89-abfb05b2adbd",
   "metadata": {
    "tags": []
   },
   "outputs": [
    {
     "name": "stderr",
     "output_type": "stream",
     "text": [
      "Setting `pad_token_id` to `eos_token_id`:128001 for open-end generation.\n",
      "Setting `pad_token_id` to `eos_token_id`:128001 for open-end generation.\n"
     ]
    },
    {
     "name": "stdout",
     "output_type": "stream",
     "text": [
      "Allowed start words: ['calm', 'keen', 'wise', 'alert', 'agile', 'silent', 'serene', 'shrewd', 'patient', 'intense']\n"
     ]
    },
    {
     "name": "stderr",
     "output_type": "stream",
     "text": [
      "Setting `pad_token_id` to `eos_token_id`:128001 for open-end generation.\n",
      "Setting `pad_token_id` to `eos_token_id`:128001 for open-end generation.\n",
      "Setting `pad_token_id` to `eos_token_id`:128001 for open-end generation.\n"
     ]
    },
    {
     "name": "stdout",
     "output_type": "stream",
     "text": [
      "Found poem: {'poem': ['Among the moonlit trees', 'Gently, the owl takes flight', 'Icy winds do not deter', 'Lurking shadows hide its sight', 'Elegant wings, a'], 'prob': 0.7222203016281128, 'word': 'agile'}\n",
      "Found poem: {'poem': ['Among the moonlit trees', 'Gently, the owl takes flight', 'Icy winds do not deter', 'Luminous eyes shine bright', 'Elegant wings spread wide'], 'prob': 0.7201583981513977, 'word': 'agile'}\n"
     ]
    },
    {
     "name": "stderr",
     "output_type": "stream",
     "text": [
      "Setting `pad_token_id` to `eos_token_id`:128001 for open-end generation.\n"
     ]
    },
    {
     "name": "stdout",
     "output_type": "stream",
     "text": [
      "Found poem: {'poem': ['Among the moonlit trees', 'Gently, the owl takes flight', 'Icy winds do not deter', 'Lurking shadows hide its sight', 'Elegant wings, a wondrous sight'], 'prob': 0.7997151613235474, 'word': 'agile'}\n",
      "Found poem: {'poem': ['Among the moonlit trees', 'Gently, the owl takes flight', 'Icy winds do not deter', 'Lurking shadows hide its sight', 'Elegant wings, a wondrous sight'], 'prob': 0.7867400050163269, 'word': 'agile'}\n",
      "Found poem: {'poem': ['Among the moonlit trees', 'Gently, the owl takes flight', 'Icy winds do not deter', 'Lurking shadows hide its sight', 'Elegant wings, a wondrous sight'], 'prob': 0.7637423872947693, 'word': 'agile'}\n",
      "Found poem: {'poem': ['Among the moonlit trees', 'Gently, the owl takes flight', 'Icy winds do not deter', 'Lurking shadows hide its sight', 'Elegant wings, a wondrous sight'], 'prob': 0.7619310021400452, 'word': 'agile'}\n",
      "Found poem: {'poem': ['Among the moonlit trees', 'Gently, the owl takes flight', 'Icy winds do not deter', 'Lurking shadows hide its sight', 'Elegant wings, a silent glide'], 'prob': 0.7530088424682617, 'word': 'agile'}\n",
      "Found poem: {'poem': ['Among the moonlit trees', 'Gently, the owl takes flight', 'Icy winds do not deter', 'Lurking shadows hide its sight', 'Elegant wings, a silent flight'], 'prob': 0.7508822679519653, 'word': 'agile'}\n",
      "Found poem: {'poem': ['Among the moonlit trees', 'Gently, the owl takes flight', 'Icy winds do not deter', 'Lurking shadows hide its sight', 'Elegant wings, a wondrous sight'], 'prob': 0.74959397315979, 'word': 'agile'}\n",
      "Found poem: {'poem': ['Among the moonlit trees', 'Gently, the owl takes flight', 'Icy winds do not deter', 'Lurking shadows hide its sight', 'Elegant wings, a wondrous sight'], 'prob': 0.748824954032898, 'word': 'agile'}\n",
      "Found poem: {'poem': ['Among the moonlit trees', 'Gently, the owl takes flight', 'Icy winds do not deter', 'Lurking shadows hide its sight', 'Elegant wings, a silent glide'], 'prob': 0.7350407838821411, 'word': 'agile'}\n",
      "Found poem: {'poem': ['Among the moonlit trees', 'Gently, the owl takes flight', 'Icy winds do not deter', 'Lurking shadows hide its sight', 'Elegant wings, a silent flight'], 'prob': 0.7332003712654114, 'word': 'agile'}\n"
     ]
    },
    {
     "name": "stderr",
     "output_type": "stream",
     "text": [
      "You seem to be using the pipelines sequentially on GPU. In order to maximize efficiency please use a dataset\n",
      "Setting `pad_token_id` to `eos_token_id`:128001 for open-end generation.\n"
     ]
    },
    {
     "name": "stdout",
     "output_type": "stream",
     "text": [
      "Found poem: {'poem': ['Among the moonlit trees', 'Gently, the owl takes flight', 'Icy winds do not deter', 'Lurking shadows hide its sight', 'Elegant wings, a wondrous sight'], 'prob': 0.8352078795433044, 'word': 'agile'}\n",
      "Found poem: {'poem': ['Among the moonlit trees', 'Gently, the owl takes flight', 'Icy winds do not deter', 'Lurking shadows hide its sight', 'Elegant wings, a wondrous sight'], 'prob': 0.8155644536018372, 'word': 'agile'}\n",
      "Found poem: {'poem': ['Among the moonlit trees', 'Gently, the owl takes flight', 'Icy winds do not deter', 'Lurking shadows hide its sight', 'Elegant wings, a wondrous sight'], 'prob': 0.8000272512435913, 'word': 'agile'}\n",
      "Found poem: {'poem': ['Among the moonlit trees', 'Gently, the owl takes flight', 'Icy winds do not deter', 'Lurking shadows hide its sight', 'Elegant wings, a wondrous sight'], 'prob': 0.7957765460014343, 'word': 'agile'}\n",
      "Found poem: {'poem': ['Among the moonlit trees', 'Gently, the owl takes flight', 'Icy winds do not deter', 'Lurking shadows hide its sight', 'Elegant wings, a wondrous sight'], 'prob': 0.7844005823135376, 'word': 'agile'}\n",
      "Found poem: {'poem': ['Among the moonlit trees', 'Gently, the owl takes flight', 'Icy winds do not deter', 'Lurking shadows hide its sight', 'Elegant wings, a wondrous sight'], 'prob': 0.782951831817627, 'word': 'agile'}\n",
      "Found poem: {'poem': ['Among the moonlit trees', 'Gently, the owl takes flight', 'Icy winds do not deter', 'Lurking shadows hide its sight', 'Elegant wings, a wondrous sight'], 'prob': 0.7690379023551941, 'word': 'agile'}\n",
      "Found poem: {'poem': ['Among the moonlit trees', 'Gently, the owl takes flight', 'Icy winds do not deter', 'Lurking shadows hide its sight', 'Elegant wings, a wondrous sight'], 'prob': 0.7634566426277161, 'word': 'agile'}\n",
      "Found poem: {'poem': ['Among the moonlit trees', 'Gently, the owl takes flight', 'Icy winds do not deter', 'Lurking shadows hide its sight', 'Elegant wings, a wondrous sight'], 'prob': 0.7609499096870422, 'word': 'agile'}\n",
      "Found poem: {'poem': ['Among the moonlit trees', 'Gently, the owl takes flight', 'Icy winds do not deter', 'Lurking shadows hide its sight', 'Elegant wings, a wondrous sight'], 'prob': 0.6675341725349426, 'word': 'agile'}\n"
     ]
    },
    {
     "name": "stderr",
     "output_type": "stream",
     "text": [
      "Setting `pad_token_id` to `eos_token_id`:128001 for open-end generation.\n",
      "Setting `pad_token_id` to `eos_token_id`:128001 for open-end generation.\n",
      "Setting `pad_token_id` to `eos_token_id`:128001 for open-end generation.\n",
      "Setting `pad_token_id` to `eos_token_id`:128001 for open-end generation.\n"
     ]
    },
    {
     "name": "stdout",
     "output_type": "stream",
     "text": [
      "REMOVING from Softly soaring through the night;In the darkness, eyes shine bright;Lurking, waiting for its prey;Ears perked up, listening all day;Talons sharp, ready to strike;Nimble wings, swift\n"
     ]
    },
    {
     "name": "stderr",
     "output_type": "stream",
     "text": [
      "Setting `pad_token_id` to `eos_token_id`:128001 for open-end generation.\n",
      "Setting `pad_token_id` to `eos_token_id`:128001 for open-end generation.\n"
     ]
    },
    {
     "name": "stdout",
     "output_type": "stream",
     "text": [
      "REMOVING from Silently soaring through the night;Hunting for small prey;Watching with wise eyes\n"
     ]
    },
    {
     "name": "stderr",
     "output_type": "stream",
     "text": [
      "Setting `pad_token_id` to `eos_token_id`:128001 for open-end generation.\n"
     ]
    },
    {
     "name": "stdout",
     "output_type": "stream",
     "text": [
      "REMOVING from Silently soaring through the night;Hunting for small prey to eat;Eager eyes scanning the ground;Wise and watchful,\n",
      "REMOVING from Silently soaring through the night;Hunting for small prey to eat;Eager eyes scanning the ground;Wise and watchful, always on\n"
     ]
    },
    {
     "data": {
      "text/plain": [
       "[{'poem': ['Among the moonlit trees',\n",
       "   'Gently, the owl takes flight',\n",
       "   'Icy winds do not deter',\n",
       "   'Lurking shadows hide its sight',\n",
       "   'Elegant wings, a wondrous sight'],\n",
       "  'prob': 0.8352078795433044,\n",
       "  'word': 'agile'},\n",
       " {'poem': ['Among the moonlit trees',\n",
       "   'Gently, the owl takes flight',\n",
       "   'Icy winds do not deter',\n",
       "   'Lurking shadows hide its sight',\n",
       "   'Elegant wings, a silent glide'],\n",
       "  'prob': 0.7530088424682617,\n",
       "  'word': 'agile'},\n",
       " {'poem': ['Among the moonlit trees',\n",
       "   'Gently, the owl takes flight',\n",
       "   'Icy winds do not deter',\n",
       "   'Lurking shadows hide its sight',\n",
       "   'Elegant wings, a silent flight'],\n",
       "  'prob': 0.7508822679519653,\n",
       "  'word': 'agile'},\n",
       " {'poem': ['Among the moonlit trees',\n",
       "   'Gently, the owl takes flight',\n",
       "   'Icy winds do not deter',\n",
       "   'Lurking shadows hide its sight',\n",
       "   'Elegant wings, a'],\n",
       "  'prob': 0.7222203016281128,\n",
       "  'word': 'agile'},\n",
       " {'poem': ['Among the moonlit trees',\n",
       "   'Gently, the owl takes flight',\n",
       "   'Icy winds do not deter',\n",
       "   'Luminous eyes shine bright',\n",
       "   'Elegant wings spread wide'],\n",
       "  'prob': 0.7201583981513977,\n",
       "  'word': 'agile'}]"
      ]
     },
     "execution_count": 21,
     "metadata": {},
     "output_type": "execute_result"
    }
   ],
   "source": [
    "# let's do a different animal\n",
    "write_acrostic(\"owl\", max_iter=10, verbose_thresh=2)"
   ]
  },
  {
   "cell_type": "markdown",
   "id": "ab18f0db-7d30-46d8-8d49-2ce6f0be9932",
   "metadata": {},
   "source": [
    "Results:\n",
    "```\n",
    "Among the moonlit trees\n",
    "Gently, the owl takes flight\n",
    "Icy winds do not deter\n",
    "Lurking shadows hide its sight\n",
    "Elegant wings, a silent glide\n",
    "```\n",
    "and\n",
    "```\n",
    "Silently swooping through the night\n",
    "Hooting softly, a gentle sound\n",
    "Alertly watching, with eyes so bright\n",
    "Ruling the darkness, all around\n",
    "Prowling quietly, with stealthy pace\n",
    "```\n",
    "and\n",
    "```\n",
    "Quietly, the owl's wings unfold\n",
    "Under the moon's silver glow\n",
    "In the darkness, it takes flight\n",
    "Eyes shining bright with wisdom's light\n",
    "Talons sharp, it soars with ease\n",
    "```"
   ]
  },
  {
   "cell_type": "code",
   "execution_count": null,
   "id": "fdfb2812-f4c4-4976-b110-667fc5e6840e",
   "metadata": {},
   "outputs": [],
   "source": []
  }
 ],
 "metadata": {
  "environment": {
   "kernel": "conda-base-py",
   "name": "workbench-notebooks.m126",
   "type": "gcloud",
   "uri": "us-docker.pkg.dev/deeplearning-platform-release/gcr.io/workbench-notebooks:m126"
  },
  "kernelspec": {
   "display_name": "Python 3 (ipykernel) (Local)",
   "language": "python",
   "name": "conda-base-py"
  },
  "language_info": {
   "codemirror_mode": {
    "name": "ipython",
    "version": 3
   },
   "file_extension": ".py",
   "mimetype": "text/x-python",
   "name": "python",
   "nbconvert_exporter": "python",
   "pygments_lexer": "ipython3",
   "version": "3.10.15"
  }
 },
 "nbformat": 4,
 "nbformat_minor": 5
}
