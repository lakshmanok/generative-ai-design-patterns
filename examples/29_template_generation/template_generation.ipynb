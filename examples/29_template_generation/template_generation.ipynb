{
 "cells": [
  {
   "cell_type": "markdown",
   "id": "45a56bb7-e753-4731-84ed-cdc1084f57e7",
   "metadata": {
    "tags": []
   },
   "source": [
    "## Template Generation\n",
    "\n",
    "Example of generating thank you notes for a tour package company."
   ]
  },
  {
   "cell_type": "code",
   "execution_count": 1,
   "id": "ffaacc11-e131-4170-ad1b-42bdf2e01b04",
   "metadata": {
    "tags": []
   },
   "outputs": [],
   "source": [
    "GEMINI=\"gemini-2.0-flash\"\n",
    "#OPENAI=\"gpt-4o-mini\"\n",
    "#CLAUDE=\"claude-3-7-sonnet-latest\"\n",
    "\n",
    "import os\n",
    "from dotenv import load_dotenv\n",
    "load_dotenv(\"../keys.env\")\n",
    "assert os.environ[\"GEMINI_API_KEY\"][:2] == \"AI\",\\\n",
    "       \"Please specify the GEMINI_API_KEY access token in keys.env file\"\n",
    "#assert os.environ[\"ANTHROPIC_API_KEY\"][:2] == \"sk\",\\\n",
    "#       \"Please specify the ANTHROPIC_API_KEY access token in keys.env file\"\n",
    "#assert os.environ[\"OPENAI_API_KEY\"][:2] == \"sk\",\\\n",
    "#       \"Please specify the OPENAI_API_KEY access token in keys.env file\""
   ]
  },
  {
   "cell_type": "code",
   "execution_count": 2,
   "id": "b9fcb201-d306-40ad-b430-1093f76e8bfb",
   "metadata": {
    "tags": []
   },
   "outputs": [],
   "source": [
    "# Needed in Jupyter environment See: https://ai.pydantic.dev/troubleshooting/ \n",
    "import nest_asyncio\n",
    "nest_asyncio.apply()\n",
    "def zero_shot(model_id, prompt: str) -> str:\n",
    "    from pydantic_ai import Agent\n",
    "    agent = Agent(model_id,\n",
    "                  system_prompt=\"\"\"\n",
    "                  In your responses, do not include any preamble.\n",
    "                  \"\"\",\n",
    "                  model_settings = {\n",
    "                      \"temperature\": 0.1   # not too creative??\n",
    "                  }) \n",
    "    result = agent.run_sync(prompt)\n",
    "    return (result.data)"
   ]
  },
  {
   "cell_type": "markdown",
   "id": "2e3782e9-d901-4255-acae-0201fdbb64f8",
   "metadata": {
    "tags": []
   },
   "source": [
    "## Generate the template for various tours and package types\n",
    "\n",
    "For various tours and package types.\n",
    "\n",
    "You'd call this in a loop and write it all into a database for retrieval during inference."
   ]
  },
  {
   "cell_type": "code",
   "execution_count": 3,
   "id": "8f9489df-4cb3-40b9-b522-4a3f0b0a07bb",
   "metadata": {},
   "outputs": [
    {
     "name": "stdout",
     "output_type": "stream",
     "text": [
      "Dear [CUSTOMER_NAME],\n",
      "\n",
      "I'm absolutely thrilled to welcome you to Toledo! I'm [TOUR_GUIDE], and I'll be your guide for your family tour. I'm so excited to show you and your family this incredible city.\n",
      "\n",
      "Toledo is a treasure trove of history and culture. Get ready to be transported back in time as we explore the city's ancient streets and marvel at its stunning architecture.\n",
      "\n",
      "Here's a sneak peek of what awaits you:\n",
      "\n",
      "*   **The magnificent Toledo Cathedral:** A masterpiece of Gothic architecture that will leave you breathless.\n",
      "*   **The Alcázar of Toledo:** A formidable fortress with panoramic views of the city.\n",
      "*   **The Synagogue of El Tránsito:** A testament to Toledo's rich Jewish heritage.\n",
      "*   **The Monastery of San Juan de los Reyes:** A beautiful example of Isabelline Gothic style.\n",
      "\n",
      "But that's not all! Toledo offers so much more:\n",
      "\n",
      "*   **Wander through the Jewish Quarter:** Get lost in its narrow streets and discover hidden gems.\n",
      "*   **Enjoy panoramic views from the Mirador del Valle:** Capture stunning photos of the city skyline.\n",
      "*   **Indulge in local delicacies:** Try marzipan, a traditional Toledo sweet.\n",
      "*   **Shop for souvenirs:** Find unique crafts and artisanal products.\n",
      "\n",
      "I can't wait to meet you and your family in person and share my passion for Toledo with you. Get ready for an unforgettable adventure!\n",
      "\n",
      "See you soon,\n",
      "\n",
      "[TOUR_GUIDE]\n",
      "\n"
     ]
    }
   ],
   "source": [
    "DESTINATIONS=[\n",
    "    \"Toledo, Spain\",\n",
    "    \"Avila & Segovia\",\n",
    "    \"Escorial Monastery\"\n",
    "]\n",
    "PACKAGE_TYPES=[\n",
    "    \"Family\",\n",
    "    \"Individual\",\n",
    "    \"Group\",\n",
    "    \"Singles\"\n",
    "]\n",
    "LANGUAGES=[\n",
    "    \"English\",\n",
    "    \"Polish\"\n",
    "]\n",
    "\n",
    "def create_template(tour_destination: str, package_type: str, language: str) -> str:\n",
    "    prompt=f\"\"\"\n",
    "    You are a tour guide working on behalf of Tours GenAI S.L.\n",
    "    Write a personalized letter in {language} to a customer who has purchased a\n",
    "    {package_type} tour package to visit {tour_destination}.\n",
    "    Sound excited to see them and lead them on the tour.\n",
    "    Explain some of the highlights of what they will see there and some of the things they can do while there.\n",
    "    In the letter, use [CUSTOMER_NAME] to indicate the place to be replaced by their name\n",
    "    and [TOUR_GUIDE] to indicate the place to be replaced by your name.\n",
    "    \"\"\"\n",
    "    return zero_shot(GEMINI, prompt)\n",
    "\n",
    "template = create_template(DESTINATIONS[0], PACKAGE_TYPES[0], LANGUAGES[0])\n",
    "print(template)"
   ]
  },
  {
   "cell_type": "markdown",
   "id": "c79cabaf-913d-47b6-9b84-ffd24c1c08ab",
   "metadata": {},
   "source": [
    "## Use the template"
   ]
  },
  {
   "cell_type": "code",
   "execution_count": 4,
   "id": "056abf7e-8c54-4e64-b787-a467a3ed96d1",
   "metadata": {
    "tags": []
   },
   "outputs": [
    {
     "name": "stdout",
     "output_type": "stream",
     "text": [
      "Dear Hannes Hapke,\n",
      "\n",
      "I'm absolutely thrilled to welcome you to Toledo! I'm Lak Lakshmanan, and I'll be your guide for your family tour. I'm so excited to show you and your family this incredible city.\n",
      "\n",
      "Toledo is a treasure trove of history and culture. Get ready to be transported back in time as we explore the city's ancient streets and marvel at its stunning architecture.\n",
      "\n",
      "Here's a sneak peek of what awaits you:\n",
      "\n",
      "*   **The magnificent Toledo Cathedral:** A masterpiece of Gothic architecture that will leave you breathless.\n",
      "*   **The Alcázar of Toledo:** A formidable fortress with panoramic views of the city.\n",
      "*   **The Synagogue of El Tránsito:** A testament to Toledo's rich Jewish heritage.\n",
      "*   **The Monastery of San Juan de los Reyes:** A beautiful example of Isabelline Gothic style.\n",
      "\n",
      "But that's not all! Toledo offers so much more:\n",
      "\n",
      "*   **Wander through the Jewish Quarter:** Get lost in its narrow streets and discover hidden gems.\n",
      "*   **Enjoy panoramic views from the Mirador del Valle:** Capture stunning photos of the city skyline.\n",
      "*   **Indulge in local delicacies:** Try marzipan, a traditional Toledo sweet.\n",
      "*   **Shop for souvenirs:** Find unique crafts and artisanal products.\n",
      "\n",
      "I can't wait to meet you and your family in person and share my passion for Toledo with you. Get ready for an unforgettable adventure!\n",
      "\n",
      "See you soon,\n",
      "\n",
      "Lak Lakshmanan\n",
      "\n"
     ]
    }
   ],
   "source": [
    "print(template.replace(\"[CUSTOMER_NAME]\", \"Hannes Hapke\").replace(\"[TOUR_GUIDE]\", \"Lak Lakshmanan\"))"
   ]
  },
  {
   "cell_type": "markdown",
   "id": "9416b4e8-e1ff-4f50-b140-80a37bc4d540",
   "metadata": {},
   "source": [
    "## Another template\n",
    "\n",
    "Just to see what it looks like"
   ]
  },
  {
   "cell_type": "code",
   "execution_count": 5,
   "id": "60662384-70b7-410a-87de-41f4829edb2c",
   "metadata": {
    "tags": []
   },
   "outputs": [
    {
     "name": "stdout",
     "output_type": "stream",
     "text": [
      "*** Escorial Monastery Individual English***\n",
      "Dear [CUSTOMER_NAME],\n",
      "\n",
      "I'm absolutely thrilled to welcome you to Tours GenAI S.L. and even more excited to be your personal guide for your upcoming individual tour of the magnificent Escorial Monastery! I'm [TOUR_GUIDE], and I can't wait to share this incredible historical site with you.\n",
      "\n",
      "Get ready to be amazed! The Escorial is truly breathtaking. We'll explore the stunning basilica, a masterpiece of Renaissance architecture, and delve into the Royal Library, home to an astounding collection of ancient manuscripts and books. Of course, we'll also visit the Royal Pantheon, the final resting place of Spanish monarchs, a truly awe-inspiring and solemn space.\n",
      "\n",
      "Beyond the main attractions, we can wander through the beautiful gardens, offering a peaceful escape and stunning views of the surrounding landscape. If you're interested, we can also explore the Habsburg Palace, offering a glimpse into the lives of Spanish royalty.\n",
      "\n",
      "Don't hesitate to ask any questions you may have during the tour. I'm here to make sure you have an unforgettable experience. I'm so looking forward to meeting you and exploring the wonders of El Escorial together!\n",
      "\n",
      "See you soon!\n",
      "\n",
      "Warmly,\n",
      "\n",
      "[TOUR_GUIDE]\n",
      "Tours GenAI S.L.\n",
      "\n",
      "\n",
      "*** Avila & Segovia Individual English***\n",
      "Dear [CUSTOMER_NAME],\n",
      "\n",
      "I'm absolutely thrilled to welcome you to Avila and Segovia! I'm [TOUR_GUIDE], and I'll be your personal guide on this incredible journey through history and beauty. I'm so excited to show you these amazing cities!\n",
      "\n",
      "Get ready to be transported back in time as we explore Avila's perfectly preserved medieval walls, a UNESCO World Heritage site. Walking along these ancient ramparts, you'll feel like you've stepped into a storybook. We'll also visit the Avila Cathedral, a stunning example of Gothic architecture, and the Convent of Santa Teresa, a place of profound spiritual significance. Don't forget to try the famous \"Yemas de Ávila,\" a delicious local sweet treat!\n",
      "\n",
      "In Segovia, prepare to be awestruck by the magnificent Roman Aqueduct, an engineering marvel that has stood for centuries. We'll also explore the Alcázar of Segovia, a fairytale castle that inspired Walt Disney, and wander through the charming streets of the Jewish Quarter. Be sure to indulge in Segovia's signature dish, \"cochinillo asado\" (roast suckling pig) – it's an unforgettable culinary experience!\n",
      "\n",
      "Beyond the iconic landmarks, I'll share fascinating stories and local insights that will bring these cities to life. Feel free to ask questions, explore at your own pace, and soak in the unique atmosphere of each place.\n",
      "\n",
      "I can't wait to meet you and embark on this adventure together!\n",
      "\n",
      "See you soon,\n",
      "\n",
      "[TOUR_GUIDE]\n",
      "\n",
      "\n",
      "*** Avila & Segovia Family Polish***\n",
      "Szanowni Państwo, [CUSTOMER_NAME]!\n",
      "\n",
      "Z ogromną radością witam Państwa w imieniu Tours GenAI S.L.! Jestem [TOUR_GUIDE] i będę miał przyjemność być Państwa przewodnikiem podczas rodzinnej wycieczki do Avili i Segowii! Nie mogę się doczekać, aby pokazać Państwu te wspaniałe miasta!\n",
      "\n",
      "Przygotujcie się na niezapomniane wrażenia! W Avili czeka na Was imponujący średniowieczny mur obronny, jeden z najlepiej zachowanych w Europie. Będziemy spacerować po jego szczycie, podziwiając panoramę miasta i okolic. Odwiedzimy również Katedrę Chrystusa Zbawiciela, perłę gotyckiej architektury.\n",
      "\n",
      "W Segowii natomiast, czeka na nas majestatyczny Akwedukt Rzymski, który zapiera dech w piersiach! Będziemy mieli okazję podziwiać go z bliska i dowiedzieć się o jego historii. Nie możemy zapomnieć o Alcazarze, bajkowym zamku, który zainspirował samego Walta Disneya!\n",
      "\n",
      "Oprócz zwiedzania zabytków, polecam spróbować lokalnych specjałów kulinarnych. W Avili koniecznie trzeba skosztować *chuletón de Ávila* (stek wołowy), a w Segowii *cochinillo asado* (pieczone prosię). To prawdziwa uczta dla podniebienia!\n",
      "\n",
      "Podczas wolnego czasu, zachęcam do spacerów po urokliwych uliczkach, odkrywania lokalnych sklepików i delektowania się atmosferą tych historycznych miast.\n",
      "\n",
      "Do zobaczenia wkrótce! Jestem przekonany, że ta wycieczka będzie niezapomnianym przeżyciem dla całej Państwa rodziny!\n",
      "\n",
      "Z serdecznymi pozdrowieniami,\n",
      "\n",
      "[TOUR_GUIDE]\n",
      "Tours GenAI S.L.\n",
      "\n",
      "\n"
     ]
    }
   ],
   "source": [
    "import random\n",
    "\n",
    "for x in range(3):\n",
    "    dest, pack, lang = (random.choice(DESTINATIONS),\n",
    "                        random.choice(PACKAGE_TYPES),\n",
    "                        random.choice(LANGUAGES))\n",
    "    template = create_template(dest, pack, lang)\n",
    "    print(f\"*** {dest} {pack} {lang}***\")\n",
    "    print(template)\n",
    "    print()"
   ]
  },
  {
   "cell_type": "code",
   "execution_count": null,
   "id": "814003e4-4f14-49d2-9c66-419829e3d91e",
   "metadata": {},
   "outputs": [],
   "source": []
  }
 ],
 "metadata": {
  "environment": {
   "kernel": "conda-base-py",
   "name": "workbench-notebooks.m126",
   "type": "gcloud",
   "uri": "us-docker.pkg.dev/deeplearning-platform-release/gcr.io/workbench-notebooks:m126"
  },
  "kernelspec": {
   "display_name": "Python 3 (ipykernel) (Local)",
   "language": "python",
   "name": "conda-base-py"
  },
  "language_info": {
   "codemirror_mode": {
    "name": "ipython",
    "version": 3
   },
   "file_extension": ".py",
   "mimetype": "text/x-python",
   "name": "python",
   "nbconvert_exporter": "python",
   "pygments_lexer": "ipython3",
   "version": "3.10.15"
  }
 },
 "nbformat": 4,
 "nbformat_minor": 5
}
