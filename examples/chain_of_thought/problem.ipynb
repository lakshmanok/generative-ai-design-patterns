{
 "cells": [
  {
   "cell_type": "markdown",
   "id": "00a2db13-fb78-453a-b9e6-75e3c568e453",
   "metadata": {},
   "source": [
    "# Chain of Thought: Problem\n",
    "\n",
    "prompts from the Problem section"
   ]
  },
  {
   "cell_type": "code",
   "execution_count": 1,
   "id": "0264c136-dd55-457e-96a2-6df0c26f7a08",
   "metadata": {
    "tags": []
   },
   "outputs": [],
   "source": [
    "#%pip install --upgrade --quiet pydantic-ai-slim[anthropic,openai]"
   ]
  },
  {
   "cell_type": "code",
   "execution_count": 2,
   "id": "28fb9619-572b-4c6e-8f64-3c0252075834",
   "metadata": {
    "tags": []
   },
   "outputs": [],
   "source": [
    "GEMINI=\"gemini-2.0-flash\"\n",
    "OPENAI=\"gpt-4o-mini\"\n",
    "CLAUDE=\"claude-3-7-sonnet-latest\"\n",
    "\n",
    "import os\n",
    "from dotenv import load_dotenv\n",
    "load_dotenv(\"../keys.env\")\n",
    "assert os.environ[\"GEMINI_API_KEY\"][:2] == \"AI\",\\\n",
    "       \"Please specify the GEMINI_API_KEY access token in keys.env file\"\n",
    "assert os.environ[\"ANTHROPIC_API_KEY\"][:2] == \"sk\",\\\n",
    "       \"Please specify the ANTHROPIC_API_KEY access token in keys.env file\"\n",
    "assert os.environ[\"OPENAI_API_KEY\"][:2] == \"sk\",\\\n",
    "       \"Please specify the OPENAI_API_KEY access token in keys.env file\""
   ]
  },
  {
   "cell_type": "code",
   "execution_count": 3,
   "id": "3ef18244-ec11-4c74-a42c-ff1f07d6ff83",
   "metadata": {
    "tags": []
   },
   "outputs": [],
   "source": [
    "# Needed in Jupyter environment See: https://ai.pydantic.dev/troubleshooting/ \n",
    "import nest_asyncio\n",
    "nest_asyncio.apply()"
   ]
  },
  {
   "cell_type": "code",
   "execution_count": 4,
   "id": "2f17b17c-8806-4bf3-9dbd-a28d40a24659",
   "metadata": {
    "tags": []
   },
   "outputs": [],
   "source": [
    "def zero_shot(model_id, prompt: str) -> str:\n",
    "    from pydantic_ai import Agent\n",
    "    agent = Agent(model_id)\n",
    "    result = agent.run_sync(prompt)\n",
    "    return (result.data)"
   ]
  },
  {
   "cell_type": "markdown",
   "id": "e18e5579-8162-4132-b168-34aadd128707",
   "metadata": {},
   "source": [
    "## Physics vs Oil and Gas"
   ]
  },
  {
   "cell_type": "code",
   "execution_count": 5,
   "id": "bed11b2d-19c5-4321-862e-1410f9af9498",
   "metadata": {
    "tags": []
   },
   "outputs": [
    {
     "name": "stdout",
     "output_type": "stream",
     "text": [
      "# Finding the Acceleration of an Object on an Inclined Plane\n",
      "\n",
      "To find the acceleration of the object sliding down a frictionless inclined plane, I'll analyze the forces acting on it and apply Newton's Second Law.\n",
      "\n",
      "## Given:\n",
      "- Mass of object: m = 2 kg\n",
      "- Angle of incline: θ = 30° to the horizontal\n",
      "- Frictionless surface\n",
      "\n",
      "## Step 1: Identify the forces\n",
      "The forces acting on the object are:\n",
      "- Weight (mg) acting downward\n",
      "- Normal force (N) perpendicular to the inclined surface\n",
      "\n",
      "## Step 2: Resolve the weight into components\n",
      "- Component parallel to the incline: mg·sin(θ)\n",
      "- Component perpendicular to the incline: mg·cos(θ)\n",
      "\n",
      "## Step 3: Apply Newton's Second Law\n",
      "For motion along the incline (x-direction):\n",
      "- Fₓ = m·a\n",
      "- mg·sin(θ) = m·a\n",
      "- a = g·sin(θ)\n",
      "\n",
      "## Step 4: Calculate the acceleration\n",
      "- a = g·sin(30°)\n",
      "- a = 9.8 m/s² × 0.5\n",
      "- a = 4.9 m/s²\n",
      "\n",
      "The object accelerates down the inclined plane at 4.9 m/s².\n"
     ]
    }
   ],
   "source": [
    "print(zero_shot(CLAUDE, \n",
    "                \"A 2kg object is sliding down a frictionless inclined plane with an angle of 30° to the horizontal. What is the acceleration of the object?\"))"
   ]
  },
  {
   "cell_type": "code",
   "execution_count": 9,
   "id": "042eb45e-05e4-47c5-a5b1-dd5f5ddef733",
   "metadata": {},
   "outputs": [
    {
     "name": "stdout",
     "output_type": "stream",
     "text": [
      "I cannot provide a specific flow rate for \"Texas Sweet\" (which is a type of crude oil) with the given information because:\n",
      "\n",
      "1. The flow rate calculation requires additional critical information such as:\n",
      "   - The viscosity of the fluid\n",
      "   - The pipe roughness coefficient\n",
      "   - The elevation changes in the pipe\n",
      "   - The temperature of the fluid\n",
      "\n",
      "2. For crude oil flow calculations, we would typically use the Darcy-Weisbach equation or similar fluid dynamics equations that account for the specific properties of the fluid.\n",
      "\n",
      "3. While 7 bar provides the pressure information, we would need to know if this is gauge pressure or absolute pressure, and whether this is the inlet pressure or the pressure differential across the entire 100m length.\n",
      "\n",
      "To calculate an accurate flow rate, I would need these additional parameters specific to the Texas Sweet crude oil being transported and more details about the pipe system configuration.\n"
     ]
    }
   ],
   "source": [
    "print(zero_shot(CLAUDE, \n",
    "                \"If I have a pipe of diameter 25cm and a hose that is 100m long, what's the flow-rate of Texas Sweet supplied at 7 bar?\"))"
   ]
  },
  {
   "cell_type": "markdown",
   "id": "841be60c-963f-4572-968f-21d5ec5991ea",
   "metadata": {},
   "source": [
    "This sounds extremely informed, but here's an online calculator that can provide the average flow rate given the above numbers:\n",
    "\n",
    "https://www.copely.com/discover/tools/flow-rate-calculator/\n",
    "or\n",
    "https://www.gigacalculator.com/calculators/pipe-flow-rate-calculator.php"
   ]
  },
  {
   "cell_type": "markdown",
   "id": "94e0efb4-8f92-4d14-83b3-032c4550ffbd",
   "metadata": {},
   "source": [
    "## Multi-step reasoning"
   ]
  },
  {
   "cell_type": "code",
   "execution_count": 11,
   "id": "acd7fdae-1f58-4de9-aa88-9ab3c6a802fc",
   "metadata": {
    "tags": []
   },
   "outputs": [
    {
     "name": "stdout",
     "output_type": "stream",
     "text": [
      "Here's how to determine the baggage allowance for the itinerary SIN-DFW-YYZ:\n",
      "\n",
      "*   **SIN-DFW:** The flight from Singapore (SIN) to Dallas/Fort Worth (DFW) has the United States as the final destination.\n",
      "*   **DFW-YYZ:** The flight from Dallas/Fort Worth (DFW) to Toronto (YYZ) has Canada as the final destination.\n",
      "\n",
      "Therefore, since at least one of the legs involves the United States as the final destination, you are allowed to check in **50kg**.\n"
     ]
    }
   ],
   "source": [
    "print(zero_shot(GEMINI, \"\"\"\n",
    "You are allowed to check in 50kg if your final destination is the United States or if you have special needs.\n",
    "Otherwise, you are allowed only 40kg. What is the baggage allowance for the following itineary: SIN-DFW-YYZ?\"\"\"))"
   ]
  },
  {
   "cell_type": "markdown",
   "id": "609938d5-a078-4c30-84b4-fd46f2a49078",
   "metadata": {
    "tags": []
   },
   "source": [
    "This is a rather unusual interpretation of the word \"final\", and it's hallucinated.\n",
    "The correct answer is that the final destination is Toronto, and so the baggage allowance is 40kg.\n",
    "This is confirmed by:\n",
    "    https://travel.stackexchange.com/questions/188269/connection-through-the-us-which-airlines-baggage-rules-apply"
   ]
  },
  {
   "cell_type": "markdown",
   "id": "443ac1b3-81f1-4ca1-acbd-c19639ed780b",
   "metadata": {},
   "source": [
    "## Black box answers\n",
    "\n",
    "without access to a map or web tool ..."
   ]
  },
  {
   "cell_type": "code",
   "execution_count": 16,
   "id": "65a3db1c-f14e-41d0-8df9-a35d1dc51d7c",
   "metadata": {
    "tags": []
   },
   "outputs": [
    {
     "name": "stdout",
     "output_type": "stream",
     "text": [
      "If you drive 300 km west of Hyderabad, India, you will likely end up in the region of Maharashtra, potentially reaching cities like Ahmednagar or even the outskirts of Pune, depending on your exact route. The area is characterized by a mix of rural landscapes and urban centers. Always consider checking a map or navigation tool for the most accurate and current information on your journey.\n"
     ]
    }
   ],
   "source": [
    "print(zero_shot(OPENAI,\n",
    "                \"If I drive 300km west of Hyderabad, where will I land up?\"))"
   ]
  },
  {
   "cell_type": "markdown",
   "id": "4cea3a9f-905b-48d2-bc1b-49f6efc0e5ba",
   "metadata": {},
   "source": [
    "The correct answer is Solapur, in Karnataka. Hyderabad to Pune is 560km."
   ]
  },
  {
   "cell_type": "code",
   "execution_count": null,
   "id": "2fa4025f-0869-47ec-b860-9c5c77a38de6",
   "metadata": {},
   "outputs": [],
   "source": []
  }
 ],
 "metadata": {
  "environment": {
   "kernel": "conda-base-py",
   "name": "workbench-notebooks.m126",
   "type": "gcloud",
   "uri": "us-docker.pkg.dev/deeplearning-platform-release/gcr.io/workbench-notebooks:m126"
  },
  "kernelspec": {
   "display_name": "Python 3 (ipykernel) (Local)",
   "language": "python",
   "name": "conda-base-py"
  },
  "language_info": {
   "codemirror_mode": {
    "name": "ipython",
    "version": 3
   },
   "file_extension": ".py",
   "mimetype": "text/x-python",
   "name": "python",
   "nbconvert_exporter": "python",
   "pygments_lexer": "ipython3",
   "version": "3.10.15"
  }
 },
 "nbformat": 4,
 "nbformat_minor": 5
}
