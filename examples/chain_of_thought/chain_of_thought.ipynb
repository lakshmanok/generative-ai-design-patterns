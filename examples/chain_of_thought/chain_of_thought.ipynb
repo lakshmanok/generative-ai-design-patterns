{
 "cells": [
  {
   "cell_type": "markdown",
   "id": "00a2db13-fb78-453a-b9e6-75e3c568e453",
   "metadata": {},
   "source": [
    "# Chain of Thought: Solution variants\n",
    "\n",
    "Illustrates using Chain of Thought to fix some of the problematic queries"
   ]
  },
  {
   "cell_type": "code",
   "execution_count": 1,
   "id": "0264c136-dd55-457e-96a2-6df0c26f7a08",
   "metadata": {
    "tags": []
   },
   "outputs": [],
   "source": [
    "#%pip install --upgrade --quiet pydantic-ai-slim[anthropic,openai]"
   ]
  },
  {
   "cell_type": "code",
   "execution_count": 1,
   "id": "28fb9619-572b-4c6e-8f64-3c0252075834",
   "metadata": {
    "tags": []
   },
   "outputs": [],
   "source": [
    "GEMINI=\"gemini-2.0-flash\"\n",
    "OPENAI=\"gpt-4o-mini\"\n",
    "CLAUDE=\"claude-3-7-sonnet-latest\"\n",
    "\n",
    "import os\n",
    "from dotenv import load_dotenv\n",
    "load_dotenv(\"../keys.env\")\n",
    "assert os.environ[\"GEMINI_API_KEY\"][:2] == \"AI\",\\\n",
    "       \"Please specify the GEMINI_API_KEY access token in keys.env file\"\n",
    "assert os.environ[\"ANTHROPIC_API_KEY\"][:2] == \"sk\",\\\n",
    "       \"Please specify the ANTHROPIC_API_KEY access token in keys.env file\"\n",
    "assert os.environ[\"OPENAI_API_KEY\"][:2] == \"sk\",\\\n",
    "       \"Please specify the OPENAI_API_KEY access token in keys.env file\""
   ]
  },
  {
   "cell_type": "code",
   "execution_count": 2,
   "id": "3ef18244-ec11-4c74-a42c-ff1f07d6ff83",
   "metadata": {
    "tags": []
   },
   "outputs": [],
   "source": [
    "# Needed in Jupyter environment See: https://ai.pydantic.dev/troubleshooting/ \n",
    "import nest_asyncio\n",
    "nest_asyncio.apply()"
   ]
  },
  {
   "cell_type": "code",
   "execution_count": 3,
   "id": "2f17b17c-8806-4bf3-9dbd-a28d40a24659",
   "metadata": {
    "tags": []
   },
   "outputs": [],
   "source": [
    "def zero_shot(model_id, prompt: str) -> str:\n",
    "    from pydantic_ai import Agent\n",
    "    agent = Agent(model_id)\n",
    "    result = agent.run_sync(prompt)\n",
    "    return (result.data)"
   ]
  },
  {
   "cell_type": "markdown",
   "id": "e18e5579-8162-4132-b168-34aadd128707",
   "metadata": {},
   "source": [
    "## Zero-shot CoT\n",
    "\n",
    "Simply saying \"think about it step-by-step\""
   ]
  },
  {
   "cell_type": "code",
   "execution_count": 8,
   "id": "042eb45e-05e4-47c5-a5b1-dd5f5ddef733",
   "metadata": {},
   "outputs": [
    {
     "name": "stdout",
     "output_type": "stream",
     "text": [
      "# Flow Rate Calculation for Texas Sweet Crude Oil\n",
      "\n",
      "To determine the flow rate of Texas Sweet crude oil through a pipe, I'll need to apply fluid dynamics principles, specifically the Darcy-Weisbach equation or Hagen-Poiseuille law.\n",
      "\n",
      "## Given information:\n",
      "- Pipe diameter (D) = 25 cm = 0.25 m\n",
      "- Pipe length (L) = 100 m\n",
      "- Pressure differential (ΔP) = 7 bar = 700,000 Pa\n",
      "- Fluid: Texas Sweet crude oil\n",
      "\n",
      "## Step 1: Determine the properties of Texas Sweet crude oil\n",
      "Texas Sweet crude oil typically has these properties:\n",
      "- Density (ρ): approximately 850 kg/m³\n",
      "- Dynamic viscosity (μ): approximately 0.005-0.010 Pa·s (I'll use 0.008 Pa·s)\n",
      "\n",
      "## Step 2: Calculate flow rate using the Hagen-Poiseuille equation\n",
      "For laminar flow in a circular pipe:\n",
      "Q = (π × D⁴ × ΔP) / (128 × μ × L)\n",
      "\n",
      "Where:\n",
      "- Q = volumetric flow rate (m³/s)\n",
      "- π = 3.14159\n",
      "- D = pipe diameter (m)\n",
      "- ΔP = pressure differential (Pa)\n",
      "- μ = dynamic viscosity (Pa·s)\n",
      "- L = pipe length (m)\n",
      "\n",
      "## Step 3: Substitute values and calculate\n",
      "Q = (π × (0.25 m)⁴ × 700,000 Pa) / (128 × 0.008 Pa·s × 100 m)\n",
      "Q = (π × 0.00390625 m⁴ × 700,000 Pa) / (102.4 Pa·s·m)\n",
      "Q = (0.01227 m⁴ × 700,000 Pa) / (102.4 Pa·s·m)\n",
      "Q = 8,589 m⁴/(Pa·s·m) × Pa/102.4\n",
      "Q = 83.88 m³/s\n",
      "\n",
      "## Step 4: Check if flow is laminar or turbulent\n",
      "The Reynolds number Re = (ρ × v × D) / μ\n",
      "where v = 4Q/(πD²) = flow velocity\n",
      "\n",
      "This flow rate would actually result in turbulent flow, so the Darcy-Weisbach equation would be more appropriate for a more precise calculation.\n",
      "\n",
      "The calculated flow rate of approximately 84 m³/s (or 5,040 m³/min) for Texas Sweet crude oil with the given parameters seems very high, indicating the flow would be turbulent in practice and might be limited by other factors in a real pipeline system.\n"
     ]
    }
   ],
   "source": [
    "print(zero_shot(CLAUDE, \"\"\"\n",
    "If I have a pipe of diameter 25cm and a hose that is 100m long,\n",
    "what's the flow-rate of Texas Sweet with a 7 bar pressure differential?\n",
    "Think about it step-by-step.\n",
    "\"\"\"))"
   ]
  },
  {
   "cell_type": "markdown",
   "id": "c5769de0-c80c-469e-88ad-7389ed2a7072",
   "metadata": {
    "tags": []
   },
   "source": [
    "## Few-shot CoT\n",
    "\n",
    "Providing an example or two."
   ]
  },
  {
   "cell_type": "code",
   "execution_count": 10,
   "id": "d2463d17-40b7-4c97-8dc0-15e2bd03ac8c",
   "metadata": {
    "tags": []
   },
   "outputs": [
    {
     "name": "stdout",
     "output_type": "stream",
     "text": [
      "A: The final destination, YYZ, is in Canada. So, baggage allowance is 40kg.\n",
      "\n"
     ]
    }
   ],
   "source": [
    "print(zero_shot(GEMINI, \"\"\"\n",
    "You are allowed to check in 50kg if your final destination is the United States or if you have special needs.\n",
    "Otherwise, you are allowed only 40kg. \n",
    "\n",
    "Example 1:\n",
    "Q: What's the baggage allowance for itinerary CDG-ATL-SEA?\n",
    "A: The final destination, SEA, is in the United States. So, baggage allowance is 50kg.\n",
    "\n",
    "Example 2:\n",
    "Q: What's the baggage allowance for itinerary CDG-LHR-NBO?\n",
    "A: The final destination, NBO, is in Kenya. So, baggage allowance is 40kg.\n",
    "\n",
    "Q: What is the baggage allowance for the following itineary: SIN-DFW-YYZ?\n",
    "\"\"\"))"
   ]
  },
  {
   "cell_type": "markdown",
   "id": "e256681a-67d3-4bad-aa0b-ed70eb7ec0a5",
   "metadata": {},
   "source": [
    "## Bridge Suit Play\n",
    "\n",
    "let's see if CoT can help"
   ]
  },
  {
   "cell_type": "code",
   "execution_count": 23,
   "id": "88b4434a-34e6-4f6b-b60f-95ae6ed87e0e",
   "metadata": {
    "tags": []
   },
   "outputs": [
    {
     "name": "stdout",
     "output_type": "stream",
     "text": [
      "Okay, let's analyze this suit combination: **Holding AKJxx opposite four small.**\n",
      "\n",
      "Here's how I would advise you to play this suit:\n",
      "\n",
      "**Understanding the Situation:**\n",
      "\n",
      "*   **You have:** AKJxx (five cards in your hand) + four small cards in the dummy = **Nine cards in the combined hands.**\n",
      "*   **Opponents have:** Four cards remaining in the suit.\n",
      "*   **Key Card:** You need to consider where the Queen is.\n",
      "\n",
      "**Reasoning and Plan:**\n",
      "\n",
      "1.  **The Most Likely Split:** With four cards outstanding, the most likely split is 2-2.\n",
      "\n",
      "2.  **The Goal:** Since we are missing the queen, and we hold AKJ, we hope for the queen to drop.\n",
      "\n",
      "3.  **Playing the Hand:**\n",
      "\n",
      "    *   **Play the Ace:** Lead the Ace from your hand (or the hand with AKJxx).\n",
      "    *   **Play the King:** Next, lead the King from your hand.\n",
      "\n",
      "4.  **Possible Outcomes After Leading the Ace and King**\n",
      "\n",
      "    *   **Queen Drops:** If the Queen appears on either the Ace or King lead, congratulations! You've captured it and can now take the rest of the tricks in the suit by leading either the Jack or one of the small cards.\n",
      "\n",
      "    *   **Queen Doesn't Drop:** If the Queen doesn't appear after Ace and King, the opponents must have the queen and one other card. You can lead the Jack. If the queen appears, you can pick up the suit. If the queen doesn't appear, then play a small card.\n",
      "\n",
      "**Key Considerations:**\n",
      "\n",
      "*   **Declarer Play vs. Defense:** This advice assumes you're the declarer. If you're defending, the optimal play might depend on the bidding and the overall hand patterns.\n",
      "*   **Safety Play:** It's generally best to play the Ace and King first and see if the queen drops, since it minimizes the risk of losing the lead or allowing the opponents to score the queen.\n",
      "\n",
      "Let me know if you have any more questions, or if you'd like to explore the defensive implications!\n",
      "\n"
     ]
    }
   ],
   "source": [
    "print(zero_shot(GEMINI, \"\"\"\n",
    "You are a bridge teacher. Guide a student on how to play the given suit combination. \n",
    "\n",
    "Example 1:\n",
    "Q: Holding AKJx opposite xxxx.\n",
    "A: You have 8 cards between the two hands, and the opponents have 5 cards including the Queen.\n",
    "The most likely split is 3-2. You can pick up the suit only if the Queen is onside.\n",
    "Finesse the Jack.\n",
    "\n",
    "Example 2:\n",
    "Q: Holding AKJx opposite 5 small.\n",
    "A: You have 9 cards between the two hands, and the opponents have 4 cards including the Queen.\n",
    "The most likely split is 2-2. Therefore, play for the Queen to drop.\n",
    "\n",
    "Q: Holding AKJxx opposite four small.\n",
    "\"\"\"))"
   ]
  },
  {
   "cell_type": "markdown",
   "id": "a8196eb7-be81-4738-8faf-68fe55869662",
   "metadata": {},
   "source": [
    "The line of play and the reasoning is correct."
   ]
  },
  {
   "cell_type": "markdown",
   "id": "dc80da92-a306-4544-ae50-00c07a5add1b",
   "metadata": {
    "tags": []
   },
   "source": [
    "## Where CoT won't help: data gap\n",
    "\n",
    "CoT doesn't help if the problem is a data gap.\n",
    "To solve this question, you need to give the model access to a map.\n",
    "You also need a model capable of interpreting a map.\n",
    "Currently (April 2025), Claude Sonnet can do this, but GPT-4o-mini cannot."
   ]
  },
  {
   "cell_type": "code",
   "execution_count": 17,
   "id": "5d42f915-0166-468d-bb96-9f62eaac2adf",
   "metadata": {
    "tags": []
   },
   "outputs": [],
   "source": [
    "def answer_based_on_map(model_id, prompt: str) -> str:\n",
    "    from pydantic_ai import Agent, ImageUrl\n",
    "    agent = Agent(model_id)\n",
    "    result = agent.run_sync([prompt, \n",
    "                             ImageUrl(url=\"https://upload.wikimedia.org/wikipedia/commons/thumb/7/78/India_roadway_map.svg/1639px-India_roadway_map.svg.png\")\n",
    "                            ])\n",
    "    return (result.data)"
   ]
  },
  {
   "cell_type": "code",
   "execution_count": 18,
   "id": "65a3db1c-f14e-41d0-8df9-a35d1dc51d7c",
   "metadata": {
    "tags": []
   },
   "outputs": [
    {
     "name": "stdout",
     "output_type": "stream",
     "text": [
      "If you drive 300 km west of Hyderabad, you can expect to land in or around a few notable areas in the state of Maharashtra. Here's a step-by-step breakdown:\n",
      "\n",
      "1. **Starting Point**: You begin in Hyderabad, which is located in the southern part of India, in the state of Telangana.\n",
      "  \n",
      "2. **Direction**: Driving west means you'll be heading toward Maharashtra, which is directly west of Telangana.\n",
      "\n",
      "3. **Estimated Distance**: A distance of 300 km takes you through various terrain and could put you near several towns or cities in Maharashtra.\n",
      "\n",
      "4. **Potential Destinations**:\n",
      "   - **Aurangabad**: A significant city known for its historical sites, including the Ajanta and Ellora Caves. It is about 300 km from Hyderabad.\n",
      "   - **Nanded**: Another city that is approximately within this distance and is known for its Gurudwara and historical significance in Sikhism.\n",
      "\n",
      "5. **Route Options**: Depending on the specific route taken (e.g., via NH65), you might pass through smaller towns as well, like Zaheerabad or Bidar.\n",
      "\n",
      "In conclusion, after traveling west for 300 km from Hyderabad, you would likely land up in Aurangabad or Nanded, among other possible smaller towns or cities in Maharashtra.\n"
     ]
    }
   ],
   "source": [
    "print(answer_based_on_map(OPENAI,\"\"\"\n",
    "If I drive 300km west of Hyderabad, where will I land up?\n",
    "Think about it step-by-step.\n",
    "\"\"\"))"
   ]
  },
  {
   "cell_type": "code",
   "execution_count": 20,
   "id": "2fa4025f-0869-47ec-b860-9c5c77a38de6",
   "metadata": {},
   "outputs": [
    {
     "name": "stdout",
     "output_type": "stream",
     "text": [
      "Looking at the India National Highway Network Map, I'll determine where you would end up if you drive 300km west of Hyderabad.\n",
      "\n",
      "Step 1: Locate Hyderabad on the map.\n",
      "I can see Hyderabad in southern India, in the state of Telangana.\n",
      "\n",
      "Step 2: Determine what's 300km west of Hyderabad.\n",
      "Moving west from Hyderabad for approximately 300km would take you toward the western part of Maharashtra state. Based on the map scale and the highway network, this would put you somewhere near or in the vicinity of:\n",
      "\n",
      "- You would likely be close to areas between Solapur and Mumbai in Maharashtra\n",
      "- You might be in the eastern parts of Maharashtra, possibly near cities like Nanded or Latur\n",
      "- You could potentially be approaching the western Maharashtra region\n",
      "\n",
      "Step 3: Conclusion\n",
      "If you drive 300km west of Hyderabad, you would most likely end up in western Maharashtra, possibly near Solapur or somewhere between Solapur and the Maharashtra-Karnataka border region. The exact location would depend on the specific route taken, as highways don't always run perfectly east-west.\n"
     ]
    }
   ],
   "source": [
    "print(answer_based_on_map(CLAUDE,\"\"\"\n",
    "If I drive 300km west of Hyderabad, where will I land up?\n",
    "Think about it step-by-step.\n",
    "\"\"\"))"
   ]
  },
  {
   "cell_type": "markdown",
   "id": "b9331ae0-72ad-4b88-b98f-d3866357d056",
   "metadata": {},
   "source": [
    "## Where CoT won't help: non-sequential logic\n",
    "\n",
    "Another place where CoT doesn't work is if the reasoning is not sequential.\n",
    "In bridge, the reasoning is actually probabilistic. You can not decide on the most likely distribution and just play for it.\n",
    "Experts will also consider whether there is a safety play that gives you an extra chance."
   ]
  },
  {
   "cell_type": "code",
   "execution_count": 24,
   "id": "f0b38428-ebd8-4687-8630-c34205a1f2b3",
   "metadata": {
    "tags": []
   },
   "outputs": [
    {
     "name": "stdout",
     "output_type": "stream",
     "text": [
      "Okay, I'm ready to analyze your suit combination. Let's break down your specific situation:\n",
      "\n",
      "**Q: Holding AKJxx opposite four small, for no losers**\n",
      "\n",
      "Here's how I would approach this suit:\n",
      "\n",
      "**Analysis:**\n",
      "\n",
      "*   **Combined Strength:** You have a very strong holding with AKJxx.\n",
      "*   **Missing Cards:** The opponents hold the Queen and the Nine, Eight, Seven, Six, Five, Four, Three, Two.\n",
      "*   **Goal:** You need to make the hand without losing a trick in the suit.\n",
      "*   **Total Cards in Suit:** 9 in the two hands, so the opponents have 4.\n",
      "\n",
      "**The Play:**\n",
      "\n",
      "The key is to determine the best way to extract the Queen from the opponents' hand to make no losers.\n",
      "\n",
      "**Play a Small Card from Your Hand with the Four Small:**\n",
      "\n",
      "The best strategy is to lead a small card from your hand and take it with a high card from the four small cards. This will tell us if the Queen is in one of the hands.\n",
      "\n",
      "If one opponent wins the trick with the Queen, you have no more losers.\n",
      "\n",
      "If both opponents follow suit with a small card, you have to assume that the Queen is the sole card in one of the opponent's hands.\n",
      "\n",
      "**Continue by leading a small card from your hand with the four small.**\n",
      "\n",
      "The odds are against the Queen being in one hand by itself.\n",
      "\n",
      "Play one of your high cards after they both follow suit.\n",
      "\n",
      "**Why This Works:**\n",
      "\n",
      "*   **If Q drops:** If the Queen falls at any point, the remaining tricks are yours.\n",
      "*   **Best Chance:** This is the most standard and statistically sound approach to maximize your chances of success.\n",
      "\n",
      "**Important Considerations:**\n",
      "\n",
      "*   **Declarer Play vs. Defender Play:** This advice assumes you are the declarer. If you are defending, the strategy might change slightly depending on the overall contract and your partner's signals.\n",
      "*   **Information from Bidding:** The bidding might provide clues about the location of the Queen. If you have specific information, adjust your play accordingly.\n",
      "\n",
      "Let me know if you have any other suit combinations you'd like me to analyze! I'm here to help.\n",
      "\n"
     ]
    }
   ],
   "source": [
    "print(zero_shot(GEMINI, \"\"\"\n",
    "You are a bridge expert. Guide me on how to play the given suit combination. \n",
    "\n",
    "Example 1:\n",
    "Q: Holding AKJx opposite xxx for no losers.\n",
    "A: You have 7 cards between the two hands, and the opponents have 6 cards including the Queen.\n",
    "To have no losers, you have to hope that the opponents' cards are split 3-3 and that\n",
    "the Queen is onside.  So, finesse the Jack and then play from the top.\n",
    "\n",
    "Example 2:\n",
    "Q: Holding AKJx opposite 5 small for no losers.\n",
    "A: You have 9 cards between the two hands, and the opponents have 4 cards including the Queen.\n",
    "If both opponents follow, then the most likely split is 2-2. Therefore, play for the Queen to drop.\n",
    "\n",
    "Example 3:\n",
    "Q: Holding AQxx opposite Txxx for one loser.\n",
    "A: You have 8 cards between the two hands, and the opponents have 5 cards including the King, Jack, and Ten.\n",
    "To have only one loser, you have to hope that one of the opponents has Kx or singleton King or Jack.\n",
    "So, play low to the Ace, to catch the potential singleton. If an honor falls, play low towards the remaining honor.\n",
    "If no honor falls, play small in both hands to catch the potential doubleton King.\n",
    "\n",
    "Q: Holding AKJxx opposite four small, for no losers\n",
    "\"\"\"))"
   ]
  },
  {
   "cell_type": "markdown",
   "id": "c628cbb3-cf43-41c3-94c1-49673867a008",
   "metadata": {},
   "source": [
    "Hopelessly wrong:  The expert line is to play the Ace, and then the King if the ten doesn’t fall on the right. If the ten falls, then come to hand in another suit and take the finesse."
   ]
  },
  {
   "cell_type": "code",
   "execution_count": null,
   "id": "34bf7d39-4e88-4fed-a743-8c597fd3d264",
   "metadata": {},
   "outputs": [],
   "source": []
  }
 ],
 "metadata": {
  "environment": {
   "kernel": "conda-base-py",
   "name": "workbench-notebooks.m126",
   "type": "gcloud",
   "uri": "us-docker.pkg.dev/deeplearning-platform-release/gcr.io/workbench-notebooks:m126"
  },
  "kernelspec": {
   "display_name": "Python 3 (ipykernel) (Local)",
   "language": "python",
   "name": "conda-base-py"
  },
  "language_info": {
   "codemirror_mode": {
    "name": "ipython",
    "version": 3
   },
   "file_extension": ".py",
   "mimetype": "text/x-python",
   "name": "python",
   "nbconvert_exporter": "python",
   "pygments_lexer": "ipython3",
   "version": "3.10.15"
  }
 },
 "nbformat": 4,
 "nbformat_minor": 5
}
