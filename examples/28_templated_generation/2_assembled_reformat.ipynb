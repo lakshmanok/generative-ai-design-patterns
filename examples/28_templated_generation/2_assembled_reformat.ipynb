{
 "cells": [
  {
   "cell_type": "markdown",
   "id": "45a56bb7-e753-4731-84ed-cdc1084f57e7",
   "metadata": {
    "tags": []
   },
   "source": [
    "## Assembled Reformat\n",
    "\n",
    "Example of creating product catalog pages."
   ]
  },
  {
   "cell_type": "code",
   "execution_count": 1,
   "id": "ffaacc11-e131-4170-ad1b-42bdf2e01b04",
   "metadata": {
    "tags": []
   },
   "outputs": [],
   "source": [
    "GEMINI=\"gemini-2.0-flash\"\n",
    "#OPENAI=\"gpt-4o-mini\"\n",
    "#CLAUDE=\"claude-3-7-sonnet-latest\"\n",
    "\n",
    "import os\n",
    "from dotenv import load_dotenv\n",
    "load_dotenv(\"../keys.env\")\n",
    "assert os.environ[\"GEMINI_API_KEY\"][:2] == \"AI\",\\\n",
    "       \"Please specify the GEMINI_API_KEY access token in keys.env file\"\n",
    "#assert os.environ[\"ANTHROPIC_API_KEY\"][:2] == \"sk\",\\\n",
    "#       \"Please specify the ANTHROPIC_API_KEY access token in keys.env file\"\n",
    "#assert os.environ[\"OPENAI_API_KEY\"][:2] == \"sk\",\\\n",
    "#       \"Please specify the OPENAI_API_KEY access token in keys.env file\""
   ]
  },
  {
   "cell_type": "code",
   "execution_count": 2,
   "id": "b9fcb201-d306-40ad-b430-1093f76e8bfb",
   "metadata": {
    "tags": []
   },
   "outputs": [],
   "source": [
    "# Needed in Jupyter environment See: https://ai.pydantic.dev/troubleshooting/ \n",
    "import nest_asyncio\n",
    "nest_asyncio.apply()"
   ]
  },
  {
   "cell_type": "markdown",
   "id": "2e3782e9-d901-4255-acae-0201fdbb64f8",
   "metadata": {
    "tags": []
   },
   "source": [
    "## Gather snippets of information from database\n",
    "\n",
    "For the items"
   ]
  },
  {
   "cell_type": "code",
   "execution_count": 7,
   "id": "8f9489df-4cb3-40b9-b522-4a3f0b0a07bb",
   "metadata": {},
   "outputs": [
    {
     "name": "stdout",
     "output_type": "stream",
     "text": [
      "CatalogContent(part_name='wet_end', part_id='X34521PL', part_description='The wet end of a paper machine is the section where the paper web is formed. It is arguably the most important section of the machine.', failure_modes=['Web breaks', 'Uneven sheet formation', 'Poor drainage'], warranty_period=3, price='$23295')\n"
     ]
    }
   ],
   "source": [
    "from dataclasses import dataclass\n",
    "from pydantic import Field\n",
    "\n",
    "@dataclass\n",
    "class CatalogContent:\n",
    "    part_name: str = Field(\"Common name of part\")\n",
    "    part_id: str = Field(\"unique part id in catalog\")\n",
    "    part_description: str = Field(\"One paragraph description of part, which is one of the parts of a paper machine, explaining its purpose.\")\n",
    "    failure_modes: list[str] = Field(\"list of common reasons why customer might need to replace this part.\")\n",
    "    warranty_period: int = Field(\"number of years that the part is under warranty\")\n",
    "    price: str = Field(\"price of part\")\n",
    "\n",
    "def add_description(item: CatalogContent) -> CatalogContent:\n",
    "    from pydantic_ai import Agent\n",
    "    agent = Agent(GEMINI,\n",
    "                  system_prompt=\"\"\"\n",
    "                  You are a content writer for a manufacturer of paper machines.\n",
    "                  \"\"\",\n",
    "                  model_settings = {\n",
    "                      \"temperature\": 0.1   # not too creative??\n",
    "                  },\n",
    "                 result_type=CatalogContent)\n",
    "    prompt=f\"\"\"\n",
    "    Write content that will go in the Replacement Parts part of the manufacturer's website.\n",
    "    I will give you an incomplete catalog content. Fill in the remaining fields.\n",
    "    \n",
    "    **Input**\n",
    "    {item}\n",
    "    \"\"\"\n",
    "    result = agent.run_sync(prompt)\n",
    "    return result.data\n",
    "\n",
    "item = add_description(CatalogContent(\"wet_end\", \"X34521PL\", None, None, 3, \"$23295\"))\n",
    "print(item)"
   ]
  },
  {
   "cell_type": "markdown",
   "id": "c79cabaf-913d-47b6-9b84-ffd24c1c08ab",
   "metadata": {},
   "source": [
    "## Generate content"
   ]
  },
  {
   "cell_type": "code",
   "execution_count": 8,
   "id": "814003e4-4f14-49d2-9c66-419829e3d91e",
   "metadata": {},
   "outputs": [
    {
     "name": "stdout",
     "output_type": "stream",
     "text": [
      "```markdown\n",
      "# Maximize Uptime and Paper Quality with Genuine Wet End Replacement Parts\n",
      "\n",
      "Is your paper machine's wet end performing optimally? The wet end is the heart of your paper production, and its performance directly impacts sheet formation, drainage, and ultimately, your profitability.  Don't let worn or damaged components compromise your paper quality or lead to costly downtime.  We offer a comprehensive range of genuine replacement parts for your paper machine's wet end, engineered to the highest standards for performance and longevity.\n",
      "\n",
      "## The Importance of a High-Performing Wet End\n",
      "\n",
      "The wet end is where the magic happens – the initial formation of the paper web.  A poorly functioning wet end can lead to a cascade of problems, including:\n",
      "\n",
      "*   **Web Breaks:** Frequent web breaks are a major source of downtime and wasted materials.\n",
      "*   **Uneven Sheet Formation:** Inconsistent sheet formation results in lower quality paper and potential customer complaints.\n",
      "*   **Poor Drainage:** Inefficient drainage reduces machine speed and increases energy consumption.\n",
      "\n",
      "Investing in genuine replacement parts for your wet end is an investment in the overall efficiency and quality of your paper production.\n",
      "\n",
      "## Introducing the X34521PL Wet End Replacement Part\n",
      "\n",
      "Specifically designed for [mention specific paper machine models or types this part fits], the **X34521PL Wet End Replacement Part** is engineered to restore your machine's performance and minimize downtime.\n",
      "\n",
      "**[Placeholder for Image:  A high-quality image of the X34521PL Wet End Replacement Part.  Ideally, the image should show the part clearly and in a professional setting.  Consider including a person in the image for scale.  Alt text: \"X34521PL Wet End Replacement Part for Paper Machines\"]**\n",
      "\n",
      "*Image Description: A close-up view of the X34521PL Wet End Replacement Part. The image highlights the precision engineering and robust construction of the component.  The background is a clean, industrial setting.*\n",
      "\n",
      "**Part Details:**\n",
      "\n",
      "*   **Part Name:** Wet End\n",
      "*   **Part ID:** X34521PL\n",
      "*   **Description:** The wet end of a paper machine is the section where the paper web is formed. It is arguably the most important section of the machine.\n",
      "*   **Common Failure Modes Addressed:**\n",
      "    *   Web breaks\n",
      "    *   Uneven sheet formation\n",
      "    *   Poor drainage\n",
      "*   **Warranty Period:** 3 years\n",
      "*   **Price:** $23295\n",
      "\n",
      "## Why Choose Genuine Replacement Parts?\n",
      "\n",
      "While aftermarket parts may seem like a cost-effective solution, they often fall short in terms of quality, performance, and longevity.  Choosing genuine replacement parts from us ensures:\n",
      "\n",
      "*   **Optimal Performance:**  Our parts are designed to perfectly match your machine's specifications, guaranteeing optimal performance and efficiency.\n",
      "*   **Extended Lifespan:**  Manufactured with high-quality materials and rigorous testing, our parts are built to last, reducing the need for frequent replacements.\n",
      "*   **Reduced Downtime:**  Precise fit and reliable performance minimize the risk of breakdowns and costly downtime.\n",
      "*   **Warranty Protection:**  Our parts are backed by a comprehensive warranty, providing peace of mind and protecting your investment.\n",
      "*   **Expert Support:** Our team of experienced engineers and technicians is available to provide technical support and assistance with installation and maintenance.\n",
      "\n",
      "## Invest in the Future of Your Paper Production\n",
      "\n",
      "Don't compromise on quality or risk costly downtime.  Choose genuine replacement parts for your paper machine's wet end and ensure optimal performance, extended lifespan, and reliable operation.\n",
      "\n",
      "**Contact us today for a quote or to learn more about the X34521PL Wet End Replacement Part and our full range of paper machine replacement parts!**  [Link to Contact Page]\n",
      "\n",
      "**Keywords:** Wet End, Paper Machine, Replacement Parts, Paper Mill, Paper Manufacturing, X34521PL, Web Breaks, Sheet Formation, Drainage, Paper Quality, Machine Downtime, Genuine Parts, Warranty, Paper Industry\n",
      "```\n",
      "\n"
     ]
    }
   ],
   "source": [
    "from pydantic_ai import Agent\n",
    "agent = Agent(GEMINI,\n",
    "              system_prompt=\"\"\"You are a content marketer for a manufacturer of paper machines.\"\"\",\n",
    "              model_settings = {\n",
    "                      \"temperature\": 0.6   # creative\n",
    "              })\n",
    "prompt=f\"\"\"\n",
    "Write content in Markdown that will go in the Replacement Parts part of the manufacturer's website.\n",
    "Include a placeholder for an images, and include a description of the image.\n",
    "Optimize the content for SEO. Also make it appealing to potential buyers.\n",
    "\n",
    "**Part Information:**\n",
    "{item}\n",
    "\"\"\"\n",
    "result = agent.run_sync(prompt)\n",
    "print(result.data)"
   ]
  },
  {
   "cell_type": "code",
   "execution_count": null,
   "id": "f487cc95-d26a-4436-94b9-9949a1d0f1b4",
   "metadata": {},
   "outputs": [],
   "source": []
  }
 ],
 "metadata": {
  "environment": {
   "kernel": "conda-base-py",
   "name": "workbench-notebooks.m126",
   "type": "gcloud",
   "uri": "us-docker.pkg.dev/deeplearning-platform-release/gcr.io/workbench-notebooks:m126"
  },
  "kernelspec": {
   "display_name": "Python 3 (ipykernel) (Local)",
   "language": "python",
   "name": "conda-base-py"
  },
  "language_info": {
   "codemirror_mode": {
    "name": "ipython",
    "version": 3
   },
   "file_extension": ".py",
   "mimetype": "text/x-python",
   "name": "python",
   "nbconvert_exporter": "python",
   "pygments_lexer": "ipython3",
   "version": "3.10.15"
  }
 },
 "nbformat": 4,
 "nbformat_minor": 5
}
